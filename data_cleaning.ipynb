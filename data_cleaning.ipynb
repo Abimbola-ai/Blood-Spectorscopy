{
  "cells": [
    {
      "cell_type": "markdown",
      "metadata": {
        "id": "1qS1zIa7A23P"
      },
      "source": [
        "Research Links:\n",
        "* https://www.researchgate.net/publication/258716133_Miniature_Near-Infrared_NIR_Spectrometer_Engine_For_Handheld_Applications\n",
        "\n",
        "* https://journals.sagepub.com/doi/abs/10.1255/jnirs.1084"
      ]
    },
    {
      "cell_type": "code",
      "source": [
        "#!pip install -q efficientnet"
      ],
      "metadata": {
        "colab": {
          "base_uri": "https://localhost:8080/"
        },
        "id": "7W6r9Oa6BNoV",
        "outputId": "705cc8d6-b278-47e5-b682-91c05f40fdad"
      },
      "execution_count": 2,
      "outputs": [
        {
          "output_type": "stream",
          "name": "stdout",
          "text": [
            "\u001b[?25l\r\u001b[K     |██████▌                         | 10 kB 34.3 MB/s eta 0:00:01\r\u001b[K     |█████████████                   | 20 kB 39.1 MB/s eta 0:00:01\r\u001b[K     |███████████████████▍            | 30 kB 22.8 MB/s eta 0:00:01\r\u001b[K     |█████████████████████████▉      | 40 kB 18.8 MB/s eta 0:00:01\r\u001b[K     |████████████████████████████████| 50 kB 4.2 MB/s \n",
            "\u001b[?25h"
          ]
        }
      ]
    },
    {
      "cell_type": "code",
      "execution_count": 3,
      "metadata": {
        "id": "EhJkW6dsA23S"
      },
      "outputs": [],
      "source": [
        "import pandas as pd\n",
        "import ssl\n",
        "from sklearn.cluster import KMeans\n",
        "import numpy as np\n",
        "import json\n",
        "import random, string\n",
        "import seaborn as sns\n",
        "import matplotlib.pyplot as plt\n",
        "from tqdm import tqdm\n",
        "# import sweetviz as sv\n",
        "tqdm.pandas()\n",
        "from sklearn.preprocessing import LabelEncoder\n",
        "from sklearn.metrics import accuracy_score\n",
        "import matplotlib.pyplot as plt\n",
        "\n",
        "from sklearn.model_selection import train_test_split,cross_val_score, StratifiedKFold, StratifiedShuffleSplit, GroupKFold\n",
        "from sklearn.metrics import accuracy_score,confusion_matrix,recall_score,precision_recall_curve, f1_score, roc_auc_score\n",
        "from sklearn.preprocessing import StandardScaler\n",
        "from sklearn.ensemble import RandomForestClassifier\n",
        "from sklearn.preprocessing import LabelEncoder\n",
        "# from lightgbm import LGBMClassifier\n",
        "# import lightgbm as lgb\n",
        "# from xgboost import XGBClassifier\n",
        "# from catboost import CatBoostClassifier\n",
        "import tensorflow as tf\n",
        "import tensorflow.keras.layers as L\n",
        "\n",
        "import efficientnet.tfkeras as efn\n",
        "%matplotlib inline\n",
        "sns.set_style(\"whitegrid\")\n",
        "seed = 42\n",
        "\n",
        "ssl._create_default_https_context = ssl._create_unverified_context\n"
      ]
    },
    {
      "cell_type": "code",
      "execution_count": null,
      "metadata": {
        "id": "1kJP7InwA23T"
      },
      "outputs": [],
      "source": [
        "# Import the dataset\n",
        "train = pd.read_csv('Data/Updated_Train.csv', index_col=0)\n",
        "test = pd.read_csv('Data/Updated_Test.csv', index_col=0)\n",
        "# train_trimmed = pd.read_csv('Data/Updated_Train_trimmed.csv', index_col=0)\n",
        "# test_trimmed = pd.read_csv(\"Data/Updated_Test_trimmed.csv\", index_col=0)\n",
        "spectra_hgb = pd.read_csv('Data/Spectra_hgb.csv', index_col=0).reset_index()\n",
        "spectra_chol = pd.read_csv('Data/Spectra_chl.csv', index_col=0)\n",
        "spectra_glu = pd.read_csv('Data/Spectra_gluc.csv', index_col=0).reset_index()\n",
        "spectra_skinfatblood = pd.read_csv('Data/Spectra_skinfatblood.csv', index_col=0)\n"
      ]
    },
    {
      "cell_type": "markdown",
      "metadata": {
        "id": "_sUh7iOBA23T"
      },
      "source": [
        "### **Exploratory Data Analysis**"
      ]
    },
    {
      "cell_type": "code",
      "execution_count": null,
      "metadata": {
        "id": "y8XOCXwDA23U"
      },
      "outputs": [],
      "source": [
        "train.head()"
      ]
    },
    {
      "cell_type": "code",
      "execution_count": null,
      "metadata": {
        "id": "sKrH-dx_A23U"
      },
      "outputs": [],
      "source": [
        "test.head()"
      ]
    },
    {
      "cell_type": "markdown",
      "metadata": {
        "id": "V5NeCvElA23U"
      },
      "source": [
        "Removing donation_id 6824 from the train data as the data producer said it is not good."
      ]
    },
    {
      "cell_type": "code",
      "execution_count": null,
      "metadata": {
        "id": "lQo9zswnA23V"
      },
      "outputs": [],
      "source": [
        "dropped_index =  train[train[\"donation_id\"] == 6824].index \n",
        "train_d = train.drop(dropped_index)\n",
        "print(f\"Train data shape is:\",train_d.shape)\n",
        "print(f\"Test data shape is:\",test.shape)"
      ]
    },
    {
      "cell_type": "markdown",
      "metadata": {
        "id": "_1EfqbqAA23V"
      },
      "source": [
        "`Reading_ID` is in test but not in train. There are three target columns in the train dataset, `hdl_cholesterol_human`, `hemoglobin(hgb)_human`, and `cholesterol_ldl_human` - Multi target data. \n",
        "\n",
        "The data from each samples are repeated about 60 times at different temperatures and humidity which were said to affect the spectrum data. This might cause overfitting if fed into the model. How do I segment this data? "
      ]
    },
    {
      "cell_type": "code",
      "execution_count": null,
      "metadata": {
        "id": "tBAlms1kA23W"
      },
      "outputs": [],
      "source": [
        "print(f\"There are\",train_d[\"donation_id\"].nunique(), \"donation ids in the dataset\")"
      ]
    },
    {
      "cell_type": "code",
      "execution_count": null,
      "metadata": {
        "id": "u0cRToSpA23W"
      },
      "outputs": [],
      "source": [
        "train_d.describe()"
      ]
    },
    {
      "cell_type": "markdown",
      "metadata": {
        "id": "i9fj_NOYA23W"
      },
      "source": [
        "There seems to be no outlier in the dataset. "
      ]
    },
    {
      "cell_type": "code",
      "execution_count": null,
      "metadata": {
        "id": "aZbw3nxBA23W"
      },
      "outputs": [],
      "source": [
        "# Check the unique values of the targets\n",
        "print(train_d[\"hdl_cholesterol_human\"].unique())\n",
        "print(train_d[\"hemoglobin(hgb)_human\"].unique())\n",
        "print(train_d[\"cholesterol_ldl_human\"].unique())"
      ]
    },
    {
      "cell_type": "markdown",
      "metadata": {
        "id": "YiTpuFQrA23X"
      },
      "source": [
        "This looks uniform, all target variables are classified into `low`, `ok` and `high`."
      ]
    },
    {
      "cell_type": "code",
      "execution_count": null,
      "metadata": {
        "id": "3U4chc_TA23X"
      },
      "outputs": [],
      "source": [
        "# # Trim the train and test data of the noise\n",
        "# abs_to_drop = ['absorbance0', 'absorbance1', 'absorbance2', 'absorbance3',\n",
        "#        'absorbance4', 'absorbance5', 'absorbance6', 'absorbance7',\n",
        "#        'absorbance8', 'absorbance9','absorbance10', 'absorbance159', 'absorbance160', 'absorbance161',\n",
        "#        'absorbance162', 'absorbance163', 'absorbance164', 'absorbance165',\n",
        "#        'absorbance166', 'absorbance167','absorbance168', 'absorbance169']\n",
        "# train_trim = train.drop(columns = abs_to_drop, axis=1)\n",
        "# test_trim = test.drop(columns = abs_to_drop, axis=1)"
      ]
    },
    {
      "cell_type": "code",
      "execution_count": null,
      "metadata": {
        "id": "5C8gv7P8A23X"
      },
      "outputs": [],
      "source": [
        "# Check for missing value\n",
        "print(str(train_d.isnull().sum().sum()) + \" missing value in train\")\n",
        "print(str(test.isnull().sum().sum()) + \" missing value in test\")"
      ]
    },
    {
      "cell_type": "code",
      "execution_count": null,
      "metadata": {
        "id": "53DTQrFwA23X"
      },
      "outputs": [],
      "source": [
        "def find_correlated_features(df, threshold, target_variable1, target_variable2, target_variable3):\n",
        "    # remove target column\n",
        "    df = df.drop(columns=[target_variable1,target_variable2, target_variable3]).copy()\n",
        "    # Get correlation matrix\n",
        "    corr_matrix = df.corr().abs()\n",
        "    # Take half of the matrix to prevent doubling results\n",
        "    corr_matrix = corr_matrix.where(np.triu(np.ones(corr_matrix.shape), k = 1).astype(bool))\n",
        "    # Restructure correlation matrix to dataframe\n",
        "    df = corr_matrix.stack().reset_index()\n",
        "    df.columns = ['feature1', 'feature2', 'corr_coef']\n",
        "    # Apply filter and sort coefficients\n",
        "    df = df[df.corr_coef >= threshold].sort_values('corr_coef', ascending=False)\n",
        "    return df"
      ]
    },
    {
      "cell_type": "code",
      "execution_count": null,
      "metadata": {
        "id": "kdWFfFRBA23X"
      },
      "outputs": [],
      "source": [
        "# Correlation analysis\n",
        "find_correlated_features(train_d,0.7,'hdl_cholesterol_human', 'cholesterol_ldl_human', 'hemoglobin(hgb)_human')"
      ]
    },
    {
      "cell_type": "code",
      "execution_count": null,
      "metadata": {
        "id": "p0jCZCgOA23X"
      },
      "outputs": [],
      "source": [
        "train = train_trimmed.copy()\n",
        "test = test_trimmed.copy()\n",
        "targets = ['hdl_cholesterol_human', 'cholesterol_ldl_human', 'hemoglobin(hgb)_human']\n",
        "features = [col for col in train.columns if (\"absorbance\" in col)] + [\"temperature\", \"humidity\"]"
      ]
    },
    {
      "cell_type": "code",
      "execution_count": null,
      "metadata": {
        "id": "29IeW2LQA23X"
      },
      "outputs": [],
      "source": [
        "train.head()"
      ]
    },
    {
      "cell_type": "code",
      "execution_count": null,
      "metadata": {
        "id": "Xpl9vBflA23Y"
      },
      "outputs": [],
      "source": [
        "report = sv.analyze(train_trimmed)\n",
        "report.show_html('report.html')"
      ]
    },
    {
      "cell_type": "code",
      "execution_count": null,
      "metadata": {
        "id": "VwSLSLyYA23Y"
      },
      "outputs": [],
      "source": [
        "# #Plotting heatmap\n",
        "# def half_masked_corr_heatmap(dataframe, title=None, file=None):\n",
        "#     plt.figure(figsize=(20,10))\n",
        "#     sns.set(font_scale=1)\n",
        "#     mask = np.zeros_like(dataframe.corr())\n",
        "#     mask[np.triu_indices_from(mask)] =  True\n",
        "\n",
        "#     with sns.axes_style(\"white\"):\n",
        "#         sns.heatmap(dataframe.corr(), mask=mask, annot=True, cmap=\"coolwarm\")\n",
        "#     if title:\n",
        "#         plt.title(f\"\\n{title}\\n\", fontsize=18)\n",
        "#         plt.xlabel(\"\")\n",
        "#         plt.ylabel(\"\")\n",
        "#         plt.show()\n",
        "#     return\n",
        "\n",
        "# half_masked_corr_heatmap(train_trimmed, \"Absorbance correlation heatmap\")"
      ]
    },
    {
      "cell_type": "code",
      "execution_count": null,
      "metadata": {
        "id": "5wh911GwA23Y"
      },
      "outputs": [],
      "source": [
        "#train.drop(columns = targets, axis = 1)"
      ]
    },
    {
      "cell_type": "code",
      "execution_count": null,
      "metadata": {
        "id": "JvuUd9EeA23Y"
      },
      "outputs": [],
      "source": [
        "# train_df = train_copy[features].copy()\n",
        "# test_df = test[features].copy()"
      ]
    },
    {
      "cell_type": "markdown",
      "metadata": {
        "id": "mcqRe2m6A23Y"
      },
      "source": [
        "#### Spectra Data"
      ]
    },
    {
      "cell_type": "markdown",
      "metadata": {
        "id": "G9hpOfa_A23Y"
      },
      "source": [
        " -  Spectra Heamoglobin - Oxyhemoglobin"
      ]
    },
    {
      "cell_type": "code",
      "execution_count": null,
      "metadata": {
        "id": "TPvtB9xMA23Y"
      },
      "outputs": [],
      "source": [
        "# oxy_hgb = spectra_hgb[['HbO2', 'Unnamed: 4']]\n",
        "# oxy_hgb = spectra_hgb.rename(columns = {'Unnamed: 4' : 'absorbances'})\n",
        "# oxy_hgb = oxy_hgb.iloc[1:,3:5]\n",
        "# oxy_hgb = oxy_hgb.astype(float)\n",
        "# # Plot the values\n",
        "# plt.title(\"Plot of Oxygenated blood against absorbances\")\n",
        "# sns.lineplot(data = oxy_hgb, x = 'HbO2', y = 'absorbances');"
      ]
    },
    {
      "cell_type": "markdown",
      "metadata": {
        "id": "Jt69wgRLA23Y"
      },
      "source": [
        " -  Spectra Heamoglobin - Deoxyhemoglobin"
      ]
    },
    {
      "cell_type": "code",
      "execution_count": null,
      "metadata": {
        "id": "0DQjK0skA23Y"
      },
      "outputs": [],
      "source": [
        "# deoxy_hgb = spectra_hgb[['Hb', 'Unnamed: 1']]\n",
        "# deoxy_hgb = spectra_hgb.rename(columns = {'Unnamed: 1' : 'absorbances'}).reset_index()\n",
        "# deoxy_hgb = deoxy_hgb.iloc[1:,1:3]\n",
        "# deoxy_hgb = deoxy_hgb.astype(float)\n",
        "# # Plot the values\n",
        "# plt.title(\"Plot of Deoxygenated blood against absorbances\")\n",
        "# sns.lineplot(data = deoxy_hgb, x = 'Hb', y = 'absorbances');"
      ]
    },
    {
      "cell_type": "code",
      "execution_count": null,
      "metadata": {
        "id": "LypJ10zOA23Y"
      },
      "outputs": [],
      "source": [
        "# deoxy_hgb['Hgb_high_1'] = list(train[train['hemoglobin(hgb)_human'] == 'high'].iloc[0][0:148].values)\n",
        "# deoxy_hgb['Hgb_high_2'] = list(train[train['hemoglobin(hgb)_human'] == 'high'].iloc[1000][0:148].values)\n",
        "# deoxy_hgb['Hgb_low_1'] = list(train[train['hemoglobin(hgb)_human'] == 'low'].iloc[0][0:148].values)\n",
        "# deoxy_hgb['Hgb_low_2'] = list(train[train['hemoglobin(hgb)_human'] == 'low'].iloc[1000][0:148].values)\n",
        "# deoxy_hgb['Hgb_ok_1'] = list(train[train['hemoglobin(hgb)_human'] == 'ok'].iloc[0][0:148].values)\n",
        "# deoxy_hgb['Hgb_ok_2'] = list(train[train['hemoglobin(hgb)_human'] == 'ok'].iloc[1000][0:148].values)\n",
        "# deoxy_hgb.head()"
      ]
    },
    {
      "cell_type": "code",
      "execution_count": null,
      "metadata": {
        "id": "fulhUTBMA23Y"
      },
      "outputs": [],
      "source": [
        "# plt.title(\"Plot of Oxygenated blood against heamoglobin high absorbances\")\n",
        "# sns.lineplot(data = deoxy_hgb, x = 'Hb', y = 'Hgb_high_1');"
      ]
    },
    {
      "cell_type": "code",
      "execution_count": null,
      "metadata": {
        "id": "OBcvSKhOA23Z"
      },
      "outputs": [],
      "source": [
        "# plt.title(\"Plot of Oxygenated blood against heamoglobin high absorbances\")\n",
        "# sns.lineplot(data = deoxy_hgb, x = 'Hb', y = 'Hgb_high_2');"
      ]
    },
    {
      "cell_type": "code",
      "execution_count": null,
      "metadata": {
        "id": "TSXTnIEXA23Z"
      },
      "outputs": [],
      "source": [
        "# plt.title(\"Plot of Oxygenated blood against heamoglobin low absorbances\")\n",
        "# sns.lineplot(data = deoxy_hgb, x = 'Hb', y = 'Hgb_high_1');"
      ]
    },
    {
      "cell_type": "code",
      "execution_count": null,
      "metadata": {
        "id": "W-c3aOwVA23Z"
      },
      "outputs": [],
      "source": [
        "# plt.title(\"Plot of Oxygenated blood against heamoglobin low absorbances\")\n",
        "# sns.lineplot(data = deoxy_hgb, x = 'Hb', y = 'Hgb_low_2');"
      ]
    },
    {
      "cell_type": "code",
      "execution_count": null,
      "metadata": {
        "id": "lkKaemTNA23Z"
      },
      "outputs": [],
      "source": [
        "# plt.title(\"Plot of Oxygenated blood against heamoglobin ok absorbances\")\n",
        "# sns.lineplot(data = deoxy_hgb, x = 'Hb', y = 'Hgb_ok_1');"
      ]
    },
    {
      "cell_type": "code",
      "execution_count": null,
      "metadata": {
        "id": "abHt9AivA23Z"
      },
      "outputs": [],
      "source": [
        "# plt.title(\"Plot of Oxygenated blood against heamoglobin ok absorbances\")\n",
        "# sns.lineplot(data = deoxy_hgb, x = 'Hb', y = 'Hgb_ok_2');"
      ]
    },
    {
      "cell_type": "markdown",
      "metadata": {
        "id": "JvzgMm1FA23Z"
      },
      "source": [
        " -  Spectra Data - Cholesterol"
      ]
    },
    {
      "cell_type": "code",
      "execution_count": null,
      "metadata": {
        "id": "9vMJfES_A23Z"
      },
      "outputs": [],
      "source": [
        "# spectral_chols = spectra_chol.rename(columns = {'Unnamed: 1' : 'absorbances'}).reset_index()\n",
        "# spectral_chols = spectral_chols.iloc[1:,0:2]\n",
        "# spectral_chols = spectral_chols.astype(float)\n",
        "# # Plot the values\n",
        "# plt.title(\"Plot of Cholesterol against absorbances\")\n",
        "# sns.lineplot(data = spectral_chols, x = 'Cholesterol', y = 'absorbances');"
      ]
    },
    {
      "cell_type": "code",
      "execution_count": null,
      "metadata": {
        "id": "eGaYa2hYA23Z"
      },
      "outputs": [],
      "source": [
        "train.columns"
      ]
    },
    {
      "cell_type": "code",
      "execution_count": null,
      "metadata": {
        "id": "JlN_hOU-A23Z"
      },
      "outputs": [],
      "source": [
        "# spectral_chols['chol_high_1'] = list(train[train['hdl_cholesterol_human'] == 'high'].iloc[0][0:170].values)\n",
        "# spectral_chols['chol_high_2'] = list(train[train['hdl_cholesterol_human'] == 'high'].iloc[1000][0:170].values)\n",
        "# spectral_chols['chol_low_1'] = list(train[train['hdl_cholesterol_human'] == 'low'].iloc[0][0:170].values)\n",
        "# spectral_chols['chol_low_2'] = list(train[train['hdl_cholesterol_human'] == 'low'].iloc[1000][0:170].values)\n",
        "# spectral_chols['chol_ok_1'] = list(train[train['hdl_cholesterol_human'] == 'ok'].iloc[500][0:170].values)\n",
        "# spectral_chols['chol_ok_2'] = list(train[train['hdl_cholesterol_human'] == 'ok'].iloc[1000][0:170].values)\n",
        "# spectral_chols.head()"
      ]
    },
    {
      "cell_type": "markdown",
      "metadata": {
        "id": "TKKRPIGeA23Z"
      },
      "source": [
        " -  Spectra Heamoglobin - Skin Fat Blood"
      ]
    },
    {
      "cell_type": "code",
      "execution_count": null,
      "metadata": {
        "id": "mxviOmDpA23Z"
      },
      "outputs": [],
      "source": [
        "# spectral_skin = spectra_skinfatblood.rename(columns = {'Unnamed: 1' : 'absorbances'}).reset_index()\n",
        "# spectral_skin = spectral_skin.iloc[1:,0:2]\n",
        "# spectral_skin = spectral_skin.astype(float)\n",
        "# # Plot the values\n",
        "# plt.title(\"Plot of Skin against absorbances\")\n",
        "# sns.lineplot(data = spectral_skin, x = 'Skin', y = 'absorbances');"
      ]
    },
    {
      "cell_type": "code",
      "execution_count": null,
      "metadata": {
        "id": "EXtaPUBMA23Z"
      },
      "outputs": [],
      "source": [
        "# spectral_skin['skin_high_1'] = list(train[train['hdl_cholesterol_human'] == 'high'].iloc[0][0:170].values)\n",
        "# spectral_skin['skin_high_2'] = list(train[train['hdl_cholesterol_human'] == 'high'].iloc[1000][0:170].values)\n",
        "# spectral_skin['skin_low_1']= list(train[train['hdl_cholesterol_human'] == 'low'].iloc[0][0:170].values)\n",
        "# spectral_skin['skin_low_2'] = list(train[train['hdl_cholesterol_human'] == 'low'].iloc[1000][0:170].values)\n",
        "# spectral_skin['skin_ok_1'] = list(train[train['hdl_cholesterol_human'] == 'ok'].iloc[500][0:170].values)\n",
        "# spectral_skin['skin_ok_2']= list(train[train['hdl_cholesterol_human'] == 'ok'].iloc[1000][0:170].values)\n",
        "# spectral_skin.head()"
      ]
    },
    {
      "cell_type": "code",
      "execution_count": null,
      "metadata": {
        "id": "tGCSNT4CA23Z"
      },
      "outputs": [],
      "source": [
        "# spectral_fat = spectra_skinfatblood.rename(columns = {'Unnamed: 4' : 'absorbances'}).reset_index()\n",
        "# spectral_fat = spectral_fat.iloc[1:,3:5]\n",
        "# spectral_fat = spectral_fat.astype(float)\n",
        "# # Plot the values\n",
        "# plt.title(\"Plot of Fat against absorbances\")\n",
        "# sns.lineplot(data = spectral_fat, x = 'Fat', y = 'absorbances');"
      ]
    },
    {
      "cell_type": "code",
      "execution_count": null,
      "metadata": {
        "id": "FcmcY0mlA23Z"
      },
      "outputs": [],
      "source": [
        "# spectral_skin['skin_high_1'] = list(train[train['hdl_cholesterol_human'] == 'high'].iloc[0][0:170].values)\n",
        "# spectral_skin['skin_high_2'] = list(train[train['hdl_cholesterol_human'] == 'high'].iloc[1000][0:170].values)\n",
        "# spectral_skin['skin_low_1']= list(train[train['hdl_cholesterol_human'] == 'low'].iloc[0][0:170].values)\n",
        "# spectral_skin['skin_low_2'] = list(train[train['hdl_cholesterol_human'] == 'low'].iloc[1000][0:170].values)\n",
        "# spectral_skin['skin_ok_1'] = list(train[train['hdl_cholesterol_human'] == 'ok'].iloc[500][0:170].values)\n",
        "# spectral_skin['skin_ok_2']= list(train[train['hdl_cholesterol_human'] == 'ok'].iloc[1000][0:170].values)"
      ]
    },
    {
      "cell_type": "code",
      "execution_count": null,
      "metadata": {
        "id": "ootO3VvMA23a"
      },
      "outputs": [],
      "source": [
        "# spectral_blood = spectra_skinfatblood.rename(columns = {'Unnamed: 7' : 'absorbances'}).reset_index()\n",
        "# spectral_blood = spectral_blood.iloc[1:,6:8]\n",
        "# spectral_blood = spectral_blood.astype(float)\n",
        "# # Plot the values\n",
        "# plt.title(\"Plot of Deoxygenated whole blood against absorbances\")\n",
        "# sns.lineplot(data = spectral_blood, x = 'Deoxygenated whole blood', y = 'absorbances');"
      ]
    },
    {
      "cell_type": "code",
      "execution_count": null,
      "metadata": {
        "id": "k3PP6dfKA23a"
      },
      "outputs": [],
      "source": [
        "# trimmed_range = list(test_trimmed.columns[2:150])"
      ]
    },
    {
      "cell_type": "code",
      "execution_count": null,
      "metadata": {
        "id": "4CJITfn2A23a"
      },
      "outputs": [],
      "source": [
        "# wavelengths = list(spectra_glu[1:]['Glucose'])\n",
        "\n",
        "# absorbance_dict = dict()\n",
        "\n",
        "# val = 0\n",
        "\n",
        "# for wave in wavelengths:\n",
        "    \n",
        "#     absorbance_dict[f'absorbance{val}'] = wave\n",
        "    \n",
        "#     val += 1"
      ]
    },
    {
      "cell_type": "code",
      "execution_count": null,
      "metadata": {
        "id": "6Os_eaP4A23a"
      },
      "outputs": [],
      "source": [
        "# absorbance_dict"
      ]
    },
    {
      "cell_type": "code",
      "execution_count": null,
      "metadata": {
        "id": "yjzM_Y90A23a"
      },
      "outputs": [],
      "source": [
        "# #create dictionary to convert absorbance to it's equivalent wavelength range\n",
        "\n",
        "# trimmed_absorbances = dict()\n",
        "\n",
        "# val = 11\n",
        "\n",
        "# for trimmed in trimmed_range:\n",
        "    \n",
        "#     trimmed_absorbances[trimmed] = f'absorbance{val}'\n",
        "    \n",
        "#     val += 1"
      ]
    },
    {
      "cell_type": "code",
      "execution_count": null,
      "metadata": {
        "id": "Qujg5TUEA23a"
      },
      "outputs": [],
      "source": [
        "# trimmed_absorbances"
      ]
    },
    {
      "cell_type": "code",
      "execution_count": null,
      "metadata": {
        "id": "2E-I3D8NA23a"
      },
      "outputs": [],
      "source": [
        "# train['tag'] = 'train'\n",
        "# test['tag'] = 'test'\n",
        "# all_data = pd.concat([train, test])"
      ]
    },
    {
      "cell_type": "code",
      "execution_count": null,
      "metadata": {
        "id": "WSTFVeETA23a"
      },
      "outputs": [],
      "source": [
        "# deoxy_hgb"
      ]
    },
    {
      "cell_type": "code",
      "execution_count": null,
      "metadata": {
        "id": "QcdMvgyMA23a"
      },
      "outputs": [],
      "source": [
        ""
      ]
    },
    {
      "cell_type": "code",
      "execution_count": null,
      "metadata": {
        "id": "zRuxXGKVA23a"
      },
      "outputs": [],
      "source": [
        ""
      ]
    }
  ],
  "metadata": {
    "interpreter": {
      "hash": "aee8b7b246df8f9039afb4144a1f6fd8d2ca17a180786b69acc140d282b71a49"
    },
    "kernelspec": {
      "display_name": "Python 3",
      "language": "python",
      "name": "python3"
    },
    "language_info": {
      "codemirror_mode": {
        "name": "ipython",
        "version": 3
      },
      "file_extension": ".py",
      "mimetype": "text/x-python",
      "name": "python",
      "nbconvert_exporter": "python",
      "pygments_lexer": "ipython3",
      "version": "3.9.7"
    },
    "colab": {
      "name": "data_cleaning.ipynb",
      "provenance": []
    }
  },
  "nbformat": 4,
  "nbformat_minor": 0
}