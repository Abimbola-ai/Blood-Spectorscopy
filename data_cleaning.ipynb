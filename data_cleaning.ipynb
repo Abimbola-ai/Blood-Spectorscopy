{
  "cells": [
    {
      "cell_type": "markdown",
      "metadata": {
        "colab_type": "text",
        "id": "view-in-github"
      },
      "source": [
        "<a href=\"https://colab.research.google.com/github/Abimbola-ai/Blood-Spectorscopy/blob/main/data_cleaning.ipynb\" target=\"_parent\"><img src=\"https://colab.research.google.com/assets/colab-badge.svg\" alt=\"Open In Colab\"/></a>"
      ]
    },
    {
      "cell_type": "markdown",
      "metadata": {
        "id": "1qS1zIa7A23P"
      },
      "source": [
        "Research Links:\n",
        "* https://www.researchgate.net/publication/258716133_Miniature_Near-Infrared_NIR_Spectrometer_Engine_For_Handheld_Applications\n",
        "\n",
        "* https://journals.sagepub.com/doi/abs/10.1255/jnirs.1084\n",
        "* https://journals.sagepub.com/doi/10.1177/0003702820985856"
      ]
    },
    {
      "cell_type": "code",
      "execution_count": 1,
      "metadata": {
        "id": "EhJkW6dsA23S"
      },
      "outputs": [],
      "source": [
        "import pandas as pd\n",
        "import numpy as np\n",
        "import seaborn as sns\n",
        "import matplotlib.pyplot as plt\n",
        "from tqdm import tqdm\n",
        "tqdm.pandas()\n",
        "import re\n",
        "import warnings\n",
        "%matplotlib inline\n"
      ]
    },
    {
      "cell_type": "code",
      "execution_count": 2,
      "metadata": {
        "id": "1kJP7InwA23T"
      },
      "outputs": [],
      "source": [
        "#load Datasets\n",
        "maindir = \"/Users/Abimbola/Documents/MSc Computer Science/Semester 2/Computer science project/Blood-Spectorscopy/Data\" # Directory with your files\n",
        "train = maindir+\"/Updated_Train.csv\"\n",
        "test =  maindir+\"/Updated_Test.csv\"\n",
        "ss =  maindir+\"/Updated_Sample_Submission.csv\"\n",
        "test_trimmed = maindir+\"/Updated_Test_trimmed.csv\"\n",
        "# hdl_add_lowstd = maindir + '/Exports_hdl_rows_162_full.csv'\n",
        "# hdl_add_std = maindir + '/Exports_hdl_rows_483_full.csv'\n",
        "# hgb_add_lowstd = maindir + '/Export_hgb_rows_965_full.csv'\n",
        "# hgb_add_std = maindir + '/Exports_hgb_rows_2457_full.csv'\n",
        "# ldl_add_lowstd = maindir + '/Exports_ldl_rows_135_full.csv'\n",
        "# ldl_add_std = maindir + '/Exports_ldl_rows_410_full.csv'\n",
        "\n",
        "#Load spectra absorbance coefficients from research\n",
        "spectra_hgb = maindir+\"/Spectra_hgb.csv\"\n",
        "spectra_gluc = maindir+\"/Spectra_gluc.csv\"\n",
        "spectra_sknfatbl = maindir+\"/Spectra_skinfatblood.csv\"\n",
        "spectra_chl = maindir+\"/Spectra_chl.csv\""
      ]
    },
    {
      "cell_type": "code",
      "execution_count": 3,
      "metadata": {},
      "outputs": [],
      "source": [
        "# Read in the data\n",
        "# hdl_add_lowstd = pd.read_csv(hdl_add_lowstd)\n",
        "# hgb_add_lowstd = pd.read_csv(hgb_add_lowstd)\n",
        "# ldl_add_lowstd = pd.read_csv(ldl_add_lowstd)\n",
        "# hdl_add_std = pd.read_csv(hdl_add_std)\n",
        "# hgb_add_std = pd.read_csv(hgb_add_std)\n",
        "# ldl_add_std = pd.read_csv(ldl_add_std)"
      ]
    },
    {
      "cell_type": "markdown",
      "metadata": {},
      "source": [
        "The goal is to use the absorbances which is spectrum data to predict the hdl_cholesterol, hemoglobin and ldl_cholestorl level. These can either be low, ok or high. The absorbance spectrum has 170 values over the entire frequency range. In the dataset with labels trim, the edges of the absorbance spectrum have been trimmed by Bloods-ai because they believed the edges are noisy. \n",
        "\n",
        "Each measurement actually contains, 60 scans so a lot of the data will actually just be scans of the same measurement. It is important to ensure the model doesn't overfit. The plan is to collect and add more data while the competition is running."
      ]
    },
    {
      "cell_type": "markdown",
      "metadata": {
        "id": "_sUh7iOBA23T"
      },
      "source": [
        "### **Exploratory Data Analysis**"
      ]
    },
    {
      "cell_type": "markdown",
      "metadata": {},
      "source": [
        "##### Train Data"
      ]
    },
    {
      "cell_type": "code",
      "execution_count": 4,
      "metadata": {
        "colab": {
          "base_uri": "https://localhost:8080/",
          "height": 300
        },
        "id": "y8XOCXwDA23U",
        "outputId": "a95fabcd-74d8-4fa9-d4b0-0b4f3d0125e5"
      },
      "outputs": [
        {
          "data": {
            "text/html": [
              "<div>\n",
              "<style scoped>\n",
              "    .dataframe tbody tr th:only-of-type {\n",
              "        vertical-align: middle;\n",
              "    }\n",
              "\n",
              "    .dataframe tbody tr th {\n",
              "        vertical-align: top;\n",
              "    }\n",
              "\n",
              "    .dataframe thead th {\n",
              "        text-align: right;\n",
              "    }\n",
              "</style>\n",
              "<table border=\"1\" class=\"dataframe\">\n",
              "  <thead>\n",
              "    <tr style=\"text-align: right;\">\n",
              "      <th></th>\n",
              "      <th>absorbance0</th>\n",
              "      <th>absorbance1</th>\n",
              "      <th>absorbance2</th>\n",
              "      <th>absorbance3</th>\n",
              "      <th>absorbance4</th>\n",
              "      <th>absorbance5</th>\n",
              "      <th>absorbance6</th>\n",
              "      <th>absorbance7</th>\n",
              "      <th>absorbance8</th>\n",
              "      <th>absorbance9</th>\n",
              "      <th>...</th>\n",
              "      <th>absorbance168</th>\n",
              "      <th>absorbance169</th>\n",
              "      <th>id</th>\n",
              "      <th>std</th>\n",
              "      <th>temperature</th>\n",
              "      <th>humidity</th>\n",
              "      <th>hdl_cholesterol_human</th>\n",
              "      <th>hemoglobin(hgb)_human</th>\n",
              "      <th>cholesterol_ldl_human</th>\n",
              "      <th>donation_id</th>\n",
              "    </tr>\n",
              "  </thead>\n",
              "  <tbody>\n",
              "    <tr>\n",
              "      <th>0</th>\n",
              "      <td>0.520883</td>\n",
              "      <td>0.528200</td>\n",
              "      <td>0.529795</td>\n",
              "      <td>0.537382</td>\n",
              "      <td>0.540265</td>\n",
              "      <td>0.546260</td>\n",
              "      <td>0.550882</td>\n",
              "      <td>0.558865</td>\n",
              "      <td>0.571352</td>\n",
              "      <td>0.585775</td>\n",
              "      <td>...</td>\n",
              "      <td>1.319344</td>\n",
              "      <td>1.278294</td>\n",
              "      <td>0</td>\n",
              "      <td>0.0026</td>\n",
              "      <td>39.27</td>\n",
              "      <td>44.17</td>\n",
              "      <td>low</td>\n",
              "      <td>ok</td>\n",
              "      <td>high</td>\n",
              "      <td>2250</td>\n",
              "    </tr>\n",
              "    <tr>\n",
              "      <th>1</th>\n",
              "      <td>0.529109</td>\n",
              "      <td>0.534852</td>\n",
              "      <td>0.541075</td>\n",
              "      <td>0.544269</td>\n",
              "      <td>0.546594</td>\n",
              "      <td>0.555183</td>\n",
              "      <td>0.561367</td>\n",
              "      <td>0.567637</td>\n",
              "      <td>0.582427</td>\n",
              "      <td>0.595801</td>\n",
              "      <td>...</td>\n",
              "      <td>1.282723</td>\n",
              "      <td>1.267465</td>\n",
              "      <td>1</td>\n",
              "      <td>0.0026</td>\n",
              "      <td>39.39</td>\n",
              "      <td>44.09</td>\n",
              "      <td>low</td>\n",
              "      <td>ok</td>\n",
              "      <td>high</td>\n",
              "      <td>2250</td>\n",
              "    </tr>\n",
              "    <tr>\n",
              "      <th>2</th>\n",
              "      <td>0.528434</td>\n",
              "      <td>0.532036</td>\n",
              "      <td>0.540413</td>\n",
              "      <td>0.541964</td>\n",
              "      <td>0.549347</td>\n",
              "      <td>0.555902</td>\n",
              "      <td>0.561458</td>\n",
              "      <td>0.567824</td>\n",
              "      <td>0.579568</td>\n",
              "      <td>0.593048</td>\n",
              "      <td>...</td>\n",
              "      <td>1.287730</td>\n",
              "      <td>1.266464</td>\n",
              "      <td>2</td>\n",
              "      <td>0.0026</td>\n",
              "      <td>39.50</td>\n",
              "      <td>44.00</td>\n",
              "      <td>low</td>\n",
              "      <td>ok</td>\n",
              "      <td>high</td>\n",
              "      <td>2250</td>\n",
              "    </tr>\n",
              "    <tr>\n",
              "      <th>3</th>\n",
              "      <td>0.530528</td>\n",
              "      <td>0.531880</td>\n",
              "      <td>0.539558</td>\n",
              "      <td>0.542433</td>\n",
              "      <td>0.549097</td>\n",
              "      <td>0.556224</td>\n",
              "      <td>0.561398</td>\n",
              "      <td>0.566963</td>\n",
              "      <td>0.577525</td>\n",
              "      <td>0.591982</td>\n",
              "      <td>...</td>\n",
              "      <td>1.314408</td>\n",
              "      <td>1.342224</td>\n",
              "      <td>3</td>\n",
              "      <td>0.0026</td>\n",
              "      <td>39.60</td>\n",
              "      <td>43.89</td>\n",
              "      <td>low</td>\n",
              "      <td>ok</td>\n",
              "      <td>high</td>\n",
              "      <td>2250</td>\n",
              "    </tr>\n",
              "    <tr>\n",
              "      <th>4</th>\n",
              "      <td>0.527530</td>\n",
              "      <td>0.536424</td>\n",
              "      <td>0.538207</td>\n",
              "      <td>0.541504</td>\n",
              "      <td>0.550546</td>\n",
              "      <td>0.555203</td>\n",
              "      <td>0.560394</td>\n",
              "      <td>0.567352</td>\n",
              "      <td>0.579438</td>\n",
              "      <td>0.592049</td>\n",
              "      <td>...</td>\n",
              "      <td>1.268710</td>\n",
              "      <td>1.216146</td>\n",
              "      <td>4</td>\n",
              "      <td>0.0026</td>\n",
              "      <td>39.70</td>\n",
              "      <td>43.83</td>\n",
              "      <td>low</td>\n",
              "      <td>ok</td>\n",
              "      <td>high</td>\n",
              "      <td>2250</td>\n",
              "    </tr>\n",
              "  </tbody>\n",
              "</table>\n",
              "<p>5 rows × 178 columns</p>\n",
              "</div>"
            ],
            "text/plain": [
              "   absorbance0  absorbance1  absorbance2  absorbance3  absorbance4  \\\n",
              "0     0.520883     0.528200     0.529795     0.537382     0.540265   \n",
              "1     0.529109     0.534852     0.541075     0.544269     0.546594   \n",
              "2     0.528434     0.532036     0.540413     0.541964     0.549347   \n",
              "3     0.530528     0.531880     0.539558     0.542433     0.549097   \n",
              "4     0.527530     0.536424     0.538207     0.541504     0.550546   \n",
              "\n",
              "   absorbance5  absorbance6  absorbance7  absorbance8  absorbance9  ...  \\\n",
              "0     0.546260     0.550882     0.558865     0.571352     0.585775  ...   \n",
              "1     0.555183     0.561367     0.567637     0.582427     0.595801  ...   \n",
              "2     0.555902     0.561458     0.567824     0.579568     0.593048  ...   \n",
              "3     0.556224     0.561398     0.566963     0.577525     0.591982  ...   \n",
              "4     0.555203     0.560394     0.567352     0.579438     0.592049  ...   \n",
              "\n",
              "   absorbance168  absorbance169  id     std  temperature  humidity  \\\n",
              "0       1.319344       1.278294   0  0.0026        39.27     44.17   \n",
              "1       1.282723       1.267465   1  0.0026        39.39     44.09   \n",
              "2       1.287730       1.266464   2  0.0026        39.50     44.00   \n",
              "3       1.314408       1.342224   3  0.0026        39.60     43.89   \n",
              "4       1.268710       1.216146   4  0.0026        39.70     43.83   \n",
              "\n",
              "   hdl_cholesterol_human  hemoglobin(hgb)_human  cholesterol_ldl_human  \\\n",
              "0                    low                     ok                   high   \n",
              "1                    low                     ok                   high   \n",
              "2                    low                     ok                   high   \n",
              "3                    low                     ok                   high   \n",
              "4                    low                     ok                   high   \n",
              "\n",
              "   donation_id  \n",
              "0         2250  \n",
              "1         2250  \n",
              "2         2250  \n",
              "3         2250  \n",
              "4         2250  \n",
              "\n",
              "[5 rows x 178 columns]"
            ]
          },
          "execution_count": 4,
          "metadata": {},
          "output_type": "execute_result"
        }
      ],
      "source": [
        "train = pd.read_csv(train, index_col=0)\n",
        "train.head()"
      ]
    },
    {
      "cell_type": "code",
      "execution_count": 46,
      "metadata": {},
      "outputs": [
        {
          "data": {
            "text/html": [
              "<div>\n",
              "<style scoped>\n",
              "    .dataframe tbody tr th:only-of-type {\n",
              "        vertical-align: middle;\n",
              "    }\n",
              "\n",
              "    .dataframe tbody tr th {\n",
              "        vertical-align: top;\n",
              "    }\n",
              "\n",
              "    .dataframe thead th {\n",
              "        text-align: right;\n",
              "    }\n",
              "</style>\n",
              "<table border=\"1\" class=\"dataframe\">\n",
              "  <thead>\n",
              "    <tr style=\"text-align: right;\">\n",
              "      <th></th>\n",
              "      <th>absorbance0</th>\n",
              "      <th>absorbance1</th>\n",
              "      <th>absorbance2</th>\n",
              "      <th>absorbance3</th>\n",
              "      <th>absorbance4</th>\n",
              "      <th>absorbance5</th>\n",
              "      <th>absorbance6</th>\n",
              "      <th>absorbance7</th>\n",
              "      <th>absorbance8</th>\n",
              "      <th>absorbance9</th>\n",
              "      <th>...</th>\n",
              "      <th>absorbance169</th>\n",
              "      <th>temperature</th>\n",
              "      <th>humidity</th>\n",
              "      <th>std</th>\n",
              "      <th>low_abs</th>\n",
              "      <th>high_abs</th>\n",
              "      <th>med_abs</th>\n",
              "      <th>mean_abs</th>\n",
              "      <th>std_abs</th>\n",
              "      <th>sum_abs</th>\n",
              "    </tr>\n",
              "  </thead>\n",
              "  <tbody>\n",
              "    <tr>\n",
              "      <th>count</th>\n",
              "      <td>355.000000</td>\n",
              "      <td>355.000000</td>\n",
              "      <td>355.000000</td>\n",
              "      <td>355.000000</td>\n",
              "      <td>355.000000</td>\n",
              "      <td>355.000000</td>\n",
              "      <td>355.000000</td>\n",
              "      <td>355.000000</td>\n",
              "      <td>355.000000</td>\n",
              "      <td>355.000000</td>\n",
              "      <td>...</td>\n",
              "      <td>355.000000</td>\n",
              "      <td>355.000000</td>\n",
              "      <td>355.000000</td>\n",
              "      <td>355.000000</td>\n",
              "      <td>355.000000</td>\n",
              "      <td>355.000000</td>\n",
              "      <td>355.000000</td>\n",
              "      <td>355.000000</td>\n",
              "      <td>355.000000</td>\n",
              "      <td>355.000000</td>\n",
              "    </tr>\n",
              "    <tr>\n",
              "      <th>mean</th>\n",
              "      <td>0.508465</td>\n",
              "      <td>0.510808</td>\n",
              "      <td>0.514699</td>\n",
              "      <td>0.520569</td>\n",
              "      <td>0.527035</td>\n",
              "      <td>0.534526</td>\n",
              "      <td>0.540657</td>\n",
              "      <td>0.546064</td>\n",
              "      <td>0.554126</td>\n",
              "      <td>0.566479</td>\n",
              "      <td>...</td>\n",
              "      <td>1.260187</td>\n",
              "      <td>41.103754</td>\n",
              "      <td>34.342828</td>\n",
              "      <td>0.005360</td>\n",
              "      <td>0.508404</td>\n",
              "      <td>1.725306</td>\n",
              "      <td>0.917082</td>\n",
              "      <td>1.055662</td>\n",
              "      <td>0.422563</td>\n",
              "      <td>179.462537</td>\n",
              "    </tr>\n",
              "    <tr>\n",
              "      <th>std</th>\n",
              "      <td>0.039602</td>\n",
              "      <td>0.039295</td>\n",
              "      <td>0.039307</td>\n",
              "      <td>0.039487</td>\n",
              "      <td>0.039161</td>\n",
              "      <td>0.038932</td>\n",
              "      <td>0.039132</td>\n",
              "      <td>0.039352</td>\n",
              "      <td>0.039320</td>\n",
              "      <td>0.039514</td>\n",
              "      <td>...</td>\n",
              "      <td>0.099533</td>\n",
              "      <td>2.708418</td>\n",
              "      <td>8.603573</td>\n",
              "      <td>0.001517</td>\n",
              "      <td>0.039610</td>\n",
              "      <td>0.119523</td>\n",
              "      <td>0.045642</td>\n",
              "      <td>0.048375</td>\n",
              "      <td>0.040227</td>\n",
              "      <td>8.223751</td>\n",
              "    </tr>\n",
              "    <tr>\n",
              "      <th>min</th>\n",
              "      <td>0.246346</td>\n",
              "      <td>0.263163</td>\n",
              "      <td>0.278902</td>\n",
              "      <td>0.294477</td>\n",
              "      <td>0.309837</td>\n",
              "      <td>0.326139</td>\n",
              "      <td>0.343097</td>\n",
              "      <td>0.354338</td>\n",
              "      <td>0.367216</td>\n",
              "      <td>0.381729</td>\n",
              "      <td>...</td>\n",
              "      <td>0.991896</td>\n",
              "      <td>32.945333</td>\n",
              "      <td>17.174500</td>\n",
              "      <td>0.002400</td>\n",
              "      <td>0.246346</td>\n",
              "      <td>1.403153</td>\n",
              "      <td>0.784418</td>\n",
              "      <td>0.914618</td>\n",
              "      <td>0.313158</td>\n",
              "      <td>155.485062</td>\n",
              "    </tr>\n",
              "    <tr>\n",
              "      <th>25%</th>\n",
              "      <td>0.486677</td>\n",
              "      <td>0.489877</td>\n",
              "      <td>0.493417</td>\n",
              "      <td>0.498498</td>\n",
              "      <td>0.503841</td>\n",
              "      <td>0.510673</td>\n",
              "      <td>0.517022</td>\n",
              "      <td>0.522330</td>\n",
              "      <td>0.529832</td>\n",
              "      <td>0.542943</td>\n",
              "      <td>...</td>\n",
              "      <td>1.197963</td>\n",
              "      <td>39.063000</td>\n",
              "      <td>26.807167</td>\n",
              "      <td>0.004200</td>\n",
              "      <td>0.486677</td>\n",
              "      <td>1.652321</td>\n",
              "      <td>0.887611</td>\n",
              "      <td>1.027326</td>\n",
              "      <td>0.394965</td>\n",
              "      <td>174.645490</td>\n",
              "    </tr>\n",
              "    <tr>\n",
              "      <th>50%</th>\n",
              "      <td>0.510516</td>\n",
              "      <td>0.512778</td>\n",
              "      <td>0.517221</td>\n",
              "      <td>0.522352</td>\n",
              "      <td>0.528824</td>\n",
              "      <td>0.535803</td>\n",
              "      <td>0.542120</td>\n",
              "      <td>0.547838</td>\n",
              "      <td>0.556202</td>\n",
              "      <td>0.569076</td>\n",
              "      <td>...</td>\n",
              "      <td>1.262067</td>\n",
              "      <td>41.038167</td>\n",
              "      <td>34.414833</td>\n",
              "      <td>0.005100</td>\n",
              "      <td>0.510516</td>\n",
              "      <td>1.722107</td>\n",
              "      <td>0.915982</td>\n",
              "      <td>1.056634</td>\n",
              "      <td>0.421254</td>\n",
              "      <td>179.627696</td>\n",
              "    </tr>\n",
              "    <tr>\n",
              "      <th>75%</th>\n",
              "      <td>0.530221</td>\n",
              "      <td>0.532513</td>\n",
              "      <td>0.536306</td>\n",
              "      <td>0.543273</td>\n",
              "      <td>0.548838</td>\n",
              "      <td>0.556414</td>\n",
              "      <td>0.563271</td>\n",
              "      <td>0.568754</td>\n",
              "      <td>0.576979</td>\n",
              "      <td>0.590008</td>\n",
              "      <td>...</td>\n",
              "      <td>1.317386</td>\n",
              "      <td>42.852250</td>\n",
              "      <td>40.098417</td>\n",
              "      <td>0.006600</td>\n",
              "      <td>0.530221</td>\n",
              "      <td>1.809874</td>\n",
              "      <td>0.947925</td>\n",
              "      <td>1.082476</td>\n",
              "      <td>0.451667</td>\n",
              "      <td>184.020936</td>\n",
              "    </tr>\n",
              "    <tr>\n",
              "      <th>max</th>\n",
              "      <td>0.643114</td>\n",
              "      <td>0.641884</td>\n",
              "      <td>0.646214</td>\n",
              "      <td>0.650382</td>\n",
              "      <td>0.654037</td>\n",
              "      <td>0.660969</td>\n",
              "      <td>0.668704</td>\n",
              "      <td>0.676151</td>\n",
              "      <td>0.685838</td>\n",
              "      <td>0.699381</td>\n",
              "      <td>...</td>\n",
              "      <td>1.514201</td>\n",
              "      <td>52.559167</td>\n",
              "      <td>57.992000</td>\n",
              "      <td>0.008600</td>\n",
              "      <td>0.641884</td>\n",
              "      <td>2.045265</td>\n",
              "      <td>1.059801</td>\n",
              "      <td>1.196999</td>\n",
              "      <td>0.541514</td>\n",
              "      <td>203.489772</td>\n",
              "    </tr>\n",
              "  </tbody>\n",
              "</table>\n",
              "<p>8 rows × 179 columns</p>\n",
              "</div>"
            ],
            "text/plain": [
              "       absorbance0  absorbance1  absorbance2  absorbance3  absorbance4  \\\n",
              "count   355.000000   355.000000   355.000000   355.000000   355.000000   \n",
              "mean      0.508465     0.510808     0.514699     0.520569     0.527035   \n",
              "std       0.039602     0.039295     0.039307     0.039487     0.039161   \n",
              "min       0.246346     0.263163     0.278902     0.294477     0.309837   \n",
              "25%       0.486677     0.489877     0.493417     0.498498     0.503841   \n",
              "50%       0.510516     0.512778     0.517221     0.522352     0.528824   \n",
              "75%       0.530221     0.532513     0.536306     0.543273     0.548838   \n",
              "max       0.643114     0.641884     0.646214     0.650382     0.654037   \n",
              "\n",
              "       absorbance5  absorbance6  absorbance7  absorbance8  absorbance9  ...  \\\n",
              "count   355.000000   355.000000   355.000000   355.000000   355.000000  ...   \n",
              "mean      0.534526     0.540657     0.546064     0.554126     0.566479  ...   \n",
              "std       0.038932     0.039132     0.039352     0.039320     0.039514  ...   \n",
              "min       0.326139     0.343097     0.354338     0.367216     0.381729  ...   \n",
              "25%       0.510673     0.517022     0.522330     0.529832     0.542943  ...   \n",
              "50%       0.535803     0.542120     0.547838     0.556202     0.569076  ...   \n",
              "75%       0.556414     0.563271     0.568754     0.576979     0.590008  ...   \n",
              "max       0.660969     0.668704     0.676151     0.685838     0.699381  ...   \n",
              "\n",
              "       absorbance169  temperature    humidity         std     low_abs  \\\n",
              "count     355.000000   355.000000  355.000000  355.000000  355.000000   \n",
              "mean        1.260187    41.103754   34.342828    0.005360    0.508404   \n",
              "std         0.099533     2.708418    8.603573    0.001517    0.039610   \n",
              "min         0.991896    32.945333   17.174500    0.002400    0.246346   \n",
              "25%         1.197963    39.063000   26.807167    0.004200    0.486677   \n",
              "50%         1.262067    41.038167   34.414833    0.005100    0.510516   \n",
              "75%         1.317386    42.852250   40.098417    0.006600    0.530221   \n",
              "max         1.514201    52.559167   57.992000    0.008600    0.641884   \n",
              "\n",
              "         high_abs     med_abs    mean_abs     std_abs     sum_abs  \n",
              "count  355.000000  355.000000  355.000000  355.000000  355.000000  \n",
              "mean     1.725306    0.917082    1.055662    0.422563  179.462537  \n",
              "std      0.119523    0.045642    0.048375    0.040227    8.223751  \n",
              "min      1.403153    0.784418    0.914618    0.313158  155.485062  \n",
              "25%      1.652321    0.887611    1.027326    0.394965  174.645490  \n",
              "50%      1.722107    0.915982    1.056634    0.421254  179.627696  \n",
              "75%      1.809874    0.947925    1.082476    0.451667  184.020936  \n",
              "max      2.045265    1.059801    1.196999    0.541514  203.489772  \n",
              "\n",
              "[8 rows x 179 columns]"
            ]
          },
          "execution_count": 46,
          "metadata": {},
          "output_type": "execute_result"
        }
      ],
      "source": [
        "train.describe()"
      ]
    },
    {
      "cell_type": "code",
      "execution_count": 5,
      "metadata": {},
      "outputs": [
        {
          "name": "stdout",
          "output_type": "stream",
          "text": [
            "<class 'pandas.core.frame.DataFrame'>\n",
            "Int64Index: 29160 entries, 0 to 29159\n",
            "Columns: 178 entries, absorbance0 to donation_id\n",
            "dtypes: float64(173), int64(2), object(3)\n",
            "memory usage: 39.8+ MB\n"
          ]
        }
      ],
      "source": [
        "train.info()"
      ]
    },
    {
      "cell_type": "code",
      "execution_count": 6,
      "metadata": {},
      "outputs": [
        {
          "data": {
            "text/plain": [
              "(29160, 178)"
            ]
          },
          "execution_count": 6,
          "metadata": {},
          "output_type": "execute_result"
        }
      ],
      "source": [
        "train.shape"
      ]
    },
    {
      "cell_type": "code",
      "execution_count": 7,
      "metadata": {},
      "outputs": [],
      "source": [
        "train = train.drop(['id'], axis = 1)"
      ]
    },
    {
      "cell_type": "code",
      "execution_count": 8,
      "metadata": {},
      "outputs": [
        {
          "name": "stdout",
          "output_type": "stream",
          "text": [
            "There are 486 donation ids in the dataset\n"
          ]
        }
      ],
      "source": [
        "print(f\"There are\",train[\"donation_id\"].nunique(), \"donation ids in the dataset\")"
      ]
    },
    {
      "cell_type": "code",
      "execution_count": 9,
      "metadata": {},
      "outputs": [
        {
          "data": {
            "text/plain": [
              "2250     60\n",
              "10224    60\n",
              "9368     60\n",
              "9369     60\n",
              "9370     60\n",
              "         ..\n",
              "6387     60\n",
              "7676     60\n",
              "2194     60\n",
              "2519     60\n",
              "1994     60\n",
              "Name: donation_id, Length: 486, dtype: int64"
            ]
          },
          "execution_count": 9,
          "metadata": {},
          "output_type": "execute_result"
        }
      ],
      "source": [
        "train['donation_id'].value_counts()"
      ]
    },
    {
      "cell_type": "code",
      "execution_count": 11,
      "metadata": {
        "colab": {
          "base_uri": "https://localhost:8080/"
        },
        "id": "aZbw3nxBA23W",
        "outputId": "5f1b9d0a-a79d-4ae9-d424-53aa42d0e352"
      },
      "outputs": [
        {
          "name": "stdout",
          "output_type": "stream",
          "text": [
            "['low' 'ok' 'high']\n",
            "['ok' 'low' 'high']\n",
            "['high' 'ok' 'low']\n"
          ]
        }
      ],
      "source": [
        "# Check the unique values of the targets\n",
        "print(train[\"hdl_cholesterol_human\"].unique())\n",
        "print(train[\"hemoglobin(hgb)_human\"].unique())\n",
        "print(train[\"cholesterol_ldl_human\"].unique())"
      ]
    },
    {
      "cell_type": "markdown",
      "metadata": {
        "id": "YiTpuFQrA23X"
      },
      "source": [
        "This looks uniform, all target variables are classified into `low`, `ok` and `high`."
      ]
    },
    {
      "cell_type": "markdown",
      "metadata": {
        "id": "_1EfqbqAA23V"
      },
      "source": [
        "`Reading_ID` is in test but not in train. There are three target columns in the train dataset, `hdl_cholesterol_human`, `hemoglobin(hgb)_human`, and `cholesterol_ldl_human` - Multi target data. \n",
        "\n",
        "The data from each samples are repeated about 60 times at different temperatures and humidity which were said to affect the spectrum data. This might cause overfitting if fed into the model. How do I segment this data? "
      ]
    },
    {
      "cell_type": "markdown",
      "metadata": {},
      "source": [
        "##### Test Data"
      ]
    },
    {
      "cell_type": "code",
      "execution_count": 12,
      "metadata": {
        "colab": {
          "base_uri": "https://localhost:8080/",
          "height": 300
        },
        "id": "sKrH-dx_A23U",
        "outputId": "28e2ee43-5fd6-4f97-d14a-ed8a480fc6ac"
      },
      "outputs": [
        {
          "data": {
            "text/html": [
              "<div>\n",
              "<style scoped>\n",
              "    .dataframe tbody tr th:only-of-type {\n",
              "        vertical-align: middle;\n",
              "    }\n",
              "\n",
              "    .dataframe tbody tr th {\n",
              "        vertical-align: top;\n",
              "    }\n",
              "\n",
              "    .dataframe thead th {\n",
              "        text-align: right;\n",
              "    }\n",
              "</style>\n",
              "<table border=\"1\" class=\"dataframe\">\n",
              "  <thead>\n",
              "    <tr style=\"text-align: right;\">\n",
              "      <th></th>\n",
              "      <th>Unnamed: 0</th>\n",
              "      <th>Reading_ID</th>\n",
              "      <th>donation_id</th>\n",
              "      <th>absorbance0</th>\n",
              "      <th>absorbance1</th>\n",
              "      <th>absorbance2</th>\n",
              "      <th>absorbance3</th>\n",
              "      <th>absorbance4</th>\n",
              "      <th>absorbance5</th>\n",
              "      <th>absorbance6</th>\n",
              "      <th>...</th>\n",
              "      <th>absorbance164</th>\n",
              "      <th>absorbance165</th>\n",
              "      <th>absorbance166</th>\n",
              "      <th>absorbance167</th>\n",
              "      <th>absorbance168</th>\n",
              "      <th>absorbance169</th>\n",
              "      <th>id</th>\n",
              "      <th>std</th>\n",
              "      <th>temperature</th>\n",
              "      <th>humidity</th>\n",
              "    </tr>\n",
              "  </thead>\n",
              "  <tbody>\n",
              "    <tr>\n",
              "      <th>0</th>\n",
              "      <td>0</td>\n",
              "      <td>ID_KWUAQLRM</td>\n",
              "      <td>ID_2982</td>\n",
              "      <td>0.517951</td>\n",
              "      <td>0.520508</td>\n",
              "      <td>0.526852</td>\n",
              "      <td>0.531611</td>\n",
              "      <td>0.536816</td>\n",
              "      <td>0.543828</td>\n",
              "      <td>0.547761</td>\n",
              "      <td>...</td>\n",
              "      <td>1.226695</td>\n",
              "      <td>1.210430</td>\n",
              "      <td>1.214422</td>\n",
              "      <td>1.200332</td>\n",
              "      <td>1.198297</td>\n",
              "      <td>1.248182</td>\n",
              "      <td>0</td>\n",
              "      <td>0.0027</td>\n",
              "      <td>37.09</td>\n",
              "      <td>27.22</td>\n",
              "    </tr>\n",
              "    <tr>\n",
              "      <th>1</th>\n",
              "      <td>1</td>\n",
              "      <td>ID_FN8SIVJJ</td>\n",
              "      <td>ID_2982</td>\n",
              "      <td>0.517839</td>\n",
              "      <td>0.522367</td>\n",
              "      <td>0.525186</td>\n",
              "      <td>0.534661</td>\n",
              "      <td>0.541900</td>\n",
              "      <td>0.546180</td>\n",
              "      <td>0.551687</td>\n",
              "      <td>...</td>\n",
              "      <td>1.219627</td>\n",
              "      <td>1.216220</td>\n",
              "      <td>1.191416</td>\n",
              "      <td>1.202515</td>\n",
              "      <td>1.211942</td>\n",
              "      <td>1.242939</td>\n",
              "      <td>1</td>\n",
              "      <td>0.0027</td>\n",
              "      <td>37.20</td>\n",
              "      <td>27.17</td>\n",
              "    </tr>\n",
              "    <tr>\n",
              "      <th>2</th>\n",
              "      <td>2</td>\n",
              "      <td>ID_CI4TQCHI</td>\n",
              "      <td>ID_2982</td>\n",
              "      <td>0.517702</td>\n",
              "      <td>0.522018</td>\n",
              "      <td>0.527237</td>\n",
              "      <td>0.534374</td>\n",
              "      <td>0.541155</td>\n",
              "      <td>0.547152</td>\n",
              "      <td>0.549837</td>\n",
              "      <td>...</td>\n",
              "      <td>1.237193</td>\n",
              "      <td>1.208477</td>\n",
              "      <td>1.208721</td>\n",
              "      <td>1.187810</td>\n",
              "      <td>1.209599</td>\n",
              "      <td>1.175631</td>\n",
              "      <td>2</td>\n",
              "      <td>0.0027</td>\n",
              "      <td>37.30</td>\n",
              "      <td>27.07</td>\n",
              "    </tr>\n",
              "    <tr>\n",
              "      <th>3</th>\n",
              "      <td>3</td>\n",
              "      <td>ID_URJMKNU7</td>\n",
              "      <td>ID_2982</td>\n",
              "      <td>0.525008</td>\n",
              "      <td>0.527439</td>\n",
              "      <td>0.536871</td>\n",
              "      <td>0.539636</td>\n",
              "      <td>0.546555</td>\n",
              "      <td>0.553183</td>\n",
              "      <td>0.558826</td>\n",
              "      <td>...</td>\n",
              "      <td>1.218532</td>\n",
              "      <td>1.185708</td>\n",
              "      <td>1.196750</td>\n",
              "      <td>1.222484</td>\n",
              "      <td>1.177406</td>\n",
              "      <td>1.198399</td>\n",
              "      <td>3</td>\n",
              "      <td>0.0027</td>\n",
              "      <td>37.38</td>\n",
              "      <td>26.98</td>\n",
              "    </tr>\n",
              "    <tr>\n",
              "      <th>4</th>\n",
              "      <td>4</td>\n",
              "      <td>ID_HBJH67IS</td>\n",
              "      <td>ID_2982</td>\n",
              "      <td>0.520532</td>\n",
              "      <td>0.522683</td>\n",
              "      <td>0.526842</td>\n",
              "      <td>0.534634</td>\n",
              "      <td>0.539676</td>\n",
              "      <td>0.547488</td>\n",
              "      <td>0.552688</td>\n",
              "      <td>...</td>\n",
              "      <td>1.206383</td>\n",
              "      <td>1.204950</td>\n",
              "      <td>1.203311</td>\n",
              "      <td>1.191351</td>\n",
              "      <td>1.157577</td>\n",
              "      <td>1.212008</td>\n",
              "      <td>4</td>\n",
              "      <td>0.0027</td>\n",
              "      <td>37.48</td>\n",
              "      <td>26.89</td>\n",
              "    </tr>\n",
              "  </tbody>\n",
              "</table>\n",
              "<p>5 rows × 177 columns</p>\n",
              "</div>"
            ],
            "text/plain": [
              "   Unnamed: 0   Reading_ID donation_id  absorbance0  absorbance1  absorbance2  \\\n",
              "0           0  ID_KWUAQLRM     ID_2982     0.517951     0.520508     0.526852   \n",
              "1           1  ID_FN8SIVJJ     ID_2982     0.517839     0.522367     0.525186   \n",
              "2           2  ID_CI4TQCHI     ID_2982     0.517702     0.522018     0.527237   \n",
              "3           3  ID_URJMKNU7     ID_2982     0.525008     0.527439     0.536871   \n",
              "4           4  ID_HBJH67IS     ID_2982     0.520532     0.522683     0.526842   \n",
              "\n",
              "   absorbance3  absorbance4  absorbance5  absorbance6  ...  absorbance164  \\\n",
              "0     0.531611     0.536816     0.543828     0.547761  ...       1.226695   \n",
              "1     0.534661     0.541900     0.546180     0.551687  ...       1.219627   \n",
              "2     0.534374     0.541155     0.547152     0.549837  ...       1.237193   \n",
              "3     0.539636     0.546555     0.553183     0.558826  ...       1.218532   \n",
              "4     0.534634     0.539676     0.547488     0.552688  ...       1.206383   \n",
              "\n",
              "   absorbance165  absorbance166  absorbance167  absorbance168  absorbance169  \\\n",
              "0       1.210430       1.214422       1.200332       1.198297       1.248182   \n",
              "1       1.216220       1.191416       1.202515       1.211942       1.242939   \n",
              "2       1.208477       1.208721       1.187810       1.209599       1.175631   \n",
              "3       1.185708       1.196750       1.222484       1.177406       1.198399   \n",
              "4       1.204950       1.203311       1.191351       1.157577       1.212008   \n",
              "\n",
              "   id     std  temperature  humidity  \n",
              "0   0  0.0027        37.09     27.22  \n",
              "1   1  0.0027        37.20     27.17  \n",
              "2   2  0.0027        37.30     27.07  \n",
              "3   3  0.0027        37.38     26.98  \n",
              "4   4  0.0027        37.48     26.89  \n",
              "\n",
              "[5 rows x 177 columns]"
            ]
          },
          "execution_count": 12,
          "metadata": {},
          "output_type": "execute_result"
        }
      ],
      "source": [
        "test = pd.read_csv(test)\n",
        "test.head()"
      ]
    },
    {
      "cell_type": "code",
      "execution_count": 13,
      "metadata": {
        "colab": {
          "base_uri": "https://localhost:8080/"
        },
        "id": "lQo9zswnA23V",
        "outputId": "dd4511fa-74a8-4a58-ae0a-22ab19ad91fa"
      },
      "outputs": [
        {
          "name": "stdout",
          "output_type": "stream",
          "text": [
            "Train data shape is: (29100, 177)\n",
            "Test data shape is: (3660, 177)\n"
          ]
        }
      ],
      "source": [
        "dropped_index =  train[train[\"donation_id\"] == 6824].index \n",
        "train_df = train.drop(dropped_index)\n",
        "print(f\"Train data shape is:\",train_df.shape)\n",
        "print(f\"Test data shape is:\",test.shape)"
      ]
    },
    {
      "cell_type": "code",
      "execution_count": 14,
      "metadata": {},
      "outputs": [
        {
          "data": {
            "text/plain": [
              "float64    173\n",
              "int64        2\n",
              "object       2\n",
              "dtype: int64"
            ]
          },
          "execution_count": 14,
          "metadata": {},
          "output_type": "execute_result"
        }
      ],
      "source": [
        "pd.value_counts(test.dtypes)"
      ]
    },
    {
      "cell_type": "code",
      "execution_count": 15,
      "metadata": {
        "colab": {
          "base_uri": "https://localhost:8080/"
        },
        "id": "5C8gv7P8A23X",
        "outputId": "5705677f-fdb9-4b88-e41d-42cf1fad6b03"
      },
      "outputs": [
        {
          "name": "stdout",
          "output_type": "stream",
          "text": [
            "0 missing value in train\n",
            "0 missing value in test\n"
          ]
        }
      ],
      "source": [
        "# Check for missing value\n",
        "print(str(train_df.isnull().sum().sum()) + \" missing value in train\")\n",
        "print(str(test.isnull().sum().sum()) + \" missing value in test\")"
      ]
    },
    {
      "cell_type": "code",
      "execution_count": 16,
      "metadata": {},
      "outputs": [],
      "source": [
        "# Delete invalid donation sample\n",
        "drop_inds = train_df[train_df['absorbance0'] < 0].index\n",
        "train_df = train_df.drop(drop_inds)"
      ]
    },
    {
      "cell_type": "code",
      "execution_count": 17,
      "metadata": {},
      "outputs": [
        {
          "data": {
            "text/plain": [
              "count    29100.000000\n",
              "mean         0.007529\n",
              "std          0.004630\n",
              "min          0.002400\n",
              "25%          0.004500\n",
              "50%          0.006100\n",
              "75%          0.008900\n",
              "max          0.028700\n",
              "Name: std, dtype: float64"
            ]
          },
          "execution_count": 17,
          "metadata": {},
          "output_type": "execute_result"
        }
      ],
      "source": [
        "train_df['std'].describe()"
      ]
    },
    {
      "cell_type": "code",
      "execution_count": 18,
      "metadata": {},
      "outputs": [
        {
          "data": {
            "text/plain": [
              "count    3660.000000\n",
              "mean        0.005084\n",
              "std         0.001303\n",
              "min         0.002700\n",
              "25%         0.004200\n",
              "50%         0.004800\n",
              "75%         0.005700\n",
              "max         0.008600\n",
              "Name: std, dtype: float64"
            ]
          },
          "execution_count": 18,
          "metadata": {},
          "output_type": "execute_result"
        }
      ],
      "source": [
        "test['std'].describe()"
      ]
    },
    {
      "cell_type": "markdown",
      "metadata": {},
      "source": [
        "There's a difference in the maximum std in both train and test set. BloodsAI stated that observations with lower stds are\n",
        "much more accurate than those with high stds. Best is to drop the high stds."
      ]
    },
    {
      "cell_type": "code",
      "execution_count": 19,
      "metadata": {},
      "outputs": [],
      "source": [
        "# Remove the data with greater std from the train\n",
        "train_df = train_df[train_df['std'] <= 0.0086]"
      ]
    },
    {
      "cell_type": "markdown",
      "metadata": {},
      "source": [
        "##### Combine both test and train data"
      ]
    },
    {
      "cell_type": "code",
      "execution_count": 20,
      "metadata": {},
      "outputs": [],
      "source": [
        "train_df['tag'] = 'train'\n",
        "test['tag'] = 'test'\n",
        "all_data = pd.concat([train_df, test])"
      ]
    },
    {
      "cell_type": "code",
      "execution_count": 21,
      "metadata": {},
      "outputs": [
        {
          "data": {
            "text/html": [
              "<div>\n",
              "<style scoped>\n",
              "    .dataframe tbody tr th:only-of-type {\n",
              "        vertical-align: middle;\n",
              "    }\n",
              "\n",
              "    .dataframe tbody tr th {\n",
              "        vertical-align: top;\n",
              "    }\n",
              "\n",
              "    .dataframe thead th {\n",
              "        text-align: right;\n",
              "    }\n",
              "</style>\n",
              "<table border=\"1\" class=\"dataframe\">\n",
              "  <thead>\n",
              "    <tr style=\"text-align: right;\">\n",
              "      <th></th>\n",
              "      <th>hdl_cholesterol_human</th>\n",
              "      <th>hemoglobin(hgb)_human</th>\n",
              "      <th>cholesterol_ldl_human</th>\n",
              "      <th>donation_id</th>\n",
              "      <th>tag</th>\n",
              "      <th>Reading_ID</th>\n",
              "    </tr>\n",
              "  </thead>\n",
              "  <tbody>\n",
              "    <tr>\n",
              "      <th>count</th>\n",
              "      <td>21300</td>\n",
              "      <td>21300</td>\n",
              "      <td>21300</td>\n",
              "      <td>24960</td>\n",
              "      <td>24960</td>\n",
              "      <td>3660</td>\n",
              "    </tr>\n",
              "    <tr>\n",
              "      <th>unique</th>\n",
              "      <td>3</td>\n",
              "      <td>3</td>\n",
              "      <td>3</td>\n",
              "      <td>416</td>\n",
              "      <td>2</td>\n",
              "      <td>3660</td>\n",
              "    </tr>\n",
              "    <tr>\n",
              "      <th>top</th>\n",
              "      <td>ok</td>\n",
              "      <td>ok</td>\n",
              "      <td>ok</td>\n",
              "      <td>2250</td>\n",
              "      <td>train</td>\n",
              "      <td>ID_KWUAQLRM</td>\n",
              "    </tr>\n",
              "    <tr>\n",
              "      <th>freq</th>\n",
              "      <td>11460</td>\n",
              "      <td>18600</td>\n",
              "      <td>11700</td>\n",
              "      <td>60</td>\n",
              "      <td>21300</td>\n",
              "      <td>1</td>\n",
              "    </tr>\n",
              "  </tbody>\n",
              "</table>\n",
              "</div>"
            ],
            "text/plain": [
              "       hdl_cholesterol_human hemoglobin(hgb)_human cholesterol_ldl_human  \\\n",
              "count                  21300                 21300                 21300   \n",
              "unique                     3                     3                     3   \n",
              "top                       ok                    ok                    ok   \n",
              "freq                   11460                 18600                 11700   \n",
              "\n",
              "        donation_id    tag   Reading_ID  \n",
              "count         24960  24960         3660  \n",
              "unique          416      2         3660  \n",
              "top            2250  train  ID_KWUAQLRM  \n",
              "freq             60  21300            1  "
            ]
          },
          "execution_count": 21,
          "metadata": {},
          "output_type": "execute_result"
        }
      ],
      "source": [
        "all_data.describe(exclude='number')"
      ]
    },
    {
      "cell_type": "code",
      "execution_count": 22,
      "metadata": {},
      "outputs": [],
      "source": [
        "# Extract absorbance columns as keys\n",
        "spectra_gluc = pd.read_csv(spectra_gluc)\n",
        "wavelengths = list(spectra_gluc[1:]['Glucose'])\n",
        "\n",
        "absorbance_dict = dict()\n",
        "\n",
        "val = 0\n",
        "\n",
        "for wave in wavelengths:\n",
        "    \n",
        "    absorbance_dict[f'absorbance{val}'] = wave\n",
        "    \n",
        "    val += 1"
      ]
    },
    {
      "cell_type": "code",
      "execution_count": 23,
      "metadata": {},
      "outputs": [],
      "source": [
        "all_absorbances = list(absorbance_dict.keys())\n",
        "all_absorbances.extend(['temperature', 'humidity'])"
      ]
    },
    {
      "cell_type": "code",
      "execution_count": 24,
      "metadata": {},
      "outputs": [],
      "source": [
        "donation_data = all_data[['donation_id', 'hdl_cholesterol_human', 'hemoglobin(hgb)_human',\n",
        "'cholesterol_ldl_human', 'std', 'tag']]\n",
        "\n",
        "donation_data = donation_data[~donation_data['donation_id'].duplicated()]"
      ]
    },
    {
      "cell_type": "code",
      "execution_count": 25,
      "metadata": {},
      "outputs": [],
      "source": [
        "all_data = all_data.groupby('donation_id')[all_absorbances].mean().reset_index()"
      ]
    },
    {
      "cell_type": "code",
      "execution_count": 26,
      "metadata": {},
      "outputs": [],
      "source": [
        "all_data = all_data.merge(donation_data, on = 'donation_id', how = 'left')"
      ]
    },
    {
      "cell_type": "code",
      "execution_count": 27,
      "metadata": {},
      "outputs": [
        {
          "data": {
            "text/html": [
              "<div>\n",
              "<style scoped>\n",
              "    .dataframe tbody tr th:only-of-type {\n",
              "        vertical-align: middle;\n",
              "    }\n",
              "\n",
              "    .dataframe tbody tr th {\n",
              "        vertical-align: top;\n",
              "    }\n",
              "\n",
              "    .dataframe thead th {\n",
              "        text-align: right;\n",
              "    }\n",
              "</style>\n",
              "<table border=\"1\" class=\"dataframe\">\n",
              "  <thead>\n",
              "    <tr style=\"text-align: right;\">\n",
              "      <th></th>\n",
              "      <th>donation_id</th>\n",
              "      <th>absorbance0</th>\n",
              "      <th>absorbance1</th>\n",
              "      <th>absorbance2</th>\n",
              "      <th>absorbance3</th>\n",
              "      <th>absorbance4</th>\n",
              "      <th>absorbance5</th>\n",
              "      <th>absorbance6</th>\n",
              "      <th>absorbance7</th>\n",
              "      <th>absorbance8</th>\n",
              "      <th>...</th>\n",
              "      <th>absorbance167</th>\n",
              "      <th>absorbance168</th>\n",
              "      <th>absorbance169</th>\n",
              "      <th>temperature</th>\n",
              "      <th>humidity</th>\n",
              "      <th>hdl_cholesterol_human</th>\n",
              "      <th>hemoglobin(hgb)_human</th>\n",
              "      <th>cholesterol_ldl_human</th>\n",
              "      <th>std</th>\n",
              "      <th>tag</th>\n",
              "    </tr>\n",
              "  </thead>\n",
              "  <tbody>\n",
              "    <tr>\n",
              "      <th>0</th>\n",
              "      <td>1975</td>\n",
              "      <td>0.505055</td>\n",
              "      <td>0.506570</td>\n",
              "      <td>0.511544</td>\n",
              "      <td>0.516300</td>\n",
              "      <td>0.524067</td>\n",
              "      <td>0.530191</td>\n",
              "      <td>0.536138</td>\n",
              "      <td>0.542317</td>\n",
              "      <td>0.551118</td>\n",
              "      <td>...</td>\n",
              "      <td>1.384304</td>\n",
              "      <td>1.395545</td>\n",
              "      <td>1.369307</td>\n",
              "      <td>42.332500</td>\n",
              "      <td>37.773000</td>\n",
              "      <td>low</td>\n",
              "      <td>ok</td>\n",
              "      <td>ok</td>\n",
              "      <td>0.0073</td>\n",
              "      <td>train</td>\n",
              "    </tr>\n",
              "    <tr>\n",
              "      <th>1</th>\n",
              "      <td>1982</td>\n",
              "      <td>0.523531</td>\n",
              "      <td>0.523485</td>\n",
              "      <td>0.526291</td>\n",
              "      <td>0.532875</td>\n",
              "      <td>0.538397</td>\n",
              "      <td>0.543180</td>\n",
              "      <td>0.547520</td>\n",
              "      <td>0.553433</td>\n",
              "      <td>0.561674</td>\n",
              "      <td>...</td>\n",
              "      <td>1.297575</td>\n",
              "      <td>1.302398</td>\n",
              "      <td>1.284716</td>\n",
              "      <td>39.385167</td>\n",
              "      <td>43.316667</td>\n",
              "      <td>low</td>\n",
              "      <td>ok</td>\n",
              "      <td>high</td>\n",
              "      <td>0.0043</td>\n",
              "      <td>train</td>\n",
              "    </tr>\n",
              "    <tr>\n",
              "      <th>2</th>\n",
              "      <td>1989</td>\n",
              "      <td>0.516449</td>\n",
              "      <td>0.519226</td>\n",
              "      <td>0.523619</td>\n",
              "      <td>0.532366</td>\n",
              "      <td>0.540438</td>\n",
              "      <td>0.547985</td>\n",
              "      <td>0.552716</td>\n",
              "      <td>0.556823</td>\n",
              "      <td>0.561827</td>\n",
              "      <td>...</td>\n",
              "      <td>1.204599</td>\n",
              "      <td>1.212862</td>\n",
              "      <td>1.193458</td>\n",
              "      <td>42.455500</td>\n",
              "      <td>46.535167</td>\n",
              "      <td>low</td>\n",
              "      <td>ok</td>\n",
              "      <td>high</td>\n",
              "      <td>0.0046</td>\n",
              "      <td>train</td>\n",
              "    </tr>\n",
              "    <tr>\n",
              "      <th>3</th>\n",
              "      <td>2018</td>\n",
              "      <td>0.514163</td>\n",
              "      <td>0.516174</td>\n",
              "      <td>0.521443</td>\n",
              "      <td>0.528857</td>\n",
              "      <td>0.534581</td>\n",
              "      <td>0.543953</td>\n",
              "      <td>0.551666</td>\n",
              "      <td>0.557929</td>\n",
              "      <td>0.565811</td>\n",
              "      <td>...</td>\n",
              "      <td>1.376628</td>\n",
              "      <td>1.403167</td>\n",
              "      <td>1.393946</td>\n",
              "      <td>40.201833</td>\n",
              "      <td>47.366000</td>\n",
              "      <td>high</td>\n",
              "      <td>ok</td>\n",
              "      <td>ok</td>\n",
              "      <td>0.0082</td>\n",
              "      <td>train</td>\n",
              "    </tr>\n",
              "    <tr>\n",
              "      <th>4</th>\n",
              "      <td>2045</td>\n",
              "      <td>0.471717</td>\n",
              "      <td>0.474344</td>\n",
              "      <td>0.477808</td>\n",
              "      <td>0.483401</td>\n",
              "      <td>0.491121</td>\n",
              "      <td>0.496970</td>\n",
              "      <td>0.503694</td>\n",
              "      <td>0.509696</td>\n",
              "      <td>0.516301</td>\n",
              "      <td>...</td>\n",
              "      <td>1.253819</td>\n",
              "      <td>1.250549</td>\n",
              "      <td>1.233866</td>\n",
              "      <td>44.509833</td>\n",
              "      <td>35.787500</td>\n",
              "      <td>ok</td>\n",
              "      <td>ok</td>\n",
              "      <td>ok</td>\n",
              "      <td>0.0051</td>\n",
              "      <td>train</td>\n",
              "    </tr>\n",
              "  </tbody>\n",
              "</table>\n",
              "<p>5 rows × 178 columns</p>\n",
              "</div>"
            ],
            "text/plain": [
              "  donation_id  absorbance0  absorbance1  absorbance2  absorbance3  \\\n",
              "0        1975     0.505055     0.506570     0.511544     0.516300   \n",
              "1        1982     0.523531     0.523485     0.526291     0.532875   \n",
              "2        1989     0.516449     0.519226     0.523619     0.532366   \n",
              "3        2018     0.514163     0.516174     0.521443     0.528857   \n",
              "4        2045     0.471717     0.474344     0.477808     0.483401   \n",
              "\n",
              "   absorbance4  absorbance5  absorbance6  absorbance7  absorbance8  ...  \\\n",
              "0     0.524067     0.530191     0.536138     0.542317     0.551118  ...   \n",
              "1     0.538397     0.543180     0.547520     0.553433     0.561674  ...   \n",
              "2     0.540438     0.547985     0.552716     0.556823     0.561827  ...   \n",
              "3     0.534581     0.543953     0.551666     0.557929     0.565811  ...   \n",
              "4     0.491121     0.496970     0.503694     0.509696     0.516301  ...   \n",
              "\n",
              "   absorbance167  absorbance168  absorbance169  temperature   humidity  \\\n",
              "0       1.384304       1.395545       1.369307    42.332500  37.773000   \n",
              "1       1.297575       1.302398       1.284716    39.385167  43.316667   \n",
              "2       1.204599       1.212862       1.193458    42.455500  46.535167   \n",
              "3       1.376628       1.403167       1.393946    40.201833  47.366000   \n",
              "4       1.253819       1.250549       1.233866    44.509833  35.787500   \n",
              "\n",
              "   hdl_cholesterol_human  hemoglobin(hgb)_human  cholesterol_ldl_human  \\\n",
              "0                    low                     ok                     ok   \n",
              "1                    low                     ok                   high   \n",
              "2                    low                     ok                   high   \n",
              "3                   high                     ok                     ok   \n",
              "4                     ok                     ok                     ok   \n",
              "\n",
              "      std    tag  \n",
              "0  0.0073  train  \n",
              "1  0.0043  train  \n",
              "2  0.0046  train  \n",
              "3  0.0082  train  \n",
              "4  0.0051  train  \n",
              "\n",
              "[5 rows x 178 columns]"
            ]
          },
          "execution_count": 27,
          "metadata": {},
          "output_type": "execute_result"
        }
      ],
      "source": [
        "all_data.head()"
      ]
    },
    {
      "cell_type": "code",
      "execution_count": 28,
      "metadata": {},
      "outputs": [
        {
          "data": {
            "text/plain": [
              "Index(['donation_id', 'absorbance0', 'absorbance1', 'absorbance2',\n",
              "       'absorbance3', 'absorbance4', 'absorbance5', 'absorbance6',\n",
              "       'absorbance7', 'absorbance8',\n",
              "       ...\n",
              "       'absorbance167', 'absorbance168', 'absorbance169', 'temperature',\n",
              "       'humidity', 'hdl_cholesterol_human', 'hemoglobin(hgb)_human',\n",
              "       'cholesterol_ldl_human', 'std', 'tag'],\n",
              "      dtype='object', length=178)"
            ]
          },
          "execution_count": 28,
          "metadata": {},
          "output_type": "execute_result"
        }
      ],
      "source": [
        "all_data.columns"
      ]
    },
    {
      "cell_type": "code",
      "execution_count": 29,
      "metadata": {},
      "outputs": [
        {
          "data": {
            "text/plain": [
              "(416, 178)"
            ]
          },
          "execution_count": 29,
          "metadata": {},
          "output_type": "execute_result"
        }
      ],
      "source": [
        "all_data.shape"
      ]
    },
    {
      "cell_type": "code",
      "execution_count": 30,
      "metadata": {},
      "outputs": [],
      "source": [
        "# Perform some feature engineering to extract more ppts\n",
        "all_data['low_abs'] = all_data[list(absorbance_dict.keys())].min(axis = 1)\n",
        "all_data['high_abs'] = all_data[list(absorbance_dict.keys())].max(axis = 1)\n",
        "all_data['med_abs'] = all_data[list(absorbance_dict.keys())].median(axis = 1)\n",
        "all_data['mean_abs'] = all_data[list(absorbance_dict.keys())].mean(axis = 1)\n",
        "all_data['std_abs'] = all_data[list(absorbance_dict.keys())].std(axis = 1)\n",
        "all_data['sum_abs'] = all_data[list(absorbance_dict.keys())].sum(axis = 1)"
      ]
    },
    {
      "cell_type": "code",
      "execution_count": 31,
      "metadata": {},
      "outputs": [
        {
          "data": {
            "text/html": [
              "<div>\n",
              "<style scoped>\n",
              "    .dataframe tbody tr th:only-of-type {\n",
              "        vertical-align: middle;\n",
              "    }\n",
              "\n",
              "    .dataframe tbody tr th {\n",
              "        vertical-align: top;\n",
              "    }\n",
              "\n",
              "    .dataframe thead th {\n",
              "        text-align: right;\n",
              "    }\n",
              "</style>\n",
              "<table border=\"1\" class=\"dataframe\">\n",
              "  <thead>\n",
              "    <tr style=\"text-align: right;\">\n",
              "      <th></th>\n",
              "      <th>donation_id</th>\n",
              "      <th>absorbance0</th>\n",
              "      <th>absorbance1</th>\n",
              "      <th>absorbance2</th>\n",
              "      <th>absorbance3</th>\n",
              "      <th>absorbance4</th>\n",
              "      <th>absorbance5</th>\n",
              "      <th>absorbance6</th>\n",
              "      <th>absorbance7</th>\n",
              "      <th>absorbance8</th>\n",
              "      <th>...</th>\n",
              "      <th>hemoglobin(hgb)_human</th>\n",
              "      <th>cholesterol_ldl_human</th>\n",
              "      <th>std</th>\n",
              "      <th>tag</th>\n",
              "      <th>low_abs</th>\n",
              "      <th>high_abs</th>\n",
              "      <th>med_abs</th>\n",
              "      <th>mean_abs</th>\n",
              "      <th>std_abs</th>\n",
              "      <th>sum_abs</th>\n",
              "    </tr>\n",
              "  </thead>\n",
              "  <tbody>\n",
              "    <tr>\n",
              "      <th>0</th>\n",
              "      <td>1975</td>\n",
              "      <td>0.505055</td>\n",
              "      <td>0.506570</td>\n",
              "      <td>0.511544</td>\n",
              "      <td>0.516300</td>\n",
              "      <td>0.524067</td>\n",
              "      <td>0.530191</td>\n",
              "      <td>0.536138</td>\n",
              "      <td>0.542317</td>\n",
              "      <td>0.551118</td>\n",
              "      <td>...</td>\n",
              "      <td>ok</td>\n",
              "      <td>ok</td>\n",
              "      <td>0.0073</td>\n",
              "      <td>train</td>\n",
              "      <td>0.505055</td>\n",
              "      <td>1.927817</td>\n",
              "      <td>0.958842</td>\n",
              "      <td>1.135224</td>\n",
              "      <td>0.497048</td>\n",
              "      <td>192.988096</td>\n",
              "    </tr>\n",
              "    <tr>\n",
              "      <th>1</th>\n",
              "      <td>1982</td>\n",
              "      <td>0.523531</td>\n",
              "      <td>0.523485</td>\n",
              "      <td>0.526291</td>\n",
              "      <td>0.532875</td>\n",
              "      <td>0.538397</td>\n",
              "      <td>0.543180</td>\n",
              "      <td>0.547520</td>\n",
              "      <td>0.553433</td>\n",
              "      <td>0.561674</td>\n",
              "      <td>...</td>\n",
              "      <td>ok</td>\n",
              "      <td>high</td>\n",
              "      <td>0.0043</td>\n",
              "      <td>train</td>\n",
              "      <td>0.523485</td>\n",
              "      <td>1.734845</td>\n",
              "      <td>0.916559</td>\n",
              "      <td>1.061186</td>\n",
              "      <td>0.421130</td>\n",
              "      <td>180.401567</td>\n",
              "    </tr>\n",
              "    <tr>\n",
              "      <th>2</th>\n",
              "      <td>1989</td>\n",
              "      <td>0.516449</td>\n",
              "      <td>0.519226</td>\n",
              "      <td>0.523619</td>\n",
              "      <td>0.532366</td>\n",
              "      <td>0.540438</td>\n",
              "      <td>0.547985</td>\n",
              "      <td>0.552716</td>\n",
              "      <td>0.556823</td>\n",
              "      <td>0.561827</td>\n",
              "      <td>...</td>\n",
              "      <td>ok</td>\n",
              "      <td>high</td>\n",
              "      <td>0.0046</td>\n",
              "      <td>train</td>\n",
              "      <td>0.516449</td>\n",
              "      <td>1.884757</td>\n",
              "      <td>0.925547</td>\n",
              "      <td>1.087614</td>\n",
              "      <td>0.462437</td>\n",
              "      <td>184.894345</td>\n",
              "    </tr>\n",
              "    <tr>\n",
              "      <th>3</th>\n",
              "      <td>2018</td>\n",
              "      <td>0.514163</td>\n",
              "      <td>0.516174</td>\n",
              "      <td>0.521443</td>\n",
              "      <td>0.528857</td>\n",
              "      <td>0.534581</td>\n",
              "      <td>0.543953</td>\n",
              "      <td>0.551666</td>\n",
              "      <td>0.557929</td>\n",
              "      <td>0.565811</td>\n",
              "      <td>...</td>\n",
              "      <td>ok</td>\n",
              "      <td>ok</td>\n",
              "      <td>0.0082</td>\n",
              "      <td>train</td>\n",
              "      <td>0.514163</td>\n",
              "      <td>1.868637</td>\n",
              "      <td>0.942196</td>\n",
              "      <td>1.113725</td>\n",
              "      <td>0.469601</td>\n",
              "      <td>189.333202</td>\n",
              "    </tr>\n",
              "    <tr>\n",
              "      <th>4</th>\n",
              "      <td>2045</td>\n",
              "      <td>0.471717</td>\n",
              "      <td>0.474344</td>\n",
              "      <td>0.477808</td>\n",
              "      <td>0.483401</td>\n",
              "      <td>0.491121</td>\n",
              "      <td>0.496970</td>\n",
              "      <td>0.503694</td>\n",
              "      <td>0.509696</td>\n",
              "      <td>0.516301</td>\n",
              "      <td>...</td>\n",
              "      <td>ok</td>\n",
              "      <td>ok</td>\n",
              "      <td>0.0051</td>\n",
              "      <td>train</td>\n",
              "      <td>0.471717</td>\n",
              "      <td>1.917085</td>\n",
              "      <td>0.878465</td>\n",
              "      <td>1.075850</td>\n",
              "      <td>0.493414</td>\n",
              "      <td>182.894524</td>\n",
              "    </tr>\n",
              "  </tbody>\n",
              "</table>\n",
              "<p>5 rows × 184 columns</p>\n",
              "</div>"
            ],
            "text/plain": [
              "  donation_id  absorbance0  absorbance1  absorbance2  absorbance3  \\\n",
              "0        1975     0.505055     0.506570     0.511544     0.516300   \n",
              "1        1982     0.523531     0.523485     0.526291     0.532875   \n",
              "2        1989     0.516449     0.519226     0.523619     0.532366   \n",
              "3        2018     0.514163     0.516174     0.521443     0.528857   \n",
              "4        2045     0.471717     0.474344     0.477808     0.483401   \n",
              "\n",
              "   absorbance4  absorbance5  absorbance6  absorbance7  absorbance8  ...  \\\n",
              "0     0.524067     0.530191     0.536138     0.542317     0.551118  ...   \n",
              "1     0.538397     0.543180     0.547520     0.553433     0.561674  ...   \n",
              "2     0.540438     0.547985     0.552716     0.556823     0.561827  ...   \n",
              "3     0.534581     0.543953     0.551666     0.557929     0.565811  ...   \n",
              "4     0.491121     0.496970     0.503694     0.509696     0.516301  ...   \n",
              "\n",
              "   hemoglobin(hgb)_human  cholesterol_ldl_human     std    tag   low_abs  \\\n",
              "0                     ok                     ok  0.0073  train  0.505055   \n",
              "1                     ok                   high  0.0043  train  0.523485   \n",
              "2                     ok                   high  0.0046  train  0.516449   \n",
              "3                     ok                     ok  0.0082  train  0.514163   \n",
              "4                     ok                     ok  0.0051  train  0.471717   \n",
              "\n",
              "   high_abs   med_abs  mean_abs   std_abs     sum_abs  \n",
              "0  1.927817  0.958842  1.135224  0.497048  192.988096  \n",
              "1  1.734845  0.916559  1.061186  0.421130  180.401567  \n",
              "2  1.884757  0.925547  1.087614  0.462437  184.894345  \n",
              "3  1.868637  0.942196  1.113725  0.469601  189.333202  \n",
              "4  1.917085  0.878465  1.075850  0.493414  182.894524  \n",
              "\n",
              "[5 rows x 184 columns]"
            ]
          },
          "execution_count": 31,
          "metadata": {},
          "output_type": "execute_result"
        }
      ],
      "source": [
        "all_data.head()"
      ]
    },
    {
      "cell_type": "code",
      "execution_count": 32,
      "metadata": {},
      "outputs": [
        {
          "data": {
            "text/plain": [
              "hdl_cholesterol_human\n",
              "high    0.906297\n",
              "low     0.925167\n",
              "ok      0.917550\n",
              "Name: med_abs, dtype: float64"
            ]
          },
          "execution_count": 32,
          "metadata": {},
          "output_type": "execute_result"
        }
      ],
      "source": [
        "all_data.groupby(['hdl_cholesterol_human'])['med_abs'].mean()"
      ]
    },
    {
      "cell_type": "code",
      "execution_count": 33,
      "metadata": {},
      "outputs": [
        {
          "data": {
            "text/plain": [
              "cholesterol_ldl_human\n",
              "high    0.916013\n",
              "low     0.933726\n",
              "ok      0.916597\n",
              "Name: med_abs, dtype: float64"
            ]
          },
          "execution_count": 33,
          "metadata": {},
          "output_type": "execute_result"
        }
      ],
      "source": [
        "all_data.groupby(['cholesterol_ldl_human'])['med_abs'].mean()"
      ]
    },
    {
      "cell_type": "code",
      "execution_count": 34,
      "metadata": {},
      "outputs": [
        {
          "data": {
            "text/plain": [
              "hemoglobin(hgb)_human\n",
              "high    0.925771\n",
              "low     0.903908\n",
              "ok      0.917302\n",
              "Name: med_abs, dtype: float64"
            ]
          },
          "execution_count": 34,
          "metadata": {},
          "output_type": "execute_result"
        }
      ],
      "source": [
        "all_data.groupby(['hemoglobin(hgb)_human'])['med_abs'].mean()"
      ]
    },
    {
      "cell_type": "markdown",
      "metadata": {},
      "source": [
        "##### Target Distribution"
      ]
    },
    {
      "cell_type": "code",
      "execution_count": 35,
      "metadata": {},
      "outputs": [
        {
          "data": {
            "image/png": "[encoded data removed]",
            "text/plain": [
              "<Figure size 432x288 with 1 Axes>"
            ]
          },
          "metadata": {
            "needs_background": "light"
          },
          "output_type": "display_data"
        }
      ],
      "source": [
        "sns.countplot(x = all_data[\"hdl_cholesterol_human\"]);"
      ]
    },
    {
      "cell_type": "code",
      "execution_count": 36,
      "metadata": {},
      "outputs": [
        {
          "data": {
            "image/png": "[encoded data removed]",
            "text/plain": [
              "<Figure size 432x288 with 1 Axes>"
            ]
          },
          "metadata": {
            "needs_background": "light"
          },
          "output_type": "display_data"
        }
      ],
      "source": [
        "sns.countplot(x = all_data[\"hemoglobin(hgb)_human\"]);"
      ]
    },
    {
      "cell_type": "code",
      "execution_count": 37,
      "metadata": {},
      "outputs": [
        {
          "data": {
            "image/png": "[encoded data removed]",
            "text/plain": [
              "<Figure size 432x288 with 1 Axes>"
            ]
          },
          "metadata": {
            "needs_background": "light"
          },
          "output_type": "display_data"
        }
      ],
      "source": [
        "sns.countplot(x = all_data[\"cholesterol_ldl_human\"]);"
      ]
    },
    {
      "cell_type": "code",
      "execution_count": 38,
      "metadata": {},
      "outputs": [],
      "source": [
        "mapping = {'low' : '0', 'ok' : '1', 'high' : '2'}\n",
        "\n",
        "reverse_mapping = {'0' : 'low', '1' : 'ok', '2' : 'high'}\n",
        "\n",
        "all_data['hdl_cholesterol_human'] = all_data['hdl_cholesterol_human'].replace(mapping)\n",
        "\n",
        "all_data['hemoglobin(hgb)_human'] = all_data['hemoglobin(hgb)_human'].replace(mapping)\n",
        "\n",
        "all_data['cholesterol_ldl_human'] = all_data['cholesterol_ldl_human'].replace(mapping)"
      ]
    },
    {
      "cell_type": "markdown",
      "metadata": {},
      "source": [
        "Target data is higly imbalance"
      ]
    },
    {
      "cell_type": "code",
      "execution_count": 39,
      "metadata": {},
      "outputs": [],
      "source": [
        "# Split data for modelling\n",
        "train = all_data[all_data['tag'] == 'train']\n",
        "test = all_data[all_data['tag'] == 'test']\n",
        "\n",
        "train = train.drop(['tag'], axis = 1)\n",
        "test = test.drop(['tag'], axis = 1)"
      ]
    },
    {
      "cell_type": "code",
      "execution_count": 40,
      "metadata": {},
      "outputs": [
        {
          "name": "stdout",
          "output_type": "stream",
          "text": [
            "(355, 183)\n",
            "(61, 183)\n"
          ]
        }
      ],
      "source": [
        "print(train.shape)\n",
        "print(test.shape)"
      ]
    },
    {
      "cell_type": "code",
      "execution_count": 41,
      "metadata": {},
      "outputs": [],
      "source": [
        "train.to_csv(\"clean_train.csv\")\n",
        "test.to_csv(\"clean_test.csv\")"
      ]
    },
    {
      "cell_type": "code",
      "execution_count": 45,
      "metadata": {},
      "outputs": [
        {
          "data": {
            "image/png": "[encoded data removed]",
            "text/plain": [
              "<Figure size 432x288 with 1 Axes>"
            ]
          },
          "metadata": {
            "needs_background": "light"
          },
          "output_type": "display_data"
        },
        {
          "data": {
            "image/png": "[encoded data removed]",
            "text/plain": [
              "<Figure size 432x288 with 1 Axes>"
            ]
          },
          "metadata": {
            "needs_background": "light"
          },
          "output_type": "display_data"
        },
        {
          "data": {
            "image/png": "[encoded data removed]",
            "text/plain": [
              "<Figure size 432x288 with 1 Axes>"
            ]
          },
          "metadata": {
            "needs_background": "light"
          },
          "output_type": "display_data"
        },
        {
          "data": {
            "image/png": "[encoded data removed]",
            "text/plain": [
              "<Figure size 432x288 with 1 Axes>"
            ]
          },
          "metadata": {
            "needs_background": "light"
          },
          "output_type": "display_data"
        },
        {
          "data": {
            "image/png": "[encoded data removed]",
            "text/plain": [
              "<Figure size 432x288 with 1 Axes>"
            ]
          },
          "metadata": {
            "needs_background": "light"
          },
          "output_type": "display_data"
        },
        {
          "data": {
            "image/png": "[encoded data removed]",
            "text/plain": [
              "<Figure size 432x288 with 1 Axes>"
            ]
          },
          "metadata": {
            "needs_background": "light"
          },
          "output_type": "display_data"
        }
      ],
      "source": [
        "#Reveal some pattern about the targets\n",
        "cols = ['absorbance0','absorbance20', 'absorbance30','absorbance60', 'absorbance70', 'absorbance90']\n",
        "for c in cols:\n",
        "    sns.histplot(train[train['hdl_cholesterol_human']=='0'][str(cols[0])], label='hdl_cholesterol_human=0',color='#f67280');\n",
        "    sns.histplot(train[train['hdl_cholesterol_human']=='1'][str(cols[0])], label='hdl_cholesterol_human=1',color='#c06c84');\n",
        "    sns.histplot(train[train['hdl_cholesterol_human']=='2'][str(cols[0])], label='hdl_cholesterol_human=2',color='#6c5b7b');\n",
        "    plt.legend(loc='upper right')\n",
        "    plt.xlabel('variable {}'.format(c))\n",
        "    plt.ylabel('Frequency')\n",
        "    plt.title('PDF of {}'.format(c))\n",
        "    plt.show()"
      ]
    },
    {
      "cell_type": "markdown",
      "metadata": {},
      "source": [
        "The target 2, 1 and 0 overlaps, this will make it harder to get a good prediction on the data set."
      ]
    }
  ],
  "metadata": {
    "accelerator": "TPU",
    "colab": {
      "include_colab_link": true,
      "name": "data_cleaning.ipynb",
      "provenance": []
    },
    "interpreter": {
      "hash": "aee8b7b246df8f9039afb4144a1f6fd8d2ca17a180786b69acc140d282b71a49"
    },
    "kernelspec": {
      "display_name": "Python 3",
      "language": "python",
      "name": "python3"
    },
    "language_info": {
      "codemirror_mode": {
        "name": "ipython",
        "version": 3
      },
      "file_extension": ".py",
      "mimetype": "text/x-python",
      "name": "python",
      "nbconvert_exporter": "python",
      "pygments_lexer": "ipython3",
      "version": "3.10.1"
    }
  },
  "nbformat": 4,
  "nbformat_minor": 0
}
