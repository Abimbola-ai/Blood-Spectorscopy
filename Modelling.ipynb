{
  "cells": [
    {
      "cell_type": "markdown",
      "id": "f0044f89",
      "metadata": {
        "colab_type": "text",
        "id": "view-in-github"
      },
      "source": [
        "<a href=\"https://colab.research.google.com/github/Abimbola-ai/Blood-Spectorscopy/blob/main/Data_Preparation_Blood_Spectroscopy_(ML_Models).ipynb\" target=\"_parent\"><img src=\"https://colab.research.google.com/assets/colab-badge.svg\" alt=\"Open In Colab\"/></a>"
      ]
    },
    {
      "cell_type": "code",
      "execution_count": 1,
      "id": "4f273843",
      "metadata": {
        "id": "4f273843"
      },
      "outputs": [
        {
          "name": "stderr",
          "output_type": "stream",
          "text": [
            "/var/folders/sf/jsnvw4tn5bd5khnq5nncxv940000gn/T/ipykernel_15727/2379179654.py:4: FutureWarning: pandas.util.testing is deprecated. Use the functions in the public API at pandas.testing instead.\n",
            "  import pandas.util.testing as tm\n"
          ]
        }
      ],
      "source": [
        "import matplotlib.pyplot as plt\n",
        "import numpy as np\n",
        "import pandas as pd\n",
        "import pandas.util.testing as tm\n",
        "import seaborn as sns\n",
        "from sklearn.preprocessing import MinMaxScaler\n",
        "from sklearn.linear_model import LogisticRegression\n",
        "from sklearn.model_selection import GridSearchCV, RepeatedStratifiedKFold, cross_val_score\n",
        "from sklearn.ensemble import RandomForestClassifier\n",
        "from sklearn.svm import SVC\n",
        "from prettytable import PrettyTable\n",
        "from tqdm import tqdm\n",
        "tqdm.pandas()\n",
        "import tqdm\n",
        "import warnings\n",
        "\n",
        "%matplotlib inline\n",
        "warnings.filterwarnings('ignore')\n",
        "seed = 42"
      ]
    },
    {
      "cell_type": "code",
      "execution_count": 2,
      "id": "280df801",
      "metadata": {
        "id": "280df801"
      },
      "outputs": [],
      "source": [
        "train = pd.read_csv(\"Data/clean_train.csv\",index_col=[0])\n",
        "test = pd.read_csv(\"Data/clean_test.csv\",index_col=[0])"
      ]
    },
    {
      "cell_type": "code",
      "execution_count": 3,
      "id": "ee3cb742",
      "metadata": {},
      "outputs": [],
      "source": [
        "scaled_features_train = train.copy()\n",
        "scaled_features_test = test.copy()\n",
        "\n",
        "def scale_data(df):\n",
        "    col_names = ['absorbance0', 'absorbance1', 'absorbance2',\n",
        "       'absorbance3', 'absorbance4', 'absorbance5', 'absorbance6',\n",
        "       'absorbance7', 'absorbance8', 'absorbance9', 'absorbance10',\n",
        "       'absorbance11', 'absorbance12', 'absorbance13', 'absorbance14',\n",
        "       'absorbance15', 'absorbance16', 'absorbance17', 'absorbance18',\n",
        "       'absorbance19', 'absorbance20', 'absorbance21', 'absorbance22',\n",
        "       'absorbance23', 'absorbance24', 'absorbance25', 'absorbance26',\n",
        "       'absorbance27', 'absorbance28', 'absorbance29', 'absorbance30',\n",
        "       'absorbance31', 'absorbance32', 'absorbance33', 'absorbance34',\n",
        "       'absorbance35', 'absorbance36', 'absorbance37', 'absorbance38',\n",
        "       'absorbance39', 'absorbance40', 'absorbance41', 'absorbance42',\n",
        "       'absorbance43', 'absorbance44', 'absorbance45', 'absorbance46',\n",
        "       'absorbance47', 'absorbance48',\n",
        "       'absorbance49', 'absorbance50', 'absorbance51', 'absorbance52',\n",
        "       'absorbance53', 'absorbance54', 'absorbance55', 'absorbance56',\n",
        "       'absorbance57', 'absorbance58', 'absorbance59', 'absorbance60',\n",
        "       'absorbance61', 'absorbance62', 'absorbance63', 'absorbance64',\n",
        "       'absorbance65', 'absorbance66', 'absorbance67', 'absorbance68',\n",
        "       'absorbance69', 'absorbance70', 'absorbance71', 'absorbance72',\n",
        "       'absorbance73', 'absorbance74', 'absorbance75', 'absorbance76',\n",
        "       'absorbance77', 'absorbance78', 'absorbance79', 'absorbance80',\n",
        "       'absorbance81', 'absorbance82', 'absorbance83', 'absorbance84',\n",
        "       'absorbance85', 'absorbance86', 'absorbance87', 'absorbance88',\n",
        "       'absorbance89', 'absorbance90', 'absorbance91', 'absorbance92',\n",
        "       'absorbance93', 'absorbance94', 'absorbance95', 'absorbance96',\n",
        "       'absorbance97', 'absorbance98',\n",
        "       'absorbance99', 'absorbance100', 'absorbance101', 'absorbance102',\n",
        "       'absorbance103', 'absorbance104', 'absorbance105', 'absorbance106',\n",
        "       'absorbance107', 'absorbance108', 'absorbance109', 'absorbance110',\n",
        "       'absorbance111', 'absorbance112', 'absorbance113', 'absorbance114',\n",
        "       'absorbance115', 'absorbance116', 'absorbance117', 'absorbance118',\n",
        "       'absorbance119', 'absorbance120', 'absorbance121', 'absorbance122',\n",
        "       'absorbance123', 'absorbance124', 'absorbance125', 'absorbance126',\n",
        "       'absorbance127', 'absorbance128', 'absorbance129', 'absorbance130',\n",
        "       'absorbance131', 'absorbance132', 'absorbance133', 'absorbance134',\n",
        "       'absorbance135', 'absorbance136', 'absorbance137', 'absorbance138',\n",
        "       'absorbance139', 'absorbance140', 'absorbance141', 'absorbance142',\n",
        "       'absorbance143', 'absorbance144', 'absorbance145', 'absorbance146',\n",
        "       'absorbance147', 'absorbance148', 'absorbance149', 'absorbance150',\n",
        "       'absorbance151', 'absorbance152', 'absorbance153', 'absorbance154',\n",
        "       'absorbance155', 'absorbance156', 'absorbance157', 'absorbance158',\n",
        "       'absorbance159', 'absorbance160', 'absorbance161', 'absorbance162',\n",
        "       'absorbance163', 'absorbance164', 'absorbance165', 'absorbance166',\n",
        "       'absorbance167', 'absorbance168', 'absorbance169', 'temperature',\n",
        "       'humidity','std', 'low_abs', 'high_abs', 'med_abs',\n",
        "       'mean_abs', 'std_abs', 'sum_abs']\n",
        "    features = df[col_names]\n",
        "    scaler = MinMaxScaler().fit(features.values)\n",
        "    features = scaler.transform(features.values)\n",
        "    df[col_names] = features\n",
        "    return df"
      ]
    },
    {
      "cell_type": "code",
      "execution_count": 4,
      "id": "a5c58a6b",
      "metadata": {},
      "outputs": [],
      "source": [
        "train_scaled = scale_data(scaled_features_train)\n",
        "test_scaled = scale_data(scaled_features_test)"
      ]
    },
    {
      "cell_type": "code",
      "execution_count": 5,
      "id": "0f46bff5",
      "metadata": {},
      "outputs": [
        {
          "data": {
            "text/html": [
              "<div>\n",
              "<style scoped>\n",
              "    .dataframe tbody tr th:only-of-type {\n",
              "        vertical-align: middle;\n",
              "    }\n",
              "\n",
              "    .dataframe tbody tr th {\n",
              "        vertical-align: top;\n",
              "    }\n",
              "\n",
              "    .dataframe thead th {\n",
              "        text-align: right;\n",
              "    }\n",
              "</style>\n",
              "<table border=\"1\" class=\"dataframe\">\n",
              "  <thead>\n",
              "    <tr style=\"text-align: right;\">\n",
              "      <th></th>\n",
              "      <th>donation_id</th>\n",
              "      <th>absorbance0</th>\n",
              "      <th>absorbance1</th>\n",
              "      <th>absorbance2</th>\n",
              "      <th>absorbance3</th>\n",
              "      <th>absorbance4</th>\n",
              "      <th>absorbance5</th>\n",
              "      <th>absorbance6</th>\n",
              "      <th>absorbance7</th>\n",
              "      <th>absorbance8</th>\n",
              "      <th>...</th>\n",
              "      <th>hdl_cholesterol_human</th>\n",
              "      <th>hemoglobin(hgb)_human</th>\n",
              "      <th>cholesterol_ldl_human</th>\n",
              "      <th>std</th>\n",
              "      <th>low_abs</th>\n",
              "      <th>high_abs</th>\n",
              "      <th>med_abs</th>\n",
              "      <th>mean_abs</th>\n",
              "      <th>std_abs</th>\n",
              "      <th>sum_abs</th>\n",
              "    </tr>\n",
              "  </thead>\n",
              "  <tbody>\n",
              "    <tr>\n",
              "      <th>0</th>\n",
              "      <td>1975</td>\n",
              "      <td>0.652042</td>\n",
              "      <td>0.642710</td>\n",
              "      <td>0.633364</td>\n",
              "      <td>0.623264</td>\n",
              "      <td>0.622399</td>\n",
              "      <td>0.609421</td>\n",
              "      <td>0.592866</td>\n",
              "      <td>0.584126</td>\n",
              "      <td>0.577179</td>\n",
              "      <td>...</td>\n",
              "      <td>0</td>\n",
              "      <td>1</td>\n",
              "      <td>1</td>\n",
              "      <td>0.790323</td>\n",
              "      <td>0.654070</td>\n",
              "      <td>0.817091</td>\n",
              "      <td>0.633388</td>\n",
              "      <td>0.781237</td>\n",
              "      <td>0.805277</td>\n",
              "      <td>0.781237</td>\n",
              "    </tr>\n",
              "    <tr>\n",
              "      <th>1</th>\n",
              "      <td>1982</td>\n",
              "      <td>0.698607</td>\n",
              "      <td>0.687373</td>\n",
              "      <td>0.673512</td>\n",
              "      <td>0.669837</td>\n",
              "      <td>0.664034</td>\n",
              "      <td>0.648212</td>\n",
              "      <td>0.627822</td>\n",
              "      <td>0.618668</td>\n",
              "      <td>0.610307</td>\n",
              "      <td>...</td>\n",
              "      <td>0</td>\n",
              "      <td>1</td>\n",
              "      <td>2</td>\n",
              "      <td>0.306452</td>\n",
              "      <td>0.700665</td>\n",
              "      <td>0.516564</td>\n",
              "      <td>0.479843</td>\n",
              "      <td>0.519043</td>\n",
              "      <td>0.472824</td>\n",
              "      <td>0.519043</td>\n",
              "    </tr>\n",
              "    <tr>\n",
              "      <th>2</th>\n",
              "      <td>1989</td>\n",
              "      <td>0.680759</td>\n",
              "      <td>0.676126</td>\n",
              "      <td>0.666238</td>\n",
              "      <td>0.668406</td>\n",
              "      <td>0.669962</td>\n",
              "      <td>0.662563</td>\n",
              "      <td>0.643781</td>\n",
              "      <td>0.629202</td>\n",
              "      <td>0.610788</td>\n",
              "      <td>...</td>\n",
              "      <td>0</td>\n",
              "      <td>1</td>\n",
              "      <td>2</td>\n",
              "      <td>0.354839</td>\n",
              "      <td>0.682876</td>\n",
              "      <td>0.750031</td>\n",
              "      <td>0.512484</td>\n",
              "      <td>0.612633</td>\n",
              "      <td>0.653710</td>\n",
              "      <td>0.612633</td>\n",
              "    </tr>\n",
              "    <tr>\n",
              "      <th>3</th>\n",
              "      <td>2018</td>\n",
              "      <td>0.674998</td>\n",
              "      <td>0.668067</td>\n",
              "      <td>0.660314</td>\n",
              "      <td>0.658546</td>\n",
              "      <td>0.652947</td>\n",
              "      <td>0.650522</td>\n",
              "      <td>0.640554</td>\n",
              "      <td>0.632638</td>\n",
              "      <td>0.623293</td>\n",
              "      <td>...</td>\n",
              "      <td>2</td>\n",
              "      <td>1</td>\n",
              "      <td>1</td>\n",
              "      <td>0.935484</td>\n",
              "      <td>0.677097</td>\n",
              "      <td>0.724927</td>\n",
              "      <td>0.572940</td>\n",
              "      <td>0.705100</td>\n",
              "      <td>0.685085</td>\n",
              "      <td>0.705100</td>\n",
              "    </tr>\n",
              "    <tr>\n",
              "      <th>4</th>\n",
              "      <td>2045</td>\n",
              "      <td>0.568017</td>\n",
              "      <td>0.557618</td>\n",
              "      <td>0.541519</td>\n",
              "      <td>0.530828</td>\n",
              "      <td>0.526682</td>\n",
              "      <td>0.510204</td>\n",
              "      <td>0.493224</td>\n",
              "      <td>0.482760</td>\n",
              "      <td>0.467903</td>\n",
              "      <td>...</td>\n",
              "      <td>1</td>\n",
              "      <td>1</td>\n",
              "      <td>1</td>\n",
              "      <td>0.435484</td>\n",
              "      <td>0.569784</td>\n",
              "      <td>0.800377</td>\n",
              "      <td>0.341514</td>\n",
              "      <td>0.570974</td>\n",
              "      <td>0.789363</td>\n",
              "      <td>0.570974</td>\n",
              "    </tr>\n",
              "  </tbody>\n",
              "</table>\n",
              "<p>5 rows × 183 columns</p>\n",
              "</div>"
            ],
            "text/plain": [
              "   donation_id  absorbance0  absorbance1  absorbance2  absorbance3  \\\n",
              "0         1975     0.652042     0.642710     0.633364     0.623264   \n",
              "1         1982     0.698607     0.687373     0.673512     0.669837   \n",
              "2         1989     0.680759     0.676126     0.666238     0.668406   \n",
              "3         2018     0.674998     0.668067     0.660314     0.658546   \n",
              "4         2045     0.568017     0.557618     0.541519     0.530828   \n",
              "\n",
              "   absorbance4  absorbance5  absorbance6  absorbance7  absorbance8  ...  \\\n",
              "0     0.622399     0.609421     0.592866     0.584126     0.577179  ...   \n",
              "1     0.664034     0.648212     0.627822     0.618668     0.610307  ...   \n",
              "2     0.669962     0.662563     0.643781     0.629202     0.610788  ...   \n",
              "3     0.652947     0.650522     0.640554     0.632638     0.623293  ...   \n",
              "4     0.526682     0.510204     0.493224     0.482760     0.467903  ...   \n",
              "\n",
              "   hdl_cholesterol_human  hemoglobin(hgb)_human  cholesterol_ldl_human  \\\n",
              "0                      0                      1                      1   \n",
              "1                      0                      1                      2   \n",
              "2                      0                      1                      2   \n",
              "3                      2                      1                      1   \n",
              "4                      1                      1                      1   \n",
              "\n",
              "        std   low_abs  high_abs   med_abs  mean_abs   std_abs   sum_abs  \n",
              "0  0.790323  0.654070  0.817091  0.633388  0.781237  0.805277  0.781237  \n",
              "1  0.306452  0.700665  0.516564  0.479843  0.519043  0.472824  0.519043  \n",
              "2  0.354839  0.682876  0.750031  0.512484  0.612633  0.653710  0.612633  \n",
              "3  0.935484  0.677097  0.724927  0.572940  0.705100  0.685085  0.705100  \n",
              "4  0.435484  0.569784  0.800377  0.341514  0.570974  0.789363  0.570974  \n",
              "\n",
              "[5 rows x 183 columns]"
            ]
          },
          "execution_count": 5,
          "metadata": {},
          "output_type": "execute_result"
        }
      ],
      "source": [
        "train_scaled.head()"
      ]
    },
    {
      "cell_type": "code",
      "execution_count": 6,
      "id": "bb47a52b",
      "metadata": {},
      "outputs": [
        {
          "data": {
            "text/html": [
              "<div>\n",
              "<style scoped>\n",
              "    .dataframe tbody tr th:only-of-type {\n",
              "        vertical-align: middle;\n",
              "    }\n",
              "\n",
              "    .dataframe tbody tr th {\n",
              "        vertical-align: top;\n",
              "    }\n",
              "\n",
              "    .dataframe thead th {\n",
              "        text-align: right;\n",
              "    }\n",
              "</style>\n",
              "<table border=\"1\" class=\"dataframe\">\n",
              "  <thead>\n",
              "    <tr style=\"text-align: right;\">\n",
              "      <th></th>\n",
              "      <th>donation_id</th>\n",
              "      <th>absorbance0</th>\n",
              "      <th>absorbance1</th>\n",
              "      <th>absorbance2</th>\n",
              "      <th>absorbance3</th>\n",
              "      <th>absorbance4</th>\n",
              "      <th>absorbance5</th>\n",
              "      <th>absorbance6</th>\n",
              "      <th>absorbance7</th>\n",
              "      <th>absorbance8</th>\n",
              "      <th>...</th>\n",
              "      <th>hdl_cholesterol_human</th>\n",
              "      <th>hemoglobin(hgb)_human</th>\n",
              "      <th>cholesterol_ldl_human</th>\n",
              "      <th>std</th>\n",
              "      <th>low_abs</th>\n",
              "      <th>high_abs</th>\n",
              "      <th>med_abs</th>\n",
              "      <th>mean_abs</th>\n",
              "      <th>std_abs</th>\n",
              "      <th>sum_abs</th>\n",
              "    </tr>\n",
              "  </thead>\n",
              "  <tbody>\n",
              "    <tr>\n",
              "      <th>0</th>\n",
              "      <td>1975</td>\n",
              "      <td>0.505055</td>\n",
              "      <td>0.506570</td>\n",
              "      <td>0.511544</td>\n",
              "      <td>0.516300</td>\n",
              "      <td>0.524067</td>\n",
              "      <td>0.530191</td>\n",
              "      <td>0.536138</td>\n",
              "      <td>0.542317</td>\n",
              "      <td>0.551118</td>\n",
              "      <td>...</td>\n",
              "      <td>0</td>\n",
              "      <td>1</td>\n",
              "      <td>1</td>\n",
              "      <td>0.0073</td>\n",
              "      <td>0.505055</td>\n",
              "      <td>1.927817</td>\n",
              "      <td>0.958842</td>\n",
              "      <td>1.135224</td>\n",
              "      <td>0.497048</td>\n",
              "      <td>192.988096</td>\n",
              "    </tr>\n",
              "    <tr>\n",
              "      <th>1</th>\n",
              "      <td>1982</td>\n",
              "      <td>0.523531</td>\n",
              "      <td>0.523485</td>\n",
              "      <td>0.526291</td>\n",
              "      <td>0.532875</td>\n",
              "      <td>0.538397</td>\n",
              "      <td>0.543180</td>\n",
              "      <td>0.547520</td>\n",
              "      <td>0.553433</td>\n",
              "      <td>0.561674</td>\n",
              "      <td>...</td>\n",
              "      <td>0</td>\n",
              "      <td>1</td>\n",
              "      <td>2</td>\n",
              "      <td>0.0043</td>\n",
              "      <td>0.523485</td>\n",
              "      <td>1.734845</td>\n",
              "      <td>0.916559</td>\n",
              "      <td>1.061186</td>\n",
              "      <td>0.421130</td>\n",
              "      <td>180.401567</td>\n",
              "    </tr>\n",
              "    <tr>\n",
              "      <th>2</th>\n",
              "      <td>1989</td>\n",
              "      <td>0.516449</td>\n",
              "      <td>0.519226</td>\n",
              "      <td>0.523619</td>\n",
              "      <td>0.532366</td>\n",
              "      <td>0.540438</td>\n",
              "      <td>0.547985</td>\n",
              "      <td>0.552716</td>\n",
              "      <td>0.556823</td>\n",
              "      <td>0.561827</td>\n",
              "      <td>...</td>\n",
              "      <td>0</td>\n",
              "      <td>1</td>\n",
              "      <td>2</td>\n",
              "      <td>0.0046</td>\n",
              "      <td>0.516449</td>\n",
              "      <td>1.884757</td>\n",
              "      <td>0.925547</td>\n",
              "      <td>1.087614</td>\n",
              "      <td>0.462437</td>\n",
              "      <td>184.894345</td>\n",
              "    </tr>\n",
              "    <tr>\n",
              "      <th>3</th>\n",
              "      <td>2018</td>\n",
              "      <td>0.514163</td>\n",
              "      <td>0.516174</td>\n",
              "      <td>0.521443</td>\n",
              "      <td>0.528857</td>\n",
              "      <td>0.534581</td>\n",
              "      <td>0.543953</td>\n",
              "      <td>0.551666</td>\n",
              "      <td>0.557929</td>\n",
              "      <td>0.565811</td>\n",
              "      <td>...</td>\n",
              "      <td>2</td>\n",
              "      <td>1</td>\n",
              "      <td>1</td>\n",
              "      <td>0.0082</td>\n",
              "      <td>0.514163</td>\n",
              "      <td>1.868637</td>\n",
              "      <td>0.942196</td>\n",
              "      <td>1.113725</td>\n",
              "      <td>0.469601</td>\n",
              "      <td>189.333202</td>\n",
              "    </tr>\n",
              "    <tr>\n",
              "      <th>4</th>\n",
              "      <td>2045</td>\n",
              "      <td>0.471717</td>\n",
              "      <td>0.474344</td>\n",
              "      <td>0.477808</td>\n",
              "      <td>0.483401</td>\n",
              "      <td>0.491121</td>\n",
              "      <td>0.496970</td>\n",
              "      <td>0.503694</td>\n",
              "      <td>0.509696</td>\n",
              "      <td>0.516301</td>\n",
              "      <td>...</td>\n",
              "      <td>1</td>\n",
              "      <td>1</td>\n",
              "      <td>1</td>\n",
              "      <td>0.0051</td>\n",
              "      <td>0.471717</td>\n",
              "      <td>1.917085</td>\n",
              "      <td>0.878465</td>\n",
              "      <td>1.075850</td>\n",
              "      <td>0.493414</td>\n",
              "      <td>182.894524</td>\n",
              "    </tr>\n",
              "  </tbody>\n",
              "</table>\n",
              "<p>5 rows × 183 columns</p>\n",
              "</div>"
            ],
            "text/plain": [
              "   donation_id  absorbance0  absorbance1  absorbance2  absorbance3  \\\n",
              "0         1975     0.505055     0.506570     0.511544     0.516300   \n",
              "1         1982     0.523531     0.523485     0.526291     0.532875   \n",
              "2         1989     0.516449     0.519226     0.523619     0.532366   \n",
              "3         2018     0.514163     0.516174     0.521443     0.528857   \n",
              "4         2045     0.471717     0.474344     0.477808     0.483401   \n",
              "\n",
              "   absorbance4  absorbance5  absorbance6  absorbance7  absorbance8  ...  \\\n",
              "0     0.524067     0.530191     0.536138     0.542317     0.551118  ...   \n",
              "1     0.538397     0.543180     0.547520     0.553433     0.561674  ...   \n",
              "2     0.540438     0.547985     0.552716     0.556823     0.561827  ...   \n",
              "3     0.534581     0.543953     0.551666     0.557929     0.565811  ...   \n",
              "4     0.491121     0.496970     0.503694     0.509696     0.516301  ...   \n",
              "\n",
              "   hdl_cholesterol_human  hemoglobin(hgb)_human  cholesterol_ldl_human  \\\n",
              "0                      0                      1                      1   \n",
              "1                      0                      1                      2   \n",
              "2                      0                      1                      2   \n",
              "3                      2                      1                      1   \n",
              "4                      1                      1                      1   \n",
              "\n",
              "      std   low_abs  high_abs   med_abs  mean_abs   std_abs     sum_abs  \n",
              "0  0.0073  0.505055  1.927817  0.958842  1.135224  0.497048  192.988096  \n",
              "1  0.0043  0.523485  1.734845  0.916559  1.061186  0.421130  180.401567  \n",
              "2  0.0046  0.516449  1.884757  0.925547  1.087614  0.462437  184.894345  \n",
              "3  0.0082  0.514163  1.868637  0.942196  1.113725  0.469601  189.333202  \n",
              "4  0.0051  0.471717  1.917085  0.878465  1.075850  0.493414  182.894524  \n",
              "\n",
              "[5 rows x 183 columns]"
            ]
          },
          "execution_count": 6,
          "metadata": {},
          "output_type": "execute_result"
        }
      ],
      "source": [
        "train.head()"
      ]
    },
    {
      "cell_type": "code",
      "execution_count": 7,
      "id": "d0ea15d0",
      "metadata": {},
      "outputs": [
        {
          "name": "stdout",
          "output_type": "stream",
          "text": [
            "(355, 179)\n",
            "(355,)\n",
            "(355,)\n",
            "(355,)\n"
          ]
        }
      ],
      "source": [
        "# Raw Data\n",
        "y_hdl_cholesterol_human = train_scaled['hdl_cholesterol_human']\n",
        "y_hemoglobin_hgb_human = train_scaled['hemoglobin(hgb)_human']\n",
        "y_cholesterol_ldl_human = train_scaled[\"cholesterol_ldl_human\"]\n",
        "train_unscaled = train.drop(['donation_id', 'hdl_cholesterol_human', 'hemoglobin(hgb)_human',\n",
        "       'cholesterol_ldl_human'], axis=1)\n",
        "train_scaled_drop = train_scaled.drop(['donation_id', 'hdl_cholesterol_human', 'hemoglobin(hgb)_human',\n",
        "       'cholesterol_ldl_human'], axis=1)\n",
        "\n",
        "df_train = train_scaled_drop.copy()\n",
        "df_trainu = train_unscaled.copy() #Unscaled data\n",
        "print(df_train.shape)\n",
        "print(y_hdl_cholesterol_human.shape)\n",
        "print(y_hemoglobin_hgb_human.shape)\n",
        "print(y_cholesterol_ldl_human.shape)"
      ]
    },
    {
      "cell_type": "code",
      "execution_count": 8,
      "id": "0742220d",
      "metadata": {},
      "outputs": [],
      "source": [
        "X_cols = list(df_train.columns)\n",
        "X_test = test_scaled[X_cols] # Scaled test data\n",
        "X_testu = test[X_cols] # Unscaled test data"
      ]
    },
    {
      "cell_type": "code",
      "execution_count": 9,
      "id": "bf63ca07",
      "metadata": {},
      "outputs": [],
      "source": [
        "def hyperparameter_model(models, params, x_train, y_train):\n",
        "    '''\n",
        "    Hyperparameter tuning with RepeatedStratifiedKFold follow by GridSearchCV\n",
        "    \n",
        "    Parameters:\n",
        "    models: Instance of the model\n",
        "    params: list of parameters with value for tuning (dict)\n",
        "    \n",
        "    Return:\n",
        "    grid_clf: return gridsearch model    \n",
        "    '''\n",
        "    str_cv = RepeatedStratifiedKFold(n_splits=10, n_repeats=5, random_state=seed)\n",
        "    grid_clf = GridSearchCV(models, params, cv=str_cv, return_train_score=True, scoring='roc_auc')\n",
        "    grid_clf.fit(x_train, y_train)\n",
        "    return grid_clf\n",
        "\n",
        "def forward_selection_model(x_train, y_train,model, top_n=10):\n",
        "    top_column = []\n",
        "    exist_score = 0\n",
        "    for n in range(top_n):\n",
        "        print('for {} feature'.format(n+1))\n",
        "        flag = 0\n",
        "        for i in tqdm.tqdm_notebook(range(X_test.shape[1])):\n",
        "            if len(top_column) == 0:\n",
        "                str_cv = RepeatedStratifiedKFold(n_splits=10, n_repeats=5, random_state=42)\n",
        "                score = cross_val_score(model,x_train[:,[i]],y_train,cv=str_cv,scoring='roc_auc')\n",
        "                if exist_score < np.mean(score):\n",
        "                    top_current = i\n",
        "                    exist_score = np.mean(score)\n",
        "                    flag = 1\n",
        "            elif i not in top_column:\n",
        "                str_cv = RepeatedStratifiedKFold(n_splits=10, n_repeats=5, random_state=42)\n",
        "                score = cross_val_score(model,x_train[:,np.concatenate((top_column,[i]))],y_train,cv=str_cv,scoring='roc_auc')\n",
        "                if exist_score < np.mean(score):\n",
        "                    top_current = i\n",
        "                    exist_score = np.mean(score)\n",
        "                    flag = 1\n",
        "        \n",
        "        if flag == 1:\n",
        "            print('Current top feature {} and score: {}'.format(top_current,exist_score))\n",
        "            print('Appended to top column')\n",
        "            top_column.append(top_current)\n",
        "            print(top_column)\n",
        "        else:\n",
        "            break\n",
        "    return top_column\n",
        "\n",
        "\n",
        "def plot_feature_importance(model, model_name, top_n = 10):\n",
        "    '''  \n",
        "    Parameters:\n",
        "    model: model \n",
        "    model_name: name of the model\n",
        "  \n",
        "    Return:\n",
        "    Top 10 features of the dataset  \n",
        "    '''       \n",
        "    column_name = train.drop(['id','target'], axis=1).columns\n",
        "    if model_name == 'log_model':\n",
        "        feat_imp_coef = model.coef_.ravel()\n",
        "    else:\n",
        "        feat_imp_coef = model.feature_importances_\n",
        "    temp = pd.DataFrame(data=np.column_stack((column_name, feat_imp_coef)), columns=['col_name','coef'])\n",
        "    temp = temp.sort_values(by='coef', ascending=False).reset_index()\n",
        "    df = temp\n",
        "    temp = temp[:top_n]\n",
        "    return temp"
      ]
    },
    {
      "cell_type": "code",
      "execution_count": 10,
      "id": "ca1bbc59",
      "metadata": {},
      "outputs": [],
      "source": [
        "reverse_mapping = {'0' : 'low', '1' : 'ok', '2' : 'high'}"
      ]
    },
    {
      "cell_type": "markdown",
      "id": "c1c14154",
      "metadata": {},
      "source": [
        "#### Build each model individually"
      ]
    },
    {
      "cell_type": "markdown",
      "id": "ef9eef7f",
      "metadata": {},
      "source": [
        "##### A. Baseline Model - Logistic Regression"
      ]
    },
    {
      "cell_type": "markdown",
      "id": "3608f936",
      "metadata": {},
      "source": [
        "- hdl cholesterol human"
      ]
    },
    {
      "cell_type": "code",
      "execution_count": 11,
      "id": "fc93343b",
      "metadata": {},
      "outputs": [
        {
          "data": {
            "text/plain": [
              "ok     57\n",
              "low     4\n",
              "Name: hdl_cholesterol_human, dtype: int64"
            ]
          },
          "execution_count": 11,
          "metadata": {},
          "output_type": "execute_result"
        }
      ],
      "source": [
        "log_reg = LogisticRegression(random_state=seed)\n",
        "log_reg.fit(df_train,y_hdl_cholesterol_human)\n",
        "hdl_cholesterol_human = log_reg.predict(X_test)\n",
        "test['hdl_cholesterol_human'] = hdl_cholesterol_human.astype(str)\n",
        "test['hdl_cholesterol_human'] = test['hdl_cholesterol_human'].replace(reverse_mapping)\n",
        "test['hdl_cholesterol_human'].value_counts()"
      ]
    },
    {
      "cell_type": "markdown",
      "id": "1adb2ae6",
      "metadata": {},
      "source": [
        "- ldl cholesterol human"
      ]
    },
    {
      "cell_type": "code",
      "execution_count": 12,
      "id": "f864d20a",
      "metadata": {},
      "outputs": [
        {
          "data": {
            "text/plain": [
              "ok      56\n",
              "high     5\n",
              "Name: cholesterol_ldl_human, dtype: int64"
            ]
          },
          "execution_count": 12,
          "metadata": {},
          "output_type": "execute_result"
        }
      ],
      "source": [
        "log_reg2 = LogisticRegression(random_state=seed)\n",
        "log_reg2.fit(df_train,y_cholesterol_ldl_human)\n",
        "cholesterol_ldl_human = log_reg2.predict(X_test)\n",
        "test['cholesterol_ldl_human'] = cholesterol_ldl_human.astype(str)\n",
        "test['cholesterol_ldl_human'] = test['cholesterol_ldl_human'].replace(reverse_mapping)\n",
        "test['cholesterol_ldl_human'].value_counts()"
      ]
    },
    {
      "cell_type": "markdown",
      "id": "4323c8b9",
      "metadata": {},
      "source": [
        "- hemoglobin human"
      ]
    },
    {
      "cell_type": "code",
      "execution_count": 13,
      "id": "e756da6f",
      "metadata": {},
      "outputs": [
        {
          "data": {
            "text/plain": [
              "ok    61\n",
              "Name: hemoglobin_hgb_human, dtype: int64"
            ]
          },
          "execution_count": 13,
          "metadata": {},
          "output_type": "execute_result"
        }
      ],
      "source": [
        "log_reg3 = LogisticRegression(random_state=seed)\n",
        "log_reg3.fit(df_train,y_hemoglobin_hgb_human)\n",
        "\n",
        "hemoglobin_hgb_human = log_reg3.predict(X_test)\n",
        "test['hemoglobin_hgb_human'] = hemoglobin_hgb_human.astype(str)\n",
        "test['hemoglobin_hgb_human'] = test['hemoglobin_hgb_human'].replace(reverse_mapping)\n",
        "test['hemoglobin_hgb_human'].value_counts()"
      ]
    },
    {
      "cell_type": "markdown",
      "id": "b59581f5",
      "metadata": {},
      "source": [
        "Leaderboard score with logistic regression is 0.5821917808219178"
      ]
    },
    {
      "cell_type": "markdown",
      "id": "cd295805",
      "metadata": {},
      "source": [
        "##### B. Logistic Regression with optimization"
      ]
    },
    {
      "cell_type": "markdown",
      "id": "78f99f0c",
      "metadata": {},
      "source": [
        "- hdl cholesterol human"
      ]
    },
    {
      "cell_type": "code",
      "execution_count": 15,
      "id": "013950dd",
      "metadata": {},
      "outputs": [],
      "source": [
        "params = {'penalty':['l1', 'l2', 'elasticnet'], 'C':[10**i for i in range(-4,5)], 'solver':['liblinear','sag']}\n",
        "log_model_hdl = LogisticRegression(random_state=42, class_weight='balanced')\n",
        "log_clf_hdl = hyperparameter_model(log_model_hdl, params, df_train,y_hdl_cholesterol_human)\n",
        "print(log_clf_hdl.best_params_)\n",
        "\n",
        "log_model_hdl = LogisticRegression(**log_clf_hdl.best_params_, class_weight='balanced', random_state=42)\n",
        "log_model_hdl.fit(df_train,y_hdl_cholesterol_human)\n",
        "\n",
        "hdl_cholesterol_human = log_model_hdl.predict(X_test)\n",
        "test['hdl_cholesterol_human'] = hdl_cholesterol_human.astype(str)\n",
        "test['hdl_cholesterol_human'] = test['hdl_cholesterol_human'].replace(reverse_mapping)\n",
        "test['hdl_cholesterol_human'].value_counts()"
      ]
    },
    {
      "cell_type": "markdown",
      "id": "e2ada154",
      "metadata": {},
      "source": [
        "- ldl cholesterol human"
      ]
    },
    {
      "cell_type": "code",
      "execution_count": null,
      "id": "ceef4540",
      "metadata": {},
      "outputs": [],
      "source": [
        "params = {'penalty':['l1', 'l2', 'elasticnet'], 'C':[10**i for i in range(-4,5)], 'solver':['liblinear','sag']}\n",
        "log_model_ldl = LogisticRegression(random_state=42, class_weight='balanced')\n",
        "log_clf_ldl = hyperparameter_model(log_model_ldl, params, df_train,y_cholesterol_ldl_human)\n",
        "print(log_clf_ldl.best_params_)\n",
        "\n",
        "log_model_ldl = LogisticRegression(**log_clf_ldl.best_params_, class_weight='balanced', random_state=seed)\n",
        "log_model_ldl.fit(df_train,y_cholesterol_ldl_human)\n",
        "\n",
        "cholesterol_ldl_human = log_model_ldl.predict(X_test)\n",
        "test['cholesterol_ldl_human'] = cholesterol_ldl_human.astype(str)\n",
        "test['cholesterol_ldl_human'] = test['cholesterol_ldl_human'].replace(reverse_mapping)\n",
        "test['cholesterol_ldl_human'].value_counts()"
      ]
    },
    {
      "cell_type": "markdown",
      "id": "08e3e15a",
      "metadata": {},
      "source": [
        "- hemoglobin human"
      ]
    },
    {
      "cell_type": "code",
      "execution_count": null,
      "id": "9afb952b",
      "metadata": {},
      "outputs": [],
      "source": [
        "params = {'penalty':['l1', 'l2', 'elasticnet'], 'C':[10**i for i in range(-4,5)], 'solver':['liblinear','sag']}\n",
        "log_model_hgb = LogisticRegression(random_state=42, class_weight='balanced')\n",
        "log_clf_hgb = hyperparameter_model(log_model_hgb, params, df_train,y_hemoglobin_hgb_human)\n",
        "print(log_clf_hgb.best_params_)\n",
        "\n",
        "log_model_hgb = LogisticRegression(**log_clf_hgb.best_params_, class_weight='balanced', random_state=seed)\n",
        "log_model_hgb.fit(df_train,y_hemoglobin_hgb_human)\n",
        "\n",
        "hemoglobin_hgb_human = log_model_hgb.predict(X_test)\n",
        "test['hemoglobin_hgb_human'] = hemoglobin_hgb_human.astype(str)\n",
        "test['hemoglobin_hgb_human'] = test['hemoglobin_hgb_human'].replace(reverse_mapping)\n",
        "test['hemoglobin_hgb_human'].value_counts()"
      ]
    },
    {
      "cell_type": "markdown",
      "id": "204f15c8",
      "metadata": {},
      "source": [
        "Submission score dropped to 0.5753424657534246 "
      ]
    },
    {
      "cell_type": "markdown",
      "id": "b3e08265",
      "metadata": {},
      "source": [
        "#### C. PCA & Logistic Regression"
      ]
    },
    {
      "cell_type": "code",
      "execution_count": 17,
      "id": "deb4ba34",
      "metadata": {},
      "outputs": [],
      "source": [
        "# # https://scikit-learn.org/stable/auto_examples/compose/plot_digits_pipe.html\n",
        "# # https://machinelearningmastery.com/multinomial-logistic-regression-with-python/\n",
        "\n",
        "from sklearn.decomposition import PCA\n",
        "from sklearn.pipeline import Pipeline\n",
        "def pca_lr(x_train, y_train):\n",
        "    pca = PCA()\n",
        "\n",
        "    logistic = LogisticRegression(random_state = 42,solver='liblinear',max_iter=10000, tol=0.1)\n",
        "    pipe = Pipeline(steps=[('pca', pca), ('logistic', logistic)])\n",
        "\n",
        "\n",
        "# Parameters of pipelines can be set using ‘__’ separated parameter names:\n",
        "    param_grid = {\n",
        "    'pca__n_components': np.arange(170),\n",
        "    'logistic__C': np.logspace(-4, 4, 4),\n",
        "    }\n",
        "    search = GridSearchCV(pipe, param_grid, n_jobs=-1)\n",
        "    search.fit(x_train, y_train)\n",
        "    print('Best parameter (CV score=%0.3f):' % search.best_score_)\n",
        "    print(search.best_params_)\n",
        "\n",
        "    # Plot the PCA spectrum\n",
        "    pca.fit(x_train)\n",
        "\n",
        "    fig, (ax0, ax1) = plt.subplots(nrows=2, sharex=True, figsize=(6, 6))\n",
        "    ax0.plot(np.arange(1, pca.n_components_ + 1),\n",
        "         np.cumsum(pca.explained_variance_ratio_), '+', linewidth=2)\n",
        "    ax0.set_ylabel('PCA cummulative explained variance ratio')\n",
        "\n",
        "    ax0.axvline(search.best_estimator_.named_steps['pca'].n_components,\n",
        "            linestyle=':', label='n_components chosen')\n",
        "    ax0.legend(prop=dict(size=12))\n",
        "\n",
        "    # For each number of components, find the best classifier results\n",
        "    results = pd.DataFrame(search.cv_results_)\n",
        "    components_col = 'param_pca__n_components'\n",
        "    best_clfs = results.groupby(components_col).apply(\n",
        "    lambda g: g.nlargest(1, 'mean_test_score'))\n",
        "\n",
        "    best_clfs.plot(x=components_col, y='mean_test_score', yerr='std_test_score',\n",
        "               legend=False, ax=ax1)\n",
        "    ax1.set_ylabel('Classification accuracy (val)')\n",
        "    ax1.set_xlabel('n_components')\n",
        "\n",
        "    plt.xlim(-1, 70)\n",
        "    plt.tight_layout()\n",
        "    plt.show()\n",
        "\n",
        "    #print(f'Cummulative explained variance ratio:',np.cumsum(pca.explained_variance_ratio_))\n"
      ]
    },
    {
      "cell_type": "markdown",
      "id": "685a983d",
      "metadata": {},
      "source": [
        "- hdl cholesterol human"
      ]
    },
    {
      "cell_type": "code",
      "execution_count": 18,
      "id": "09b96b73",
      "metadata": {},
      "outputs": [],
      "source": [
        "pca_lr(df_train,y_hdl_cholesterol_human)\n",
        "hdl_cholesterol_human = search.predict(X_test)\n",
        "test['hdl_cholesterol_human'] = hdl_cholesterol_human.astype(str)\n",
        "test['hdl_cholesterol_human'] = test['hdl_cholesterol_human'].replace(reverse_mapping)\n",
        "test['hdl_cholesterol_human'].value_counts()"
      ]
    },
    {
      "cell_type": "code",
      "execution_count": 19,
      "id": "d6ae9735",
      "metadata": {},
      "outputs": [],
      "source": [
        "pca_lr(df_train,y_cholesterol_ldl_human)\n",
        "cholesterol_ldl_human = search.predict(X_test)\n",
        "test['cholesterol_ldl_human'] = cholesterol_ldl_human.astype(str)\n",
        "test['cholesterol_ldl_human'] = test['cholesterol_ldl_human'].replace(reverse_mapping)\n",
        "test['cholesterol_ldl_human'].value_counts()"
      ]
    },
    {
      "cell_type": "code",
      "execution_count": 20,
      "id": "74789929",
      "metadata": {},
      "outputs": [],
      "source": [
        "pca_lr(df_train,y_hemoglobin_hgb_human)\n",
        "hemoglobin_hgb_human = search.predict(X_test)\n",
        "test['hemoglobin_hgb_human'] = hemoglobin_hgb_human.astype(str)\n",
        "test['hemoglobin_hgb_human'] = test['hemoglobin_hgb_human'].replace(reverse_mapping)\n",
        "test['hemoglobin_hgb_human'].value_counts()"
      ]
    },
    {
      "cell_type": "markdown",
      "id": "64bdf4aa",
      "metadata": {},
      "source": [
        "Score with PCA is 0.56"
      ]
    },
    {
      "cell_type": "markdown",
      "id": "07db0430",
      "metadata": {},
      "source": [
        "#### D. Random Forest Classifier"
      ]
    },
    {
      "cell_type": "code",
      "execution_count": 21,
      "id": "8b6f2072",
      "metadata": {},
      "outputs": [
        {
          "name": "stdout",
          "output_type": "stream",
          "text": [
            "Random forest trained on unscaled data\n"
          ]
        },
        {
          "data": {
            "text/plain": [
              "ok      53\n",
              "low      5\n",
              "high     3\n",
              "Name: hdl_cholesterol_human, dtype: int64"
            ]
          },
          "execution_count": 21,
          "metadata": {},
          "output_type": "execute_result"
        }
      ],
      "source": [
        "from sklearn.ensemble import RandomForestClassifier\n",
        "\n",
        "rf_hdl = RandomForestClassifier(random_state=seed)\n",
        "rf_hdl.fit(df_train,y_hdl_cholesterol_human)\n",
        "print(\"Random forest trained on unscaled data\")\n",
        "\n",
        "hdl_cholesterol_human = rf_hdl.predict(X_test)\n",
        "test['hdl_cholesterol_human'] = hdl_cholesterol_human.astype(str)\n",
        "test['hdl_cholesterol_human'] = test['hdl_cholesterol_human'].replace(reverse_mapping)\n",
        "test['hdl_cholesterol_human'].value_counts()\n"
      ]
    },
    {
      "cell_type": "code",
      "execution_count": 22,
      "id": "3598f7ae",
      "metadata": {},
      "outputs": [
        {
          "name": "stdout",
          "output_type": "stream",
          "text": [
            "Random forest trained on unscaled data\n"
          ]
        },
        {
          "data": {
            "text/plain": [
              "ok      39\n",
              "high    21\n",
              "low      1\n",
              "Name: cholesterol_ldl_human, dtype: int64"
            ]
          },
          "execution_count": 22,
          "metadata": {},
          "output_type": "execute_result"
        }
      ],
      "source": [
        "rf_ldl = RandomForestClassifier(random_state=seed)\n",
        "rf_ldl.fit(df_train,y_cholesterol_ldl_human)\n",
        "print(\"Random forest trained on unscaled data\")\n",
        "\n",
        "cholesterol_ldl_human = rf_ldl.predict(X_test)\n",
        "test['cholesterol_ldl_human'] = cholesterol_ldl_human.astype(str)\n",
        "test['cholesterol_ldl_human'] = test['cholesterol_ldl_human'].replace(reverse_mapping)\n",
        "test['cholesterol_ldl_human'].value_counts()"
      ]
    },
    {
      "cell_type": "code",
      "execution_count": 23,
      "id": "19b501dd",
      "metadata": {},
      "outputs": [
        {
          "name": "stdout",
          "output_type": "stream",
          "text": [
            "Random forest trained on unscaled data\n"
          ]
        },
        {
          "data": {
            "text/plain": [
              "ok     60\n",
              "low     1\n",
              "Name: hemoglobin_hgb_human, dtype: int64"
            ]
          },
          "execution_count": 23,
          "metadata": {},
          "output_type": "execute_result"
        }
      ],
      "source": [
        "rf_hgb = RandomForestClassifier(random_state=seed)\n",
        "rf_hgb.fit(df_train,y_hemoglobin_hgb_human)\n",
        "print(\"Random forest trained on unscaled data\")\n",
        "\n",
        "hemoglobin_hgb_human = rf_hgb.predict(X_test)\n",
        "test['hemoglobin_hgb_human'] = hemoglobin_hgb_human.astype(str)\n",
        "test['hemoglobin_hgb_human'] = test['hemoglobin_hgb_human'].replace(reverse_mapping)\n",
        "test['hemoglobin_hgb_human'].value_counts()"
      ]
    },
    {
      "cell_type": "markdown",
      "id": "6d392920",
      "metadata": {},
      "source": [
        "RF without optimization gave a score of 0.541 with unscaled data. and 0.51 with scaled data."
      ]
    },
    {
      "cell_type": "markdown",
      "id": "966b4767",
      "metadata": {},
      "source": [
        "#### E. Random Forest Classifier with optimization"
      ]
    },
    {
      "cell_type": "code",
      "execution_count": 43,
      "id": "e4fc394c",
      "metadata": {},
      "outputs": [
        {
          "name": "stdout",
          "output_type": "stream",
          "text": [
            "{'max_depth': 2, 'n_estimators': 10}\n"
          ]
        },
        {
          "data": {
            "text/plain": [
              "ok      60\n",
              "high     1\n",
              "Name: cholesterol_ldl_human, dtype: int64"
            ]
          },
          "execution_count": 43,
          "metadata": {},
          "output_type": "execute_result"
        }
      ],
      "source": [
        "params = {'n_estimators':[10,20,30,40,50,100,200,300,400],'max_depth':[2,3,5,7]}\n",
        "rf_model_ldl = RandomForestClassifier(random_state=seed)\n",
        "rf_clf_ldl = hyperparameter_model(rf_model_ldl, params,df_train,y_cholesterol_ldl_human)\n",
        "print(rf_clf_ldl.best_params_)\n",
        "rf_clf_ldl = RandomForestClassifier(**rf_clf_ldl.best_params_,random_state=seed)\n",
        "rf_clf_ldl.fit(df_trainu,y_cholesterol_ldl_human)\n",
        "\n",
        "cholesterol_ldl_human = rf_clf_ldl.predict(X_test)\n",
        "test['cholesterol_ldl_human'] = cholesterol_ldl_human.astype(str)\n",
        "test['cholesterol_ldl_human'] = test['cholesterol_ldl_human'].replace(reverse_mapping)\n",
        "test['cholesterol_ldl_human'].value_counts()"
      ]
    },
    {
      "cell_type": "code",
      "execution_count": 44,
      "id": "69490a8a",
      "metadata": {},
      "outputs": [
        {
          "name": "stdout",
          "output_type": "stream",
          "text": [
            "{'max_depth': 2, 'n_estimators': 10}\n"
          ]
        },
        {
          "data": {
            "text/plain": [
              "ok    61\n",
              "Name: hdl_cholesterol_human, dtype: int64"
            ]
          },
          "execution_count": 44,
          "metadata": {},
          "output_type": "execute_result"
        }
      ],
      "source": [
        "params = {'n_estimators':[10,20,30,40,50,100,200,300,400],'max_depth':[2,3,5,7]}\n",
        "rf_model_hdl = RandomForestClassifier(random_state=seed)\n",
        "rf_clf_hdl = hyperparameter_model(rf_model_hdl, params,df_train,y_hdl_cholesterol_human)\n",
        "print(rf_clf_hdl.best_params_)\n",
        "rf_clf_hdl = RandomForestClassifier(**rf_clf_hdl.best_params_,random_state=seed)\n",
        "rf_clf_hdl.fit(df_trainu,y_hdl_cholesterol_human)\n",
        "\n",
        "hdl_cholesterol_human = rf_clf_hdl.predict(X_test)\n",
        "test['hdl_cholesterol_human'] = hdl_cholesterol_human.astype(str)\n",
        "test['hdl_cholesterol_human'] = test['hdl_cholesterol_human'].replace(reverse_mapping)\n",
        "test['hdl_cholesterol_human'].value_counts()"
      ]
    },
    {
      "cell_type": "code",
      "execution_count": 45,
      "id": "fd43d94b",
      "metadata": {},
      "outputs": [
        {
          "name": "stdout",
          "output_type": "stream",
          "text": [
            "{'max_depth': 2, 'n_estimators': 10}\n"
          ]
        },
        {
          "data": {
            "text/plain": [
              "ok    61\n",
              "Name: hemoglobin_hgb_human, dtype: int64"
            ]
          },
          "execution_count": 45,
          "metadata": {},
          "output_type": "execute_result"
        }
      ],
      "source": [
        "params = {'n_estimators':[10,20,30,40,50,100,200,300,400],'max_depth':[2,3,5,7]}\n",
        "rf_model_hgb = RandomForestClassifier(random_state=seed)\n",
        "rf_clf_hgb = hyperparameter_model(rf_model_hgb, params,df_train,y_hemoglobin_hgb_human)\n",
        "print(rf_clf_hgb.best_params_)\n",
        "rf_clf_hgb = RandomForestClassifier(**rf_clf_hgb.best_params_,random_state=seed)\n",
        "rf_clf_hgb.fit(df_trainu,y_hemoglobin_hgb_human)\n",
        "\n",
        "hemoglobin_hgb_human = rf_clf_hgb.predict(X_test)\n",
        "test['hemoglobin_hgb_human'] = hemoglobin_hgb_human.astype(str)\n",
        "test['hemoglobin_hgb_human'] = test['hemoglobin_hgb_human'].replace(reverse_mapping)\n",
        "test['hemoglobin_hgb_human'].value_counts()"
      ]
    },
    {
      "cell_type": "markdown",
      "id": "00394cd5",
      "metadata": {},
      "source": [
        "Rf with optimization on unscaled data gives 0.582 score, with scaled data gies 0.554"
      ]
    },
    {
      "cell_type": "markdown",
      "id": "46c1ebef",
      "metadata": {},
      "source": [
        "#### F. SVC Classifier "
      ]
    },
    {
      "cell_type": "code",
      "execution_count": 81,
      "id": "263ea86b",
      "metadata": {},
      "outputs": [
        {
          "name": "stdout",
          "output_type": "stream",
          "text": [
            "{'C': 0.0001, 'kernel': 'linear'}\n"
          ]
        },
        {
          "data": {
            "text/plain": [
              "ok      60\n",
              "high     1\n",
              "Name: cholesterol_ldl_human, dtype: int64"
            ]
          },
          "execution_count": 81,
          "metadata": {},
          "output_type": "execute_result"
        }
      ],
      "source": [
        "params = {'C':[10**i for i in range(-4,5)], 'kernel':['linear','poly','sigmoid','rbf']}\n",
        "svc_model_ldl = SVC(class_weight='balanced', random_state=seed, probability=True)\n",
        "svc_clf_ldl = hyperparameter_model(svc_model_ldl, params,df_train,y_cholesterol_ldl_human)\n",
        "print(svc_clf_ldl.best_params_)\n",
        "svc_clf_ldl = SVC(**svc_clf_ldl.best_params_,random_state=seed,probability=True)\n",
        "svc_clf_ldl.fit(df_trainu,y_cholesterol_ldl_human)\n",
        "\n",
        "cholesterol_ldl_human = rf_clf_ldl.predict(X_test)\n",
        "test['cholesterol_ldl_human'] = cholesterol_ldl_human.astype(str)\n",
        "test['cholesterol_ldl_human'] = test['cholesterol_ldl_human'].replace(reverse_mapping)\n",
        "test['cholesterol_ldl_human'].value_counts()"
      ]
    },
    {
      "cell_type": "code",
      "execution_count": 82,
      "id": "dda32088",
      "metadata": {},
      "outputs": [
        {
          "name": "stdout",
          "output_type": "stream",
          "text": [
            "{'C': 0.0001, 'kernel': 'linear'}\n"
          ]
        },
        {
          "data": {
            "text/plain": [
              "ok    61\n",
              "Name: hdl_cholesterol_human, dtype: int64"
            ]
          },
          "execution_count": 82,
          "metadata": {},
          "output_type": "execute_result"
        }
      ],
      "source": [
        "params = {'C':[10**i for i in range(-4,5)], 'kernel':['linear','poly','sigmoid','rbf']}\n",
        "svc_model_hdl = SVC(class_weight='balanced', random_state=seed, probability=True)\n",
        "svc_clf_hdl = hyperparameter_model(svc_model_hdl, params,df_train,y_hdl_cholesterol_human)\n",
        "print(svc_clf_hdl.best_params_)\n",
        "svc_clf_hdl = SVC(**svc_clf_hdl.best_params_,random_state=seed,probability=True)\n",
        "svc_clf_hdl.fit(df_trainu,y_hdl_cholesterol_human)\n",
        "\n",
        "hdl_cholesterol_human = rf_clf_hdl.predict(X_test)\n",
        "test['hdl_cholesterol_human'] = hdl_cholesterol_human.astype(str)\n",
        "test['hdl_cholesterol_human'] = test['hdl_cholesterol_human'].replace(reverse_mapping)\n",
        "test['hdl_cholesterol_human'].value_counts()"
      ]
    },
    {
      "cell_type": "code",
      "execution_count": 83,
      "id": "65a1e543",
      "metadata": {},
      "outputs": [
        {
          "name": "stdout",
          "output_type": "stream",
          "text": [
            "{'C': 0.0001, 'kernel': 'linear'}\n"
          ]
        },
        {
          "data": {
            "text/plain": [
              "ok    61\n",
              "Name: hemoglobin_hgb_human, dtype: int64"
            ]
          },
          "execution_count": 83,
          "metadata": {},
          "output_type": "execute_result"
        }
      ],
      "source": [
        "params = {'C':[10**i for i in range(-4,5)], 'kernel':['linear','poly','sigmoid','rbf']}\n",
        "svc_model_hgb = SVC(class_weight='balanced', random_state=seed, probability=True)\n",
        "svc_clf_hgb = hyperparameter_model(svc_model_hgb, params,df_train,y_hemoglobin_hgb_human)\n",
        "print(svc_clf_hgb.best_params_)\n",
        "svc_clf_hgb = SVC(**svc_clf_hgb.best_params_,random_state=seed,probability=True)\n",
        "svc_clf_hgb.fit(df_trainu,y_hemoglobin_hgb_human)\n",
        "\n",
        "hemoglobin_hgb_human = svc_clf_hgb.predict(X_test)\n",
        "test['hemoglobin_hgb_human'] = hemoglobin_hgb_human.astype(str)\n",
        "test['hemoglobin_hgb_human'] = test['hemoglobin_hgb_human'].replace(reverse_mapping)\n",
        "test['hemoglobin_hgb_human'].value_counts()"
      ]
    },
    {
      "cell_type": "markdown",
      "id": "5799eb98",
      "metadata": {},
      "source": [
        "With unscaled data gave a score of 0.5829"
      ]
    },
    {
      "cell_type": "markdown",
      "id": "d31b9477",
      "metadata": {},
      "source": [
        "##### C. LR With top 10 features using Forward Selection process"
      ]
    },
    {
      "cell_type": "markdown",
      "id": "33594c50",
      "metadata": {},
      "source": [
        "- hdl cholesterol human"
      ]
    },
    {
      "cell_type": "code",
      "execution_count": 84,
      "id": "8b48cef7",
      "metadata": {},
      "outputs": [],
      "source": [
        "# top_column = forward_selection_model(df_train,y_hdl_cholesterol_human,log_model_hdl)\n",
        "# print(f\"Top selected column for Logistic Regression are:\",top_column)"
      ]
    },
    {
      "cell_type": "markdown",
      "id": "9df14ac8",
      "metadata": {},
      "source": [
        "#### Submission"
      ]
    },
    {
      "cell_type": "code",
      "execution_count": 85,
      "id": "aec899d1",
      "metadata": {},
      "outputs": [],
      "source": [
        "maindir = \"/Users/Abimbola/Documents/MSc Computer Science/Semester 2/Computer science project/Blood-Spectorscopy/Data\" # Directory with your files\n",
        "ss =  maindir+\"/Updated_Sample_Submission.csv\"\n",
        "ss = pd.read_csv(ss)\n",
        "ss.head()\n",
        "\n",
        "ss = ss.drop(['Unnamed: 0'], axis= 1)"
      ]
    },
    {
      "cell_type": "code",
      "execution_count": 86,
      "id": "ed786f08",
      "metadata": {},
      "outputs": [],
      "source": [
        "def transform_c_hdl(row):\n",
        "    return pd.Series([str(row[\"donation_id\"]) + \"_hdl_cholesterol_human\", row['hdl_cholesterol_human']])"
      ]
    },
    {
      "cell_type": "code",
      "execution_count": 87,
      "id": "a62288fe",
      "metadata": {},
      "outputs": [],
      "source": [
        "sample_c_hdl = pd.DataFrame(columns = ss.columns)"
      ]
    },
    {
      "cell_type": "code",
      "execution_count": 88,
      "id": "a621649b",
      "metadata": {},
      "outputs": [
        {
          "data": {
            "application/vnd.jupyter.widget-view+json": {
              "model_id": "01c8d1917ba54130a8149b1e2e807d9e",
              "version_major": 2,
              "version_minor": 0
            },
            "text/plain": [
              "  0%|          | 0/61 [00:00<?, ?it/s]"
            ]
          },
          "metadata": {},
          "output_type": "display_data"
        }
      ],
      "source": [
        "from tqdm.notebook import tqdm\n",
        "\n",
        "tqdm.pandas()\n",
        "sample_c_hdl[['Donation_ID', 'target']] = test.progress_apply(transform_c_hdl, axis = 1)"
      ]
    },
    {
      "cell_type": "code",
      "execution_count": 89,
      "id": "65da8fe1",
      "metadata": {},
      "outputs": [],
      "source": [
        "def transform_hemo(row):\n",
        "    return pd.Series([str(row[\"donation_id\"]) + \"_hemoglobin(hgb)_human\", row[\"hemoglobin_hgb_human\"]])"
      ]
    },
    {
      "cell_type": "code",
      "execution_count": 90,
      "id": "d33b0c81",
      "metadata": {},
      "outputs": [],
      "source": [
        "sample_hemo = pd.DataFrame(columns = ss.columns)"
      ]
    },
    {
      "cell_type": "code",
      "execution_count": 91,
      "id": "2e9a405c",
      "metadata": {},
      "outputs": [
        {
          "data": {
            "application/vnd.jupyter.widget-view+json": {
              "model_id": "7176d32f724d4c54bc5f2caf06e8be10",
              "version_major": 2,
              "version_minor": 0
            },
            "text/plain": [
              "  0%|          | 0/61 [00:00<?, ?it/s]"
            ]
          },
          "metadata": {},
          "output_type": "display_data"
        }
      ],
      "source": [
        "sample_hemo[['Donation_ID', 'target']] = test.progress_apply(transform_hemo, axis = 1)"
      ]
    },
    {
      "cell_type": "code",
      "execution_count": 92,
      "id": "b1cc42ba",
      "metadata": {},
      "outputs": [
        {
          "data": {
            "text/html": [
              "<div>\n",
              "<style scoped>\n",
              "    .dataframe tbody tr th:only-of-type {\n",
              "        vertical-align: middle;\n",
              "    }\n",
              "\n",
              "    .dataframe tbody tr th {\n",
              "        vertical-align: top;\n",
              "    }\n",
              "\n",
              "    .dataframe thead th {\n",
              "        text-align: right;\n",
              "    }\n",
              "</style>\n",
              "<table border=\"1\" class=\"dataframe\">\n",
              "  <thead>\n",
              "    <tr style=\"text-align: right;\">\n",
              "      <th></th>\n",
              "      <th>Donation_ID</th>\n",
              "      <th>target</th>\n",
              "    </tr>\n",
              "  </thead>\n",
              "  <tbody>\n",
              "    <tr>\n",
              "      <th>355</th>\n",
              "      <td>ID_1961_hdl_cholesterol_human</td>\n",
              "      <td>ok</td>\n",
              "    </tr>\n",
              "    <tr>\n",
              "      <th>356</th>\n",
              "      <td>ID_2067_hdl_cholesterol_human</td>\n",
              "      <td>ok</td>\n",
              "    </tr>\n",
              "    <tr>\n",
              "      <th>357</th>\n",
              "      <td>ID_2155_hdl_cholesterol_human</td>\n",
              "      <td>ok</td>\n",
              "    </tr>\n",
              "    <tr>\n",
              "      <th>358</th>\n",
              "      <td>ID_2211_hdl_cholesterol_human</td>\n",
              "      <td>ok</td>\n",
              "    </tr>\n",
              "    <tr>\n",
              "      <th>359</th>\n",
              "      <td>ID_2327_hdl_cholesterol_human</td>\n",
              "      <td>ok</td>\n",
              "    </tr>\n",
              "    <tr>\n",
              "      <th>...</th>\n",
              "      <td>...</td>\n",
              "      <td>...</td>\n",
              "    </tr>\n",
              "    <tr>\n",
              "      <th>411</th>\n",
              "      <td>ID_6373_hdl_cholesterol_human</td>\n",
              "      <td>ok</td>\n",
              "    </tr>\n",
              "    <tr>\n",
              "      <th>412</th>\n",
              "      <td>ID_6381_hdl_cholesterol_human</td>\n",
              "      <td>ok</td>\n",
              "    </tr>\n",
              "    <tr>\n",
              "      <th>413</th>\n",
              "      <td>ID_6391_hdl_cholesterol_human</td>\n",
              "      <td>ok</td>\n",
              "    </tr>\n",
              "    <tr>\n",
              "      <th>414</th>\n",
              "      <td>ID_7755_hdl_cholesterol_human</td>\n",
              "      <td>ok</td>\n",
              "    </tr>\n",
              "    <tr>\n",
              "      <th>415</th>\n",
              "      <td>ID_7821_hdl_cholesterol_human</td>\n",
              "      <td>ok</td>\n",
              "    </tr>\n",
              "  </tbody>\n",
              "</table>\n",
              "<p>61 rows × 2 columns</p>\n",
              "</div>"
            ],
            "text/plain": [
              "                       Donation_ID target\n",
              "355  ID_1961_hdl_cholesterol_human     ok\n",
              "356  ID_2067_hdl_cholesterol_human     ok\n",
              "357  ID_2155_hdl_cholesterol_human     ok\n",
              "358  ID_2211_hdl_cholesterol_human     ok\n",
              "359  ID_2327_hdl_cholesterol_human     ok\n",
              "..                             ...    ...\n",
              "411  ID_6373_hdl_cholesterol_human     ok\n",
              "412  ID_6381_hdl_cholesterol_human     ok\n",
              "413  ID_6391_hdl_cholesterol_human     ok\n",
              "414  ID_7755_hdl_cholesterol_human     ok\n",
              "415  ID_7821_hdl_cholesterol_human     ok\n",
              "\n",
              "[61 rows x 2 columns]"
            ]
          },
          "execution_count": 92,
          "metadata": {},
          "output_type": "execute_result"
        }
      ],
      "source": [
        "sample_c_hdl"
      ]
    },
    {
      "cell_type": "code",
      "execution_count": 93,
      "id": "15d50fa3",
      "metadata": {},
      "outputs": [],
      "source": [
        "def transform_c_ldl(row):\n",
        "    return pd.Series([str(row[\"donation_id\"]) + \"_cholesterol_ldl_human\", row[\"cholesterol_ldl_human\"]])"
      ]
    },
    {
      "cell_type": "code",
      "execution_count": 94,
      "id": "914e2660",
      "metadata": {},
      "outputs": [],
      "source": [
        "sample_c_ldl = pd.DataFrame(columns = ss.columns)"
      ]
    },
    {
      "cell_type": "code",
      "execution_count": 95,
      "id": "9bdf1faf",
      "metadata": {},
      "outputs": [
        {
          "data": {
            "application/vnd.jupyter.widget-view+json": {
              "model_id": "605fcee179414c61b9bb8004f8b69545",
              "version_major": 2,
              "version_minor": 0
            },
            "text/plain": [
              "  0%|          | 0/61 [00:00<?, ?it/s]"
            ]
          },
          "metadata": {},
          "output_type": "display_data"
        }
      ],
      "source": [
        "sample_c_ldl[['Donation_ID', 'target']] = test.progress_apply(transform_c_ldl, axis = 1)"
      ]
    },
    {
      "cell_type": "code",
      "execution_count": 96,
      "id": "efadf250",
      "metadata": {},
      "outputs": [],
      "source": [
        "submission = pd.concat([sample_c_hdl, sample_hemo, sample_c_ldl]).reset_index(drop=True)"
      ]
    },
    {
      "cell_type": "code",
      "execution_count": 97,
      "id": "3763ff98",
      "metadata": {},
      "outputs": [],
      "source": [
        "submission = submission.loc[:, ~submission.columns.str.contains('^Unnamed')]"
      ]
    },
    {
      "cell_type": "code",
      "execution_count": 98,
      "id": "0a70529b",
      "metadata": {},
      "outputs": [
        {
          "data": {
            "text/html": [
              "<div>\n",
              "<style scoped>\n",
              "    .dataframe tbody tr th:only-of-type {\n",
              "        vertical-align: middle;\n",
              "    }\n",
              "\n",
              "    .dataframe tbody tr th {\n",
              "        vertical-align: top;\n",
              "    }\n",
              "\n",
              "    .dataframe thead th {\n",
              "        text-align: right;\n",
              "    }\n",
              "</style>\n",
              "<table border=\"1\" class=\"dataframe\">\n",
              "  <thead>\n",
              "    <tr style=\"text-align: right;\">\n",
              "      <th></th>\n",
              "      <th>Donation_ID</th>\n",
              "      <th>target</th>\n",
              "    </tr>\n",
              "  </thead>\n",
              "  <tbody>\n",
              "    <tr>\n",
              "      <th>0</th>\n",
              "      <td>ID_1961_hdl_cholesterol_human</td>\n",
              "      <td>ok</td>\n",
              "    </tr>\n",
              "    <tr>\n",
              "      <th>1</th>\n",
              "      <td>ID_2067_hdl_cholesterol_human</td>\n",
              "      <td>ok</td>\n",
              "    </tr>\n",
              "    <tr>\n",
              "      <th>2</th>\n",
              "      <td>ID_2155_hdl_cholesterol_human</td>\n",
              "      <td>ok</td>\n",
              "    </tr>\n",
              "    <tr>\n",
              "      <th>3</th>\n",
              "      <td>ID_2211_hdl_cholesterol_human</td>\n",
              "      <td>ok</td>\n",
              "    </tr>\n",
              "    <tr>\n",
              "      <th>4</th>\n",
              "      <td>ID_2327_hdl_cholesterol_human</td>\n",
              "      <td>ok</td>\n",
              "    </tr>\n",
              "  </tbody>\n",
              "</table>\n",
              "</div>"
            ],
            "text/plain": [
              "                     Donation_ID target\n",
              "0  ID_1961_hdl_cholesterol_human     ok\n",
              "1  ID_2067_hdl_cholesterol_human     ok\n",
              "2  ID_2155_hdl_cholesterol_human     ok\n",
              "3  ID_2211_hdl_cholesterol_human     ok\n",
              "4  ID_2327_hdl_cholesterol_human     ok"
            ]
          },
          "execution_count": 98,
          "metadata": {},
          "output_type": "execute_result"
        }
      ],
      "source": [
        "submission.head()"
      ]
    },
    {
      "cell_type": "code",
      "execution_count": 99,
      "id": "8e3011aa",
      "metadata": {},
      "outputs": [],
      "source": [
        "submission.to_csv(\"./submission14.csv\", index=False)"
      ]
    },
    {
      "cell_type": "markdown",
      "id": "a60da64a",
      "metadata": {},
      "source": [
        "#### To do\n",
        " - Bagging with random undersampling\n",
        " - Use boosting algorithms (AdaBoost etc)\n",
        " - Read up SMOTE for imbalanced classification"
      ]
    },
    {
      "cell_type": "markdown",
      "id": "d24dc5b7",
      "metadata": {},
      "source": []
    }
  ],
  "metadata": {
    "colab": {
      "include_colab_link": true,
      "name": "Data Preparation- Blood Spectroscopy (ML Models).ipynb",
      "provenance": []
    },
    "kernelspec": {
      "display_name": "Python 3 (ipykernel)",
      "language": "python",
      "name": "python3"
    },
    "language_info": {
      "codemirror_mode": {
        "name": "ipython",
        "version": 3
      },
      "file_extension": ".py",
      "mimetype": "text/x-python",
      "name": "python",
      "nbconvert_exporter": "python",
      "pygments_lexer": "ipython3",
      "version": "3.10.1"
    }
  },
  "nbformat": 4,
  "nbformat_minor": 5
}
