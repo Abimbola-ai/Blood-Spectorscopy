{
  "cells": [
    {
      "cell_type": "markdown",
      "id": "f0044f89",
      "metadata": {
        "colab_type": "text",
        "id": "view-in-github"
      },
      "source": [
        "<a href=\"https://colab.research.google.com/github/Abimbola-ai/Blood-Spectorscopy/blob/main/Data_Preparation_Blood_Spectroscopy_(ML_Models).ipynb\" target=\"_parent\"><img src=\"https://colab.research.google.com/assets/colab-badge.svg\" alt=\"Open In Colab\"/></a>"
      ]
    },
    {
      "cell_type": "code",
      "execution_count": 1,
      "id": "4f273843",
      "metadata": {
        "id": "4f273843"
      },
      "outputs": [
        {
          "name": "stderr",
          "output_type": "stream",
          "text": [
            "/var/folders/sf/jsnvw4tn5bd5khnq5nncxv940000gn/T/ipykernel_72456/4160731515.py:4: FutureWarning: pandas.util.testing is deprecated. Use the functions in the public API at pandas.testing instead.\n",
            "  import pandas.util.testing as tm\n"
          ]
        }
      ],
      "source": [
        "import matplotlib.pyplot as plt\n",
        "import numpy as np\n",
        "import pandas as pd\n",
        "import pandas.util.testing as tm\n",
        "import seaborn as sns\n",
        "from sklearn.preprocessing import StandardScaler\n",
        "from sklearn.linear_model import LogisticRegression\n",
        "from sklearn.model_selection import GridSearchCV, RepeatedStratifiedKFold, cross_val_score\n",
        "from sklearn.ensemble import RandomForestClassifier\n",
        "from sklearn.svm import SVC\n",
        "from prettytable import PrettyTable\n",
        "import tqdm\n",
        "import warnings\n",
        "\n",
        "%matplotlib inline\n",
        "warnings.filterwarnings('ignore')\n",
        "seed = 42\n",
        "import pandas.util.testing as tm"
      ]
    },
    {
      "cell_type": "code",
      "execution_count": 2,
      "id": "280df801",
      "metadata": {
        "id": "280df801"
      },
      "outputs": [],
      "source": [
        "train = pd.read_csv(\"clean_train.csv\",index_col=[0])\n",
        "test = pd.read_csv(\"clean_test.csv\",index_col=[0])"
      ]
    },
    {
      "cell_type": "code",
      "execution_count": 3,
      "id": "d90cb3b1",
      "metadata": {},
      "outputs": [
        {
          "data": {
            "text/plain": [
              "Index(['donation_id', 'absorbance0', 'absorbance1', 'absorbance2',\n",
              "       'absorbance3', 'absorbance4', 'absorbance5', 'absorbance6',\n",
              "       'absorbance7', 'absorbance8',\n",
              "       ...\n",
              "       'hdl_cholesterol_human', 'hemoglobin(hgb)_human',\n",
              "       'cholesterol_ldl_human', 'std', 'low_abs', 'high_abs', 'med_abs',\n",
              "       'mean_abs', 'std_abs', 'sum_abs'],\n",
              "      dtype='object', length=183)"
            ]
          },
          "execution_count": 3,
          "metadata": {},
          "output_type": "execute_result"
        }
      ],
      "source": [
        "train.columns"
      ]
    },
    {
      "cell_type": "code",
      "execution_count": 4,
      "id": "0f46bff5",
      "metadata": {},
      "outputs": [
        {
          "data": {
            "text/html": [
              "<div>\n",
              "<style scoped>\n",
              "    .dataframe tbody tr th:only-of-type {\n",
              "        vertical-align: middle;\n",
              "    }\n",
              "\n",
              "    .dataframe tbody tr th {\n",
              "        vertical-align: top;\n",
              "    }\n",
              "\n",
              "    .dataframe thead th {\n",
              "        text-align: right;\n",
              "    }\n",
              "</style>\n",
              "<table border=\"1\" class=\"dataframe\">\n",
              "  <thead>\n",
              "    <tr style=\"text-align: right;\">\n",
              "      <th></th>\n",
              "      <th>donation_id</th>\n",
              "      <th>absorbance0</th>\n",
              "      <th>absorbance1</th>\n",
              "      <th>absorbance2</th>\n",
              "      <th>absorbance3</th>\n",
              "      <th>absorbance4</th>\n",
              "      <th>absorbance5</th>\n",
              "      <th>absorbance6</th>\n",
              "      <th>absorbance7</th>\n",
              "      <th>absorbance8</th>\n",
              "      <th>...</th>\n",
              "      <th>hdl_cholesterol_human</th>\n",
              "      <th>hemoglobin(hgb)_human</th>\n",
              "      <th>cholesterol_ldl_human</th>\n",
              "      <th>std</th>\n",
              "      <th>low_abs</th>\n",
              "      <th>high_abs</th>\n",
              "      <th>med_abs</th>\n",
              "      <th>mean_abs</th>\n",
              "      <th>std_abs</th>\n",
              "      <th>sum_abs</th>\n",
              "    </tr>\n",
              "  </thead>\n",
              "  <tbody>\n",
              "    <tr>\n",
              "      <th>355</th>\n",
              "      <td>ID_1961</td>\n",
              "      <td>0.499920</td>\n",
              "      <td>0.504608</td>\n",
              "      <td>0.507929</td>\n",
              "      <td>0.519943</td>\n",
              "      <td>0.529032</td>\n",
              "      <td>0.536118</td>\n",
              "      <td>0.539690</td>\n",
              "      <td>0.541710</td>\n",
              "      <td>0.548590</td>\n",
              "      <td>...</td>\n",
              "      <td>NaN</td>\n",
              "      <td>NaN</td>\n",
              "      <td>NaN</td>\n",
              "      <td>0.0064</td>\n",
              "      <td>0.499920</td>\n",
              "      <td>1.545996</td>\n",
              "      <td>0.890386</td>\n",
              "      <td>0.984720</td>\n",
              "      <td>0.361753</td>\n",
              "      <td>167.402402</td>\n",
              "    </tr>\n",
              "    <tr>\n",
              "      <th>356</th>\n",
              "      <td>ID_2067</td>\n",
              "      <td>0.497758</td>\n",
              "      <td>0.498091</td>\n",
              "      <td>0.503083</td>\n",
              "      <td>0.507249</td>\n",
              "      <td>0.513739</td>\n",
              "      <td>0.521944</td>\n",
              "      <td>0.528798</td>\n",
              "      <td>0.533743</td>\n",
              "      <td>0.541470</td>\n",
              "      <td>...</td>\n",
              "      <td>NaN</td>\n",
              "      <td>NaN</td>\n",
              "      <td>NaN</td>\n",
              "      <td>0.0038</td>\n",
              "      <td>0.497758</td>\n",
              "      <td>1.561147</td>\n",
              "      <td>0.868207</td>\n",
              "      <td>0.989850</td>\n",
              "      <td>0.372864</td>\n",
              "      <td>168.274451</td>\n",
              "    </tr>\n",
              "    <tr>\n",
              "      <th>357</th>\n",
              "      <td>ID_2155</td>\n",
              "      <td>0.551436</td>\n",
              "      <td>0.553079</td>\n",
              "      <td>0.556722</td>\n",
              "      <td>0.560722</td>\n",
              "      <td>0.565583</td>\n",
              "      <td>0.570889</td>\n",
              "      <td>0.578668</td>\n",
              "      <td>0.585142</td>\n",
              "      <td>0.594233</td>\n",
              "      <td>...</td>\n",
              "      <td>NaN</td>\n",
              "      <td>NaN</td>\n",
              "      <td>NaN</td>\n",
              "      <td>0.0043</td>\n",
              "      <td>0.551436</td>\n",
              "      <td>1.815660</td>\n",
              "      <td>1.001062</td>\n",
              "      <td>1.138021</td>\n",
              "      <td>0.446924</td>\n",
              "      <td>193.463542</td>\n",
              "    </tr>\n",
              "    <tr>\n",
              "      <th>358</th>\n",
              "      <td>ID_2211</td>\n",
              "      <td>0.525926</td>\n",
              "      <td>0.528948</td>\n",
              "      <td>0.532222</td>\n",
              "      <td>0.540022</td>\n",
              "      <td>0.547279</td>\n",
              "      <td>0.554348</td>\n",
              "      <td>0.558680</td>\n",
              "      <td>0.563768</td>\n",
              "      <td>0.570031</td>\n",
              "      <td>...</td>\n",
              "      <td>NaN</td>\n",
              "      <td>NaN</td>\n",
              "      <td>NaN</td>\n",
              "      <td>0.0046</td>\n",
              "      <td>0.525926</td>\n",
              "      <td>1.778915</td>\n",
              "      <td>0.920952</td>\n",
              "      <td>1.063624</td>\n",
              "      <td>0.424112</td>\n",
              "      <td>180.816128</td>\n",
              "    </tr>\n",
              "    <tr>\n",
              "      <th>359</th>\n",
              "      <td>ID_2327</td>\n",
              "      <td>0.559814</td>\n",
              "      <td>0.559612</td>\n",
              "      <td>0.561561</td>\n",
              "      <td>0.565162</td>\n",
              "      <td>0.567556</td>\n",
              "      <td>0.572362</td>\n",
              "      <td>0.579762</td>\n",
              "      <td>0.587761</td>\n",
              "      <td>0.599415</td>\n",
              "      <td>...</td>\n",
              "      <td>NaN</td>\n",
              "      <td>NaN</td>\n",
              "      <td>NaN</td>\n",
              "      <td>0.0052</td>\n",
              "      <td>0.559612</td>\n",
              "      <td>1.443285</td>\n",
              "      <td>0.947634</td>\n",
              "      <td>1.013858</td>\n",
              "      <td>0.318206</td>\n",
              "      <td>172.355897</td>\n",
              "    </tr>\n",
              "  </tbody>\n",
              "</table>\n",
              "<p>5 rows × 183 columns</p>\n",
              "</div>"
            ],
            "text/plain": [
              "    donation_id  absorbance0  absorbance1  absorbance2  absorbance3  \\\n",
              "355     ID_1961     0.499920     0.504608     0.507929     0.519943   \n",
              "356     ID_2067     0.497758     0.498091     0.503083     0.507249   \n",
              "357     ID_2155     0.551436     0.553079     0.556722     0.560722   \n",
              "358     ID_2211     0.525926     0.528948     0.532222     0.540022   \n",
              "359     ID_2327     0.559814     0.559612     0.561561     0.565162   \n",
              "\n",
              "     absorbance4  absorbance5  absorbance6  absorbance7  absorbance8  ...  \\\n",
              "355     0.529032     0.536118     0.539690     0.541710     0.548590  ...   \n",
              "356     0.513739     0.521944     0.528798     0.533743     0.541470  ...   \n",
              "357     0.565583     0.570889     0.578668     0.585142     0.594233  ...   \n",
              "358     0.547279     0.554348     0.558680     0.563768     0.570031  ...   \n",
              "359     0.567556     0.572362     0.579762     0.587761     0.599415  ...   \n",
              "\n",
              "     hdl_cholesterol_human  hemoglobin(hgb)_human  cholesterol_ldl_human  \\\n",
              "355                    NaN                    NaN                    NaN   \n",
              "356                    NaN                    NaN                    NaN   \n",
              "357                    NaN                    NaN                    NaN   \n",
              "358                    NaN                    NaN                    NaN   \n",
              "359                    NaN                    NaN                    NaN   \n",
              "\n",
              "        std   low_abs  high_abs   med_abs  mean_abs   std_abs     sum_abs  \n",
              "355  0.0064  0.499920  1.545996  0.890386  0.984720  0.361753  167.402402  \n",
              "356  0.0038  0.497758  1.561147  0.868207  0.989850  0.372864  168.274451  \n",
              "357  0.0043  0.551436  1.815660  1.001062  1.138021  0.446924  193.463542  \n",
              "358  0.0046  0.525926  1.778915  0.920952  1.063624  0.424112  180.816128  \n",
              "359  0.0052  0.559612  1.443285  0.947634  1.013858  0.318206  172.355897  \n",
              "\n",
              "[5 rows x 183 columns]"
            ]
          },
          "execution_count": 4,
          "metadata": {},
          "output_type": "execute_result"
        }
      ],
      "source": [
        "test.head()"
      ]
    },
    {
      "cell_type": "code",
      "execution_count": 5,
      "id": "43e66501",
      "metadata": {},
      "outputs": [
        {
          "data": {
            "text/html": [
              "<div>\n",
              "<style scoped>\n",
              "    .dataframe tbody tr th:only-of-type {\n",
              "        vertical-align: middle;\n",
              "    }\n",
              "\n",
              "    .dataframe tbody tr th {\n",
              "        vertical-align: top;\n",
              "    }\n",
              "\n",
              "    .dataframe thead th {\n",
              "        text-align: right;\n",
              "    }\n",
              "</style>\n",
              "<table border=\"1\" class=\"dataframe\">\n",
              "  <thead>\n",
              "    <tr style=\"text-align: right;\">\n",
              "      <th></th>\n",
              "      <th>donation_id</th>\n",
              "      <th>absorbance0</th>\n",
              "      <th>absorbance1</th>\n",
              "      <th>absorbance2</th>\n",
              "      <th>absorbance3</th>\n",
              "      <th>absorbance4</th>\n",
              "      <th>absorbance5</th>\n",
              "      <th>absorbance6</th>\n",
              "      <th>absorbance7</th>\n",
              "      <th>absorbance8</th>\n",
              "      <th>...</th>\n",
              "      <th>hdl_cholesterol_human</th>\n",
              "      <th>hemoglobin(hgb)_human</th>\n",
              "      <th>cholesterol_ldl_human</th>\n",
              "      <th>std</th>\n",
              "      <th>low_abs</th>\n",
              "      <th>high_abs</th>\n",
              "      <th>med_abs</th>\n",
              "      <th>mean_abs</th>\n",
              "      <th>std_abs</th>\n",
              "      <th>sum_abs</th>\n",
              "    </tr>\n",
              "  </thead>\n",
              "  <tbody>\n",
              "    <tr>\n",
              "      <th>0</th>\n",
              "      <td>1975</td>\n",
              "      <td>0.505055</td>\n",
              "      <td>0.506570</td>\n",
              "      <td>0.511544</td>\n",
              "      <td>0.516300</td>\n",
              "      <td>0.524067</td>\n",
              "      <td>0.530191</td>\n",
              "      <td>0.536138</td>\n",
              "      <td>0.542317</td>\n",
              "      <td>0.551118</td>\n",
              "      <td>...</td>\n",
              "      <td>0</td>\n",
              "      <td>1</td>\n",
              "      <td>1</td>\n",
              "      <td>0.0073</td>\n",
              "      <td>0.505055</td>\n",
              "      <td>1.927817</td>\n",
              "      <td>0.958842</td>\n",
              "      <td>1.135224</td>\n",
              "      <td>0.497048</td>\n",
              "      <td>192.988096</td>\n",
              "    </tr>\n",
              "    <tr>\n",
              "      <th>1</th>\n",
              "      <td>1982</td>\n",
              "      <td>0.523531</td>\n",
              "      <td>0.523485</td>\n",
              "      <td>0.526291</td>\n",
              "      <td>0.532875</td>\n",
              "      <td>0.538397</td>\n",
              "      <td>0.543180</td>\n",
              "      <td>0.547520</td>\n",
              "      <td>0.553433</td>\n",
              "      <td>0.561674</td>\n",
              "      <td>...</td>\n",
              "      <td>0</td>\n",
              "      <td>1</td>\n",
              "      <td>2</td>\n",
              "      <td>0.0043</td>\n",
              "      <td>0.523485</td>\n",
              "      <td>1.734845</td>\n",
              "      <td>0.916559</td>\n",
              "      <td>1.061186</td>\n",
              "      <td>0.421130</td>\n",
              "      <td>180.401567</td>\n",
              "    </tr>\n",
              "    <tr>\n",
              "      <th>2</th>\n",
              "      <td>1989</td>\n",
              "      <td>0.516449</td>\n",
              "      <td>0.519226</td>\n",
              "      <td>0.523619</td>\n",
              "      <td>0.532366</td>\n",
              "      <td>0.540438</td>\n",
              "      <td>0.547985</td>\n",
              "      <td>0.552716</td>\n",
              "      <td>0.556823</td>\n",
              "      <td>0.561827</td>\n",
              "      <td>...</td>\n",
              "      <td>0</td>\n",
              "      <td>1</td>\n",
              "      <td>2</td>\n",
              "      <td>0.0046</td>\n",
              "      <td>0.516449</td>\n",
              "      <td>1.884757</td>\n",
              "      <td>0.925547</td>\n",
              "      <td>1.087614</td>\n",
              "      <td>0.462437</td>\n",
              "      <td>184.894345</td>\n",
              "    </tr>\n",
              "    <tr>\n",
              "      <th>3</th>\n",
              "      <td>2018</td>\n",
              "      <td>0.514163</td>\n",
              "      <td>0.516174</td>\n",
              "      <td>0.521443</td>\n",
              "      <td>0.528857</td>\n",
              "      <td>0.534581</td>\n",
              "      <td>0.543953</td>\n",
              "      <td>0.551666</td>\n",
              "      <td>0.557929</td>\n",
              "      <td>0.565811</td>\n",
              "      <td>...</td>\n",
              "      <td>2</td>\n",
              "      <td>1</td>\n",
              "      <td>1</td>\n",
              "      <td>0.0082</td>\n",
              "      <td>0.514163</td>\n",
              "      <td>1.868637</td>\n",
              "      <td>0.942196</td>\n",
              "      <td>1.113725</td>\n",
              "      <td>0.469601</td>\n",
              "      <td>189.333202</td>\n",
              "    </tr>\n",
              "    <tr>\n",
              "      <th>4</th>\n",
              "      <td>2045</td>\n",
              "      <td>0.471717</td>\n",
              "      <td>0.474344</td>\n",
              "      <td>0.477808</td>\n",
              "      <td>0.483401</td>\n",
              "      <td>0.491121</td>\n",
              "      <td>0.496970</td>\n",
              "      <td>0.503694</td>\n",
              "      <td>0.509696</td>\n",
              "      <td>0.516301</td>\n",
              "      <td>...</td>\n",
              "      <td>1</td>\n",
              "      <td>1</td>\n",
              "      <td>1</td>\n",
              "      <td>0.0051</td>\n",
              "      <td>0.471717</td>\n",
              "      <td>1.917085</td>\n",
              "      <td>0.878465</td>\n",
              "      <td>1.075850</td>\n",
              "      <td>0.493414</td>\n",
              "      <td>182.894524</td>\n",
              "    </tr>\n",
              "  </tbody>\n",
              "</table>\n",
              "<p>5 rows × 183 columns</p>\n",
              "</div>"
            ],
            "text/plain": [
              "   donation_id  absorbance0  absorbance1  absorbance2  absorbance3  \\\n",
              "0         1975     0.505055     0.506570     0.511544     0.516300   \n",
              "1         1982     0.523531     0.523485     0.526291     0.532875   \n",
              "2         1989     0.516449     0.519226     0.523619     0.532366   \n",
              "3         2018     0.514163     0.516174     0.521443     0.528857   \n",
              "4         2045     0.471717     0.474344     0.477808     0.483401   \n",
              "\n",
              "   absorbance4  absorbance5  absorbance6  absorbance7  absorbance8  ...  \\\n",
              "0     0.524067     0.530191     0.536138     0.542317     0.551118  ...   \n",
              "1     0.538397     0.543180     0.547520     0.553433     0.561674  ...   \n",
              "2     0.540438     0.547985     0.552716     0.556823     0.561827  ...   \n",
              "3     0.534581     0.543953     0.551666     0.557929     0.565811  ...   \n",
              "4     0.491121     0.496970     0.503694     0.509696     0.516301  ...   \n",
              "\n",
              "   hdl_cholesterol_human  hemoglobin(hgb)_human  cholesterol_ldl_human  \\\n",
              "0                      0                      1                      1   \n",
              "1                      0                      1                      2   \n",
              "2                      0                      1                      2   \n",
              "3                      2                      1                      1   \n",
              "4                      1                      1                      1   \n",
              "\n",
              "      std   low_abs  high_abs   med_abs  mean_abs   std_abs     sum_abs  \n",
              "0  0.0073  0.505055  1.927817  0.958842  1.135224  0.497048  192.988096  \n",
              "1  0.0043  0.523485  1.734845  0.916559  1.061186  0.421130  180.401567  \n",
              "2  0.0046  0.516449  1.884757  0.925547  1.087614  0.462437  184.894345  \n",
              "3  0.0082  0.514163  1.868637  0.942196  1.113725  0.469601  189.333202  \n",
              "4  0.0051  0.471717  1.917085  0.878465  1.075850  0.493414  182.894524  \n",
              "\n",
              "[5 rows x 183 columns]"
            ]
          },
          "execution_count": 5,
          "metadata": {},
          "output_type": "execute_result"
        }
      ],
      "source": [
        "train.head()"
      ]
    },
    {
      "cell_type": "code",
      "execution_count": 6,
      "id": "d0ea15d0",
      "metadata": {},
      "outputs": [
        {
          "name": "stdout",
          "output_type": "stream",
          "text": [
            "(355, 179)\n",
            "(355,)\n",
            "(355,)\n",
            "(355,)\n"
          ]
        }
      ],
      "source": [
        "# Raw Data\n",
        "y_hdl_cholesterol_human = train['hdl_cholesterol_human']\n",
        "y_hemoglobin_hgb_human = train['hemoglobin(hgb)_human']\n",
        "y_cholesterol_ldl_human = train[\"cholesterol_ldl_human\"]\n",
        "train_drop = train.drop(['donation_id', 'hdl_cholesterol_human', 'hemoglobin(hgb)_human',\n",
        "       'cholesterol_ldl_human'], axis=1)\n",
        "# test = test.drop(['hdl_cholesterol_human', 'hemoglobin(hgb)_human',\n",
        "#        'cholesterol_ldl_human'], axis=1)\n",
        "# test_drop = test.drop(['donation_id'], axis=1)\n",
        "df_train = train_drop.copy()\n",
        "print(df_train.shape)\n",
        "print(y_hdl_cholesterol_human.shape)\n",
        "print(y_hemoglobin_hgb_human.shape)\n",
        "print(y_cholesterol_ldl_human.shape)"
      ]
    },
    {
      "cell_type": "code",
      "execution_count": 7,
      "id": "0742220d",
      "metadata": {},
      "outputs": [],
      "source": [
        "X_cols = list(df_train.columns)\n",
        "X_test = test[X_cols]"
      ]
    },
    {
      "cell_type": "code",
      "execution_count": 8,
      "id": "bf63ca07",
      "metadata": {},
      "outputs": [],
      "source": [
        "def hyperparameter_model(models, params, x_train, y_train):\n",
        "    '''\n",
        "    Hyperparameter tuning with RepeatedStratifiedKFold follow by GridSearchCV\n",
        "    \n",
        "    Parameters:\n",
        "    models: Instance of the model\n",
        "    params: list of parameters with value fr tuning (dict)\n",
        "    \n",
        "    Return:\n",
        "    grid_clf: return gridsearch model    \n",
        "    '''\n",
        "    str_cv = RepeatedStratifiedKFold(n_splits=10, n_repeats=5, random_state=42)\n",
        "    grid_clf = GridSearchCV(models, params, cv=str_cv, return_train_score=True, scoring='roc_auc')\n",
        "    grid_clf.fit(x_train, y_train)\n",
        "    return grid_clf\n",
        "\n",
        "def forward_selection_model(x_train, y_train,model, top_n=10):\n",
        "    top_column = []\n",
        "    exist_score = 0\n",
        "    for n in range(top_n):\n",
        "        print('for {} feature'.format(n+1))\n",
        "        flag = 0\n",
        "        for i in tqdm.tqdm_notebook(range(test_scaled.shape[1])):\n",
        "            if len(top_column) == 0:\n",
        "                str_cv = RepeatedStratifiedKFold(n_splits=10, n_repeats=5, random_state=42)\n",
        "                score = cross_val_score(model,x_train[:,[i]],y_train,cv=str_cv,scoring='roc_auc')\n",
        "                if exist_score < np.mean(score):\n",
        "                    top_current = i\n",
        "                    exist_score = np.mean(score)\n",
        "                    flag = 1\n",
        "            elif i not in top_column:\n",
        "                str_cv = RepeatedStratifiedKFold(n_splits=10, n_repeats=5, random_state=42)\n",
        "                score = cross_val_score(model,x_train[:,np.concatenate((top_column,[i]))],y_train,cv=str_cv,scoring='roc_auc')\n",
        "                if exist_score < np.mean(score):\n",
        "                    top_current = i\n",
        "                    exist_score = np.mean(score)\n",
        "                    flag = 1\n",
        "        \n",
        "        if flag == 1:\n",
        "            print('Current top feature {} and score: {}'.format(top_current,exist_score))\n",
        "            print('Appended to top column')\n",
        "            top_column.append(top_current)\n",
        "            print(top_column)\n",
        "        else:\n",
        "            break\n",
        "    return top_column\n",
        "\n",
        "def plot_feature_importance(model, model_name, top_n = 10):\n",
        "    '''  \n",
        "    Parameters:\n",
        "    model: model \n",
        "    model_name: name of the model\n",
        "  \n",
        "    Return:\n",
        "    Top 10 features of the dataset  \n",
        "    '''       \n",
        "    column_name = train.drop(['id','target'], axis=1).columns\n",
        "    if model_name == 'log_model':\n",
        "        feat_imp_coef = model.coef_.ravel()\n",
        "    else:\n",
        "        feat_imp_coef = model.feature_importances_\n",
        "    temp = pd.DataFrame(data=np.column_stack((column_name, feat_imp_coef)), columns=['col_name','coef'])\n",
        "    temp = temp.sort_values(by='coef', ascending=False).reset_index()\n",
        "    df = temp\n",
        "    temp = temp[:top_n]\n",
        "    return temp"
      ]
    },
    {
      "cell_type": "code",
      "execution_count": 9,
      "id": "ca1bbc59",
      "metadata": {},
      "outputs": [],
      "source": [
        "reverse_mapping = {'0' : 'low', '1' : 'ok', '2' : 'high'}"
      ]
    },
    {
      "cell_type": "markdown",
      "id": "c1c14154",
      "metadata": {},
      "source": [
        "#### Build each model individually"
      ]
    },
    {
      "cell_type": "markdown",
      "id": "ef9eef7f",
      "metadata": {},
      "source": [
        "##### A. Baseline Model - Logistic Regression"
      ]
    },
    {
      "cell_type": "markdown",
      "id": "3608f936",
      "metadata": {},
      "source": [
        "- hdl cholesterol human"
      ]
    },
    {
      "cell_type": "code",
      "execution_count": 10,
      "id": "fc93343b",
      "metadata": {},
      "outputs": [
        {
          "data": {
            "text/plain": [
              "LogisticRegression(random_state=42)"
            ]
          },
          "execution_count": 10,
          "metadata": {},
          "output_type": "execute_result"
        }
      ],
      "source": [
        "log_reg = LogisticRegression(random_state=seed)\n",
        "log_reg.fit(df_train,y_hdl_cholesterol_human)\n"
      ]
    },
    {
      "cell_type": "code",
      "execution_count": 11,
      "id": "4f61cefa",
      "metadata": {},
      "outputs": [],
      "source": [
        "hdl_cholesterol_human = log_reg.predict(X_test)"
      ]
    },
    {
      "cell_type": "code",
      "execution_count": 12,
      "id": "d9faff25",
      "metadata": {},
      "outputs": [],
      "source": [
        "test['hdl_cholesterol_human'] = hdl_cholesterol_human"
      ]
    },
    {
      "cell_type": "code",
      "execution_count": 13,
      "id": "c7aef826",
      "metadata": {},
      "outputs": [
        {
          "data": {
            "text/plain": [
              "1    60\n",
              "0     1\n",
              "Name: hdl_cholesterol_human, dtype: int64"
            ]
          },
          "execution_count": 13,
          "metadata": {},
          "output_type": "execute_result"
        }
      ],
      "source": [
        "test['hdl_cholesterol_human'] = test['hdl_cholesterol_human'].replace(reverse_mapping)\n",
        "test['hdl_cholesterol_human'].value_counts()"
      ]
    },
    {
      "cell_type": "markdown",
      "id": "1adb2ae6",
      "metadata": {},
      "source": [
        "- ldl cholesterol human"
      ]
    },
    {
      "cell_type": "code",
      "execution_count": 14,
      "id": "f864d20a",
      "metadata": {},
      "outputs": [
        {
          "data": {
            "text/plain": [
              "LogisticRegression(random_state=42)"
            ]
          },
          "execution_count": 14,
          "metadata": {},
          "output_type": "execute_result"
        }
      ],
      "source": [
        "log_reg2 = LogisticRegression(random_state=seed)\n",
        "log_reg2.fit(df_train,y_cholesterol_ldl_human)"
      ]
    },
    {
      "cell_type": "code",
      "execution_count": 15,
      "id": "0edf469c",
      "metadata": {},
      "outputs": [
        {
          "data": {
            "text/plain": [
              "1    54\n",
              "2     7\n",
              "Name: cholesterol_ldl_human, dtype: int64"
            ]
          },
          "execution_count": 15,
          "metadata": {},
          "output_type": "execute_result"
        }
      ],
      "source": [
        "cholesterol_ldl_human = log_reg2.predict(X_test)\n",
        "test['cholesterol_ldl_human'] = cholesterol_ldl_human\n",
        "test['cholesterol_ldl_human'] = test['cholesterol_ldl_human'].replace(reverse_mapping)\n",
        "test['cholesterol_ldl_human'].value_counts()"
      ]
    },
    {
      "cell_type": "markdown",
      "id": "4323c8b9",
      "metadata": {},
      "source": [
        "- hemoglobin human"
      ]
    },
    {
      "cell_type": "code",
      "execution_count": 16,
      "id": "e756da6f",
      "metadata": {},
      "outputs": [
        {
          "data": {
            "text/plain": [
              "LogisticRegression(random_state=42)"
            ]
          },
          "execution_count": 16,
          "metadata": {},
          "output_type": "execute_result"
        }
      ],
      "source": [
        "log_reg3 = LogisticRegression(random_state=seed)\n",
        "log_reg3.fit(df_train,y_hemoglobin_hgb_human)"
      ]
    },
    {
      "cell_type": "code",
      "execution_count": 17,
      "id": "9470eebd",
      "metadata": {},
      "outputs": [
        {
          "data": {
            "text/plain": [
              "1    61\n",
              "Name: hemoglobin_hgb_human, dtype: int64"
            ]
          },
          "execution_count": 17,
          "metadata": {},
          "output_type": "execute_result"
        }
      ],
      "source": [
        "\n",
        "hemoglobin_hgb_human = log_reg3.predict(X_test)\n",
        "test['hemoglobin_hgb_human'] = hemoglobin_hgb_human\n",
        "test['hemoglobin_hgb_human'] = test['hemoglobin_hgb_human'].replace(reverse_mapping)\n",
        "test['hemoglobin_hgb_human'].value_counts()\n"
      ]
    },
    {
      "cell_type": "code",
      "execution_count": 18,
      "id": "aec899d1",
      "metadata": {},
      "outputs": [
        {
          "data": {
            "text/html": [
              "<div>\n",
              "<style scoped>\n",
              "    .dataframe tbody tr th:only-of-type {\n",
              "        vertical-align: middle;\n",
              "    }\n",
              "\n",
              "    .dataframe tbody tr th {\n",
              "        vertical-align: top;\n",
              "    }\n",
              "\n",
              "    .dataframe thead th {\n",
              "        text-align: right;\n",
              "    }\n",
              "</style>\n",
              "<table border=\"1\" class=\"dataframe\">\n",
              "  <thead>\n",
              "    <tr style=\"text-align: right;\">\n",
              "      <th></th>\n",
              "      <th>Unnamed: 0</th>\n",
              "      <th>Donation_ID</th>\n",
              "      <th>target</th>\n",
              "    </tr>\n",
              "  </thead>\n",
              "  <tbody>\n",
              "    <tr>\n",
              "      <th>0</th>\n",
              "      <td>0</td>\n",
              "      <td>ID_1961_cholesterol_ldl_human</td>\n",
              "      <td>ok</td>\n",
              "    </tr>\n",
              "    <tr>\n",
              "      <th>1</th>\n",
              "      <td>1</td>\n",
              "      <td>ID_1961_hdl_cholesterol_human</td>\n",
              "      <td>ok</td>\n",
              "    </tr>\n",
              "    <tr>\n",
              "      <th>2</th>\n",
              "      <td>2</td>\n",
              "      <td>ID_1961_hemoglobin(hgb)_human</td>\n",
              "      <td>ok</td>\n",
              "    </tr>\n",
              "    <tr>\n",
              "      <th>3</th>\n",
              "      <td>3</td>\n",
              "      <td>ID_2067_cholesterol_ldl_human</td>\n",
              "      <td>ok</td>\n",
              "    </tr>\n",
              "    <tr>\n",
              "      <th>4</th>\n",
              "      <td>4</td>\n",
              "      <td>ID_2067_hdl_cholesterol_human</td>\n",
              "      <td>ok</td>\n",
              "    </tr>\n",
              "  </tbody>\n",
              "</table>\n",
              "</div>"
            ],
            "text/plain": [
              "   Unnamed: 0                    Donation_ID target\n",
              "0           0  ID_1961_cholesterol_ldl_human     ok\n",
              "1           1  ID_1961_hdl_cholesterol_human     ok\n",
              "2           2  ID_1961_hemoglobin(hgb)_human     ok\n",
              "3           3  ID_2067_cholesterol_ldl_human     ok\n",
              "4           4  ID_2067_hdl_cholesterol_human     ok"
            ]
          },
          "execution_count": 18,
          "metadata": {},
          "output_type": "execute_result"
        }
      ],
      "source": [
        "maindir = \"/Users/Abimbola/Documents/MSc Computer Science/Semester 2/Computer science project/Blood-Spectorscopy/Data\" # Directory with your files\n",
        "ss =  maindir+\"/Updated_Sample_Submission.csv\"\n",
        "ss = pd.read_csv(ss)\n",
        "ss.head()"
      ]
    },
    {
      "cell_type": "code",
      "execution_count": 19,
      "id": "ed786f08",
      "metadata": {},
      "outputs": [],
      "source": [
        "def transform_c_hdl(row):\n",
        "    return pd.Series([str(row[\"donation_id\"]) + \"_hdl_cholesterol_human\", row['hdl_cholesterol_human']])"
      ]
    },
    {
      "cell_type": "code",
      "execution_count": 20,
      "id": "a62288fe",
      "metadata": {},
      "outputs": [],
      "source": [
        "sample_c_hdl = pd.DataFrame(columns = ss.columns)"
      ]
    },
    {
      "cell_type": "code",
      "execution_count": 22,
      "id": "a621649b",
      "metadata": {},
      "outputs": [
        {
          "data": {
            "application/vnd.jupyter.widget-view+json": {
              "model_id": "64995254a6b749ae98b1d5e125984700",
              "version_major": 2,
              "version_minor": 0
            },
            "text/plain": [
              "  0%|          | 0/61 [00:00<?, ?it/s]"
            ]
          },
          "metadata": {},
          "output_type": "display_data"
        }
      ],
      "source": [
        "from tqdm.notebook import tqdm\n",
        "\n",
        "tqdm.pandas()\n",
        "sample_c_hdl[['Donation_ID', 'target']] = test.progress_apply(transform_c_hdl, axis = 1)"
      ]
    },
    {
      "cell_type": "code",
      "execution_count": 23,
      "id": "65da8fe1",
      "metadata": {},
      "outputs": [],
      "source": [
        "def transform_hemo(row):\n",
        "    return pd.Series([str(row[\"donation_id\"]) + \"_hemoglobin(hgb)_human\", row[\"hemoglobin(hgb)_human\"]])"
      ]
    },
    {
      "cell_type": "code",
      "execution_count": 24,
      "id": "d33b0c81",
      "metadata": {},
      "outputs": [],
      "source": [
        "sample_hemo = pd.DataFrame(columns = ss.columns)"
      ]
    },
    {
      "cell_type": "code",
      "execution_count": 34,
      "id": "2e9a405c",
      "metadata": {},
      "outputs": [
        {
          "data": {
            "application/vnd.jupyter.widget-view+json": {
              "model_id": "f1b19cad1d0a4f93b44f4514f1b03930",
              "version_major": 2,
              "version_minor": 0
            },
            "text/plain": [
              "  0%|          | 0/61 [00:00<?, ?it/s]"
            ]
          },
          "metadata": {},
          "output_type": "display_data"
        }
      ],
      "source": [
        "sample_hemo[['Donation_ID', 'target']] = test.progress_apply(transform_hemo, axis = 1)"
      ]
    },
    {
      "cell_type": "code",
      "execution_count": 33,
      "id": "b1cc42ba",
      "metadata": {},
      "outputs": [
        {
          "data": {
            "text/html": [
              "<div>\n",
              "<style scoped>\n",
              "    .dataframe tbody tr th:only-of-type {\n",
              "        vertical-align: middle;\n",
              "    }\n",
              "\n",
              "    .dataframe tbody tr th {\n",
              "        vertical-align: top;\n",
              "    }\n",
              "\n",
              "    .dataframe thead th {\n",
              "        text-align: right;\n",
              "    }\n",
              "</style>\n",
              "<table border=\"1\" class=\"dataframe\">\n",
              "  <thead>\n",
              "    <tr style=\"text-align: right;\">\n",
              "      <th></th>\n",
              "      <th>Unnamed: 0</th>\n",
              "      <th>Donation_ID</th>\n",
              "      <th>target</th>\n",
              "    </tr>\n",
              "  </thead>\n",
              "  <tbody>\n",
              "    <tr>\n",
              "      <th>355</th>\n",
              "      <td>NaN</td>\n",
              "      <td>ID_1961_hemoglobin(hgb)_human</td>\n",
              "      <td>NaN</td>\n",
              "    </tr>\n",
              "    <tr>\n",
              "      <th>356</th>\n",
              "      <td>NaN</td>\n",
              "      <td>ID_2067_hemoglobin(hgb)_human</td>\n",
              "      <td>NaN</td>\n",
              "    </tr>\n",
              "    <tr>\n",
              "      <th>357</th>\n",
              "      <td>NaN</td>\n",
              "      <td>ID_2155_hemoglobin(hgb)_human</td>\n",
              "      <td>NaN</td>\n",
              "    </tr>\n",
              "    <tr>\n",
              "      <th>358</th>\n",
              "      <td>NaN</td>\n",
              "      <td>ID_2211_hemoglobin(hgb)_human</td>\n",
              "      <td>NaN</td>\n",
              "    </tr>\n",
              "    <tr>\n",
              "      <th>359</th>\n",
              "      <td>NaN</td>\n",
              "      <td>ID_2327_hemoglobin(hgb)_human</td>\n",
              "      <td>NaN</td>\n",
              "    </tr>\n",
              "    <tr>\n",
              "      <th>...</th>\n",
              "      <td>...</td>\n",
              "      <td>...</td>\n",
              "      <td>...</td>\n",
              "    </tr>\n",
              "    <tr>\n",
              "      <th>411</th>\n",
              "      <td>NaN</td>\n",
              "      <td>ID_6373_hemoglobin(hgb)_human</td>\n",
              "      <td>NaN</td>\n",
              "    </tr>\n",
              "    <tr>\n",
              "      <th>412</th>\n",
              "      <td>NaN</td>\n",
              "      <td>ID_6381_hemoglobin(hgb)_human</td>\n",
              "      <td>NaN</td>\n",
              "    </tr>\n",
              "    <tr>\n",
              "      <th>413</th>\n",
              "      <td>NaN</td>\n",
              "      <td>ID_6391_hemoglobin(hgb)_human</td>\n",
              "      <td>NaN</td>\n",
              "    </tr>\n",
              "    <tr>\n",
              "      <th>414</th>\n",
              "      <td>NaN</td>\n",
              "      <td>ID_7755_hemoglobin(hgb)_human</td>\n",
              "      <td>NaN</td>\n",
              "    </tr>\n",
              "    <tr>\n",
              "      <th>415</th>\n",
              "      <td>NaN</td>\n",
              "      <td>ID_7821_hemoglobin(hgb)_human</td>\n",
              "      <td>NaN</td>\n",
              "    </tr>\n",
              "  </tbody>\n",
              "</table>\n",
              "<p>61 rows × 3 columns</p>\n",
              "</div>"
            ],
            "text/plain": [
              "    Unnamed: 0                    Donation_ID  target\n",
              "355        NaN  ID_1961_hemoglobin(hgb)_human     NaN\n",
              "356        NaN  ID_2067_hemoglobin(hgb)_human     NaN\n",
              "357        NaN  ID_2155_hemoglobin(hgb)_human     NaN\n",
              "358        NaN  ID_2211_hemoglobin(hgb)_human     NaN\n",
              "359        NaN  ID_2327_hemoglobin(hgb)_human     NaN\n",
              "..         ...                            ...     ...\n",
              "411        NaN  ID_6373_hemoglobin(hgb)_human     NaN\n",
              "412        NaN  ID_6381_hemoglobin(hgb)_human     NaN\n",
              "413        NaN  ID_6391_hemoglobin(hgb)_human     NaN\n",
              "414        NaN  ID_7755_hemoglobin(hgb)_human     NaN\n",
              "415        NaN  ID_7821_hemoglobin(hgb)_human     NaN\n",
              "\n",
              "[61 rows x 3 columns]"
            ]
          },
          "execution_count": 33,
          "metadata": {},
          "output_type": "execute_result"
        }
      ],
      "source": [
        "sample_hemo"
      ]
    },
    {
      "cell_type": "code",
      "execution_count": 26,
      "id": "15d50fa3",
      "metadata": {},
      "outputs": [],
      "source": [
        "def transform_c_ldl(row):\n",
        "    return pd.Series([str(row[\"donation_id\"]) + \"_cholesterol_ldl_human\", row[\"cholesterol_ldl_human\"]])"
      ]
    },
    {
      "cell_type": "code",
      "execution_count": 27,
      "id": "914e2660",
      "metadata": {},
      "outputs": [],
      "source": [
        "sample_c_ldl = pd.DataFrame(columns = ss.columns)"
      ]
    },
    {
      "cell_type": "code",
      "execution_count": 28,
      "id": "9bdf1faf",
      "metadata": {},
      "outputs": [
        {
          "data": {
            "application/vnd.jupyter.widget-view+json": {
              "model_id": "a28fdfdc2c0642cca192861194c73173",
              "version_major": 2,
              "version_minor": 0
            },
            "text/plain": [
              "  0%|          | 0/61 [00:00<?, ?it/s]"
            ]
          },
          "metadata": {},
          "output_type": "display_data"
        }
      ],
      "source": [
        "sample_c_ldl[['Donation_ID', 'target']] = test.progress_apply(transform_c_ldl, axis = 1)"
      ]
    },
    {
      "cell_type": "code",
      "execution_count": 29,
      "id": "efadf250",
      "metadata": {},
      "outputs": [],
      "source": [
        "submission = pd.concat([sample_c_hdl, sample_hemo, sample_c_ldl]).reset_index(drop=True)"
      ]
    },
    {
      "cell_type": "code",
      "execution_count": 30,
      "id": "3763ff98",
      "metadata": {},
      "outputs": [],
      "source": [
        "submission = submission.loc[:, ~submission.columns.str.contains('^Unnamed')]"
      ]
    },
    {
      "cell_type": "code",
      "execution_count": 31,
      "id": "0a70529b",
      "metadata": {},
      "outputs": [
        {
          "data": {
            "text/html": [
              "<div>\n",
              "<style scoped>\n",
              "    .dataframe tbody tr th:only-of-type {\n",
              "        vertical-align: middle;\n",
              "    }\n",
              "\n",
              "    .dataframe tbody tr th {\n",
              "        vertical-align: top;\n",
              "    }\n",
              "\n",
              "    .dataframe thead th {\n",
              "        text-align: right;\n",
              "    }\n",
              "</style>\n",
              "<table border=\"1\" class=\"dataframe\">\n",
              "  <thead>\n",
              "    <tr style=\"text-align: right;\">\n",
              "      <th></th>\n",
              "      <th>Donation_ID</th>\n",
              "      <th>target</th>\n",
              "    </tr>\n",
              "  </thead>\n",
              "  <tbody>\n",
              "    <tr>\n",
              "      <th>0</th>\n",
              "      <td>ID_1961_hdl_cholesterol_human</td>\n",
              "      <td>1.0</td>\n",
              "    </tr>\n",
              "    <tr>\n",
              "      <th>1</th>\n",
              "      <td>ID_2067_hdl_cholesterol_human</td>\n",
              "      <td>1.0</td>\n",
              "    </tr>\n",
              "    <tr>\n",
              "      <th>2</th>\n",
              "      <td>ID_2155_hdl_cholesterol_human</td>\n",
              "      <td>1.0</td>\n",
              "    </tr>\n",
              "    <tr>\n",
              "      <th>3</th>\n",
              "      <td>ID_2211_hdl_cholesterol_human</td>\n",
              "      <td>1.0</td>\n",
              "    </tr>\n",
              "    <tr>\n",
              "      <th>4</th>\n",
              "      <td>ID_2327_hdl_cholesterol_human</td>\n",
              "      <td>1.0</td>\n",
              "    </tr>\n",
              "  </tbody>\n",
              "</table>\n",
              "</div>"
            ],
            "text/plain": [
              "                     Donation_ID  target\n",
              "0  ID_1961_hdl_cholesterol_human     1.0\n",
              "1  ID_2067_hdl_cholesterol_human     1.0\n",
              "2  ID_2155_hdl_cholesterol_human     1.0\n",
              "3  ID_2211_hdl_cholesterol_human     1.0\n",
              "4  ID_2327_hdl_cholesterol_human     1.0"
            ]
          },
          "execution_count": 31,
          "metadata": {},
          "output_type": "execute_result"
        }
      ],
      "source": [
        "submission.head()"
      ]
    },
    {
      "cell_type": "code",
      "execution_count": 32,
      "id": "8e3011aa",
      "metadata": {},
      "outputs": [],
      "source": [
        "submission.to_csv(\"./submission.csv\", index=False)"
      ]
    }
  ],
  "metadata": {
    "colab": {
      "include_colab_link": true,
      "name": "Data Preparation- Blood Spectroscopy (ML Models).ipynb",
      "provenance": []
    },
    "kernelspec": {
      "display_name": "Python 3 (ipykernel)",
      "language": "python",
      "name": "python3"
    },
    "language_info": {
      "codemirror_mode": {
        "name": "ipython",
        "version": 3
      },
      "file_extension": ".py",
      "mimetype": "text/x-python",
      "name": "python",
      "nbconvert_exporter": "python",
      "pygments_lexer": "ipython3",
      "version": "3.10.1"
    }
  },
  "nbformat": 4,
  "nbformat_minor": 5
}
