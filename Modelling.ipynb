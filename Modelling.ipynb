{
  "cells": [
    {
      "cell_type": "markdown",
      "metadata": {
        "id": "view-in-github",
        "colab_type": "text"
      },
      "source": [
        "<a href=\"https://colab.research.google.com/github/Abimbola-ai/Blood-Spectorscopy/blob/main/Modelling.ipynb\" target=\"_parent\"><img src=\"https://colab.research.google.com/assets/colab-badge.svg\" alt=\"Open In Colab\"/></a>"
      ]
    },
    {
      "cell_type": "code",
      "execution_count": 3,
      "id": "4f273843",
      "metadata": {
        "id": "4f273843",
        "colab": {
          "base_uri": "https://localhost:8080/"
        },
        "outputId": "93b99b5d-e717-4ef4-8a9b-f200d0ffddb1"
      },
      "outputs": [
        {
          "output_type": "stream",
          "name": "stderr",
          "text": [
            "/usr/local/lib/python3.7/dist-packages/ipykernel_launcher.py:4: FutureWarning: pandas.util.testing is deprecated. Use the functions in the public API at pandas.testing instead.\n",
            "  after removing the cwd from sys.path.\n"
          ]
        }
      ],
      "source": [
        "import matplotlib.pyplot as plt\n",
        "import numpy as np\n",
        "import pandas as pd\n",
        "import pandas.util.testing as tm\n",
        "import seaborn as sns\n",
        "from sklearn.preprocessing import MinMaxScaler\n",
        "from sklearn.linear_model import LogisticRegression\n",
        "from sklearn.model_selection import GridSearchCV, RepeatedStratifiedKFold, cross_val_score\n",
        "from sklearn.ensemble import RandomForestClassifier\n",
        "from sklearn.svm import SVC\n",
        "from prettytable import PrettyTable\n",
        "from tqdm import tqdm\n",
        "tqdm.pandas()\n",
        "import tqdm\n",
        "import warnings\n",
        "\n",
        "%matplotlib inline\n",
        "warnings.filterwarnings('ignore')\n",
        "seed = 42"
      ]
    },
    {
      "cell_type": "code",
      "execution_count": 4,
      "id": "280df801",
      "metadata": {
        "id": "280df801"
      },
      "outputs": [],
      "source": [
        "# train = pd.read_csv(\"Data/clean_train.csv\",index_col=[0])\n",
        "# test = pd.read_csv(\"Data/clean_test.csv\",index_col=[0])\n",
        "train = pd.read_csv(\"clean_train.csv\",index_col=[0])\n",
        "test = pd.read_csv(\"clean_test.csv\",index_col=[0])"
      ]
    },
    {
      "cell_type": "code",
      "execution_count": 5,
      "id": "ee3cb742",
      "metadata": {
        "id": "ee3cb742"
      },
      "outputs": [],
      "source": [
        "scaled_features_train = train.copy()\n",
        "scaled_features_test = test.copy()\n",
        "\n",
        "def scale_data(df):\n",
        "    col_names = ['absorbance0', 'absorbance1', 'absorbance2',\n",
        "       'absorbance3', 'absorbance4', 'absorbance5', 'absorbance6',\n",
        "       'absorbance7', 'absorbance8', 'absorbance9', 'absorbance10',\n",
        "       'absorbance11', 'absorbance12', 'absorbance13', 'absorbance14',\n",
        "       'absorbance15', 'absorbance16', 'absorbance17', 'absorbance18',\n",
        "       'absorbance19', 'absorbance20', 'absorbance21', 'absorbance22',\n",
        "       'absorbance23', 'absorbance24', 'absorbance25', 'absorbance26',\n",
        "       'absorbance27', 'absorbance28', 'absorbance29', 'absorbance30',\n",
        "       'absorbance31', 'absorbance32', 'absorbance33', 'absorbance34',\n",
        "       'absorbance35', 'absorbance36', 'absorbance37', 'absorbance38',\n",
        "       'absorbance39', 'absorbance40', 'absorbance41', 'absorbance42',\n",
        "       'absorbance43', 'absorbance44', 'absorbance45', 'absorbance46',\n",
        "       'absorbance47', 'absorbance48',\n",
        "       'absorbance49', 'absorbance50', 'absorbance51', 'absorbance52',\n",
        "       'absorbance53', 'absorbance54', 'absorbance55', 'absorbance56',\n",
        "       'absorbance57', 'absorbance58', 'absorbance59', 'absorbance60',\n",
        "       'absorbance61', 'absorbance62', 'absorbance63', 'absorbance64',\n",
        "       'absorbance65', 'absorbance66', 'absorbance67', 'absorbance68',\n",
        "       'absorbance69', 'absorbance70', 'absorbance71', 'absorbance72',\n",
        "       'absorbance73', 'absorbance74', 'absorbance75', 'absorbance76',\n",
        "       'absorbance77', 'absorbance78', 'absorbance79', 'absorbance80',\n",
        "       'absorbance81', 'absorbance82', 'absorbance83', 'absorbance84',\n",
        "       'absorbance85', 'absorbance86', 'absorbance87', 'absorbance88',\n",
        "       'absorbance89', 'absorbance90', 'absorbance91', 'absorbance92',\n",
        "       'absorbance93', 'absorbance94', 'absorbance95', 'absorbance96',\n",
        "       'absorbance97', 'absorbance98',\n",
        "       'absorbance99', 'absorbance100', 'absorbance101', 'absorbance102',\n",
        "       'absorbance103', 'absorbance104', 'absorbance105', 'absorbance106',\n",
        "       'absorbance107', 'absorbance108', 'absorbance109', 'absorbance110',\n",
        "       'absorbance111', 'absorbance112', 'absorbance113', 'absorbance114',\n",
        "       'absorbance115', 'absorbance116', 'absorbance117', 'absorbance118',\n",
        "       'absorbance119', 'absorbance120', 'absorbance121', 'absorbance122',\n",
        "       'absorbance123', 'absorbance124', 'absorbance125', 'absorbance126',\n",
        "       'absorbance127', 'absorbance128', 'absorbance129', 'absorbance130',\n",
        "       'absorbance131', 'absorbance132', 'absorbance133', 'absorbance134',\n",
        "       'absorbance135', 'absorbance136', 'absorbance137', 'absorbance138',\n",
        "       'absorbance139', 'absorbance140', 'absorbance141', 'absorbance142',\n",
        "       'absorbance143', 'absorbance144', 'absorbance145', 'absorbance146',\n",
        "       'absorbance147', 'absorbance148', 'absorbance149', 'absorbance150',\n",
        "       'absorbance151', 'absorbance152', 'absorbance153', 'absorbance154',\n",
        "       'absorbance155', 'absorbance156', 'absorbance157', 'absorbance158',\n",
        "       'absorbance159', 'absorbance160', 'absorbance161', 'absorbance162',\n",
        "       'absorbance163', 'absorbance164', 'absorbance165', 'absorbance166',\n",
        "       'absorbance167', 'absorbance168', 'absorbance169', 'temperature',\n",
        "       'humidity','std', 'low_abs', 'high_abs', 'med_abs',\n",
        "       'mean_abs', 'std_abs', 'sum_abs']\n",
        "    features = df[col_names]\n",
        "    scaler = MinMaxScaler().fit(features.values)\n",
        "    features = scaler.transform(features.values)\n",
        "    df[col_names] = features\n",
        "    return df"
      ]
    },
    {
      "cell_type": "code",
      "execution_count": 6,
      "id": "a5c58a6b",
      "metadata": {
        "id": "a5c58a6b"
      },
      "outputs": [],
      "source": [
        "train_scaled = scale_data(scaled_features_train)\n",
        "test_scaled = scale_data(scaled_features_test)"
      ]
    },
    {
      "cell_type": "code",
      "execution_count": 7,
      "id": "0f46bff5",
      "metadata": {
        "id": "0f46bff5",
        "colab": {
          "base_uri": "https://localhost:8080/",
          "height": 300
        },
        "outputId": "8a3098ee-e602-447e-80cf-6802adb3da38"
      },
      "outputs": [
        {
          "output_type": "execute_result",
          "data": {
            "text/html": [
              "\n",
              "  <div id=\"df-41720280-5b2a-48fa-b433-b5a0a0595c6b\">\n",
              "    <div class=\"colab-df-container\">\n",
              "      <div>\n",
              "<style scoped>\n",
              "    .dataframe tbody tr th:only-of-type {\n",
              "        vertical-align: middle;\n",
              "    }\n",
              "\n",
              "    .dataframe tbody tr th {\n",
              "        vertical-align: top;\n",
              "    }\n",
              "\n",
              "    .dataframe thead th {\n",
              "        text-align: right;\n",
              "    }\n",
              "</style>\n",
              "<table border=\"1\" class=\"dataframe\">\n",
              "  <thead>\n",
              "    <tr style=\"text-align: right;\">\n",
              "      <th></th>\n",
              "      <th>donation_id</th>\n",
              "      <th>absorbance0</th>\n",
              "      <th>absorbance1</th>\n",
              "      <th>absorbance2</th>\n",
              "      <th>absorbance3</th>\n",
              "      <th>absorbance4</th>\n",
              "      <th>absorbance5</th>\n",
              "      <th>absorbance6</th>\n",
              "      <th>absorbance7</th>\n",
              "      <th>absorbance8</th>\n",
              "      <th>...</th>\n",
              "      <th>hdl_cholesterol_human</th>\n",
              "      <th>hemoglobin(hgb)_human</th>\n",
              "      <th>cholesterol_ldl_human</th>\n",
              "      <th>std</th>\n",
              "      <th>low_abs</th>\n",
              "      <th>high_abs</th>\n",
              "      <th>med_abs</th>\n",
              "      <th>mean_abs</th>\n",
              "      <th>std_abs</th>\n",
              "      <th>sum_abs</th>\n",
              "    </tr>\n",
              "  </thead>\n",
              "  <tbody>\n",
              "    <tr>\n",
              "      <th>0</th>\n",
              "      <td>1975</td>\n",
              "      <td>0.652042</td>\n",
              "      <td>0.642710</td>\n",
              "      <td>0.633364</td>\n",
              "      <td>0.623264</td>\n",
              "      <td>0.622399</td>\n",
              "      <td>0.609421</td>\n",
              "      <td>0.592866</td>\n",
              "      <td>0.584126</td>\n",
              "      <td>0.577179</td>\n",
              "      <td>...</td>\n",
              "      <td>0</td>\n",
              "      <td>1</td>\n",
              "      <td>1</td>\n",
              "      <td>0.790323</td>\n",
              "      <td>0.654070</td>\n",
              "      <td>0.817091</td>\n",
              "      <td>0.633388</td>\n",
              "      <td>0.781237</td>\n",
              "      <td>0.805277</td>\n",
              "      <td>0.781237</td>\n",
              "    </tr>\n",
              "    <tr>\n",
              "      <th>1</th>\n",
              "      <td>1982</td>\n",
              "      <td>0.698607</td>\n",
              "      <td>0.687373</td>\n",
              "      <td>0.673512</td>\n",
              "      <td>0.669837</td>\n",
              "      <td>0.664034</td>\n",
              "      <td>0.648212</td>\n",
              "      <td>0.627822</td>\n",
              "      <td>0.618668</td>\n",
              "      <td>0.610307</td>\n",
              "      <td>...</td>\n",
              "      <td>0</td>\n",
              "      <td>1</td>\n",
              "      <td>2</td>\n",
              "      <td>0.306452</td>\n",
              "      <td>0.700665</td>\n",
              "      <td>0.516564</td>\n",
              "      <td>0.479843</td>\n",
              "      <td>0.519043</td>\n",
              "      <td>0.472824</td>\n",
              "      <td>0.519043</td>\n",
              "    </tr>\n",
              "    <tr>\n",
              "      <th>2</th>\n",
              "      <td>1989</td>\n",
              "      <td>0.680759</td>\n",
              "      <td>0.676126</td>\n",
              "      <td>0.666238</td>\n",
              "      <td>0.668406</td>\n",
              "      <td>0.669962</td>\n",
              "      <td>0.662563</td>\n",
              "      <td>0.643781</td>\n",
              "      <td>0.629202</td>\n",
              "      <td>0.610788</td>\n",
              "      <td>...</td>\n",
              "      <td>0</td>\n",
              "      <td>1</td>\n",
              "      <td>2</td>\n",
              "      <td>0.354839</td>\n",
              "      <td>0.682876</td>\n",
              "      <td>0.750031</td>\n",
              "      <td>0.512484</td>\n",
              "      <td>0.612633</td>\n",
              "      <td>0.653710</td>\n",
              "      <td>0.612633</td>\n",
              "    </tr>\n",
              "    <tr>\n",
              "      <th>3</th>\n",
              "      <td>2018</td>\n",
              "      <td>0.674998</td>\n",
              "      <td>0.668067</td>\n",
              "      <td>0.660314</td>\n",
              "      <td>0.658546</td>\n",
              "      <td>0.652947</td>\n",
              "      <td>0.650522</td>\n",
              "      <td>0.640554</td>\n",
              "      <td>0.632638</td>\n",
              "      <td>0.623293</td>\n",
              "      <td>...</td>\n",
              "      <td>2</td>\n",
              "      <td>1</td>\n",
              "      <td>1</td>\n",
              "      <td>0.935484</td>\n",
              "      <td>0.677097</td>\n",
              "      <td>0.724927</td>\n",
              "      <td>0.572940</td>\n",
              "      <td>0.705100</td>\n",
              "      <td>0.685085</td>\n",
              "      <td>0.705100</td>\n",
              "    </tr>\n",
              "    <tr>\n",
              "      <th>4</th>\n",
              "      <td>2045</td>\n",
              "      <td>0.568017</td>\n",
              "      <td>0.557618</td>\n",
              "      <td>0.541519</td>\n",
              "      <td>0.530828</td>\n",
              "      <td>0.526682</td>\n",
              "      <td>0.510204</td>\n",
              "      <td>0.493224</td>\n",
              "      <td>0.482760</td>\n",
              "      <td>0.467903</td>\n",
              "      <td>...</td>\n",
              "      <td>1</td>\n",
              "      <td>1</td>\n",
              "      <td>1</td>\n",
              "      <td>0.435484</td>\n",
              "      <td>0.569784</td>\n",
              "      <td>0.800377</td>\n",
              "      <td>0.341514</td>\n",
              "      <td>0.570974</td>\n",
              "      <td>0.789363</td>\n",
              "      <td>0.570974</td>\n",
              "    </tr>\n",
              "  </tbody>\n",
              "</table>\n",
              "<p>5 rows × 183 columns</p>\n",
              "</div>\n",
              "      <button class=\"colab-df-convert\" onclick=\"convertToInteractive('df-41720280-5b2a-48fa-b433-b5a0a0595c6b')\"\n",
              "              title=\"Convert this dataframe to an interactive table.\"\n",
              "              style=\"display:none;\">\n",
              "        \n",
              "  <svg xmlns=\"http://www.w3.org/2000/svg\" height=\"24px\"viewBox=\"0 0 24 24\"\n",
              "       width=\"24px\">\n",
              "    <path d=\"M0 0h24v24H0V0z\" fill=\"none\"/>\n",
              "    <path d=\"M18.56 5.44l.94 2.06.94-2.06 2.06-.94-2.06-.94-.94-2.06-.94 2.06-2.06.94zm-11 1L8.5 8.5l.94-2.06 2.06-.94-2.06-.94L8.5 2.5l-.94 2.06-2.06.94zm10 10l.94 2.06.94-2.06 2.06-.94-2.06-.94-.94-2.06-.94 2.06-2.06.94z\"/><path d=\"M17.41 7.96l-1.37-1.37c-.4-.4-.92-.59-1.43-.59-.52 0-1.04.2-1.43.59L10.3 9.45l-7.72 7.72c-.78.78-.78 2.05 0 2.83L4 21.41c.39.39.9.59 1.41.59.51 0 1.02-.2 1.41-.59l7.78-7.78 2.81-2.81c.8-.78.8-2.07 0-2.86zM5.41 20L4 18.59l7.72-7.72 1.47 1.35L5.41 20z\"/>\n",
              "  </svg>\n",
              "      </button>\n",
              "      \n",
              "  <style>\n",
              "    .colab-df-container {\n",
              "      display:flex;\n",
              "      flex-wrap:wrap;\n",
              "      gap: 12px;\n",
              "    }\n",
              "\n",
              "    .colab-df-convert {\n",
              "      background-color: #E8F0FE;\n",
              "      border: none;\n",
              "      border-radius: 50%;\n",
              "      cursor: pointer;\n",
              "      display: none;\n",
              "      fill: #1967D2;\n",
              "      height: 32px;\n",
              "      padding: 0 0 0 0;\n",
              "      width: 32px;\n",
              "    }\n",
              "\n",
              "    .colab-df-convert:hover {\n",
              "      background-color: #E2EBFA;\n",
              "      box-shadow: 0px 1px 2px rgba(60, 64, 67, 0.3), 0px 1px 3px 1px rgba(60, 64, 67, 0.15);\n",
              "      fill: #174EA6;\n",
              "    }\n",
              "\n",
              "    [theme=dark] .colab-df-convert {\n",
              "      background-color: #3B4455;\n",
              "      fill: #D2E3FC;\n",
              "    }\n",
              "\n",
              "    [theme=dark] .colab-df-convert:hover {\n",
              "      background-color: #434B5C;\n",
              "      box-shadow: 0px 1px 3px 1px rgba(0, 0, 0, 0.15);\n",
              "      filter: drop-shadow(0px 1px 2px rgba(0, 0, 0, 0.3));\n",
              "      fill: #FFFFFF;\n",
              "    }\n",
              "  </style>\n",
              "\n",
              "      <script>\n",
              "        const buttonEl =\n",
              "          document.querySelector('#df-41720280-5b2a-48fa-b433-b5a0a0595c6b button.colab-df-convert');\n",
              "        buttonEl.style.display =\n",
              "          google.colab.kernel.accessAllowed ? 'block' : 'none';\n",
              "\n",
              "        async function convertToInteractive(key) {\n",
              "          const element = document.querySelector('#df-41720280-5b2a-48fa-b433-b5a0a0595c6b');\n",
              "          const dataTable =\n",
              "            await google.colab.kernel.invokeFunction('convertToInteractive',\n",
              "                                                     [key], {});\n",
              "          if (!dataTable) return;\n",
              "\n",
              "          const docLinkHtml = 'Like what you see? Visit the ' +\n",
              "            '<a target=\"_blank\" href=https://colab.research.google.com/notebooks/data_table.ipynb>data table notebook</a>'\n",
              "            + ' to learn more about interactive tables.';\n",
              "          element.innerHTML = '';\n",
              "          dataTable['output_type'] = 'display_data';\n",
              "          await google.colab.output.renderOutput(dataTable, element);\n",
              "          const docLink = document.createElement('div');\n",
              "          docLink.innerHTML = docLinkHtml;\n",
              "          element.appendChild(docLink);\n",
              "        }\n",
              "      </script>\n",
              "    </div>\n",
              "  </div>\n",
              "  "
            ],
            "text/plain": [
              "   donation_id  absorbance0  absorbance1  absorbance2  absorbance3  \\\n",
              "0         1975     0.652042     0.642710     0.633364     0.623264   \n",
              "1         1982     0.698607     0.687373     0.673512     0.669837   \n",
              "2         1989     0.680759     0.676126     0.666238     0.668406   \n",
              "3         2018     0.674998     0.668067     0.660314     0.658546   \n",
              "4         2045     0.568017     0.557618     0.541519     0.530828   \n",
              "\n",
              "   absorbance4  absorbance5  absorbance6  absorbance7  absorbance8  ...  \\\n",
              "0     0.622399     0.609421     0.592866     0.584126     0.577179  ...   \n",
              "1     0.664034     0.648212     0.627822     0.618668     0.610307  ...   \n",
              "2     0.669962     0.662563     0.643781     0.629202     0.610788  ...   \n",
              "3     0.652947     0.650522     0.640554     0.632638     0.623293  ...   \n",
              "4     0.526682     0.510204     0.493224     0.482760     0.467903  ...   \n",
              "\n",
              "   hdl_cholesterol_human  hemoglobin(hgb)_human  cholesterol_ldl_human  \\\n",
              "0                      0                      1                      1   \n",
              "1                      0                      1                      2   \n",
              "2                      0                      1                      2   \n",
              "3                      2                      1                      1   \n",
              "4                      1                      1                      1   \n",
              "\n",
              "        std   low_abs  high_abs   med_abs  mean_abs   std_abs   sum_abs  \n",
              "0  0.790323  0.654070  0.817091  0.633388  0.781237  0.805277  0.781237  \n",
              "1  0.306452  0.700665  0.516564  0.479843  0.519043  0.472824  0.519043  \n",
              "2  0.354839  0.682876  0.750031  0.512484  0.612633  0.653710  0.612633  \n",
              "3  0.935484  0.677097  0.724927  0.572940  0.705100  0.685085  0.705100  \n",
              "4  0.435484  0.569784  0.800377  0.341514  0.570974  0.789363  0.570974  \n",
              "\n",
              "[5 rows x 183 columns]"
            ]
          },
          "metadata": {},
          "execution_count": 7
        }
      ],
      "source": [
        "train_scaled.head()"
      ]
    },
    {
      "cell_type": "code",
      "execution_count": 8,
      "id": "bb47a52b",
      "metadata": {
        "id": "bb47a52b",
        "colab": {
          "base_uri": "https://localhost:8080/",
          "height": 300
        },
        "outputId": "72ace99c-2881-4d7c-89f0-3a5e188fb9ef"
      },
      "outputs": [
        {
          "output_type": "execute_result",
          "data": {
            "text/html": [
              "\n",
              "  <div id=\"df-8b2fc45c-3200-44ff-8a82-62bf3c1a577b\">\n",
              "    <div class=\"colab-df-container\">\n",
              "      <div>\n",
              "<style scoped>\n",
              "    .dataframe tbody tr th:only-of-type {\n",
              "        vertical-align: middle;\n",
              "    }\n",
              "\n",
              "    .dataframe tbody tr th {\n",
              "        vertical-align: top;\n",
              "    }\n",
              "\n",
              "    .dataframe thead th {\n",
              "        text-align: right;\n",
              "    }\n",
              "</style>\n",
              "<table border=\"1\" class=\"dataframe\">\n",
              "  <thead>\n",
              "    <tr style=\"text-align: right;\">\n",
              "      <th></th>\n",
              "      <th>donation_id</th>\n",
              "      <th>absorbance0</th>\n",
              "      <th>absorbance1</th>\n",
              "      <th>absorbance2</th>\n",
              "      <th>absorbance3</th>\n",
              "      <th>absorbance4</th>\n",
              "      <th>absorbance5</th>\n",
              "      <th>absorbance6</th>\n",
              "      <th>absorbance7</th>\n",
              "      <th>absorbance8</th>\n",
              "      <th>...</th>\n",
              "      <th>hdl_cholesterol_human</th>\n",
              "      <th>hemoglobin(hgb)_human</th>\n",
              "      <th>cholesterol_ldl_human</th>\n",
              "      <th>std</th>\n",
              "      <th>low_abs</th>\n",
              "      <th>high_abs</th>\n",
              "      <th>med_abs</th>\n",
              "      <th>mean_abs</th>\n",
              "      <th>std_abs</th>\n",
              "      <th>sum_abs</th>\n",
              "    </tr>\n",
              "  </thead>\n",
              "  <tbody>\n",
              "    <tr>\n",
              "      <th>0</th>\n",
              "      <td>1975</td>\n",
              "      <td>0.505055</td>\n",
              "      <td>0.506570</td>\n",
              "      <td>0.511544</td>\n",
              "      <td>0.516300</td>\n",
              "      <td>0.524067</td>\n",
              "      <td>0.530191</td>\n",
              "      <td>0.536138</td>\n",
              "      <td>0.542317</td>\n",
              "      <td>0.551118</td>\n",
              "      <td>...</td>\n",
              "      <td>0</td>\n",
              "      <td>1</td>\n",
              "      <td>1</td>\n",
              "      <td>0.0073</td>\n",
              "      <td>0.505055</td>\n",
              "      <td>1.927817</td>\n",
              "      <td>0.958842</td>\n",
              "      <td>1.135224</td>\n",
              "      <td>0.497048</td>\n",
              "      <td>192.988096</td>\n",
              "    </tr>\n",
              "    <tr>\n",
              "      <th>1</th>\n",
              "      <td>1982</td>\n",
              "      <td>0.523531</td>\n",
              "      <td>0.523485</td>\n",
              "      <td>0.526291</td>\n",
              "      <td>0.532875</td>\n",
              "      <td>0.538397</td>\n",
              "      <td>0.543180</td>\n",
              "      <td>0.547520</td>\n",
              "      <td>0.553433</td>\n",
              "      <td>0.561674</td>\n",
              "      <td>...</td>\n",
              "      <td>0</td>\n",
              "      <td>1</td>\n",
              "      <td>2</td>\n",
              "      <td>0.0043</td>\n",
              "      <td>0.523485</td>\n",
              "      <td>1.734845</td>\n",
              "      <td>0.916559</td>\n",
              "      <td>1.061186</td>\n",
              "      <td>0.421130</td>\n",
              "      <td>180.401567</td>\n",
              "    </tr>\n",
              "    <tr>\n",
              "      <th>2</th>\n",
              "      <td>1989</td>\n",
              "      <td>0.516449</td>\n",
              "      <td>0.519226</td>\n",
              "      <td>0.523619</td>\n",
              "      <td>0.532366</td>\n",
              "      <td>0.540438</td>\n",
              "      <td>0.547985</td>\n",
              "      <td>0.552716</td>\n",
              "      <td>0.556823</td>\n",
              "      <td>0.561827</td>\n",
              "      <td>...</td>\n",
              "      <td>0</td>\n",
              "      <td>1</td>\n",
              "      <td>2</td>\n",
              "      <td>0.0046</td>\n",
              "      <td>0.516449</td>\n",
              "      <td>1.884757</td>\n",
              "      <td>0.925547</td>\n",
              "      <td>1.087614</td>\n",
              "      <td>0.462437</td>\n",
              "      <td>184.894345</td>\n",
              "    </tr>\n",
              "    <tr>\n",
              "      <th>3</th>\n",
              "      <td>2018</td>\n",
              "      <td>0.514163</td>\n",
              "      <td>0.516174</td>\n",
              "      <td>0.521443</td>\n",
              "      <td>0.528857</td>\n",
              "      <td>0.534581</td>\n",
              "      <td>0.543953</td>\n",
              "      <td>0.551666</td>\n",
              "      <td>0.557929</td>\n",
              "      <td>0.565811</td>\n",
              "      <td>...</td>\n",
              "      <td>2</td>\n",
              "      <td>1</td>\n",
              "      <td>1</td>\n",
              "      <td>0.0082</td>\n",
              "      <td>0.514163</td>\n",
              "      <td>1.868637</td>\n",
              "      <td>0.942196</td>\n",
              "      <td>1.113725</td>\n",
              "      <td>0.469601</td>\n",
              "      <td>189.333202</td>\n",
              "    </tr>\n",
              "    <tr>\n",
              "      <th>4</th>\n",
              "      <td>2045</td>\n",
              "      <td>0.471717</td>\n",
              "      <td>0.474344</td>\n",
              "      <td>0.477808</td>\n",
              "      <td>0.483401</td>\n",
              "      <td>0.491121</td>\n",
              "      <td>0.496970</td>\n",
              "      <td>0.503694</td>\n",
              "      <td>0.509696</td>\n",
              "      <td>0.516301</td>\n",
              "      <td>...</td>\n",
              "      <td>1</td>\n",
              "      <td>1</td>\n",
              "      <td>1</td>\n",
              "      <td>0.0051</td>\n",
              "      <td>0.471717</td>\n",
              "      <td>1.917085</td>\n",
              "      <td>0.878465</td>\n",
              "      <td>1.075850</td>\n",
              "      <td>0.493414</td>\n",
              "      <td>182.894524</td>\n",
              "    </tr>\n",
              "  </tbody>\n",
              "</table>\n",
              "<p>5 rows × 183 columns</p>\n",
              "</div>\n",
              "      <button class=\"colab-df-convert\" onclick=\"convertToInteractive('df-8b2fc45c-3200-44ff-8a82-62bf3c1a577b')\"\n",
              "              title=\"Convert this dataframe to an interactive table.\"\n",
              "              style=\"display:none;\">\n",
              "        \n",
              "  <svg xmlns=\"http://www.w3.org/2000/svg\" height=\"24px\"viewBox=\"0 0 24 24\"\n",
              "       width=\"24px\">\n",
              "    <path d=\"M0 0h24v24H0V0z\" fill=\"none\"/>\n",
              "    <path d=\"M18.56 5.44l.94 2.06.94-2.06 2.06-.94-2.06-.94-.94-2.06-.94 2.06-2.06.94zm-11 1L8.5 8.5l.94-2.06 2.06-.94-2.06-.94L8.5 2.5l-.94 2.06-2.06.94zm10 10l.94 2.06.94-2.06 2.06-.94-2.06-.94-.94-2.06-.94 2.06-2.06.94z\"/><path d=\"M17.41 7.96l-1.37-1.37c-.4-.4-.92-.59-1.43-.59-.52 0-1.04.2-1.43.59L10.3 9.45l-7.72 7.72c-.78.78-.78 2.05 0 2.83L4 21.41c.39.39.9.59 1.41.59.51 0 1.02-.2 1.41-.59l7.78-7.78 2.81-2.81c.8-.78.8-2.07 0-2.86zM5.41 20L4 18.59l7.72-7.72 1.47 1.35L5.41 20z\"/>\n",
              "  </svg>\n",
              "      </button>\n",
              "      \n",
              "  <style>\n",
              "    .colab-df-container {\n",
              "      display:flex;\n",
              "      flex-wrap:wrap;\n",
              "      gap: 12px;\n",
              "    }\n",
              "\n",
              "    .colab-df-convert {\n",
              "      background-color: #E8F0FE;\n",
              "      border: none;\n",
              "      border-radius: 50%;\n",
              "      cursor: pointer;\n",
              "      display: none;\n",
              "      fill: #1967D2;\n",
              "      height: 32px;\n",
              "      padding: 0 0 0 0;\n",
              "      width: 32px;\n",
              "    }\n",
              "\n",
              "    .colab-df-convert:hover {\n",
              "      background-color: #E2EBFA;\n",
              "      box-shadow: 0px 1px 2px rgba(60, 64, 67, 0.3), 0px 1px 3px 1px rgba(60, 64, 67, 0.15);\n",
              "      fill: #174EA6;\n",
              "    }\n",
              "\n",
              "    [theme=dark] .colab-df-convert {\n",
              "      background-color: #3B4455;\n",
              "      fill: #D2E3FC;\n",
              "    }\n",
              "\n",
              "    [theme=dark] .colab-df-convert:hover {\n",
              "      background-color: #434B5C;\n",
              "      box-shadow: 0px 1px 3px 1px rgba(0, 0, 0, 0.15);\n",
              "      filter: drop-shadow(0px 1px 2px rgba(0, 0, 0, 0.3));\n",
              "      fill: #FFFFFF;\n",
              "    }\n",
              "  </style>\n",
              "\n",
              "      <script>\n",
              "        const buttonEl =\n",
              "          document.querySelector('#df-8b2fc45c-3200-44ff-8a82-62bf3c1a577b button.colab-df-convert');\n",
              "        buttonEl.style.display =\n",
              "          google.colab.kernel.accessAllowed ? 'block' : 'none';\n",
              "\n",
              "        async function convertToInteractive(key) {\n",
              "          const element = document.querySelector('#df-8b2fc45c-3200-44ff-8a82-62bf3c1a577b');\n",
              "          const dataTable =\n",
              "            await google.colab.kernel.invokeFunction('convertToInteractive',\n",
              "                                                     [key], {});\n",
              "          if (!dataTable) return;\n",
              "\n",
              "          const docLinkHtml = 'Like what you see? Visit the ' +\n",
              "            '<a target=\"_blank\" href=https://colab.research.google.com/notebooks/data_table.ipynb>data table notebook</a>'\n",
              "            + ' to learn more about interactive tables.';\n",
              "          element.innerHTML = '';\n",
              "          dataTable['output_type'] = 'display_data';\n",
              "          await google.colab.output.renderOutput(dataTable, element);\n",
              "          const docLink = document.createElement('div');\n",
              "          docLink.innerHTML = docLinkHtml;\n",
              "          element.appendChild(docLink);\n",
              "        }\n",
              "      </script>\n",
              "    </div>\n",
              "  </div>\n",
              "  "
            ],
            "text/plain": [
              "   donation_id  absorbance0  absorbance1  absorbance2  absorbance3  \\\n",
              "0         1975     0.505055     0.506570     0.511544     0.516300   \n",
              "1         1982     0.523531     0.523485     0.526291     0.532875   \n",
              "2         1989     0.516449     0.519226     0.523619     0.532366   \n",
              "3         2018     0.514163     0.516174     0.521443     0.528857   \n",
              "4         2045     0.471717     0.474344     0.477808     0.483401   \n",
              "\n",
              "   absorbance4  absorbance5  absorbance6  absorbance7  absorbance8  ...  \\\n",
              "0     0.524067     0.530191     0.536138     0.542317     0.551118  ...   \n",
              "1     0.538397     0.543180     0.547520     0.553433     0.561674  ...   \n",
              "2     0.540438     0.547985     0.552716     0.556823     0.561827  ...   \n",
              "3     0.534581     0.543953     0.551666     0.557929     0.565811  ...   \n",
              "4     0.491121     0.496970     0.503694     0.509696     0.516301  ...   \n",
              "\n",
              "   hdl_cholesterol_human  hemoglobin(hgb)_human  cholesterol_ldl_human  \\\n",
              "0                      0                      1                      1   \n",
              "1                      0                      1                      2   \n",
              "2                      0                      1                      2   \n",
              "3                      2                      1                      1   \n",
              "4                      1                      1                      1   \n",
              "\n",
              "      std   low_abs  high_abs   med_abs  mean_abs   std_abs     sum_abs  \n",
              "0  0.0073  0.505055  1.927817  0.958842  1.135224  0.497048  192.988096  \n",
              "1  0.0043  0.523485  1.734845  0.916559  1.061186  0.421130  180.401567  \n",
              "2  0.0046  0.516449  1.884757  0.925547  1.087614  0.462437  184.894345  \n",
              "3  0.0082  0.514163  1.868637  0.942196  1.113725  0.469601  189.333202  \n",
              "4  0.0051  0.471717  1.917085  0.878465  1.075850  0.493414  182.894524  \n",
              "\n",
              "[5 rows x 183 columns]"
            ]
          },
          "metadata": {},
          "execution_count": 8
        }
      ],
      "source": [
        "train.head()"
      ]
    },
    {
      "cell_type": "code",
      "execution_count": 9,
      "id": "d0ea15d0",
      "metadata": {
        "id": "d0ea15d0",
        "colab": {
          "base_uri": "https://localhost:8080/"
        },
        "outputId": "7e583e9e-1c92-4881-b2ee-0d1f86bb1240"
      },
      "outputs": [
        {
          "output_type": "stream",
          "name": "stdout",
          "text": [
            "(355, 179)\n",
            "(355,)\n",
            "(355,)\n",
            "(355,)\n"
          ]
        }
      ],
      "source": [
        "# Raw Data\n",
        "y_hdl_cholesterol_human = train_scaled['hdl_cholesterol_human']\n",
        "y_hemoglobin_hgb_human = train_scaled['hemoglobin(hgb)_human']\n",
        "y_cholesterol_ldl_human = train_scaled[\"cholesterol_ldl_human\"]\n",
        "train_unscaled = train.drop(['donation_id', 'hdl_cholesterol_human', 'hemoglobin(hgb)_human',\n",
        "       'cholesterol_ldl_human'], axis=1)\n",
        "train_scaled_drop = train_scaled.drop(['donation_id', 'hdl_cholesterol_human', 'hemoglobin(hgb)_human',\n",
        "       'cholesterol_ldl_human'], axis=1)\n",
        "\n",
        "df_train = train_scaled_drop.copy()\n",
        "df_trainu = train_unscaled.copy() #Unscaled data\n",
        "print(df_train.shape)\n",
        "print(y_hdl_cholesterol_human.shape)\n",
        "print(y_hemoglobin_hgb_human.shape)\n",
        "print(y_cholesterol_ldl_human.shape)"
      ]
    },
    {
      "cell_type": "code",
      "execution_count": 10,
      "id": "0742220d",
      "metadata": {
        "id": "0742220d"
      },
      "outputs": [],
      "source": [
        "X_cols = list(df_train.columns)\n",
        "X_test = test_scaled[X_cols] # Scaled test data\n",
        "X_testu = test[X_cols] # Unscaled test data"
      ]
    },
    {
      "cell_type": "code",
      "execution_count": 9,
      "id": "bf63ca07",
      "metadata": {
        "id": "bf63ca07"
      },
      "outputs": [],
      "source": [
        "def hyperparameter_model(models, params, x_train, y_train):\n",
        "    '''\n",
        "    Hyperparameter tuning with RepeatedStratifiedKFold follow by GridSearchCV\n",
        "    \n",
        "    Parameters:\n",
        "    models: Instance of the model\n",
        "    params: list of parameters with value for tuning (dict)\n",
        "    \n",
        "    Return:\n",
        "    grid_clf: return gridsearch model    \n",
        "    '''\n",
        "    str_cv = RepeatedStratifiedKFold(n_splits=10, n_repeats=5, random_state=seed)\n",
        "    grid_clf = GridSearchCV(models, params, cv=str_cv, return_train_score=True, scoring='roc_auc')\n",
        "    grid_clf.fit(x_train, y_train)\n",
        "    return grid_clf\n",
        "\n",
        "def forward_selection_model(x_train, y_train,model, top_n=10):\n",
        "    top_column = []\n",
        "    exist_score = 0\n",
        "    for n in range(top_n):\n",
        "        print('for {} feature'.format(n+1))\n",
        "        flag = 0\n",
        "        for i in tqdm.tqdm_notebook(range(X_test.shape[1])):\n",
        "            if len(top_column) == 0:\n",
        "                str_cv = RepeatedStratifiedKFold(n_splits=10, n_repeats=5, random_state=42)\n",
        "                score = cross_val_score(model,x_train[:,[i]],y_train,cv=str_cv,scoring='roc_auc')\n",
        "                if exist_score < np.mean(score):\n",
        "                    top_current = i\n",
        "                    exist_score = np.mean(score)\n",
        "                    flag = 1\n",
        "            elif i not in top_column:\n",
        "                str_cv = RepeatedStratifiedKFold(n_splits=10, n_repeats=5, random_state=42)\n",
        "                score = cross_val_score(model,x_train[:,np.concatenate((top_column,[i]))],y_train,cv=str_cv,scoring='roc_auc')\n",
        "                if exist_score < np.mean(score):\n",
        "                    top_current = i\n",
        "                    exist_score = np.mean(score)\n",
        "                    flag = 1\n",
        "        \n",
        "        if flag == 1:\n",
        "            print('Current top feature {} and score: {}'.format(top_current,exist_score))\n",
        "            print('Appended to top column')\n",
        "            top_column.append(top_current)\n",
        "            print(top_column)\n",
        "        else:\n",
        "            break\n",
        "    return top_column\n",
        "\n",
        "\n",
        "def plot_feature_importance(model, model_name, top_n = 10):\n",
        "    '''  \n",
        "    Parameters:\n",
        "    model: model \n",
        "    model_name: name of the model\n",
        "  \n",
        "    Return:\n",
        "    Top 10 features of the dataset  \n",
        "    '''       \n",
        "    column_name = train.drop(['id','target'], axis=1).columns\n",
        "    if model_name == 'log_model':\n",
        "        feat_imp_coef = model.coef_.ravel()\n",
        "    else:\n",
        "        feat_imp_coef = model.feature_importances_\n",
        "    temp = pd.DataFrame(data=np.column_stack((column_name, feat_imp_coef)), columns=['col_name','coef'])\n",
        "    temp = temp.sort_values(by='coef', ascending=False).reset_index()\n",
        "    df = temp\n",
        "    temp = temp[:top_n]\n",
        "    return temp"
      ]
    },
    {
      "cell_type": "code",
      "execution_count": 10,
      "id": "ca1bbc59",
      "metadata": {
        "id": "ca1bbc59"
      },
      "outputs": [],
      "source": [
        "reverse_mapping = {'0' : 'low', '1' : 'ok', '2' : 'high'}"
      ]
    },
    {
      "cell_type": "markdown",
      "id": "c1c14154",
      "metadata": {
        "id": "c1c14154"
      },
      "source": [
        "#### Build each model individually"
      ]
    },
    {
      "cell_type": "markdown",
      "id": "ef9eef7f",
      "metadata": {
        "id": "ef9eef7f"
      },
      "source": [
        "##### A. Baseline Model - Logistic Regression"
      ]
    },
    {
      "cell_type": "markdown",
      "id": "3608f936",
      "metadata": {
        "id": "3608f936"
      },
      "source": [
        "- hdl cholesterol human"
      ]
    },
    {
      "cell_type": "code",
      "execution_count": 11,
      "id": "fc93343b",
      "metadata": {
        "id": "fc93343b"
      },
      "outputs": [],
      "source": [
        "# log_reg = LogisticRegression(random_state=seed)\n",
        "# log_reg.fit(df_train,y_hdl_cholesterol_human)\n",
        "# hdl_cholesterol_human = log_reg.predict(X_test)\n",
        "# test['hdl_cholesterol_human'] = hdl_cholesterol_human.astype(str)\n",
        "# test['hdl_cholesterol_human'] = test['hdl_cholesterol_human'].replace(reverse_mapping)\n",
        "# test['hdl_cholesterol_human'].value_counts()"
      ]
    },
    {
      "cell_type": "markdown",
      "id": "1adb2ae6",
      "metadata": {
        "id": "1adb2ae6"
      },
      "source": [
        "- ldl cholesterol human"
      ]
    },
    {
      "cell_type": "code",
      "execution_count": 12,
      "id": "f864d20a",
      "metadata": {
        "id": "f864d20a"
      },
      "outputs": [],
      "source": [
        "# log_reg2 = LogisticRegression(random_state=seed)\n",
        "# log_reg2.fit(df_train,y_cholesterol_ldl_human)\n",
        "# cholesterol_ldl_human = log_reg2.predict(X_test)\n",
        "# test['cholesterol_ldl_human'] = cholesterol_ldl_human.astype(str)\n",
        "# test['cholesterol_ldl_human'] = test['cholesterol_ldl_human'].replace(reverse_mapping)\n",
        "# test['cholesterol_ldl_human'].value_counts()"
      ]
    },
    {
      "cell_type": "markdown",
      "id": "4323c8b9",
      "metadata": {
        "id": "4323c8b9"
      },
      "source": [
        "- hemoglobin human"
      ]
    },
    {
      "cell_type": "code",
      "execution_count": 13,
      "id": "e756da6f",
      "metadata": {
        "id": "e756da6f"
      },
      "outputs": [],
      "source": [
        "# log_reg3 = LogisticRegression(random_state=seed)\n",
        "# log_reg3.fit(df_train,y_hemoglobin_hgb_human)\n",
        "\n",
        "# hemoglobin_hgb_human = log_reg3.predict(X_test)\n",
        "# test['hemoglobin_hgb_human'] = hemoglobin_hgb_human.astype(str)\n",
        "# test['hemoglobin_hgb_human'] = test['hemoglobin_hgb_human'].replace(reverse_mapping)\n",
        "# test['hemoglobin_hgb_human'].value_counts()"
      ]
    },
    {
      "cell_type": "markdown",
      "id": "b59581f5",
      "metadata": {
        "id": "b59581f5"
      },
      "source": [
        "Leaderboard score with logistic regression is 0.5821917808219178"
      ]
    },
    {
      "cell_type": "markdown",
      "id": "cd295805",
      "metadata": {
        "id": "cd295805"
      },
      "source": [
        "##### B. Logistic Regression with optimization"
      ]
    },
    {
      "cell_type": "markdown",
      "id": "78f99f0c",
      "metadata": {
        "id": "78f99f0c"
      },
      "source": [
        "- hdl cholesterol human"
      ]
    },
    {
      "cell_type": "code",
      "execution_count": 14,
      "id": "013950dd",
      "metadata": {
        "id": "013950dd"
      },
      "outputs": [],
      "source": [
        "# params = {'penalty':['l1', 'l2', 'elasticnet'], 'C':[10**i for i in range(-4,5)], 'solver':['liblinear','sag']}\n",
        "# log_model_hdl = LogisticRegression(random_state=42, class_weight='balanced')\n",
        "# log_clf_hdl = hyperparameter_model(log_model_hdl, params, df_train,y_hdl_cholesterol_human)\n",
        "# print(log_clf_hdl.best_params_)\n",
        "\n",
        "# log_model_hdl = LogisticRegression(**log_clf_hdl.best_params_, class_weight='balanced', random_state=42)\n",
        "# log_model_hdl.fit(df_train,y_hdl_cholesterol_human)\n",
        "\n",
        "# hdl_cholesterol_human = log_model_hdl.predict(X_test)\n",
        "# test['hdl_cholesterol_human'] = hdl_cholesterol_human.astype(str)\n",
        "# test['hdl_cholesterol_human'] = test['hdl_cholesterol_human'].replace(reverse_mapping)\n",
        "# test['hdl_cholesterol_human'].value_counts()"
      ]
    },
    {
      "cell_type": "markdown",
      "id": "e2ada154",
      "metadata": {
        "id": "e2ada154"
      },
      "source": [
        "- ldl cholesterol human"
      ]
    },
    {
      "cell_type": "code",
      "execution_count": 15,
      "id": "ceef4540",
      "metadata": {
        "id": "ceef4540"
      },
      "outputs": [],
      "source": [
        "# params = {'penalty':['l1', 'l2', 'elasticnet'], 'C':[10**i for i in range(-4,5)], 'solver':['liblinear','sag']}\n",
        "# log_model_ldl = LogisticRegression(random_state=42, class_weight='balanced')\n",
        "# log_clf_ldl = hyperparameter_model(log_model_ldl, params, df_train,y_cholesterol_ldl_human)\n",
        "# print(log_clf_ldl.best_params_)\n",
        "\n",
        "# log_model_ldl = LogisticRegression(**log_clf_ldl.best_params_, class_weight='balanced', random_state=seed)\n",
        "# log_model_ldl.fit(df_train,y_cholesterol_ldl_human)\n",
        "\n",
        "# cholesterol_ldl_human = log_model_ldl.predict(X_test)\n",
        "# test['cholesterol_ldl_human'] = cholesterol_ldl_human.astype(str)\n",
        "# test['cholesterol_ldl_human'] = test['cholesterol_ldl_human'].replace(reverse_mapping)\n",
        "# test['cholesterol_ldl_human'].value_counts()"
      ]
    },
    {
      "cell_type": "markdown",
      "id": "08e3e15a",
      "metadata": {
        "id": "08e3e15a"
      },
      "source": [
        "- hemoglobin human"
      ]
    },
    {
      "cell_type": "code",
      "execution_count": 16,
      "id": "9afb952b",
      "metadata": {
        "id": "9afb952b"
      },
      "outputs": [],
      "source": [
        "# params = {'penalty':['l1', 'l2', 'elasticnet'], 'C':[10**i for i in range(-4,5)], 'solver':['liblinear','sag']}\n",
        "# log_model_hgb = LogisticRegression(random_state=42, class_weight='balanced')\n",
        "# log_clf_hgb = hyperparameter_model(log_model_hgb, params, df_train,y_hemoglobin_hgb_human)\n",
        "# print(log_clf_hgb.best_params_)\n",
        "\n",
        "# log_model_hgb = LogisticRegression(**log_clf_hgb.best_params_, class_weight='balanced', random_state=seed)\n",
        "# log_model_hgb.fit(df_train,y_hemoglobin_hgb_human)\n",
        "\n",
        "# hemoglobin_hgb_human = log_model_hgb.predict(X_test)\n",
        "# test['hemoglobin_hgb_human'] = hemoglobin_hgb_human.astype(str)\n",
        "# test['hemoglobin_hgb_human'] = test['hemoglobin_hgb_human'].replace(reverse_mapping)\n",
        "# test['hemoglobin_hgb_human'].value_counts()"
      ]
    },
    {
      "cell_type": "markdown",
      "id": "204f15c8",
      "metadata": {
        "id": "204f15c8"
      },
      "source": [
        "Submission score dropped to 0.5753424657534246 "
      ]
    },
    {
      "cell_type": "markdown",
      "id": "b3e08265",
      "metadata": {
        "id": "b3e08265"
      },
      "source": [
        "#### C. PCA & Logistic Regression"
      ]
    },
    {
      "cell_type": "code",
      "execution_count": 17,
      "id": "deb4ba34",
      "metadata": {
        "id": "deb4ba34"
      },
      "outputs": [],
      "source": [
        "# # # https://scikit-learn.org/stable/auto_examples/compose/plot_digits_pipe.html\n",
        "# # # https://machinelearningmastery.com/multinomial-logistic-regression-with-python/\n",
        "\n",
        "# from sklearn.decomposition import PCA\n",
        "# from sklearn.pipeline import Pipeline\n",
        "# def pca_lr(x_train, y_train):\n",
        "#     pca = PCA()\n",
        "\n",
        "#     logistic = LogisticRegression(random_state = 42,solver='liblinear',max_iter=10000, tol=0.1)\n",
        "#     pipe = Pipeline(steps=[('pca', pca), ('logistic', logistic)])\n",
        "\n",
        "\n",
        "# # Parameters of pipelines can be set using ‘__’ separated parameter names:\n",
        "#     param_grid = {\n",
        "#     'pca__n_components': np.arange(170),\n",
        "#     'logistic__C': np.logspace(-4, 4, 4),\n",
        "#     }\n",
        "#     search = GridSearchCV(pipe, param_grid, n_jobs=-1)\n",
        "#     search.fit(x_train, y_train)\n",
        "#     print('Best parameter (CV score=%0.3f):' % search.best_score_)\n",
        "#     print(search.best_params_)\n",
        "\n",
        "#     # Plot the PCA spectrum\n",
        "#     pca.fit(x_train)\n",
        "\n",
        "#     fig, (ax0, ax1) = plt.subplots(nrows=2, sharex=True, figsize=(6, 6))\n",
        "#     ax0.plot(np.arange(1, pca.n_components_ + 1),\n",
        "#          np.cumsum(pca.explained_variance_ratio_), '+', linewidth=2)\n",
        "#     ax0.set_ylabel('PCA cummulative explained variance ratio')\n",
        "\n",
        "#     ax0.axvline(search.best_estimator_.named_steps['pca'].n_components,\n",
        "#             linestyle=':', label='n_components chosen')\n",
        "#     ax0.legend(prop=dict(size=12))\n",
        "\n",
        "#     # For each number of components, find the best classifier results\n",
        "#     results = pd.DataFrame(search.cv_results_)\n",
        "#     components_col = 'param_pca__n_components'\n",
        "#     best_clfs = results.groupby(components_col).apply(\n",
        "#     lambda g: g.nlargest(1, 'mean_test_score'))\n",
        "\n",
        "#     best_clfs.plot(x=components_col, y='mean_test_score', yerr='std_test_score',\n",
        "#                legend=False, ax=ax1)\n",
        "#     ax1.set_ylabel('Classification accuracy (val)')\n",
        "#     ax1.set_xlabel('n_components')\n",
        "\n",
        "#     plt.xlim(-1, 70)\n",
        "#     plt.tight_layout()\n",
        "#     plt.show()\n",
        "\n",
        "#     #print(f'Cummulative explained variance ratio:',np.cumsum(pca.explained_variance_ratio_))\n"
      ]
    },
    {
      "cell_type": "markdown",
      "id": "685a983d",
      "metadata": {
        "id": "685a983d"
      },
      "source": [
        "- hdl cholesterol human"
      ]
    },
    {
      "cell_type": "code",
      "execution_count": 18,
      "id": "09b96b73",
      "metadata": {
        "id": "09b96b73"
      },
      "outputs": [],
      "source": [
        "# pca_lr(df_train,y_hdl_cholesterol_human)\n",
        "# hdl_cholesterol_human = search.predict(X_test)\n",
        "# test['hdl_cholesterol_human'] = hdl_cholesterol_human.astype(str)\n",
        "# test['hdl_cholesterol_human'] = test['hdl_cholesterol_human'].replace(reverse_mapping)\n",
        "# test['hdl_cholesterol_human'].value_counts()"
      ]
    },
    {
      "cell_type": "code",
      "execution_count": 19,
      "id": "d6ae9735",
      "metadata": {
        "id": "d6ae9735"
      },
      "outputs": [],
      "source": [
        "# pca_lr(df_train,y_cholesterol_ldl_human)\n",
        "# cholesterol_ldl_human = search.predict(X_test)\n",
        "# test['cholesterol_ldl_human'] = cholesterol_ldl_human.astype(str)\n",
        "# test['cholesterol_ldl_human'] = test['cholesterol_ldl_human'].replace(reverse_mapping)\n",
        "# test['cholesterol_ldl_human'].value_counts()"
      ]
    },
    {
      "cell_type": "code",
      "execution_count": 20,
      "id": "74789929",
      "metadata": {
        "id": "74789929"
      },
      "outputs": [],
      "source": [
        "# pca_lr(df_train,y_hemoglobin_hgb_human)\n",
        "# hemoglobin_hgb_human = search.predict(X_test)\n",
        "# test['hemoglobin_hgb_human'] = hemoglobin_hgb_human.astype(str)\n",
        "# test['hemoglobin_hgb_human'] = test['hemoglobin_hgb_human'].replace(reverse_mapping)\n",
        "# test['hemoglobin_hgb_human'].value_counts()"
      ]
    },
    {
      "cell_type": "markdown",
      "id": "64bdf4aa",
      "metadata": {
        "id": "64bdf4aa"
      },
      "source": [
        "Score with PCA is 0.56 "
      ]
    },
    {
      "cell_type": "markdown",
      "id": "07db0430",
      "metadata": {
        "id": "07db0430"
      },
      "source": [
        "#### D. Random Forest Classifier"
      ]
    },
    {
      "cell_type": "code",
      "execution_count": 21,
      "id": "8b6f2072",
      "metadata": {
        "id": "8b6f2072"
      },
      "outputs": [],
      "source": [
        "# from sklearn.ensemble import RandomForestClassifier\n",
        "\n",
        "# rf_hdl = RandomForestClassifier(random_state=seed)\n",
        "# rf_hdl.fit(df_train,y_hdl_cholesterol_human)\n",
        "# print(\"Random forest trained on unscaled data\")\n",
        "\n",
        "# hdl_cholesterol_human = rf_hdl.predict(X_test)\n",
        "# test['hdl_cholesterol_human'] = hdl_cholesterol_human.astype(str)\n",
        "# test['hdl_cholesterol_human'] = test['hdl_cholesterol_human'].replace(reverse_mapping)\n",
        "# test['hdl_cholesterol_human'].value_counts()\n"
      ]
    },
    {
      "cell_type": "code",
      "execution_count": 22,
      "id": "3598f7ae",
      "metadata": {
        "id": "3598f7ae"
      },
      "outputs": [],
      "source": [
        "# rf_ldl = RandomForestClassifier(random_state=seed)\n",
        "# rf_ldl.fit(df_train,y_cholesterol_ldl_human)\n",
        "# print(\"Random forest trained on unscaled data\")\n",
        "\n",
        "# cholesterol_ldl_human = rf_ldl.predict(X_test)\n",
        "# test['cholesterol_ldl_human'] = cholesterol_ldl_human.astype(str)\n",
        "# test['cholesterol_ldl_human'] = test['cholesterol_ldl_human'].replace(reverse_mapping)\n",
        "# test['cholesterol_ldl_human'].value_counts()"
      ]
    },
    {
      "cell_type": "code",
      "execution_count": 23,
      "id": "19b501dd",
      "metadata": {
        "id": "19b501dd"
      },
      "outputs": [],
      "source": [
        "# rf_hgb = RandomForestClassifier(random_state=seed)\n",
        "# rf_hgb.fit(df_train,y_hemoglobin_hgb_human)\n",
        "# print(\"Random forest trained on unscaled data\")\n",
        "\n",
        "# hemoglobin_hgb_human = rf_hgb.predict(X_test)\n",
        "# test['hemoglobin_hgb_human'] = hemoglobin_hgb_human.astype(str)\n",
        "# test['hemoglobin_hgb_human'] = test['hemoglobin_hgb_human'].replace(reverse_mapping)\n",
        "# test['hemoglobin_hgb_human'].value_counts()"
      ]
    },
    {
      "cell_type": "markdown",
      "id": "6d392920",
      "metadata": {
        "id": "6d392920"
      },
      "source": [
        "RF without optimization gave a score of 0.541 with unscaled data. and 0.51 with scaled data."
      ]
    },
    {
      "cell_type": "markdown",
      "id": "966b4767",
      "metadata": {
        "id": "966b4767"
      },
      "source": [
        "#### E. Random Forest Classifier with optimization"
      ]
    },
    {
      "cell_type": "code",
      "execution_count": 24,
      "id": "e4fc394c",
      "metadata": {
        "id": "e4fc394c"
      },
      "outputs": [],
      "source": [
        "# params = {'n_estimators':[10,20,30,40,50,100,200,300,400],'max_depth':[2,3,5,7]}\n",
        "# rf_model_ldl = RandomForestClassifier(random_state=seed)\n",
        "# rf_clf_ldl = hyperparameter_model(rf_model_ldl, params,df_train,y_cholesterol_ldl_human)\n",
        "# print(rf_clf_ldl.best_params_)\n",
        "# rf_clf_ldl = RandomForestClassifier(**rf_clf_ldl.best_params_,random_state=seed)\n",
        "# rf_clf_ldl.fit(df_trainu,y_cholesterol_ldl_human)\n",
        "\n",
        "# cholesterol_ldl_human = rf_clf_ldl.predict(X_test)\n",
        "# test['cholesterol_ldl_human'] = cholesterol_ldl_human.astype(str)\n",
        "# test['cholesterol_ldl_human'] = test['cholesterol_ldl_human'].replace(reverse_mapping)\n",
        "# test['cholesterol_ldl_human'].value_counts()"
      ]
    },
    {
      "cell_type": "code",
      "execution_count": 25,
      "id": "69490a8a",
      "metadata": {
        "id": "69490a8a"
      },
      "outputs": [],
      "source": [
        "# params = {'n_estimators':[10,20,30,40,50,100,200,300,400],'max_depth':[2,3,5,7]}\n",
        "# rf_model_hdl = RandomForestClassifier(random_state=seed)\n",
        "# rf_clf_hdl = hyperparameter_model(rf_model_hdl, params,df_train,y_hdl_cholesterol_human)\n",
        "# print(rf_clf_hdl.best_params_)\n",
        "# rf_clf_hdl = RandomForestClassifier(**rf_clf_hdl.best_params_,random_state=seed)\n",
        "# rf_clf_hdl.fit(df_trainu,y_hdl_cholesterol_human)\n",
        "\n",
        "# hdl_cholesterol_human = rf_clf_hdl.predict(X_test)\n",
        "# test['hdl_cholesterol_human'] = hdl_cholesterol_human.astype(str)\n",
        "# test['hdl_cholesterol_human'] = test['hdl_cholesterol_human'].replace(reverse_mapping)\n",
        "# test['hdl_cholesterol_human'].value_counts()"
      ]
    },
    {
      "cell_type": "code",
      "execution_count": 26,
      "id": "fd43d94b",
      "metadata": {
        "id": "fd43d94b"
      },
      "outputs": [],
      "source": [
        "# params = {'n_estimators':[10,20,30,40,50,100,200,300,400],'max_depth':[2,3,5,7]}\n",
        "# rf_model_hgb = RandomForestClassifier(random_state=seed)\n",
        "# rf_clf_hgb = hyperparameter_model(rf_model_hgb, params,df_train,y_hemoglobin_hgb_human)\n",
        "# print(rf_clf_hgb.best_params_)\n",
        "# rf_clf_hgb = RandomForestClassifier(**rf_clf_hgb.best_params_,random_state=seed)\n",
        "# rf_clf_hgb.fit(df_trainu,y_hemoglobin_hgb_human)\n",
        "\n",
        "# hemoglobin_hgb_human = rf_clf_hgb.predict(X_test)\n",
        "# test['hemoglobin_hgb_human'] = hemoglobin_hgb_human.astype(str)\n",
        "# test['hemoglobin_hgb_human'] = test['hemoglobin_hgb_human'].replace(reverse_mapping)\n",
        "# test['hemoglobin_hgb_human'].value_counts()"
      ]
    },
    {
      "cell_type": "markdown",
      "id": "00394cd5",
      "metadata": {
        "id": "00394cd5"
      },
      "source": [
        "Rf with optimization on unscaled data gives 0.582 score, with scaled data gies 0.554"
      ]
    },
    {
      "cell_type": "markdown",
      "id": "46c1ebef",
      "metadata": {
        "id": "46c1ebef"
      },
      "source": [
        "#### F. SVC Classifier "
      ]
    },
    {
      "cell_type": "code",
      "execution_count": 27,
      "id": "263ea86b",
      "metadata": {
        "id": "263ea86b"
      },
      "outputs": [],
      "source": [
        "# params = {'C':[10**i for i in range(-4,5)], 'kernel':['linear','poly','sigmoid','rbf']}\n",
        "# svc_model_ldl = SVC(class_weight='balanced', random_state=seed, probability=True)\n",
        "# svc_clf_ldl = hyperparameter_model(svc_model_ldl, params,df_train,y_cholesterol_ldl_human)\n",
        "# print(svc_clf_ldl.best_params_)\n",
        "# svc_clf_ldl = SVC(**svc_clf_ldl.best_params_,random_state=seed,probability=True)\n",
        "# svc_clf_ldl.fit(df_trainu,y_cholesterol_ldl_human)\n",
        "\n",
        "# cholesterol_ldl_human = rf_clf_ldl.predict(X_test)\n",
        "# test['cholesterol_ldl_human'] = cholesterol_ldl_human.astype(str)\n",
        "# test['cholesterol_ldl_human'] = test['cholesterol_ldl_human'].replace(reverse_mapping)\n",
        "# test['cholesterol_ldl_human'].value_counts()"
      ]
    },
    {
      "cell_type": "code",
      "execution_count": 28,
      "id": "dda32088",
      "metadata": {
        "id": "dda32088"
      },
      "outputs": [],
      "source": [
        "# params = {'C':[10**i for i in range(-4,5)], 'kernel':['linear','poly','sigmoid','rbf']}\n",
        "# svc_model_hdl = SVC(class_weight='balanced', random_state=seed, probability=True)\n",
        "# svc_clf_hdl = hyperparameter_model(svc_model_hdl, params,df_train,y_hdl_cholesterol_human)\n",
        "# print(svc_clf_hdl.best_params_)\n",
        "# svc_clf_hdl = SVC(**svc_clf_hdl.best_params_,random_state=seed,probability=True)\n",
        "# svc_clf_hdl.fit(df_trainu,y_hdl_cholesterol_human)\n",
        "\n",
        "# hdl_cholesterol_human = rf_clf_hdl.predict(X_test)\n",
        "# test['hdl_cholesterol_human'] = hdl_cholesterol_human.astype(str)\n",
        "# test['hdl_cholesterol_human'] = test['hdl_cholesterol_human'].replace(reverse_mapping)\n",
        "# test['hdl_cholesterol_human'].value_counts()"
      ]
    },
    {
      "cell_type": "code",
      "execution_count": 29,
      "id": "65a1e543",
      "metadata": {
        "id": "65a1e543"
      },
      "outputs": [],
      "source": [
        "# params = {'C':[10**i for i in range(-4,5)], 'kernel':['linear','poly','sigmoid','rbf']}\n",
        "# svc_model_hgb = SVC(class_weight='balanced', random_state=seed, probability=True)\n",
        "# svc_clf_hgb = hyperparameter_model(svc_model_hgb, params,df_train,y_hemoglobin_hgb_human)\n",
        "# print(svc_clf_hgb.best_params_)\n",
        "# svc_clf_hgb = SVC(**svc_clf_hgb.best_params_,random_state=seed,probability=True)\n",
        "# svc_clf_hgb.fit(df_trainu,y_hemoglobin_hgb_human)\n",
        "\n",
        "# hemoglobin_hgb_human = svc_clf_hgb.predict(X_test)\n",
        "# test['hemoglobin_hgb_human'] = hemoglobin_hgb_human.astype(str)\n",
        "# test['hemoglobin_hgb_human'] = test['hemoglobin_hgb_human'].replace(reverse_mapping)\n",
        "# test['hemoglobin_hgb_human'].value_counts()"
      ]
    },
    {
      "cell_type": "markdown",
      "id": "5799eb98",
      "metadata": {
        "id": "5799eb98"
      },
      "source": [
        "With unscaled data gave a score of 0.5829"
      ]
    },
    {
      "cell_type": "markdown",
      "id": "d31b9477",
      "metadata": {
        "id": "d31b9477"
      },
      "source": [
        "##### G. Catboost Algorithm\n",
        "https://journalofbigdata.springeropen.com/articles/10.1186/s40537-020-00349-y"
      ]
    },
    {
      "cell_type": "markdown",
      "id": "33594c50",
      "metadata": {
        "id": "33594c50"
      },
      "source": [
        "- hdl cholesterol human"
      ]
    },
    {
      "cell_type": "code",
      "source": [
        "!pip install catboost"
      ],
      "metadata": {
        "id": "j6iMvWiQuOTQ",
        "colab": {
          "base_uri": "https://localhost:8080/"
        },
        "outputId": "51897693-bf0d-49cf-c0a6-e74ec70a8ba8"
      },
      "id": "j6iMvWiQuOTQ",
      "execution_count": 30,
      "outputs": [
        {
          "output_type": "stream",
          "name": "stdout",
          "text": [
            "Requirement already satisfied: catboost in /usr/local/lib/python3.7/dist-packages (1.0.4)\n",
            "Requirement already satisfied: plotly in /usr/local/lib/python3.7/dist-packages (from catboost) (5.5.0)\n",
            "Requirement already satisfied: graphviz in /usr/local/lib/python3.7/dist-packages (from catboost) (0.10.1)\n",
            "Requirement already satisfied: numpy>=1.16.0 in /usr/local/lib/python3.7/dist-packages (from catboost) (1.21.5)\n",
            "Requirement already satisfied: matplotlib in /usr/local/lib/python3.7/dist-packages (from catboost) (3.2.2)\n",
            "Requirement already satisfied: six in /usr/local/lib/python3.7/dist-packages (from catboost) (1.15.0)\n",
            "Requirement already satisfied: pandas>=0.24.0 in /usr/local/lib/python3.7/dist-packages (from catboost) (1.3.5)\n",
            "Requirement already satisfied: scipy in /usr/local/lib/python3.7/dist-packages (from catboost) (1.4.1)\n",
            "Requirement already satisfied: python-dateutil>=2.7.3 in /usr/local/lib/python3.7/dist-packages (from pandas>=0.24.0->catboost) (2.8.2)\n",
            "Requirement already satisfied: pytz>=2017.3 in /usr/local/lib/python3.7/dist-packages (from pandas>=0.24.0->catboost) (2018.9)\n",
            "Requirement already satisfied: pyparsing!=2.0.4,!=2.1.2,!=2.1.6,>=2.0.1 in /usr/local/lib/python3.7/dist-packages (from matplotlib->catboost) (3.0.7)\n",
            "Requirement already satisfied: cycler>=0.10 in /usr/local/lib/python3.7/dist-packages (from matplotlib->catboost) (0.11.0)\n",
            "Requirement already satisfied: kiwisolver>=1.0.1 in /usr/local/lib/python3.7/dist-packages (from matplotlib->catboost) (1.3.2)\n",
            "Requirement already satisfied: tenacity>=6.2.0 in /usr/local/lib/python3.7/dist-packages (from plotly->catboost) (8.0.1)\n"
          ]
        }
      ]
    },
    {
      "cell_type": "code",
      "source": [
        "!pip install optuna\n"
      ],
      "metadata": {
        "id": "Una8Jf6k1gTJ",
        "colab": {
          "base_uri": "https://localhost:8080/"
        },
        "outputId": "e7c804a1-ad7e-4f58-94d7-fff1ee7e3b59"
      },
      "id": "Una8Jf6k1gTJ",
      "execution_count": 31,
      "outputs": [
        {
          "output_type": "stream",
          "name": "stdout",
          "text": [
            "Requirement already satisfied: optuna in /usr/local/lib/python3.7/dist-packages (2.10.0)\n",
            "Requirement already satisfied: PyYAML in /usr/local/lib/python3.7/dist-packages (from optuna) (3.13)\n",
            "Requirement already satisfied: cliff in /usr/local/lib/python3.7/dist-packages (from optuna) (3.10.1)\n",
            "Requirement already satisfied: tqdm in /usr/local/lib/python3.7/dist-packages (from optuna) (4.63.0)\n",
            "Requirement already satisfied: scipy!=1.4.0 in /usr/local/lib/python3.7/dist-packages (from optuna) (1.4.1)\n",
            "Requirement already satisfied: numpy in /usr/local/lib/python3.7/dist-packages (from optuna) (1.21.5)\n",
            "Requirement already satisfied: sqlalchemy>=1.1.0 in /usr/local/lib/python3.7/dist-packages (from optuna) (1.4.31)\n",
            "Requirement already satisfied: packaging>=20.0 in /usr/local/lib/python3.7/dist-packages (from optuna) (21.3)\n",
            "Requirement already satisfied: cmaes>=0.8.2 in /usr/local/lib/python3.7/dist-packages (from optuna) (0.8.2)\n",
            "Requirement already satisfied: colorlog in /usr/local/lib/python3.7/dist-packages (from optuna) (6.6.0)\n",
            "Requirement already satisfied: alembic in /usr/local/lib/python3.7/dist-packages (from optuna) (1.7.6)\n",
            "Requirement already satisfied: pyparsing!=3.0.5,>=2.0.2 in /usr/local/lib/python3.7/dist-packages (from packaging>=20.0->optuna) (3.0.7)\n",
            "Requirement already satisfied: importlib-metadata in /usr/local/lib/python3.7/dist-packages (from sqlalchemy>=1.1.0->optuna) (4.11.2)\n",
            "Requirement already satisfied: greenlet!=0.4.17 in /usr/local/lib/python3.7/dist-packages (from sqlalchemy>=1.1.0->optuna) (1.1.2)\n",
            "Requirement already satisfied: importlib-resources in /usr/local/lib/python3.7/dist-packages (from alembic->optuna) (5.4.0)\n",
            "Requirement already satisfied: Mako in /usr/local/lib/python3.7/dist-packages (from alembic->optuna) (1.1.6)\n",
            "Requirement already satisfied: pbr!=2.1.0,>=2.0.0 in /usr/local/lib/python3.7/dist-packages (from cliff->optuna) (5.8.1)\n",
            "Requirement already satisfied: autopage>=0.4.0 in /usr/local/lib/python3.7/dist-packages (from cliff->optuna) (0.5.0)\n",
            "Requirement already satisfied: stevedore>=2.0.1 in /usr/local/lib/python3.7/dist-packages (from cliff->optuna) (3.5.0)\n",
            "Requirement already satisfied: cmd2>=1.0.0 in /usr/local/lib/python3.7/dist-packages (from cliff->optuna) (2.4.0)\n",
            "Requirement already satisfied: PrettyTable>=0.7.2 in /usr/local/lib/python3.7/dist-packages (from cliff->optuna) (3.1.1)\n",
            "Requirement already satisfied: pyperclip>=1.6 in /usr/local/lib/python3.7/dist-packages (from cmd2>=1.0.0->cliff->optuna) (1.8.2)\n",
            "Requirement already satisfied: typing-extensions in /usr/local/lib/python3.7/dist-packages (from cmd2>=1.0.0->cliff->optuna) (3.10.0.2)\n",
            "Requirement already satisfied: attrs>=16.3.0 in /usr/local/lib/python3.7/dist-packages (from cmd2>=1.0.0->cliff->optuna) (21.4.0)\n",
            "Requirement already satisfied: wcwidth>=0.1.7 in /usr/local/lib/python3.7/dist-packages (from cmd2>=1.0.0->cliff->optuna) (0.2.5)\n",
            "Requirement already satisfied: zipp>=0.5 in /usr/local/lib/python3.7/dist-packages (from importlib-metadata->sqlalchemy>=1.1.0->optuna) (3.7.0)\n",
            "Requirement already satisfied: MarkupSafe>=0.9.2 in /usr/local/lib/python3.7/dist-packages (from Mako->alembic->optuna) (2.0.1)\n"
          ]
        }
      ]
    },
    {
      "cell_type": "code",
      "source": [
        "from catboost import CatBoostClassifier\n",
        "from sklearn.model_selection import train_test_split\n",
        "from sklearn.metrics import accuracy_score\n",
        "import optuna\n",
        "\n",
        "def objective(trial):\n",
        "    X_train, X_test, y_train, y_test = train_test_split(X, y, test_size=0.3)\n",
        "    param = {\n",
        "        \"loss_function\": trial.suggest_categorical(\"loss_function\", [\"MultiClass\",\"MultiClassOneVsAll\"]),\n",
        "        \"learning_rate\": trial.suggest_loguniform(\"learning_rate\", 1e-5, 1e0),\n",
        "        \"l2_leaf_reg\": trial.suggest_loguniform(\"l2_leaf_reg\", 1e-2, 1e0),\n",
        "        \"colsample_bylevel\": trial.suggest_float(\"colsample_bylevel\", 0.01, 0.1),\n",
        "        \"depth\": trial.suggest_int(\"depth\", 1, 10),\n",
        "        \"boosting_type\": trial.suggest_categorical(\"boosting_type\", [\"Ordered\", \"Plain\"]),\n",
        "        \"bootstrap_type\": trial.suggest_categorical(\"bootstrap_type\", [\"Bayesian\", \"Bernoulli\", \"MVS\"]),\n",
        "        \"min_data_in_leaf\": trial.suggest_int(\"min_data_in_leaf\", 2, 20),\n",
        "        \"one_hot_max_size\": trial.suggest_int(\"one_hot_max_size\", 2, 20),  \n",
        "    }\n",
        "    # Conditional Hyper-Parameters\n",
        "    if param[\"bootstrap_type\"] == \"Bayesian\":\n",
        "        param[\"bagging_temperature\"] = trial.suggest_float(\"bagging_temperature\", 0, 10)\n",
        "    elif param[\"bootstrap_type\"] == \"Bernoulli\":\n",
        "        param[\"subsample\"] = trial.suggest_float(\"subsample\", 0.1, 1)\n",
        "\n",
        "    reg = CatBoostClassifier(**param)\n",
        "    reg.fit(X_train, y_train, eval_set=[(X_test, y_test)], verbose=0, early_stopping_rounds=100)\n",
        "    y_pred = reg.predict(X_test)\n",
        "    score = accuracy_score(y_test, y_pred,normalize=False)\n",
        "    return score"
      ],
      "metadata": {
        "id": "AC2GoOUxt033"
      },
      "id": "AC2GoOUxt033",
      "execution_count": 32,
      "outputs": []
    },
    {
      "cell_type": "code",
      "source": [
        "# \"Logloss\", \"CrossEntropy\", \"MultiClassOneVsAll\","
      ],
      "metadata": {
        "id": "98LhDvUuOeEv"
      },
      "id": "98LhDvUuOeEv",
      "execution_count": 33,
      "outputs": []
    },
    {
      "cell_type": "code",
      "source": [
        "# #LDL\n",
        "# from optuna.samplers import TPESampler\n",
        "\n",
        "# X = df_trainu\n",
        "# y = y_cholesterol_ldl_human\n",
        "\n",
        "# study = optuna.create_study(sampler=TPESampler(), direction=\"maximize\")\n",
        "# study.optimize(objective, n_trials=10, timeout=600) # Run for 10 minutes\n",
        "# print(\"Number of completed trials: {}\".format(len(study.trials)))\n",
        "# print(\"Best trial:\")\n",
        "# trial = study.best_trial\n",
        "\n",
        "# print(\"\\tBest Score: {}\".format(trial.value))\n",
        "# print(\"\\tBest Params: \")\n",
        "# for key, value in trial.params.items():\n",
        "#     print(\"    {}: {}\".format(key, value))"
      ],
      "metadata": {
        "id": "eAEgNMNI2_X1",
        "colab": {
          "base_uri": "https://localhost:8080/"
        },
        "outputId": "64e796a3-ea18-4c17-ed71-c7f819ecbc5f"
      },
      "id": "eAEgNMNI2_X1",
      "execution_count": 34,
      "outputs": [
        {
          "output_type": "stream",
          "name": "stderr",
          "text": [
            "\u001b[32m[I 2022-03-03 19:02:56,854]\u001b[0m A new study created in memory with name: no-name-5bee6d7a-a002-4db6-b398-fbab7bdf3758\u001b[0m\n",
            "\u001b[32m[I 2022-03-03 19:02:59,273]\u001b[0m Trial 0 finished with value: 54.0 and parameters: {'loss_function': 'MultiClass', 'learning_rate': 0.00835420117258196, 'l2_leaf_reg': 0.08109647973661131, 'colsample_bylevel': 0.07139635492543964, 'depth': 4, 'boosting_type': 'Plain', 'bootstrap_type': 'MVS', 'min_data_in_leaf': 3, 'one_hot_max_size': 10}. Best is trial 0 with value: 54.0.\u001b[0m\n",
            "\u001b[32m[I 2022-03-03 19:14:25,871]\u001b[0m Trial 1 finished with value: 65.0 and parameters: {'loss_function': 'MultiClassOneVsAll', 'learning_rate': 0.0064072868855562385, 'l2_leaf_reg': 0.014091097060982199, 'colsample_bylevel': 0.07471868520105368, 'depth': 10, 'boosting_type': 'Ordered', 'bootstrap_type': 'Bayesian', 'min_data_in_leaf': 15, 'one_hot_max_size': 14, 'bagging_temperature': 5.445820762535}. Best is trial 1 with value: 65.0.\u001b[0m\n"
          ]
        },
        {
          "output_type": "stream",
          "name": "stdout",
          "text": [
            "Number of completed trials: 2\n",
            "Best trial:\n",
            "\tBest Score: 65.0\n",
            "\tBest Params: \n",
            "    loss_function: MultiClassOneVsAll\n",
            "    learning_rate: 0.0064072868855562385\n",
            "    l2_leaf_reg: 0.014091097060982199\n",
            "    colsample_bylevel: 0.07471868520105368\n",
            "    depth: 10\n",
            "    boosting_type: Ordered\n",
            "    bootstrap_type: Bayesian\n",
            "    min_data_in_leaf: 15\n",
            "    one_hot_max_size: 14\n",
            "    bagging_temperature: 5.445820762535\n"
          ]
        }
      ]
    },
    {
      "cell_type": "code",
      "source": [
        "# cat_model_ldl = CatBoostClassifier(loss_function = 'MultiClass',\n",
        "#                                    learning_rate = 6.447911714090859e-05,\n",
        "#                                    l2_leaf_reg = 0.02120959816527062,colsample_bylevel = 0.02345568909821258,depth = 3,\n",
        "#                                    boosting_type = \"Plain\",bootstrap_type = \"Bayesian\",min_data_in_leaf = 3,\n",
        "#                                    one_hot_max_size = 11,bagging_temperature = 3.8517108825279402,)"
      ],
      "metadata": {
        "id": "p69-n6BSYCx6"
      },
      "id": "p69-n6BSYCx6",
      "execution_count": 35,
      "outputs": []
    },
    {
      "cell_type": "code",
      "source": [
        "# study.best_trial.params"
      ],
      "metadata": {
        "id": "6qTVivlTZbqy",
        "outputId": "4c1ac546-0a06-463f-d4cc-e13f0106be50",
        "colab": {
          "base_uri": "https://localhost:8080/"
        }
      },
      "id": "6qTVivlTZbqy",
      "execution_count": 36,
      "outputs": [
        {
          "output_type": "execute_result",
          "data": {
            "text/plain": [
              "{'bagging_temperature': 5.445820762535,\n",
              " 'boosting_type': 'Ordered',\n",
              " 'bootstrap_type': 'Bayesian',\n",
              " 'colsample_bylevel': 0.07471868520105368,\n",
              " 'depth': 10,\n",
              " 'l2_leaf_reg': 0.014091097060982199,\n",
              " 'learning_rate': 0.0064072868855562385,\n",
              " 'loss_function': 'MultiClassOneVsAll',\n",
              " 'min_data_in_leaf': 15,\n",
              " 'one_hot_max_size': 14}"
            ]
          },
          "metadata": {},
          "execution_count": 36
        }
      ]
    },
    {
      "cell_type": "code",
      "source": [
        "# cat_model_ldl = CatBoostClassifier(**study.best_trial.params)"
      ],
      "metadata": {
        "id": "HG3Rio6ha5sx"
      },
      "id": "HG3Rio6ha5sx",
      "execution_count": 37,
      "outputs": []
    },
    {
      "cell_type": "code",
      "source": [
        "# cat_model_ldl = CatBoostClassifier(loss_function = 'MultiClassOneVsAll',\n",
        "#                                    learning_rate = 0.0005082181545580776,\n",
        "#                                    l2_leaf_reg = 0.02434332224091455,colsample_bylevel = 0.07695581371024932,depth = 5,\n",
        "#                                    boosting_type = \"Plain\",bootstrap_type = \"MVS\",min_data_in_leaf = 15,\n",
        "#                                    one_hot_max_size = 7)"
      ],
      "metadata": {
        "id": "hehYj8pInKPa"
      },
      "id": "hehYj8pInKPa",
      "execution_count": 38,
      "outputs": []
    },
    {
      "cell_type": "code",
      "execution_count": 39,
      "id": "e0ba8dfa",
      "metadata": {
        "id": "e0ba8dfa",
        "outputId": "fb92bcb2-9689-44a3-ff8a-8cd250725e72",
        "colab": {
          "base_uri": "https://localhost:8080/"
        }
      },
      "outputs": [
        {
          "output_type": "stream",
          "name": "stdout",
          "text": [
            "0:\tlearn: 0.6908700\ttotal: 1.56s\tremaining: 25m 58s\n",
            "1:\tlearn: 0.6884742\ttotal: 3.49s\tremaining: 28m 59s\n",
            "2:\tlearn: 0.6861744\ttotal: 5.08s\tremaining: 28m 7s\n",
            "3:\tlearn: 0.6836822\ttotal: 6.7s\tremaining: 27m 49s\n",
            "4:\tlearn: 0.6814448\ttotal: 9.25s\tremaining: 30m 40s\n",
            "5:\tlearn: 0.6790155\ttotal: 11.7s\tremaining: 32m 22s\n",
            "6:\tlearn: 0.6763976\ttotal: 14.2s\tremaining: 33m 28s\n",
            "7:\tlearn: 0.6742704\ttotal: 16.1s\tremaining: 33m 21s\n",
            "8:\tlearn: 0.6720688\ttotal: 18.9s\tremaining: 34m 41s\n",
            "9:\tlearn: 0.6694955\ttotal: 21.2s\tremaining: 34m 55s\n",
            "10:\tlearn: 0.6673262\ttotal: 23.6s\tremaining: 35m 25s\n",
            "11:\tlearn: 0.6651513\ttotal: 26.9s\tremaining: 36m 53s\n",
            "12:\tlearn: 0.6629928\ttotal: 29.7s\tremaining: 37m 35s\n",
            "13:\tlearn: 0.6609243\ttotal: 32.4s\tremaining: 38m 4s\n",
            "14:\tlearn: 0.6588003\ttotal: 36s\tremaining: 39m 22s\n",
            "15:\tlearn: 0.6568251\ttotal: 38.1s\tremaining: 39m 4s\n",
            "16:\tlearn: 0.6545828\ttotal: 39.5s\tremaining: 38m 3s\n",
            "17:\tlearn: 0.6523975\ttotal: 41.1s\tremaining: 37m 21s\n",
            "18:\tlearn: 0.6500231\ttotal: 42.7s\tremaining: 36m 45s\n",
            "19:\tlearn: 0.6477493\ttotal: 44.2s\tremaining: 36m 6s\n",
            "20:\tlearn: 0.6457185\ttotal: 45.8s\tremaining: 35m 36s\n",
            "21:\tlearn: 0.6435881\ttotal: 47.1s\tremaining: 34m 54s\n",
            "22:\tlearn: 0.6416928\ttotal: 49.1s\tremaining: 34m 43s\n",
            "23:\tlearn: 0.6398001\ttotal: 50.5s\tremaining: 34m 11s\n",
            "24:\tlearn: 0.6377656\ttotal: 51.8s\tremaining: 33m 41s\n",
            "25:\tlearn: 0.6357314\ttotal: 53.2s\tremaining: 33m 11s\n",
            "26:\tlearn: 0.6339000\ttotal: 54.5s\tremaining: 32m 45s\n",
            "27:\tlearn: 0.6317416\ttotal: 56.1s\tremaining: 32m 26s\n",
            "28:\tlearn: 0.6299086\ttotal: 57.4s\tremaining: 32m 2s\n",
            "29:\tlearn: 0.6278985\ttotal: 58.5s\tremaining: 31m 33s\n",
            "30:\tlearn: 0.6261064\ttotal: 60s\tremaining: 31m 15s\n",
            "31:\tlearn: 0.6243814\ttotal: 1m 1s\tremaining: 30m 53s\n",
            "32:\tlearn: 0.6225359\ttotal: 1m 3s\tremaining: 30m 52s\n",
            "33:\tlearn: 0.6208070\ttotal: 1m 4s\tremaining: 30m 40s\n",
            "34:\tlearn: 0.6191246\ttotal: 1m 6s\tremaining: 30m 24s\n",
            "35:\tlearn: 0.6174486\ttotal: 1m 7s\tremaining: 30m 9s\n",
            "36:\tlearn: 0.6156196\ttotal: 1m 9s\tremaining: 29m 55s\n",
            "37:\tlearn: 0.6136302\ttotal: 1m 10s\tremaining: 29m 50s\n",
            "38:\tlearn: 0.6119409\ttotal: 1m 12s\tremaining: 29m 47s\n",
            "39:\tlearn: 0.6103089\ttotal: 1m 13s\tremaining: 29m 35s\n",
            "40:\tlearn: 0.6087439\ttotal: 1m 15s\tremaining: 29m 30s\n",
            "41:\tlearn: 0.6069676\ttotal: 1m 17s\tremaining: 29m 22s\n",
            "42:\tlearn: 0.6053188\ttotal: 1m 18s\tremaining: 29m 13s\n",
            "43:\tlearn: 0.6033104\ttotal: 1m 20s\tremaining: 29m 4s\n",
            "44:\tlearn: 0.6011747\ttotal: 1m 21s\tremaining: 28m 56s\n",
            "45:\tlearn: 0.5996283\ttotal: 1m 23s\tremaining: 28m 48s\n",
            "46:\tlearn: 0.5980432\ttotal: 1m 24s\tremaining: 28m 38s\n",
            "47:\tlearn: 0.5962322\ttotal: 1m 26s\tremaining: 28m 25s\n",
            "48:\tlearn: 0.5945619\ttotal: 1m 27s\tremaining: 28m 13s\n",
            "49:\tlearn: 0.5930055\ttotal: 1m 28s\tremaining: 28m 4s\n",
            "50:\tlearn: 0.5914708\ttotal: 1m 30s\tremaining: 28m 1s\n",
            "51:\tlearn: 0.5899098\ttotal: 1m 31s\tremaining: 27m 44s\n",
            "52:\tlearn: 0.5882908\ttotal: 1m 32s\tremaining: 27m 33s\n",
            "53:\tlearn: 0.5866876\ttotal: 1m 33s\tremaining: 27m 19s\n",
            "54:\tlearn: 0.5848780\ttotal: 1m 34s\tremaining: 27m 9s\n",
            "55:\tlearn: 0.5829754\ttotal: 1m 36s\tremaining: 27m 2s\n",
            "56:\tlearn: 0.5815213\ttotal: 1m 37s\tremaining: 26m 58s\n",
            "57:\tlearn: 0.5801811\ttotal: 1m 39s\tremaining: 26m 52s\n",
            "58:\tlearn: 0.5787118\ttotal: 1m 40s\tremaining: 26m 47s\n",
            "59:\tlearn: 0.5772807\ttotal: 1m 42s\tremaining: 26m 39s\n",
            "60:\tlearn: 0.5755883\ttotal: 1m 43s\tremaining: 26m 33s\n",
            "61:\tlearn: 0.5739233\ttotal: 1m 45s\tremaining: 26m 42s\n",
            "62:\tlearn: 0.5723195\ttotal: 1m 46s\tremaining: 26m 28s\n",
            "63:\tlearn: 0.5708124\ttotal: 1m 48s\tremaining: 26m 22s\n",
            "64:\tlearn: 0.5691973\ttotal: 1m 49s\tremaining: 26m 11s\n",
            "65:\tlearn: 0.5674435\ttotal: 1m 50s\tremaining: 26m 7s\n",
            "66:\tlearn: 0.5656824\ttotal: 1m 52s\tremaining: 26m 3s\n",
            "67:\tlearn: 0.5642165\ttotal: 1m 53s\tremaining: 25m 59s\n",
            "68:\tlearn: 0.5625653\ttotal: 1m 55s\tremaining: 25m 51s\n",
            "69:\tlearn: 0.5610873\ttotal: 1m 56s\tremaining: 25m 48s\n",
            "70:\tlearn: 0.5596961\ttotal: 1m 57s\tremaining: 25m 42s\n",
            "71:\tlearn: 0.5585025\ttotal: 1m 59s\tremaining: 25m 34s\n",
            "72:\tlearn: 0.5572909\ttotal: 2m\tremaining: 25m 27s\n",
            "73:\tlearn: 0.5560114\ttotal: 2m 1s\tremaining: 25m 23s\n",
            "74:\tlearn: 0.5545977\ttotal: 2m 3s\tremaining: 25m 24s\n",
            "75:\tlearn: 0.5531439\ttotal: 2m 5s\tremaining: 25m 26s\n",
            "76:\tlearn: 0.5518884\ttotal: 2m 7s\tremaining: 25m 24s\n",
            "77:\tlearn: 0.5504883\ttotal: 2m 8s\tremaining: 25m 24s\n",
            "78:\tlearn: 0.5492490\ttotal: 2m 10s\tremaining: 25m 18s\n",
            "79:\tlearn: 0.5478627\ttotal: 2m 11s\tremaining: 25m 15s\n",
            "80:\tlearn: 0.5465612\ttotal: 2m 13s\tremaining: 25m 12s\n",
            "81:\tlearn: 0.5453024\ttotal: 2m 14s\tremaining: 25m 7s\n",
            "82:\tlearn: 0.5440158\ttotal: 2m 15s\tremaining: 25m 1s\n",
            "83:\tlearn: 0.5427598\ttotal: 2m 17s\tremaining: 24m 58s\n",
            "84:\tlearn: 0.5415524\ttotal: 2m 18s\tremaining: 24m 54s\n",
            "85:\tlearn: 0.5400275\ttotal: 2m 19s\tremaining: 24m 46s\n",
            "86:\tlearn: 0.5388271\ttotal: 2m 21s\tremaining: 24m 42s\n",
            "87:\tlearn: 0.5376505\ttotal: 2m 22s\tremaining: 24m 36s\n",
            "88:\tlearn: 0.5364768\ttotal: 2m 25s\tremaining: 24m 44s\n",
            "89:\tlearn: 0.5354716\ttotal: 2m 26s\tremaining: 24m 45s\n",
            "90:\tlearn: 0.5341319\ttotal: 2m 28s\tremaining: 24m 40s\n",
            "91:\tlearn: 0.5327902\ttotal: 2m 29s\tremaining: 24m 38s\n",
            "92:\tlearn: 0.5316300\ttotal: 2m 31s\tremaining: 24m 36s\n",
            "93:\tlearn: 0.5303432\ttotal: 2m 32s\tremaining: 24m 34s\n",
            "94:\tlearn: 0.5292244\ttotal: 2m 34s\tremaining: 24m 29s\n",
            "95:\tlearn: 0.5279439\ttotal: 2m 35s\tremaining: 24m 25s\n",
            "96:\tlearn: 0.5267937\ttotal: 2m 37s\tremaining: 24m 21s\n",
            "97:\tlearn: 0.5256762\ttotal: 2m 38s\tremaining: 24m 18s\n",
            "98:\tlearn: 0.5245551\ttotal: 2m 40s\tremaining: 24m 18s\n",
            "99:\tlearn: 0.5232840\ttotal: 2m 41s\tremaining: 24m 16s\n",
            "100:\tlearn: 0.5221186\ttotal: 2m 43s\tremaining: 24m 17s\n",
            "101:\tlearn: 0.5210982\ttotal: 2m 45s\tremaining: 24m 19s\n",
            "102:\tlearn: 0.5198924\ttotal: 2m 47s\tremaining: 24m 21s\n",
            "103:\tlearn: 0.5184490\ttotal: 2m 49s\tremaining: 24m 20s\n",
            "104:\tlearn: 0.5175071\ttotal: 2m 51s\tremaining: 24m 18s\n",
            "105:\tlearn: 0.5164830\ttotal: 2m 52s\tremaining: 24m 15s\n",
            "106:\tlearn: 0.5153677\ttotal: 2m 54s\tremaining: 24m 13s\n",
            "107:\tlearn: 0.5142119\ttotal: 2m 55s\tremaining: 24m 9s\n",
            "108:\tlearn: 0.5134396\ttotal: 2m 56s\tremaining: 24m 5s\n",
            "109:\tlearn: 0.5124182\ttotal: 2m 58s\tremaining: 24m 3s\n",
            "110:\tlearn: 0.5112918\ttotal: 2m 59s\tremaining: 24m\n",
            "111:\tlearn: 0.5102867\ttotal: 3m 1s\tremaining: 24m 2s\n",
            "112:\tlearn: 0.5090347\ttotal: 3m 3s\tremaining: 23m 57s\n",
            "113:\tlearn: 0.5078878\ttotal: 3m 3s\tremaining: 23m 49s\n",
            "114:\tlearn: 0.5069161\ttotal: 3m 5s\tremaining: 23m 48s\n",
            "115:\tlearn: 0.5058732\ttotal: 3m 7s\tremaining: 23m 47s\n",
            "116:\tlearn: 0.5049163\ttotal: 3m 8s\tremaining: 23m 43s\n",
            "117:\tlearn: 0.5039769\ttotal: 3m 10s\tremaining: 23m 42s\n",
            "118:\tlearn: 0.5028378\ttotal: 3m 11s\tremaining: 23m 39s\n",
            "119:\tlearn: 0.5018439\ttotal: 3m 13s\tremaining: 23m 39s\n",
            "120:\tlearn: 0.5008440\ttotal: 3m 15s\tremaining: 23m 37s\n",
            "121:\tlearn: 0.4998599\ttotal: 3m 16s\tremaining: 23m 33s\n",
            "122:\tlearn: 0.4988178\ttotal: 3m 17s\tremaining: 23m 28s\n",
            "123:\tlearn: 0.4979608\ttotal: 3m 18s\tremaining: 23m 23s\n",
            "124:\tlearn: 0.4968968\ttotal: 3m 20s\tremaining: 23m 21s\n",
            "125:\tlearn: 0.4959255\ttotal: 3m 21s\tremaining: 23m 19s\n",
            "126:\tlearn: 0.4946361\ttotal: 3m 23s\tremaining: 23m 15s\n",
            "127:\tlearn: 0.4936710\ttotal: 3m 24s\tremaining: 23m 13s\n",
            "128:\tlearn: 0.4926560\ttotal: 3m 26s\tremaining: 23m 12s\n",
            "129:\tlearn: 0.4917099\ttotal: 3m 28s\tremaining: 23m 12s\n",
            "130:\tlearn: 0.4907051\ttotal: 3m 29s\tremaining: 23m 10s\n",
            "131:\tlearn: 0.4897954\ttotal: 3m 30s\tremaining: 23m 6s\n",
            "132:\tlearn: 0.4884213\ttotal: 3m 32s\tremaining: 23m 2s\n",
            "133:\tlearn: 0.4876056\ttotal: 3m 33s\tremaining: 22m 57s\n",
            "134:\tlearn: 0.4865872\ttotal: 3m 34s\tremaining: 22m 54s\n",
            "135:\tlearn: 0.4857487\ttotal: 3m 35s\tremaining: 22m 51s\n",
            "136:\tlearn: 0.4849224\ttotal: 3m 37s\tremaining: 22m 48s\n",
            "137:\tlearn: 0.4839879\ttotal: 3m 38s\tremaining: 22m 45s\n",
            "138:\tlearn: 0.4830825\ttotal: 3m 39s\tremaining: 22m 40s\n",
            "139:\tlearn: 0.4822150\ttotal: 3m 41s\tremaining: 22m 37s\n",
            "140:\tlearn: 0.4812107\ttotal: 3m 42s\tremaining: 22m 37s\n",
            "141:\tlearn: 0.4804369\ttotal: 3m 44s\tremaining: 22m 35s\n",
            "142:\tlearn: 0.4796096\ttotal: 3m 45s\tremaining: 22m 31s\n",
            "143:\tlearn: 0.4787597\ttotal: 3m 46s\tremaining: 22m 28s\n",
            "144:\tlearn: 0.4778108\ttotal: 3m 48s\tremaining: 22m 25s\n",
            "145:\tlearn: 0.4769677\ttotal: 3m 49s\tremaining: 22m 21s\n",
            "146:\tlearn: 0.4760431\ttotal: 3m 50s\tremaining: 22m 17s\n",
            "147:\tlearn: 0.4755010\ttotal: 3m 50s\tremaining: 22m 8s\n",
            "148:\tlearn: 0.4746222\ttotal: 3m 52s\tremaining: 22m 7s\n",
            "149:\tlearn: 0.4737517\ttotal: 3m 53s\tremaining: 22m 2s\n",
            "150:\tlearn: 0.4728080\ttotal: 3m 54s\tremaining: 21m 58s\n",
            "151:\tlearn: 0.4718474\ttotal: 3m 56s\tremaining: 21m 57s\n",
            "152:\tlearn: 0.4710720\ttotal: 3m 58s\tremaining: 21m 58s\n",
            "153:\tlearn: 0.4703247\ttotal: 3m 59s\tremaining: 21m 57s\n",
            "154:\tlearn: 0.4692968\ttotal: 4m 1s\tremaining: 21m 55s\n",
            "155:\tlearn: 0.4684564\ttotal: 4m 3s\tremaining: 21m 55s\n",
            "156:\tlearn: 0.4674209\ttotal: 4m 4s\tremaining: 21m 53s\n",
            "157:\tlearn: 0.4665730\ttotal: 4m 5s\tremaining: 21m 50s\n",
            "158:\tlearn: 0.4657094\ttotal: 4m 7s\tremaining: 21m 48s\n",
            "159:\tlearn: 0.4649210\ttotal: 4m 8s\tremaining: 21m 46s\n",
            "160:\tlearn: 0.4640923\ttotal: 4m 9s\tremaining: 21m 42s\n",
            "161:\tlearn: 0.4632365\ttotal: 4m 11s\tremaining: 21m 40s\n",
            "162:\tlearn: 0.4622458\ttotal: 4m 12s\tremaining: 21m 36s\n",
            "163:\tlearn: 0.4611575\ttotal: 4m 13s\tremaining: 21m 32s\n",
            "164:\tlearn: 0.4603519\ttotal: 4m 14s\tremaining: 21m 28s\n",
            "165:\tlearn: 0.4594616\ttotal: 4m 16s\tremaining: 21m 27s\n",
            "166:\tlearn: 0.4586383\ttotal: 4m 17s\tremaining: 21m 25s\n",
            "167:\tlearn: 0.4578168\ttotal: 4m 19s\tremaining: 21m 22s\n",
            "168:\tlearn: 0.4570690\ttotal: 4m 19s\tremaining: 21m 18s\n",
            "169:\tlearn: 0.4561475\ttotal: 4m 21s\tremaining: 21m 16s\n",
            "170:\tlearn: 0.4552978\ttotal: 4m 23s\tremaining: 21m 15s\n",
            "171:\tlearn: 0.4542129\ttotal: 4m 24s\tremaining: 21m 13s\n",
            "172:\tlearn: 0.4534349\ttotal: 4m 25s\tremaining: 21m 10s\n",
            "173:\tlearn: 0.4527567\ttotal: 4m 27s\tremaining: 21m 8s\n",
            "174:\tlearn: 0.4517646\ttotal: 4m 28s\tremaining: 21m 5s\n",
            "175:\tlearn: 0.4509594\ttotal: 4m 30s\tremaining: 21m 4s\n",
            "176:\tlearn: 0.4502535\ttotal: 4m 30s\tremaining: 20m 59s\n",
            "177:\tlearn: 0.4496682\ttotal: 4m 32s\tremaining: 20m 58s\n",
            "178:\tlearn: 0.4488160\ttotal: 4m 34s\tremaining: 21m\n",
            "179:\tlearn: 0.4480827\ttotal: 4m 36s\tremaining: 20m 58s\n",
            "180:\tlearn: 0.4474489\ttotal: 4m 37s\tremaining: 20m 56s\n",
            "181:\tlearn: 0.4467606\ttotal: 4m 39s\tremaining: 20m 54s\n",
            "182:\tlearn: 0.4461095\ttotal: 4m 40s\tremaining: 20m 53s\n",
            "183:\tlearn: 0.4456042\ttotal: 4m 42s\tremaining: 20m 51s\n",
            "184:\tlearn: 0.4450613\ttotal: 4m 43s\tremaining: 20m 49s\n",
            "185:\tlearn: 0.4441122\ttotal: 4m 45s\tremaining: 20m 47s\n",
            "186:\tlearn: 0.4433861\ttotal: 4m 47s\tremaining: 20m 47s\n",
            "187:\tlearn: 0.4422683\ttotal: 4m 49s\tremaining: 20m 48s\n",
            "188:\tlearn: 0.4415395\ttotal: 4m 50s\tremaining: 20m 46s\n",
            "189:\tlearn: 0.4407680\ttotal: 4m 51s\tremaining: 20m 43s\n",
            "190:\tlearn: 0.4400736\ttotal: 4m 53s\tremaining: 20m 42s\n",
            "191:\tlearn: 0.4389354\ttotal: 4m 54s\tremaining: 20m 40s\n",
            "192:\tlearn: 0.4380431\ttotal: 4m 56s\tremaining: 20m 37s\n",
            "193:\tlearn: 0.4374722\ttotal: 4m 57s\tremaining: 20m 37s\n",
            "194:\tlearn: 0.4366577\ttotal: 4m 59s\tremaining: 20m 35s\n",
            "195:\tlearn: 0.4358670\ttotal: 5m\tremaining: 20m 34s\n",
            "196:\tlearn: 0.4351698\ttotal: 5m 2s\tremaining: 20m 33s\n",
            "197:\tlearn: 0.4344178\ttotal: 5m 3s\tremaining: 20m 30s\n",
            "198:\tlearn: 0.4339968\ttotal: 5m 5s\tremaining: 20m 30s\n",
            "199:\tlearn: 0.4333594\ttotal: 5m 7s\tremaining: 20m 28s\n",
            "200:\tlearn: 0.4326761\ttotal: 5m 8s\tremaining: 20m 27s\n",
            "201:\tlearn: 0.4321067\ttotal: 5m 10s\tremaining: 20m 26s\n",
            "202:\tlearn: 0.4316551\ttotal: 5m 12s\tremaining: 20m 25s\n",
            "203:\tlearn: 0.4307527\ttotal: 5m 13s\tremaining: 20m 24s\n",
            "204:\tlearn: 0.4299571\ttotal: 5m 15s\tremaining: 20m 25s\n",
            "205:\tlearn: 0.4292006\ttotal: 5m 18s\tremaining: 20m 25s\n",
            "206:\tlearn: 0.4285321\ttotal: 5m 19s\tremaining: 20m 24s\n",
            "207:\tlearn: 0.4279636\ttotal: 5m 20s\tremaining: 20m 21s\n",
            "208:\tlearn: 0.4274594\ttotal: 5m 22s\tremaining: 20m 19s\n",
            "209:\tlearn: 0.4266979\ttotal: 5m 23s\tremaining: 20m 16s\n",
            "210:\tlearn: 0.4259140\ttotal: 5m 24s\tremaining: 20m 15s\n",
            "211:\tlearn: 0.4253227\ttotal: 5m 26s\tremaining: 20m 12s\n",
            "212:\tlearn: 0.4246095\ttotal: 5m 27s\tremaining: 20m 9s\n",
            "213:\tlearn: 0.4240735\ttotal: 5m 28s\tremaining: 20m 7s\n",
            "214:\tlearn: 0.4233533\ttotal: 5m 30s\tremaining: 20m 5s\n",
            "215:\tlearn: 0.4228760\ttotal: 5m 31s\tremaining: 20m 3s\n",
            "216:\tlearn: 0.4219937\ttotal: 5m 33s\tremaining: 20m 1s\n",
            "217:\tlearn: 0.4211166\ttotal: 5m 34s\tremaining: 20m 1s\n",
            "218:\tlearn: 0.4203469\ttotal: 5m 36s\tremaining: 19m 59s\n",
            "219:\tlearn: 0.4197392\ttotal: 5m 37s\tremaining: 19m 57s\n",
            "220:\tlearn: 0.4190508\ttotal: 5m 39s\tremaining: 19m 57s\n",
            "221:\tlearn: 0.4185077\ttotal: 5m 41s\tremaining: 19m 56s\n",
            "222:\tlearn: 0.4179517\ttotal: 5m 42s\tremaining: 19m 54s\n",
            "223:\tlearn: 0.4170419\ttotal: 5m 44s\tremaining: 19m 52s\n",
            "224:\tlearn: 0.4165508\ttotal: 5m 45s\tremaining: 19m 50s\n",
            "225:\tlearn: 0.4160956\ttotal: 5m 47s\tremaining: 19m 48s\n",
            "226:\tlearn: 0.4153506\ttotal: 5m 48s\tremaining: 19m 47s\n",
            "227:\tlearn: 0.4146538\ttotal: 5m 50s\tremaining: 19m 46s\n",
            "228:\tlearn: 0.4141304\ttotal: 5m 51s\tremaining: 19m 43s\n",
            "229:\tlearn: 0.4136908\ttotal: 5m 53s\tremaining: 19m 42s\n",
            "230:\tlearn: 0.4130781\ttotal: 5m 54s\tremaining: 19m 41s\n",
            "231:\tlearn: 0.4124711\ttotal: 5m 56s\tremaining: 19m 39s\n",
            "232:\tlearn: 0.4117983\ttotal: 5m 57s\tremaining: 19m 36s\n",
            "233:\tlearn: 0.4110577\ttotal: 5m 58s\tremaining: 19m 33s\n",
            "234:\tlearn: 0.4103403\ttotal: 6m\tremaining: 19m 32s\n",
            "235:\tlearn: 0.4097528\ttotal: 6m 1s\tremaining: 19m 30s\n",
            "236:\tlearn: 0.4091084\ttotal: 6m 3s\tremaining: 19m 29s\n",
            "237:\tlearn: 0.4082581\ttotal: 6m 4s\tremaining: 19m 26s\n",
            "238:\tlearn: 0.4075923\ttotal: 6m 6s\tremaining: 19m 25s\n",
            "239:\tlearn: 0.4070581\ttotal: 6m 7s\tremaining: 19m 22s\n",
            "240:\tlearn: 0.4064048\ttotal: 6m 8s\tremaining: 19m 20s\n",
            "241:\tlearn: 0.4058718\ttotal: 6m 10s\tremaining: 19m 19s\n",
            "242:\tlearn: 0.4054121\ttotal: 6m 11s\tremaining: 19m 18s\n",
            "243:\tlearn: 0.4048707\ttotal: 6m 13s\tremaining: 19m 16s\n",
            "244:\tlearn: 0.4042250\ttotal: 6m 14s\tremaining: 19m 14s\n",
            "245:\tlearn: 0.4035976\ttotal: 6m 15s\tremaining: 19m 11s\n",
            "246:\tlearn: 0.4030536\ttotal: 6m 17s\tremaining: 19m 11s\n",
            "247:\tlearn: 0.4025881\ttotal: 6m 19s\tremaining: 19m 10s\n",
            "248:\tlearn: 0.4020161\ttotal: 6m 21s\tremaining: 19m 9s\n",
            "249:\tlearn: 0.4012957\ttotal: 6m 22s\tremaining: 19m 6s\n",
            "250:\tlearn: 0.4006196\ttotal: 6m 23s\tremaining: 19m 5s\n",
            "251:\tlearn: 0.4001211\ttotal: 6m 25s\tremaining: 19m 3s\n",
            "252:\tlearn: 0.3993958\ttotal: 6m 26s\tremaining: 19m 2s\n",
            "253:\tlearn: 0.3988717\ttotal: 6m 28s\tremaining: 19m 2s\n",
            "254:\tlearn: 0.3983053\ttotal: 6m 30s\tremaining: 19m\n",
            "255:\tlearn: 0.3979069\ttotal: 6m 31s\tremaining: 18m 58s\n",
            "256:\tlearn: 0.3972653\ttotal: 6m 33s\tremaining: 18m 58s\n",
            "257:\tlearn: 0.3967796\ttotal: 6m 35s\tremaining: 18m 56s\n",
            "258:\tlearn: 0.3961936\ttotal: 6m 36s\tremaining: 18m 55s\n",
            "259:\tlearn: 0.3955491\ttotal: 6m 38s\tremaining: 18m 54s\n",
            "260:\tlearn: 0.3950520\ttotal: 6m 40s\tremaining: 18m 54s\n",
            "261:\tlearn: 0.3945826\ttotal: 6m 42s\tremaining: 18m 52s\n",
            "262:\tlearn: 0.3942274\ttotal: 6m 43s\tremaining: 18m 50s\n",
            "263:\tlearn: 0.3935638\ttotal: 6m 44s\tremaining: 18m 48s\n",
            "264:\tlearn: 0.3930034\ttotal: 6m 46s\tremaining: 18m 46s\n",
            "265:\tlearn: 0.3924613\ttotal: 6m 48s\tremaining: 18m 45s\n",
            "266:\tlearn: 0.3920718\ttotal: 6m 49s\tremaining: 18m 43s\n",
            "267:\tlearn: 0.3913586\ttotal: 6m 50s\tremaining: 18m 42s\n",
            "268:\tlearn: 0.3909048\ttotal: 6m 52s\tremaining: 18m 41s\n",
            "269:\tlearn: 0.3901019\ttotal: 6m 54s\tremaining: 18m 39s\n",
            "270:\tlearn: 0.3895951\ttotal: 6m 55s\tremaining: 18m 37s\n",
            "271:\tlearn: 0.3891276\ttotal: 6m 57s\tremaining: 18m 36s\n",
            "272:\tlearn: 0.3882685\ttotal: 6m 59s\tremaining: 18m 35s\n",
            "273:\tlearn: 0.3873796\ttotal: 7m\tremaining: 18m 33s\n",
            "274:\tlearn: 0.3868208\ttotal: 7m 1s\tremaining: 18m 32s\n",
            "275:\tlearn: 0.3863104\ttotal: 7m 3s\tremaining: 18m 30s\n",
            "276:\tlearn: 0.3858009\ttotal: 7m 4s\tremaining: 18m 28s\n",
            "277:\tlearn: 0.3854011\ttotal: 7m 5s\tremaining: 18m 25s\n",
            "278:\tlearn: 0.3843582\ttotal: 7m 7s\tremaining: 18m 23s\n",
            "279:\tlearn: 0.3839218\ttotal: 7m 8s\tremaining: 18m 22s\n",
            "280:\tlearn: 0.3833975\ttotal: 7m 10s\tremaining: 18m 21s\n",
            "281:\tlearn: 0.3827968\ttotal: 7m 11s\tremaining: 18m 18s\n",
            "282:\tlearn: 0.3823238\ttotal: 7m 13s\tremaining: 18m 17s\n",
            "283:\tlearn: 0.3818471\ttotal: 7m 14s\tremaining: 18m 16s\n",
            "284:\tlearn: 0.3814579\ttotal: 7m 16s\tremaining: 18m 16s\n",
            "285:\tlearn: 0.3811340\ttotal: 7m 18s\tremaining: 18m 13s\n",
            "286:\tlearn: 0.3805570\ttotal: 7m 19s\tremaining: 18m 12s\n",
            "287:\tlearn: 0.3800169\ttotal: 7m 21s\tremaining: 18m 10s\n",
            "288:\tlearn: 0.3796182\ttotal: 7m 22s\tremaining: 18m 8s\n",
            "289:\tlearn: 0.3790613\ttotal: 7m 24s\tremaining: 18m 7s\n",
            "290:\tlearn: 0.3785727\ttotal: 7m 25s\tremaining: 18m 5s\n",
            "291:\tlearn: 0.3780919\ttotal: 7m 27s\tremaining: 18m 4s\n",
            "292:\tlearn: 0.3775424\ttotal: 7m 28s\tremaining: 18m 2s\n",
            "293:\tlearn: 0.3769552\ttotal: 7m 29s\tremaining: 18m\n",
            "294:\tlearn: 0.3765467\ttotal: 7m 31s\tremaining: 17m 58s\n",
            "295:\tlearn: 0.3760450\ttotal: 7m 32s\tremaining: 17m 57s\n",
            "296:\tlearn: 0.3754851\ttotal: 7m 34s\tremaining: 17m 55s\n",
            "297:\tlearn: 0.3750627\ttotal: 7m 35s\tremaining: 17m 52s\n",
            "298:\tlearn: 0.3745593\ttotal: 7m 36s\tremaining: 17m 50s\n",
            "299:\tlearn: 0.3741569\ttotal: 7m 38s\tremaining: 17m 49s\n",
            "300:\tlearn: 0.3736941\ttotal: 7m 39s\tremaining: 17m 48s\n",
            "301:\tlearn: 0.3730239\ttotal: 7m 41s\tremaining: 17m 46s\n",
            "302:\tlearn: 0.3726251\ttotal: 7m 42s\tremaining: 17m 44s\n",
            "303:\tlearn: 0.3719704\ttotal: 7m 44s\tremaining: 17m 42s\n",
            "304:\tlearn: 0.3715502\ttotal: 7m 45s\tremaining: 17m 39s\n",
            "305:\tlearn: 0.3711534\ttotal: 7m 46s\tremaining: 17m 37s\n",
            "306:\tlearn: 0.3707604\ttotal: 7m 48s\tremaining: 17m 36s\n",
            "307:\tlearn: 0.3703299\ttotal: 7m 49s\tremaining: 17m 34s\n",
            "308:\tlearn: 0.3700538\ttotal: 7m 50s\tremaining: 17m 32s\n",
            "309:\tlearn: 0.3695608\ttotal: 7m 52s\tremaining: 17m 32s\n",
            "310:\tlearn: 0.3688381\ttotal: 7m 54s\tremaining: 17m 30s\n",
            "311:\tlearn: 0.3684425\ttotal: 7m 55s\tremaining: 17m 29s\n",
            "312:\tlearn: 0.3680390\ttotal: 7m 56s\tremaining: 17m 26s\n",
            "313:\tlearn: 0.3673360\ttotal: 7m 58s\tremaining: 17m 25s\n",
            "314:\tlearn: 0.3669013\ttotal: 8m\tremaining: 17m 24s\n",
            "315:\tlearn: 0.3664976\ttotal: 8m 2s\tremaining: 17m 23s\n",
            "316:\tlearn: 0.3660885\ttotal: 8m 3s\tremaining: 17m 21s\n",
            "317:\tlearn: 0.3657511\ttotal: 8m 5s\tremaining: 17m 21s\n",
            "318:\tlearn: 0.3654370\ttotal: 8m 7s\tremaining: 17m 20s\n",
            "319:\tlearn: 0.3649885\ttotal: 8m 8s\tremaining: 17m 17s\n",
            "320:\tlearn: 0.3645071\ttotal: 8m 9s\tremaining: 17m 16s\n",
            "321:\tlearn: 0.3640974\ttotal: 8m 10s\tremaining: 17m 13s\n",
            "322:\tlearn: 0.3637829\ttotal: 8m 12s\tremaining: 17m 11s\n",
            "323:\tlearn: 0.3631000\ttotal: 8m 13s\tremaining: 17m 10s\n",
            "324:\tlearn: 0.3627754\ttotal: 8m 15s\tremaining: 17m 8s\n",
            "325:\tlearn: 0.3622691\ttotal: 8m 16s\tremaining: 17m 7s\n",
            "326:\tlearn: 0.3617623\ttotal: 8m 17s\tremaining: 17m 4s\n",
            "327:\tlearn: 0.3613101\ttotal: 8m 19s\tremaining: 17m 2s\n",
            "328:\tlearn: 0.3609581\ttotal: 8m 20s\tremaining: 17m 1s\n",
            "329:\tlearn: 0.3605086\ttotal: 8m 22s\tremaining: 16m 59s\n",
            "330:\tlearn: 0.3601132\ttotal: 8m 23s\tremaining: 16m 57s\n",
            "331:\tlearn: 0.3594921\ttotal: 8m 25s\tremaining: 16m 56s\n",
            "332:\tlearn: 0.3591183\ttotal: 8m 26s\tremaining: 16m 55s\n",
            "333:\tlearn: 0.3586928\ttotal: 8m 28s\tremaining: 16m 53s\n",
            "334:\tlearn: 0.3583424\ttotal: 8m 29s\tremaining: 16m 52s\n",
            "335:\tlearn: 0.3579248\ttotal: 8m 31s\tremaining: 16m 49s\n",
            "336:\tlearn: 0.3574276\ttotal: 8m 32s\tremaining: 16m 47s\n",
            "337:\tlearn: 0.3571352\ttotal: 8m 33s\tremaining: 16m 45s\n",
            "338:\tlearn: 0.3566704\ttotal: 8m 34s\tremaining: 16m 43s\n",
            "339:\tlearn: 0.3564303\ttotal: 8m 36s\tremaining: 16m 42s\n",
            "340:\tlearn: 0.3559499\ttotal: 8m 37s\tremaining: 16m 40s\n",
            "341:\tlearn: 0.3555398\ttotal: 8m 39s\tremaining: 16m 38s\n",
            "342:\tlearn: 0.3551462\ttotal: 8m 40s\tremaining: 16m 36s\n",
            "343:\tlearn: 0.3547443\ttotal: 8m 42s\tremaining: 16m 35s\n",
            "344:\tlearn: 0.3542590\ttotal: 8m 43s\tremaining: 16m 33s\n",
            "345:\tlearn: 0.3538861\ttotal: 8m 44s\tremaining: 16m 31s\n",
            "346:\tlearn: 0.3534980\ttotal: 8m 46s\tremaining: 16m 30s\n",
            "347:\tlearn: 0.3531427\ttotal: 8m 47s\tremaining: 16m 27s\n",
            "348:\tlearn: 0.3526862\ttotal: 8m 48s\tremaining: 16m 25s\n",
            "349:\tlearn: 0.3524341\ttotal: 8m 50s\tremaining: 16m 24s\n",
            "350:\tlearn: 0.3519615\ttotal: 8m 51s\tremaining: 16m 22s\n",
            "351:\tlearn: 0.3516976\ttotal: 8m 53s\tremaining: 16m 21s\n",
            "352:\tlearn: 0.3511410\ttotal: 8m 54s\tremaining: 16m 20s\n",
            "353:\tlearn: 0.3508402\ttotal: 8m 56s\tremaining: 16m 18s\n",
            "354:\tlearn: 0.3504498\ttotal: 8m 57s\tremaining: 16m 17s\n",
            "355:\tlearn: 0.3500685\ttotal: 8m 59s\tremaining: 16m 15s\n",
            "356:\tlearn: 0.3497241\ttotal: 9m 1s\tremaining: 16m 14s\n",
            "357:\tlearn: 0.3492741\ttotal: 9m 3s\tremaining: 16m 13s\n",
            "358:\tlearn: 0.3488800\ttotal: 9m 4s\tremaining: 16m 11s\n",
            "359:\tlearn: 0.3485786\ttotal: 9m 5s\tremaining: 16m 9s\n",
            "360:\tlearn: 0.3479836\ttotal: 9m 6s\tremaining: 16m 7s\n",
            "361:\tlearn: 0.3474181\ttotal: 9m 8s\tremaining: 16m 7s\n",
            "362:\tlearn: 0.3469625\ttotal: 9m 9s\tremaining: 16m 4s\n",
            "363:\tlearn: 0.3465234\ttotal: 9m 11s\tremaining: 16m 3s\n",
            "364:\tlearn: 0.3461724\ttotal: 9m 12s\tremaining: 16m 1s\n",
            "365:\tlearn: 0.3457023\ttotal: 9m 14s\tremaining: 16m\n",
            "366:\tlearn: 0.3454577\ttotal: 9m 16s\tremaining: 15m 59s\n",
            "367:\tlearn: 0.3448984\ttotal: 9m 17s\tremaining: 15m 57s\n",
            "368:\tlearn: 0.3446664\ttotal: 9m 19s\tremaining: 15m 56s\n",
            "369:\tlearn: 0.3444268\ttotal: 9m 21s\tremaining: 15m 55s\n",
            "370:\tlearn: 0.3441200\ttotal: 9m 22s\tremaining: 15m 54s\n",
            "371:\tlearn: 0.3436649\ttotal: 9m 24s\tremaining: 15m 52s\n",
            "372:\tlearn: 0.3434276\ttotal: 9m 25s\tremaining: 15m 50s\n",
            "373:\tlearn: 0.3430345\ttotal: 9m 27s\tremaining: 15m 49s\n",
            "374:\tlearn: 0.3427626\ttotal: 9m 28s\tremaining: 15m 47s\n",
            "375:\tlearn: 0.3424166\ttotal: 9m 30s\tremaining: 15m 46s\n",
            "376:\tlearn: 0.3420710\ttotal: 9m 31s\tremaining: 15m 44s\n",
            "377:\tlearn: 0.3417189\ttotal: 9m 33s\tremaining: 15m 43s\n",
            "378:\tlearn: 0.3413445\ttotal: 9m 35s\tremaining: 15m 42s\n",
            "379:\tlearn: 0.3410673\ttotal: 9m 37s\tremaining: 15m 41s\n",
            "380:\tlearn: 0.3407261\ttotal: 9m 38s\tremaining: 15m 39s\n",
            "381:\tlearn: 0.3403547\ttotal: 9m 39s\tremaining: 15m 37s\n",
            "382:\tlearn: 0.3399856\ttotal: 9m 40s\tremaining: 15m 35s\n",
            "383:\tlearn: 0.3397739\ttotal: 9m 42s\tremaining: 15m 34s\n",
            "384:\tlearn: 0.3394972\ttotal: 9m 44s\tremaining: 15m 33s\n",
            "385:\tlearn: 0.3392363\ttotal: 9m 45s\tremaining: 15m 31s\n",
            "386:\tlearn: 0.3389725\ttotal: 9m 46s\tremaining: 15m 29s\n",
            "387:\tlearn: 0.3385217\ttotal: 9m 48s\tremaining: 15m 27s\n",
            "388:\tlearn: 0.3381466\ttotal: 9m 49s\tremaining: 15m 26s\n",
            "389:\tlearn: 0.3379732\ttotal: 9m 51s\tremaining: 15m 25s\n",
            "390:\tlearn: 0.3378101\ttotal: 9m 53s\tremaining: 15m 23s\n",
            "391:\tlearn: 0.3373168\ttotal: 9m 54s\tremaining: 15m 22s\n",
            "392:\tlearn: 0.3369719\ttotal: 9m 56s\tremaining: 15m 21s\n",
            "393:\tlearn: 0.3366796\ttotal: 9m 58s\tremaining: 15m 20s\n",
            "394:\tlearn: 0.3364177\ttotal: 9m 59s\tremaining: 15m 18s\n",
            "395:\tlearn: 0.3361434\ttotal: 10m\tremaining: 15m 16s\n",
            "396:\tlearn: 0.3358007\ttotal: 10m 2s\tremaining: 15m 14s\n",
            "397:\tlearn: 0.3356578\ttotal: 10m 2s\tremaining: 15m 11s\n",
            "398:\tlearn: 0.3351522\ttotal: 10m 3s\tremaining: 15m 9s\n",
            "399:\tlearn: 0.3349650\ttotal: 10m 5s\tremaining: 15m 7s\n",
            "400:\tlearn: 0.3345348\ttotal: 10m 6s\tremaining: 15m 6s\n",
            "401:\tlearn: 0.3341921\ttotal: 10m 8s\tremaining: 15m 5s\n",
            "402:\tlearn: 0.3338363\ttotal: 10m 9s\tremaining: 15m 3s\n",
            "403:\tlearn: 0.3334795\ttotal: 10m 11s\tremaining: 15m 1s\n",
            "404:\tlearn: 0.3331938\ttotal: 10m 12s\tremaining: 14m 59s\n",
            "405:\tlearn: 0.3328263\ttotal: 10m 13s\tremaining: 14m 57s\n",
            "406:\tlearn: 0.3325091\ttotal: 10m 14s\tremaining: 14m 56s\n",
            "407:\tlearn: 0.3320114\ttotal: 10m 16s\tremaining: 14m 54s\n",
            "408:\tlearn: 0.3317931\ttotal: 10m 18s\tremaining: 14m 53s\n",
            "409:\tlearn: 0.3314120\ttotal: 10m 20s\tremaining: 14m 52s\n",
            "410:\tlearn: 0.3310338\ttotal: 10m 21s\tremaining: 14m 50s\n",
            "411:\tlearn: 0.3306781\ttotal: 10m 22s\tremaining: 14m 49s\n",
            "412:\tlearn: 0.3303227\ttotal: 10m 24s\tremaining: 14m 47s\n",
            "413:\tlearn: 0.3300161\ttotal: 10m 25s\tremaining: 14m 45s\n",
            "414:\tlearn: 0.3297892\ttotal: 10m 26s\tremaining: 14m 43s\n",
            "415:\tlearn: 0.3294916\ttotal: 10m 28s\tremaining: 14m 42s\n",
            "416:\tlearn: 0.3292638\ttotal: 10m 29s\tremaining: 14m 40s\n",
            "417:\tlearn: 0.3290578\ttotal: 10m 31s\tremaining: 14m 38s\n",
            "418:\tlearn: 0.3289295\ttotal: 10m 32s\tremaining: 14m 37s\n",
            "419:\tlearn: 0.3287104\ttotal: 10m 33s\tremaining: 14m 34s\n",
            "420:\tlearn: 0.3283044\ttotal: 10m 34s\tremaining: 14m 33s\n",
            "421:\tlearn: 0.3280440\ttotal: 10m 36s\tremaining: 14m 32s\n",
            "422:\tlearn: 0.3277912\ttotal: 10m 38s\tremaining: 14m 30s\n",
            "423:\tlearn: 0.3274915\ttotal: 10m 39s\tremaining: 14m 28s\n",
            "424:\tlearn: 0.3271119\ttotal: 10m 40s\tremaining: 14m 26s\n",
            "425:\tlearn: 0.3267581\ttotal: 10m 42s\tremaining: 14m 25s\n",
            "426:\tlearn: 0.3262527\ttotal: 10m 44s\tremaining: 14m 24s\n",
            "427:\tlearn: 0.3258786\ttotal: 10m 45s\tremaining: 14m 22s\n",
            "428:\tlearn: 0.3255844\ttotal: 10m 47s\tremaining: 14m 21s\n",
            "429:\tlearn: 0.3254656\ttotal: 10m 48s\tremaining: 14m 19s\n",
            "430:\tlearn: 0.3251683\ttotal: 10m 50s\tremaining: 14m 18s\n",
            "431:\tlearn: 0.3248795\ttotal: 10m 51s\tremaining: 14m 16s\n",
            "432:\tlearn: 0.3245344\ttotal: 10m 52s\tremaining: 14m 14s\n",
            "433:\tlearn: 0.3241924\ttotal: 10m 54s\tremaining: 14m 13s\n",
            "434:\tlearn: 0.3239364\ttotal: 10m 55s\tremaining: 14m 11s\n",
            "435:\tlearn: 0.3236844\ttotal: 10m 57s\tremaining: 14m 10s\n",
            "436:\tlearn: 0.3234634\ttotal: 10m 59s\tremaining: 14m 9s\n",
            "437:\tlearn: 0.3231035\ttotal: 11m\tremaining: 14m 7s\n",
            "438:\tlearn: 0.3228302\ttotal: 11m 2s\tremaining: 14m 6s\n",
            "439:\tlearn: 0.3225811\ttotal: 11m 3s\tremaining: 14m 4s\n",
            "440:\tlearn: 0.3223779\ttotal: 11m 5s\tremaining: 14m 3s\n",
            "441:\tlearn: 0.3222392\ttotal: 11m 6s\tremaining: 14m 1s\n",
            "442:\tlearn: 0.3219266\ttotal: 11m 8s\tremaining: 14m 1s\n",
            "443:\tlearn: 0.3215902\ttotal: 11m 10s\tremaining: 13m 59s\n",
            "444:\tlearn: 0.3213292\ttotal: 11m 11s\tremaining: 13m 58s\n",
            "445:\tlearn: 0.3210215\ttotal: 11m 13s\tremaining: 13m 56s\n",
            "446:\tlearn: 0.3207155\ttotal: 11m 15s\tremaining: 13m 56s\n",
            "447:\tlearn: 0.3205898\ttotal: 11m 17s\tremaining: 13m 54s\n",
            "448:\tlearn: 0.3203481\ttotal: 11m 19s\tremaining: 13m 53s\n",
            "449:\tlearn: 0.3201588\ttotal: 11m 20s\tremaining: 13m 51s\n",
            "450:\tlearn: 0.3198705\ttotal: 11m 21s\tremaining: 13m 50s\n",
            "451:\tlearn: 0.3196286\ttotal: 11m 23s\tremaining: 13m 48s\n",
            "452:\tlearn: 0.3194543\ttotal: 11m 25s\tremaining: 13m 47s\n",
            "453:\tlearn: 0.3192566\ttotal: 11m 26s\tremaining: 13m 45s\n",
            "454:\tlearn: 0.3188560\ttotal: 11m 27s\tremaining: 13m 43s\n",
            "455:\tlearn: 0.3186185\ttotal: 11m 29s\tremaining: 13m 42s\n",
            "456:\tlearn: 0.3183119\ttotal: 11m 30s\tremaining: 13m 40s\n",
            "457:\tlearn: 0.3180662\ttotal: 11m 32s\tremaining: 13m 39s\n",
            "458:\tlearn: 0.3177445\ttotal: 11m 33s\tremaining: 13m 37s\n",
            "459:\tlearn: 0.3175358\ttotal: 11m 35s\tremaining: 13m 36s\n",
            "460:\tlearn: 0.3173356\ttotal: 11m 36s\tremaining: 13m 34s\n",
            "461:\tlearn: 0.3170898\ttotal: 11m 37s\tremaining: 13m 32s\n",
            "462:\tlearn: 0.3166910\ttotal: 11m 39s\tremaining: 13m 31s\n",
            "463:\tlearn: 0.3165675\ttotal: 11m 41s\tremaining: 13m 30s\n",
            "464:\tlearn: 0.3163867\ttotal: 11m 42s\tremaining: 13m 28s\n",
            "465:\tlearn: 0.3162634\ttotal: 11m 44s\tremaining: 13m 26s\n",
            "466:\tlearn: 0.3159645\ttotal: 11m 45s\tremaining: 13m 25s\n",
            "467:\tlearn: 0.3155065\ttotal: 11m 47s\tremaining: 13m 24s\n",
            "468:\tlearn: 0.3152253\ttotal: 11m 49s\tremaining: 13m 22s\n",
            "469:\tlearn: 0.3149865\ttotal: 11m 50s\tremaining: 13m 21s\n",
            "470:\tlearn: 0.3147664\ttotal: 11m 51s\tremaining: 13m 19s\n",
            "471:\tlearn: 0.3143693\ttotal: 11m 53s\tremaining: 13m 17s\n",
            "472:\tlearn: 0.3141538\ttotal: 11m 55s\tremaining: 13m 16s\n",
            "473:\tlearn: 0.3138601\ttotal: 11m 56s\tremaining: 13m 14s\n",
            "474:\tlearn: 0.3137017\ttotal: 11m 57s\tremaining: 13m 12s\n",
            "475:\tlearn: 0.3133038\ttotal: 11m 59s\tremaining: 13m 11s\n",
            "476:\tlearn: 0.3131446\ttotal: 12m\tremaining: 13m 10s\n",
            "477:\tlearn: 0.3128538\ttotal: 12m 2s\tremaining: 13m 8s\n",
            "478:\tlearn: 0.3126199\ttotal: 12m 3s\tremaining: 13m 7s\n",
            "479:\tlearn: 0.3124602\ttotal: 12m 4s\tremaining: 13m 4s\n",
            "480:\tlearn: 0.3122063\ttotal: 12m 6s\tremaining: 13m 3s\n",
            "481:\tlearn: 0.3119578\ttotal: 12m 7s\tremaining: 13m 1s\n",
            "482:\tlearn: 0.3116543\ttotal: 12m 9s\tremaining: 13m\n",
            "483:\tlearn: 0.3114005\ttotal: 12m 10s\tremaining: 12m 59s\n",
            "484:\tlearn: 0.3110654\ttotal: 12m 12s\tremaining: 12m 57s\n",
            "485:\tlearn: 0.3103943\ttotal: 12m 13s\tremaining: 12m 56s\n",
            "486:\tlearn: 0.3101443\ttotal: 12m 14s\tremaining: 12m 53s\n",
            "487:\tlearn: 0.3099882\ttotal: 12m 16s\tremaining: 12m 52s\n",
            "488:\tlearn: 0.3098153\ttotal: 12m 17s\tremaining: 12m 50s\n",
            "489:\tlearn: 0.3096776\ttotal: 12m 18s\tremaining: 12m 48s\n",
            "490:\tlearn: 0.3093693\ttotal: 12m 19s\tremaining: 12m 47s\n",
            "491:\tlearn: 0.3091761\ttotal: 12m 20s\tremaining: 12m 45s\n",
            "492:\tlearn: 0.3089982\ttotal: 12m 22s\tremaining: 12m 43s\n",
            "493:\tlearn: 0.3088004\ttotal: 12m 23s\tremaining: 12m 41s\n",
            "494:\tlearn: 0.3086341\ttotal: 12m 25s\tremaining: 12m 40s\n",
            "495:\tlearn: 0.3084875\ttotal: 12m 26s\tremaining: 12m 38s\n",
            "496:\tlearn: 0.3081871\ttotal: 12m 28s\tremaining: 12m 37s\n",
            "497:\tlearn: 0.3078722\ttotal: 12m 29s\tremaining: 12m 35s\n",
            "498:\tlearn: 0.3075528\ttotal: 12m 31s\tremaining: 12m 34s\n",
            "499:\tlearn: 0.3072764\ttotal: 12m 33s\tremaining: 12m 33s\n",
            "500:\tlearn: 0.3070164\ttotal: 12m 34s\tremaining: 12m 31s\n",
            "501:\tlearn: 0.3067757\ttotal: 12m 36s\tremaining: 12m 30s\n",
            "502:\tlearn: 0.3065013\ttotal: 12m 38s\tremaining: 12m 29s\n",
            "503:\tlearn: 0.3063364\ttotal: 12m 39s\tremaining: 12m 27s\n",
            "504:\tlearn: 0.3060976\ttotal: 12m 40s\tremaining: 12m 25s\n",
            "505:\tlearn: 0.3057721\ttotal: 12m 42s\tremaining: 12m 24s\n",
            "506:\tlearn: 0.3055303\ttotal: 12m 43s\tremaining: 12m 22s\n",
            "507:\tlearn: 0.3054040\ttotal: 12m 45s\tremaining: 12m 21s\n",
            "508:\tlearn: 0.3051604\ttotal: 12m 46s\tremaining: 12m 19s\n",
            "509:\tlearn: 0.3048889\ttotal: 12m 48s\tremaining: 12m 18s\n",
            "510:\tlearn: 0.3047970\ttotal: 12m 49s\tremaining: 12m 16s\n",
            "511:\tlearn: 0.3046107\ttotal: 12m 51s\tremaining: 12m 15s\n",
            "512:\tlearn: 0.3044309\ttotal: 12m 52s\tremaining: 12m 13s\n",
            "513:\tlearn: 0.3041127\ttotal: 12m 54s\tremaining: 12m 11s\n",
            "514:\tlearn: 0.3039292\ttotal: 12m 55s\tremaining: 12m 10s\n",
            "515:\tlearn: 0.3035389\ttotal: 12m 56s\tremaining: 12m 8s\n",
            "516:\tlearn: 0.3032456\ttotal: 12m 58s\tremaining: 12m 7s\n",
            "517:\tlearn: 0.3030754\ttotal: 12m 59s\tremaining: 12m 5s\n",
            "518:\tlearn: 0.3029803\ttotal: 13m 1s\tremaining: 12m 3s\n",
            "519:\tlearn: 0.3026040\ttotal: 13m 2s\tremaining: 12m 2s\n",
            "520:\tlearn: 0.3021954\ttotal: 13m 4s\tremaining: 12m 1s\n",
            "521:\tlearn: 0.3018215\ttotal: 13m 6s\tremaining: 12m\n",
            "522:\tlearn: 0.3016390\ttotal: 13m 7s\tremaining: 11m 58s\n",
            "523:\tlearn: 0.3014711\ttotal: 13m 8s\tremaining: 11m 56s\n",
            "524:\tlearn: 0.3012140\ttotal: 13m 10s\tremaining: 11m 54s\n",
            "525:\tlearn: 0.3008685\ttotal: 13m 11s\tremaining: 11m 53s\n",
            "526:\tlearn: 0.3007006\ttotal: 13m 12s\tremaining: 11m 51s\n",
            "527:\tlearn: 0.3004296\ttotal: 13m 14s\tremaining: 11m 50s\n",
            "528:\tlearn: 0.3002690\ttotal: 13m 16s\tremaining: 11m 49s\n",
            "529:\tlearn: 0.3000798\ttotal: 13m 17s\tremaining: 11m 47s\n",
            "530:\tlearn: 0.2999719\ttotal: 13m 19s\tremaining: 11m 45s\n",
            "531:\tlearn: 0.2998082\ttotal: 13m 19s\tremaining: 11m 43s\n",
            "532:\tlearn: 0.2995563\ttotal: 13m 21s\tremaining: 11m 42s\n",
            "533:\tlearn: 0.2994155\ttotal: 13m 23s\tremaining: 11m 40s\n",
            "534:\tlearn: 0.2991639\ttotal: 13m 25s\tremaining: 11m 39s\n",
            "535:\tlearn: 0.2988872\ttotal: 13m 26s\tremaining: 11m 38s\n",
            "536:\tlearn: 0.2986351\ttotal: 13m 28s\tremaining: 11m 36s\n",
            "537:\tlearn: 0.2984614\ttotal: 13m 29s\tremaining: 11m 35s\n",
            "538:\tlearn: 0.2983005\ttotal: 13m 30s\tremaining: 11m 33s\n",
            "539:\tlearn: 0.2979898\ttotal: 13m 32s\tremaining: 11m 31s\n",
            "540:\tlearn: 0.2979080\ttotal: 13m 33s\tremaining: 11m 30s\n",
            "541:\tlearn: 0.2974317\ttotal: 13m 34s\tremaining: 11m 28s\n",
            "542:\tlearn: 0.2971410\ttotal: 13m 36s\tremaining: 11m 26s\n",
            "543:\tlearn: 0.2969084\ttotal: 13m 37s\tremaining: 11m 25s\n",
            "544:\tlearn: 0.2967471\ttotal: 13m 39s\tremaining: 11m 24s\n",
            "545:\tlearn: 0.2966409\ttotal: 13m 41s\tremaining: 11m 22s\n",
            "546:\tlearn: 0.2964280\ttotal: 13m 43s\tremaining: 11m 21s\n",
            "547:\tlearn: 0.2959497\ttotal: 13m 44s\tremaining: 11m 20s\n",
            "548:\tlearn: 0.2957768\ttotal: 13m 45s\tremaining: 11m 18s\n",
            "549:\tlearn: 0.2954379\ttotal: 13m 47s\tremaining: 11m 17s\n",
            "550:\tlearn: 0.2952012\ttotal: 13m 49s\tremaining: 11m 15s\n",
            "551:\tlearn: 0.2950617\ttotal: 13m 50s\tremaining: 11m 14s\n",
            "552:\tlearn: 0.2948085\ttotal: 13m 51s\tremaining: 11m 12s\n",
            "553:\tlearn: 0.2944444\ttotal: 13m 53s\tremaining: 11m 11s\n",
            "554:\tlearn: 0.2942179\ttotal: 13m 55s\tremaining: 11m 9s\n",
            "555:\tlearn: 0.2940333\ttotal: 13m 56s\tremaining: 11m 8s\n",
            "556:\tlearn: 0.2938016\ttotal: 13m 58s\tremaining: 11m 6s\n",
            "557:\tlearn: 0.2935284\ttotal: 13m 59s\tremaining: 11m 4s\n",
            "558:\tlearn: 0.2934583\ttotal: 14m 1s\tremaining: 11m 3s\n",
            "559:\tlearn: 0.2933637\ttotal: 14m 3s\tremaining: 11m 2s\n",
            "560:\tlearn: 0.2932467\ttotal: 14m 4s\tremaining: 11m\n",
            "561:\tlearn: 0.2929499\ttotal: 14m 5s\tremaining: 10m 59s\n",
            "562:\tlearn: 0.2927690\ttotal: 14m 7s\tremaining: 10m 57s\n",
            "563:\tlearn: 0.2925754\ttotal: 14m 8s\tremaining: 10m 56s\n",
            "564:\tlearn: 0.2924541\ttotal: 14m 9s\tremaining: 10m 54s\n",
            "565:\tlearn: 0.2922977\ttotal: 14m 10s\tremaining: 10m 52s\n",
            "566:\tlearn: 0.2921896\ttotal: 14m 12s\tremaining: 10m 50s\n",
            "567:\tlearn: 0.2919520\ttotal: 14m 13s\tremaining: 10m 49s\n",
            "568:\tlearn: 0.2917323\ttotal: 14m 15s\tremaining: 10m 47s\n",
            "569:\tlearn: 0.2916570\ttotal: 14m 17s\tremaining: 10m 46s\n",
            "570:\tlearn: 0.2915496\ttotal: 14m 18s\tremaining: 10m 45s\n",
            "571:\tlearn: 0.2913877\ttotal: 14m 20s\tremaining: 10m 44s\n",
            "572:\tlearn: 0.2912119\ttotal: 14m 21s\tremaining: 10m 42s\n",
            "573:\tlearn: 0.2909097\ttotal: 14m 23s\tremaining: 10m 40s\n",
            "574:\tlearn: 0.2907070\ttotal: 14m 24s\tremaining: 10m 39s\n",
            "575:\tlearn: 0.2904172\ttotal: 14m 26s\tremaining: 10m 37s\n",
            "576:\tlearn: 0.2902279\ttotal: 14m 27s\tremaining: 10m 35s\n",
            "577:\tlearn: 0.2899878\ttotal: 14m 28s\tremaining: 10m 34s\n",
            "578:\tlearn: 0.2897810\ttotal: 14m 30s\tremaining: 10m 32s\n",
            "579:\tlearn: 0.2896077\ttotal: 14m 31s\tremaining: 10m 31s\n",
            "580:\tlearn: 0.2894949\ttotal: 14m 33s\tremaining: 10m 30s\n",
            "581:\tlearn: 0.2893877\ttotal: 14m 35s\tremaining: 10m 28s\n",
            "582:\tlearn: 0.2892429\ttotal: 14m 36s\tremaining: 10m 27s\n",
            "583:\tlearn: 0.2891155\ttotal: 14m 38s\tremaining: 10m 25s\n",
            "584:\tlearn: 0.2889680\ttotal: 14m 39s\tremaining: 10m 24s\n",
            "585:\tlearn: 0.2889060\ttotal: 14m 41s\tremaining: 10m 22s\n",
            "586:\tlearn: 0.2887132\ttotal: 14m 43s\tremaining: 10m 21s\n",
            "587:\tlearn: 0.2885422\ttotal: 14m 44s\tremaining: 10m 19s\n",
            "588:\tlearn: 0.2881909\ttotal: 14m 46s\tremaining: 10m 18s\n",
            "589:\tlearn: 0.2878511\ttotal: 14m 47s\tremaining: 10m 16s\n",
            "590:\tlearn: 0.2873063\ttotal: 14m 48s\tremaining: 10m 14s\n",
            "591:\tlearn: 0.2872329\ttotal: 14m 50s\tremaining: 10m 13s\n",
            "592:\tlearn: 0.2870632\ttotal: 14m 52s\tremaining: 10m 12s\n",
            "593:\tlearn: 0.2866761\ttotal: 14m 53s\tremaining: 10m 10s\n",
            "594:\tlearn: 0.2864292\ttotal: 14m 55s\tremaining: 10m 9s\n",
            "595:\tlearn: 0.2863266\ttotal: 14m 56s\tremaining: 10m 7s\n",
            "596:\tlearn: 0.2861839\ttotal: 14m 57s\tremaining: 10m 6s\n",
            "597:\tlearn: 0.2860233\ttotal: 14m 59s\tremaining: 10m 4s\n",
            "598:\tlearn: 0.2858107\ttotal: 15m\tremaining: 10m 3s\n",
            "599:\tlearn: 0.2855902\ttotal: 15m 2s\tremaining: 10m 1s\n",
            "600:\tlearn: 0.2853770\ttotal: 15m 3s\tremaining: 9m 59s\n",
            "601:\tlearn: 0.2851208\ttotal: 15m 4s\tremaining: 9m 58s\n",
            "602:\tlearn: 0.2849054\ttotal: 15m 6s\tremaining: 9m 56s\n",
            "603:\tlearn: 0.2848304\ttotal: 15m 7s\tremaining: 9m 55s\n",
            "604:\tlearn: 0.2845722\ttotal: 15m 9s\tremaining: 9m 53s\n",
            "605:\tlearn: 0.2843283\ttotal: 15m 10s\tremaining: 9m 52s\n",
            "606:\tlearn: 0.2842450\ttotal: 15m 12s\tremaining: 9m 50s\n",
            "607:\tlearn: 0.2840518\ttotal: 15m 13s\tremaining: 9m 49s\n",
            "608:\tlearn: 0.2839222\ttotal: 15m 15s\tremaining: 9m 47s\n",
            "609:\tlearn: 0.2838830\ttotal: 15m 15s\tremaining: 9m 45s\n",
            "610:\tlearn: 0.2838225\ttotal: 15m 16s\tremaining: 9m 43s\n",
            "611:\tlearn: 0.2835317\ttotal: 15m 18s\tremaining: 9m 42s\n",
            "612:\tlearn: 0.2833872\ttotal: 15m 20s\tremaining: 9m 41s\n",
            "613:\tlearn: 0.2832502\ttotal: 15m 21s\tremaining: 9m 39s\n",
            "614:\tlearn: 0.2831521\ttotal: 15m 23s\tremaining: 9m 38s\n",
            "615:\tlearn: 0.2830106\ttotal: 15m 25s\tremaining: 9m 36s\n",
            "616:\tlearn: 0.2828435\ttotal: 15m 26s\tremaining: 9m 34s\n",
            "617:\tlearn: 0.2826658\ttotal: 15m 28s\tremaining: 9m 33s\n",
            "618:\tlearn: 0.2825182\ttotal: 15m 29s\tremaining: 9m 32s\n",
            "619:\tlearn: 0.2822837\ttotal: 15m 31s\tremaining: 9m 30s\n",
            "620:\tlearn: 0.2821648\ttotal: 15m 33s\tremaining: 9m 29s\n",
            "621:\tlearn: 0.2820697\ttotal: 15m 34s\tremaining: 9m 27s\n",
            "622:\tlearn: 0.2818971\ttotal: 15m 36s\tremaining: 9m 26s\n",
            "623:\tlearn: 0.2817998\ttotal: 15m 37s\tremaining: 9m 25s\n",
            "624:\tlearn: 0.2816836\ttotal: 15m 39s\tremaining: 9m 23s\n",
            "625:\tlearn: 0.2815016\ttotal: 15m 40s\tremaining: 9m 22s\n",
            "626:\tlearn: 0.2812411\ttotal: 15m 42s\tremaining: 9m 20s\n",
            "627:\tlearn: 0.2811036\ttotal: 15m 43s\tremaining: 9m 19s\n",
            "628:\tlearn: 0.2807845\ttotal: 15m 45s\tremaining: 9m 17s\n",
            "629:\tlearn: 0.2806512\ttotal: 15m 47s\tremaining: 9m 16s\n",
            "630:\tlearn: 0.2804581\ttotal: 15m 48s\tremaining: 9m 14s\n",
            "631:\tlearn: 0.2804161\ttotal: 15m 48s\tremaining: 9m 12s\n",
            "632:\tlearn: 0.2802297\ttotal: 15m 49s\tremaining: 9m 10s\n",
            "633:\tlearn: 0.2801427\ttotal: 15m 50s\tremaining: 9m 8s\n",
            "634:\tlearn: 0.2799436\ttotal: 15m 51s\tremaining: 9m 7s\n",
            "635:\tlearn: 0.2798755\ttotal: 15m 53s\tremaining: 9m 5s\n",
            "636:\tlearn: 0.2796938\ttotal: 15m 54s\tremaining: 9m 4s\n",
            "637:\tlearn: 0.2795326\ttotal: 15m 56s\tremaining: 9m 2s\n",
            "638:\tlearn: 0.2791363\ttotal: 15m 57s\tremaining: 9m\n",
            "639:\tlearn: 0.2789131\ttotal: 15m 58s\tremaining: 8m 59s\n",
            "640:\tlearn: 0.2786029\ttotal: 15m 59s\tremaining: 8m 57s\n",
            "641:\tlearn: 0.2784398\ttotal: 16m 1s\tremaining: 8m 55s\n",
            "642:\tlearn: 0.2782496\ttotal: 16m 3s\tremaining: 8m 54s\n",
            "643:\tlearn: 0.2781253\ttotal: 16m 4s\tremaining: 8m 53s\n",
            "644:\tlearn: 0.2778734\ttotal: 16m 6s\tremaining: 8m 51s\n",
            "645:\tlearn: 0.2776468\ttotal: 16m 7s\tremaining: 8m 50s\n",
            "646:\tlearn: 0.2773895\ttotal: 16m 9s\tremaining: 8m 48s\n",
            "647:\tlearn: 0.2771995\ttotal: 16m 11s\tremaining: 8m 47s\n",
            "648:\tlearn: 0.2771276\ttotal: 16m 12s\tremaining: 8m 46s\n",
            "649:\tlearn: 0.2768686\ttotal: 16m 14s\tremaining: 8m 44s\n",
            "650:\tlearn: 0.2767320\ttotal: 16m 16s\tremaining: 8m 43s\n",
            "651:\tlearn: 0.2765838\ttotal: 16m 17s\tremaining: 8m 41s\n",
            "652:\tlearn: 0.2764592\ttotal: 16m 18s\tremaining: 8m 39s\n",
            "653:\tlearn: 0.2763335\ttotal: 16m 19s\tremaining: 8m 38s\n",
            "654:\tlearn: 0.2761423\ttotal: 16m 21s\tremaining: 8m 36s\n",
            "655:\tlearn: 0.2760589\ttotal: 16m 22s\tremaining: 8m 35s\n",
            "656:\tlearn: 0.2759675\ttotal: 16m 24s\tremaining: 8m 33s\n",
            "657:\tlearn: 0.2758909\ttotal: 16m 25s\tremaining: 8m 32s\n",
            "658:\tlearn: 0.2756441\ttotal: 16m 27s\tremaining: 8m 30s\n",
            "659:\tlearn: 0.2755657\ttotal: 16m 28s\tremaining: 8m 29s\n",
            "660:\tlearn: 0.2753216\ttotal: 16m 29s\tremaining: 8m 27s\n",
            "661:\tlearn: 0.2752310\ttotal: 16m 31s\tremaining: 8m 26s\n",
            "662:\tlearn: 0.2751010\ttotal: 16m 33s\tremaining: 8m 25s\n",
            "663:\tlearn: 0.2750198\ttotal: 16m 35s\tremaining: 8m 23s\n",
            "664:\tlearn: 0.2748862\ttotal: 16m 37s\tremaining: 8m 22s\n",
            "665:\tlearn: 0.2747036\ttotal: 16m 38s\tremaining: 8m 20s\n",
            "666:\tlearn: 0.2746120\ttotal: 16m 40s\tremaining: 8m 19s\n",
            "667:\tlearn: 0.2745104\ttotal: 16m 42s\tremaining: 8m 18s\n",
            "668:\tlearn: 0.2744235\ttotal: 16m 43s\tremaining: 8m 16s\n",
            "669:\tlearn: 0.2742131\ttotal: 16m 44s\tremaining: 8m 14s\n",
            "670:\tlearn: 0.2740747\ttotal: 16m 46s\tremaining: 8m 13s\n",
            "671:\tlearn: 0.2738694\ttotal: 16m 47s\tremaining: 8m 11s\n",
            "672:\tlearn: 0.2736508\ttotal: 16m 49s\tremaining: 8m 10s\n",
            "673:\tlearn: 0.2734833\ttotal: 16m 50s\tremaining: 8m 8s\n",
            "674:\tlearn: 0.2731930\ttotal: 16m 52s\tremaining: 8m 7s\n",
            "675:\tlearn: 0.2730395\ttotal: 16m 53s\tremaining: 8m 5s\n",
            "676:\tlearn: 0.2728097\ttotal: 16m 55s\tremaining: 8m 4s\n",
            "677:\tlearn: 0.2727929\ttotal: 16m 55s\tremaining: 8m 2s\n",
            "678:\tlearn: 0.2726782\ttotal: 16m 57s\tremaining: 8m 1s\n",
            "679:\tlearn: 0.2725418\ttotal: 16m 59s\tremaining: 7m 59s\n",
            "680:\tlearn: 0.2724286\ttotal: 17m\tremaining: 7m 58s\n",
            "681:\tlearn: 0.2723412\ttotal: 17m 2s\tremaining: 7m 56s\n",
            "682:\tlearn: 0.2721233\ttotal: 17m 3s\tremaining: 7m 55s\n",
            "683:\tlearn: 0.2719640\ttotal: 17m 5s\tremaining: 7m 53s\n",
            "684:\tlearn: 0.2717392\ttotal: 17m 6s\tremaining: 7m 52s\n",
            "685:\tlearn: 0.2714984\ttotal: 17m 8s\tremaining: 7m 50s\n",
            "686:\tlearn: 0.2712755\ttotal: 17m 10s\tremaining: 7m 49s\n",
            "687:\tlearn: 0.2710933\ttotal: 17m 12s\tremaining: 7m 48s\n",
            "688:\tlearn: 0.2709250\ttotal: 17m 14s\tremaining: 7m 46s\n",
            "689:\tlearn: 0.2707247\ttotal: 17m 15s\tremaining: 7m 45s\n",
            "690:\tlearn: 0.2706321\ttotal: 17m 17s\tremaining: 7m 43s\n",
            "691:\tlearn: 0.2703682\ttotal: 17m 18s\tremaining: 7m 42s\n",
            "692:\tlearn: 0.2701265\ttotal: 17m 19s\tremaining: 7m 40s\n",
            "693:\tlearn: 0.2700071\ttotal: 17m 21s\tremaining: 7m 39s\n",
            "694:\tlearn: 0.2698900\ttotal: 17m 23s\tremaining: 7m 37s\n",
            "695:\tlearn: 0.2698317\ttotal: 17m 24s\tremaining: 7m 36s\n",
            "696:\tlearn: 0.2697010\ttotal: 17m 26s\tremaining: 7m 34s\n",
            "697:\tlearn: 0.2696414\ttotal: 17m 27s\tremaining: 7m 33s\n",
            "698:\tlearn: 0.2696122\ttotal: 17m 27s\tremaining: 7m 31s\n",
            "699:\tlearn: 0.2695256\ttotal: 17m 28s\tremaining: 7m 29s\n",
            "700:\tlearn: 0.2694477\ttotal: 17m 29s\tremaining: 7m 27s\n",
            "701:\tlearn: 0.2693267\ttotal: 17m 31s\tremaining: 7m 26s\n",
            "702:\tlearn: 0.2691477\ttotal: 17m 32s\tremaining: 7m 24s\n",
            "703:\tlearn: 0.2690811\ttotal: 17m 33s\tremaining: 7m 23s\n",
            "704:\tlearn: 0.2688955\ttotal: 17m 35s\tremaining: 7m 21s\n",
            "705:\tlearn: 0.2687947\ttotal: 17m 37s\tremaining: 7m 20s\n",
            "706:\tlearn: 0.2685882\ttotal: 17m 38s\tremaining: 7m 18s\n",
            "707:\tlearn: 0.2684789\ttotal: 17m 40s\tremaining: 7m 17s\n",
            "708:\tlearn: 0.2683155\ttotal: 17m 41s\tremaining: 7m 15s\n",
            "709:\tlearn: 0.2680965\ttotal: 17m 43s\tremaining: 7m 14s\n",
            "710:\tlearn: 0.2680022\ttotal: 17m 45s\tremaining: 7m 13s\n",
            "711:\tlearn: 0.2677507\ttotal: 17m 46s\tremaining: 7m 11s\n",
            "712:\tlearn: 0.2676315\ttotal: 17m 48s\tremaining: 7m 10s\n",
            "713:\tlearn: 0.2674143\ttotal: 17m 49s\tremaining: 7m 8s\n",
            "714:\tlearn: 0.2672418\ttotal: 17m 51s\tremaining: 7m 7s\n",
            "715:\tlearn: 0.2670699\ttotal: 17m 52s\tremaining: 7m 5s\n",
            "716:\tlearn: 0.2666102\ttotal: 17m 54s\tremaining: 7m 4s\n",
            "717:\tlearn: 0.2665365\ttotal: 17m 56s\tremaining: 7m 2s\n",
            "718:\tlearn: 0.2664654\ttotal: 17m 58s\tremaining: 7m 1s\n",
            "719:\tlearn: 0.2663096\ttotal: 17m 59s\tremaining: 6m 59s\n",
            "720:\tlearn: 0.2660885\ttotal: 18m 1s\tremaining: 6m 58s\n",
            "721:\tlearn: 0.2659154\ttotal: 18m 2s\tremaining: 6m 56s\n",
            "722:\tlearn: 0.2658202\ttotal: 18m 4s\tremaining: 6m 55s\n",
            "723:\tlearn: 0.2657730\ttotal: 18m 5s\tremaining: 6m 53s\n",
            "724:\tlearn: 0.2656331\ttotal: 18m 7s\tremaining: 6m 52s\n",
            "725:\tlearn: 0.2655219\ttotal: 18m 8s\tremaining: 6m 50s\n",
            "726:\tlearn: 0.2654024\ttotal: 18m 10s\tremaining: 6m 49s\n",
            "727:\tlearn: 0.2652462\ttotal: 18m 11s\tremaining: 6m 47s\n",
            "728:\tlearn: 0.2651237\ttotal: 18m 12s\tremaining: 6m 46s\n",
            "729:\tlearn: 0.2650074\ttotal: 18m 14s\tremaining: 6m 44s\n",
            "730:\tlearn: 0.2649279\ttotal: 18m 16s\tremaining: 6m 43s\n",
            "731:\tlearn: 0.2647800\ttotal: 18m 17s\tremaining: 6m 41s\n",
            "732:\tlearn: 0.2646764\ttotal: 18m 18s\tremaining: 6m 40s\n",
            "733:\tlearn: 0.2645628\ttotal: 18m 20s\tremaining: 6m 38s\n",
            "734:\tlearn: 0.2644896\ttotal: 18m 21s\tremaining: 6m 37s\n",
            "735:\tlearn: 0.2642091\ttotal: 18m 22s\tremaining: 6m 35s\n",
            "736:\tlearn: 0.2641607\ttotal: 18m 24s\tremaining: 6m 34s\n",
            "737:\tlearn: 0.2640746\ttotal: 18m 25s\tremaining: 6m 32s\n",
            "738:\tlearn: 0.2637705\ttotal: 18m 27s\tremaining: 6m 31s\n",
            "739:\tlearn: 0.2636548\ttotal: 18m 29s\tremaining: 6m 29s\n",
            "740:\tlearn: 0.2634667\ttotal: 18m 30s\tremaining: 6m 28s\n",
            "741:\tlearn: 0.2631474\ttotal: 18m 31s\tremaining: 6m 26s\n",
            "742:\tlearn: 0.2630950\ttotal: 18m 33s\tremaining: 6m 25s\n",
            "743:\tlearn: 0.2630157\ttotal: 18m 34s\tremaining: 6m 23s\n",
            "744:\tlearn: 0.2629651\ttotal: 18m 34s\tremaining: 6m 21s\n",
            "745:\tlearn: 0.2629079\ttotal: 18m 36s\tremaining: 6m 20s\n",
            "746:\tlearn: 0.2628296\ttotal: 18m 37s\tremaining: 6m 18s\n",
            "747:\tlearn: 0.2628049\ttotal: 18m 39s\tremaining: 6m 17s\n",
            "748:\tlearn: 0.2627097\ttotal: 18m 40s\tremaining: 6m 15s\n",
            "749:\tlearn: 0.2625425\ttotal: 18m 41s\tremaining: 6m 13s\n",
            "750:\tlearn: 0.2623589\ttotal: 18m 43s\tremaining: 6m 12s\n",
            "751:\tlearn: 0.2622413\ttotal: 18m 45s\tremaining: 6m 11s\n",
            "752:\tlearn: 0.2620696\ttotal: 18m 46s\tremaining: 6m 9s\n",
            "753:\tlearn: 0.2619477\ttotal: 18m 47s\tremaining: 6m 7s\n",
            "754:\tlearn: 0.2618860\ttotal: 18m 48s\tremaining: 6m 6s\n",
            "755:\tlearn: 0.2618282\ttotal: 18m 50s\tremaining: 6m 4s\n",
            "756:\tlearn: 0.2617376\ttotal: 18m 52s\tremaining: 6m 3s\n",
            "757:\tlearn: 0.2616638\ttotal: 18m 53s\tremaining: 6m 1s\n",
            "758:\tlearn: 0.2615426\ttotal: 18m 54s\tremaining: 6m\n",
            "759:\tlearn: 0.2614016\ttotal: 18m 56s\tremaining: 5m 58s\n",
            "760:\tlearn: 0.2612305\ttotal: 18m 57s\tremaining: 5m 57s\n",
            "761:\tlearn: 0.2609697\ttotal: 18m 59s\tremaining: 5m 55s\n",
            "762:\tlearn: 0.2608323\ttotal: 19m\tremaining: 5m 54s\n",
            "763:\tlearn: 0.2607550\ttotal: 19m 2s\tremaining: 5m 52s\n",
            "764:\tlearn: 0.2605809\ttotal: 19m 4s\tremaining: 5m 51s\n",
            "765:\tlearn: 0.2604959\ttotal: 19m 5s\tremaining: 5m 50s\n",
            "766:\tlearn: 0.2602848\ttotal: 19m 6s\tremaining: 5m 48s\n",
            "767:\tlearn: 0.2601014\ttotal: 19m 8s\tremaining: 5m 47s\n",
            "768:\tlearn: 0.2600223\ttotal: 19m 10s\tremaining: 5m 45s\n",
            "769:\tlearn: 0.2599206\ttotal: 19m 11s\tremaining: 5m 43s\n",
            "770:\tlearn: 0.2597749\ttotal: 19m 13s\tremaining: 5m 42s\n",
            "771:\tlearn: 0.2596257\ttotal: 19m 15s\tremaining: 5m 41s\n",
            "772:\tlearn: 0.2595420\ttotal: 19m 16s\tremaining: 5m 39s\n",
            "773:\tlearn: 0.2594972\ttotal: 19m 18s\tremaining: 5m 38s\n",
            "774:\tlearn: 0.2591382\ttotal: 19m 19s\tremaining: 5m 36s\n",
            "775:\tlearn: 0.2590626\ttotal: 19m 21s\tremaining: 5m 35s\n",
            "776:\tlearn: 0.2589790\ttotal: 19m 22s\tremaining: 5m 33s\n",
            "777:\tlearn: 0.2588185\ttotal: 19m 23s\tremaining: 5m 32s\n",
            "778:\tlearn: 0.2587094\ttotal: 19m 24s\tremaining: 5m 30s\n",
            "779:\tlearn: 0.2586832\ttotal: 19m 24s\tremaining: 5m 28s\n",
            "780:\tlearn: 0.2583745\ttotal: 19m 26s\tremaining: 5m 27s\n",
            "781:\tlearn: 0.2582857\ttotal: 19m 27s\tremaining: 5m 25s\n",
            "782:\tlearn: 0.2580435\ttotal: 19m 29s\tremaining: 5m 24s\n",
            "783:\tlearn: 0.2579351\ttotal: 19m 30s\tremaining: 5m 22s\n",
            "784:\tlearn: 0.2578963\ttotal: 19m 31s\tremaining: 5m 20s\n",
            "785:\tlearn: 0.2578122\ttotal: 19m 32s\tremaining: 5m 19s\n",
            "786:\tlearn: 0.2577536\ttotal: 19m 33s\tremaining: 5m 17s\n",
            "787:\tlearn: 0.2576810\ttotal: 19m 33s\tremaining: 5m 15s\n",
            "788:\tlearn: 0.2575764\ttotal: 19m 35s\tremaining: 5m 14s\n",
            "789:\tlearn: 0.2575069\ttotal: 19m 36s\tremaining: 5m 12s\n",
            "790:\tlearn: 0.2574648\ttotal: 19m 36s\tremaining: 5m 10s\n",
            "791:\tlearn: 0.2573663\ttotal: 19m 38s\tremaining: 5m 9s\n",
            "792:\tlearn: 0.2572432\ttotal: 19m 39s\tremaining: 5m 7s\n",
            "793:\tlearn: 0.2570952\ttotal: 19m 40s\tremaining: 5m 6s\n",
            "794:\tlearn: 0.2569000\ttotal: 19m 42s\tremaining: 5m 4s\n",
            "795:\tlearn: 0.2565504\ttotal: 19m 43s\tremaining: 5m 3s\n",
            "796:\tlearn: 0.2564200\ttotal: 19m 45s\tremaining: 5m 1s\n",
            "797:\tlearn: 0.2561758\ttotal: 19m 46s\tremaining: 5m\n",
            "798:\tlearn: 0.2561377\ttotal: 19m 48s\tremaining: 4m 58s\n",
            "799:\tlearn: 0.2560590\ttotal: 19m 50s\tremaining: 4m 57s\n",
            "800:\tlearn: 0.2559350\ttotal: 19m 51s\tremaining: 4m 56s\n",
            "801:\tlearn: 0.2558446\ttotal: 19m 53s\tremaining: 4m 54s\n",
            "802:\tlearn: 0.2556778\ttotal: 19m 54s\tremaining: 4m 53s\n",
            "803:\tlearn: 0.2553804\ttotal: 19m 55s\tremaining: 4m 51s\n",
            "804:\tlearn: 0.2553290\ttotal: 19m 57s\tremaining: 4m 50s\n",
            "805:\tlearn: 0.2551301\ttotal: 19m 58s\tremaining: 4m 48s\n",
            "806:\tlearn: 0.2550084\ttotal: 19m 59s\tremaining: 4m 46s\n",
            "807:\tlearn: 0.2549316\ttotal: 20m 1s\tremaining: 4m 45s\n",
            "808:\tlearn: 0.2548662\ttotal: 20m 1s\tremaining: 4m 43s\n",
            "809:\tlearn: 0.2547948\ttotal: 20m 3s\tremaining: 4m 42s\n",
            "810:\tlearn: 0.2546972\ttotal: 20m 5s\tremaining: 4m 40s\n",
            "811:\tlearn: 0.2545836\ttotal: 20m 6s\tremaining: 4m 39s\n",
            "812:\tlearn: 0.2544446\ttotal: 20m 8s\tremaining: 4m 37s\n",
            "813:\tlearn: 0.2542992\ttotal: 20m 9s\tremaining: 4m 36s\n",
            "814:\tlearn: 0.2541753\ttotal: 20m 11s\tremaining: 4m 35s\n",
            "815:\tlearn: 0.2541109\ttotal: 20m 12s\tremaining: 4m 33s\n",
            "816:\tlearn: 0.2539905\ttotal: 20m 14s\tremaining: 4m 32s\n",
            "817:\tlearn: 0.2538932\ttotal: 20m 16s\tremaining: 4m 30s\n",
            "818:\tlearn: 0.2538209\ttotal: 20m 17s\tremaining: 4m 29s\n",
            "819:\tlearn: 0.2535691\ttotal: 20m 18s\tremaining: 4m 27s\n",
            "820:\tlearn: 0.2534077\ttotal: 20m 21s\tremaining: 4m 26s\n",
            "821:\tlearn: 0.2533555\ttotal: 20m 22s\tremaining: 4m 24s\n",
            "822:\tlearn: 0.2532843\ttotal: 20m 23s\tremaining: 4m 23s\n",
            "823:\tlearn: 0.2531053\ttotal: 20m 25s\tremaining: 4m 21s\n",
            "824:\tlearn: 0.2530229\ttotal: 20m 27s\tremaining: 4m 20s\n",
            "825:\tlearn: 0.2529017\ttotal: 20m 29s\tremaining: 4m 18s\n",
            "826:\tlearn: 0.2528536\ttotal: 20m 30s\tremaining: 4m 17s\n",
            "827:\tlearn: 0.2527547\ttotal: 20m 31s\tremaining: 4m 15s\n",
            "828:\tlearn: 0.2525815\ttotal: 20m 32s\tremaining: 4m 14s\n",
            "829:\tlearn: 0.2525176\ttotal: 20m 34s\tremaining: 4m 12s\n",
            "830:\tlearn: 0.2524787\ttotal: 20m 36s\tremaining: 4m 11s\n",
            "831:\tlearn: 0.2524405\ttotal: 20m 37s\tremaining: 4m 9s\n",
            "832:\tlearn: 0.2522967\ttotal: 20m 38s\tremaining: 4m 8s\n",
            "833:\tlearn: 0.2521364\ttotal: 20m 40s\tremaining: 4m 6s\n",
            "834:\tlearn: 0.2520481\ttotal: 20m 42s\tremaining: 4m 5s\n",
            "835:\tlearn: 0.2519050\ttotal: 20m 43s\tremaining: 4m 3s\n",
            "836:\tlearn: 0.2518054\ttotal: 20m 45s\tremaining: 4m 2s\n",
            "837:\tlearn: 0.2517044\ttotal: 20m 46s\tremaining: 4m 1s\n",
            "838:\tlearn: 0.2515775\ttotal: 20m 48s\tremaining: 3m 59s\n",
            "839:\tlearn: 0.2515276\ttotal: 20m 49s\tremaining: 3m 57s\n",
            "840:\tlearn: 0.2514650\ttotal: 20m 50s\tremaining: 3m 56s\n",
            "841:\tlearn: 0.2513872\ttotal: 20m 52s\tremaining: 3m 54s\n",
            "842:\tlearn: 0.2512114\ttotal: 20m 53s\tremaining: 3m 53s\n",
            "843:\tlearn: 0.2511321\ttotal: 20m 55s\tremaining: 3m 52s\n",
            "844:\tlearn: 0.2510520\ttotal: 20m 57s\tremaining: 3m 50s\n",
            "845:\tlearn: 0.2509258\ttotal: 20m 58s\tremaining: 3m 49s\n",
            "846:\tlearn: 0.2508845\ttotal: 20m 59s\tremaining: 3m 47s\n",
            "847:\tlearn: 0.2508022\ttotal: 21m\tremaining: 3m 45s\n",
            "848:\tlearn: 0.2507617\ttotal: 21m 2s\tremaining: 3m 44s\n",
            "849:\tlearn: 0.2506677\ttotal: 21m 3s\tremaining: 3m 43s\n",
            "850:\tlearn: 0.2506070\ttotal: 21m 5s\tremaining: 3m 41s\n",
            "851:\tlearn: 0.2504827\ttotal: 21m 6s\tremaining: 3m 40s\n",
            "852:\tlearn: 0.2504138\ttotal: 21m 7s\tremaining: 3m 38s\n",
            "853:\tlearn: 0.2503241\ttotal: 21m 9s\tremaining: 3m 37s\n",
            "854:\tlearn: 0.2501805\ttotal: 21m 11s\tremaining: 3m 35s\n",
            "855:\tlearn: 0.2501289\ttotal: 21m 12s\tremaining: 3m 34s\n",
            "856:\tlearn: 0.2499968\ttotal: 21m 13s\tremaining: 3m 32s\n",
            "857:\tlearn: 0.2499031\ttotal: 21m 14s\tremaining: 3m 30s\n",
            "858:\tlearn: 0.2498367\ttotal: 21m 16s\tremaining: 3m 29s\n",
            "859:\tlearn: 0.2497261\ttotal: 21m 17s\tremaining: 3m 27s\n",
            "860:\tlearn: 0.2496490\ttotal: 21m 19s\tremaining: 3m 26s\n",
            "861:\tlearn: 0.2494469\ttotal: 21m 20s\tremaining: 3m 25s\n",
            "862:\tlearn: 0.2493640\ttotal: 21m 20s\tremaining: 3m 23s\n",
            "863:\tlearn: 0.2493349\ttotal: 21m 21s\tremaining: 3m 21s\n",
            "864:\tlearn: 0.2490478\ttotal: 21m 22s\tremaining: 3m 20s\n",
            "865:\tlearn: 0.2489114\ttotal: 21m 24s\tremaining: 3m 18s\n",
            "866:\tlearn: 0.2488218\ttotal: 21m 25s\tremaining: 3m 17s\n",
            "867:\tlearn: 0.2487009\ttotal: 21m 26s\tremaining: 3m 15s\n",
            "868:\tlearn: 0.2486207\ttotal: 21m 26s\tremaining: 3m 14s\n",
            "869:\tlearn: 0.2485912\ttotal: 21m 28s\tremaining: 3m 12s\n",
            "870:\tlearn: 0.2485170\ttotal: 21m 30s\tremaining: 3m 11s\n",
            "871:\tlearn: 0.2484775\ttotal: 21m 32s\tremaining: 3m 9s\n",
            "872:\tlearn: 0.2483204\ttotal: 21m 33s\tremaining: 3m 8s\n",
            "873:\tlearn: 0.2482345\ttotal: 21m 35s\tremaining: 3m 6s\n",
            "874:\tlearn: 0.2481491\ttotal: 21m 36s\tremaining: 3m 5s\n",
            "875:\tlearn: 0.2479960\ttotal: 21m 37s\tremaining: 3m 3s\n",
            "876:\tlearn: 0.2479475\ttotal: 21m 39s\tremaining: 3m 2s\n",
            "877:\tlearn: 0.2478512\ttotal: 21m 40s\tremaining: 3m\n",
            "878:\tlearn: 0.2476369\ttotal: 21m 41s\tremaining: 2m 59s\n",
            "879:\tlearn: 0.2475561\ttotal: 21m 42s\tremaining: 2m 57s\n",
            "880:\tlearn: 0.2474751\ttotal: 21m 43s\tremaining: 2m 56s\n",
            "881:\tlearn: 0.2472549\ttotal: 21m 45s\tremaining: 2m 54s\n",
            "882:\tlearn: 0.2471327\ttotal: 21m 46s\tremaining: 2m 53s\n",
            "883:\tlearn: 0.2470391\ttotal: 21m 48s\tremaining: 2m 51s\n",
            "884:\tlearn: 0.2468744\ttotal: 21m 50s\tremaining: 2m 50s\n",
            "885:\tlearn: 0.2467670\ttotal: 21m 51s\tremaining: 2m 48s\n",
            "886:\tlearn: 0.2467294\ttotal: 21m 52s\tremaining: 2m 47s\n",
            "887:\tlearn: 0.2465389\ttotal: 21m 54s\tremaining: 2m 45s\n",
            "888:\tlearn: 0.2464731\ttotal: 21m 55s\tremaining: 2m 44s\n",
            "889:\tlearn: 0.2464134\ttotal: 21m 57s\tremaining: 2m 42s\n",
            "890:\tlearn: 0.2463631\ttotal: 21m 58s\tremaining: 2m 41s\n",
            "891:\tlearn: 0.2462639\ttotal: 22m\tremaining: 2m 39s\n",
            "892:\tlearn: 0.2461938\ttotal: 22m 1s\tremaining: 2m 38s\n",
            "893:\tlearn: 0.2460398\ttotal: 22m 3s\tremaining: 2m 36s\n",
            "894:\tlearn: 0.2459136\ttotal: 22m 5s\tremaining: 2m 35s\n",
            "895:\tlearn: 0.2458464\ttotal: 22m 7s\tremaining: 2m 34s\n",
            "896:\tlearn: 0.2455645\ttotal: 22m 9s\tremaining: 2m 32s\n",
            "897:\tlearn: 0.2454286\ttotal: 22m 10s\tremaining: 2m 31s\n",
            "898:\tlearn: 0.2452533\ttotal: 22m 12s\tremaining: 2m 29s\n",
            "899:\tlearn: 0.2450528\ttotal: 22m 13s\tremaining: 2m 28s\n",
            "900:\tlearn: 0.2449611\ttotal: 22m 15s\tremaining: 2m 26s\n",
            "901:\tlearn: 0.2447836\ttotal: 22m 16s\tremaining: 2m 25s\n",
            "902:\tlearn: 0.2445768\ttotal: 22m 18s\tremaining: 2m 23s\n",
            "903:\tlearn: 0.2445159\ttotal: 22m 19s\tremaining: 2m 22s\n",
            "904:\tlearn: 0.2444093\ttotal: 22m 21s\tremaining: 2m 20s\n",
            "905:\tlearn: 0.2443443\ttotal: 22m 22s\tremaining: 2m 19s\n",
            "906:\tlearn: 0.2442718\ttotal: 22m 23s\tremaining: 2m 17s\n",
            "907:\tlearn: 0.2441149\ttotal: 22m 25s\tremaining: 2m 16s\n",
            "908:\tlearn: 0.2440457\ttotal: 22m 27s\tremaining: 2m 14s\n",
            "909:\tlearn: 0.2438523\ttotal: 22m 29s\tremaining: 2m 13s\n",
            "910:\tlearn: 0.2438001\ttotal: 22m 31s\tremaining: 2m 12s\n",
            "911:\tlearn: 0.2437928\ttotal: 22m 31s\tremaining: 2m 10s\n",
            "912:\tlearn: 0.2436834\ttotal: 22m 33s\tremaining: 2m 8s\n",
            "913:\tlearn: 0.2434973\ttotal: 22m 34s\tremaining: 2m 7s\n",
            "914:\tlearn: 0.2434627\ttotal: 22m 36s\tremaining: 2m 5s\n",
            "915:\tlearn: 0.2433886\ttotal: 22m 37s\tremaining: 2m 4s\n",
            "916:\tlearn: 0.2433180\ttotal: 22m 38s\tremaining: 2m 2s\n",
            "917:\tlearn: 0.2432983\ttotal: 22m 38s\tremaining: 2m 1s\n",
            "918:\tlearn: 0.2431508\ttotal: 22m 40s\tremaining: 1m 59s\n",
            "919:\tlearn: 0.2429558\ttotal: 22m 41s\tremaining: 1m 58s\n",
            "920:\tlearn: 0.2429024\ttotal: 22m 43s\tremaining: 1m 56s\n",
            "921:\tlearn: 0.2428760\ttotal: 22m 45s\tremaining: 1m 55s\n",
            "922:\tlearn: 0.2427724\ttotal: 22m 46s\tremaining: 1m 54s\n",
            "923:\tlearn: 0.2427224\ttotal: 22m 47s\tremaining: 1m 52s\n",
            "924:\tlearn: 0.2426540\ttotal: 22m 48s\tremaining: 1m 50s\n",
            "925:\tlearn: 0.2423112\ttotal: 22m 50s\tremaining: 1m 49s\n",
            "926:\tlearn: 0.2421722\ttotal: 22m 51s\tremaining: 1m 48s\n",
            "927:\tlearn: 0.2420218\ttotal: 22m 53s\tremaining: 1m 46s\n",
            "928:\tlearn: 0.2419525\ttotal: 22m 54s\tremaining: 1m 45s\n",
            "929:\tlearn: 0.2418924\ttotal: 22m 55s\tremaining: 1m 43s\n",
            "930:\tlearn: 0.2416372\ttotal: 22m 57s\tremaining: 1m 42s\n",
            "931:\tlearn: 0.2415678\ttotal: 22m 58s\tremaining: 1m 40s\n",
            "932:\tlearn: 0.2414305\ttotal: 23m\tremaining: 1m 39s\n",
            "933:\tlearn: 0.2413063\ttotal: 23m 1s\tremaining: 1m 37s\n",
            "934:\tlearn: 0.2411439\ttotal: 23m 2s\tremaining: 1m 36s\n",
            "935:\tlearn: 0.2409850\ttotal: 23m 4s\tremaining: 1m 34s\n",
            "936:\tlearn: 0.2409330\ttotal: 23m 5s\tremaining: 1m 33s\n",
            "937:\tlearn: 0.2407501\ttotal: 23m 7s\tremaining: 1m 31s\n",
            "938:\tlearn: 0.2405974\ttotal: 23m 8s\tremaining: 1m 30s\n",
            "939:\tlearn: 0.2405103\ttotal: 23m 10s\tremaining: 1m 28s\n",
            "940:\tlearn: 0.2404429\ttotal: 23m 12s\tremaining: 1m 27s\n",
            "941:\tlearn: 0.2403396\ttotal: 23m 13s\tremaining: 1m 25s\n",
            "942:\tlearn: 0.2402122\ttotal: 23m 14s\tremaining: 1m 24s\n",
            "943:\tlearn: 0.2399553\ttotal: 23m 15s\tremaining: 1m 22s\n",
            "944:\tlearn: 0.2398780\ttotal: 23m 17s\tremaining: 1m 21s\n",
            "945:\tlearn: 0.2398337\ttotal: 23m 19s\tremaining: 1m 19s\n",
            "946:\tlearn: 0.2397586\ttotal: 23m 20s\tremaining: 1m 18s\n",
            "947:\tlearn: 0.2395810\ttotal: 23m 22s\tremaining: 1m 16s\n",
            "948:\tlearn: 0.2395027\ttotal: 23m 23s\tremaining: 1m 15s\n",
            "949:\tlearn: 0.2394395\ttotal: 23m 25s\tremaining: 1m 13s\n",
            "950:\tlearn: 0.2393841\ttotal: 23m 26s\tremaining: 1m 12s\n",
            "951:\tlearn: 0.2392921\ttotal: 23m 28s\tremaining: 1m 11s\n",
            "952:\tlearn: 0.2389775\ttotal: 23m 29s\tremaining: 1m 9s\n",
            "953:\tlearn: 0.2388797\ttotal: 23m 31s\tremaining: 1m 8s\n",
            "954:\tlearn: 0.2386303\ttotal: 23m 32s\tremaining: 1m 6s\n",
            "955:\tlearn: 0.2385494\ttotal: 23m 33s\tremaining: 1m 5s\n",
            "956:\tlearn: 0.2384194\ttotal: 23m 35s\tremaining: 1m 3s\n",
            "957:\tlearn: 0.2381873\ttotal: 23m 36s\tremaining: 1m 2s\n",
            "958:\tlearn: 0.2380757\ttotal: 23m 38s\tremaining: 1m\n",
            "959:\tlearn: 0.2380302\ttotal: 23m 38s\tremaining: 59.1s\n",
            "960:\tlearn: 0.2378758\ttotal: 23m 39s\tremaining: 57.6s\n",
            "961:\tlearn: 0.2377926\ttotal: 23m 41s\tremaining: 56.1s\n",
            "962:\tlearn: 0.2377242\ttotal: 23m 42s\tremaining: 54.7s\n",
            "963:\tlearn: 0.2376249\ttotal: 23m 44s\tremaining: 53.2s\n",
            "964:\tlearn: 0.2375650\ttotal: 23m 45s\tremaining: 51.7s\n",
            "965:\tlearn: 0.2374934\ttotal: 23m 47s\tremaining: 50.2s\n",
            "966:\tlearn: 0.2373405\ttotal: 23m 48s\tremaining: 48.8s\n",
            "967:\tlearn: 0.2371640\ttotal: 23m 50s\tremaining: 47.3s\n",
            "968:\tlearn: 0.2370329\ttotal: 23m 51s\tremaining: 45.8s\n",
            "969:\tlearn: 0.2369566\ttotal: 23m 53s\tremaining: 44.3s\n",
            "970:\tlearn: 0.2368951\ttotal: 23m 54s\tremaining: 42.9s\n",
            "971:\tlearn: 0.2366276\ttotal: 23m 56s\tremaining: 41.4s\n",
            "972:\tlearn: 0.2365776\ttotal: 23m 58s\tremaining: 39.9s\n",
            "973:\tlearn: 0.2364871\ttotal: 23m 59s\tremaining: 38.4s\n",
            "974:\tlearn: 0.2363888\ttotal: 24m\tremaining: 36.9s\n",
            "975:\tlearn: 0.2363218\ttotal: 24m 3s\tremaining: 35.5s\n",
            "976:\tlearn: 0.2362394\ttotal: 24m 4s\tremaining: 34s\n",
            "977:\tlearn: 0.2361808\ttotal: 24m 6s\tremaining: 32.5s\n",
            "978:\tlearn: 0.2360172\ttotal: 24m 7s\tremaining: 31.1s\n",
            "979:\tlearn: 0.2359548\ttotal: 24m 9s\tremaining: 29.6s\n",
            "980:\tlearn: 0.2359360\ttotal: 24m 9s\tremaining: 28.1s\n",
            "981:\tlearn: 0.2358497\ttotal: 24m 10s\tremaining: 26.6s\n",
            "982:\tlearn: 0.2357376\ttotal: 24m 12s\tremaining: 25.1s\n",
            "983:\tlearn: 0.2356468\ttotal: 24m 13s\tremaining: 23.6s\n",
            "984:\tlearn: 0.2355144\ttotal: 24m 15s\tremaining: 22.2s\n",
            "985:\tlearn: 0.2352277\ttotal: 24m 16s\tremaining: 20.7s\n",
            "986:\tlearn: 0.2351746\ttotal: 24m 17s\tremaining: 19.2s\n",
            "987:\tlearn: 0.2350687\ttotal: 24m 19s\tremaining: 17.7s\n",
            "988:\tlearn: 0.2349639\ttotal: 24m 20s\tremaining: 16.2s\n",
            "989:\tlearn: 0.2348848\ttotal: 24m 22s\tremaining: 14.8s\n",
            "990:\tlearn: 0.2347621\ttotal: 24m 23s\tremaining: 13.3s\n",
            "991:\tlearn: 0.2345261\ttotal: 24m 25s\tremaining: 11.8s\n",
            "992:\tlearn: 0.2344678\ttotal: 24m 27s\tremaining: 10.3s\n",
            "993:\tlearn: 0.2344358\ttotal: 24m 27s\tremaining: 8.86s\n",
            "994:\tlearn: 0.2343198\ttotal: 24m 29s\tremaining: 7.38s\n",
            "995:\tlearn: 0.2341858\ttotal: 24m 31s\tremaining: 5.91s\n",
            "996:\tlearn: 0.2340916\ttotal: 24m 32s\tremaining: 4.43s\n",
            "997:\tlearn: 0.2339334\ttotal: 24m 33s\tremaining: 2.95s\n",
            "998:\tlearn: 0.2338608\ttotal: 24m 35s\tremaining: 1.48s\n",
            "999:\tlearn: 0.2337481\ttotal: 24m 37s\tremaining: 0us\n"
          ]
        },
        {
          "output_type": "execute_result",
          "data": {
            "text/plain": [
              "ok      50\n",
              "high    11\n",
              "Name: cholesterol_ldl_human, dtype: int64"
            ]
          },
          "metadata": {},
          "execution_count": 39
        }
      ],
      "source": [
        "# # Cholesterol ldl\n",
        "# # cat_ldf = cat_model_boost(df_train,y_cholesterol_ldl_human)\n",
        "# cat_ldl = cat_model_ldl.fit(df_trainu,y_cholesterol_ldl_human)\n",
        "# cholesterol_ldl_human = cat_ldl.predict(X_testu)\n",
        "# test['cholesterol_ldl_human'] = cholesterol_ldl_human.astype(str)\n",
        "# test['cholesterol_ldl_human'] = test['cholesterol_ldl_human'].replace(reverse_mapping)\n",
        "# test['cholesterol_ldl_human'].value_counts()"
      ]
    },
    {
      "cell_type": "code",
      "source": [
        "# # HDL Cholesterol\n",
        "# X = df_trainu\n",
        "# y = y_hdl_cholesterol_human\n",
        "\n",
        "# study = optuna.create_study(sampler=TPESampler(), direction=\"maximize\")\n",
        "# study.optimize(objective, n_trials=10, timeout=600) # Run for 10 minutes\n",
        "# print(\"Number of completed trials: {}\".format(len(study.trials)))\n",
        "# print(\"Best trial:\")\n",
        "# trial = study.best_trial\n",
        "\n",
        "# print(\"\\tBest Score: {}\".format(trial.value))\n",
        "# print(\"\\tBest Params: \")\n",
        "# for key, value in trial.params.items():\n",
        "#     print(\"    {}: {}\".format(key, value))"
      ],
      "metadata": {
        "colab": {
          "base_uri": "https://localhost:8080/"
        },
        "id": "ot1JJOh8Z79B",
        "outputId": "86af8ad2-50ff-4291-a9f7-21df954b4b3e"
      },
      "id": "ot1JJOh8Z79B",
      "execution_count": 40,
      "outputs": [
        {
          "output_type": "stream",
          "name": "stderr",
          "text": [
            "\u001b[32m[I 2022-03-03 19:39:03,583]\u001b[0m A new study created in memory with name: no-name-9a490462-8276-458b-a17f-c4a3ac8cda4c\u001b[0m\n",
            "\u001b[32m[I 2022-03-03 20:05:33,538]\u001b[0m Trial 0 finished with value: 51.0 and parameters: {'loss_function': 'MultiClass', 'learning_rate': 0.00014567932350250496, 'l2_leaf_reg': 0.017341345293480637, 'colsample_bylevel': 0.09961159741317784, 'depth': 10, 'boosting_type': 'Ordered', 'bootstrap_type': 'Bayesian', 'min_data_in_leaf': 19, 'one_hot_max_size': 15, 'bagging_temperature': 3.531038867772512}. Best is trial 0 with value: 51.0.\u001b[0m\n"
          ]
        },
        {
          "output_type": "stream",
          "name": "stdout",
          "text": [
            "Number of completed trials: 1\n",
            "Best trial:\n",
            "\tBest Score: 51.0\n",
            "\tBest Params: \n",
            "    loss_function: MultiClass\n",
            "    learning_rate: 0.00014567932350250496\n",
            "    l2_leaf_reg: 0.017341345293480637\n",
            "    colsample_bylevel: 0.09961159741317784\n",
            "    depth: 10\n",
            "    boosting_type: Ordered\n",
            "    bootstrap_type: Bayesian\n",
            "    min_data_in_leaf: 19\n",
            "    one_hot_max_size: 15\n",
            "    bagging_temperature: 3.531038867772512\n"
          ]
        }
      ]
    },
    {
      "cell_type": "code",
      "source": [
        "# cat_model_hdl = CatBoostClassifier(**study.best_trial.params)"
      ],
      "metadata": {
        "id": "yN9M3KnUZ0cl"
      },
      "id": "yN9M3KnUZ0cl",
      "execution_count": 41,
      "outputs": []
    },
    {
      "cell_type": "code",
      "source": [
        "# # Cholesterol hdl\n",
        "# cat_hdl = cat_model_hdl.fit(df_trainu,y_hdl_cholesterol_human)\n",
        "# hdl_cholesterol_human = cat_hdl.predict(X_testu)\n",
        "# test['hdl_cholesterol_human'] = hdl_cholesterol_human.astype(str)\n",
        "# test['hdl_cholesterol_human'] = test['hdl_cholesterol_human'].replace(reverse_mapping)\n",
        "# test['hdl_cholesterol_human'].value_counts()"
      ],
      "metadata": {
        "colab": {
          "base_uri": "https://localhost:8080/"
        },
        "id": "4NoyJaT2fF4-",
        "outputId": "c018ca7a-32b7-4f49-a58b-e756789ab1b8"
      },
      "id": "4NoyJaT2fF4-",
      "execution_count": 42,
      "outputs": [
        {
          "output_type": "stream",
          "name": "stdout",
          "text": [
            "0:\tlearn: 1.0985643\ttotal: 1.83s\tremaining: 30m 31s\n",
            "1:\tlearn: 1.0985119\ttotal: 3.5s\tremaining: 29m 7s\n",
            "2:\tlearn: 1.0984497\ttotal: 6.04s\tremaining: 33m 26s\n",
            "3:\tlearn: 1.0983993\ttotal: 7.51s\tremaining: 31m 11s\n",
            "4:\tlearn: 1.0983426\ttotal: 9.42s\tremaining: 31m 14s\n",
            "5:\tlearn: 1.0982882\ttotal: 11.2s\tremaining: 30m 57s\n",
            "6:\tlearn: 1.0982220\ttotal: 13.4s\tremaining: 31m 40s\n",
            "7:\tlearn: 1.0981662\ttotal: 15.5s\tremaining: 32m 3s\n",
            "8:\tlearn: 1.0981104\ttotal: 17.5s\tremaining: 32m 2s\n",
            "9:\tlearn: 1.0980559\ttotal: 19.4s\tremaining: 32m 3s\n",
            "10:\tlearn: 1.0980191\ttotal: 21.2s\tremaining: 31m 49s\n",
            "11:\tlearn: 1.0979610\ttotal: 23.2s\tremaining: 31m 52s\n",
            "12:\tlearn: 1.0979055\ttotal: 25.5s\tremaining: 32m 19s\n",
            "13:\tlearn: 1.0978494\ttotal: 27.4s\tremaining: 32m 9s\n",
            "14:\tlearn: 1.0977882\ttotal: 29.9s\tremaining: 32m 44s\n",
            "15:\tlearn: 1.0977254\ttotal: 31.9s\tremaining: 32m 42s\n",
            "16:\tlearn: 1.0976714\ttotal: 33.6s\tremaining: 32m 20s\n",
            "17:\tlearn: 1.0976105\ttotal: 36s\tremaining: 32m 44s\n",
            "18:\tlearn: 1.0975401\ttotal: 37.9s\tremaining: 32m 36s\n",
            "19:\tlearn: 1.0974934\ttotal: 40s\tremaining: 32m 38s\n",
            "20:\tlearn: 1.0974423\ttotal: 41.9s\tremaining: 32m 35s\n",
            "21:\tlearn: 1.0973929\ttotal: 43.5s\tremaining: 32m 14s\n",
            "22:\tlearn: 1.0973561\ttotal: 45.1s\tremaining: 31m 56s\n",
            "23:\tlearn: 1.0972914\ttotal: 46.9s\tremaining: 31m 48s\n",
            "24:\tlearn: 1.0972441\ttotal: 49.5s\tremaining: 32m 9s\n",
            "25:\tlearn: 1.0971828\ttotal: 51.3s\tremaining: 32m\n",
            "26:\tlearn: 1.0971346\ttotal: 52.9s\tremaining: 31m 45s\n",
            "27:\tlearn: 1.0970735\ttotal: 54.8s\tremaining: 31m 42s\n",
            "28:\tlearn: 1.0970133\ttotal: 56.6s\tremaining: 31m 35s\n",
            "29:\tlearn: 1.0969564\ttotal: 58.7s\tremaining: 31m 36s\n",
            "30:\tlearn: 1.0969104\ttotal: 1m\tremaining: 31m 31s\n",
            "31:\tlearn: 1.0968560\ttotal: 1m 3s\tremaining: 31m 49s\n",
            "32:\tlearn: 1.0968049\ttotal: 1m 4s\tremaining: 31m 43s\n",
            "33:\tlearn: 1.0967328\ttotal: 1m 6s\tremaining: 31m 42s\n",
            "34:\tlearn: 1.0966838\ttotal: 1m 9s\tremaining: 31m 45s\n",
            "35:\tlearn: 1.0966181\ttotal: 1m 10s\tremaining: 31m 37s\n",
            "36:\tlearn: 1.0965694\ttotal: 1m 13s\tremaining: 31m 42s\n",
            "37:\tlearn: 1.0965139\ttotal: 1m 14s\tremaining: 31m 37s\n",
            "38:\tlearn: 1.0964576\ttotal: 1m 17s\tremaining: 31m 42s\n",
            "39:\tlearn: 1.0963916\ttotal: 1m 18s\tremaining: 31m 32s\n",
            "40:\tlearn: 1.0963389\ttotal: 1m 20s\tremaining: 31m 23s\n",
            "41:\tlearn: 1.0962966\ttotal: 1m 20s\tremaining: 30m 38s\n",
            "42:\tlearn: 1.0962292\ttotal: 1m 22s\tremaining: 30m 26s\n",
            "43:\tlearn: 1.0961657\ttotal: 1m 23s\tremaining: 30m 21s\n",
            "44:\tlearn: 1.0961067\ttotal: 1m 25s\tremaining: 30m 20s\n",
            "45:\tlearn: 1.0960486\ttotal: 1m 27s\tremaining: 30m 11s\n",
            "46:\tlearn: 1.0959872\ttotal: 1m 29s\tremaining: 30m 16s\n",
            "47:\tlearn: 1.0959281\ttotal: 1m 31s\tremaining: 30m 18s\n",
            "48:\tlearn: 1.0958653\ttotal: 1m 33s\tremaining: 30m 13s\n",
            "49:\tlearn: 1.0958118\ttotal: 1m 35s\tremaining: 30m 15s\n",
            "50:\tlearn: 1.0957566\ttotal: 1m 37s\tremaining: 30m 8s\n",
            "51:\tlearn: 1.0957042\ttotal: 1m 38s\tremaining: 29m 58s\n",
            "52:\tlearn: 1.0956474\ttotal: 1m 40s\tremaining: 29m 52s\n",
            "53:\tlearn: 1.0955802\ttotal: 1m 42s\tremaining: 29m 47s\n",
            "54:\tlearn: 1.0955124\ttotal: 1m 43s\tremaining: 29m 41s\n",
            "55:\tlearn: 1.0954583\ttotal: 1m 45s\tremaining: 29m 36s\n",
            "56:\tlearn: 1.0953873\ttotal: 1m 47s\tremaining: 29m 35s\n",
            "57:\tlearn: 1.0953365\ttotal: 1m 49s\tremaining: 29m 37s\n",
            "58:\tlearn: 1.0952819\ttotal: 1m 51s\tremaining: 29m 33s\n",
            "59:\tlearn: 1.0952065\ttotal: 1m 53s\tremaining: 29m 36s\n",
            "60:\tlearn: 1.0951381\ttotal: 1m 55s\tremaining: 29m 31s\n",
            "61:\tlearn: 1.0950774\ttotal: 1m 56s\tremaining: 29m 22s\n",
            "62:\tlearn: 1.0950187\ttotal: 1m 58s\tremaining: 29m 22s\n",
            "63:\tlearn: 1.0949517\ttotal: 2m\tremaining: 29m 17s\n",
            "64:\tlearn: 1.0948911\ttotal: 2m 2s\tremaining: 29m 20s\n",
            "65:\tlearn: 1.0948354\ttotal: 2m 3s\tremaining: 29m 13s\n",
            "66:\tlearn: 1.0947906\ttotal: 2m 5s\tremaining: 29m 8s\n",
            "67:\tlearn: 1.0947375\ttotal: 2m 7s\tremaining: 29m 7s\n",
            "68:\tlearn: 1.0946879\ttotal: 2m 9s\tremaining: 29m 7s\n",
            "69:\tlearn: 1.0946398\ttotal: 2m 11s\tremaining: 29m 9s\n",
            "70:\tlearn: 1.0945754\ttotal: 2m 13s\tremaining: 29m 8s\n",
            "71:\tlearn: 1.0944882\ttotal: 2m 15s\tremaining: 29m 7s\n",
            "72:\tlearn: 1.0944187\ttotal: 2m 17s\tremaining: 29m 11s\n",
            "73:\tlearn: 1.0943374\ttotal: 2m 19s\tremaining: 29m 10s\n",
            "74:\tlearn: 1.0942911\ttotal: 2m 21s\tremaining: 29m 8s\n",
            "75:\tlearn: 1.0942355\ttotal: 2m 24s\tremaining: 29m 11s\n",
            "76:\tlearn: 1.0941774\ttotal: 2m 26s\tremaining: 29m 12s\n",
            "77:\tlearn: 1.0941118\ttotal: 2m 28s\tremaining: 29m 10s\n",
            "78:\tlearn: 1.0940512\ttotal: 2m 30s\tremaining: 29m 11s\n",
            "79:\tlearn: 1.0939991\ttotal: 2m 32s\tremaining: 29m 8s\n",
            "80:\tlearn: 1.0939421\ttotal: 2m 33s\tremaining: 29m 6s\n",
            "81:\tlearn: 1.0938959\ttotal: 2m 35s\tremaining: 29m 5s\n",
            "82:\tlearn: 1.0938262\ttotal: 2m 38s\tremaining: 29m 13s\n",
            "83:\tlearn: 1.0937662\ttotal: 2m 40s\tremaining: 29m 6s\n",
            "84:\tlearn: 1.0937046\ttotal: 2m 42s\tremaining: 29m 3s\n",
            "85:\tlearn: 1.0936464\ttotal: 2m 44s\tremaining: 29m 6s\n",
            "86:\tlearn: 1.0936010\ttotal: 2m 46s\tremaining: 29m 4s\n",
            "87:\tlearn: 1.0935370\ttotal: 2m 47s\tremaining: 28m 58s\n",
            "88:\tlearn: 1.0934853\ttotal: 2m 49s\tremaining: 28m 54s\n",
            "89:\tlearn: 1.0934253\ttotal: 2m 50s\tremaining: 28m 47s\n",
            "90:\tlearn: 1.0933849\ttotal: 2m 52s\tremaining: 28m 46s\n",
            "91:\tlearn: 1.0933201\ttotal: 2m 54s\tremaining: 28m 45s\n",
            "92:\tlearn: 1.0932537\ttotal: 2m 57s\tremaining: 28m 50s\n",
            "93:\tlearn: 1.0932082\ttotal: 2m 59s\tremaining: 28m 50s\n",
            "94:\tlearn: 1.0931528\ttotal: 3m 1s\tremaining: 28m 51s\n",
            "95:\tlearn: 1.0931021\ttotal: 3m 3s\tremaining: 28m 47s\n",
            "96:\tlearn: 1.0930505\ttotal: 3m 5s\tremaining: 28m 46s\n",
            "97:\tlearn: 1.0930098\ttotal: 3m 6s\tremaining: 28m 35s\n",
            "98:\tlearn: 1.0929298\ttotal: 3m 8s\tremaining: 28m 35s\n",
            "99:\tlearn: 1.0928759\ttotal: 3m 10s\tremaining: 28m 34s\n",
            "100:\tlearn: 1.0928391\ttotal: 3m 10s\tremaining: 28m 16s\n",
            "101:\tlearn: 1.0927788\ttotal: 3m 12s\tremaining: 28m 15s\n",
            "102:\tlearn: 1.0927172\ttotal: 3m 14s\tremaining: 28m 12s\n",
            "103:\tlearn: 1.0926687\ttotal: 3m 16s\tremaining: 28m 12s\n",
            "104:\tlearn: 1.0925985\ttotal: 3m 18s\tremaining: 28m 14s\n",
            "105:\tlearn: 1.0925463\ttotal: 3m 20s\tremaining: 28m 14s\n",
            "106:\tlearn: 1.0924701\ttotal: 3m 23s\tremaining: 28m 17s\n",
            "107:\tlearn: 1.0924176\ttotal: 3m 24s\tremaining: 28m 12s\n",
            "108:\tlearn: 1.0923566\ttotal: 3m 26s\tremaining: 28m 11s\n",
            "109:\tlearn: 1.0923095\ttotal: 3m 28s\tremaining: 28m 8s\n",
            "110:\tlearn: 1.0922658\ttotal: 3m 30s\tremaining: 28m 7s\n",
            "111:\tlearn: 1.0922164\ttotal: 3m 32s\tremaining: 28m 3s\n",
            "112:\tlearn: 1.0921608\ttotal: 3m 34s\tremaining: 28m 5s\n",
            "113:\tlearn: 1.0921096\ttotal: 3m 36s\tremaining: 28m 3s\n",
            "114:\tlearn: 1.0920545\ttotal: 3m 38s\tremaining: 28m 3s\n",
            "115:\tlearn: 1.0919869\ttotal: 3m 40s\tremaining: 28m 2s\n",
            "116:\tlearn: 1.0919285\ttotal: 3m 42s\tremaining: 27m 56s\n",
            "117:\tlearn: 1.0918681\ttotal: 3m 44s\tremaining: 27m 55s\n",
            "118:\tlearn: 1.0917928\ttotal: 3m 45s\tremaining: 27m 52s\n",
            "119:\tlearn: 1.0917424\ttotal: 3m 47s\tremaining: 27m 51s\n",
            "120:\tlearn: 1.0916840\ttotal: 3m 50s\tremaining: 27m 55s\n",
            "121:\tlearn: 1.0916296\ttotal: 3m 52s\tremaining: 27m 54s\n",
            "122:\tlearn: 1.0915751\ttotal: 3m 54s\tremaining: 27m 53s\n",
            "123:\tlearn: 1.0915195\ttotal: 3m 56s\tremaining: 27m 52s\n",
            "124:\tlearn: 1.0914876\ttotal: 3m 56s\tremaining: 27m 37s\n",
            "125:\tlearn: 1.0914348\ttotal: 3m 59s\tremaining: 27m 39s\n",
            "126:\tlearn: 1.0913867\ttotal: 4m 1s\tremaining: 27m 39s\n",
            "127:\tlearn: 1.0913397\ttotal: 4m 3s\tremaining: 27m 35s\n",
            "128:\tlearn: 1.0912810\ttotal: 4m 5s\tremaining: 27m 35s\n",
            "129:\tlearn: 1.0912152\ttotal: 4m 7s\tremaining: 27m 36s\n",
            "130:\tlearn: 1.0911598\ttotal: 4m 9s\tremaining: 27m 36s\n",
            "131:\tlearn: 1.0910988\ttotal: 4m 11s\tremaining: 27m 32s\n",
            "132:\tlearn: 1.0910458\ttotal: 4m 13s\tremaining: 27m 29s\n",
            "133:\tlearn: 1.0909780\ttotal: 4m 14s\tremaining: 27m 27s\n",
            "134:\tlearn: 1.0909146\ttotal: 4m 17s\tremaining: 27m 27s\n",
            "135:\tlearn: 1.0908596\ttotal: 4m 18s\tremaining: 27m 24s\n",
            "136:\tlearn: 1.0907930\ttotal: 4m 21s\tremaining: 27m 25s\n",
            "137:\tlearn: 1.0907391\ttotal: 4m 23s\tremaining: 27m 25s\n",
            "138:\tlearn: 1.0906857\ttotal: 4m 25s\tremaining: 27m 24s\n",
            "139:\tlearn: 1.0906381\ttotal: 4m 27s\tremaining: 27m 25s\n",
            "140:\tlearn: 1.0905935\ttotal: 4m 29s\tremaining: 27m 24s\n",
            "141:\tlearn: 1.0905262\ttotal: 4m 31s\tremaining: 27m 22s\n",
            "142:\tlearn: 1.0904883\ttotal: 4m 33s\tremaining: 27m 19s\n",
            "143:\tlearn: 1.0904264\ttotal: 4m 35s\tremaining: 27m 16s\n",
            "144:\tlearn: 1.0903632\ttotal: 4m 37s\tremaining: 27m 16s\n",
            "145:\tlearn: 1.0903063\ttotal: 4m 39s\tremaining: 27m 13s\n",
            "146:\tlearn: 1.0902575\ttotal: 4m 41s\tremaining: 27m 13s\n",
            "147:\tlearn: 1.0902094\ttotal: 4m 43s\tremaining: 27m 10s\n",
            "148:\tlearn: 1.0901499\ttotal: 4m 45s\tremaining: 27m 9s\n",
            "149:\tlearn: 1.0901018\ttotal: 4m 46s\tremaining: 27m 5s\n",
            "150:\tlearn: 1.0900455\ttotal: 4m 48s\tremaining: 27m 4s\n",
            "151:\tlearn: 1.0899870\ttotal: 4m 50s\tremaining: 27m 2s\n",
            "152:\tlearn: 1.0899359\ttotal: 4m 53s\tremaining: 27m 3s\n",
            "153:\tlearn: 1.0898869\ttotal: 4m 55s\tremaining: 27m 2s\n",
            "154:\tlearn: 1.0898335\ttotal: 4m 58s\tremaining: 27m 5s\n",
            "155:\tlearn: 1.0897878\ttotal: 5m\tremaining: 27m 3s\n",
            "156:\tlearn: 1.0897395\ttotal: 5m 1s\tremaining: 27m\n",
            "157:\tlearn: 1.0896704\ttotal: 5m 3s\tremaining: 26m 58s\n",
            "158:\tlearn: 1.0896261\ttotal: 5m 6s\tremaining: 26m 58s\n",
            "159:\tlearn: 1.0895769\ttotal: 5m 8s\tremaining: 26m 57s\n",
            "160:\tlearn: 1.0895178\ttotal: 5m 9s\tremaining: 26m 54s\n",
            "161:\tlearn: 1.0894641\ttotal: 5m 11s\tremaining: 26m 51s\n",
            "162:\tlearn: 1.0894078\ttotal: 5m 13s\tremaining: 26m 51s\n",
            "163:\tlearn: 1.0893599\ttotal: 5m 15s\tremaining: 26m 48s\n",
            "164:\tlearn: 1.0893155\ttotal: 5m 17s\tremaining: 26m 48s\n",
            "165:\tlearn: 1.0892516\ttotal: 5m 19s\tremaining: 26m 46s\n",
            "166:\tlearn: 1.0891921\ttotal: 5m 21s\tremaining: 26m 43s\n",
            "167:\tlearn: 1.0891204\ttotal: 5m 23s\tremaining: 26m 40s\n",
            "168:\tlearn: 1.0890671\ttotal: 5m 24s\tremaining: 26m 37s\n",
            "169:\tlearn: 1.0890147\ttotal: 5m 27s\tremaining: 26m 37s\n",
            "170:\tlearn: 1.0889564\ttotal: 5m 29s\tremaining: 26m 35s\n",
            "171:\tlearn: 1.0888960\ttotal: 5m 31s\tremaining: 26m 34s\n",
            "172:\tlearn: 1.0888248\ttotal: 5m 33s\tremaining: 26m 34s\n",
            "173:\tlearn: 1.0887589\ttotal: 5m 35s\tremaining: 26m 33s\n",
            "174:\tlearn: 1.0887013\ttotal: 5m 37s\tremaining: 26m 31s\n",
            "175:\tlearn: 1.0886473\ttotal: 5m 39s\tremaining: 26m 30s\n",
            "176:\tlearn: 1.0885928\ttotal: 5m 41s\tremaining: 26m 27s\n",
            "177:\tlearn: 1.0885313\ttotal: 5m 43s\tremaining: 26m 24s\n",
            "178:\tlearn: 1.0884776\ttotal: 5m 45s\tremaining: 26m 26s\n",
            "179:\tlearn: 1.0884206\ttotal: 5m 47s\tremaining: 26m 23s\n",
            "180:\tlearn: 1.0883705\ttotal: 5m 49s\tremaining: 26m 20s\n",
            "181:\tlearn: 1.0883161\ttotal: 5m 51s\tremaining: 26m 20s\n",
            "182:\tlearn: 1.0882584\ttotal: 5m 53s\tremaining: 26m 18s\n",
            "183:\tlearn: 1.0882028\ttotal: 5m 55s\tremaining: 26m 18s\n",
            "184:\tlearn: 1.0881507\ttotal: 5m 57s\tremaining: 26m 15s\n",
            "185:\tlearn: 1.0881065\ttotal: 5m 59s\tremaining: 26m 13s\n",
            "186:\tlearn: 1.0880659\ttotal: 6m 1s\tremaining: 26m 12s\n",
            "187:\tlearn: 1.0880153\ttotal: 6m 3s\tremaining: 26m 11s\n",
            "188:\tlearn: 1.0879637\ttotal: 6m 5s\tremaining: 26m 8s\n",
            "189:\tlearn: 1.0879077\ttotal: 6m 7s\tremaining: 26m 5s\n",
            "190:\tlearn: 1.0878314\ttotal: 6m 9s\tremaining: 26m 4s\n",
            "191:\tlearn: 1.0877577\ttotal: 6m 11s\tremaining: 26m 2s\n",
            "192:\tlearn: 1.0877042\ttotal: 6m 13s\tremaining: 26m\n",
            "193:\tlearn: 1.0876385\ttotal: 6m 14s\tremaining: 25m 57s\n",
            "194:\tlearn: 1.0875704\ttotal: 6m 17s\tremaining: 25m 57s\n",
            "195:\tlearn: 1.0875186\ttotal: 6m 18s\tremaining: 25m 54s\n",
            "196:\tlearn: 1.0874800\ttotal: 6m 20s\tremaining: 25m 52s\n",
            "197:\tlearn: 1.0874236\ttotal: 6m 23s\tremaining: 25m 52s\n",
            "198:\tlearn: 1.0873630\ttotal: 6m 24s\tremaining: 25m 49s\n",
            "199:\tlearn: 1.0872703\ttotal: 6m 26s\tremaining: 25m 45s\n",
            "200:\tlearn: 1.0872222\ttotal: 6m 28s\tremaining: 25m 43s\n",
            "201:\tlearn: 1.0871495\ttotal: 6m 30s\tremaining: 25m 42s\n",
            "202:\tlearn: 1.0870876\ttotal: 6m 32s\tremaining: 25m 39s\n",
            "203:\tlearn: 1.0870260\ttotal: 6m 34s\tremaining: 25m 38s\n",
            "204:\tlearn: 1.0869594\ttotal: 6m 36s\tremaining: 25m 36s\n",
            "205:\tlearn: 1.0869043\ttotal: 6m 37s\tremaining: 25m 33s\n",
            "206:\tlearn: 1.0868387\ttotal: 6m 39s\tremaining: 25m 30s\n",
            "207:\tlearn: 1.0867740\ttotal: 6m 41s\tremaining: 25m 30s\n",
            "208:\tlearn: 1.0867132\ttotal: 6m 43s\tremaining: 25m 28s\n",
            "209:\tlearn: 1.0866666\ttotal: 6m 45s\tremaining: 25m 24s\n",
            "210:\tlearn: 1.0866071\ttotal: 6m 47s\tremaining: 25m 23s\n",
            "211:\tlearn: 1.0865488\ttotal: 6m 49s\tremaining: 25m 23s\n",
            "212:\tlearn: 1.0864993\ttotal: 6m 51s\tremaining: 25m 21s\n",
            "213:\tlearn: 1.0864351\ttotal: 6m 53s\tremaining: 25m 18s\n",
            "214:\tlearn: 1.0863909\ttotal: 6m 53s\tremaining: 25m 10s\n",
            "215:\tlearn: 1.0863252\ttotal: 6m 55s\tremaining: 25m 9s\n",
            "216:\tlearn: 1.0862728\ttotal: 6m 57s\tremaining: 25m 7s\n",
            "217:\tlearn: 1.0862161\ttotal: 7m\tremaining: 25m 6s\n",
            "218:\tlearn: 1.0861659\ttotal: 7m 2s\tremaining: 25m 5s\n",
            "219:\tlearn: 1.0861224\ttotal: 7m 4s\tremaining: 25m 3s\n",
            "220:\tlearn: 1.0860518\ttotal: 7m 5s\tremaining: 24m 59s\n",
            "221:\tlearn: 1.0860072\ttotal: 7m 7s\tremaining: 24m 58s\n",
            "222:\tlearn: 1.0859541\ttotal: 7m 9s\tremaining: 24m 57s\n",
            "223:\tlearn: 1.0859014\ttotal: 7m 13s\tremaining: 25m\n",
            "224:\tlearn: 1.0858484\ttotal: 7m 14s\tremaining: 24m 57s\n",
            "225:\tlearn: 1.0857688\ttotal: 7m 17s\tremaining: 24m 56s\n",
            "226:\tlearn: 1.0857118\ttotal: 7m 18s\tremaining: 24m 54s\n",
            "227:\tlearn: 1.0856431\ttotal: 7m 21s\tremaining: 24m 53s\n",
            "228:\tlearn: 1.0855943\ttotal: 7m 23s\tremaining: 24m 51s\n",
            "229:\tlearn: 1.0855174\ttotal: 7m 24s\tremaining: 24m 48s\n",
            "230:\tlearn: 1.0854412\ttotal: 7m 26s\tremaining: 24m 46s\n",
            "231:\tlearn: 1.0853674\ttotal: 7m 28s\tremaining: 24m 44s\n",
            "232:\tlearn: 1.0853076\ttotal: 7m 30s\tremaining: 24m 42s\n",
            "233:\tlearn: 1.0852457\ttotal: 7m 32s\tremaining: 24m 41s\n",
            "234:\tlearn: 1.0852000\ttotal: 7m 34s\tremaining: 24m 39s\n",
            "235:\tlearn: 1.0851460\ttotal: 7m 36s\tremaining: 24m 37s\n",
            "236:\tlearn: 1.0850913\ttotal: 7m 38s\tremaining: 24m 36s\n",
            "237:\tlearn: 1.0850322\ttotal: 7m 40s\tremaining: 24m 33s\n",
            "238:\tlearn: 1.0849798\ttotal: 7m 42s\tremaining: 24m 33s\n",
            "239:\tlearn: 1.0849139\ttotal: 7m 44s\tremaining: 24m 31s\n",
            "240:\tlearn: 1.0848437\ttotal: 7m 46s\tremaining: 24m 29s\n",
            "241:\tlearn: 1.0847801\ttotal: 7m 48s\tremaining: 24m 28s\n",
            "242:\tlearn: 1.0847290\ttotal: 7m 50s\tremaining: 24m 26s\n",
            "243:\tlearn: 1.0846714\ttotal: 7m 52s\tremaining: 24m 25s\n",
            "244:\tlearn: 1.0846274\ttotal: 7m 55s\tremaining: 24m 24s\n",
            "245:\tlearn: 1.0845674\ttotal: 7m 57s\tremaining: 24m 23s\n",
            "246:\tlearn: 1.0845130\ttotal: 7m 59s\tremaining: 24m 21s\n",
            "247:\tlearn: 1.0844530\ttotal: 8m 1s\tremaining: 24m 20s\n",
            "248:\tlearn: 1.0844032\ttotal: 8m 4s\tremaining: 24m 20s\n",
            "249:\tlearn: 1.0843551\ttotal: 8m 5s\tremaining: 24m 17s\n",
            "250:\tlearn: 1.0842964\ttotal: 8m 7s\tremaining: 24m 13s\n",
            "251:\tlearn: 1.0842384\ttotal: 8m 8s\tremaining: 24m 11s\n",
            "252:\tlearn: 1.0841828\ttotal: 8m 10s\tremaining: 24m 9s\n",
            "253:\tlearn: 1.0841313\ttotal: 8m 12s\tremaining: 24m 6s\n",
            "254:\tlearn: 1.0840774\ttotal: 8m 15s\tremaining: 24m 6s\n",
            "255:\tlearn: 1.0840342\ttotal: 8m 17s\tremaining: 24m 4s\n",
            "256:\tlearn: 1.0839819\ttotal: 8m 18s\tremaining: 24m 2s\n",
            "257:\tlearn: 1.0839290\ttotal: 8m 20s\tremaining: 24m\n",
            "258:\tlearn: 1.0838615\ttotal: 8m 22s\tremaining: 23m 57s\n",
            "259:\tlearn: 1.0838106\ttotal: 8m 24s\tremaining: 23m 56s\n",
            "260:\tlearn: 1.0837494\ttotal: 8m 26s\tremaining: 23m 53s\n",
            "261:\tlearn: 1.0836973\ttotal: 8m 28s\tremaining: 23m 52s\n",
            "262:\tlearn: 1.0836384\ttotal: 8m 30s\tremaining: 23m 50s\n",
            "263:\tlearn: 1.0835865\ttotal: 8m 32s\tremaining: 23m 48s\n",
            "264:\tlearn: 1.0835240\ttotal: 8m 33s\tremaining: 23m 45s\n",
            "265:\tlearn: 1.0834824\ttotal: 8m 35s\tremaining: 23m 43s\n",
            "266:\tlearn: 1.0834275\ttotal: 8m 38s\tremaining: 23m 44s\n",
            "267:\tlearn: 1.0833630\ttotal: 8m 41s\tremaining: 23m 43s\n",
            "268:\tlearn: 1.0833107\ttotal: 8m 42s\tremaining: 23m 40s\n",
            "269:\tlearn: 1.0832492\ttotal: 8m 44s\tremaining: 23m 38s\n",
            "270:\tlearn: 1.0831829\ttotal: 8m 46s\tremaining: 23m 35s\n",
            "271:\tlearn: 1.0831274\ttotal: 8m 48s\tremaining: 23m 34s\n",
            "272:\tlearn: 1.0830715\ttotal: 8m 50s\tremaining: 23m 31s\n",
            "273:\tlearn: 1.0830320\ttotal: 8m 50s\tremaining: 23m 24s\n",
            "274:\tlearn: 1.0829969\ttotal: 8m 51s\tremaining: 23m 22s\n",
            "275:\tlearn: 1.0829257\ttotal: 8m 53s\tremaining: 23m 19s\n",
            "276:\tlearn: 1.0828741\ttotal: 8m 55s\tremaining: 23m 17s\n",
            "277:\tlearn: 1.0828157\ttotal: 8m 57s\tremaining: 23m 15s\n",
            "278:\tlearn: 1.0827439\ttotal: 8m 59s\tremaining: 23m 15s\n",
            "279:\tlearn: 1.0826955\ttotal: 9m 2s\tremaining: 23m 13s\n",
            "280:\tlearn: 1.0826448\ttotal: 9m 4s\tremaining: 23m 12s\n",
            "281:\tlearn: 1.0825901\ttotal: 9m 5s\tremaining: 23m 10s\n",
            "282:\tlearn: 1.0825313\ttotal: 9m 7s\tremaining: 23m 7s\n",
            "283:\tlearn: 1.0824734\ttotal: 9m 10s\tremaining: 23m 6s\n",
            "284:\tlearn: 1.0824237\ttotal: 9m 12s\tremaining: 23m 4s\n",
            "285:\tlearn: 1.0823677\ttotal: 9m 13s\tremaining: 23m 2s\n",
            "286:\tlearn: 1.0823087\ttotal: 9m 15s\tremaining: 23m\n",
            "287:\tlearn: 1.0822590\ttotal: 9m 17s\tremaining: 22m 58s\n",
            "288:\tlearn: 1.0822007\ttotal: 9m 19s\tremaining: 22m 56s\n",
            "289:\tlearn: 1.0821423\ttotal: 9m 21s\tremaining: 22m 54s\n",
            "290:\tlearn: 1.0820792\ttotal: 9m 22s\tremaining: 22m 51s\n",
            "291:\tlearn: 1.0820099\ttotal: 9m 24s\tremaining: 22m 49s\n",
            "292:\tlearn: 1.0819635\ttotal: 9m 26s\tremaining: 22m 47s\n",
            "293:\tlearn: 1.0819077\ttotal: 9m 28s\tremaining: 22m 45s\n",
            "294:\tlearn: 1.0818583\ttotal: 9m 31s\tremaining: 22m 44s\n",
            "295:\tlearn: 1.0817964\ttotal: 9m 33s\tremaining: 22m 43s\n",
            "296:\tlearn: 1.0817411\ttotal: 9m 35s\tremaining: 22m 41s\n",
            "297:\tlearn: 1.0816876\ttotal: 9m 37s\tremaining: 22m 39s\n",
            "298:\tlearn: 1.0816325\ttotal: 9m 39s\tremaining: 22m 39s\n",
            "299:\tlearn: 1.0815874\ttotal: 9m 41s\tremaining: 22m 36s\n",
            "300:\tlearn: 1.0815194\ttotal: 9m 43s\tremaining: 22m 34s\n",
            "301:\tlearn: 1.0814812\ttotal: 9m 45s\tremaining: 22m 33s\n",
            "302:\tlearn: 1.0814133\ttotal: 9m 47s\tremaining: 22m 31s\n",
            "303:\tlearn: 1.0813691\ttotal: 9m 49s\tremaining: 22m 29s\n",
            "304:\tlearn: 1.0813116\ttotal: 9m 51s\tremaining: 22m 27s\n",
            "305:\tlearn: 1.0812826\ttotal: 9m 51s\tremaining: 22m 21s\n",
            "306:\tlearn: 1.0812243\ttotal: 9m 53s\tremaining: 22m 20s\n",
            "307:\tlearn: 1.0811600\ttotal: 9m 55s\tremaining: 22m 17s\n",
            "308:\tlearn: 1.0810955\ttotal: 9m 57s\tremaining: 22m 15s\n",
            "309:\tlearn: 1.0810550\ttotal: 9m 57s\tremaining: 22m 10s\n",
            "310:\tlearn: 1.0810023\ttotal: 9m 59s\tremaining: 22m 9s\n",
            "311:\tlearn: 1.0809651\ttotal: 10m 2s\tremaining: 22m 7s\n",
            "312:\tlearn: 1.0809109\ttotal: 10m 4s\tremaining: 22m 5s\n",
            "313:\tlearn: 1.0808476\ttotal: 10m 6s\tremaining: 22m 4s\n",
            "314:\tlearn: 1.0808016\ttotal: 10m 8s\tremaining: 22m 2s\n",
            "315:\tlearn: 1.0807591\ttotal: 10m 10s\tremaining: 22m\n",
            "316:\tlearn: 1.0806866\ttotal: 10m 12s\tremaining: 21m 58s\n",
            "317:\tlearn: 1.0806319\ttotal: 10m 14s\tremaining: 21m 57s\n",
            "318:\tlearn: 1.0805768\ttotal: 10m 16s\tremaining: 21m 55s\n",
            "319:\tlearn: 1.0805168\ttotal: 10m 18s\tremaining: 21m 53s\n",
            "320:\tlearn: 1.0804708\ttotal: 10m 19s\tremaining: 21m 51s\n",
            "321:\tlearn: 1.0804239\ttotal: 10m 22s\tremaining: 21m 50s\n",
            "322:\tlearn: 1.0803694\ttotal: 10m 24s\tremaining: 21m 48s\n",
            "323:\tlearn: 1.0803151\ttotal: 10m 26s\tremaining: 21m 46s\n",
            "324:\tlearn: 1.0802428\ttotal: 10m 28s\tremaining: 21m 45s\n",
            "325:\tlearn: 1.0801946\ttotal: 10m 30s\tremaining: 21m 43s\n",
            "326:\tlearn: 1.0801388\ttotal: 10m 32s\tremaining: 21m 42s\n",
            "327:\tlearn: 1.0800989\ttotal: 10m 34s\tremaining: 21m 40s\n",
            "328:\tlearn: 1.0800548\ttotal: 10m 36s\tremaining: 21m 38s\n",
            "329:\tlearn: 1.0799976\ttotal: 10m 38s\tremaining: 21m 37s\n",
            "330:\tlearn: 1.0799274\ttotal: 10m 40s\tremaining: 21m 35s\n",
            "331:\tlearn: 1.0798800\ttotal: 10m 42s\tremaining: 21m 33s\n",
            "332:\tlearn: 1.0798358\ttotal: 10m 45s\tremaining: 21m 32s\n",
            "333:\tlearn: 1.0797892\ttotal: 10m 46s\tremaining: 21m 29s\n",
            "334:\tlearn: 1.0797219\ttotal: 10m 48s\tremaining: 21m 28s\n",
            "335:\tlearn: 1.0796588\ttotal: 10m 51s\tremaining: 21m 26s\n",
            "336:\tlearn: 1.0795904\ttotal: 10m 53s\tremaining: 21m 25s\n",
            "337:\tlearn: 1.0795156\ttotal: 10m 55s\tremaining: 21m 23s\n",
            "338:\tlearn: 1.0794552\ttotal: 10m 57s\tremaining: 21m 22s\n",
            "339:\tlearn: 1.0794141\ttotal: 10m 59s\tremaining: 21m 21s\n",
            "340:\tlearn: 1.0793563\ttotal: 11m 1s\tremaining: 21m 18s\n",
            "341:\tlearn: 1.0792947\ttotal: 11m 3s\tremaining: 21m 16s\n",
            "342:\tlearn: 1.0792545\ttotal: 11m 5s\tremaining: 21m 14s\n",
            "343:\tlearn: 1.0791844\ttotal: 11m 7s\tremaining: 21m 13s\n",
            "344:\tlearn: 1.0791092\ttotal: 11m 9s\tremaining: 21m 11s\n",
            "345:\tlearn: 1.0790081\ttotal: 11m 11s\tremaining: 21m 8s\n",
            "346:\tlearn: 1.0789545\ttotal: 11m 13s\tremaining: 21m 6s\n",
            "347:\tlearn: 1.0789065\ttotal: 11m 14s\tremaining: 21m 4s\n",
            "348:\tlearn: 1.0788642\ttotal: 11m 17s\tremaining: 21m 2s\n",
            "349:\tlearn: 1.0787978\ttotal: 11m 18s\tremaining: 20m 59s\n",
            "350:\tlearn: 1.0787443\ttotal: 11m 20s\tremaining: 20m 57s\n",
            "351:\tlearn: 1.0787035\ttotal: 11m 22s\tremaining: 20m 56s\n",
            "352:\tlearn: 1.0786416\ttotal: 11m 24s\tremaining: 20m 54s\n",
            "353:\tlearn: 1.0785831\ttotal: 11m 26s\tremaining: 20m 52s\n",
            "354:\tlearn: 1.0785318\ttotal: 11m 28s\tremaining: 20m 50s\n",
            "355:\tlearn: 1.0784694\ttotal: 11m 30s\tremaining: 20m 48s\n",
            "356:\tlearn: 1.0784052\ttotal: 11m 32s\tremaining: 20m 47s\n",
            "357:\tlearn: 1.0783464\ttotal: 11m 34s\tremaining: 20m 45s\n",
            "358:\tlearn: 1.0782789\ttotal: 11m 36s\tremaining: 20m 43s\n",
            "359:\tlearn: 1.0782256\ttotal: 11m 38s\tremaining: 20m 42s\n",
            "360:\tlearn: 1.0781733\ttotal: 11m 40s\tremaining: 20m 40s\n",
            "361:\tlearn: 1.0780870\ttotal: 11m 42s\tremaining: 20m 37s\n",
            "362:\tlearn: 1.0780343\ttotal: 11m 44s\tremaining: 20m 35s\n",
            "363:\tlearn: 1.0779847\ttotal: 11m 45s\tremaining: 20m 32s\n",
            "364:\tlearn: 1.0779133\ttotal: 11m 47s\tremaining: 20m 30s\n",
            "365:\tlearn: 1.0778548\ttotal: 11m 49s\tremaining: 20m 28s\n",
            "366:\tlearn: 1.0778099\ttotal: 11m 51s\tremaining: 20m 26s\n",
            "367:\tlearn: 1.0777623\ttotal: 11m 53s\tremaining: 20m 25s\n",
            "368:\tlearn: 1.0777102\ttotal: 11m 55s\tremaining: 20m 23s\n",
            "369:\tlearn: 1.0776478\ttotal: 11m 57s\tremaining: 20m 21s\n",
            "370:\tlearn: 1.0776042\ttotal: 11m 59s\tremaining: 20m 19s\n",
            "371:\tlearn: 1.0775607\ttotal: 12m\tremaining: 20m 16s\n",
            "372:\tlearn: 1.0775313\ttotal: 12m\tremaining: 20m 11s\n",
            "373:\tlearn: 1.0774911\ttotal: 12m 1s\tremaining: 20m 7s\n",
            "374:\tlearn: 1.0774452\ttotal: 12m 3s\tremaining: 20m 5s\n",
            "375:\tlearn: 1.0773926\ttotal: 12m 5s\tremaining: 20m 3s\n",
            "376:\tlearn: 1.0773258\ttotal: 12m 7s\tremaining: 20m 2s\n",
            "377:\tlearn: 1.0772772\ttotal: 12m 9s\tremaining: 20m\n",
            "378:\tlearn: 1.0772241\ttotal: 12m 11s\tremaining: 19m 58s\n",
            "379:\tlearn: 1.0771522\ttotal: 12m 13s\tremaining: 19m 56s\n",
            "380:\tlearn: 1.0770884\ttotal: 12m 15s\tremaining: 19m 54s\n",
            "381:\tlearn: 1.0770384\ttotal: 12m 16s\tremaining: 19m 51s\n",
            "382:\tlearn: 1.0769795\ttotal: 12m 18s\tremaining: 19m 49s\n",
            "383:\tlearn: 1.0769205\ttotal: 12m 20s\tremaining: 19m 48s\n",
            "384:\tlearn: 1.0768389\ttotal: 12m 21s\tremaining: 19m 45s\n",
            "385:\tlearn: 1.0767751\ttotal: 12m 23s\tremaining: 19m 43s\n",
            "386:\tlearn: 1.0767268\ttotal: 12m 25s\tremaining: 19m 41s\n",
            "387:\tlearn: 1.0766902\ttotal: 12m 28s\tremaining: 19m 40s\n",
            "388:\tlearn: 1.0766449\ttotal: 12m 29s\tremaining: 19m 37s\n",
            "389:\tlearn: 1.0765836\ttotal: 12m 31s\tremaining: 19m 35s\n",
            "390:\tlearn: 1.0765305\ttotal: 12m 33s\tremaining: 19m 33s\n",
            "391:\tlearn: 1.0764723\ttotal: 12m 35s\tremaining: 19m 32s\n",
            "392:\tlearn: 1.0764200\ttotal: 12m 38s\tremaining: 19m 31s\n",
            "393:\tlearn: 1.0763809\ttotal: 12m 40s\tremaining: 19m 29s\n",
            "394:\tlearn: 1.0763374\ttotal: 12m 42s\tremaining: 19m 27s\n",
            "395:\tlearn: 1.0762743\ttotal: 12m 43s\tremaining: 19m 25s\n",
            "396:\tlearn: 1.0762313\ttotal: 12m 46s\tremaining: 19m 23s\n",
            "397:\tlearn: 1.0761759\ttotal: 12m 47s\tremaining: 19m 21s\n",
            "398:\tlearn: 1.0761364\ttotal: 12m 49s\tremaining: 19m 19s\n",
            "399:\tlearn: 1.0760703\ttotal: 12m 51s\tremaining: 19m 16s\n",
            "400:\tlearn: 1.0760120\ttotal: 12m 53s\tremaining: 19m 14s\n",
            "401:\tlearn: 1.0759630\ttotal: 12m 55s\tremaining: 19m 13s\n",
            "402:\tlearn: 1.0759154\ttotal: 12m 57s\tremaining: 19m 11s\n",
            "403:\tlearn: 1.0758736\ttotal: 12m 59s\tremaining: 19m 9s\n",
            "404:\tlearn: 1.0758273\ttotal: 13m\tremaining: 19m 7s\n",
            "405:\tlearn: 1.0757847\ttotal: 13m 3s\tremaining: 19m 5s\n",
            "406:\tlearn: 1.0757389\ttotal: 13m 5s\tremaining: 19m 3s\n",
            "407:\tlearn: 1.0756853\ttotal: 13m 7s\tremaining: 19m 2s\n",
            "408:\tlearn: 1.0756328\ttotal: 13m 9s\tremaining: 19m\n",
            "409:\tlearn: 1.0755812\ttotal: 13m 11s\tremaining: 18m 59s\n",
            "410:\tlearn: 1.0755287\ttotal: 13m 13s\tremaining: 18m 57s\n",
            "411:\tlearn: 1.0754694\ttotal: 13m 15s\tremaining: 18m 55s\n",
            "412:\tlearn: 1.0754234\ttotal: 13m 17s\tremaining: 18m 54s\n",
            "413:\tlearn: 1.0753622\ttotal: 13m 19s\tremaining: 18m 52s\n",
            "414:\tlearn: 1.0753188\ttotal: 13m 21s\tremaining: 18m 49s\n",
            "415:\tlearn: 1.0752510\ttotal: 13m 23s\tremaining: 18m 48s\n",
            "416:\tlearn: 1.0751852\ttotal: 13m 25s\tremaining: 18m 46s\n",
            "417:\tlearn: 1.0751161\ttotal: 13m 27s\tremaining: 18m 43s\n",
            "418:\tlearn: 1.0750583\ttotal: 13m 29s\tremaining: 18m 41s\n",
            "419:\tlearn: 1.0749824\ttotal: 13m 31s\tremaining: 18m 40s\n",
            "420:\tlearn: 1.0749364\ttotal: 13m 33s\tremaining: 18m 38s\n",
            "421:\tlearn: 1.0748642\ttotal: 13m 35s\tremaining: 18m 36s\n",
            "422:\tlearn: 1.0748369\ttotal: 13m 35s\tremaining: 18m 32s\n",
            "423:\tlearn: 1.0747895\ttotal: 13m 37s\tremaining: 18m 30s\n",
            "424:\tlearn: 1.0747288\ttotal: 13m 39s\tremaining: 18m 28s\n",
            "425:\tlearn: 1.0746644\ttotal: 13m 41s\tremaining: 18m 26s\n",
            "426:\tlearn: 1.0746076\ttotal: 13m 43s\tremaining: 18m 24s\n",
            "427:\tlearn: 1.0745446\ttotal: 13m 45s\tremaining: 18m 23s\n",
            "428:\tlearn: 1.0744840\ttotal: 13m 47s\tremaining: 18m 21s\n",
            "429:\tlearn: 1.0744219\ttotal: 13m 49s\tremaining: 18m 20s\n",
            "430:\tlearn: 1.0743666\ttotal: 13m 51s\tremaining: 18m 18s\n",
            "431:\tlearn: 1.0743223\ttotal: 13m 53s\tremaining: 18m 15s\n",
            "432:\tlearn: 1.0742551\ttotal: 13m 55s\tremaining: 18m 13s\n",
            "433:\tlearn: 1.0742169\ttotal: 13m 55s\tremaining: 18m 9s\n",
            "434:\tlearn: 1.0741688\ttotal: 13m 57s\tremaining: 18m 7s\n",
            "435:\tlearn: 1.0741208\ttotal: 13m 59s\tremaining: 18m 5s\n",
            "436:\tlearn: 1.0740746\ttotal: 14m 1s\tremaining: 18m 3s\n",
            "437:\tlearn: 1.0740210\ttotal: 14m 3s\tremaining: 18m 2s\n",
            "438:\tlearn: 1.0739694\ttotal: 14m 5s\tremaining: 18m\n",
            "439:\tlearn: 1.0739071\ttotal: 14m 7s\tremaining: 17m 58s\n",
            "440:\tlearn: 1.0738442\ttotal: 14m 9s\tremaining: 17m 56s\n",
            "441:\tlearn: 1.0738105\ttotal: 14m 10s\tremaining: 17m 54s\n",
            "442:\tlearn: 1.0737458\ttotal: 14m 12s\tremaining: 17m 52s\n",
            "443:\tlearn: 1.0736973\ttotal: 14m 14s\tremaining: 17m 49s\n",
            "444:\tlearn: 1.0736375\ttotal: 14m 15s\tremaining: 17m 47s\n",
            "445:\tlearn: 1.0735854\ttotal: 14m 18s\tremaining: 17m 45s\n",
            "446:\tlearn: 1.0735588\ttotal: 14m 18s\tremaining: 17m 41s\n",
            "447:\tlearn: 1.0734895\ttotal: 14m 19s\tremaining: 17m 39s\n",
            "448:\tlearn: 1.0734395\ttotal: 14m 22s\tremaining: 17m 38s\n",
            "449:\tlearn: 1.0733843\ttotal: 14m 24s\tremaining: 17m 36s\n",
            "450:\tlearn: 1.0733253\ttotal: 14m 25s\tremaining: 17m 34s\n",
            "451:\tlearn: 1.0732722\ttotal: 14m 27s\tremaining: 17m 32s\n",
            "452:\tlearn: 1.0732186\ttotal: 14m 29s\tremaining: 17m 30s\n",
            "453:\tlearn: 1.0731583\ttotal: 14m 31s\tremaining: 17m 28s\n",
            "454:\tlearn: 1.0730938\ttotal: 14m 33s\tremaining: 17m 26s\n",
            "455:\tlearn: 1.0730450\ttotal: 14m 35s\tremaining: 17m 24s\n",
            "456:\tlearn: 1.0729877\ttotal: 14m 37s\tremaining: 17m 22s\n",
            "457:\tlearn: 1.0729269\ttotal: 14m 39s\tremaining: 17m 20s\n",
            "458:\tlearn: 1.0728765\ttotal: 14m 41s\tremaining: 17m 19s\n",
            "459:\tlearn: 1.0728286\ttotal: 14m 43s\tremaining: 17m 17s\n",
            "460:\tlearn: 1.0727702\ttotal: 14m 45s\tremaining: 17m 15s\n",
            "461:\tlearn: 1.0727203\ttotal: 14m 47s\tremaining: 17m 13s\n",
            "462:\tlearn: 1.0726610\ttotal: 14m 49s\tremaining: 17m 11s\n",
            "463:\tlearn: 1.0726069\ttotal: 14m 50s\tremaining: 17m 8s\n",
            "464:\tlearn: 1.0725511\ttotal: 14m 52s\tremaining: 17m 7s\n",
            "465:\tlearn: 1.0724825\ttotal: 14m 54s\tremaining: 17m 5s\n",
            "466:\tlearn: 1.0724502\ttotal: 14m 54s\tremaining: 17m 1s\n",
            "467:\tlearn: 1.0723897\ttotal: 14m 56s\tremaining: 16m 58s\n",
            "468:\tlearn: 1.0723418\ttotal: 14m 57s\tremaining: 16m 56s\n",
            "469:\tlearn: 1.0722913\ttotal: 14m 59s\tremaining: 16m 54s\n",
            "470:\tlearn: 1.0722411\ttotal: 15m 1s\tremaining: 16m 52s\n",
            "471:\tlearn: 1.0721836\ttotal: 15m 3s\tremaining: 16m 50s\n",
            "472:\tlearn: 1.0721287\ttotal: 15m 6s\tremaining: 16m 49s\n",
            "473:\tlearn: 1.0720573\ttotal: 15m 8s\tremaining: 16m 47s\n",
            "474:\tlearn: 1.0719966\ttotal: 15m 9s\tremaining: 16m 45s\n",
            "475:\tlearn: 1.0719387\ttotal: 15m 11s\tremaining: 16m 43s\n",
            "476:\tlearn: 1.0718949\ttotal: 15m 13s\tremaining: 16m 41s\n",
            "477:\tlearn: 1.0718303\ttotal: 15m 14s\tremaining: 16m 38s\n",
            "478:\tlearn: 1.0717747\ttotal: 15m 16s\tremaining: 16m 36s\n",
            "479:\tlearn: 1.0717165\ttotal: 15m 18s\tremaining: 16m 34s\n",
            "480:\tlearn: 1.0716561\ttotal: 15m 20s\tremaining: 16m 33s\n",
            "481:\tlearn: 1.0716018\ttotal: 15m 22s\tremaining: 16m 31s\n",
            "482:\tlearn: 1.0715344\ttotal: 15m 23s\tremaining: 16m 29s\n",
            "483:\tlearn: 1.0714780\ttotal: 15m 25s\tremaining: 16m 26s\n",
            "484:\tlearn: 1.0714152\ttotal: 15m 27s\tremaining: 16m 24s\n",
            "485:\tlearn: 1.0713467\ttotal: 15m 29s\tremaining: 16m 22s\n",
            "486:\tlearn: 1.0713159\ttotal: 15m 29s\tremaining: 16m 19s\n",
            "487:\tlearn: 1.0712655\ttotal: 15m 31s\tremaining: 16m 17s\n",
            "488:\tlearn: 1.0712264\ttotal: 15m 33s\tremaining: 16m 15s\n",
            "489:\tlearn: 1.0711701\ttotal: 15m 35s\tremaining: 16m 13s\n",
            "490:\tlearn: 1.0711216\ttotal: 15m 37s\tremaining: 16m 11s\n",
            "491:\tlearn: 1.0710605\ttotal: 15m 39s\tremaining: 16m 9s\n",
            "492:\tlearn: 1.0709966\ttotal: 15m 41s\tremaining: 16m 7s\n",
            "493:\tlearn: 1.0709534\ttotal: 15m 43s\tremaining: 16m 6s\n",
            "494:\tlearn: 1.0709043\ttotal: 15m 45s\tremaining: 16m 4s\n",
            "495:\tlearn: 1.0708317\ttotal: 15m 47s\tremaining: 16m 2s\n",
            "496:\tlearn: 1.0707815\ttotal: 15m 49s\tremaining: 16m\n",
            "497:\tlearn: 1.0707281\ttotal: 15m 51s\tremaining: 15m 58s\n",
            "498:\tlearn: 1.0706749\ttotal: 15m 53s\tremaining: 15m 57s\n",
            "499:\tlearn: 1.0706128\ttotal: 15m 55s\tremaining: 15m 55s\n",
            "500:\tlearn: 1.0705451\ttotal: 15m 57s\tremaining: 15m 53s\n",
            "501:\tlearn: 1.0704931\ttotal: 15m 58s\tremaining: 15m 51s\n",
            "502:\tlearn: 1.0704362\ttotal: 16m\tremaining: 15m 49s\n",
            "503:\tlearn: 1.0703929\ttotal: 16m 2s\tremaining: 15m 47s\n",
            "504:\tlearn: 1.0703375\ttotal: 16m 4s\tremaining: 15m 45s\n",
            "505:\tlearn: 1.0702832\ttotal: 16m 6s\tremaining: 15m 43s\n",
            "506:\tlearn: 1.0702223\ttotal: 16m 8s\tremaining: 15m 41s\n",
            "507:\tlearn: 1.0701711\ttotal: 16m 9s\tremaining: 15m 39s\n",
            "508:\tlearn: 1.0701214\ttotal: 16m 12s\tremaining: 15m 37s\n",
            "509:\tlearn: 1.0700718\ttotal: 16m 13s\tremaining: 15m 35s\n",
            "510:\tlearn: 1.0700184\ttotal: 16m 16s\tremaining: 15m 34s\n",
            "511:\tlearn: 1.0699761\ttotal: 16m 17s\tremaining: 15m 32s\n",
            "512:\tlearn: 1.0699045\ttotal: 16m 19s\tremaining: 15m 30s\n",
            "513:\tlearn: 1.0698335\ttotal: 16m 22s\tremaining: 15m 28s\n",
            "514:\tlearn: 1.0697548\ttotal: 16m 23s\tremaining: 15m 26s\n",
            "515:\tlearn: 1.0697044\ttotal: 16m 25s\tremaining: 15m 24s\n",
            "516:\tlearn: 1.0696515\ttotal: 16m 27s\tremaining: 15m 23s\n",
            "517:\tlearn: 1.0695878\ttotal: 16m 30s\tremaining: 15m 21s\n",
            "518:\tlearn: 1.0695267\ttotal: 16m 32s\tremaining: 15m 19s\n",
            "519:\tlearn: 1.0694660\ttotal: 16m 33s\tremaining: 15m 17s\n",
            "520:\tlearn: 1.0693937\ttotal: 16m 35s\tremaining: 15m 15s\n",
            "521:\tlearn: 1.0693418\ttotal: 16m 37s\tremaining: 15m 13s\n",
            "522:\tlearn: 1.0692839\ttotal: 16m 39s\tremaining: 15m 11s\n",
            "523:\tlearn: 1.0692440\ttotal: 16m 41s\tremaining: 15m 9s\n",
            "524:\tlearn: 1.0691935\ttotal: 16m 43s\tremaining: 15m 7s\n",
            "525:\tlearn: 1.0691465\ttotal: 16m 44s\tremaining: 15m 5s\n",
            "526:\tlearn: 1.0690973\ttotal: 16m 47s\tremaining: 15m 3s\n",
            "527:\tlearn: 1.0690355\ttotal: 16m 48s\tremaining: 15m 1s\n",
            "528:\tlearn: 1.0689646\ttotal: 16m 50s\tremaining: 14m 59s\n",
            "529:\tlearn: 1.0689113\ttotal: 16m 52s\tremaining: 14m 57s\n",
            "530:\tlearn: 1.0688629\ttotal: 16m 54s\tremaining: 14m 55s\n",
            "531:\tlearn: 1.0687978\ttotal: 16m 56s\tremaining: 14m 53s\n",
            "532:\tlearn: 1.0687376\ttotal: 16m 58s\tremaining: 14m 52s\n",
            "533:\tlearn: 1.0686818\ttotal: 16m 59s\tremaining: 14m 49s\n",
            "534:\tlearn: 1.0686015\ttotal: 17m 1s\tremaining: 14m 47s\n",
            "535:\tlearn: 1.0685524\ttotal: 17m 3s\tremaining: 14m 46s\n",
            "536:\tlearn: 1.0685141\ttotal: 17m 5s\tremaining: 14m 44s\n",
            "537:\tlearn: 1.0684504\ttotal: 17m 7s\tremaining: 14m 42s\n",
            "538:\tlearn: 1.0684075\ttotal: 17m 9s\tremaining: 14m 40s\n",
            "539:\tlearn: 1.0683575\ttotal: 17m 10s\tremaining: 14m 38s\n",
            "540:\tlearn: 1.0682933\ttotal: 17m 12s\tremaining: 14m 36s\n",
            "541:\tlearn: 1.0682515\ttotal: 17m 14s\tremaining: 14m 33s\n",
            "542:\tlearn: 1.0681943\ttotal: 17m 15s\tremaining: 14m 31s\n",
            "543:\tlearn: 1.0681386\ttotal: 17m 17s\tremaining: 14m 29s\n",
            "544:\tlearn: 1.0680824\ttotal: 17m 19s\tremaining: 14m 27s\n",
            "545:\tlearn: 1.0680150\ttotal: 17m 20s\tremaining: 14m 25s\n",
            "546:\tlearn: 1.0679674\ttotal: 17m 22s\tremaining: 14m 23s\n",
            "547:\tlearn: 1.0679195\ttotal: 17m 24s\tremaining: 14m 21s\n",
            "548:\tlearn: 1.0678837\ttotal: 17m 26s\tremaining: 14m 19s\n",
            "549:\tlearn: 1.0678183\ttotal: 17m 28s\tremaining: 14m 17s\n",
            "550:\tlearn: 1.0677617\ttotal: 17m 30s\tremaining: 14m 16s\n",
            "551:\tlearn: 1.0677135\ttotal: 17m 32s\tremaining: 14m 14s\n",
            "552:\tlearn: 1.0676598\ttotal: 17m 34s\tremaining: 14m 12s\n",
            "553:\tlearn: 1.0676078\ttotal: 17m 36s\tremaining: 14m 10s\n",
            "554:\tlearn: 1.0675521\ttotal: 17m 38s\tremaining: 14m 9s\n",
            "555:\tlearn: 1.0674937\ttotal: 17m 40s\tremaining: 14m 7s\n",
            "556:\tlearn: 1.0674398\ttotal: 17m 43s\tremaining: 14m 5s\n",
            "557:\tlearn: 1.0673913\ttotal: 17m 45s\tremaining: 14m 4s\n",
            "558:\tlearn: 1.0673499\ttotal: 17m 48s\tremaining: 14m 2s\n",
            "559:\tlearn: 1.0672990\ttotal: 17m 50s\tremaining: 14m 1s\n",
            "560:\tlearn: 1.0672537\ttotal: 17m 52s\tremaining: 13m 59s\n",
            "561:\tlearn: 1.0671853\ttotal: 17m 54s\tremaining: 13m 57s\n",
            "562:\tlearn: 1.0671309\ttotal: 17m 56s\tremaining: 13m 55s\n",
            "563:\tlearn: 1.0670795\ttotal: 17m 58s\tremaining: 13m 53s\n",
            "564:\tlearn: 1.0670379\ttotal: 18m\tremaining: 13m 51s\n",
            "565:\tlearn: 1.0669889\ttotal: 18m 1s\tremaining: 13m 49s\n",
            "566:\tlearn: 1.0669401\ttotal: 18m 3s\tremaining: 13m 47s\n",
            "567:\tlearn: 1.0668862\ttotal: 18m 5s\tremaining: 13m 45s\n",
            "568:\tlearn: 1.0668356\ttotal: 18m 7s\tremaining: 13m 43s\n",
            "569:\tlearn: 1.0667936\ttotal: 18m 9s\tremaining: 13m 41s\n",
            "570:\tlearn: 1.0667529\ttotal: 18m 11s\tremaining: 13m 40s\n",
            "571:\tlearn: 1.0667195\ttotal: 18m 11s\tremaining: 13m 37s\n",
            "572:\tlearn: 1.0666599\ttotal: 18m 14s\tremaining: 13m 35s\n",
            "573:\tlearn: 1.0666202\ttotal: 18m 15s\tremaining: 13m 33s\n",
            "574:\tlearn: 1.0665683\ttotal: 18m 17s\tremaining: 13m 31s\n",
            "575:\tlearn: 1.0664788\ttotal: 18m 20s\tremaining: 13m 29s\n",
            "576:\tlearn: 1.0664416\ttotal: 18m 22s\tremaining: 13m 28s\n",
            "577:\tlearn: 1.0663740\ttotal: 18m 24s\tremaining: 13m 26s\n",
            "578:\tlearn: 1.0663342\ttotal: 18m 25s\tremaining: 13m 24s\n",
            "579:\tlearn: 1.0662930\ttotal: 18m 28s\tremaining: 13m 22s\n",
            "580:\tlearn: 1.0662380\ttotal: 18m 30s\tremaining: 13m 20s\n",
            "581:\tlearn: 1.0661899\ttotal: 18m 32s\tremaining: 13m 18s\n",
            "582:\tlearn: 1.0661237\ttotal: 18m 33s\tremaining: 13m 16s\n",
            "583:\tlearn: 1.0660722\ttotal: 18m 35s\tremaining: 13m 14s\n",
            "584:\tlearn: 1.0660289\ttotal: 18m 37s\tremaining: 13m 12s\n",
            "585:\tlearn: 1.0659731\ttotal: 18m 39s\tremaining: 13m 11s\n",
            "586:\tlearn: 1.0659340\ttotal: 18m 41s\tremaining: 13m 9s\n",
            "587:\tlearn: 1.0658770\ttotal: 18m 43s\tremaining: 13m 7s\n",
            "588:\tlearn: 1.0658087\ttotal: 18m 45s\tremaining: 13m 5s\n",
            "589:\tlearn: 1.0657728\ttotal: 18m 47s\tremaining: 13m 3s\n",
            "590:\tlearn: 1.0657090\ttotal: 18m 49s\tremaining: 13m 1s\n",
            "591:\tlearn: 1.0656428\ttotal: 18m 51s\tremaining: 12m 59s\n",
            "592:\tlearn: 1.0655907\ttotal: 18m 52s\tremaining: 12m 57s\n",
            "593:\tlearn: 1.0655445\ttotal: 18m 54s\tremaining: 12m 55s\n",
            "594:\tlearn: 1.0655051\ttotal: 18m 56s\tremaining: 12m 53s\n",
            "595:\tlearn: 1.0654726\ttotal: 18m 57s\tremaining: 12m 50s\n",
            "596:\tlearn: 1.0654180\ttotal: 18m 59s\tremaining: 12m 48s\n",
            "597:\tlearn: 1.0653712\ttotal: 19m 1s\tremaining: 12m 47s\n",
            "598:\tlearn: 1.0653166\ttotal: 19m 3s\tremaining: 12m 45s\n",
            "599:\tlearn: 1.0652842\ttotal: 19m 3s\tremaining: 12m 42s\n",
            "600:\tlearn: 1.0652441\ttotal: 19m 5s\tremaining: 12m 40s\n",
            "601:\tlearn: 1.0651842\ttotal: 19m 8s\tremaining: 12m 39s\n",
            "602:\tlearn: 1.0651468\ttotal: 19m 10s\tremaining: 12m 37s\n",
            "603:\tlearn: 1.0651087\ttotal: 19m 12s\tremaining: 12m 35s\n",
            "604:\tlearn: 1.0650626\ttotal: 19m 14s\tremaining: 12m 33s\n",
            "605:\tlearn: 1.0650065\ttotal: 19m 16s\tremaining: 12m 31s\n",
            "606:\tlearn: 1.0649544\ttotal: 19m 17s\tremaining: 12m 29s\n",
            "607:\tlearn: 1.0649084\ttotal: 19m 19s\tremaining: 12m 27s\n",
            "608:\tlearn: 1.0648608\ttotal: 19m 21s\tremaining: 12m 25s\n",
            "609:\tlearn: 1.0648100\ttotal: 19m 23s\tremaining: 12m 24s\n",
            "610:\tlearn: 1.0647524\ttotal: 19m 25s\tremaining: 12m 22s\n",
            "611:\tlearn: 1.0647070\ttotal: 19m 26s\tremaining: 12m 19s\n",
            "612:\tlearn: 1.0646480\ttotal: 19m 28s\tremaining: 12m 17s\n",
            "613:\tlearn: 1.0645948\ttotal: 19m 30s\tremaining: 12m 15s\n",
            "614:\tlearn: 1.0645313\ttotal: 19m 32s\tremaining: 12m 14s\n",
            "615:\tlearn: 1.0644814\ttotal: 19m 35s\tremaining: 12m 12s\n",
            "616:\tlearn: 1.0644326\ttotal: 19m 37s\tremaining: 12m 10s\n",
            "617:\tlearn: 1.0643856\ttotal: 19m 38s\tremaining: 12m 8s\n",
            "618:\tlearn: 1.0643274\ttotal: 19m 41s\tremaining: 12m 6s\n",
            "619:\tlearn: 1.0642782\ttotal: 19m 43s\tremaining: 12m 5s\n",
            "620:\tlearn: 1.0642286\ttotal: 19m 44s\tremaining: 12m 3s\n",
            "621:\tlearn: 1.0641636\ttotal: 19m 46s\tremaining: 12m 1s\n",
            "622:\tlearn: 1.0641147\ttotal: 19m 49s\tremaining: 11m 59s\n",
            "623:\tlearn: 1.0640535\ttotal: 19m 51s\tremaining: 11m 58s\n",
            "624:\tlearn: 1.0640006\ttotal: 19m 53s\tremaining: 11m 56s\n",
            "625:\tlearn: 1.0639378\ttotal: 19m 55s\tremaining: 11m 54s\n",
            "626:\tlearn: 1.0639010\ttotal: 19m 57s\tremaining: 11m 52s\n",
            "627:\tlearn: 1.0638587\ttotal: 20m\tremaining: 11m 51s\n",
            "628:\tlearn: 1.0638035\ttotal: 20m 2s\tremaining: 11m 49s\n",
            "629:\tlearn: 1.0637387\ttotal: 20m 4s\tremaining: 11m 47s\n",
            "630:\tlearn: 1.0636783\ttotal: 20m 6s\tremaining: 11m 45s\n",
            "631:\tlearn: 1.0636082\ttotal: 20m 8s\tremaining: 11m 43s\n",
            "632:\tlearn: 1.0635560\ttotal: 20m 10s\tremaining: 11m 42s\n",
            "633:\tlearn: 1.0635035\ttotal: 20m 13s\tremaining: 11m 40s\n",
            "634:\tlearn: 1.0634508\ttotal: 20m 15s\tremaining: 11m 38s\n",
            "635:\tlearn: 1.0634059\ttotal: 20m 17s\tremaining: 11m 36s\n",
            "636:\tlearn: 1.0633638\ttotal: 20m 19s\tremaining: 11m 34s\n",
            "637:\tlearn: 1.0633138\ttotal: 20m 21s\tremaining: 11m 33s\n",
            "638:\tlearn: 1.0632421\ttotal: 20m 23s\tremaining: 11m 31s\n",
            "639:\tlearn: 1.0631735\ttotal: 20m 25s\tremaining: 11m 29s\n",
            "640:\tlearn: 1.0631114\ttotal: 20m 27s\tremaining: 11m 27s\n",
            "641:\tlearn: 1.0630564\ttotal: 20m 30s\tremaining: 11m 25s\n",
            "642:\tlearn: 1.0630086\ttotal: 20m 31s\tremaining: 11m 23s\n",
            "643:\tlearn: 1.0629682\ttotal: 20m 34s\tremaining: 11m 22s\n",
            "644:\tlearn: 1.0629269\ttotal: 20m 36s\tremaining: 11m 20s\n",
            "645:\tlearn: 1.0628767\ttotal: 20m 38s\tremaining: 11m 18s\n",
            "646:\tlearn: 1.0628288\ttotal: 20m 40s\tremaining: 11m 16s\n",
            "647:\tlearn: 1.0627725\ttotal: 20m 42s\tremaining: 11m 15s\n",
            "648:\tlearn: 1.0627177\ttotal: 20m 44s\tremaining: 11m 13s\n",
            "649:\tlearn: 1.0626750\ttotal: 20m 46s\tremaining: 11m 11s\n",
            "650:\tlearn: 1.0626208\ttotal: 20m 48s\tremaining: 11m 9s\n",
            "651:\tlearn: 1.0625789\ttotal: 20m 50s\tremaining: 11m 7s\n",
            "652:\tlearn: 1.0625349\ttotal: 20m 51s\tremaining: 11m 5s\n",
            "653:\tlearn: 1.0624934\ttotal: 20m 52s\tremaining: 11m 2s\n",
            "654:\tlearn: 1.0624402\ttotal: 20m 55s\tremaining: 11m 1s\n",
            "655:\tlearn: 1.0623784\ttotal: 20m 57s\tremaining: 10m 59s\n",
            "656:\tlearn: 1.0623379\ttotal: 20m 59s\tremaining: 10m 57s\n",
            "657:\tlearn: 1.0622978\ttotal: 21m 1s\tremaining: 10m 55s\n",
            "658:\tlearn: 1.0622406\ttotal: 21m 3s\tremaining: 10m 53s\n",
            "659:\tlearn: 1.0621929\ttotal: 21m 4s\tremaining: 10m 51s\n",
            "660:\tlearn: 1.0621449\ttotal: 21m 6s\tremaining: 10m 49s\n",
            "661:\tlearn: 1.0620856\ttotal: 21m 8s\tremaining: 10m 47s\n",
            "662:\tlearn: 1.0620544\ttotal: 21m 10s\tremaining: 10m 45s\n",
            "663:\tlearn: 1.0620156\ttotal: 21m 13s\tremaining: 10m 44s\n",
            "664:\tlearn: 1.0619801\ttotal: 21m 14s\tremaining: 10m 42s\n",
            "665:\tlearn: 1.0619554\ttotal: 21m 14s\tremaining: 10m 39s\n",
            "666:\tlearn: 1.0619084\ttotal: 21m 16s\tremaining: 10m 37s\n",
            "667:\tlearn: 1.0618591\ttotal: 21m 18s\tremaining: 10m 35s\n",
            "668:\tlearn: 1.0617990\ttotal: 21m 20s\tremaining: 10m 33s\n",
            "669:\tlearn: 1.0617333\ttotal: 21m 22s\tremaining: 10m 31s\n",
            "670:\tlearn: 1.0616872\ttotal: 21m 24s\tremaining: 10m 30s\n",
            "671:\tlearn: 1.0616289\ttotal: 21m 27s\tremaining: 10m 28s\n",
            "672:\tlearn: 1.0615928\ttotal: 21m 30s\tremaining: 10m 26s\n",
            "673:\tlearn: 1.0615489\ttotal: 21m 31s\tremaining: 10m 24s\n",
            "674:\tlearn: 1.0614900\ttotal: 21m 34s\tremaining: 10m 23s\n",
            "675:\tlearn: 1.0614515\ttotal: 21m 36s\tremaining: 10m 21s\n",
            "676:\tlearn: 1.0614004\ttotal: 21m 38s\tremaining: 10m 19s\n",
            "677:\tlearn: 1.0613084\ttotal: 21m 40s\tremaining: 10m 17s\n",
            "678:\tlearn: 1.0612732\ttotal: 21m 42s\tremaining: 10m 15s\n",
            "679:\tlearn: 1.0612103\ttotal: 21m 44s\tremaining: 10m 13s\n",
            "680:\tlearn: 1.0611628\ttotal: 21m 46s\tremaining: 10m 11s\n",
            "681:\tlearn: 1.0611114\ttotal: 21m 48s\tremaining: 10m 10s\n",
            "682:\tlearn: 1.0610447\ttotal: 21m 50s\tremaining: 10m 8s\n",
            "683:\tlearn: 1.0610045\ttotal: 21m 51s\tremaining: 10m 6s\n",
            "684:\tlearn: 1.0609545\ttotal: 21m 53s\tremaining: 10m 4s\n",
            "685:\tlearn: 1.0609087\ttotal: 21m 55s\tremaining: 10m 2s\n",
            "686:\tlearn: 1.0608420\ttotal: 21m 57s\tremaining: 10m\n",
            "687:\tlearn: 1.0607774\ttotal: 22m\tremaining: 9m 58s\n",
            "688:\tlearn: 1.0607247\ttotal: 22m 2s\tremaining: 9m 56s\n",
            "689:\tlearn: 1.0606778\ttotal: 22m 4s\tremaining: 9m 55s\n",
            "690:\tlearn: 1.0606222\ttotal: 22m 5s\tremaining: 9m 52s\n",
            "691:\tlearn: 1.0605731\ttotal: 22m 8s\tremaining: 9m 51s\n",
            "692:\tlearn: 1.0604939\ttotal: 22m 9s\tremaining: 9m 49s\n",
            "693:\tlearn: 1.0604525\ttotal: 22m 12s\tremaining: 9m 47s\n",
            "694:\tlearn: 1.0604058\ttotal: 22m 14s\tremaining: 9m 45s\n",
            "695:\tlearn: 1.0603537\ttotal: 22m 16s\tremaining: 9m 43s\n",
            "696:\tlearn: 1.0603045\ttotal: 22m 18s\tremaining: 9m 41s\n",
            "697:\tlearn: 1.0602432\ttotal: 22m 20s\tremaining: 9m 40s\n",
            "698:\tlearn: 1.0601866\ttotal: 22m 22s\tremaining: 9m 37s\n",
            "699:\tlearn: 1.0601342\ttotal: 22m 24s\tremaining: 9m 36s\n",
            "700:\tlearn: 1.0600822\ttotal: 22m 26s\tremaining: 9m 34s\n",
            "701:\tlearn: 1.0600440\ttotal: 22m 28s\tremaining: 9m 32s\n",
            "702:\tlearn: 1.0600120\ttotal: 22m 29s\tremaining: 9m 30s\n",
            "703:\tlearn: 1.0599726\ttotal: 22m 31s\tremaining: 9m 28s\n",
            "704:\tlearn: 1.0599334\ttotal: 22m 33s\tremaining: 9m 26s\n",
            "705:\tlearn: 1.0598870\ttotal: 22m 35s\tremaining: 9m 24s\n",
            "706:\tlearn: 1.0598229\ttotal: 22m 37s\tremaining: 9m 22s\n",
            "707:\tlearn: 1.0597678\ttotal: 22m 39s\tremaining: 9m 20s\n",
            "708:\tlearn: 1.0597112\ttotal: 22m 42s\tremaining: 9m 19s\n",
            "709:\tlearn: 1.0596526\ttotal: 22m 43s\tremaining: 9m 17s\n",
            "710:\tlearn: 1.0595942\ttotal: 22m 45s\tremaining: 9m 15s\n",
            "711:\tlearn: 1.0595430\ttotal: 22m 48s\tremaining: 9m 13s\n",
            "712:\tlearn: 1.0594941\ttotal: 22m 50s\tremaining: 9m 11s\n",
            "713:\tlearn: 1.0594453\ttotal: 22m 51s\tremaining: 9m 9s\n",
            "714:\tlearn: 1.0593887\ttotal: 22m 53s\tremaining: 9m 7s\n",
            "715:\tlearn: 1.0593211\ttotal: 22m 55s\tremaining: 9m 5s\n",
            "716:\tlearn: 1.0592647\ttotal: 22m 58s\tremaining: 9m 3s\n",
            "717:\tlearn: 1.0592296\ttotal: 22m 59s\tremaining: 9m 1s\n",
            "718:\tlearn: 1.0591839\ttotal: 23m 2s\tremaining: 9m\n",
            "719:\tlearn: 1.0591189\ttotal: 23m 3s\tremaining: 8m 58s\n",
            "720:\tlearn: 1.0590516\ttotal: 23m 6s\tremaining: 8m 56s\n",
            "721:\tlearn: 1.0590050\ttotal: 23m 8s\tremaining: 8m 54s\n",
            "722:\tlearn: 1.0589560\ttotal: 23m 10s\tremaining: 8m 52s\n",
            "723:\tlearn: 1.0588831\ttotal: 23m 11s\tremaining: 8m 50s\n",
            "724:\tlearn: 1.0588375\ttotal: 23m 13s\tremaining: 8m 48s\n",
            "725:\tlearn: 1.0587947\ttotal: 23m 15s\tremaining: 8m 46s\n",
            "726:\tlearn: 1.0587312\ttotal: 23m 17s\tremaining: 8m 44s\n",
            "727:\tlearn: 1.0586799\ttotal: 23m 19s\tremaining: 8m 43s\n",
            "728:\tlearn: 1.0586363\ttotal: 23m 21s\tremaining: 8m 41s\n",
            "729:\tlearn: 1.0585912\ttotal: 23m 24s\tremaining: 8m 39s\n",
            "730:\tlearn: 1.0585400\ttotal: 23m 26s\tremaining: 8m 37s\n",
            "731:\tlearn: 1.0584898\ttotal: 23m 27s\tremaining: 8m 35s\n",
            "732:\tlearn: 1.0584396\ttotal: 23m 30s\tremaining: 8m 33s\n",
            "733:\tlearn: 1.0583824\ttotal: 23m 31s\tremaining: 8m 31s\n",
            "734:\tlearn: 1.0583188\ttotal: 23m 33s\tremaining: 8m 29s\n",
            "735:\tlearn: 1.0582683\ttotal: 23m 35s\tremaining: 8m 27s\n",
            "736:\tlearn: 1.0582179\ttotal: 23m 37s\tremaining: 8m 25s\n",
            "737:\tlearn: 1.0581701\ttotal: 23m 39s\tremaining: 8m 24s\n",
            "738:\tlearn: 1.0581262\ttotal: 23m 41s\tremaining: 8m 22s\n",
            "739:\tlearn: 1.0580822\ttotal: 23m 43s\tremaining: 8m 20s\n",
            "740:\tlearn: 1.0580293\ttotal: 23m 45s\tremaining: 8m 18s\n",
            "741:\tlearn: 1.0579811\ttotal: 23m 47s\tremaining: 8m 16s\n",
            "742:\tlearn: 1.0579371\ttotal: 23m 49s\tremaining: 8m 14s\n",
            "743:\tlearn: 1.0578825\ttotal: 23m 51s\tremaining: 8m 12s\n",
            "744:\tlearn: 1.0578252\ttotal: 23m 53s\tremaining: 8m 10s\n",
            "745:\tlearn: 1.0577755\ttotal: 23m 55s\tremaining: 8m 8s\n",
            "746:\tlearn: 1.0577338\ttotal: 23m 57s\tremaining: 8m 6s\n",
            "747:\tlearn: 1.0576936\ttotal: 23m 59s\tremaining: 8m 4s\n",
            "748:\tlearn: 1.0576533\ttotal: 24m 1s\tremaining: 8m 3s\n",
            "749:\tlearn: 1.0576040\ttotal: 24m 2s\tremaining: 8m\n",
            "750:\tlearn: 1.0575536\ttotal: 24m 4s\tremaining: 7m 59s\n",
            "751:\tlearn: 1.0575156\ttotal: 24m 6s\tremaining: 7m 57s\n",
            "752:\tlearn: 1.0574639\ttotal: 24m 8s\tremaining: 7m 55s\n",
            "753:\tlearn: 1.0574213\ttotal: 24m 11s\tremaining: 7m 53s\n",
            "754:\tlearn: 1.0573793\ttotal: 24m 13s\tremaining: 7m 51s\n",
            "755:\tlearn: 1.0573318\ttotal: 24m 15s\tremaining: 7m 49s\n",
            "756:\tlearn: 1.0572910\ttotal: 24m 17s\tremaining: 7m 47s\n",
            "757:\tlearn: 1.0572452\ttotal: 24m 19s\tremaining: 7m 45s\n",
            "758:\tlearn: 1.0571976\ttotal: 24m 21s\tremaining: 7m 44s\n",
            "759:\tlearn: 1.0571549\ttotal: 24m 23s\tremaining: 7m 42s\n",
            "760:\tlearn: 1.0571020\ttotal: 24m 25s\tremaining: 7m 40s\n",
            "761:\tlearn: 1.0570502\ttotal: 24m 27s\tremaining: 7m 38s\n",
            "762:\tlearn: 1.0569930\ttotal: 24m 28s\tremaining: 7m 36s\n",
            "763:\tlearn: 1.0569430\ttotal: 24m 30s\tremaining: 7m 34s\n",
            "764:\tlearn: 1.0568908\ttotal: 24m 32s\tremaining: 7m 32s\n",
            "765:\tlearn: 1.0568403\ttotal: 24m 34s\tremaining: 7m 30s\n",
            "766:\tlearn: 1.0567949\ttotal: 24m 36s\tremaining: 7m 28s\n",
            "767:\tlearn: 1.0567425\ttotal: 24m 38s\tremaining: 7m 26s\n",
            "768:\tlearn: 1.0566964\ttotal: 24m 40s\tremaining: 7m 24s\n",
            "769:\tlearn: 1.0566505\ttotal: 24m 42s\tremaining: 7m 22s\n",
            "770:\tlearn: 1.0566047\ttotal: 24m 44s\tremaining: 7m 21s\n",
            "771:\tlearn: 1.0565572\ttotal: 24m 47s\tremaining: 7m 19s\n",
            "772:\tlearn: 1.0565134\ttotal: 24m 49s\tremaining: 7m 17s\n",
            "773:\tlearn: 1.0564582\ttotal: 24m 50s\tremaining: 7m 15s\n",
            "774:\tlearn: 1.0564057\ttotal: 24m 53s\tremaining: 7m 13s\n",
            "775:\tlearn: 1.0563614\ttotal: 24m 56s\tremaining: 7m 11s\n",
            "776:\tlearn: 1.0563141\ttotal: 24m 58s\tremaining: 7m 9s\n",
            "777:\tlearn: 1.0562625\ttotal: 25m\tremaining: 7m 8s\n",
            "778:\tlearn: 1.0562043\ttotal: 25m 2s\tremaining: 7m 6s\n",
            "779:\tlearn: 1.0561431\ttotal: 25m 4s\tremaining: 7m 4s\n",
            "780:\tlearn: 1.0560978\ttotal: 25m 6s\tremaining: 7m 2s\n",
            "781:\tlearn: 1.0560575\ttotal: 25m 8s\tremaining: 7m\n",
            "782:\tlearn: 1.0560163\ttotal: 25m 10s\tremaining: 6m 58s\n",
            "783:\tlearn: 1.0559807\ttotal: 25m 11s\tremaining: 6m 56s\n",
            "784:\tlearn: 1.0559278\ttotal: 25m 14s\tremaining: 6m 54s\n",
            "785:\tlearn: 1.0558791\ttotal: 25m 16s\tremaining: 6m 52s\n",
            "786:\tlearn: 1.0558349\ttotal: 25m 19s\tremaining: 6m 51s\n",
            "787:\tlearn: 1.0557953\ttotal: 25m 20s\tremaining: 6m 49s\n",
            "788:\tlearn: 1.0557358\ttotal: 25m 22s\tremaining: 6m 47s\n",
            "789:\tlearn: 1.0556893\ttotal: 25m 25s\tremaining: 6m 45s\n",
            "790:\tlearn: 1.0556391\ttotal: 25m 27s\tremaining: 6m 43s\n",
            "791:\tlearn: 1.0555859\ttotal: 25m 29s\tremaining: 6m 41s\n",
            "792:\tlearn: 1.0555215\ttotal: 25m 31s\tremaining: 6m 39s\n",
            "793:\tlearn: 1.0554563\ttotal: 25m 33s\tremaining: 6m 37s\n",
            "794:\tlearn: 1.0554087\ttotal: 25m 35s\tremaining: 6m 35s\n",
            "795:\tlearn: 1.0553538\ttotal: 25m 37s\tremaining: 6m 33s\n",
            "796:\tlearn: 1.0553045\ttotal: 25m 38s\tremaining: 6m 31s\n",
            "797:\tlearn: 1.0552649\ttotal: 25m 41s\tremaining: 6m 30s\n",
            "798:\tlearn: 1.0552064\ttotal: 25m 42s\tremaining: 6m 28s\n",
            "799:\tlearn: 1.0551560\ttotal: 25m 44s\tremaining: 6m 26s\n",
            "800:\tlearn: 1.0551019\ttotal: 25m 45s\tremaining: 6m 24s\n",
            "801:\tlearn: 1.0550590\ttotal: 25m 48s\tremaining: 6m 22s\n",
            "802:\tlearn: 1.0550065\ttotal: 25m 50s\tremaining: 6m 20s\n",
            "803:\tlearn: 1.0549644\ttotal: 25m 51s\tremaining: 6m 18s\n",
            "804:\tlearn: 1.0549069\ttotal: 25m 53s\tremaining: 6m 16s\n",
            "805:\tlearn: 1.0548592\ttotal: 25m 56s\tremaining: 6m 14s\n",
            "806:\tlearn: 1.0547937\ttotal: 25m 58s\tremaining: 6m 12s\n",
            "807:\tlearn: 1.0547379\ttotal: 26m\tremaining: 6m 10s\n",
            "808:\tlearn: 1.0546670\ttotal: 26m 2s\tremaining: 6m 8s\n",
            "809:\tlearn: 1.0546110\ttotal: 26m 4s\tremaining: 6m 6s\n",
            "810:\tlearn: 1.0545671\ttotal: 26m 5s\tremaining: 6m 4s\n",
            "811:\tlearn: 1.0545255\ttotal: 26m 7s\tremaining: 6m 2s\n",
            "812:\tlearn: 1.0544765\ttotal: 26m 9s\tremaining: 6m\n",
            "813:\tlearn: 1.0544349\ttotal: 26m 11s\tremaining: 5m 58s\n",
            "814:\tlearn: 1.0543869\ttotal: 26m 12s\tremaining: 5m 57s\n",
            "815:\tlearn: 1.0543354\ttotal: 26m 14s\tremaining: 5m 55s\n",
            "816:\tlearn: 1.0542940\ttotal: 26m 16s\tremaining: 5m 53s\n",
            "817:\tlearn: 1.0542537\ttotal: 26m 18s\tremaining: 5m 51s\n",
            "818:\tlearn: 1.0542112\ttotal: 26m 20s\tremaining: 5m 49s\n",
            "819:\tlearn: 1.0541767\ttotal: 26m 22s\tremaining: 5m 47s\n",
            "820:\tlearn: 1.0541233\ttotal: 26m 24s\tremaining: 5m 45s\n",
            "821:\tlearn: 1.0540779\ttotal: 26m 25s\tremaining: 5m 43s\n",
            "822:\tlearn: 1.0540258\ttotal: 26m 28s\tremaining: 5m 41s\n",
            "823:\tlearn: 1.0539647\ttotal: 26m 29s\tremaining: 5m 39s\n",
            "824:\tlearn: 1.0539102\ttotal: 26m 32s\tremaining: 5m 37s\n",
            "825:\tlearn: 1.0538361\ttotal: 26m 34s\tremaining: 5m 35s\n",
            "826:\tlearn: 1.0537815\ttotal: 26m 36s\tremaining: 5m 33s\n",
            "827:\tlearn: 1.0537383\ttotal: 26m 39s\tremaining: 5m 32s\n",
            "828:\tlearn: 1.0537013\ttotal: 26m 39s\tremaining: 5m 29s\n",
            "829:\tlearn: 1.0536610\ttotal: 26m 41s\tremaining: 5m 28s\n",
            "830:\tlearn: 1.0536128\ttotal: 26m 43s\tremaining: 5m 26s\n",
            "831:\tlearn: 1.0535577\ttotal: 26m 45s\tremaining: 5m 24s\n",
            "832:\tlearn: 1.0534821\ttotal: 26m 47s\tremaining: 5m 22s\n",
            "833:\tlearn: 1.0534218\ttotal: 26m 49s\tremaining: 5m 20s\n",
            "834:\tlearn: 1.0533523\ttotal: 26m 51s\tremaining: 5m 18s\n",
            "835:\tlearn: 1.0532860\ttotal: 26m 53s\tremaining: 5m 16s\n",
            "836:\tlearn: 1.0532416\ttotal: 26m 55s\tremaining: 5m 14s\n",
            "837:\tlearn: 1.0531888\ttotal: 26m 57s\tremaining: 5m 12s\n",
            "838:\tlearn: 1.0531523\ttotal: 26m 59s\tremaining: 5m 10s\n",
            "839:\tlearn: 1.0531096\ttotal: 27m 1s\tremaining: 5m 8s\n",
            "840:\tlearn: 1.0530585\ttotal: 27m 3s\tremaining: 5m 6s\n",
            "841:\tlearn: 1.0530115\ttotal: 27m 4s\tremaining: 5m 4s\n",
            "842:\tlearn: 1.0529601\ttotal: 27m 6s\tremaining: 5m 2s\n",
            "843:\tlearn: 1.0529096\ttotal: 27m 8s\tremaining: 5m\n",
            "844:\tlearn: 1.0528704\ttotal: 27m 10s\tremaining: 4m 59s\n",
            "845:\tlearn: 1.0528265\ttotal: 27m 12s\tremaining: 4m 57s\n",
            "846:\tlearn: 1.0528014\ttotal: 27m 12s\tremaining: 4m 54s\n",
            "847:\tlearn: 1.0527568\ttotal: 27m 13s\tremaining: 4m 52s\n",
            "848:\tlearn: 1.0526995\ttotal: 27m 16s\tremaining: 4m 51s\n",
            "849:\tlearn: 1.0526504\ttotal: 27m 18s\tremaining: 4m 49s\n",
            "850:\tlearn: 1.0525700\ttotal: 27m 20s\tremaining: 4m 47s\n",
            "851:\tlearn: 1.0525256\ttotal: 27m 22s\tremaining: 4m 45s\n",
            "852:\tlearn: 1.0524657\ttotal: 27m 24s\tremaining: 4m 43s\n",
            "853:\tlearn: 1.0524106\ttotal: 27m 27s\tremaining: 4m 41s\n",
            "854:\tlearn: 1.0523568\ttotal: 27m 29s\tremaining: 4m 39s\n",
            "855:\tlearn: 1.0523093\ttotal: 27m 31s\tremaining: 4m 37s\n",
            "856:\tlearn: 1.0522531\ttotal: 27m 33s\tremaining: 4m 35s\n",
            "857:\tlearn: 1.0522066\ttotal: 27m 35s\tremaining: 4m 33s\n",
            "858:\tlearn: 1.0521655\ttotal: 27m 37s\tremaining: 4m 31s\n",
            "859:\tlearn: 1.0521121\ttotal: 27m 39s\tremaining: 4m 30s\n",
            "860:\tlearn: 1.0520742\ttotal: 27m 41s\tremaining: 4m 28s\n",
            "861:\tlearn: 1.0520133\ttotal: 27m 43s\tremaining: 4m 26s\n",
            "862:\tlearn: 1.0519725\ttotal: 27m 45s\tremaining: 4m 24s\n",
            "863:\tlearn: 1.0519277\ttotal: 27m 47s\tremaining: 4m 22s\n",
            "864:\tlearn: 1.0518882\ttotal: 27m 49s\tremaining: 4m 20s\n",
            "865:\tlearn: 1.0518448\ttotal: 27m 52s\tremaining: 4m 18s\n",
            "866:\tlearn: 1.0517889\ttotal: 27m 53s\tremaining: 4m 16s\n",
            "867:\tlearn: 1.0517395\ttotal: 27m 55s\tremaining: 4m 14s\n",
            "868:\tlearn: 1.0516925\ttotal: 27m 57s\tremaining: 4m 12s\n",
            "869:\tlearn: 1.0516556\ttotal: 27m 59s\tremaining: 4m 10s\n",
            "870:\tlearn: 1.0515926\ttotal: 28m\tremaining: 4m 8s\n",
            "871:\tlearn: 1.0515513\ttotal: 28m 3s\tremaining: 4m 7s\n",
            "872:\tlearn: 1.0515075\ttotal: 28m 4s\tremaining: 4m 5s\n",
            "873:\tlearn: 1.0514608\ttotal: 28m 7s\tremaining: 4m 3s\n",
            "874:\tlearn: 1.0514043\ttotal: 28m 8s\tremaining: 4m 1s\n",
            "875:\tlearn: 1.0513628\ttotal: 28m 10s\tremaining: 3m 59s\n",
            "876:\tlearn: 1.0512910\ttotal: 28m 12s\tremaining: 3m 57s\n",
            "877:\tlearn: 1.0512420\ttotal: 28m 14s\tremaining: 3m 55s\n",
            "878:\tlearn: 1.0511895\ttotal: 28m 17s\tremaining: 3m 53s\n",
            "879:\tlearn: 1.0511376\ttotal: 28m 19s\tremaining: 3m 51s\n",
            "880:\tlearn: 1.0511010\ttotal: 28m 21s\tremaining: 3m 49s\n",
            "881:\tlearn: 1.0510406\ttotal: 28m 23s\tremaining: 3m 47s\n",
            "882:\tlearn: 1.0509724\ttotal: 28m 25s\tremaining: 3m 46s\n",
            "883:\tlearn: 1.0509246\ttotal: 28m 27s\tremaining: 3m 44s\n",
            "884:\tlearn: 1.0508819\ttotal: 28m 29s\tremaining: 3m 42s\n",
            "885:\tlearn: 1.0508350\ttotal: 28m 31s\tremaining: 3m 40s\n",
            "886:\tlearn: 1.0507954\ttotal: 28m 33s\tremaining: 3m 38s\n",
            "887:\tlearn: 1.0507598\ttotal: 28m 35s\tremaining: 3m 36s\n",
            "888:\tlearn: 1.0507155\ttotal: 28m 37s\tremaining: 3m 34s\n",
            "889:\tlearn: 1.0506414\ttotal: 28m 39s\tremaining: 3m 32s\n",
            "890:\tlearn: 1.0505826\ttotal: 28m 42s\tremaining: 3m 30s\n",
            "891:\tlearn: 1.0505228\ttotal: 28m 44s\tremaining: 3m 28s\n",
            "892:\tlearn: 1.0504685\ttotal: 28m 45s\tremaining: 3m 26s\n",
            "893:\tlearn: 1.0504243\ttotal: 28m 47s\tremaining: 3m 24s\n",
            "894:\tlearn: 1.0503770\ttotal: 28m 50s\tremaining: 3m 22s\n",
            "895:\tlearn: 1.0503202\ttotal: 28m 51s\tremaining: 3m 21s\n",
            "896:\tlearn: 1.0502390\ttotal: 28m 54s\tremaining: 3m 19s\n",
            "897:\tlearn: 1.0501880\ttotal: 28m 55s\tremaining: 3m 17s\n",
            "898:\tlearn: 1.0501393\ttotal: 28m 57s\tremaining: 3m 15s\n",
            "899:\tlearn: 1.0501079\ttotal: 28m 59s\tremaining: 3m 13s\n",
            "900:\tlearn: 1.0500758\ttotal: 29m 2s\tremaining: 3m 11s\n",
            "901:\tlearn: 1.0500421\ttotal: 29m 3s\tremaining: 3m 9s\n",
            "902:\tlearn: 1.0499877\ttotal: 29m 6s\tremaining: 3m 7s\n",
            "903:\tlearn: 1.0499315\ttotal: 29m 7s\tremaining: 3m 5s\n",
            "904:\tlearn: 1.0498819\ttotal: 29m 9s\tremaining: 3m 3s\n",
            "905:\tlearn: 1.0498430\ttotal: 29m 12s\tremaining: 3m 1s\n",
            "906:\tlearn: 1.0497937\ttotal: 29m 13s\tremaining: 2m 59s\n",
            "907:\tlearn: 1.0497634\ttotal: 29m 15s\tremaining: 2m 57s\n",
            "908:\tlearn: 1.0497213\ttotal: 29m 16s\tremaining: 2m 55s\n",
            "909:\tlearn: 1.0496769\ttotal: 29m 18s\tremaining: 2m 53s\n",
            "910:\tlearn: 1.0496244\ttotal: 29m 20s\tremaining: 2m 52s\n",
            "911:\tlearn: 1.0495730\ttotal: 29m 22s\tremaining: 2m 50s\n",
            "912:\tlearn: 1.0495236\ttotal: 29m 24s\tremaining: 2m 48s\n",
            "913:\tlearn: 1.0494782\ttotal: 29m 26s\tremaining: 2m 46s\n",
            "914:\tlearn: 1.0494373\ttotal: 29m 28s\tremaining: 2m 44s\n",
            "915:\tlearn: 1.0493869\ttotal: 29m 30s\tremaining: 2m 42s\n",
            "916:\tlearn: 1.0493309\ttotal: 29m 31s\tremaining: 2m 40s\n",
            "917:\tlearn: 1.0492684\ttotal: 29m 33s\tremaining: 2m 38s\n",
            "918:\tlearn: 1.0492159\ttotal: 29m 35s\tremaining: 2m 36s\n",
            "919:\tlearn: 1.0491771\ttotal: 29m 37s\tremaining: 2m 34s\n",
            "920:\tlearn: 1.0491401\ttotal: 29m 39s\tremaining: 2m 32s\n",
            "921:\tlearn: 1.0491068\ttotal: 29m 42s\tremaining: 2m 30s\n",
            "922:\tlearn: 1.0490610\ttotal: 29m 44s\tremaining: 2m 28s\n",
            "923:\tlearn: 1.0490199\ttotal: 29m 45s\tremaining: 2m 26s\n",
            "924:\tlearn: 1.0489751\ttotal: 29m 47s\tremaining: 2m 24s\n",
            "925:\tlearn: 1.0489277\ttotal: 29m 49s\tremaining: 2m 22s\n",
            "926:\tlearn: 1.0488804\ttotal: 29m 50s\tremaining: 2m 21s\n",
            "927:\tlearn: 1.0488245\ttotal: 29m 53s\tremaining: 2m 19s\n",
            "928:\tlearn: 1.0487726\ttotal: 29m 54s\tremaining: 2m 17s\n",
            "929:\tlearn: 1.0487195\ttotal: 29m 56s\tremaining: 2m 15s\n",
            "930:\tlearn: 1.0486704\ttotal: 29m 58s\tremaining: 2m 13s\n",
            "931:\tlearn: 1.0486302\ttotal: 30m\tremaining: 2m 11s\n",
            "932:\tlearn: 1.0485865\ttotal: 30m 2s\tremaining: 2m 9s\n",
            "933:\tlearn: 1.0485510\ttotal: 30m 4s\tremaining: 2m 7s\n",
            "934:\tlearn: 1.0485157\ttotal: 30m 6s\tremaining: 2m 5s\n",
            "935:\tlearn: 1.0484781\ttotal: 30m 7s\tremaining: 2m 3s\n",
            "936:\tlearn: 1.0484286\ttotal: 30m 10s\tremaining: 2m 1s\n",
            "937:\tlearn: 1.0483785\ttotal: 30m 12s\tremaining: 1m 59s\n",
            "938:\tlearn: 1.0483221\ttotal: 30m 14s\tremaining: 1m 57s\n",
            "939:\tlearn: 1.0482707\ttotal: 30m 17s\tremaining: 1m 55s\n",
            "940:\tlearn: 1.0482091\ttotal: 30m 18s\tremaining: 1m 54s\n",
            "941:\tlearn: 1.0481587\ttotal: 30m 20s\tremaining: 1m 52s\n",
            "942:\tlearn: 1.0481089\ttotal: 30m 22s\tremaining: 1m 50s\n",
            "943:\tlearn: 1.0480454\ttotal: 30m 24s\tremaining: 1m 48s\n",
            "944:\tlearn: 1.0479888\ttotal: 30m 26s\tremaining: 1m 46s\n",
            "945:\tlearn: 1.0479264\ttotal: 30m 28s\tremaining: 1m 44s\n",
            "946:\tlearn: 1.0478822\ttotal: 30m 30s\tremaining: 1m 42s\n",
            "947:\tlearn: 1.0478094\ttotal: 30m 32s\tremaining: 1m 40s\n",
            "948:\tlearn: 1.0477614\ttotal: 30m 35s\tremaining: 1m 38s\n",
            "949:\tlearn: 1.0477171\ttotal: 30m 36s\tremaining: 1m 36s\n",
            "950:\tlearn: 1.0476732\ttotal: 30m 38s\tremaining: 1m 34s\n",
            "951:\tlearn: 1.0476224\ttotal: 30m 40s\tremaining: 1m 32s\n",
            "952:\tlearn: 1.0475774\ttotal: 30m 42s\tremaining: 1m 30s\n",
            "953:\tlearn: 1.0475287\ttotal: 30m 44s\tremaining: 1m 28s\n",
            "954:\tlearn: 1.0474755\ttotal: 30m 46s\tremaining: 1m 27s\n",
            "955:\tlearn: 1.0474230\ttotal: 30m 47s\tremaining: 1m 25s\n",
            "956:\tlearn: 1.0473617\ttotal: 30m 49s\tremaining: 1m 23s\n",
            "957:\tlearn: 1.0473164\ttotal: 30m 51s\tremaining: 1m 21s\n",
            "958:\tlearn: 1.0472745\ttotal: 30m 53s\tremaining: 1m 19s\n",
            "959:\tlearn: 1.0472148\ttotal: 30m 55s\tremaining: 1m 17s\n",
            "960:\tlearn: 1.0471510\ttotal: 30m 58s\tremaining: 1m 15s\n",
            "961:\tlearn: 1.0470992\ttotal: 30m 59s\tremaining: 1m 13s\n",
            "962:\tlearn: 1.0470577\ttotal: 31m 1s\tremaining: 1m 11s\n",
            "963:\tlearn: 1.0470063\ttotal: 31m 3s\tremaining: 1m 9s\n",
            "964:\tlearn: 1.0469607\ttotal: 31m 6s\tremaining: 1m 7s\n",
            "965:\tlearn: 1.0469198\ttotal: 31m 8s\tremaining: 1m 5s\n",
            "966:\tlearn: 1.0468633\ttotal: 31m 10s\tremaining: 1m 3s\n",
            "967:\tlearn: 1.0468209\ttotal: 31m 12s\tremaining: 1m 1s\n",
            "968:\tlearn: 1.0467766\ttotal: 31m 14s\tremaining: 60s\n",
            "969:\tlearn: 1.0467286\ttotal: 31m 15s\tremaining: 58s\n",
            "970:\tlearn: 1.0466882\ttotal: 31m 17s\tremaining: 56.1s\n",
            "971:\tlearn: 1.0466349\ttotal: 31m 18s\tremaining: 54.1s\n",
            "972:\tlearn: 1.0465862\ttotal: 31m 20s\tremaining: 52.2s\n",
            "973:\tlearn: 1.0465469\ttotal: 31m 22s\tremaining: 50.2s\n",
            "974:\tlearn: 1.0464980\ttotal: 31m 24s\tremaining: 48.3s\n",
            "975:\tlearn: 1.0464482\ttotal: 31m 25s\tremaining: 46.4s\n",
            "976:\tlearn: 1.0464082\ttotal: 31m 27s\tremaining: 44.4s\n",
            "977:\tlearn: 1.0463616\ttotal: 31m 29s\tremaining: 42.5s\n",
            "978:\tlearn: 1.0463083\ttotal: 31m 31s\tremaining: 40.6s\n",
            "979:\tlearn: 1.0462522\ttotal: 31m 32s\tremaining: 38.6s\n",
            "980:\tlearn: 1.0461912\ttotal: 31m 34s\tremaining: 36.7s\n",
            "981:\tlearn: 1.0461600\ttotal: 31m 36s\tremaining: 34.8s\n",
            "982:\tlearn: 1.0461124\ttotal: 31m 37s\tremaining: 32.8s\n",
            "983:\tlearn: 1.0460526\ttotal: 31m 39s\tremaining: 30.9s\n",
            "984:\tlearn: 1.0459859\ttotal: 31m 41s\tremaining: 28.9s\n",
            "985:\tlearn: 1.0459278\ttotal: 31m 43s\tremaining: 27s\n",
            "986:\tlearn: 1.0458835\ttotal: 31m 45s\tremaining: 25.1s\n",
            "987:\tlearn: 1.0458210\ttotal: 31m 47s\tremaining: 23.2s\n",
            "988:\tlearn: 1.0457672\ttotal: 31m 49s\tremaining: 21.2s\n",
            "989:\tlearn: 1.0457239\ttotal: 31m 51s\tremaining: 19.3s\n",
            "990:\tlearn: 1.0456862\ttotal: 31m 53s\tremaining: 17.4s\n",
            "991:\tlearn: 1.0456419\ttotal: 31m 56s\tremaining: 15.5s\n",
            "992:\tlearn: 1.0456005\ttotal: 31m 58s\tremaining: 13.5s\n",
            "993:\tlearn: 1.0455620\ttotal: 32m\tremaining: 11.6s\n",
            "994:\tlearn: 1.0455068\ttotal: 32m 2s\tremaining: 9.66s\n",
            "995:\tlearn: 1.0454506\ttotal: 32m 3s\tremaining: 7.73s\n",
            "996:\tlearn: 1.0453999\ttotal: 32m 6s\tremaining: 5.8s\n",
            "997:\tlearn: 1.0453513\ttotal: 32m 7s\tremaining: 3.86s\n",
            "998:\tlearn: 1.0453027\ttotal: 32m 10s\tremaining: 1.93s\n",
            "999:\tlearn: 1.0452509\ttotal: 32m 12s\tremaining: 0us\n"
          ]
        },
        {
          "output_type": "execute_result",
          "data": {
            "text/plain": [
              "ok    61\n",
              "Name: hdl_cholesterol_human, dtype: int64"
            ]
          },
          "metadata": {},
          "execution_count": 42
        }
      ]
    },
    {
      "cell_type": "code",
      "source": [
        "# # Heamoglobin\n",
        "# X = df_trainu\n",
        "# y = y_hemoglobin_hgb_human\n",
        "\n",
        "# study = optuna.create_study(sampler=TPESampler(), direction=\"maximize\")\n",
        "# study.optimize(objective, n_trials=10, timeout=600) # Run for 10 minutes\n",
        "# print(\"Number of completed trials: {}\".format(len(study.trials)))\n",
        "# print(\"Best trial:\")\n",
        "# trial = study.best_trial\n",
        "\n",
        "# print(\"\\tBest Score: {}\".format(trial.value))\n",
        "# print(\"\\tBest Params: \")\n",
        "# for key, value in trial.params.items():\n",
        "#     print(\"    {}: {}\".format(key, value))"
      ],
      "metadata": {
        "colab": {
          "base_uri": "https://localhost:8080/"
        },
        "id": "toxfsy-LirbD",
        "outputId": "37fdd955-de55-4dab-edc2-c07db9afad4e"
      },
      "id": "toxfsy-LirbD",
      "execution_count": 43,
      "outputs": [
        {
          "output_type": "stream",
          "name": "stderr",
          "text": [
            "\u001b[32m[I 2022-03-03 20:37:46,850]\u001b[0m A new study created in memory with name: no-name-36dda488-a43b-4242-879c-a9c0bb1a58f8\u001b[0m\n",
            "\u001b[32m[I 2022-03-03 20:37:52,541]\u001b[0m Trial 0 finished with value: 96.0 and parameters: {'loss_function': 'MultiClassOneVsAll', 'learning_rate': 0.07840537363253505, 'l2_leaf_reg': 0.31142505861712894, 'colsample_bylevel': 0.053137094559076004, 'depth': 6, 'boosting_type': 'Ordered', 'bootstrap_type': 'Bernoulli', 'min_data_in_leaf': 4, 'one_hot_max_size': 17, 'subsample': 0.140653796045213}. Best is trial 0 with value: 96.0.\u001b[0m\n",
            "\u001b[32m[I 2022-03-03 20:46:47,646]\u001b[0m Trial 1 finished with value: 95.0 and parameters: {'loss_function': 'MultiClassOneVsAll', 'learning_rate': 0.0006624491025484082, 'l2_leaf_reg': 0.040669563417974536, 'colsample_bylevel': 0.08946208611949419, 'depth': 9, 'boosting_type': 'Ordered', 'bootstrap_type': 'Bernoulli', 'min_data_in_leaf': 5, 'one_hot_max_size': 12, 'subsample': 0.8953178760916289}. Best is trial 0 with value: 96.0.\u001b[0m\n",
            "\u001b[32m[I 2022-03-03 20:47:15,972]\u001b[0m Trial 2 finished with value: 95.0 and parameters: {'loss_function': 'MultiClassOneVsAll', 'learning_rate': 0.0009186083189812185, 'l2_leaf_reg': 0.14833130376051942, 'colsample_bylevel': 0.09520098203677395, 'depth': 4, 'boosting_type': 'Ordered', 'bootstrap_type': 'Bayesian', 'min_data_in_leaf': 13, 'one_hot_max_size': 7, 'bagging_temperature': 3.2297796622073003}. Best is trial 0 with value: 96.0.\u001b[0m\n",
            "\u001b[32m[I 2022-03-03 20:47:16,929]\u001b[0m Trial 3 finished with value: 94.0 and parameters: {'loss_function': 'MultiClassOneVsAll', 'learning_rate': 0.25151499390663035, 'l2_leaf_reg': 0.030478186623825874, 'colsample_bylevel': 0.014274357253655402, 'depth': 6, 'boosting_type': 'Ordered', 'bootstrap_type': 'Bayesian', 'min_data_in_leaf': 5, 'one_hot_max_size': 13, 'bagging_temperature': 2.610151971308615}. Best is trial 0 with value: 96.0.\u001b[0m\n",
            "\u001b[32m[I 2022-03-03 20:47:17,733]\u001b[0m Trial 4 finished with value: 94.0 and parameters: {'loss_function': 'MultiClassOneVsAll', 'learning_rate': 0.12319475237549109, 'l2_leaf_reg': 0.015893437900170886, 'colsample_bylevel': 0.017212686015175862, 'depth': 5, 'boosting_type': 'Ordered', 'bootstrap_type': 'MVS', 'min_data_in_leaf': 18, 'one_hot_max_size': 4}. Best is trial 0 with value: 96.0.\u001b[0m\n",
            "\u001b[32m[I 2022-03-03 20:47:19,598]\u001b[0m Trial 5 finished with value: 93.0 and parameters: {'loss_function': 'MultiClassOneVsAll', 'learning_rate': 0.5055292953743407, 'l2_leaf_reg': 0.021647096704604244, 'colsample_bylevel': 0.0580233939282075, 'depth': 4, 'boosting_type': 'Ordered', 'bootstrap_type': 'Bernoulli', 'min_data_in_leaf': 7, 'one_hot_max_size': 16, 'subsample': 0.9454690264930606}. Best is trial 0 with value: 96.0.\u001b[0m\n",
            "\u001b[32m[I 2022-03-03 20:47:35,916]\u001b[0m Trial 6 finished with value: 95.0 and parameters: {'loss_function': 'MultiClass', 'learning_rate': 4.515099413962173e-05, 'l2_leaf_reg': 0.11809792734996176, 'colsample_bylevel': 0.011467225013070475, 'depth': 8, 'boosting_type': 'Ordered', 'bootstrap_type': 'Bayesian', 'min_data_in_leaf': 5, 'one_hot_max_size': 17, 'bagging_temperature': 3.588456196971875}. Best is trial 0 with value: 96.0.\u001b[0m\n",
            "\u001b[32m[I 2022-03-03 20:49:33,942]\u001b[0m Trial 7 finished with value: 87.0 and parameters: {'loss_function': 'MultiClass', 'learning_rate': 0.005440411050474265, 'l2_leaf_reg': 0.053262976292063835, 'colsample_bylevel': 0.09736718014853432, 'depth': 8, 'boosting_type': 'Ordered', 'bootstrap_type': 'Bernoulli', 'min_data_in_leaf': 15, 'one_hot_max_size': 13, 'subsample': 0.8463425611616239}. Best is trial 0 with value: 96.0.\u001b[0m\n"
          ]
        },
        {
          "output_type": "stream",
          "name": "stdout",
          "text": [
            "Number of completed trials: 8\n",
            "Best trial:\n",
            "\tBest Score: 96.0\n",
            "\tBest Params: \n",
            "    loss_function: MultiClassOneVsAll\n",
            "    learning_rate: 0.07840537363253505\n",
            "    l2_leaf_reg: 0.31142505861712894\n",
            "    colsample_bylevel: 0.053137094559076004\n",
            "    depth: 6\n",
            "    boosting_type: Ordered\n",
            "    bootstrap_type: Bernoulli\n",
            "    min_data_in_leaf: 4\n",
            "    one_hot_max_size: 17\n",
            "    subsample: 0.140653796045213\n"
          ]
        }
      ]
    },
    {
      "cell_type": "code",
      "source": [
        "# cat_model_hgb = CatBoostClassifier(**study.best_trial.params)"
      ],
      "metadata": {
        "id": "cqIKpkHKjiDr"
      },
      "id": "cqIKpkHKjiDr",
      "execution_count": 44,
      "outputs": []
    },
    {
      "cell_type": "code",
      "source": [
        "# # # Heamoglobin\n",
        "# cat_hgb = cat_model_hgb.fit(df_trainu,y_hemoglobin_hgb_human)\n",
        "# hemoglobin_hgb_human = cat_hgb.predict(X_testu)\n",
        "# test['hemoglobin_hgb_human'] = hemoglobin_hgb_human.astype(str)\n",
        "# test['hemoglobin_hgb_human'] = test['hemoglobin_hgb_human'].replace(reverse_mapping)\n",
        "# test['hemoglobin_hgb_human'].value_counts()"
      ],
      "metadata": {
        "colab": {
          "base_uri": "https://localhost:8080/"
        },
        "id": "c9Iy5xyui0Vm",
        "outputId": "1606f4a0-b73b-47eb-8e11-b0fba462db76"
      },
      "id": "c9Iy5xyui0Vm",
      "execution_count": 45,
      "outputs": [
        {
          "output_type": "stream",
          "name": "stdout",
          "text": [
            "0:\tlearn: 0.6417426\ttotal: 100ms\tremaining: 1m 40s\n",
            "1:\tlearn: 0.5981419\ttotal: 148ms\tremaining: 1m 13s\n",
            "2:\tlearn: 0.5598050\ttotal: 190ms\tremaining: 1m 3s\n",
            "3:\tlearn: 0.5268965\ttotal: 290ms\tremaining: 1m 12s\n",
            "4:\tlearn: 0.4979213\ttotal: 371ms\tremaining: 1m 13s\n",
            "5:\tlearn: 0.4725677\ttotal: 444ms\tremaining: 1m 13s\n",
            "6:\tlearn: 0.4498763\ttotal: 488ms\tremaining: 1m 9s\n",
            "7:\tlearn: 0.4298241\ttotal: 554ms\tremaining: 1m 8s\n",
            "8:\tlearn: 0.4116167\ttotal: 671ms\tremaining: 1m 13s\n",
            "9:\tlearn: 0.3956242\ttotal: 757ms\tremaining: 1m 14s\n",
            "10:\tlearn: 0.3813590\ttotal: 870ms\tremaining: 1m 18s\n",
            "11:\tlearn: 0.3687222\ttotal: 958ms\tremaining: 1m 18s\n",
            "12:\tlearn: 0.3566826\ttotal: 1.05s\tremaining: 1m 19s\n",
            "13:\tlearn: 0.3468499\ttotal: 1.12s\tremaining: 1m 18s\n",
            "14:\tlearn: 0.3377534\ttotal: 1.2s\tremaining: 1m 18s\n",
            "15:\tlearn: 0.3295096\ttotal: 1.28s\tremaining: 1m 18s\n",
            "16:\tlearn: 0.3219123\ttotal: 1.39s\tremaining: 1m 20s\n",
            "17:\tlearn: 0.3150164\ttotal: 1.46s\tremaining: 1m 19s\n",
            "18:\tlearn: 0.3088948\ttotal: 1.57s\tremaining: 1m 21s\n",
            "19:\tlearn: 0.3032826\ttotal: 1.64s\tremaining: 1m 20s\n",
            "20:\tlearn: 0.2987243\ttotal: 1.69s\tremaining: 1m 18s\n",
            "21:\tlearn: 0.2940974\ttotal: 1.75s\tremaining: 1m 17s\n",
            "22:\tlearn: 0.2899489\ttotal: 1.85s\tremaining: 1m 18s\n",
            "23:\tlearn: 0.2858810\ttotal: 1.9s\tremaining: 1m 17s\n",
            "24:\tlearn: 0.2823566\ttotal: 2s\tremaining: 1m 17s\n",
            "25:\tlearn: 0.2788637\ttotal: 2.07s\tremaining: 1m 17s\n",
            "26:\tlearn: 0.2757428\ttotal: 2.15s\tremaining: 1m 17s\n",
            "27:\tlearn: 0.2730263\ttotal: 2.21s\tremaining: 1m 16s\n",
            "28:\tlearn: 0.2709495\ttotal: 2.26s\tremaining: 1m 15s\n",
            "29:\tlearn: 0.2685843\ttotal: 2.35s\tremaining: 1m 15s\n",
            "30:\tlearn: 0.2659388\ttotal: 2.43s\tremaining: 1m 16s\n",
            "31:\tlearn: 0.2640502\ttotal: 2.51s\tremaining: 1m 15s\n",
            "32:\tlearn: 0.2612509\ttotal: 2.59s\tremaining: 1m 15s\n",
            "33:\tlearn: 0.2593196\ttotal: 2.66s\tremaining: 1m 15s\n",
            "34:\tlearn: 0.2575601\ttotal: 2.73s\tremaining: 1m 15s\n",
            "35:\tlearn: 0.2556403\ttotal: 2.83s\tremaining: 1m 15s\n",
            "36:\tlearn: 0.2535426\ttotal: 2.9s\tremaining: 1m 15s\n",
            "37:\tlearn: 0.2520105\ttotal: 2.96s\tremaining: 1m 15s\n",
            "38:\tlearn: 0.2494758\ttotal: 3.03s\tremaining: 1m 14s\n",
            "39:\tlearn: 0.2470720\ttotal: 3.12s\tremaining: 1m 14s\n",
            "40:\tlearn: 0.2455884\ttotal: 3.21s\tremaining: 1m 15s\n",
            "41:\tlearn: 0.2449621\ttotal: 3.28s\tremaining: 1m 14s\n",
            "42:\tlearn: 0.2441289\ttotal: 3.35s\tremaining: 1m 14s\n",
            "43:\tlearn: 0.2429942\ttotal: 3.43s\tremaining: 1m 14s\n",
            "44:\tlearn: 0.2424486\ttotal: 3.52s\tremaining: 1m 14s\n",
            "45:\tlearn: 0.2409177\ttotal: 3.62s\tremaining: 1m 14s\n",
            "46:\tlearn: 0.2390405\ttotal: 3.72s\tremaining: 1m 15s\n",
            "47:\tlearn: 0.2375770\ttotal: 3.8s\tremaining: 1m 15s\n",
            "48:\tlearn: 0.2355188\ttotal: 3.87s\tremaining: 1m 15s\n",
            "49:\tlearn: 0.2344125\ttotal: 3.95s\tremaining: 1m 15s\n",
            "50:\tlearn: 0.2331765\ttotal: 4.01s\tremaining: 1m 14s\n",
            "51:\tlearn: 0.2326040\ttotal: 4.07s\tremaining: 1m 14s\n",
            "52:\tlearn: 0.2303179\ttotal: 4.14s\tremaining: 1m 13s\n",
            "53:\tlearn: 0.2288155\ttotal: 4.19s\tremaining: 1m 13s\n",
            "54:\tlearn: 0.2273142\ttotal: 4.24s\tremaining: 1m 12s\n",
            "55:\tlearn: 0.2262322\ttotal: 4.31s\tremaining: 1m 12s\n",
            "56:\tlearn: 0.2251631\ttotal: 4.39s\tremaining: 1m 12s\n",
            "57:\tlearn: 0.2242292\ttotal: 4.49s\tremaining: 1m 12s\n",
            "58:\tlearn: 0.2231145\ttotal: 4.55s\tremaining: 1m 12s\n",
            "59:\tlearn: 0.2221254\ttotal: 4.62s\tremaining: 1m 12s\n",
            "60:\tlearn: 0.2208714\ttotal: 4.68s\tremaining: 1m 11s\n",
            "61:\tlearn: 0.2190491\ttotal: 4.75s\tremaining: 1m 11s\n",
            "62:\tlearn: 0.2186115\ttotal: 4.84s\tremaining: 1m 11s\n",
            "63:\tlearn: 0.2176839\ttotal: 4.91s\tremaining: 1m 11s\n",
            "64:\tlearn: 0.2163524\ttotal: 4.93s\tremaining: 1m 10s\n",
            "65:\tlearn: 0.2154619\ttotal: 4.97s\tremaining: 1m 10s\n",
            "66:\tlearn: 0.2146853\ttotal: 5.01s\tremaining: 1m 9s\n",
            "67:\tlearn: 0.2131890\ttotal: 5.05s\tremaining: 1m 9s\n",
            "68:\tlearn: 0.2122533\ttotal: 5.09s\tremaining: 1m 8s\n",
            "69:\tlearn: 0.2113927\ttotal: 5.12s\tremaining: 1m 8s\n",
            "70:\tlearn: 0.2103965\ttotal: 5.16s\tremaining: 1m 7s\n",
            "71:\tlearn: 0.2086542\ttotal: 5.19s\tremaining: 1m 6s\n",
            "72:\tlearn: 0.2080819\ttotal: 5.23s\tremaining: 1m 6s\n",
            "73:\tlearn: 0.2071486\ttotal: 5.26s\tremaining: 1m 5s\n",
            "74:\tlearn: 0.2065399\ttotal: 5.3s\tremaining: 1m 5s\n",
            "75:\tlearn: 0.2059806\ttotal: 5.35s\tremaining: 1m 5s\n",
            "76:\tlearn: 0.2050493\ttotal: 5.38s\tremaining: 1m 4s\n",
            "77:\tlearn: 0.2036438\ttotal: 5.46s\tremaining: 1m 4s\n",
            "78:\tlearn: 0.2015540\ttotal: 5.51s\tremaining: 1m 4s\n",
            "79:\tlearn: 0.2009749\ttotal: 5.56s\tremaining: 1m 3s\n",
            "80:\tlearn: 0.1999253\ttotal: 5.67s\tremaining: 1m 4s\n",
            "81:\tlearn: 0.1992498\ttotal: 5.78s\tremaining: 1m 4s\n",
            "82:\tlearn: 0.1979141\ttotal: 5.85s\tremaining: 1m 4s\n",
            "83:\tlearn: 0.1967507\ttotal: 5.95s\tremaining: 1m 4s\n",
            "84:\tlearn: 0.1950615\ttotal: 6.01s\tremaining: 1m 4s\n",
            "85:\tlearn: 0.1937046\ttotal: 6.08s\tremaining: 1m 4s\n",
            "86:\tlearn: 0.1929413\ttotal: 6.16s\tremaining: 1m 4s\n",
            "87:\tlearn: 0.1922592\ttotal: 6.24s\tremaining: 1m 4s\n",
            "88:\tlearn: 0.1917914\ttotal: 6.32s\tremaining: 1m 4s\n",
            "89:\tlearn: 0.1913957\ttotal: 6.38s\tremaining: 1m 4s\n",
            "90:\tlearn: 0.1887230\ttotal: 6.46s\tremaining: 1m 4s\n",
            "91:\tlearn: 0.1876035\ttotal: 6.54s\tremaining: 1m 4s\n",
            "92:\tlearn: 0.1865085\ttotal: 6.62s\tremaining: 1m 4s\n",
            "93:\tlearn: 0.1845680\ttotal: 6.68s\tremaining: 1m 4s\n",
            "94:\tlearn: 0.1831507\ttotal: 6.76s\tremaining: 1m 4s\n",
            "95:\tlearn: 0.1825272\ttotal: 6.83s\tremaining: 1m 4s\n",
            "96:\tlearn: 0.1810207\ttotal: 6.89s\tremaining: 1m 4s\n",
            "97:\tlearn: 0.1800335\ttotal: 6.96s\tremaining: 1m 4s\n",
            "98:\tlearn: 0.1789154\ttotal: 7.05s\tremaining: 1m 4s\n",
            "99:\tlearn: 0.1774179\ttotal: 7.14s\tremaining: 1m 4s\n",
            "100:\tlearn: 0.1761529\ttotal: 7.21s\tremaining: 1m 4s\n",
            "101:\tlearn: 0.1750031\ttotal: 7.29s\tremaining: 1m 4s\n",
            "102:\tlearn: 0.1744111\ttotal: 7.36s\tremaining: 1m 4s\n",
            "103:\tlearn: 0.1731727\ttotal: 7.47s\tremaining: 1m 4s\n",
            "104:\tlearn: 0.1721822\ttotal: 7.58s\tremaining: 1m 4s\n",
            "105:\tlearn: 0.1716525\ttotal: 7.65s\tremaining: 1m 4s\n",
            "106:\tlearn: 0.1704797\ttotal: 7.76s\tremaining: 1m 4s\n",
            "107:\tlearn: 0.1693526\ttotal: 7.83s\tremaining: 1m 4s\n",
            "108:\tlearn: 0.1683835\ttotal: 7.93s\tremaining: 1m 4s\n",
            "109:\tlearn: 0.1676297\ttotal: 8.02s\tremaining: 1m 4s\n",
            "110:\tlearn: 0.1672412\ttotal: 8.11s\tremaining: 1m 4s\n",
            "111:\tlearn: 0.1656191\ttotal: 8.26s\tremaining: 1m 5s\n",
            "112:\tlearn: 0.1647720\ttotal: 8.33s\tremaining: 1m 5s\n",
            "113:\tlearn: 0.1642420\ttotal: 8.42s\tremaining: 1m 5s\n",
            "114:\tlearn: 0.1638433\ttotal: 8.47s\tremaining: 1m 5s\n",
            "115:\tlearn: 0.1627647\ttotal: 8.58s\tremaining: 1m 5s\n",
            "116:\tlearn: 0.1615932\ttotal: 8.63s\tremaining: 1m 5s\n",
            "117:\tlearn: 0.1604508\ttotal: 8.73s\tremaining: 1m 5s\n",
            "118:\tlearn: 0.1591642\ttotal: 8.8s\tremaining: 1m 5s\n",
            "119:\tlearn: 0.1580287\ttotal: 8.87s\tremaining: 1m 5s\n",
            "120:\tlearn: 0.1575978\ttotal: 8.95s\tremaining: 1m 5s\n",
            "121:\tlearn: 0.1566846\ttotal: 9s\tremaining: 1m 4s\n",
            "122:\tlearn: 0.1558126\ttotal: 9.07s\tremaining: 1m 4s\n",
            "123:\tlearn: 0.1553159\ttotal: 9.11s\tremaining: 1m 4s\n",
            "124:\tlearn: 0.1546767\ttotal: 9.15s\tremaining: 1m 4s\n",
            "125:\tlearn: 0.1539370\ttotal: 9.18s\tremaining: 1m 3s\n",
            "126:\tlearn: 0.1533711\ttotal: 9.23s\tremaining: 1m 3s\n",
            "127:\tlearn: 0.1528604\ttotal: 9.26s\tremaining: 1m 3s\n",
            "128:\tlearn: 0.1523885\ttotal: 9.3s\tremaining: 1m 2s\n",
            "129:\tlearn: 0.1511673\ttotal: 9.33s\tremaining: 1m 2s\n",
            "130:\tlearn: 0.1502714\ttotal: 9.39s\tremaining: 1m 2s\n",
            "131:\tlearn: 0.1495537\ttotal: 9.51s\tremaining: 1m 2s\n",
            "132:\tlearn: 0.1487088\ttotal: 9.58s\tremaining: 1m 2s\n",
            "133:\tlearn: 0.1481064\ttotal: 9.66s\tremaining: 1m 2s\n",
            "134:\tlearn: 0.1472064\ttotal: 9.75s\tremaining: 1m 2s\n",
            "135:\tlearn: 0.1461422\ttotal: 9.84s\tremaining: 1m 2s\n",
            "136:\tlearn: 0.1452406\ttotal: 9.91s\tremaining: 1m 2s\n",
            "137:\tlearn: 0.1446872\ttotal: 10s\tremaining: 1m 2s\n",
            "138:\tlearn: 0.1441073\ttotal: 10.1s\tremaining: 1m 2s\n",
            "139:\tlearn: 0.1434742\ttotal: 10.2s\tremaining: 1m 2s\n",
            "140:\tlearn: 0.1424372\ttotal: 10.2s\tremaining: 1m 2s\n",
            "141:\tlearn: 0.1417933\ttotal: 10.3s\tremaining: 1m 2s\n",
            "142:\tlearn: 0.1407817\ttotal: 10.4s\tremaining: 1m 2s\n",
            "143:\tlearn: 0.1403644\ttotal: 10.5s\tremaining: 1m 2s\n",
            "144:\tlearn: 0.1393767\ttotal: 10.5s\tremaining: 1m 2s\n",
            "145:\tlearn: 0.1389144\ttotal: 10.6s\tremaining: 1m 2s\n",
            "146:\tlearn: 0.1378717\ttotal: 10.7s\tremaining: 1m 2s\n",
            "147:\tlearn: 0.1372532\ttotal: 10.8s\tremaining: 1m 1s\n",
            "148:\tlearn: 0.1365633\ttotal: 10.9s\tremaining: 1m 2s\n",
            "149:\tlearn: 0.1359426\ttotal: 10.9s\tremaining: 1m 2s\n",
            "150:\tlearn: 0.1353817\ttotal: 11s\tremaining: 1m 1s\n",
            "151:\tlearn: 0.1347246\ttotal: 11s\tremaining: 1m 1s\n",
            "152:\tlearn: 0.1338646\ttotal: 11s\tremaining: 1m 1s\n",
            "153:\tlearn: 0.1335255\ttotal: 11.1s\tremaining: 1m\n",
            "154:\tlearn: 0.1330324\ttotal: 11.1s\tremaining: 1m\n",
            "155:\tlearn: 0.1323978\ttotal: 11.2s\tremaining: 1m\n",
            "156:\tlearn: 0.1319420\ttotal: 11.3s\tremaining: 1m\n",
            "157:\tlearn: 0.1311662\ttotal: 11.3s\tremaining: 1m\n",
            "158:\tlearn: 0.1304362\ttotal: 11.4s\tremaining: 1m\n",
            "159:\tlearn: 0.1300388\ttotal: 11.5s\tremaining: 1m\n",
            "160:\tlearn: 0.1294583\ttotal: 11.6s\tremaining: 1m\n",
            "161:\tlearn: 0.1287619\ttotal: 11.6s\tremaining: 1m\n",
            "162:\tlearn: 0.1281344\ttotal: 11.7s\tremaining: 1m\n",
            "163:\tlearn: 0.1274430\ttotal: 11.8s\tremaining: 1m\n",
            "164:\tlearn: 0.1269274\ttotal: 11.9s\tremaining: 60s\n",
            "165:\tlearn: 0.1263770\ttotal: 11.9s\tremaining: 59.9s\n",
            "166:\tlearn: 0.1255748\ttotal: 12s\tremaining: 59.9s\n",
            "167:\tlearn: 0.1248650\ttotal: 12.1s\tremaining: 59.8s\n",
            "168:\tlearn: 0.1245058\ttotal: 12.1s\tremaining: 59.7s\n",
            "169:\tlearn: 0.1238257\ttotal: 12.2s\tremaining: 59.6s\n",
            "170:\tlearn: 0.1232426\ttotal: 12.3s\tremaining: 59.6s\n",
            "171:\tlearn: 0.1228800\ttotal: 12.4s\tremaining: 59.5s\n",
            "172:\tlearn: 0.1225824\ttotal: 12.4s\tremaining: 59.4s\n",
            "173:\tlearn: 0.1220670\ttotal: 12.5s\tremaining: 59.4s\n",
            "174:\tlearn: 0.1213568\ttotal: 12.6s\tremaining: 59.3s\n",
            "175:\tlearn: 0.1206283\ttotal: 12.7s\tremaining: 59.2s\n",
            "176:\tlearn: 0.1199148\ttotal: 12.7s\tremaining: 59.2s\n",
            "177:\tlearn: 0.1195498\ttotal: 12.8s\tremaining: 59.2s\n",
            "178:\tlearn: 0.1190518\ttotal: 12.9s\tremaining: 59.1s\n",
            "179:\tlearn: 0.1183549\ttotal: 13s\tremaining: 59s\n",
            "180:\tlearn: 0.1173265\ttotal: 13s\tremaining: 58.9s\n",
            "181:\tlearn: 0.1164867\ttotal: 13.1s\tremaining: 58.7s\n",
            "182:\tlearn: 0.1157986\ttotal: 13.1s\tremaining: 58.6s\n",
            "183:\tlearn: 0.1155046\ttotal: 13.2s\tremaining: 58.5s\n",
            "184:\tlearn: 0.1147485\ttotal: 13.2s\tremaining: 58.4s\n",
            "185:\tlearn: 0.1143369\ttotal: 13.3s\tremaining: 58.3s\n",
            "186:\tlearn: 0.1139075\ttotal: 13.4s\tremaining: 58.2s\n",
            "187:\tlearn: 0.1133734\ttotal: 13.5s\tremaining: 58.2s\n",
            "188:\tlearn: 0.1122688\ttotal: 13.5s\tremaining: 58.1s\n",
            "189:\tlearn: 0.1117064\ttotal: 13.6s\tremaining: 57.9s\n",
            "190:\tlearn: 0.1111513\ttotal: 13.7s\tremaining: 57.9s\n",
            "191:\tlearn: 0.1108530\ttotal: 13.8s\tremaining: 58s\n",
            "192:\tlearn: 0.1107130\ttotal: 13.9s\tremaining: 58s\n",
            "193:\tlearn: 0.1103821\ttotal: 13.9s\tremaining: 57.8s\n",
            "194:\tlearn: 0.1097765\ttotal: 14s\tremaining: 57.7s\n",
            "195:\tlearn: 0.1084082\ttotal: 14.1s\tremaining: 57.7s\n",
            "196:\tlearn: 0.1075999\ttotal: 14.1s\tremaining: 57.5s\n",
            "197:\tlearn: 0.1066614\ttotal: 14.2s\tremaining: 57.5s\n",
            "198:\tlearn: 0.1059511\ttotal: 14.3s\tremaining: 57.4s\n",
            "199:\tlearn: 0.1054589\ttotal: 14.4s\tremaining: 57.5s\n",
            "200:\tlearn: 0.1047983\ttotal: 14.4s\tremaining: 57.4s\n",
            "201:\tlearn: 0.1045439\ttotal: 14.5s\tremaining: 57.4s\n",
            "202:\tlearn: 0.1042178\ttotal: 14.6s\tremaining: 57.2s\n",
            "203:\tlearn: 0.1036641\ttotal: 14.6s\tremaining: 57.1s\n",
            "204:\tlearn: 0.1033548\ttotal: 14.7s\tremaining: 57s\n",
            "205:\tlearn: 0.1027615\ttotal: 14.8s\tremaining: 57s\n",
            "206:\tlearn: 0.1024120\ttotal: 14.9s\tremaining: 56.9s\n",
            "207:\tlearn: 0.1021540\ttotal: 14.9s\tremaining: 56.8s\n",
            "208:\tlearn: 0.1011410\ttotal: 15s\tremaining: 56.7s\n",
            "209:\tlearn: 0.1004340\ttotal: 15.1s\tremaining: 56.6s\n",
            "210:\tlearn: 0.0997558\ttotal: 15.1s\tremaining: 56.5s\n",
            "211:\tlearn: 0.0995201\ttotal: 15.2s\tremaining: 56.5s\n",
            "212:\tlearn: 0.0989955\ttotal: 15.2s\tremaining: 56.3s\n",
            "213:\tlearn: 0.0985638\ttotal: 15.3s\tremaining: 56.1s\n",
            "214:\tlearn: 0.0977158\ttotal: 15.3s\tremaining: 56s\n",
            "215:\tlearn: 0.0971969\ttotal: 15.4s\tremaining: 55.8s\n",
            "216:\tlearn: 0.0968412\ttotal: 15.4s\tremaining: 55.6s\n",
            "217:\tlearn: 0.0963986\ttotal: 15.4s\tremaining: 55.4s\n",
            "218:\tlearn: 0.0958962\ttotal: 15.5s\tremaining: 55.2s\n",
            "219:\tlearn: 0.0955605\ttotal: 15.5s\tremaining: 55s\n",
            "220:\tlearn: 0.0951936\ttotal: 15.6s\tremaining: 54.9s\n",
            "221:\tlearn: 0.0948878\ttotal: 15.6s\tremaining: 54.6s\n",
            "222:\tlearn: 0.0947705\ttotal: 15.6s\tremaining: 54.4s\n",
            "223:\tlearn: 0.0943584\ttotal: 15.7s\tremaining: 54.3s\n",
            "224:\tlearn: 0.0939191\ttotal: 15.7s\tremaining: 54.1s\n",
            "225:\tlearn: 0.0934252\ttotal: 15.7s\tremaining: 53.9s\n",
            "226:\tlearn: 0.0927121\ttotal: 15.8s\tremaining: 53.7s\n",
            "227:\tlearn: 0.0922948\ttotal: 15.8s\tremaining: 53.6s\n",
            "228:\tlearn: 0.0919715\ttotal: 15.9s\tremaining: 53.4s\n",
            "229:\tlearn: 0.0910002\ttotal: 15.9s\tremaining: 53.2s\n",
            "230:\tlearn: 0.0908097\ttotal: 15.9s\tremaining: 53s\n",
            "231:\tlearn: 0.0907116\ttotal: 16s\tremaining: 52.8s\n",
            "232:\tlearn: 0.0896564\ttotal: 16s\tremaining: 52.6s\n",
            "233:\tlearn: 0.0890435\ttotal: 16s\tremaining: 52.5s\n",
            "234:\tlearn: 0.0885050\ttotal: 16.1s\tremaining: 52.3s\n",
            "235:\tlearn: 0.0880586\ttotal: 16.1s\tremaining: 52.1s\n",
            "236:\tlearn: 0.0874270\ttotal: 16.1s\tremaining: 51.9s\n",
            "237:\tlearn: 0.0871720\ttotal: 16.2s\tremaining: 51.7s\n",
            "238:\tlearn: 0.0869210\ttotal: 16.2s\tremaining: 51.6s\n",
            "239:\tlearn: 0.0867662\ttotal: 16.2s\tremaining: 51.4s\n",
            "240:\tlearn: 0.0862264\ttotal: 16.3s\tremaining: 51.2s\n",
            "241:\tlearn: 0.0857604\ttotal: 16.3s\tremaining: 51.1s\n",
            "242:\tlearn: 0.0855102\ttotal: 16.3s\tremaining: 50.9s\n",
            "243:\tlearn: 0.0853554\ttotal: 16.4s\tremaining: 50.8s\n",
            "244:\tlearn: 0.0851979\ttotal: 16.4s\tremaining: 50.6s\n",
            "245:\tlearn: 0.0849678\ttotal: 16.5s\tremaining: 50.5s\n",
            "246:\tlearn: 0.0846911\ttotal: 16.5s\tremaining: 50.3s\n",
            "247:\tlearn: 0.0844515\ttotal: 16.5s\tremaining: 50.2s\n",
            "248:\tlearn: 0.0841897\ttotal: 16.6s\tremaining: 50.1s\n",
            "249:\tlearn: 0.0839012\ttotal: 16.6s\tremaining: 50s\n",
            "250:\tlearn: 0.0836382\ttotal: 16.7s\tremaining: 49.8s\n",
            "251:\tlearn: 0.0833028\ttotal: 16.7s\tremaining: 49.7s\n",
            "252:\tlearn: 0.0828741\ttotal: 16.8s\tremaining: 49.6s\n",
            "253:\tlearn: 0.0826019\ttotal: 16.8s\tremaining: 49.5s\n",
            "254:\tlearn: 0.0823082\ttotal: 16.9s\tremaining: 49.3s\n",
            "255:\tlearn: 0.0821217\ttotal: 16.9s\tremaining: 49.2s\n",
            "256:\tlearn: 0.0817777\ttotal: 17s\tremaining: 49.1s\n",
            "257:\tlearn: 0.0814452\ttotal: 17s\tremaining: 48.9s\n",
            "258:\tlearn: 0.0811633\ttotal: 17.1s\tremaining: 48.8s\n",
            "259:\tlearn: 0.0809199\ttotal: 17.1s\tremaining: 48.7s\n",
            "260:\tlearn: 0.0808265\ttotal: 17.1s\tremaining: 48.5s\n",
            "261:\tlearn: 0.0800662\ttotal: 17.2s\tremaining: 48.4s\n",
            "262:\tlearn: 0.0796762\ttotal: 17.2s\tremaining: 48.3s\n",
            "263:\tlearn: 0.0792818\ttotal: 17.3s\tremaining: 48.2s\n",
            "264:\tlearn: 0.0789550\ttotal: 17.3s\tremaining: 48s\n",
            "265:\tlearn: 0.0786253\ttotal: 17.4s\tremaining: 47.9s\n",
            "266:\tlearn: 0.0783091\ttotal: 17.4s\tremaining: 47.8s\n",
            "267:\tlearn: 0.0781232\ttotal: 17.4s\tremaining: 47.6s\n",
            "268:\tlearn: 0.0776721\ttotal: 17.5s\tremaining: 47.5s\n",
            "269:\tlearn: 0.0771768\ttotal: 17.5s\tremaining: 47.4s\n",
            "270:\tlearn: 0.0769532\ttotal: 17.6s\tremaining: 47.2s\n",
            "271:\tlearn: 0.0765442\ttotal: 17.6s\tremaining: 47.1s\n",
            "272:\tlearn: 0.0761852\ttotal: 17.6s\tremaining: 47s\n",
            "273:\tlearn: 0.0758552\ttotal: 17.7s\tremaining: 46.9s\n",
            "274:\tlearn: 0.0757545\ttotal: 17.7s\tremaining: 46.8s\n",
            "275:\tlearn: 0.0754500\ttotal: 17.8s\tremaining: 46.7s\n",
            "276:\tlearn: 0.0748122\ttotal: 17.8s\tremaining: 46.5s\n",
            "277:\tlearn: 0.0745316\ttotal: 17.9s\tremaining: 46.4s\n",
            "278:\tlearn: 0.0741036\ttotal: 17.9s\tremaining: 46.3s\n",
            "279:\tlearn: 0.0737174\ttotal: 18s\tremaining: 46.2s\n",
            "280:\tlearn: 0.0735860\ttotal: 18s\tremaining: 46.1s\n",
            "281:\tlearn: 0.0730189\ttotal: 18s\tremaining: 46s\n",
            "282:\tlearn: 0.0726627\ttotal: 18.1s\tremaining: 45.8s\n",
            "283:\tlearn: 0.0723563\ttotal: 18.1s\tremaining: 45.7s\n",
            "284:\tlearn: 0.0720769\ttotal: 18.2s\tremaining: 45.6s\n",
            "285:\tlearn: 0.0716383\ttotal: 18.2s\tremaining: 45.5s\n",
            "286:\tlearn: 0.0714040\ttotal: 18.2s\tremaining: 45.3s\n",
            "287:\tlearn: 0.0712194\ttotal: 18.3s\tremaining: 45.2s\n",
            "288:\tlearn: 0.0707696\ttotal: 18.3s\tremaining: 45.1s\n",
            "289:\tlearn: 0.0703982\ttotal: 18.4s\tremaining: 44.9s\n",
            "290:\tlearn: 0.0701724\ttotal: 18.4s\tremaining: 44.8s\n",
            "291:\tlearn: 0.0700294\ttotal: 18.4s\tremaining: 44.7s\n",
            "292:\tlearn: 0.0693165\ttotal: 18.5s\tremaining: 44.6s\n",
            "293:\tlearn: 0.0690991\ttotal: 18.5s\tremaining: 44.4s\n",
            "294:\tlearn: 0.0687370\ttotal: 18.6s\tremaining: 44.4s\n",
            "295:\tlearn: 0.0684224\ttotal: 18.6s\tremaining: 44.3s\n",
            "296:\tlearn: 0.0680682\ttotal: 18.7s\tremaining: 44.3s\n",
            "297:\tlearn: 0.0677690\ttotal: 18.8s\tremaining: 44.2s\n",
            "298:\tlearn: 0.0673500\ttotal: 18.8s\tremaining: 44.1s\n",
            "299:\tlearn: 0.0672133\ttotal: 18.9s\tremaining: 44s\n",
            "300:\tlearn: 0.0668328\ttotal: 19s\tremaining: 44s\n",
            "301:\tlearn: 0.0667570\ttotal: 19s\tremaining: 44s\n",
            "302:\tlearn: 0.0666377\ttotal: 19.1s\tremaining: 43.9s\n",
            "303:\tlearn: 0.0662377\ttotal: 19.2s\tremaining: 43.9s\n",
            "304:\tlearn: 0.0659350\ttotal: 19.2s\tremaining: 43.9s\n",
            "305:\tlearn: 0.0658124\ttotal: 19.3s\tremaining: 43.8s\n",
            "306:\tlearn: 0.0654033\ttotal: 19.3s\tremaining: 43.6s\n",
            "307:\tlearn: 0.0651421\ttotal: 19.4s\tremaining: 43.6s\n",
            "308:\tlearn: 0.0649942\ttotal: 19.5s\tremaining: 43.5s\n",
            "309:\tlearn: 0.0646998\ttotal: 19.5s\tremaining: 43.5s\n",
            "310:\tlearn: 0.0645020\ttotal: 19.6s\tremaining: 43.4s\n",
            "311:\tlearn: 0.0642694\ttotal: 19.6s\tremaining: 43.3s\n",
            "312:\tlearn: 0.0641654\ttotal: 19.7s\tremaining: 43.3s\n",
            "313:\tlearn: 0.0639743\ttotal: 19.8s\tremaining: 43.2s\n",
            "314:\tlearn: 0.0633988\ttotal: 19.9s\tremaining: 43.2s\n",
            "315:\tlearn: 0.0632053\ttotal: 19.9s\tremaining: 43.2s\n",
            "316:\tlearn: 0.0627169\ttotal: 20s\tremaining: 43.1s\n",
            "317:\tlearn: 0.0624690\ttotal: 20.1s\tremaining: 43.1s\n",
            "318:\tlearn: 0.0622688\ttotal: 20.1s\tremaining: 43s\n",
            "319:\tlearn: 0.0620089\ttotal: 20.2s\tremaining: 42.9s\n",
            "320:\tlearn: 0.0614724\ttotal: 20.3s\tremaining: 42.9s\n",
            "321:\tlearn: 0.0612427\ttotal: 20.3s\tremaining: 42.8s\n",
            "322:\tlearn: 0.0609047\ttotal: 20.4s\tremaining: 42.7s\n",
            "323:\tlearn: 0.0607216\ttotal: 20.4s\tremaining: 42.7s\n",
            "324:\tlearn: 0.0604446\ttotal: 20.5s\tremaining: 42.6s\n",
            "325:\tlearn: 0.0601446\ttotal: 20.6s\tremaining: 42.6s\n",
            "326:\tlearn: 0.0596625\ttotal: 20.7s\tremaining: 42.5s\n",
            "327:\tlearn: 0.0595467\ttotal: 20.7s\tremaining: 42.4s\n",
            "328:\tlearn: 0.0593309\ttotal: 20.7s\tremaining: 42.3s\n",
            "329:\tlearn: 0.0590487\ttotal: 20.8s\tremaining: 42.2s\n",
            "330:\tlearn: 0.0588016\ttotal: 20.8s\tremaining: 42.1s\n",
            "331:\tlearn: 0.0586458\ttotal: 20.8s\tremaining: 41.9s\n",
            "332:\tlearn: 0.0584413\ttotal: 20.9s\tremaining: 41.8s\n",
            "333:\tlearn: 0.0582302\ttotal: 20.9s\tremaining: 41.7s\n",
            "334:\tlearn: 0.0577633\ttotal: 21s\tremaining: 41.7s\n",
            "335:\tlearn: 0.0574344\ttotal: 21.1s\tremaining: 41.6s\n",
            "336:\tlearn: 0.0571264\ttotal: 21.1s\tremaining: 41.6s\n",
            "337:\tlearn: 0.0569592\ttotal: 21.2s\tremaining: 41.5s\n",
            "338:\tlearn: 0.0567877\ttotal: 21.3s\tremaining: 41.5s\n",
            "339:\tlearn: 0.0565439\ttotal: 21.3s\tremaining: 41.4s\n",
            "340:\tlearn: 0.0563179\ttotal: 21.4s\tremaining: 41.4s\n",
            "341:\tlearn: 0.0561554\ttotal: 21.5s\tremaining: 41.3s\n",
            "342:\tlearn: 0.0559460\ttotal: 21.5s\tremaining: 41.2s\n",
            "343:\tlearn: 0.0557941\ttotal: 21.6s\tremaining: 41.2s\n",
            "344:\tlearn: 0.0556264\ttotal: 21.7s\tremaining: 41.1s\n",
            "345:\tlearn: 0.0554419\ttotal: 21.8s\tremaining: 41.1s\n",
            "346:\tlearn: 0.0554026\ttotal: 21.8s\tremaining: 41s\n",
            "347:\tlearn: 0.0552232\ttotal: 21.9s\tremaining: 41.1s\n",
            "348:\tlearn: 0.0550504\ttotal: 22s\tremaining: 41.1s\n",
            "349:\tlearn: 0.0548672\ttotal: 22.1s\tremaining: 41.1s\n",
            "350:\tlearn: 0.0547107\ttotal: 22.3s\tremaining: 41.1s\n",
            "351:\tlearn: 0.0544384\ttotal: 22.4s\tremaining: 41.1s\n",
            "352:\tlearn: 0.0543273\ttotal: 22.5s\tremaining: 41.2s\n",
            "353:\tlearn: 0.0540234\ttotal: 22.6s\tremaining: 41.3s\n",
            "354:\tlearn: 0.0538309\ttotal: 22.7s\tremaining: 41.2s\n",
            "355:\tlearn: 0.0536693\ttotal: 22.8s\tremaining: 41.2s\n",
            "356:\tlearn: 0.0535514\ttotal: 22.9s\tremaining: 41.2s\n",
            "357:\tlearn: 0.0534193\ttotal: 23s\tremaining: 41.2s\n",
            "358:\tlearn: 0.0532197\ttotal: 23s\tremaining: 41.2s\n",
            "359:\tlearn: 0.0530446\ttotal: 23.2s\tremaining: 41.2s\n",
            "360:\tlearn: 0.0527865\ttotal: 23.3s\tremaining: 41.2s\n",
            "361:\tlearn: 0.0527371\ttotal: 23.4s\tremaining: 41.2s\n",
            "362:\tlearn: 0.0524566\ttotal: 23.5s\tremaining: 41.3s\n",
            "363:\tlearn: 0.0523006\ttotal: 23.6s\tremaining: 41.2s\n",
            "364:\tlearn: 0.0520739\ttotal: 23.6s\tremaining: 41.1s\n",
            "365:\tlearn: 0.0518918\ttotal: 23.7s\tremaining: 41s\n",
            "366:\tlearn: 0.0516194\ttotal: 23.7s\tremaining: 40.9s\n",
            "367:\tlearn: 0.0515087\ttotal: 23.7s\tremaining: 40.8s\n",
            "368:\tlearn: 0.0512018\ttotal: 23.8s\tremaining: 40.7s\n",
            "369:\tlearn: 0.0509909\ttotal: 23.8s\tremaining: 40.6s\n",
            "370:\tlearn: 0.0507873\ttotal: 23.9s\tremaining: 40.5s\n",
            "371:\tlearn: 0.0506321\ttotal: 24s\tremaining: 40.5s\n",
            "372:\tlearn: 0.0503861\ttotal: 24s\tremaining: 40.4s\n",
            "373:\tlearn: 0.0501524\ttotal: 24.1s\tremaining: 40.3s\n",
            "374:\tlearn: 0.0499641\ttotal: 24.1s\tremaining: 40.1s\n",
            "375:\tlearn: 0.0497872\ttotal: 24.1s\tremaining: 40s\n",
            "376:\tlearn: 0.0496043\ttotal: 24.2s\tremaining: 40s\n",
            "377:\tlearn: 0.0495283\ttotal: 24.2s\tremaining: 39.9s\n",
            "378:\tlearn: 0.0493679\ttotal: 24.3s\tremaining: 39.8s\n",
            "379:\tlearn: 0.0491813\ttotal: 24.4s\tremaining: 39.9s\n",
            "380:\tlearn: 0.0490773\ttotal: 24.5s\tremaining: 39.8s\n",
            "381:\tlearn: 0.0489286\ttotal: 24.6s\tremaining: 39.8s\n",
            "382:\tlearn: 0.0487350\ttotal: 24.7s\tremaining: 39.8s\n",
            "383:\tlearn: 0.0485873\ttotal: 24.8s\tremaining: 39.7s\n",
            "384:\tlearn: 0.0483273\ttotal: 24.8s\tremaining: 39.7s\n",
            "385:\tlearn: 0.0482271\ttotal: 24.9s\tremaining: 39.7s\n",
            "386:\tlearn: 0.0480810\ttotal: 25s\tremaining: 39.6s\n",
            "387:\tlearn: 0.0479178\ttotal: 25.1s\tremaining: 39.5s\n",
            "388:\tlearn: 0.0478255\ttotal: 25.1s\tremaining: 39.5s\n",
            "389:\tlearn: 0.0477504\ttotal: 25.2s\tremaining: 39.4s\n",
            "390:\tlearn: 0.0475213\ttotal: 25.3s\tremaining: 39.4s\n",
            "391:\tlearn: 0.0473331\ttotal: 25.4s\tremaining: 39.3s\n",
            "392:\tlearn: 0.0469325\ttotal: 25.4s\tremaining: 39.3s\n",
            "393:\tlearn: 0.0468167\ttotal: 25.5s\tremaining: 39.2s\n",
            "394:\tlearn: 0.0466612\ttotal: 25.6s\tremaining: 39.2s\n",
            "395:\tlearn: 0.0465436\ttotal: 25.6s\tremaining: 39.1s\n",
            "396:\tlearn: 0.0464598\ttotal: 25.7s\tremaining: 39s\n",
            "397:\tlearn: 0.0463186\ttotal: 25.8s\tremaining: 39s\n",
            "398:\tlearn: 0.0460844\ttotal: 25.8s\tremaining: 38.9s\n",
            "399:\tlearn: 0.0459655\ttotal: 25.9s\tremaining: 38.8s\n",
            "400:\tlearn: 0.0458226\ttotal: 26s\tremaining: 38.8s\n",
            "401:\tlearn: 0.0455455\ttotal: 26s\tremaining: 38.7s\n",
            "402:\tlearn: 0.0454118\ttotal: 26.1s\tremaining: 38.7s\n",
            "403:\tlearn: 0.0451723\ttotal: 26.2s\tremaining: 38.6s\n",
            "404:\tlearn: 0.0450592\ttotal: 26.3s\tremaining: 38.6s\n",
            "405:\tlearn: 0.0449027\ttotal: 26.4s\tremaining: 38.6s\n",
            "406:\tlearn: 0.0447496\ttotal: 26.4s\tremaining: 38.5s\n",
            "407:\tlearn: 0.0445474\ttotal: 26.5s\tremaining: 38.4s\n",
            "408:\tlearn: 0.0444691\ttotal: 26.5s\tremaining: 38.3s\n",
            "409:\tlearn: 0.0443124\ttotal: 26.6s\tremaining: 38.3s\n",
            "410:\tlearn: 0.0441845\ttotal: 26.7s\tremaining: 38.2s\n",
            "411:\tlearn: 0.0438357\ttotal: 26.7s\tremaining: 38.1s\n",
            "412:\tlearn: 0.0436557\ttotal: 26.8s\tremaining: 38s\n",
            "413:\tlearn: 0.0434727\ttotal: 26.8s\tremaining: 38s\n",
            "414:\tlearn: 0.0433466\ttotal: 26.9s\tremaining: 37.9s\n",
            "415:\tlearn: 0.0432240\ttotal: 27s\tremaining: 37.9s\n",
            "416:\tlearn: 0.0430986\ttotal: 27.1s\tremaining: 37.8s\n",
            "417:\tlearn: 0.0429399\ttotal: 27.1s\tremaining: 37.8s\n",
            "418:\tlearn: 0.0427864\ttotal: 27.2s\tremaining: 37.7s\n",
            "419:\tlearn: 0.0426197\ttotal: 27.3s\tremaining: 37.7s\n",
            "420:\tlearn: 0.0425450\ttotal: 27.3s\tremaining: 37.5s\n",
            "421:\tlearn: 0.0424052\ttotal: 27.3s\tremaining: 37.5s\n",
            "422:\tlearn: 0.0422617\ttotal: 27.4s\tremaining: 37.4s\n",
            "423:\tlearn: 0.0421258\ttotal: 27.5s\tremaining: 37.3s\n",
            "424:\tlearn: 0.0418957\ttotal: 27.5s\tremaining: 37.3s\n",
            "425:\tlearn: 0.0417984\ttotal: 27.6s\tremaining: 37.2s\n",
            "426:\tlearn: 0.0417402\ttotal: 27.7s\tremaining: 37.2s\n",
            "427:\tlearn: 0.0416892\ttotal: 27.8s\tremaining: 37.1s\n",
            "428:\tlearn: 0.0415468\ttotal: 27.8s\tremaining: 37.1s\n",
            "429:\tlearn: 0.0415154\ttotal: 27.9s\tremaining: 37s\n",
            "430:\tlearn: 0.0414239\ttotal: 28s\tremaining: 37s\n",
            "431:\tlearn: 0.0412979\ttotal: 28.1s\tremaining: 36.9s\n",
            "432:\tlearn: 0.0411273\ttotal: 28.1s\tremaining: 36.8s\n",
            "433:\tlearn: 0.0409212\ttotal: 28.2s\tremaining: 36.8s\n",
            "434:\tlearn: 0.0407114\ttotal: 28.3s\tremaining: 36.7s\n",
            "435:\tlearn: 0.0406118\ttotal: 28.3s\tremaining: 36.6s\n",
            "436:\tlearn: 0.0404651\ttotal: 28.4s\tremaining: 36.6s\n",
            "437:\tlearn: 0.0403308\ttotal: 28.5s\tremaining: 36.6s\n",
            "438:\tlearn: 0.0402003\ttotal: 28.6s\tremaining: 36.6s\n",
            "439:\tlearn: 0.0400432\ttotal: 28.8s\tremaining: 36.6s\n",
            "440:\tlearn: 0.0399128\ttotal: 28.9s\tremaining: 36.6s\n",
            "441:\tlearn: 0.0396367\ttotal: 29s\tremaining: 36.7s\n",
            "442:\tlearn: 0.0394600\ttotal: 29.2s\tremaining: 36.7s\n",
            "443:\tlearn: 0.0393925\ttotal: 29.3s\tremaining: 36.7s\n",
            "444:\tlearn: 0.0392666\ttotal: 29.3s\tremaining: 36.6s\n",
            "445:\tlearn: 0.0391286\ttotal: 29.4s\tremaining: 36.6s\n",
            "446:\tlearn: 0.0387869\ttotal: 29.5s\tremaining: 36.5s\n",
            "447:\tlearn: 0.0386819\ttotal: 29.6s\tremaining: 36.5s\n",
            "448:\tlearn: 0.0385579\ttotal: 29.7s\tremaining: 36.4s\n",
            "449:\tlearn: 0.0383953\ttotal: 29.8s\tremaining: 36.4s\n",
            "450:\tlearn: 0.0382985\ttotal: 29.9s\tremaining: 36.4s\n",
            "451:\tlearn: 0.0382267\ttotal: 29.9s\tremaining: 36.3s\n",
            "452:\tlearn: 0.0380412\ttotal: 30s\tremaining: 36.2s\n",
            "453:\tlearn: 0.0379245\ttotal: 30.1s\tremaining: 36.2s\n",
            "454:\tlearn: 0.0378019\ttotal: 30.2s\tremaining: 36.2s\n",
            "455:\tlearn: 0.0377123\ttotal: 30.3s\tremaining: 36.1s\n",
            "456:\tlearn: 0.0375238\ttotal: 30.4s\tremaining: 36.1s\n",
            "457:\tlearn: 0.0374039\ttotal: 30.4s\tremaining: 36s\n",
            "458:\tlearn: 0.0373405\ttotal: 30.5s\tremaining: 35.9s\n",
            "459:\tlearn: 0.0371897\ttotal: 30.6s\tremaining: 35.9s\n",
            "460:\tlearn: 0.0370861\ttotal: 30.7s\tremaining: 35.9s\n",
            "461:\tlearn: 0.0370161\ttotal: 30.7s\tremaining: 35.8s\n",
            "462:\tlearn: 0.0369259\ttotal: 30.8s\tremaining: 35.7s\n",
            "463:\tlearn: 0.0368440\ttotal: 30.8s\tremaining: 35.6s\n",
            "464:\tlearn: 0.0367186\ttotal: 30.8s\tremaining: 35.5s\n",
            "465:\tlearn: 0.0365805\ttotal: 30.9s\tremaining: 35.4s\n",
            "466:\tlearn: 0.0364632\ttotal: 30.9s\tremaining: 35.3s\n",
            "467:\tlearn: 0.0363366\ttotal: 30.9s\tremaining: 35.2s\n",
            "468:\tlearn: 0.0362054\ttotal: 31s\tremaining: 35.1s\n",
            "469:\tlearn: 0.0361501\ttotal: 31.1s\tremaining: 35.1s\n",
            "470:\tlearn: 0.0360418\ttotal: 31.2s\tremaining: 35s\n",
            "471:\tlearn: 0.0359603\ttotal: 31.3s\tremaining: 35s\n",
            "472:\tlearn: 0.0357840\ttotal: 31.3s\tremaining: 34.9s\n",
            "473:\tlearn: 0.0356793\ttotal: 31.4s\tremaining: 34.9s\n",
            "474:\tlearn: 0.0354946\ttotal: 31.5s\tremaining: 34.8s\n",
            "475:\tlearn: 0.0352047\ttotal: 31.6s\tremaining: 34.8s\n",
            "476:\tlearn: 0.0351168\ttotal: 31.7s\tremaining: 34.7s\n",
            "477:\tlearn: 0.0350606\ttotal: 31.8s\tremaining: 34.7s\n",
            "478:\tlearn: 0.0349788\ttotal: 31.8s\tremaining: 34.6s\n",
            "479:\tlearn: 0.0348747\ttotal: 31.9s\tremaining: 34.6s\n",
            "480:\tlearn: 0.0347702\ttotal: 32s\tremaining: 34.5s\n",
            "481:\tlearn: 0.0347340\ttotal: 32.1s\tremaining: 34.5s\n",
            "482:\tlearn: 0.0346550\ttotal: 32.1s\tremaining: 34.4s\n",
            "483:\tlearn: 0.0345486\ttotal: 32.2s\tremaining: 34.3s\n",
            "484:\tlearn: 0.0344823\ttotal: 32.3s\tremaining: 34.3s\n",
            "485:\tlearn: 0.0344311\ttotal: 32.4s\tremaining: 34.3s\n",
            "486:\tlearn: 0.0342820\ttotal: 32.4s\tremaining: 34.2s\n",
            "487:\tlearn: 0.0341327\ttotal: 32.5s\tremaining: 34.1s\n",
            "488:\tlearn: 0.0340084\ttotal: 32.5s\tremaining: 34s\n",
            "489:\tlearn: 0.0338861\ttotal: 32.6s\tremaining: 33.9s\n",
            "490:\tlearn: 0.0337465\ttotal: 32.6s\tremaining: 33.8s\n",
            "491:\tlearn: 0.0336893\ttotal: 32.7s\tremaining: 33.7s\n",
            "492:\tlearn: 0.0336500\ttotal: 32.7s\tremaining: 33.7s\n",
            "493:\tlearn: 0.0335709\ttotal: 32.9s\tremaining: 33.7s\n",
            "494:\tlearn: 0.0335102\ttotal: 33s\tremaining: 33.6s\n",
            "495:\tlearn: 0.0334246\ttotal: 33.1s\tremaining: 33.6s\n",
            "496:\tlearn: 0.0332824\ttotal: 33.1s\tremaining: 33.5s\n",
            "497:\tlearn: 0.0332051\ttotal: 33.2s\tremaining: 33.5s\n",
            "498:\tlearn: 0.0331713\ttotal: 33.3s\tremaining: 33.4s\n",
            "499:\tlearn: 0.0330763\ttotal: 33.3s\tremaining: 33.3s\n",
            "500:\tlearn: 0.0329103\ttotal: 33.4s\tremaining: 33.3s\n",
            "501:\tlearn: 0.0328530\ttotal: 33.5s\tremaining: 33.2s\n",
            "502:\tlearn: 0.0327728\ttotal: 33.5s\tremaining: 33.1s\n",
            "503:\tlearn: 0.0327094\ttotal: 33.6s\tremaining: 33.1s\n",
            "504:\tlearn: 0.0326438\ttotal: 33.7s\tremaining: 33s\n",
            "505:\tlearn: 0.0325566\ttotal: 33.7s\tremaining: 32.9s\n",
            "506:\tlearn: 0.0324786\ttotal: 33.8s\tremaining: 32.9s\n",
            "507:\tlearn: 0.0323552\ttotal: 33.9s\tremaining: 32.8s\n",
            "508:\tlearn: 0.0323014\ttotal: 34s\tremaining: 32.8s\n",
            "509:\tlearn: 0.0322242\ttotal: 34s\tremaining: 32.7s\n",
            "510:\tlearn: 0.0320875\ttotal: 34.1s\tremaining: 32.6s\n",
            "511:\tlearn: 0.0320412\ttotal: 34.2s\tremaining: 32.6s\n",
            "512:\tlearn: 0.0319959\ttotal: 34.3s\tremaining: 32.6s\n",
            "513:\tlearn: 0.0317628\ttotal: 34.4s\tremaining: 32.6s\n",
            "514:\tlearn: 0.0314855\ttotal: 34.5s\tremaining: 32.5s\n",
            "515:\tlearn: 0.0313864\ttotal: 34.6s\tremaining: 32.4s\n",
            "516:\tlearn: 0.0313438\ttotal: 34.6s\tremaining: 32.3s\n",
            "517:\tlearn: 0.0311974\ttotal: 34.7s\tremaining: 32.3s\n",
            "518:\tlearn: 0.0311555\ttotal: 34.7s\tremaining: 32.2s\n",
            "519:\tlearn: 0.0310329\ttotal: 34.7s\tremaining: 32.1s\n",
            "520:\tlearn: 0.0309090\ttotal: 34.8s\tremaining: 32s\n",
            "521:\tlearn: 0.0307448\ttotal: 34.8s\tremaining: 31.9s\n",
            "522:\tlearn: 0.0306934\ttotal: 34.9s\tremaining: 31.8s\n",
            "523:\tlearn: 0.0305946\ttotal: 35s\tremaining: 31.8s\n",
            "524:\tlearn: 0.0305163\ttotal: 35s\tremaining: 31.7s\n",
            "525:\tlearn: 0.0304161\ttotal: 35.1s\tremaining: 31.6s\n",
            "526:\tlearn: 0.0303735\ttotal: 35.2s\tremaining: 31.6s\n",
            "527:\tlearn: 0.0302961\ttotal: 35.2s\tremaining: 31.5s\n",
            "528:\tlearn: 0.0301707\ttotal: 35.3s\tremaining: 31.4s\n",
            "529:\tlearn: 0.0300586\ttotal: 35.4s\tremaining: 31.4s\n",
            "530:\tlearn: 0.0299304\ttotal: 35.5s\tremaining: 31.3s\n",
            "531:\tlearn: 0.0297027\ttotal: 35.6s\tremaining: 31.3s\n",
            "532:\tlearn: 0.0295843\ttotal: 35.6s\tremaining: 31.2s\n",
            "533:\tlearn: 0.0295412\ttotal: 35.7s\tremaining: 31.2s\n",
            "534:\tlearn: 0.0294685\ttotal: 35.8s\tremaining: 31.1s\n",
            "535:\tlearn: 0.0294339\ttotal: 35.8s\tremaining: 31s\n",
            "536:\tlearn: 0.0293321\ttotal: 35.9s\tremaining: 30.9s\n",
            "537:\tlearn: 0.0291728\ttotal: 35.9s\tremaining: 30.8s\n",
            "538:\tlearn: 0.0290121\ttotal: 36s\tremaining: 30.8s\n",
            "539:\tlearn: 0.0289255\ttotal: 36s\tremaining: 30.7s\n",
            "540:\tlearn: 0.0288262\ttotal: 36.1s\tremaining: 30.6s\n",
            "541:\tlearn: 0.0286661\ttotal: 36.1s\tremaining: 30.5s\n",
            "542:\tlearn: 0.0286156\ttotal: 36.2s\tremaining: 30.5s\n",
            "543:\tlearn: 0.0285504\ttotal: 36.3s\tremaining: 30.4s\n",
            "544:\tlearn: 0.0284149\ttotal: 36.4s\tremaining: 30.4s\n",
            "545:\tlearn: 0.0283679\ttotal: 36.4s\tremaining: 30.3s\n",
            "546:\tlearn: 0.0282548\ttotal: 36.5s\tremaining: 30.2s\n",
            "547:\tlearn: 0.0281655\ttotal: 36.5s\tremaining: 30.1s\n",
            "548:\tlearn: 0.0280925\ttotal: 36.6s\tremaining: 30.1s\n",
            "549:\tlearn: 0.0279997\ttotal: 36.7s\tremaining: 30s\n",
            "550:\tlearn: 0.0279133\ttotal: 36.7s\tremaining: 29.9s\n",
            "551:\tlearn: 0.0278590\ttotal: 36.8s\tremaining: 29.9s\n",
            "552:\tlearn: 0.0278074\ttotal: 36.9s\tremaining: 29.8s\n",
            "553:\tlearn: 0.0277155\ttotal: 37s\tremaining: 29.8s\n",
            "554:\tlearn: 0.0276655\ttotal: 37s\tremaining: 29.7s\n",
            "555:\tlearn: 0.0276126\ttotal: 37.1s\tremaining: 29.6s\n",
            "556:\tlearn: 0.0275289\ttotal: 37.2s\tremaining: 29.6s\n",
            "557:\tlearn: 0.0274315\ttotal: 37.3s\tremaining: 29.5s\n",
            "558:\tlearn: 0.0273917\ttotal: 37.3s\tremaining: 29.4s\n",
            "559:\tlearn: 0.0272769\ttotal: 37.4s\tremaining: 29.4s\n",
            "560:\tlearn: 0.0271877\ttotal: 37.4s\tremaining: 29.3s\n",
            "561:\tlearn: 0.0271309\ttotal: 37.5s\tremaining: 29.2s\n",
            "562:\tlearn: 0.0270438\ttotal: 37.6s\tremaining: 29.2s\n",
            "563:\tlearn: 0.0270212\ttotal: 37.6s\tremaining: 29.1s\n",
            "564:\tlearn: 0.0269733\ttotal: 37.7s\tremaining: 29s\n",
            "565:\tlearn: 0.0268820\ttotal: 37.8s\tremaining: 28.9s\n",
            "566:\tlearn: 0.0267600\ttotal: 37.8s\tremaining: 28.9s\n",
            "567:\tlearn: 0.0267325\ttotal: 37.9s\tremaining: 28.8s\n",
            "568:\tlearn: 0.0266780\ttotal: 37.9s\tremaining: 28.7s\n",
            "569:\tlearn: 0.0265981\ttotal: 37.9s\tremaining: 28.6s\n",
            "570:\tlearn: 0.0265680\ttotal: 38s\tremaining: 28.5s\n",
            "571:\tlearn: 0.0265288\ttotal: 38s\tremaining: 28.4s\n",
            "572:\tlearn: 0.0264945\ttotal: 38.1s\tremaining: 28.4s\n",
            "573:\tlearn: 0.0264469\ttotal: 38.1s\tremaining: 28.3s\n",
            "574:\tlearn: 0.0264232\ttotal: 38.2s\tremaining: 28.2s\n",
            "575:\tlearn: 0.0263902\ttotal: 38.2s\tremaining: 28.1s\n",
            "576:\tlearn: 0.0263233\ttotal: 38.3s\tremaining: 28.1s\n",
            "577:\tlearn: 0.0261834\ttotal: 38.4s\tremaining: 28s\n",
            "578:\tlearn: 0.0261079\ttotal: 38.4s\tremaining: 27.9s\n",
            "579:\tlearn: 0.0260526\ttotal: 38.5s\tremaining: 27.9s\n",
            "580:\tlearn: 0.0260069\ttotal: 38.5s\tremaining: 27.8s\n",
            "581:\tlearn: 0.0259798\ttotal: 38.6s\tremaining: 27.7s\n",
            "582:\tlearn: 0.0259054\ttotal: 38.6s\tremaining: 27.6s\n",
            "583:\tlearn: 0.0258722\ttotal: 38.7s\tremaining: 27.6s\n",
            "584:\tlearn: 0.0257801\ttotal: 38.8s\tremaining: 27.5s\n",
            "585:\tlearn: 0.0256764\ttotal: 38.9s\tremaining: 27.5s\n",
            "586:\tlearn: 0.0256280\ttotal: 38.9s\tremaining: 27.4s\n",
            "587:\tlearn: 0.0255712\ttotal: 39s\tremaining: 27.3s\n",
            "588:\tlearn: 0.0255163\ttotal: 39.1s\tremaining: 27.3s\n",
            "589:\tlearn: 0.0254278\ttotal: 39.2s\tremaining: 27.2s\n",
            "590:\tlearn: 0.0253687\ttotal: 39.3s\tremaining: 27.2s\n",
            "591:\tlearn: 0.0253171\ttotal: 39.3s\tremaining: 27.1s\n",
            "592:\tlearn: 0.0252578\ttotal: 39.4s\tremaining: 27s\n",
            "593:\tlearn: 0.0251926\ttotal: 39.5s\tremaining: 27s\n",
            "594:\tlearn: 0.0251810\ttotal: 39.5s\tremaining: 26.9s\n",
            "595:\tlearn: 0.0251533\ttotal: 39.6s\tremaining: 26.9s\n",
            "596:\tlearn: 0.0251121\ttotal: 39.7s\tremaining: 26.8s\n",
            "597:\tlearn: 0.0250642\ttotal: 39.8s\tremaining: 26.8s\n",
            "598:\tlearn: 0.0249388\ttotal: 39.9s\tremaining: 26.7s\n",
            "599:\tlearn: 0.0248969\ttotal: 40s\tremaining: 26.7s\n",
            "600:\tlearn: 0.0248701\ttotal: 40.1s\tremaining: 26.6s\n",
            "601:\tlearn: 0.0248244\ttotal: 40.2s\tremaining: 26.6s\n",
            "602:\tlearn: 0.0247668\ttotal: 40.2s\tremaining: 26.5s\n",
            "603:\tlearn: 0.0247037\ttotal: 40.3s\tremaining: 26.4s\n",
            "604:\tlearn: 0.0246498\ttotal: 40.4s\tremaining: 26.4s\n",
            "605:\tlearn: 0.0245475\ttotal: 40.4s\tremaining: 26.3s\n",
            "606:\tlearn: 0.0245005\ttotal: 40.5s\tremaining: 26.2s\n",
            "607:\tlearn: 0.0244139\ttotal: 40.6s\tremaining: 26.2s\n",
            "608:\tlearn: 0.0243511\ttotal: 40.7s\tremaining: 26.1s\n",
            "609:\tlearn: 0.0242651\ttotal: 40.8s\tremaining: 26.1s\n",
            "610:\tlearn: 0.0242202\ttotal: 40.8s\tremaining: 26s\n",
            "611:\tlearn: 0.0241826\ttotal: 40.9s\tremaining: 25.9s\n",
            "612:\tlearn: 0.0241294\ttotal: 41s\tremaining: 25.9s\n",
            "613:\tlearn: 0.0240926\ttotal: 41.1s\tremaining: 25.8s\n",
            "614:\tlearn: 0.0240619\ttotal: 41.1s\tremaining: 25.8s\n",
            "615:\tlearn: 0.0240097\ttotal: 41.2s\tremaining: 25.7s\n",
            "616:\tlearn: 0.0239149\ttotal: 41.3s\tremaining: 25.6s\n",
            "617:\tlearn: 0.0238701\ttotal: 41.4s\tremaining: 25.6s\n",
            "618:\tlearn: 0.0238011\ttotal: 41.5s\tremaining: 25.5s\n",
            "619:\tlearn: 0.0237073\ttotal: 41.5s\tremaining: 25.5s\n",
            "620:\tlearn: 0.0236543\ttotal: 41.6s\tremaining: 25.4s\n",
            "621:\tlearn: 0.0235723\ttotal: 41.7s\tremaining: 25.3s\n",
            "622:\tlearn: 0.0234865\ttotal: 41.7s\tremaining: 25.3s\n",
            "623:\tlearn: 0.0234574\ttotal: 41.8s\tremaining: 25.2s\n",
            "624:\tlearn: 0.0234406\ttotal: 41.9s\tremaining: 25.1s\n",
            "625:\tlearn: 0.0234074\ttotal: 41.9s\tremaining: 25s\n",
            "626:\tlearn: 0.0233522\ttotal: 42s\tremaining: 25s\n",
            "627:\tlearn: 0.0232080\ttotal: 42.1s\tremaining: 24.9s\n",
            "628:\tlearn: 0.0231794\ttotal: 42.1s\tremaining: 24.8s\n",
            "629:\tlearn: 0.0231363\ttotal: 42.2s\tremaining: 24.8s\n",
            "630:\tlearn: 0.0231026\ttotal: 42.3s\tremaining: 24.7s\n",
            "631:\tlearn: 0.0230361\ttotal: 42.4s\tremaining: 24.7s\n",
            "632:\tlearn: 0.0229885\ttotal: 42.5s\tremaining: 24.6s\n",
            "633:\tlearn: 0.0228963\ttotal: 42.6s\tremaining: 24.6s\n",
            "634:\tlearn: 0.0227669\ttotal: 42.7s\tremaining: 24.5s\n",
            "635:\tlearn: 0.0226954\ttotal: 42.8s\tremaining: 24.5s\n",
            "636:\tlearn: 0.0226656\ttotal: 42.8s\tremaining: 24.4s\n",
            "637:\tlearn: 0.0226085\ttotal: 42.9s\tremaining: 24.3s\n",
            "638:\tlearn: 0.0225218\ttotal: 43s\tremaining: 24.3s\n",
            "639:\tlearn: 0.0224761\ttotal: 43s\tremaining: 24.2s\n",
            "640:\tlearn: 0.0224258\ttotal: 43.1s\tremaining: 24.1s\n",
            "641:\tlearn: 0.0223708\ttotal: 43.1s\tremaining: 24s\n",
            "642:\tlearn: 0.0222802\ttotal: 43.1s\tremaining: 23.9s\n",
            "643:\tlearn: 0.0221965\ttotal: 43.2s\tremaining: 23.9s\n",
            "644:\tlearn: 0.0221511\ttotal: 43.2s\tremaining: 23.8s\n",
            "645:\tlearn: 0.0220561\ttotal: 43.3s\tremaining: 23.7s\n",
            "646:\tlearn: 0.0219263\ttotal: 43.3s\tremaining: 23.6s\n",
            "647:\tlearn: 0.0218871\ttotal: 43.4s\tremaining: 23.6s\n",
            "648:\tlearn: 0.0218509\ttotal: 43.4s\tremaining: 23.5s\n",
            "649:\tlearn: 0.0217954\ttotal: 43.5s\tremaining: 23.4s\n",
            "650:\tlearn: 0.0217543\ttotal: 43.5s\tremaining: 23.3s\n",
            "651:\tlearn: 0.0217158\ttotal: 43.5s\tremaining: 23.2s\n",
            "652:\tlearn: 0.0216699\ttotal: 43.5s\tremaining: 23.1s\n",
            "653:\tlearn: 0.0215364\ttotal: 43.6s\tremaining: 23.1s\n",
            "654:\tlearn: 0.0215111\ttotal: 43.6s\tremaining: 23s\n",
            "655:\tlearn: 0.0214498\ttotal: 43.7s\tremaining: 22.9s\n",
            "656:\tlearn: 0.0213860\ttotal: 43.7s\tremaining: 22.8s\n",
            "657:\tlearn: 0.0213582\ttotal: 43.7s\tremaining: 22.7s\n",
            "658:\tlearn: 0.0213366\ttotal: 43.8s\tremaining: 22.6s\n",
            "659:\tlearn: 0.0212796\ttotal: 43.8s\tremaining: 22.6s\n",
            "660:\tlearn: 0.0212567\ttotal: 43.8s\tremaining: 22.5s\n",
            "661:\tlearn: 0.0212135\ttotal: 43.9s\tremaining: 22.4s\n",
            "662:\tlearn: 0.0211851\ttotal: 43.9s\tremaining: 22.3s\n",
            "663:\tlearn: 0.0210303\ttotal: 44s\tremaining: 22.2s\n",
            "664:\tlearn: 0.0209740\ttotal: 44s\tremaining: 22.2s\n",
            "665:\tlearn: 0.0209440\ttotal: 44s\tremaining: 22.1s\n",
            "666:\tlearn: 0.0208627\ttotal: 44.1s\tremaining: 22s\n",
            "667:\tlearn: 0.0208038\ttotal: 44.1s\tremaining: 21.9s\n",
            "668:\tlearn: 0.0207163\ttotal: 44.2s\tremaining: 21.9s\n",
            "669:\tlearn: 0.0206203\ttotal: 44.2s\tremaining: 21.8s\n",
            "670:\tlearn: 0.0205977\ttotal: 44.3s\tremaining: 21.7s\n",
            "671:\tlearn: 0.0205535\ttotal: 44.3s\tremaining: 21.6s\n",
            "672:\tlearn: 0.0205105\ttotal: 44.3s\tremaining: 21.5s\n",
            "673:\tlearn: 0.0204599\ttotal: 44.4s\tremaining: 21.5s\n",
            "674:\tlearn: 0.0204190\ttotal: 44.4s\tremaining: 21.4s\n",
            "675:\tlearn: 0.0203802\ttotal: 44.5s\tremaining: 21.3s\n",
            "676:\tlearn: 0.0203420\ttotal: 44.5s\tremaining: 21.2s\n",
            "677:\tlearn: 0.0202933\ttotal: 44.5s\tremaining: 21.2s\n",
            "678:\tlearn: 0.0202592\ttotal: 44.6s\tremaining: 21.1s\n",
            "679:\tlearn: 0.0202160\ttotal: 44.6s\tremaining: 21s\n",
            "680:\tlearn: 0.0201980\ttotal: 44.6s\tremaining: 20.9s\n",
            "681:\tlearn: 0.0201560\ttotal: 44.7s\tremaining: 20.8s\n",
            "682:\tlearn: 0.0201290\ttotal: 44.7s\tremaining: 20.8s\n",
            "683:\tlearn: 0.0201007\ttotal: 44.7s\tremaining: 20.7s\n",
            "684:\tlearn: 0.0200264\ttotal: 44.8s\tremaining: 20.6s\n",
            "685:\tlearn: 0.0199556\ttotal: 44.8s\tremaining: 20.5s\n",
            "686:\tlearn: 0.0199274\ttotal: 44.9s\tremaining: 20.4s\n",
            "687:\tlearn: 0.0198682\ttotal: 44.9s\tremaining: 20.4s\n",
            "688:\tlearn: 0.0198302\ttotal: 44.9s\tremaining: 20.3s\n",
            "689:\tlearn: 0.0197689\ttotal: 45s\tremaining: 20.2s\n",
            "690:\tlearn: 0.0197454\ttotal: 45s\tremaining: 20.1s\n",
            "691:\tlearn: 0.0196859\ttotal: 45.1s\tremaining: 20.1s\n",
            "692:\tlearn: 0.0196158\ttotal: 45.1s\tremaining: 20s\n",
            "693:\tlearn: 0.0195566\ttotal: 45.2s\tremaining: 19.9s\n",
            "694:\tlearn: 0.0195177\ttotal: 45.2s\tremaining: 19.8s\n",
            "695:\tlearn: 0.0194483\ttotal: 45.2s\tremaining: 19.8s\n",
            "696:\tlearn: 0.0194295\ttotal: 45.3s\tremaining: 19.7s\n",
            "697:\tlearn: 0.0193523\ttotal: 45.3s\tremaining: 19.6s\n",
            "698:\tlearn: 0.0193025\ttotal: 45.4s\tremaining: 19.5s\n",
            "699:\tlearn: 0.0192414\ttotal: 45.4s\tremaining: 19.5s\n",
            "700:\tlearn: 0.0191792\ttotal: 45.4s\tremaining: 19.4s\n",
            "701:\tlearn: 0.0191519\ttotal: 45.5s\tremaining: 19.3s\n",
            "702:\tlearn: 0.0191327\ttotal: 45.5s\tremaining: 19.2s\n",
            "703:\tlearn: 0.0191017\ttotal: 45.5s\tremaining: 19.2s\n",
            "704:\tlearn: 0.0190469\ttotal: 45.6s\tremaining: 19.1s\n",
            "705:\tlearn: 0.0190237\ttotal: 45.6s\tremaining: 19s\n",
            "706:\tlearn: 0.0189898\ttotal: 45.7s\tremaining: 18.9s\n",
            "707:\tlearn: 0.0189090\ttotal: 45.7s\tremaining: 18.9s\n",
            "708:\tlearn: 0.0188654\ttotal: 45.8s\tremaining: 18.8s\n",
            "709:\tlearn: 0.0188303\ttotal: 45.8s\tremaining: 18.7s\n",
            "710:\tlearn: 0.0188194\ttotal: 45.9s\tremaining: 18.6s\n",
            "711:\tlearn: 0.0187644\ttotal: 45.9s\tremaining: 18.6s\n",
            "712:\tlearn: 0.0187040\ttotal: 45.9s\tremaining: 18.5s\n",
            "713:\tlearn: 0.0186516\ttotal: 46s\tremaining: 18.4s\n",
            "714:\tlearn: 0.0186265\ttotal: 46s\tremaining: 18.3s\n",
            "715:\tlearn: 0.0185847\ttotal: 46s\tremaining: 18.3s\n",
            "716:\tlearn: 0.0185185\ttotal: 46.1s\tremaining: 18.2s\n",
            "717:\tlearn: 0.0184808\ttotal: 46.1s\tremaining: 18.1s\n",
            "718:\tlearn: 0.0184688\ttotal: 46.2s\tremaining: 18s\n",
            "719:\tlearn: 0.0184298\ttotal: 46.2s\tremaining: 18s\n",
            "720:\tlearn: 0.0183893\ttotal: 46.3s\tremaining: 17.9s\n",
            "721:\tlearn: 0.0183075\ttotal: 46.3s\tremaining: 17.8s\n",
            "722:\tlearn: 0.0182766\ttotal: 46.4s\tremaining: 17.8s\n",
            "723:\tlearn: 0.0182265\ttotal: 46.4s\tremaining: 17.7s\n",
            "724:\tlearn: 0.0182056\ttotal: 46.4s\tremaining: 17.6s\n",
            "725:\tlearn: 0.0181685\ttotal: 46.5s\tremaining: 17.5s\n",
            "726:\tlearn: 0.0181136\ttotal: 46.5s\tremaining: 17.5s\n",
            "727:\tlearn: 0.0180782\ttotal: 46.5s\tremaining: 17.4s\n",
            "728:\tlearn: 0.0180507\ttotal: 46.6s\tremaining: 17.3s\n",
            "729:\tlearn: 0.0180102\ttotal: 46.6s\tremaining: 17.2s\n",
            "730:\tlearn: 0.0179554\ttotal: 46.7s\tremaining: 17.2s\n",
            "731:\tlearn: 0.0179267\ttotal: 46.7s\tremaining: 17.1s\n",
            "732:\tlearn: 0.0178682\ttotal: 46.8s\tremaining: 17s\n",
            "733:\tlearn: 0.0178562\ttotal: 46.8s\tremaining: 17s\n",
            "734:\tlearn: 0.0178271\ttotal: 46.8s\tremaining: 16.9s\n",
            "735:\tlearn: 0.0177778\ttotal: 46.9s\tremaining: 16.8s\n",
            "736:\tlearn: 0.0177361\ttotal: 46.9s\tremaining: 16.7s\n",
            "737:\tlearn: 0.0176773\ttotal: 46.9s\tremaining: 16.7s\n",
            "738:\tlearn: 0.0176618\ttotal: 47s\tremaining: 16.6s\n",
            "739:\tlearn: 0.0176388\ttotal: 47s\tremaining: 16.5s\n",
            "740:\tlearn: 0.0176129\ttotal: 47.1s\tremaining: 16.5s\n",
            "741:\tlearn: 0.0175668\ttotal: 47.1s\tremaining: 16.4s\n",
            "742:\tlearn: 0.0175045\ttotal: 47.2s\tremaining: 16.3s\n",
            "743:\tlearn: 0.0174184\ttotal: 47.2s\tremaining: 16.2s\n",
            "744:\tlearn: 0.0173786\ttotal: 47.2s\tremaining: 16.2s\n",
            "745:\tlearn: 0.0173473\ttotal: 47.3s\tremaining: 16.1s\n",
            "746:\tlearn: 0.0173202\ttotal: 47.3s\tremaining: 16s\n",
            "747:\tlearn: 0.0172771\ttotal: 47.3s\tremaining: 15.9s\n",
            "748:\tlearn: 0.0172127\ttotal: 47.4s\tremaining: 15.9s\n",
            "749:\tlearn: 0.0172041\ttotal: 47.4s\tremaining: 15.8s\n",
            "750:\tlearn: 0.0171546\ttotal: 47.4s\tremaining: 15.7s\n",
            "751:\tlearn: 0.0171183\ttotal: 47.5s\tremaining: 15.7s\n",
            "752:\tlearn: 0.0170937\ttotal: 47.5s\tremaining: 15.6s\n",
            "753:\tlearn: 0.0170255\ttotal: 47.5s\tremaining: 15.5s\n",
            "754:\tlearn: 0.0170015\ttotal: 47.6s\tremaining: 15.4s\n",
            "755:\tlearn: 0.0169579\ttotal: 47.6s\tremaining: 15.4s\n",
            "756:\tlearn: 0.0169291\ttotal: 47.7s\tremaining: 15.3s\n",
            "757:\tlearn: 0.0168986\ttotal: 47.7s\tremaining: 15.2s\n",
            "758:\tlearn: 0.0168748\ttotal: 47.8s\tremaining: 15.2s\n",
            "759:\tlearn: 0.0168031\ttotal: 47.8s\tremaining: 15.1s\n",
            "760:\tlearn: 0.0167560\ttotal: 47.8s\tremaining: 15s\n",
            "761:\tlearn: 0.0167374\ttotal: 47.9s\tremaining: 15s\n",
            "762:\tlearn: 0.0166677\ttotal: 47.9s\tremaining: 14.9s\n",
            "763:\tlearn: 0.0166071\ttotal: 48s\tremaining: 14.8s\n",
            "764:\tlearn: 0.0165802\ttotal: 48s\tremaining: 14.7s\n",
            "765:\tlearn: 0.0165517\ttotal: 48s\tremaining: 14.7s\n",
            "766:\tlearn: 0.0165121\ttotal: 48.1s\tremaining: 14.6s\n",
            "767:\tlearn: 0.0164523\ttotal: 48.1s\tremaining: 14.5s\n",
            "768:\tlearn: 0.0164218\ttotal: 48.1s\tremaining: 14.5s\n",
            "769:\tlearn: 0.0163945\ttotal: 48.2s\tremaining: 14.4s\n",
            "770:\tlearn: 0.0163639\ttotal: 48.2s\tremaining: 14.3s\n",
            "771:\tlearn: 0.0163506\ttotal: 48.3s\tremaining: 14.3s\n",
            "772:\tlearn: 0.0163207\ttotal: 48.3s\tremaining: 14.2s\n",
            "773:\tlearn: 0.0162449\ttotal: 48.3s\tremaining: 14.1s\n",
            "774:\tlearn: 0.0161961\ttotal: 48.4s\tremaining: 14s\n",
            "775:\tlearn: 0.0161564\ttotal: 48.4s\tremaining: 14s\n",
            "776:\tlearn: 0.0161398\ttotal: 48.5s\tremaining: 13.9s\n",
            "777:\tlearn: 0.0161200\ttotal: 48.5s\tremaining: 13.8s\n",
            "778:\tlearn: 0.0160823\ttotal: 48.5s\tremaining: 13.8s\n",
            "779:\tlearn: 0.0160432\ttotal: 48.6s\tremaining: 13.7s\n",
            "780:\tlearn: 0.0160120\ttotal: 48.6s\tremaining: 13.6s\n",
            "781:\tlearn: 0.0159773\ttotal: 48.7s\tremaining: 13.6s\n",
            "782:\tlearn: 0.0159548\ttotal: 48.7s\tremaining: 13.5s\n",
            "783:\tlearn: 0.0159221\ttotal: 48.8s\tremaining: 13.4s\n",
            "784:\tlearn: 0.0158219\ttotal: 48.8s\tremaining: 13.4s\n",
            "785:\tlearn: 0.0157643\ttotal: 48.8s\tremaining: 13.3s\n",
            "786:\tlearn: 0.0157409\ttotal: 48.9s\tremaining: 13.2s\n",
            "787:\tlearn: 0.0157005\ttotal: 48.9s\tremaining: 13.2s\n",
            "788:\tlearn: 0.0156777\ttotal: 49s\tremaining: 13.1s\n",
            "789:\tlearn: 0.0156226\ttotal: 49s\tremaining: 13s\n",
            "790:\tlearn: 0.0155794\ttotal: 49s\tremaining: 13s\n",
            "791:\tlearn: 0.0155295\ttotal: 49.1s\tremaining: 12.9s\n",
            "792:\tlearn: 0.0154996\ttotal: 49.1s\tremaining: 12.8s\n",
            "793:\tlearn: 0.0154608\ttotal: 49.1s\tremaining: 12.8s\n",
            "794:\tlearn: 0.0154187\ttotal: 49.2s\tremaining: 12.7s\n",
            "795:\tlearn: 0.0154031\ttotal: 49.2s\tremaining: 12.6s\n",
            "796:\tlearn: 0.0153771\ttotal: 49.3s\tremaining: 12.6s\n",
            "797:\tlearn: 0.0153617\ttotal: 49.3s\tremaining: 12.5s\n",
            "798:\tlearn: 0.0153325\ttotal: 49.4s\tremaining: 12.4s\n",
            "799:\tlearn: 0.0153160\ttotal: 49.4s\tremaining: 12.3s\n",
            "800:\tlearn: 0.0152840\ttotal: 49.4s\tremaining: 12.3s\n",
            "801:\tlearn: 0.0152486\ttotal: 49.5s\tremaining: 12.2s\n",
            "802:\tlearn: 0.0152087\ttotal: 49.5s\tremaining: 12.2s\n",
            "803:\tlearn: 0.0151481\ttotal: 49.6s\tremaining: 12.1s\n",
            "804:\tlearn: 0.0151274\ttotal: 49.6s\tremaining: 12s\n",
            "805:\tlearn: 0.0151168\ttotal: 49.6s\tremaining: 11.9s\n",
            "806:\tlearn: 0.0150806\ttotal: 49.7s\tremaining: 11.9s\n",
            "807:\tlearn: 0.0150425\ttotal: 49.7s\tremaining: 11.8s\n",
            "808:\tlearn: 0.0150042\ttotal: 49.7s\tremaining: 11.7s\n",
            "809:\tlearn: 0.0149787\ttotal: 49.8s\tremaining: 11.7s\n",
            "810:\tlearn: 0.0149530\ttotal: 49.8s\tremaining: 11.6s\n",
            "811:\tlearn: 0.0149151\ttotal: 49.9s\tremaining: 11.5s\n",
            "812:\tlearn: 0.0148967\ttotal: 49.9s\tremaining: 11.5s\n",
            "813:\tlearn: 0.0148648\ttotal: 49.9s\tremaining: 11.4s\n",
            "814:\tlearn: 0.0148031\ttotal: 50s\tremaining: 11.3s\n",
            "815:\tlearn: 0.0147950\ttotal: 50s\tremaining: 11.3s\n",
            "816:\tlearn: 0.0147787\ttotal: 50s\tremaining: 11.2s\n",
            "817:\tlearn: 0.0147604\ttotal: 50.1s\tremaining: 11.1s\n",
            "818:\tlearn: 0.0147054\ttotal: 50.1s\tremaining: 11.1s\n",
            "819:\tlearn: 0.0146509\ttotal: 50.2s\tremaining: 11s\n",
            "820:\tlearn: 0.0146110\ttotal: 50.2s\tremaining: 10.9s\n",
            "821:\tlearn: 0.0145477\ttotal: 50.2s\tremaining: 10.9s\n",
            "822:\tlearn: 0.0145294\ttotal: 50.3s\tremaining: 10.8s\n",
            "823:\tlearn: 0.0144811\ttotal: 50.3s\tremaining: 10.7s\n",
            "824:\tlearn: 0.0144548\ttotal: 50.4s\tremaining: 10.7s\n",
            "825:\tlearn: 0.0144275\ttotal: 50.4s\tremaining: 10.6s\n",
            "826:\tlearn: 0.0144140\ttotal: 50.5s\tremaining: 10.6s\n",
            "827:\tlearn: 0.0143838\ttotal: 50.5s\tremaining: 10.5s\n",
            "828:\tlearn: 0.0143531\ttotal: 50.5s\tremaining: 10.4s\n",
            "829:\tlearn: 0.0143147\ttotal: 50.6s\tremaining: 10.4s\n",
            "830:\tlearn: 0.0142986\ttotal: 50.6s\tremaining: 10.3s\n",
            "831:\tlearn: 0.0142683\ttotal: 50.7s\tremaining: 10.2s\n",
            "832:\tlearn: 0.0142332\ttotal: 50.7s\tremaining: 10.2s\n",
            "833:\tlearn: 0.0141927\ttotal: 50.7s\tremaining: 10.1s\n",
            "834:\tlearn: 0.0141816\ttotal: 50.8s\tremaining: 10s\n",
            "835:\tlearn: 0.0141654\ttotal: 50.8s\tremaining: 9.96s\n",
            "836:\tlearn: 0.0141353\ttotal: 50.8s\tremaining: 9.9s\n",
            "837:\tlearn: 0.0141180\ttotal: 50.9s\tremaining: 9.84s\n",
            "838:\tlearn: 0.0141081\ttotal: 50.9s\tremaining: 9.77s\n",
            "839:\tlearn: 0.0140866\ttotal: 51s\tremaining: 9.7s\n",
            "840:\tlearn: 0.0140638\ttotal: 51s\tremaining: 9.64s\n",
            "841:\tlearn: 0.0140361\ttotal: 51s\tremaining: 9.57s\n",
            "842:\tlearn: 0.0139830\ttotal: 51.1s\tremaining: 9.51s\n",
            "843:\tlearn: 0.0139471\ttotal: 51.1s\tremaining: 9.45s\n",
            "844:\tlearn: 0.0139287\ttotal: 51.1s\tremaining: 9.38s\n",
            "845:\tlearn: 0.0139060\ttotal: 51.2s\tremaining: 9.31s\n",
            "846:\tlearn: 0.0138905\ttotal: 51.2s\tremaining: 9.25s\n",
            "847:\tlearn: 0.0138780\ttotal: 51.3s\tremaining: 9.19s\n",
            "848:\tlearn: 0.0138584\ttotal: 51.3s\tremaining: 9.13s\n",
            "849:\tlearn: 0.0138516\ttotal: 51.3s\tremaining: 9.06s\n",
            "850:\tlearn: 0.0138259\ttotal: 51.4s\tremaining: 9s\n",
            "851:\tlearn: 0.0137603\ttotal: 51.4s\tremaining: 8.93s\n",
            "852:\tlearn: 0.0137242\ttotal: 51.5s\tremaining: 8.87s\n",
            "853:\tlearn: 0.0137103\ttotal: 51.5s\tremaining: 8.8s\n",
            "854:\tlearn: 0.0136901\ttotal: 51.5s\tremaining: 8.74s\n",
            "855:\tlearn: 0.0136593\ttotal: 51.6s\tremaining: 8.68s\n",
            "856:\tlearn: 0.0136450\ttotal: 51.6s\tremaining: 8.61s\n",
            "857:\tlearn: 0.0136207\ttotal: 51.6s\tremaining: 8.55s\n",
            "858:\tlearn: 0.0136011\ttotal: 51.7s\tremaining: 8.48s\n",
            "859:\tlearn: 0.0135724\ttotal: 51.7s\tremaining: 8.42s\n",
            "860:\tlearn: 0.0135394\ttotal: 51.8s\tremaining: 8.36s\n",
            "861:\tlearn: 0.0135148\ttotal: 51.8s\tremaining: 8.29s\n",
            "862:\tlearn: 0.0134836\ttotal: 51.8s\tremaining: 8.23s\n",
            "863:\tlearn: 0.0134625\ttotal: 51.9s\tremaining: 8.17s\n",
            "864:\tlearn: 0.0133962\ttotal: 51.9s\tremaining: 8.1s\n",
            "865:\tlearn: 0.0133749\ttotal: 51.9s\tremaining: 8.04s\n",
            "866:\tlearn: 0.0133570\ttotal: 52s\tremaining: 7.97s\n",
            "867:\tlearn: 0.0133134\ttotal: 52s\tremaining: 7.91s\n",
            "868:\tlearn: 0.0132892\ttotal: 52.1s\tremaining: 7.85s\n",
            "869:\tlearn: 0.0132372\ttotal: 52.1s\tremaining: 7.79s\n",
            "870:\tlearn: 0.0132253\ttotal: 52.1s\tremaining: 7.72s\n",
            "871:\tlearn: 0.0132003\ttotal: 52.2s\tremaining: 7.66s\n",
            "872:\tlearn: 0.0131839\ttotal: 52.2s\tremaining: 7.6s\n",
            "873:\tlearn: 0.0131652\ttotal: 52.3s\tremaining: 7.53s\n",
            "874:\tlearn: 0.0131230\ttotal: 52.3s\tremaining: 7.47s\n",
            "875:\tlearn: 0.0130795\ttotal: 52.3s\tremaining: 7.41s\n",
            "876:\tlearn: 0.0130674\ttotal: 52.4s\tremaining: 7.35s\n",
            "877:\tlearn: 0.0130382\ttotal: 52.4s\tremaining: 7.29s\n",
            "878:\tlearn: 0.0130134\ttotal: 52.5s\tremaining: 7.23s\n",
            "879:\tlearn: 0.0130017\ttotal: 52.5s\tremaining: 7.16s\n",
            "880:\tlearn: 0.0129781\ttotal: 52.6s\tremaining: 7.1s\n",
            "881:\tlearn: 0.0129591\ttotal: 52.6s\tremaining: 7.04s\n",
            "882:\tlearn: 0.0129456\ttotal: 52.7s\tremaining: 6.98s\n",
            "883:\tlearn: 0.0129374\ttotal: 52.7s\tremaining: 6.91s\n",
            "884:\tlearn: 0.0128976\ttotal: 52.7s\tremaining: 6.85s\n",
            "885:\tlearn: 0.0128509\ttotal: 52.8s\tremaining: 6.79s\n",
            "886:\tlearn: 0.0128285\ttotal: 52.8s\tremaining: 6.73s\n",
            "887:\tlearn: 0.0128128\ttotal: 52.8s\tremaining: 6.66s\n",
            "888:\tlearn: 0.0127907\ttotal: 52.9s\tremaining: 6.6s\n",
            "889:\tlearn: 0.0127691\ttotal: 52.9s\tremaining: 6.54s\n",
            "890:\tlearn: 0.0127374\ttotal: 52.9s\tremaining: 6.48s\n",
            "891:\tlearn: 0.0127128\ttotal: 53s\tremaining: 6.41s\n",
            "892:\tlearn: 0.0126838\ttotal: 53s\tremaining: 6.35s\n",
            "893:\tlearn: 0.0126666\ttotal: 53.1s\tremaining: 6.29s\n",
            "894:\tlearn: 0.0126169\ttotal: 53.1s\tremaining: 6.23s\n",
            "895:\tlearn: 0.0125893\ttotal: 53.2s\tremaining: 6.17s\n",
            "896:\tlearn: 0.0125679\ttotal: 53.2s\tremaining: 6.11s\n",
            "897:\tlearn: 0.0125516\ttotal: 53.2s\tremaining: 6.05s\n",
            "898:\tlearn: 0.0125362\ttotal: 53.3s\tremaining: 5.99s\n",
            "899:\tlearn: 0.0125104\ttotal: 53.3s\tremaining: 5.92s\n",
            "900:\tlearn: 0.0124676\ttotal: 53.4s\tremaining: 5.86s\n",
            "901:\tlearn: 0.0124430\ttotal: 53.4s\tremaining: 5.8s\n",
            "902:\tlearn: 0.0124226\ttotal: 53.5s\tremaining: 5.74s\n",
            "903:\tlearn: 0.0123936\ttotal: 53.5s\tremaining: 5.68s\n",
            "904:\tlearn: 0.0123824\ttotal: 53.5s\tremaining: 5.62s\n",
            "905:\tlearn: 0.0123730\ttotal: 53.6s\tremaining: 5.56s\n",
            "906:\tlearn: 0.0123469\ttotal: 53.6s\tremaining: 5.5s\n",
            "907:\tlearn: 0.0123115\ttotal: 53.6s\tremaining: 5.43s\n",
            "908:\tlearn: 0.0122988\ttotal: 53.7s\tremaining: 5.37s\n",
            "909:\tlearn: 0.0122813\ttotal: 53.7s\tremaining: 5.31s\n",
            "910:\tlearn: 0.0122550\ttotal: 53.8s\tremaining: 5.25s\n",
            "911:\tlearn: 0.0122448\ttotal: 53.8s\tremaining: 5.19s\n",
            "912:\tlearn: 0.0122265\ttotal: 53.8s\tremaining: 5.13s\n",
            "913:\tlearn: 0.0122014\ttotal: 53.9s\tremaining: 5.07s\n",
            "914:\tlearn: 0.0121837\ttotal: 53.9s\tremaining: 5.01s\n",
            "915:\tlearn: 0.0121717\ttotal: 54s\tremaining: 4.95s\n",
            "916:\tlearn: 0.0121498\ttotal: 54s\tremaining: 4.89s\n",
            "917:\tlearn: 0.0121200\ttotal: 54s\tremaining: 4.83s\n",
            "918:\tlearn: 0.0120987\ttotal: 54.1s\tremaining: 4.76s\n",
            "919:\tlearn: 0.0120768\ttotal: 54.1s\tremaining: 4.7s\n",
            "920:\tlearn: 0.0120596\ttotal: 54.1s\tremaining: 4.64s\n",
            "921:\tlearn: 0.0120442\ttotal: 54.2s\tremaining: 4.58s\n",
            "922:\tlearn: 0.0120071\ttotal: 54.2s\tremaining: 4.52s\n",
            "923:\tlearn: 0.0119931\ttotal: 54.3s\tremaining: 4.46s\n",
            "924:\tlearn: 0.0119627\ttotal: 54.3s\tremaining: 4.4s\n",
            "925:\tlearn: 0.0119300\ttotal: 54.3s\tremaining: 4.34s\n",
            "926:\tlearn: 0.0119029\ttotal: 54.4s\tremaining: 4.28s\n",
            "927:\tlearn: 0.0118857\ttotal: 54.4s\tremaining: 4.22s\n",
            "928:\tlearn: 0.0118595\ttotal: 54.5s\tremaining: 4.16s\n",
            "929:\tlearn: 0.0118444\ttotal: 54.5s\tremaining: 4.1s\n",
            "930:\tlearn: 0.0118333\ttotal: 54.6s\tremaining: 4.04s\n",
            "931:\tlearn: 0.0118079\ttotal: 54.6s\tremaining: 3.98s\n",
            "932:\tlearn: 0.0117780\ttotal: 54.6s\tremaining: 3.92s\n",
            "933:\tlearn: 0.0117502\ttotal: 54.7s\tremaining: 3.86s\n",
            "934:\tlearn: 0.0117428\ttotal: 54.7s\tremaining: 3.8s\n",
            "935:\tlearn: 0.0117088\ttotal: 54.7s\tremaining: 3.74s\n",
            "936:\tlearn: 0.0116945\ttotal: 54.8s\tremaining: 3.68s\n",
            "937:\tlearn: 0.0116722\ttotal: 54.8s\tremaining: 3.62s\n",
            "938:\tlearn: 0.0116506\ttotal: 54.9s\tremaining: 3.56s\n",
            "939:\tlearn: 0.0116344\ttotal: 54.9s\tremaining: 3.5s\n",
            "940:\tlearn: 0.0116195\ttotal: 55s\tremaining: 3.44s\n",
            "941:\tlearn: 0.0116089\ttotal: 55s\tremaining: 3.39s\n",
            "942:\tlearn: 0.0115935\ttotal: 55s\tremaining: 3.33s\n",
            "943:\tlearn: 0.0115652\ttotal: 55.1s\tremaining: 3.27s\n",
            "944:\tlearn: 0.0115417\ttotal: 55.1s\tremaining: 3.21s\n",
            "945:\tlearn: 0.0115135\ttotal: 55.2s\tremaining: 3.15s\n",
            "946:\tlearn: 0.0115032\ttotal: 55.2s\tremaining: 3.09s\n",
            "947:\tlearn: 0.0114624\ttotal: 55.2s\tremaining: 3.03s\n",
            "948:\tlearn: 0.0114400\ttotal: 55.3s\tremaining: 2.97s\n",
            "949:\tlearn: 0.0114088\ttotal: 55.3s\tremaining: 2.91s\n",
            "950:\tlearn: 0.0113799\ttotal: 55.4s\tremaining: 2.85s\n",
            "951:\tlearn: 0.0113630\ttotal: 55.4s\tremaining: 2.79s\n",
            "952:\tlearn: 0.0113501\ttotal: 55.4s\tremaining: 2.73s\n",
            "953:\tlearn: 0.0113397\ttotal: 55.5s\tremaining: 2.68s\n",
            "954:\tlearn: 0.0113279\ttotal: 55.5s\tremaining: 2.62s\n",
            "955:\tlearn: 0.0113108\ttotal: 55.6s\tremaining: 2.56s\n",
            "956:\tlearn: 0.0112960\ttotal: 55.6s\tremaining: 2.5s\n",
            "957:\tlearn: 0.0112719\ttotal: 55.7s\tremaining: 2.44s\n",
            "958:\tlearn: 0.0112526\ttotal: 55.7s\tremaining: 2.38s\n",
            "959:\tlearn: 0.0112405\ttotal: 55.7s\tremaining: 2.32s\n",
            "960:\tlearn: 0.0112302\ttotal: 55.8s\tremaining: 2.26s\n",
            "961:\tlearn: 0.0112073\ttotal: 55.8s\tremaining: 2.2s\n",
            "962:\tlearn: 0.0111939\ttotal: 55.9s\tremaining: 2.15s\n",
            "963:\tlearn: 0.0111682\ttotal: 55.9s\tremaining: 2.09s\n",
            "964:\tlearn: 0.0111555\ttotal: 55.9s\tremaining: 2.03s\n",
            "965:\tlearn: 0.0111344\ttotal: 56s\tremaining: 1.97s\n",
            "966:\tlearn: 0.0111230\ttotal: 56s\tremaining: 1.91s\n",
            "967:\tlearn: 0.0111145\ttotal: 56s\tremaining: 1.85s\n",
            "968:\tlearn: 0.0111069\ttotal: 56.1s\tremaining: 1.79s\n",
            "969:\tlearn: 0.0110906\ttotal: 56.1s\tremaining: 1.74s\n",
            "970:\tlearn: 0.0110831\ttotal: 56.2s\tremaining: 1.68s\n",
            "971:\tlearn: 0.0110655\ttotal: 56.2s\tremaining: 1.62s\n",
            "972:\tlearn: 0.0110526\ttotal: 56.3s\tremaining: 1.56s\n",
            "973:\tlearn: 0.0110314\ttotal: 56.3s\tremaining: 1.5s\n",
            "974:\tlearn: 0.0110191\ttotal: 56.4s\tremaining: 1.45s\n",
            "975:\tlearn: 0.0110032\ttotal: 56.4s\tremaining: 1.39s\n",
            "976:\tlearn: 0.0109773\ttotal: 56.4s\tremaining: 1.33s\n",
            "977:\tlearn: 0.0109517\ttotal: 56.5s\tremaining: 1.27s\n",
            "978:\tlearn: 0.0109266\ttotal: 56.5s\tremaining: 1.21s\n",
            "979:\tlearn: 0.0109169\ttotal: 56.6s\tremaining: 1.15s\n",
            "980:\tlearn: 0.0108981\ttotal: 56.6s\tremaining: 1.1s\n",
            "981:\tlearn: 0.0108846\ttotal: 56.7s\tremaining: 1.04s\n",
            "982:\tlearn: 0.0108637\ttotal: 56.7s\tremaining: 981ms\n",
            "983:\tlearn: 0.0108378\ttotal: 56.7s\tremaining: 923ms\n",
            "984:\tlearn: 0.0108199\ttotal: 56.8s\tremaining: 865ms\n",
            "985:\tlearn: 0.0108133\ttotal: 56.8s\tremaining: 807ms\n",
            "986:\tlearn: 0.0108028\ttotal: 56.9s\tremaining: 749ms\n",
            "987:\tlearn: 0.0107862\ttotal: 56.9s\tremaining: 691ms\n",
            "988:\tlearn: 0.0107626\ttotal: 56.9s\tremaining: 633ms\n",
            "989:\tlearn: 0.0107539\ttotal: 57s\tremaining: 576ms\n",
            "990:\tlearn: 0.0107425\ttotal: 57s\tremaining: 518ms\n",
            "991:\tlearn: 0.0107058\ttotal: 57.1s\tremaining: 460ms\n",
            "992:\tlearn: 0.0106767\ttotal: 57.1s\tremaining: 403ms\n",
            "993:\tlearn: 0.0106677\ttotal: 57.1s\tremaining: 345ms\n",
            "994:\tlearn: 0.0106528\ttotal: 57.2s\tremaining: 287ms\n",
            "995:\tlearn: 0.0106302\ttotal: 57.2s\tremaining: 230ms\n",
            "996:\tlearn: 0.0106142\ttotal: 57.3s\tremaining: 172ms\n",
            "997:\tlearn: 0.0105945\ttotal: 57.3s\tremaining: 115ms\n",
            "998:\tlearn: 0.0105787\ttotal: 57.4s\tremaining: 57.4ms\n",
            "999:\tlearn: 0.0105607\ttotal: 57.4s\tremaining: 0us\n"
          ]
        },
        {
          "output_type": "execute_result",
          "data": {
            "text/plain": [
              "ok     59\n",
              "low     2\n",
              "Name: hemoglobin_hgb_human, dtype: int64"
            ]
          },
          "metadata": {},
          "execution_count": 45
        }
      ]
    },
    {
      "cell_type": "code",
      "execution_count": 46,
      "id": "8b48cef7",
      "metadata": {
        "id": "8b48cef7"
      },
      "outputs": [],
      "source": [
        "# from catboost import CatBoostClassifier, Pool\n",
        "# def cat_model_boost(x_train,y_train):\n",
        "#     cat_model = CatBoostClassifier(\n",
        "#     iterations=1000,\n",
        "#     loss_function='MultiClass',\n",
        "#     bootstrap_type='Bayesian',\n",
        "#     eval_metric='MultiClass',\n",
        "#     leaf_estimation_iterations=100,\n",
        "#     random_strength=0.5,\n",
        "#     depth=7,\n",
        "#     l2_leaf_reg=5,\n",
        "#     learning_rate=0.01,\n",
        "#     bagging_temperature=0.5,\n",
        "#     task_type=None,\n",
        "# )\n",
        "#     # cross validation function to find the best parameters\n",
        "#     scores = []\n",
        "#     for i in range(10):\n",
        "#         scores.append(cross_val_score(cat_model,x_train,y_train,cv=5))\n",
        "#     print(scores)\n",
        "#     print(\"The 10 times 10 fold accuracy of the catboost classifier is: \",np.average(scores))   \n",
        "#     return cat_model\n"
      ]
    },
    {
      "cell_type": "code",
      "execution_count": 47,
      "id": "d5016aca",
      "metadata": {
        "id": "d5016aca"
      },
      "outputs": [],
      "source": [
        "# Cholesterol hdl\n",
        "# cat_hdl = cat_model_boost(df_train,y_hdl_cholesterol_human)\n",
        "# hdl_cholesterol_human = cat_hdl.predict(X_test)\n",
        "# test['hdl_cholesterol_human'] = hdl_cholesterol_human.astype(str)\n",
        "# test['hdl_cholesterol_human'] = test['hdl_cholesterol_human'].replace(reverse_mapping)\n",
        "# test['hdl_cholesterol_human'].value_counts()"
      ]
    },
    {
      "cell_type": "code",
      "execution_count": 48,
      "id": "1450ed16",
      "metadata": {
        "id": "1450ed16"
      },
      "outputs": [],
      "source": [
        "# # Heamoglobin\n",
        "# cat_hgb = cat_model_boost(df_train,y_hdl_cholesterol_human)\n",
        "# hemoglobin_hgb_human = cat_hgb.predict(X_test)\n",
        "# test['hemoglobin_hgb_human'] = hemoglobin_hgb_human.astype(str)\n",
        "# test['hemoglobin_hgb_human'] = test['hemoglobin_hgb_human'].replace(reverse_mapping)\n",
        "# test['hemoglobin_hgb_human'].value_counts()"
      ]
    },
    {
      "cell_type": "markdown",
      "id": "5e1ca23a",
      "metadata": {
        "id": "5e1ca23a"
      },
      "source": [
        "Catboost with scaled data gave a score of 0.46, with a learning rat of 0.01, it improved the score to 0.49. Maximum gotten with catboost on scaled data is 0.55. Catboost with unscaled data:0.547945"
      ]
    },
    {
      "cell_type": "markdown",
      "source": [
        "#### XBNET"
      ],
      "metadata": {
        "id": "WVqMh08yi0qC"
      },
      "id": "WVqMh08yi0qC"
    },
    {
      "cell_type": "code",
      "source": [
        "!pip install --upgrade git+https://github.com/tusharsarkar3/XBNet.git"
      ],
      "metadata": {
        "id": "pn2ga-QUi4VV",
        "outputId": "21268772-cae1-444e-df21-fa4401c0c416",
        "colab": {
          "base_uri": "https://localhost:8080/",
          "height": 1000
        }
      },
      "id": "pn2ga-QUi4VV",
      "execution_count": 64,
      "outputs": [
        {
          "output_type": "stream",
          "name": "stdout",
          "text": [
            "Collecting git+https://github.com/tusharsarkar3/XBNet.git\n",
            "  Cloning https://github.com/tusharsarkar3/XBNet.git to /tmp/pip-req-build-v46nbnxt\n",
            "  Running command git clone -q https://github.com/tusharsarkar3/XBNet.git /tmp/pip-req-build-v46nbnxt\n",
            "Requirement already satisfied: sklearn==0.0 in /usr/local/lib/python3.7/dist-packages (from XBNet==1.4.6) (0.0)\n",
            "Collecting numpy==1.21.2\n",
            "  Downloading numpy-1.21.2-cp37-cp37m-manylinux_2_12_x86_64.manylinux2010_x86_64.whl (15.7 MB)\n",
            "\u001b[K     |████████████████████████████████| 15.7 MB 5.3 MB/s \n",
            "\u001b[?25hCollecting pandas==1.3.3\n",
            "  Downloading pandas-1.3.3-cp37-cp37m-manylinux_2_17_x86_64.manylinux2014_x86_64.whl (11.3 MB)\n",
            "\u001b[K     |████████████████████████████████| 11.3 MB 37.2 MB/s \n",
            "\u001b[?25hCollecting matplotlib==3.4.3\n",
            "  Downloading matplotlib-3.4.3-cp37-cp37m-manylinux1_x86_64.whl (10.3 MB)\n",
            "\u001b[K     |████████████████████████████████| 10.3 MB 24.6 MB/s \n",
            "\u001b[?25hCollecting torch==1.9.0\n",
            "  Downloading torch-1.9.0-cp37-cp37m-manylinux1_x86_64.whl (831.4 MB)\n",
            "\u001b[K     |████████████████████████████████| 831.4 MB 2.9 kB/s \n",
            "\u001b[?25hCollecting xgboost==1.4.2\n",
            "  Downloading xgboost-1.4.2-py3-none-manylinux2010_x86_64.whl (166.7 MB)\n",
            "\u001b[K     |████████████████████████████████| 166.7 MB 19 kB/s \n",
            "\u001b[?25hCollecting tqdm==4.62.2\n",
            "  Downloading tqdm-4.62.2-py2.py3-none-any.whl (76 kB)\n",
            "\u001b[K     |████████████████████████████████| 76 kB 4.3 MB/s \n",
            "\u001b[?25hRequirement already satisfied: kiwisolver>=1.0.1 in /usr/local/lib/python3.7/dist-packages (from matplotlib==3.4.3->XBNet==1.4.6) (1.3.2)\n",
            "Requirement already satisfied: pyparsing>=2.2.1 in /usr/local/lib/python3.7/dist-packages (from matplotlib==3.4.3->XBNet==1.4.6) (3.0.7)\n",
            "Requirement already satisfied: pillow>=6.2.0 in /usr/local/lib/python3.7/dist-packages (from matplotlib==3.4.3->XBNet==1.4.6) (7.1.2)\n",
            "Requirement already satisfied: python-dateutil>=2.7 in /usr/local/lib/python3.7/dist-packages (from matplotlib==3.4.3->XBNet==1.4.6) (2.8.2)\n",
            "Requirement already satisfied: cycler>=0.10 in /usr/local/lib/python3.7/dist-packages (from matplotlib==3.4.3->XBNet==1.4.6) (0.11.0)\n",
            "Requirement already satisfied: pytz>=2017.3 in /usr/local/lib/python3.7/dist-packages (from pandas==1.3.3->XBNet==1.4.6) (2018.9)\n",
            "Requirement already satisfied: scikit-learn in /usr/local/lib/python3.7/dist-packages (from sklearn==0.0->XBNet==1.4.6) (1.0.2)\n",
            "Requirement already satisfied: typing-extensions in /usr/local/lib/python3.7/dist-packages (from torch==1.9.0->XBNet==1.4.6) (3.10.0.2)\n",
            "Requirement already satisfied: scipy in /usr/local/lib/python3.7/dist-packages (from xgboost==1.4.2->XBNet==1.4.6) (1.4.1)\n",
            "Requirement already satisfied: six>=1.5 in /usr/local/lib/python3.7/dist-packages (from python-dateutil>=2.7->matplotlib==3.4.3->XBNet==1.4.6) (1.15.0)\n",
            "Requirement already satisfied: joblib>=0.11 in /usr/local/lib/python3.7/dist-packages (from scikit-learn->sklearn==0.0->XBNet==1.4.6) (1.1.0)\n",
            "Requirement already satisfied: threadpoolctl>=2.0.0 in /usr/local/lib/python3.7/dist-packages (from scikit-learn->sklearn==0.0->XBNet==1.4.6) (3.1.0)\n",
            "Building wheels for collected packages: XBNet\n",
            "  Building wheel for XBNet (setup.py) ... \u001b[?25l\u001b[?25hdone\n",
            "  Created wheel for XBNet: filename=XBNet-1.4.6-py3-none-any.whl size=12335 sha256=3978de9f87c0d750fbce05a316cb950e9383f3d3c7014d1bbcb99590776c4b2d\n",
            "  Stored in directory: /tmp/pip-ephem-wheel-cache-gh6az1ek/wheels/23/c6/c1/0ee5a35c7a28c4dd8db05ce1407d1ccb0cfb036216e0c2ff92\n",
            "Successfully built XBNet\n",
            "Installing collected packages: numpy, xgboost, tqdm, torch, pandas, matplotlib, XBNet\n",
            "  Attempting uninstall: numpy\n",
            "    Found existing installation: numpy 1.21.5\n",
            "    Uninstalling numpy-1.21.5:\n",
            "      Successfully uninstalled numpy-1.21.5\n",
            "  Attempting uninstall: xgboost\n",
            "    Found existing installation: xgboost 0.90\n",
            "    Uninstalling xgboost-0.90:\n",
            "      Successfully uninstalled xgboost-0.90\n",
            "  Attempting uninstall: tqdm\n",
            "    Found existing installation: tqdm 4.63.0\n",
            "    Uninstalling tqdm-4.63.0:\n",
            "      Successfully uninstalled tqdm-4.63.0\n",
            "  Attempting uninstall: torch\n",
            "    Found existing installation: torch 1.10.0+cu111\n",
            "    Uninstalling torch-1.10.0+cu111:\n",
            "      Successfully uninstalled torch-1.10.0+cu111\n",
            "  Attempting uninstall: pandas\n",
            "    Found existing installation: pandas 1.3.5\n",
            "    Uninstalling pandas-1.3.5:\n",
            "      Successfully uninstalled pandas-1.3.5\n",
            "  Attempting uninstall: matplotlib\n",
            "    Found existing installation: matplotlib 3.2.2\n",
            "    Uninstalling matplotlib-3.2.2:\n",
            "      Successfully uninstalled matplotlib-3.2.2\n",
            "\u001b[31mERROR: pip's dependency resolver does not currently take into account all the packages that are installed. This behaviour is the source of the following dependency conflicts.\n",
            "tensorflow 2.8.0 requires tf-estimator-nightly==2.8.0.dev2021122109, which is not installed.\n",
            "torchvision 0.11.1+cu111 requires torch==1.10.0, but you have torch 1.9.0 which is incompatible.\n",
            "torchtext 0.11.0 requires torch==1.10.0, but you have torch 1.9.0 which is incompatible.\n",
            "torchaudio 0.10.0+cu111 requires torch==1.10.0, but you have torch 1.9.0 which is incompatible.\n",
            "datascience 0.10.6 requires folium==0.2.1, but you have folium 0.8.3 which is incompatible.\n",
            "albumentations 0.1.12 requires imgaug<0.2.7,>=0.2.5, but you have imgaug 0.2.9 which is incompatible.\u001b[0m\n",
            "Successfully installed XBNet-1.4.6 matplotlib-3.4.3 numpy-1.21.2 pandas-1.3.3 torch-1.9.0 tqdm-4.62.2 xgboost-1.4.2\n"
          ]
        },
        {
          "output_type": "display_data",
          "data": {
            "application/vnd.colab-display-data+json": {
              "pip_warning": {
                "packages": [
                  "matplotlib",
                  "mpl_toolkits",
                  "numpy",
                  "pandas",
                  "tqdm"
                ]
              }
            }
          },
          "metadata": {}
        }
      ]
    },
    {
      "cell_type": "code",
      "source": [
        "import torch\n",
        "from XBNet.training_utils import training,predict\n",
        "from XBNet.models import XBNETClassifier\n",
        "from XBNet.run import run_XBNET\n",
        "from sklearn.model_selection import train_test_split"
      ],
      "metadata": {
        "id": "3Za6N_sdi7CT"
      },
      "id": "3Za6N_sdi7CT",
      "execution_count": 12,
      "outputs": []
    },
    {
      "cell_type": "code",
      "source": [
        "X = df_train\n",
        "y = y_cholesterol_ldl_human\n",
        "x_train,x_test,y_train,y_test = train_test_split(X,y,test_size= 0.3, random_state= True)\n",
        "model = XBNETClassifier(x_train,y_train, num_layers=2)\n"
      ],
      "metadata": {
        "id": "OqvIOz-gjBy0",
        "outputId": "e2f649db-ae85-4ef8-e154-7ddbca851761",
        "colab": {
          "base_uri": "https://localhost:8080/"
        }
      },
      "id": "OqvIOz-gjBy0",
      "execution_count": 13,
      "outputs": [
        {
          "name": "stdout",
          "output_type": "stream",
          "text": [
            "Enter dimensions of linear layers: \n",
            "Enter input dimensions of layer 1: 10\n",
            "Enter output dimensions of layer 1: 10\n",
            "Set bias as True or False: False\n",
            "Enter input dimensions of layer 2: 10\n",
            "Enter output dimensions of layer 2: 10\n",
            "Set bias as True or False: False\n",
            "Enter your last layer \n",
            "1. Sigmoid \n",
            "2. Softmax \n",
            "3. None \n",
            "3\n"
          ]
        }
      ]
    },
    {
      "cell_type": "code",
      "source": [
        "criterion = torch.nn.CrossEntropyLoss()\n",
        "optimizer = torch.optim.Adam(model.parameters(), lr=0.1)"
      ],
      "metadata": {
        "id": "3R0fnbjSmsB5"
      },
      "id": "3R0fnbjSmsB5",
      "execution_count": 19,
      "outputs": []
    },
    {
      "cell_type": "code",
      "source": [
        "m,acc, lo, val_ac, val_lo = run_XBNET(x_train.values,x_test.values,y_train.values,y_test.values,model,criterion,optimizer,epochs=100,batch_size=32)"
      ],
      "metadata": {
        "id": "Q-NU8MFLmyyt",
        "outputId": "8eabe370-d272-4f42-de7a-2b52107cdc93",
        "colab": {
          "base_uri": "https://localhost:8080/",
          "height": 1000
        }
      },
      "id": "Q-NU8MFLmyyt",
      "execution_count": 20,
      "outputs": [
        {
          "output_type": "stream",
          "name": "stderr",
          "text": [
            "Percentage training completed:   1%|          | 1/100 [00:00<00:45,  2.19it/s]"
          ]
        },
        {
          "output_type": "stream",
          "name": "stdout",
          "text": [
            "Training Loss after epoch 1 is 3.3032399639487267 and Accuracy is 51.20967741935484\n",
            "Validation Loss after epoch 1 is 2.366032123565674 and Accuracy is 52.33644859813084\n"
          ]
        },
        {
          "output_type": "stream",
          "name": "stderr",
          "text": [
            "\rPercentage training completed:   2%|▏         | 2/100 [00:00<00:45,  2.18it/s]"
          ]
        },
        {
          "output_type": "stream",
          "name": "stdout",
          "text": [
            "Training Loss after epoch 2 is 1.6976828575134277 and Accuracy is 48.79032258064516\n",
            "Validation Loss after epoch 2 is 1.1253329515457153 and Accuracy is 42.99065420560748\n"
          ]
        },
        {
          "output_type": "stream",
          "name": "stderr",
          "text": [
            "\rPercentage training completed:   3%|▎         | 3/100 [00:01<00:44,  2.19it/s]"
          ]
        },
        {
          "output_type": "stream",
          "name": "stdout",
          "text": [
            "Training Loss after epoch 3 is 1.045869342982769 and Accuracy is 54.03225806451613\n",
            "Validation Loss after epoch 3 is 0.8225988149642944 and Accuracy is 51.401869158878505\n"
          ]
        },
        {
          "output_type": "stream",
          "name": "stderr",
          "text": [
            "\rPercentage training completed:   4%|▍         | 4/100 [00:01<00:43,  2.19it/s]"
          ]
        },
        {
          "output_type": "stream",
          "name": "stdout",
          "text": [
            "Training Loss after epoch 4 is 1.3624498546123505 and Accuracy is 49.193548387096776\n",
            "Validation Loss after epoch 4 is 3.533747911453247 and Accuracy is 51.401869158878505\n"
          ]
        },
        {
          "output_type": "stream",
          "name": "stderr",
          "text": [
            "\rPercentage training completed:   5%|▌         | 5/100 [00:02<00:43,  2.21it/s]"
          ]
        },
        {
          "output_type": "stream",
          "name": "stdout",
          "text": [
            "Training Loss after epoch 5 is 2.0562753081321716 and Accuracy is 43.95161290322581\n",
            "Validation Loss after epoch 5 is 4.036838054656982 and Accuracy is 2.803738317757009\n"
          ]
        },
        {
          "output_type": "stream",
          "name": "stderr",
          "text": [
            "\rPercentage training completed:   6%|▌         | 6/100 [00:02<00:42,  2.22it/s]"
          ]
        },
        {
          "output_type": "stream",
          "name": "stdout",
          "text": [
            "Training Loss after epoch 6 is 3.1584527790546417 and Accuracy is 50.403225806451616\n",
            "Validation Loss after epoch 6 is 1.3759905099868774 and Accuracy is 52.33644859813084\n"
          ]
        },
        {
          "output_type": "stream",
          "name": "stderr",
          "text": [
            "\rPercentage training completed:   7%|▋         | 7/100 [00:03<00:42,  2.17it/s]"
          ]
        },
        {
          "output_type": "stream",
          "name": "stdout",
          "text": [
            "Training Loss after epoch 7 is 1.8167108744382858 and Accuracy is 45.564516129032256\n",
            "Validation Loss after epoch 7 is 1.921067476272583 and Accuracy is 51.401869158878505\n"
          ]
        },
        {
          "output_type": "stream",
          "name": "stderr",
          "text": [
            "\rPercentage training completed:   8%|▊         | 8/100 [00:03<00:41,  2.22it/s]"
          ]
        },
        {
          "output_type": "stream",
          "name": "stdout",
          "text": [
            "Training Loss after epoch 8 is 2.387375622987747 and Accuracy is 53.225806451612904\n",
            "Validation Loss after epoch 8 is 1.1659059524536133 and Accuracy is 51.401869158878505\n"
          ]
        },
        {
          "output_type": "stream",
          "name": "stderr",
          "text": [
            "\rPercentage training completed:   9%|▉         | 9/100 [00:04<00:41,  2.20it/s]"
          ]
        },
        {
          "output_type": "stream",
          "name": "stdout",
          "text": [
            "Training Loss after epoch 9 is 1.4136800020933151 and Accuracy is 42.74193548387097\n",
            "Validation Loss after epoch 9 is 1.1345301866531372 and Accuracy is 51.401869158878505\n"
          ]
        },
        {
          "output_type": "stream",
          "name": "stderr",
          "text": [
            "\rPercentage training completed:  10%|█         | 10/100 [00:04<00:40,  2.21it/s]"
          ]
        },
        {
          "output_type": "stream",
          "name": "stdout",
          "text": [
            "Training Loss after epoch 10 is 1.4947688579559326 and Accuracy is 53.225806451612904\n",
            "Validation Loss after epoch 10 is 0.8606876134872437 and Accuracy is 52.33644859813084\n"
          ]
        },
        {
          "output_type": "stream",
          "name": "stderr",
          "text": [
            "\rPercentage training completed:  11%|█         | 11/100 [00:05<00:40,  2.18it/s]"
          ]
        },
        {
          "output_type": "stream",
          "name": "stdout",
          "text": [
            "Training Loss after epoch 11 is 0.9884060174226761 and Accuracy is 54.03225806451613\n",
            "Validation Loss after epoch 11 is 0.771384596824646 and Accuracy is 52.33644859813084\n"
          ]
        },
        {
          "output_type": "stream",
          "name": "stderr",
          "text": [
            "\rPercentage training completed:  12%|█▏        | 12/100 [00:05<00:39,  2.21it/s]"
          ]
        },
        {
          "output_type": "stream",
          "name": "stdout",
          "text": [
            "Training Loss after epoch 12 is 0.8679428845643997 and Accuracy is 53.62903225806452\n",
            "Validation Loss after epoch 12 is 0.9016523361206055 and Accuracy is 51.401869158878505\n"
          ]
        },
        {
          "output_type": "stream",
          "name": "stderr",
          "text": [
            "\rPercentage training completed:  13%|█▎        | 13/100 [00:05<00:38,  2.23it/s]"
          ]
        },
        {
          "output_type": "stream",
          "name": "stdout",
          "text": [
            "Training Loss after epoch 13 is 0.9133109375834465 and Accuracy is 51.20967741935484\n",
            "Validation Loss after epoch 13 is 0.8964610695838928 and Accuracy is 51.401869158878505\n"
          ]
        },
        {
          "output_type": "stream",
          "name": "stderr",
          "text": [
            "\rPercentage training completed:  14%|█▍        | 14/100 [00:06<00:38,  2.26it/s]"
          ]
        },
        {
          "output_type": "stream",
          "name": "stdout",
          "text": [
            "Training Loss after epoch 14 is 0.9092615842819214 and Accuracy is 46.774193548387096\n",
            "Validation Loss after epoch 14 is 0.79729825258255 and Accuracy is 55.14018691588785\n"
          ]
        },
        {
          "output_type": "stream",
          "name": "stderr",
          "text": [
            "\rPercentage training completed:  15%|█▌        | 15/100 [00:06<00:37,  2.27it/s]"
          ]
        },
        {
          "output_type": "stream",
          "name": "stdout",
          "text": [
            "Training Loss after epoch 15 is 0.8599392175674438 and Accuracy is 56.45161290322581\n",
            "Validation Loss after epoch 15 is 0.7730236053466797 and Accuracy is 51.401869158878505\n"
          ]
        },
        {
          "output_type": "stream",
          "name": "stderr",
          "text": [
            "\rPercentage training completed:  16%|█▌        | 16/100 [00:07<00:37,  2.25it/s]"
          ]
        },
        {
          "output_type": "stream",
          "name": "stdout",
          "text": [
            "Training Loss after epoch 16 is 0.8522612378001213 and Accuracy is 56.45161290322581\n",
            "Validation Loss after epoch 16 is 0.783464789390564 and Accuracy is 51.401869158878505\n"
          ]
        },
        {
          "output_type": "stream",
          "name": "stderr",
          "text": [
            "\rPercentage training completed:  17%|█▋        | 17/100 [00:07<00:36,  2.27it/s]"
          ]
        },
        {
          "output_type": "stream",
          "name": "stdout",
          "text": [
            "Training Loss after epoch 17 is 0.8540161475539207 and Accuracy is 56.45161290322581\n",
            "Validation Loss after epoch 17 is 0.7754591107368469 and Accuracy is 51.401869158878505\n"
          ]
        },
        {
          "output_type": "stream",
          "name": "stderr",
          "text": [
            "\rPercentage training completed:  18%|█▊        | 18/100 [00:08<00:36,  2.25it/s]"
          ]
        },
        {
          "output_type": "stream",
          "name": "stdout",
          "text": [
            "Training Loss after epoch 18 is 0.8491470068693161 and Accuracy is 56.854838709677416\n",
            "Validation Loss after epoch 18 is 0.7674227952957153 and Accuracy is 51.401869158878505\n"
          ]
        },
        {
          "output_type": "stream",
          "name": "stderr",
          "text": [
            "\rPercentage training completed:  19%|█▉        | 19/100 [00:08<00:36,  2.25it/s]"
          ]
        },
        {
          "output_type": "stream",
          "name": "stdout",
          "text": [
            "Training Loss after epoch 19 is 0.8430605232715607 and Accuracy is 56.45161290322581\n",
            "Validation Loss after epoch 19 is 0.7747892141342163 and Accuracy is 51.401869158878505\n"
          ]
        },
        {
          "output_type": "stream",
          "name": "stderr",
          "text": [
            "\rPercentage training completed:  20%|██        | 20/100 [00:08<00:35,  2.25it/s]"
          ]
        },
        {
          "output_type": "stream",
          "name": "stdout",
          "text": [
            "Training Loss after epoch 20 is 0.8460135832428932 and Accuracy is 56.45161290322581\n",
            "Validation Loss after epoch 20 is 0.7667829990386963 and Accuracy is 51.401869158878505\n"
          ]
        },
        {
          "output_type": "stream",
          "name": "stderr",
          "text": [
            "\rPercentage training completed:  21%|██        | 21/100 [00:09<00:35,  2.25it/s]"
          ]
        },
        {
          "output_type": "stream",
          "name": "stdout",
          "text": [
            "Training Loss after epoch 21 is 0.842671312391758 and Accuracy is 56.45161290322581\n",
            "Validation Loss after epoch 21 is 0.7691138386726379 and Accuracy is 51.401869158878505\n"
          ]
        },
        {
          "output_type": "stream",
          "name": "stderr",
          "text": [
            "\rPercentage training completed:  22%|██▏       | 22/100 [00:09<00:34,  2.27it/s]"
          ]
        },
        {
          "output_type": "stream",
          "name": "stdout",
          "text": [
            "Training Loss after epoch 22 is 0.8433989584445953 and Accuracy is 57.25806451612903\n",
            "Validation Loss after epoch 22 is 0.766370415687561 and Accuracy is 50.467289719626166\n"
          ]
        },
        {
          "output_type": "stream",
          "name": "stderr",
          "text": [
            "\rPercentage training completed:  23%|██▎       | 23/100 [00:10<00:34,  2.26it/s]"
          ]
        },
        {
          "output_type": "stream",
          "name": "stdout",
          "text": [
            "Training Loss after epoch 23 is 0.8427083790302277 and Accuracy is 56.854838709677416\n",
            "Validation Loss after epoch 23 is 0.7654032111167908 and Accuracy is 50.467289719626166\n"
          ]
        },
        {
          "output_type": "stream",
          "name": "stderr",
          "text": [
            "\rPercentage training completed:  24%|██▍       | 24/100 [00:10<00:33,  2.26it/s]"
          ]
        },
        {
          "output_type": "stream",
          "name": "stdout",
          "text": [
            "Training Loss after epoch 24 is 0.8423840776085854 and Accuracy is 56.854838709677416\n",
            "Validation Loss after epoch 24 is 0.7645419836044312 and Accuracy is 50.467289719626166\n"
          ]
        },
        {
          "output_type": "stream",
          "name": "stderr",
          "text": [
            "\rPercentage training completed:  25%|██▌       | 25/100 [00:11<00:33,  2.26it/s]"
          ]
        },
        {
          "output_type": "stream",
          "name": "stdout",
          "text": [
            "Training Loss after epoch 25 is 0.8424329534173012 and Accuracy is 56.45161290322581\n",
            "Validation Loss after epoch 25 is 0.7632780075073242 and Accuracy is 50.467289719626166\n"
          ]
        },
        {
          "output_type": "stream",
          "name": "stderr",
          "text": [
            "\rPercentage training completed:  26%|██▌       | 26/100 [00:11<00:32,  2.26it/s]"
          ]
        },
        {
          "output_type": "stream",
          "name": "stdout",
          "text": [
            "Training Loss after epoch 26 is 0.8420511707663536 and Accuracy is 56.45161290322581\n",
            "Validation Loss after epoch 26 is 0.7631902098655701 and Accuracy is 50.467289719626166\n"
          ]
        },
        {
          "output_type": "stream",
          "name": "stderr",
          "text": [
            "\rPercentage training completed:  27%|██▋       | 27/100 [00:12<00:32,  2.27it/s]"
          ]
        },
        {
          "output_type": "stream",
          "name": "stdout",
          "text": [
            "Training Loss after epoch 27 is 0.8422694057226181 and Accuracy is 56.854838709677416\n",
            "Validation Loss after epoch 27 is 0.7620741724967957 and Accuracy is 50.467289719626166\n"
          ]
        },
        {
          "output_type": "stream",
          "name": "stderr",
          "text": [
            "\rPercentage training completed:  28%|██▊       | 28/100 [00:12<00:31,  2.28it/s]"
          ]
        },
        {
          "output_type": "stream",
          "name": "stdout",
          "text": [
            "Training Loss after epoch 28 is 0.841976709663868 and Accuracy is 56.854838709677416\n",
            "Validation Loss after epoch 28 is 0.7619420289993286 and Accuracy is 50.467289719626166\n"
          ]
        },
        {
          "output_type": "stream",
          "name": "stderr",
          "text": [
            "\rPercentage training completed:  29%|██▉       | 29/100 [00:12<00:30,  2.29it/s]"
          ]
        },
        {
          "output_type": "stream",
          "name": "stdout",
          "text": [
            "Training Loss after epoch 29 is 0.8420947045087814 and Accuracy is 56.45161290322581\n",
            "Validation Loss after epoch 29 is 0.7613833546638489 and Accuracy is 50.467289719626166\n"
          ]
        },
        {
          "output_type": "stream",
          "name": "stderr",
          "text": [
            "\rPercentage training completed:  30%|███       | 30/100 [00:13<00:30,  2.30it/s]"
          ]
        },
        {
          "output_type": "stream",
          "name": "stdout",
          "text": [
            "Training Loss after epoch 30 is 0.8420470058917999 and Accuracy is 56.854838709677416\n",
            "Validation Loss after epoch 30 is 0.7609453201293945 and Accuracy is 50.467289719626166\n"
          ]
        },
        {
          "output_type": "stream",
          "name": "stderr",
          "text": [
            "\rPercentage training completed:  31%|███       | 31/100 [00:13<00:30,  2.29it/s]"
          ]
        },
        {
          "output_type": "stream",
          "name": "stdout",
          "text": [
            "Training Loss after epoch 31 is 0.8420364037156105 and Accuracy is 56.45161290322581\n",
            "Validation Loss after epoch 31 is 0.7604960203170776 and Accuracy is 50.467289719626166\n"
          ]
        },
        {
          "output_type": "stream",
          "name": "stderr",
          "text": [
            "\rPercentage training completed:  32%|███▏      | 32/100 [00:14<00:29,  2.28it/s]"
          ]
        },
        {
          "output_type": "stream",
          "name": "stdout",
          "text": [
            "Training Loss after epoch 32 is 0.8420239463448524 and Accuracy is 56.04838709677419\n",
            "Validation Loss after epoch 32 is 0.7601191997528076 and Accuracy is 50.467289719626166\n"
          ]
        },
        {
          "output_type": "stream",
          "name": "stderr",
          "text": [
            "\rPercentage training completed:  33%|███▎      | 33/100 [00:14<00:29,  2.30it/s]"
          ]
        },
        {
          "output_type": "stream",
          "name": "stdout",
          "text": [
            "Training Loss after epoch 33 is 0.8420259803533554 and Accuracy is 56.854838709677416\n",
            "Validation Loss after epoch 33 is 0.7597654461860657 and Accuracy is 50.467289719626166\n"
          ]
        },
        {
          "output_type": "stream",
          "name": "stderr",
          "text": [
            "\rPercentage training completed:  34%|███▍      | 34/100 [00:15<00:28,  2.30it/s]"
          ]
        },
        {
          "output_type": "stream",
          "name": "stdout",
          "text": [
            "Training Loss after epoch 34 is 0.8420326486229897 and Accuracy is 56.45161290322581\n",
            "Validation Loss after epoch 34 is 0.7594027519226074 and Accuracy is 50.467289719626166\n"
          ]
        },
        {
          "output_type": "stream",
          "name": "stderr",
          "text": [
            "\rPercentage training completed:  35%|███▌      | 35/100 [00:15<00:28,  2.27it/s]"
          ]
        },
        {
          "output_type": "stream",
          "name": "stdout",
          "text": [
            "Training Loss after epoch 35 is 0.8420046493411064 and Accuracy is 56.45161290322581\n",
            "Validation Loss after epoch 35 is 0.7591075301170349 and Accuracy is 50.467289719626166\n"
          ]
        },
        {
          "output_type": "stream",
          "name": "stderr",
          "text": [
            "\rPercentage training completed:  36%|███▌      | 36/100 [00:15<00:28,  2.28it/s]"
          ]
        },
        {
          "output_type": "stream",
          "name": "stdout",
          "text": [
            "Training Loss after epoch 36 is 0.8419878333806992 and Accuracy is 56.854838709677416\n",
            "Validation Loss after epoch 36 is 0.7588368058204651 and Accuracy is 50.467289719626166\n"
          ]
        },
        {
          "output_type": "stream",
          "name": "stderr",
          "text": [
            "\rPercentage training completed:  37%|███▋      | 37/100 [00:16<00:28,  2.25it/s]"
          ]
        },
        {
          "output_type": "stream",
          "name": "stdout",
          "text": [
            "Training Loss after epoch 37 is 0.8419564291834831 and Accuracy is 56.854838709677416\n",
            "Validation Loss after epoch 37 is 0.7586361765861511 and Accuracy is 50.467289719626166\n"
          ]
        },
        {
          "output_type": "stream",
          "name": "stderr",
          "text": [
            "\rPercentage training completed:  38%|███▊      | 38/100 [00:16<00:27,  2.27it/s]"
          ]
        },
        {
          "output_type": "stream",
          "name": "stdout",
          "text": [
            "Training Loss after epoch 38 is 0.8419400528073311 and Accuracy is 56.854838709677416\n",
            "Validation Loss after epoch 38 is 0.758461058139801 and Accuracy is 50.467289719626166\n"
          ]
        },
        {
          "output_type": "stream",
          "name": "stderr",
          "text": [
            "\rPercentage training completed:  39%|███▉      | 39/100 [00:17<00:26,  2.27it/s]"
          ]
        },
        {
          "output_type": "stream",
          "name": "stdout",
          "text": [
            "Training Loss after epoch 39 is 0.841916911303997 and Accuracy is 57.25806451612903\n",
            "Validation Loss after epoch 39 is 0.7583242058753967 and Accuracy is 50.467289719626166\n"
          ]
        },
        {
          "output_type": "stream",
          "name": "stderr",
          "text": [
            "\rPercentage training completed:  40%|████      | 40/100 [00:17<00:26,  2.28it/s]"
          ]
        },
        {
          "output_type": "stream",
          "name": "stdout",
          "text": [
            "Training Loss after epoch 40 is 0.8418959230184555 and Accuracy is 57.25806451612903\n",
            "Validation Loss after epoch 40 is 0.7581965327262878 and Accuracy is 50.467289719626166\n"
          ]
        },
        {
          "output_type": "stream",
          "name": "stderr",
          "text": [
            "\rPercentage training completed:  41%|████      | 41/100 [00:18<00:26,  2.25it/s]"
          ]
        },
        {
          "output_type": "stream",
          "name": "stdout",
          "text": [
            "Training Loss after epoch 41 is 0.841864213347435 and Accuracy is 57.25806451612903\n",
            "Validation Loss after epoch 41 is 0.7580789923667908 and Accuracy is 50.467289719626166\n"
          ]
        },
        {
          "output_type": "stream",
          "name": "stderr",
          "text": [
            "\rPercentage training completed:  42%|████▏     | 42/100 [00:18<00:25,  2.27it/s]"
          ]
        },
        {
          "output_type": "stream",
          "name": "stdout",
          "text": [
            "Training Loss after epoch 42 is 0.8418236598372459 and Accuracy is 57.66129032258065\n",
            "Validation Loss after epoch 42 is 0.7579643726348877 and Accuracy is 50.467289719626166\n"
          ]
        },
        {
          "output_type": "stream",
          "name": "stderr",
          "text": [
            "\rPercentage training completed:  43%|████▎     | 43/100 [00:19<00:25,  2.26it/s]"
          ]
        },
        {
          "output_type": "stream",
          "name": "stdout",
          "text": [
            "Training Loss after epoch 43 is 0.8417731449007988 and Accuracy is 57.25806451612903\n",
            "Validation Loss after epoch 43 is 0.7578579783439636 and Accuracy is 50.467289719626166\n"
          ]
        },
        {
          "output_type": "stream",
          "name": "stderr",
          "text": [
            "\rPercentage training completed:  44%|████▍     | 44/100 [00:19<00:24,  2.25it/s]"
          ]
        },
        {
          "output_type": "stream",
          "name": "stdout",
          "text": [
            "Training Loss after epoch 44 is 0.8417171165347099 and Accuracy is 57.25806451612903\n",
            "Validation Loss after epoch 44 is 0.7577646970748901 and Accuracy is 50.467289719626166\n"
          ]
        },
        {
          "output_type": "stream",
          "name": "stderr",
          "text": [
            "\rPercentage training completed:  45%|████▌     | 45/100 [00:19<00:24,  2.27it/s]"
          ]
        },
        {
          "output_type": "stream",
          "name": "stdout",
          "text": [
            "Training Loss after epoch 45 is 0.8416605144739151 and Accuracy is 57.66129032258065\n",
            "Validation Loss after epoch 45 is 0.7576863765716553 and Accuracy is 50.467289719626166\n"
          ]
        },
        {
          "output_type": "stream",
          "name": "stderr",
          "text": [
            "\rPercentage training completed:  46%|████▌     | 46/100 [00:20<00:24,  2.24it/s]"
          ]
        },
        {
          "output_type": "stream",
          "name": "stdout",
          "text": [
            "Training Loss after epoch 46 is 0.8416057229042053 and Accuracy is 57.66129032258065\n",
            "Validation Loss after epoch 46 is 0.7576202154159546 and Accuracy is 50.467289719626166\n"
          ]
        },
        {
          "output_type": "stream",
          "name": "stderr",
          "text": [
            "\rPercentage training completed:  47%|████▋     | 47/100 [00:20<00:23,  2.24it/s]"
          ]
        },
        {
          "output_type": "stream",
          "name": "stdout",
          "text": [
            "Training Loss after epoch 47 is 0.8415527567267418 and Accuracy is 57.25806451612903\n",
            "Validation Loss after epoch 47 is 0.7575557231903076 and Accuracy is 50.467289719626166\n"
          ]
        },
        {
          "output_type": "stream",
          "name": "stderr",
          "text": [
            "\rPercentage training completed:  48%|████▊     | 48/100 [00:21<00:23,  2.23it/s]"
          ]
        },
        {
          "output_type": "stream",
          "name": "stdout",
          "text": [
            "Training Loss after epoch 48 is 0.8414975851774216 and Accuracy is 57.25806451612903\n",
            "Validation Loss after epoch 48 is 0.7574838399887085 and Accuracy is 50.467289719626166\n"
          ]
        },
        {
          "output_type": "stream",
          "name": "stderr",
          "text": [
            "\rPercentage training completed:  49%|████▉     | 49/100 [00:21<00:22,  2.26it/s]"
          ]
        },
        {
          "output_type": "stream",
          "name": "stdout",
          "text": [
            "Training Loss after epoch 49 is 0.8414364084601402 and Accuracy is 57.25806451612903\n",
            "Validation Loss after epoch 49 is 0.7573997378349304 and Accuracy is 50.467289719626166\n"
          ]
        },
        {
          "output_type": "stream",
          "name": "stderr",
          "text": [
            "\rPercentage training completed:  50%|█████     | 50/100 [00:22<00:22,  2.27it/s]"
          ]
        },
        {
          "output_type": "stream",
          "name": "stdout",
          "text": [
            "Training Loss after epoch 50 is 0.8413676247000694 and Accuracy is 57.25806451612903\n",
            "Validation Loss after epoch 50 is 0.7573089599609375 and Accuracy is 50.467289719626166\n"
          ]
        },
        {
          "output_type": "stream",
          "name": "stderr",
          "text": [
            "\rPercentage training completed:  51%|█████     | 51/100 [00:22<00:21,  2.27it/s]"
          ]
        },
        {
          "output_type": "stream",
          "name": "stdout",
          "text": [
            "Training Loss after epoch 51 is 0.8412942886352539 and Accuracy is 57.25806451612903\n",
            "Validation Loss after epoch 51 is 0.7572237253189087 and Accuracy is 50.467289719626166\n"
          ]
        },
        {
          "output_type": "stream",
          "name": "stderr",
          "text": [
            "\rPercentage training completed:  52%|█████▏    | 52/100 [00:23<00:21,  2.29it/s]"
          ]
        },
        {
          "output_type": "stream",
          "name": "stdout",
          "text": [
            "Training Loss after epoch 52 is 0.8412228673696518 and Accuracy is 57.25806451612903\n",
            "Validation Loss after epoch 52 is 0.7571556568145752 and Accuracy is 50.467289719626166\n"
          ]
        },
        {
          "output_type": "stream",
          "name": "stderr",
          "text": [
            "\rPercentage training completed:  53%|█████▎    | 53/100 [00:23<00:20,  2.26it/s]"
          ]
        },
        {
          "output_type": "stream",
          "name": "stdout",
          "text": [
            "Training Loss after epoch 53 is 0.8411587849259377 and Accuracy is 57.25806451612903\n",
            "Validation Loss after epoch 53 is 0.7571057677268982 and Accuracy is 50.467289719626166\n"
          ]
        },
        {
          "output_type": "stream",
          "name": "stderr",
          "text": [
            "\rPercentage training completed:  54%|█████▍    | 54/100 [00:23<00:20,  2.28it/s]"
          ]
        },
        {
          "output_type": "stream",
          "name": "stdout",
          "text": [
            "Training Loss after epoch 54 is 0.8411024361848831 and Accuracy is 57.25806451612903\n",
            "Validation Loss after epoch 54 is 0.7570610046386719 and Accuracy is 50.467289719626166\n"
          ]
        },
        {
          "output_type": "stream",
          "name": "stderr",
          "text": [
            "\rPercentage training completed:  55%|█████▌    | 55/100 [00:24<00:19,  2.25it/s]"
          ]
        },
        {
          "output_type": "stream",
          "name": "stdout",
          "text": [
            "Training Loss after epoch 55 is 0.8410477861762047 and Accuracy is 57.66129032258065\n",
            "Validation Loss after epoch 55 is 0.757000744342804 and Accuracy is 50.467289719626166\n"
          ]
        },
        {
          "output_type": "stream",
          "name": "stderr",
          "text": [
            "\rPercentage training completed:  56%|█████▌    | 56/100 [00:24<00:20,  2.19it/s]"
          ]
        },
        {
          "output_type": "stream",
          "name": "stdout",
          "text": [
            "Training Loss after epoch 56 is 0.8409852609038353 and Accuracy is 57.66129032258065\n",
            "Validation Loss after epoch 56 is 0.7569112777709961 and Accuracy is 50.467289719626166\n"
          ]
        },
        {
          "output_type": "stream",
          "name": "stderr",
          "text": [
            "\rPercentage training completed:  57%|█████▋    | 57/100 [00:25<00:19,  2.17it/s]"
          ]
        },
        {
          "output_type": "stream",
          "name": "stdout",
          "text": [
            "Training Loss after epoch 57 is 0.8409091085195541 and Accuracy is 57.66129032258065\n",
            "Validation Loss after epoch 57 is 0.7568007111549377 and Accuracy is 50.467289719626166\n"
          ]
        },
        {
          "output_type": "stream",
          "name": "stderr",
          "text": [
            "\rPercentage training completed:  58%|█████▊    | 58/100 [00:25<00:19,  2.18it/s]"
          ]
        },
        {
          "output_type": "stream",
          "name": "stdout",
          "text": [
            "Training Loss after epoch 58 is 0.8408235982060432 and Accuracy is 57.66129032258065\n",
            "Validation Loss after epoch 58 is 0.7566980123519897 and Accuracy is 50.467289719626166\n"
          ]
        },
        {
          "output_type": "stream",
          "name": "stderr",
          "text": [
            "\rPercentage training completed:  59%|█████▉    | 59/100 [00:26<00:18,  2.17it/s]"
          ]
        },
        {
          "output_type": "stream",
          "name": "stdout",
          "text": [
            "Training Loss after epoch 59 is 0.8407423719763756 and Accuracy is 57.66129032258065\n",
            "Validation Loss after epoch 59 is 0.7566348314285278 and Accuracy is 50.467289719626166\n"
          ]
        },
        {
          "output_type": "stream",
          "name": "stderr",
          "text": [
            "\rPercentage training completed:  60%|██████    | 60/100 [00:26<00:18,  2.19it/s]"
          ]
        },
        {
          "output_type": "stream",
          "name": "stdout",
          "text": [
            "Training Loss after epoch 60 is 0.8406790792942047 and Accuracy is 57.66129032258065\n",
            "Validation Loss after epoch 60 is 0.7566195130348206 and Accuracy is 50.467289719626166\n"
          ]
        },
        {
          "output_type": "stream",
          "name": "stderr",
          "text": [
            "\rPercentage training completed:  61%|██████    | 61/100 [00:27<00:17,  2.23it/s]"
          ]
        },
        {
          "output_type": "stream",
          "name": "stdout",
          "text": [
            "Training Loss after epoch 61 is 0.8406361415982246 and Accuracy is 57.66129032258065\n",
            "Validation Loss after epoch 61 is 0.7566211223602295 and Accuracy is 50.467289719626166\n"
          ]
        },
        {
          "output_type": "stream",
          "name": "stderr",
          "text": [
            "\rPercentage training completed:  62%|██████▏   | 62/100 [00:27<00:17,  2.22it/s]"
          ]
        },
        {
          "output_type": "stream",
          "name": "stdout",
          "text": [
            "Training Loss after epoch 62 is 0.840599000453949 and Accuracy is 57.66129032258065\n",
            "Validation Loss after epoch 62 is 0.7565804719924927 and Accuracy is 50.467289719626166\n"
          ]
        },
        {
          "output_type": "stream",
          "name": "stderr",
          "text": [
            "\rPercentage training completed:  63%|██████▎   | 63/100 [00:28<00:16,  2.21it/s]"
          ]
        },
        {
          "output_type": "stream",
          "name": "stdout",
          "text": [
            "Training Loss after epoch 63 is 0.8405421003699303 and Accuracy is 57.66129032258065\n",
            "Validation Loss after epoch 63 is 0.7564555406570435 and Accuracy is 50.467289719626166\n"
          ]
        },
        {
          "output_type": "stream",
          "name": "stderr",
          "text": [
            "\rPercentage training completed:  64%|██████▍   | 64/100 [00:28<00:16,  2.21it/s]"
          ]
        },
        {
          "output_type": "stream",
          "name": "stdout",
          "text": [
            "Training Loss after epoch 64 is 0.8404482081532478 and Accuracy is 57.66129032258065\n",
            "Validation Loss after epoch 64 is 0.7562713027000427 and Accuracy is 51.401869158878505\n"
          ]
        },
        {
          "output_type": "stream",
          "name": "stderr",
          "text": [
            "\rPercentage training completed:  65%|██████▌   | 65/100 [00:28<00:15,  2.20it/s]"
          ]
        },
        {
          "output_type": "stream",
          "name": "stdout",
          "text": [
            "Training Loss after epoch 65 is 0.8403304815292358 and Accuracy is 57.66129032258065\n",
            "Validation Loss after epoch 65 is 0.756119430065155 and Accuracy is 51.401869158878505\n"
          ]
        },
        {
          "output_type": "stream",
          "name": "stderr",
          "text": [
            "\rPercentage training completed:  66%|██████▌   | 66/100 [00:29<00:15,  2.19it/s]"
          ]
        },
        {
          "output_type": "stream",
          "name": "stdout",
          "text": [
            "Training Loss after epoch 66 is 0.8402306362986565 and Accuracy is 58.064516129032256\n",
            "Validation Loss after epoch 66 is 0.7560933828353882 and Accuracy is 51.401869158878505\n"
          ]
        },
        {
          "output_type": "stream",
          "name": "stderr",
          "text": [
            "\rPercentage training completed:  67%|██████▋   | 67/100 [00:29<00:14,  2.21it/s]"
          ]
        },
        {
          "output_type": "stream",
          "name": "stdout",
          "text": [
            "Training Loss after epoch 67 is 0.8401859253644943 and Accuracy is 58.064516129032256\n",
            "Validation Loss after epoch 67 is 0.7562131285667419 and Accuracy is 51.401869158878505\n"
          ]
        },
        {
          "output_type": "stream",
          "name": "stderr",
          "text": [
            "\rPercentage training completed:  68%|██████▊   | 68/100 [00:30<00:14,  2.19it/s]"
          ]
        },
        {
          "output_type": "stream",
          "name": "stdout",
          "text": [
            "Training Loss after epoch 68 is 0.8401976749300957 and Accuracy is 58.46774193548387\n",
            "Validation Loss after epoch 68 is 0.756366491317749 and Accuracy is 51.401869158878505\n"
          ]
        },
        {
          "output_type": "stream",
          "name": "stderr",
          "text": [
            "\rPercentage training completed:  69%|██████▉   | 69/100 [00:30<00:13,  2.22it/s]"
          ]
        },
        {
          "output_type": "stream",
          "name": "stdout",
          "text": [
            "Training Loss after epoch 69 is 0.8402185291051865 and Accuracy is 58.87096774193548\n",
            "Validation Loss after epoch 69 is 0.7563356757164001 and Accuracy is 51.401869158878505\n"
          ]
        },
        {
          "output_type": "stream",
          "name": "stderr",
          "text": [
            "\rPercentage training completed:  70%|███████   | 70/100 [00:31<00:13,  2.23it/s]"
          ]
        },
        {
          "output_type": "stream",
          "name": "stdout",
          "text": [
            "Training Loss after epoch 70 is 0.8401610478758812 and Accuracy is 58.46774193548387\n",
            "Validation Loss after epoch 70 is 0.756000280380249 and Accuracy is 51.401869158878505\n"
          ]
        },
        {
          "output_type": "stream",
          "name": "stderr",
          "text": [
            "\rPercentage training completed:  71%|███████   | 71/100 [00:31<00:13,  2.19it/s]"
          ]
        },
        {
          "output_type": "stream",
          "name": "stdout",
          "text": [
            "Training Loss after epoch 71 is 0.8399742841720581 and Accuracy is 57.25806451612903\n",
            "Validation Loss after epoch 71 is 0.7555415630340576 and Accuracy is 51.401869158878505\n"
          ]
        },
        {
          "output_type": "stream",
          "name": "stderr",
          "text": [
            "\rPercentage training completed:  72%|███████▏  | 72/100 [00:32<00:12,  2.23it/s]"
          ]
        },
        {
          "output_type": "stream",
          "name": "stdout",
          "text": [
            "Training Loss after epoch 72 is 0.8397450819611549 and Accuracy is 57.25806451612903\n",
            "Validation Loss after epoch 72 is 0.7553048133850098 and Accuracy is 51.401869158878505\n"
          ]
        },
        {
          "output_type": "stream",
          "name": "stderr",
          "text": [
            "\rPercentage training completed:  73%|███████▎  | 73/100 [00:32<00:12,  2.22it/s]"
          ]
        },
        {
          "output_type": "stream",
          "name": "stdout",
          "text": [
            "Training Loss after epoch 73 is 0.8396307826042175 and Accuracy is 58.46774193548387\n",
            "Validation Loss after epoch 73 is 0.7555441856384277 and Accuracy is 51.401869158878505\n"
          ]
        },
        {
          "output_type": "stream",
          "name": "stderr",
          "text": [
            "\rPercentage training completed:  74%|███████▍  | 74/100 [00:33<00:11,  2.22it/s]"
          ]
        },
        {
          "output_type": "stream",
          "name": "stdout",
          "text": [
            "Training Loss after epoch 74 is 0.8396995365619659 and Accuracy is 58.87096774193548\n",
            "Validation Loss after epoch 74 is 0.7562838196754456 and Accuracy is 51.401869158878505\n"
          ]
        },
        {
          "output_type": "stream",
          "name": "stderr",
          "text": [
            "\rPercentage training completed:  75%|███████▌  | 75/100 [00:33<00:11,  2.23it/s]"
          ]
        },
        {
          "output_type": "stream",
          "name": "stdout",
          "text": [
            "Training Loss after epoch 75 is 0.8399324044585228 and Accuracy is 58.46774193548387\n",
            "Validation Loss after epoch 75 is 0.7569427490234375 and Accuracy is 51.401869158878505\n"
          ]
        },
        {
          "output_type": "stream",
          "name": "stderr",
          "text": [
            "\rPercentage training completed:  76%|███████▌  | 76/100 [00:33<00:10,  2.24it/s]"
          ]
        },
        {
          "output_type": "stream",
          "name": "stdout",
          "text": [
            "Training Loss after epoch 76 is 0.8401496410369873 and Accuracy is 58.064516129032256\n",
            "Validation Loss after epoch 76 is 0.7564507126808167 and Accuracy is 51.401869158878505\n"
          ]
        },
        {
          "output_type": "stream",
          "name": "stderr",
          "text": [
            "\rPercentage training completed:  77%|███████▋  | 77/100 [00:34<00:10,  2.25it/s]"
          ]
        },
        {
          "output_type": "stream",
          "name": "stdout",
          "text": [
            "Training Loss after epoch 77 is 0.8399047926068306 and Accuracy is 57.66129032258065\n",
            "Validation Loss after epoch 77 is 0.7549300789833069 and Accuracy is 51.401869158878505\n"
          ]
        },
        {
          "output_type": "stream",
          "name": "stderr",
          "text": [
            "\rPercentage training completed:  78%|███████▊  | 78/100 [00:34<00:09,  2.25it/s]"
          ]
        },
        {
          "output_type": "stream",
          "name": "stdout",
          "text": [
            "Training Loss after epoch 78 is 0.839165672659874 and Accuracy is 57.66129032258065\n",
            "Validation Loss after epoch 78 is 0.753930926322937 and Accuracy is 51.401869158878505\n"
          ]
        },
        {
          "output_type": "stream",
          "name": "stderr",
          "text": [
            "\rPercentage training completed:  79%|███████▉  | 79/100 [00:35<00:09,  2.26it/s]"
          ]
        },
        {
          "output_type": "stream",
          "name": "stdout",
          "text": [
            "Training Loss after epoch 79 is 0.8388005122542381 and Accuracy is 57.25806451612903\n",
            "Validation Loss after epoch 79 is 0.7539508938789368 and Accuracy is 52.33644859813084\n"
          ]
        },
        {
          "output_type": "stream",
          "name": "stderr",
          "text": [
            "\rPercentage training completed:  80%|████████  | 80/100 [00:35<00:08,  2.24it/s]"
          ]
        },
        {
          "output_type": "stream",
          "name": "stdout",
          "text": [
            "Training Loss after epoch 80 is 0.8389345034956932 and Accuracy is 58.87096774193548\n",
            "Validation Loss after epoch 80 is 0.7559114694595337 and Accuracy is 51.401869158878505\n"
          ]
        },
        {
          "output_type": "stream",
          "name": "stderr",
          "text": [
            "\rPercentage training completed:  81%|████████  | 81/100 [00:36<00:08,  2.26it/s]"
          ]
        },
        {
          "output_type": "stream",
          "name": "stdout",
          "text": [
            "Training Loss after epoch 81 is 0.8393994495272636 and Accuracy is 58.064516129032256\n",
            "Validation Loss after epoch 81 is 0.7604079246520996 and Accuracy is 50.467289719626166\n"
          ]
        },
        {
          "output_type": "stream",
          "name": "stderr",
          "text": [
            "\rPercentage training completed:  82%|████████▏ | 82/100 [00:36<00:08,  2.24it/s]"
          ]
        },
        {
          "output_type": "stream",
          "name": "stdout",
          "text": [
            "Training Loss after epoch 82 is 0.8408969268202782 and Accuracy is 58.46774193548387\n",
            "Validation Loss after epoch 82 is 0.7613196969032288 and Accuracy is 50.467289719626166\n"
          ]
        },
        {
          "output_type": "stream",
          "name": "stderr",
          "text": [
            "\rPercentage training completed:  83%|████████▎ | 83/100 [00:37<00:07,  2.24it/s]"
          ]
        },
        {
          "output_type": "stream",
          "name": "stdout",
          "text": [
            "Training Loss after epoch 83 is 0.8417574241757393 and Accuracy is 56.854838709677416\n",
            "Validation Loss after epoch 83 is 0.7539615631103516 and Accuracy is 51.401869158878505\n"
          ]
        },
        {
          "output_type": "stream",
          "name": "stderr",
          "text": [
            "\rPercentage training completed:  84%|████████▍ | 84/100 [00:37<00:07,  2.25it/s]"
          ]
        },
        {
          "output_type": "stream",
          "name": "stdout",
          "text": [
            "Training Loss after epoch 84 is 0.8377537131309509 and Accuracy is 56.04838709677419\n",
            "Validation Loss after epoch 84 is 0.7539331912994385 and Accuracy is 52.33644859813084\n"
          ]
        },
        {
          "output_type": "stream",
          "name": "stderr",
          "text": [
            "\rPercentage training completed:  85%|████████▌ | 85/100 [00:37<00:06,  2.26it/s]"
          ]
        },
        {
          "output_type": "stream",
          "name": "stdout",
          "text": [
            "Training Loss after epoch 85 is 0.8378938511013985 and Accuracy is 58.064516129032256\n",
            "Validation Loss after epoch 85 is 0.7537314891815186 and Accuracy is 52.33644859813084\n"
          ]
        },
        {
          "output_type": "stream",
          "name": "stderr",
          "text": [
            "\rPercentage training completed:  86%|████████▌ | 86/100 [00:38<00:06,  2.27it/s]"
          ]
        },
        {
          "output_type": "stream",
          "name": "stdout",
          "text": [
            "Training Loss after epoch 86 is 0.8395649492740631 and Accuracy is 59.274193548387096\n",
            "Validation Loss after epoch 86 is 0.7564582824707031 and Accuracy is 51.401869158878505\n"
          ]
        },
        {
          "output_type": "stream",
          "name": "stderr",
          "text": [
            "\rPercentage training completed:  87%|████████▋ | 87/100 [00:38<00:05,  2.21it/s]"
          ]
        },
        {
          "output_type": "stream",
          "name": "stdout",
          "text": [
            "Training Loss after epoch 87 is 0.837308906018734 and Accuracy is 59.67741935483871\n",
            "Validation Loss after epoch 87 is 0.7798554301261902 and Accuracy is 51.401869158878505\n"
          ]
        },
        {
          "output_type": "stream",
          "name": "stderr",
          "text": [
            "\rPercentage training completed:  88%|████████▊ | 88/100 [00:39<00:05,  2.24it/s]"
          ]
        },
        {
          "output_type": "stream",
          "name": "stdout",
          "text": [
            "Training Loss after epoch 88 is 0.8454464748501778 and Accuracy is 58.064516129032256\n",
            "Validation Loss after epoch 88 is 0.7746204733848572 and Accuracy is 51.401869158878505\n"
          ]
        },
        {
          "output_type": "stream",
          "name": "stderr",
          "text": [
            "\rPercentage training completed:  89%|████████▉ | 89/100 [00:39<00:04,  2.21it/s]"
          ]
        },
        {
          "output_type": "stream",
          "name": "stdout",
          "text": [
            "Training Loss after epoch 89 is 0.8473627641797066 and Accuracy is 56.45161290322581\n",
            "Validation Loss after epoch 89 is 0.7503159046173096 and Accuracy is 51.401869158878505\n"
          ]
        },
        {
          "output_type": "stream",
          "name": "stderr",
          "text": [
            "\rPercentage training completed:  90%|█████████ | 90/100 [00:40<00:04,  2.24it/s]"
          ]
        },
        {
          "output_type": "stream",
          "name": "stdout",
          "text": [
            "Training Loss after epoch 90 is 0.8361656218767166 and Accuracy is 57.25806451612903\n",
            "Validation Loss after epoch 90 is 0.7627872228622437 and Accuracy is 51.401869158878505\n"
          ]
        },
        {
          "output_type": "stream",
          "name": "stderr",
          "text": [
            "\rPercentage training completed:  91%|█████████ | 91/100 [00:40<00:04,  2.22it/s]"
          ]
        },
        {
          "output_type": "stream",
          "name": "stdout",
          "text": [
            "Training Loss after epoch 91 is 0.8433212786912918 and Accuracy is 57.25806451612903\n",
            "Validation Loss after epoch 91 is 0.749006986618042 and Accuracy is 52.33644859813084\n"
          ]
        },
        {
          "output_type": "stream",
          "name": "stderr",
          "text": [
            "\rPercentage training completed:  92%|█████████▏| 92/100 [00:41<00:03,  2.23it/s]"
          ]
        },
        {
          "output_type": "stream",
          "name": "stdout",
          "text": [
            "Training Loss after epoch 92 is 0.8343092501163483 and Accuracy is 60.483870967741936\n",
            "Validation Loss after epoch 92 is 0.778668999671936 and Accuracy is 50.467289719626166\n"
          ]
        },
        {
          "output_type": "stream",
          "name": "stderr",
          "text": [
            "\rPercentage training completed:  93%|█████████▎| 93/100 [00:41<00:03,  2.26it/s]"
          ]
        },
        {
          "output_type": "stream",
          "name": "stdout",
          "text": [
            "Training Loss after epoch 93 is 0.8439014479517937 and Accuracy is 56.45161290322581\n",
            "Validation Loss after epoch 93 is 0.7958881855010986 and Accuracy is 51.401869158878505\n"
          ]
        },
        {
          "output_type": "stream",
          "name": "stderr",
          "text": [
            "\rPercentage training completed:  94%|█████████▍| 94/100 [00:41<00:02,  2.26it/s]"
          ]
        },
        {
          "output_type": "stream",
          "name": "stdout",
          "text": [
            "Training Loss after epoch 94 is 0.8544108644127846 and Accuracy is 56.854838709677416\n",
            "Validation Loss after epoch 94 is 0.7527996301651001 and Accuracy is 51.401869158878505\n"
          ]
        },
        {
          "output_type": "stream",
          "name": "stderr",
          "text": [
            "\rPercentage training completed:  95%|█████████▌| 95/100 [00:42<00:02,  2.23it/s]"
          ]
        },
        {
          "output_type": "stream",
          "name": "stdout",
          "text": [
            "Training Loss after epoch 95 is 0.8368719816207886 and Accuracy is 56.45161290322581\n",
            "Validation Loss after epoch 95 is 0.7759268879890442 and Accuracy is 51.401869158878505\n"
          ]
        },
        {
          "output_type": "stream",
          "name": "stderr",
          "text": [
            "\rPercentage training completed:  96%|█████████▌| 96/100 [00:42<00:01,  2.22it/s]"
          ]
        },
        {
          "output_type": "stream",
          "name": "stdout",
          "text": [
            "Training Loss after epoch 96 is 0.8474277406930923 and Accuracy is 57.25806451612903\n",
            "Validation Loss after epoch 96 is 0.7603724598884583 and Accuracy is 50.467289719626166\n"
          ]
        },
        {
          "output_type": "stream",
          "name": "stderr",
          "text": [
            "\rPercentage training completed:  97%|█████████▋| 97/100 [00:43<00:01,  2.24it/s]"
          ]
        },
        {
          "output_type": "stream",
          "name": "stdout",
          "text": [
            "Training Loss after epoch 97 is 0.8400876224040985 and Accuracy is 58.064516129032256\n",
            "Validation Loss after epoch 97 is 0.7809094190597534 and Accuracy is 50.467289719626166\n"
          ]
        },
        {
          "output_type": "stream",
          "name": "stderr",
          "text": [
            "\rPercentage training completed:  98%|█████████▊| 98/100 [00:43<00:00,  2.22it/s]"
          ]
        },
        {
          "output_type": "stream",
          "name": "stdout",
          "text": [
            "Training Loss after epoch 98 is 0.8471489027142525 and Accuracy is 57.25806451612903\n",
            "Validation Loss after epoch 98 is 0.7670405507087708 and Accuracy is 51.401869158878505\n"
          ]
        },
        {
          "output_type": "stream",
          "name": "stderr",
          "text": [
            "\rPercentage training completed:  99%|█████████▉| 99/100 [00:44<00:00,  2.22it/s]"
          ]
        },
        {
          "output_type": "stream",
          "name": "stdout",
          "text": [
            "Training Loss after epoch 99 is 0.8433012068271637 and Accuracy is 56.45161290322581\n",
            "Validation Loss after epoch 99 is 0.7562412619590759 and Accuracy is 51.401869158878505\n"
          ]
        },
        {
          "output_type": "stream",
          "name": "stderr",
          "text": [
            "Percentage training completed: 100%|██████████| 100/100 [00:44<00:00,  2.24it/s]"
          ]
        },
        {
          "output_type": "stream",
          "name": "stdout",
          "text": [
            "Training Loss after epoch 100 is 0.8390036523342133 and Accuracy is 56.45161290322581\n",
            "Validation Loss after epoch 100 is 0.7666564583778381 and Accuracy is 51.401869158878505\n",
            "              precision    recall  f1-score   support\n",
            "\n",
            "           0       0.00      0.00      0.00        13\n",
            "           1       0.57      1.00      0.72       140\n",
            "           2       0.00      0.00      0.00        95\n",
            "\n",
            "    accuracy                           0.56       248\n",
            "   macro avg       0.19      0.33      0.24       248\n",
            "weighted avg       0.32      0.56      0.41       248\n",
            "\n",
            "              precision    recall  f1-score   support\n",
            "\n",
            "           0       0.00      0.00      0.00         2\n",
            "           1       0.51      1.00      0.68        55\n",
            "           2       0.00      0.00      0.00        50\n",
            "\n",
            "    accuracy                           0.51       107\n",
            "   macro avg       0.17      0.33      0.23       107\n",
            "weighted avg       0.26      0.51      0.35       107\n",
            "\n",
            "Validation Loss after epoch 100 is 0.7666564583778381 and Accuracy is 51.401869158878505\n"
          ]
        },
        {
          "output_type": "stream",
          "name": "stderr",
          "text": [
            "\n"
          ]
        },
        {
          "output_type": "display_data",
          "data": {
            "image/png": "[encoded data removed]",
            "text/plain": [
              "<Figure size 432x288 with 2 Axes>"
            ]
          },
          "metadata": {
            "needs_background": "light"
          }
        }
      ]
    },
    {
      "cell_type": "code",
      "source": [
        "print(predict(m,X_test.to_numpy()[0,:]))"
      ],
      "metadata": {
        "id": "CiH2nhnPoTZV",
        "outputId": "7e302a6e-c339-4d3b-aa0f-7b50f8047c6d",
        "colab": {
          "base_uri": "https://localhost:8080/",
          "height": 346
        }
      },
      "id": "CiH2nhnPoTZV",
      "execution_count": 21,
      "outputs": [
        {
          "output_type": "error",
          "ename": "AxisError",
          "evalue": "ignored",
          "traceback": [
            "\u001b[0;31m---------------------------------------------------------------------------\u001b[0m",
            "\u001b[0;31mAxisError\u001b[0m                                 Traceback (most recent call last)",
            "\u001b[0;32m<ipython-input-21-6bf529871197>\u001b[0m in \u001b[0;36m<module>\u001b[0;34m()\u001b[0m\n\u001b[0;32m----> 1\u001b[0;31m \u001b[0mprint\u001b[0m\u001b[0;34m(\u001b[0m\u001b[0mpredict\u001b[0m\u001b[0;34m(\u001b[0m\u001b[0mm\u001b[0m\u001b[0;34m,\u001b[0m\u001b[0mX_test\u001b[0m\u001b[0;34m.\u001b[0m\u001b[0mto_numpy\u001b[0m\u001b[0;34m(\u001b[0m\u001b[0;34m)\u001b[0m\u001b[0;34m[\u001b[0m\u001b[0;36m0\u001b[0m\u001b[0;34m,\u001b[0m\u001b[0;34m:\u001b[0m\u001b[0;34m]\u001b[0m\u001b[0;34m)\u001b[0m\u001b[0;34m)\u001b[0m\u001b[0;34m\u001b[0m\u001b[0;34m\u001b[0m\u001b[0m\n\u001b[0m",
            "\u001b[0;32m/usr/local/lib/python3.7/dist-packages/XBNet/training_utils.py\u001b[0m in \u001b[0;36mpredict\u001b[0;34m(model, X)\u001b[0m\n\u001b[1;32m    210\u001b[0m                 \u001b[0my_pred\u001b[0m \u001b[0;34m=\u001b[0m \u001b[0;36m1\u001b[0m\u001b[0;34m\u001b[0m\u001b[0;34m\u001b[0m\u001b[0m\n\u001b[1;32m    211\u001b[0m         \u001b[0;32melse\u001b[0m\u001b[0;34m:\u001b[0m\u001b[0;34m\u001b[0m\u001b[0;34m\u001b[0m\u001b[0m\n\u001b[0;32m--> 212\u001b[0;31m             \u001b[0my_pred\u001b[0m \u001b[0;34m=\u001b[0m \u001b[0mnp\u001b[0m\u001b[0;34m.\u001b[0m\u001b[0margmax\u001b[0m\u001b[0;34m(\u001b[0m\u001b[0my_pred\u001b[0m\u001b[0;34m.\u001b[0m\u001b[0mdetach\u001b[0m\u001b[0;34m(\u001b[0m\u001b[0;34m)\u001b[0m\u001b[0;34m.\u001b[0m\u001b[0mnumpy\u001b[0m\u001b[0;34m(\u001b[0m\u001b[0;34m)\u001b[0m\u001b[0;34m,\u001b[0m\u001b[0maxis\u001b[0m\u001b[0;34m=\u001b[0m\u001b[0;36m1\u001b[0m\u001b[0;34m)\u001b[0m\u001b[0;34m\u001b[0m\u001b[0;34m\u001b[0m\u001b[0m\n\u001b[0m\u001b[1;32m    213\u001b[0m         \u001b[0;32mreturn\u001b[0m \u001b[0my_pred\u001b[0m\u001b[0;34m\u001b[0m\u001b[0;34m\u001b[0m\u001b[0m\n\u001b[1;32m    214\u001b[0m     \u001b[0;32melse\u001b[0m\u001b[0;34m:\u001b[0m\u001b[0;34m\u001b[0m\u001b[0;34m\u001b[0m\u001b[0m\n",
            "\u001b[0;32m<__array_function__ internals>\u001b[0m in \u001b[0;36margmax\u001b[0;34m(*args, **kwargs)\u001b[0m\n",
            "\u001b[0;32m/usr/local/lib/python3.7/dist-packages/numpy/core/fromnumeric.py\u001b[0m in \u001b[0;36margmax\u001b[0;34m(a, axis, out)\u001b[0m\n\u001b[1;32m   1193\u001b[0m \u001b[0;34m\u001b[0m\u001b[0m\n\u001b[1;32m   1194\u001b[0m     \"\"\"\n\u001b[0;32m-> 1195\u001b[0;31m     \u001b[0;32mreturn\u001b[0m \u001b[0m_wrapfunc\u001b[0m\u001b[0;34m(\u001b[0m\u001b[0ma\u001b[0m\u001b[0;34m,\u001b[0m \u001b[0;34m'argmax'\u001b[0m\u001b[0;34m,\u001b[0m \u001b[0maxis\u001b[0m\u001b[0;34m=\u001b[0m\u001b[0maxis\u001b[0m\u001b[0;34m,\u001b[0m \u001b[0mout\u001b[0m\u001b[0;34m=\u001b[0m\u001b[0mout\u001b[0m\u001b[0;34m)\u001b[0m\u001b[0;34m\u001b[0m\u001b[0;34m\u001b[0m\u001b[0m\n\u001b[0m\u001b[1;32m   1196\u001b[0m \u001b[0;34m\u001b[0m\u001b[0m\n\u001b[1;32m   1197\u001b[0m \u001b[0;34m\u001b[0m\u001b[0m\n",
            "\u001b[0;32m/usr/local/lib/python3.7/dist-packages/numpy/core/fromnumeric.py\u001b[0m in \u001b[0;36m_wrapfunc\u001b[0;34m(obj, method, *args, **kwds)\u001b[0m\n\u001b[1;32m     55\u001b[0m \u001b[0;34m\u001b[0m\u001b[0m\n\u001b[1;32m     56\u001b[0m     \u001b[0;32mtry\u001b[0m\u001b[0;34m:\u001b[0m\u001b[0;34m\u001b[0m\u001b[0;34m\u001b[0m\u001b[0m\n\u001b[0;32m---> 57\u001b[0;31m         \u001b[0;32mreturn\u001b[0m \u001b[0mbound\u001b[0m\u001b[0;34m(\u001b[0m\u001b[0;34m*\u001b[0m\u001b[0margs\u001b[0m\u001b[0;34m,\u001b[0m \u001b[0;34m**\u001b[0m\u001b[0mkwds\u001b[0m\u001b[0;34m)\u001b[0m\u001b[0;34m\u001b[0m\u001b[0;34m\u001b[0m\u001b[0m\n\u001b[0m\u001b[1;32m     58\u001b[0m     \u001b[0;32mexcept\u001b[0m \u001b[0mTypeError\u001b[0m\u001b[0;34m:\u001b[0m\u001b[0;34m\u001b[0m\u001b[0;34m\u001b[0m\u001b[0m\n\u001b[1;32m     59\u001b[0m         \u001b[0;31m# A TypeError occurs if the object does have such a method in its\u001b[0m\u001b[0;34m\u001b[0m\u001b[0;34m\u001b[0m\u001b[0;34m\u001b[0m\u001b[0m\n",
            "\u001b[0;31mAxisError\u001b[0m: axis 1 is out of bounds for array of dimension 1"
          ]
        }
      ]
    },
    {
      "cell_type": "markdown",
      "id": "9df14ac8",
      "metadata": {
        "id": "9df14ac8"
      },
      "source": [
        "#### Submission"
      ]
    },
    {
      "cell_type": "code",
      "execution_count": 49,
      "id": "aec899d1",
      "metadata": {
        "id": "aec899d1"
      },
      "outputs": [],
      "source": [
        "#maindir = \"/Users/Abimbola/Documents/MSc Computer Science/Semester 2/Computer science project/Blood-Spectorscopy/Data\" # Directory with your files\n",
        "maindir = \"/content\"\n",
        "ss =  maindir+\"/Updated_Sample_Submission.csv\"\n",
        "ss = pd.read_csv(ss)\n",
        "ss.head()\n",
        "\n",
        "ss = ss.drop(['Unnamed: 0'], axis= 1)"
      ]
    },
    {
      "cell_type": "code",
      "execution_count": 50,
      "id": "ed786f08",
      "metadata": {
        "id": "ed786f08"
      },
      "outputs": [],
      "source": [
        "def transform_c_hdl(row):\n",
        "    return pd.Series([str(row[\"donation_id\"]) + \"_hdl_cholesterol_human\", row['hdl_cholesterol_human']])"
      ]
    },
    {
      "cell_type": "code",
      "execution_count": 51,
      "id": "a62288fe",
      "metadata": {
        "id": "a62288fe"
      },
      "outputs": [],
      "source": [
        "sample_c_hdl = pd.DataFrame(columns = ss.columns)"
      ]
    },
    {
      "cell_type": "code",
      "execution_count": 52,
      "id": "a621649b",
      "metadata": {
        "id": "a621649b",
        "outputId": "272a8219-71fe-4b36-a214-84540f866248",
        "colab": {
          "base_uri": "https://localhost:8080/",
          "height": 49,
          "referenced_widgets": [
            "7f20c5377e8846ce85e29de977b810af",
            "c3aeb5be7e7345f995dd0045487dd519",
            "d25f97013a4f45808f42563674d6d7c8",
            "7b526544567948c8a97799f47a411248",
            "d23d1f2cc7af4bd4b47abc69d5840c6b",
            "e337919dba6d46d4a5b3505ac416dbda",
            "93b304efded848afad3fbdae154f9cc8",
            "01a05b0cf74a415f8e8775d052bca305",
            "3264b795736147d480dfd7e694852ac9",
            "a0afa3f5f2ba4d7085135372e8fba13e",
            "6b98b283ee0249e397efa1f5a05fa32c"
          ]
        }
      },
      "outputs": [
        {
          "output_type": "display_data",
          "data": {
            "application/vnd.jupyter.widget-view+json": {
              "model_id": "7f20c5377e8846ce85e29de977b810af",
              "version_minor": 0,
              "version_major": 2
            },
            "text/plain": [
              "  0%|          | 0/61 [00:00<?, ?it/s]"
            ]
          },
          "metadata": {}
        }
      ],
      "source": [
        "from tqdm.notebook import tqdm\n",
        "\n",
        "tqdm.pandas()\n",
        "sample_c_hdl[['Donation_ID', 'target']] = test.progress_apply(transform_c_hdl, axis = 1)"
      ]
    },
    {
      "cell_type": "code",
      "execution_count": 53,
      "id": "65da8fe1",
      "metadata": {
        "id": "65da8fe1"
      },
      "outputs": [],
      "source": [
        "def transform_hemo(row):\n",
        "    return pd.Series([str(row[\"donation_id\"]) + \"_hemoglobin(hgb)_human\", row[\"hemoglobin_hgb_human\"]])"
      ]
    },
    {
      "cell_type": "code",
      "execution_count": 54,
      "id": "d33b0c81",
      "metadata": {
        "id": "d33b0c81"
      },
      "outputs": [],
      "source": [
        "sample_hemo = pd.DataFrame(columns = ss.columns)"
      ]
    },
    {
      "cell_type": "code",
      "execution_count": 55,
      "id": "2e9a405c",
      "metadata": {
        "id": "2e9a405c",
        "outputId": "b06c2547-35c3-4b62-b79e-ec987a86be3e",
        "colab": {
          "base_uri": "https://localhost:8080/",
          "height": 49,
          "referenced_widgets": [
            "af78d12a584441b285a8cc3534888ebd",
            "8b845f3f11ca42c9bdf5c57cd0fde330",
            "b9f03119d18a4e79a2a51c2cc86d9875",
            "771315c7ca8d4953b84ec1c7e31cd669",
            "f09dc77ff6b84740ab5cccc06ac7c53f",
            "6690b660e62e42ee8990515baf86a4da",
            "34d8f48297bc49a4aba5a572a4795a0a",
            "2afdb2af2710426eb54c9b72a2dc59c4",
            "5781a4d6e681424aa99f564809887131",
            "2d187c1efbc8499cbcc7dfbd7fd3871a",
            "a4985dd9ac5347b6819f6f131c97b051"
          ]
        }
      },
      "outputs": [
        {
          "output_type": "display_data",
          "data": {
            "application/vnd.jupyter.widget-view+json": {
              "model_id": "af78d12a584441b285a8cc3534888ebd",
              "version_minor": 0,
              "version_major": 2
            },
            "text/plain": [
              "  0%|          | 0/61 [00:00<?, ?it/s]"
            ]
          },
          "metadata": {}
        }
      ],
      "source": [
        "sample_hemo[['Donation_ID', 'target']] = test.progress_apply(transform_hemo, axis = 1)"
      ]
    },
    {
      "cell_type": "code",
      "execution_count": 56,
      "id": "b1cc42ba",
      "metadata": {
        "id": "b1cc42ba",
        "outputId": "9f93e38d-eb69-4252-e660-c9e015b43fb6",
        "colab": {
          "base_uri": "https://localhost:8080/",
          "height": 424
        }
      },
      "outputs": [
        {
          "output_type": "execute_result",
          "data": {
            "text/html": [
              "\n",
              "  <div id=\"df-b2c5e3d6-1a6c-4faa-999c-dc1ce47faa21\">\n",
              "    <div class=\"colab-df-container\">\n",
              "      <div>\n",
              "<style scoped>\n",
              "    .dataframe tbody tr th:only-of-type {\n",
              "        vertical-align: middle;\n",
              "    }\n",
              "\n",
              "    .dataframe tbody tr th {\n",
              "        vertical-align: top;\n",
              "    }\n",
              "\n",
              "    .dataframe thead th {\n",
              "        text-align: right;\n",
              "    }\n",
              "</style>\n",
              "<table border=\"1\" class=\"dataframe\">\n",
              "  <thead>\n",
              "    <tr style=\"text-align: right;\">\n",
              "      <th></th>\n",
              "      <th>Donation_ID</th>\n",
              "      <th>target</th>\n",
              "    </tr>\n",
              "  </thead>\n",
              "  <tbody>\n",
              "    <tr>\n",
              "      <th>355</th>\n",
              "      <td>ID_1961_hdl_cholesterol_human</td>\n",
              "      <td>ok</td>\n",
              "    </tr>\n",
              "    <tr>\n",
              "      <th>356</th>\n",
              "      <td>ID_2067_hdl_cholesterol_human</td>\n",
              "      <td>ok</td>\n",
              "    </tr>\n",
              "    <tr>\n",
              "      <th>357</th>\n",
              "      <td>ID_2155_hdl_cholesterol_human</td>\n",
              "      <td>ok</td>\n",
              "    </tr>\n",
              "    <tr>\n",
              "      <th>358</th>\n",
              "      <td>ID_2211_hdl_cholesterol_human</td>\n",
              "      <td>ok</td>\n",
              "    </tr>\n",
              "    <tr>\n",
              "      <th>359</th>\n",
              "      <td>ID_2327_hdl_cholesterol_human</td>\n",
              "      <td>ok</td>\n",
              "    </tr>\n",
              "    <tr>\n",
              "      <th>...</th>\n",
              "      <td>...</td>\n",
              "      <td>...</td>\n",
              "    </tr>\n",
              "    <tr>\n",
              "      <th>411</th>\n",
              "      <td>ID_6373_hdl_cholesterol_human</td>\n",
              "      <td>ok</td>\n",
              "    </tr>\n",
              "    <tr>\n",
              "      <th>412</th>\n",
              "      <td>ID_6381_hdl_cholesterol_human</td>\n",
              "      <td>ok</td>\n",
              "    </tr>\n",
              "    <tr>\n",
              "      <th>413</th>\n",
              "      <td>ID_6391_hdl_cholesterol_human</td>\n",
              "      <td>ok</td>\n",
              "    </tr>\n",
              "    <tr>\n",
              "      <th>414</th>\n",
              "      <td>ID_7755_hdl_cholesterol_human</td>\n",
              "      <td>ok</td>\n",
              "    </tr>\n",
              "    <tr>\n",
              "      <th>415</th>\n",
              "      <td>ID_7821_hdl_cholesterol_human</td>\n",
              "      <td>ok</td>\n",
              "    </tr>\n",
              "  </tbody>\n",
              "</table>\n",
              "<p>61 rows × 2 columns</p>\n",
              "</div>\n",
              "      <button class=\"colab-df-convert\" onclick=\"convertToInteractive('df-b2c5e3d6-1a6c-4faa-999c-dc1ce47faa21')\"\n",
              "              title=\"Convert this dataframe to an interactive table.\"\n",
              "              style=\"display:none;\">\n",
              "        \n",
              "  <svg xmlns=\"http://www.w3.org/2000/svg\" height=\"24px\"viewBox=\"0 0 24 24\"\n",
              "       width=\"24px\">\n",
              "    <path d=\"M0 0h24v24H0V0z\" fill=\"none\"/>\n",
              "    <path d=\"M18.56 5.44l.94 2.06.94-2.06 2.06-.94-2.06-.94-.94-2.06-.94 2.06-2.06.94zm-11 1L8.5 8.5l.94-2.06 2.06-.94-2.06-.94L8.5 2.5l-.94 2.06-2.06.94zm10 10l.94 2.06.94-2.06 2.06-.94-2.06-.94-.94-2.06-.94 2.06-2.06.94z\"/><path d=\"M17.41 7.96l-1.37-1.37c-.4-.4-.92-.59-1.43-.59-.52 0-1.04.2-1.43.59L10.3 9.45l-7.72 7.72c-.78.78-.78 2.05 0 2.83L4 21.41c.39.39.9.59 1.41.59.51 0 1.02-.2 1.41-.59l7.78-7.78 2.81-2.81c.8-.78.8-2.07 0-2.86zM5.41 20L4 18.59l7.72-7.72 1.47 1.35L5.41 20z\"/>\n",
              "  </svg>\n",
              "      </button>\n",
              "      \n",
              "  <style>\n",
              "    .colab-df-container {\n",
              "      display:flex;\n",
              "      flex-wrap:wrap;\n",
              "      gap: 12px;\n",
              "    }\n",
              "\n",
              "    .colab-df-convert {\n",
              "      background-color: #E8F0FE;\n",
              "      border: none;\n",
              "      border-radius: 50%;\n",
              "      cursor: pointer;\n",
              "      display: none;\n",
              "      fill: #1967D2;\n",
              "      height: 32px;\n",
              "      padding: 0 0 0 0;\n",
              "      width: 32px;\n",
              "    }\n",
              "\n",
              "    .colab-df-convert:hover {\n",
              "      background-color: #E2EBFA;\n",
              "      box-shadow: 0px 1px 2px rgba(60, 64, 67, 0.3), 0px 1px 3px 1px rgba(60, 64, 67, 0.15);\n",
              "      fill: #174EA6;\n",
              "    }\n",
              "\n",
              "    [theme=dark] .colab-df-convert {\n",
              "      background-color: #3B4455;\n",
              "      fill: #D2E3FC;\n",
              "    }\n",
              "\n",
              "    [theme=dark] .colab-df-convert:hover {\n",
              "      background-color: #434B5C;\n",
              "      box-shadow: 0px 1px 3px 1px rgba(0, 0, 0, 0.15);\n",
              "      filter: drop-shadow(0px 1px 2px rgba(0, 0, 0, 0.3));\n",
              "      fill: #FFFFFF;\n",
              "    }\n",
              "  </style>\n",
              "\n",
              "      <script>\n",
              "        const buttonEl =\n",
              "          document.querySelector('#df-b2c5e3d6-1a6c-4faa-999c-dc1ce47faa21 button.colab-df-convert');\n",
              "        buttonEl.style.display =\n",
              "          google.colab.kernel.accessAllowed ? 'block' : 'none';\n",
              "\n",
              "        async function convertToInteractive(key) {\n",
              "          const element = document.querySelector('#df-b2c5e3d6-1a6c-4faa-999c-dc1ce47faa21');\n",
              "          const dataTable =\n",
              "            await google.colab.kernel.invokeFunction('convertToInteractive',\n",
              "                                                     [key], {});\n",
              "          if (!dataTable) return;\n",
              "\n",
              "          const docLinkHtml = 'Like what you see? Visit the ' +\n",
              "            '<a target=\"_blank\" href=https://colab.research.google.com/notebooks/data_table.ipynb>data table notebook</a>'\n",
              "            + ' to learn more about interactive tables.';\n",
              "          element.innerHTML = '';\n",
              "          dataTable['output_type'] = 'display_data';\n",
              "          await google.colab.output.renderOutput(dataTable, element);\n",
              "          const docLink = document.createElement('div');\n",
              "          docLink.innerHTML = docLinkHtml;\n",
              "          element.appendChild(docLink);\n",
              "        }\n",
              "      </script>\n",
              "    </div>\n",
              "  </div>\n",
              "  "
            ],
            "text/plain": [
              "                       Donation_ID target\n",
              "355  ID_1961_hdl_cholesterol_human     ok\n",
              "356  ID_2067_hdl_cholesterol_human     ok\n",
              "357  ID_2155_hdl_cholesterol_human     ok\n",
              "358  ID_2211_hdl_cholesterol_human     ok\n",
              "359  ID_2327_hdl_cholesterol_human     ok\n",
              "..                             ...    ...\n",
              "411  ID_6373_hdl_cholesterol_human     ok\n",
              "412  ID_6381_hdl_cholesterol_human     ok\n",
              "413  ID_6391_hdl_cholesterol_human     ok\n",
              "414  ID_7755_hdl_cholesterol_human     ok\n",
              "415  ID_7821_hdl_cholesterol_human     ok\n",
              "\n",
              "[61 rows x 2 columns]"
            ]
          },
          "metadata": {},
          "execution_count": 56
        }
      ],
      "source": [
        "sample_c_hdl"
      ]
    },
    {
      "cell_type": "code",
      "execution_count": 57,
      "id": "15d50fa3",
      "metadata": {
        "id": "15d50fa3"
      },
      "outputs": [],
      "source": [
        "def transform_c_ldl(row):\n",
        "    return pd.Series([str(row[\"donation_id\"]) + \"_cholesterol_ldl_human\", row[\"cholesterol_ldl_human\"]])"
      ]
    },
    {
      "cell_type": "code",
      "execution_count": 58,
      "id": "914e2660",
      "metadata": {
        "id": "914e2660"
      },
      "outputs": [],
      "source": [
        "sample_c_ldl = pd.DataFrame(columns = ss.columns)"
      ]
    },
    {
      "cell_type": "code",
      "execution_count": 59,
      "id": "9bdf1faf",
      "metadata": {
        "id": "9bdf1faf",
        "outputId": "820abf86-9f97-4106-ee98-251b8686b669",
        "colab": {
          "base_uri": "https://localhost:8080/",
          "height": 49,
          "referenced_widgets": [
            "814c4496b37e4bf7893acce2f1e87710",
            "5cd048f7302c4e819929c816e02ef1ec",
            "8b5c9bf60e094120916360b2b975fdbc",
            "2e852731be6946909e77b253866c875c",
            "fa3bf1abab8b4fbdaef8e01635d5acc6",
            "92a31236f20243bba54db7e36ead584e",
            "aa295ed7f8494ae787c1f8484877cc7e",
            "22a274b482e842659f3821bd58cfccfe",
            "39aaf3bcc7ea4a3ba501032d51b6618f",
            "3a04051cddf242de86a28711f599a966",
            "5bb37c73524b4ed89a41c2b3f9c5eb00"
          ]
        }
      },
      "outputs": [
        {
          "output_type": "display_data",
          "data": {
            "application/vnd.jupyter.widget-view+json": {
              "model_id": "814c4496b37e4bf7893acce2f1e87710",
              "version_minor": 0,
              "version_major": 2
            },
            "text/plain": [
              "  0%|          | 0/61 [00:00<?, ?it/s]"
            ]
          },
          "metadata": {}
        }
      ],
      "source": [
        "sample_c_ldl[['Donation_ID', 'target']] = test.progress_apply(transform_c_ldl, axis = 1)"
      ]
    },
    {
      "cell_type": "code",
      "execution_count": 60,
      "id": "efadf250",
      "metadata": {
        "id": "efadf250"
      },
      "outputs": [],
      "source": [
        "submission = pd.concat([sample_c_hdl, sample_hemo, sample_c_ldl]).reset_index(drop=True)"
      ]
    },
    {
      "cell_type": "code",
      "execution_count": 61,
      "id": "3763ff98",
      "metadata": {
        "id": "3763ff98"
      },
      "outputs": [],
      "source": [
        "submission = submission.loc[:, ~submission.columns.str.contains('^Unnamed')]"
      ]
    },
    {
      "cell_type": "code",
      "execution_count": 62,
      "id": "0a70529b",
      "metadata": {
        "id": "0a70529b",
        "outputId": "e4e0d0b1-9026-4342-990f-5f3c5a1ec542",
        "colab": {
          "base_uri": "https://localhost:8080/",
          "height": 206
        }
      },
      "outputs": [
        {
          "output_type": "execute_result",
          "data": {
            "text/html": [
              "\n",
              "  <div id=\"df-994be10a-2028-4bcc-ac05-618a5688d871\">\n",
              "    <div class=\"colab-df-container\">\n",
              "      <div>\n",
              "<style scoped>\n",
              "    .dataframe tbody tr th:only-of-type {\n",
              "        vertical-align: middle;\n",
              "    }\n",
              "\n",
              "    .dataframe tbody tr th {\n",
              "        vertical-align: top;\n",
              "    }\n",
              "\n",
              "    .dataframe thead th {\n",
              "        text-align: right;\n",
              "    }\n",
              "</style>\n",
              "<table border=\"1\" class=\"dataframe\">\n",
              "  <thead>\n",
              "    <tr style=\"text-align: right;\">\n",
              "      <th></th>\n",
              "      <th>Donation_ID</th>\n",
              "      <th>target</th>\n",
              "    </tr>\n",
              "  </thead>\n",
              "  <tbody>\n",
              "    <tr>\n",
              "      <th>0</th>\n",
              "      <td>ID_1961_hdl_cholesterol_human</td>\n",
              "      <td>ok</td>\n",
              "    </tr>\n",
              "    <tr>\n",
              "      <th>1</th>\n",
              "      <td>ID_2067_hdl_cholesterol_human</td>\n",
              "      <td>ok</td>\n",
              "    </tr>\n",
              "    <tr>\n",
              "      <th>2</th>\n",
              "      <td>ID_2155_hdl_cholesterol_human</td>\n",
              "      <td>ok</td>\n",
              "    </tr>\n",
              "    <tr>\n",
              "      <th>3</th>\n",
              "      <td>ID_2211_hdl_cholesterol_human</td>\n",
              "      <td>ok</td>\n",
              "    </tr>\n",
              "    <tr>\n",
              "      <th>4</th>\n",
              "      <td>ID_2327_hdl_cholesterol_human</td>\n",
              "      <td>ok</td>\n",
              "    </tr>\n",
              "  </tbody>\n",
              "</table>\n",
              "</div>\n",
              "      <button class=\"colab-df-convert\" onclick=\"convertToInteractive('df-994be10a-2028-4bcc-ac05-618a5688d871')\"\n",
              "              title=\"Convert this dataframe to an interactive table.\"\n",
              "              style=\"display:none;\">\n",
              "        \n",
              "  <svg xmlns=\"http://www.w3.org/2000/svg\" height=\"24px\"viewBox=\"0 0 24 24\"\n",
              "       width=\"24px\">\n",
              "    <path d=\"M0 0h24v24H0V0z\" fill=\"none\"/>\n",
              "    <path d=\"M18.56 5.44l.94 2.06.94-2.06 2.06-.94-2.06-.94-.94-2.06-.94 2.06-2.06.94zm-11 1L8.5 8.5l.94-2.06 2.06-.94-2.06-.94L8.5 2.5l-.94 2.06-2.06.94zm10 10l.94 2.06.94-2.06 2.06-.94-2.06-.94-.94-2.06-.94 2.06-2.06.94z\"/><path d=\"M17.41 7.96l-1.37-1.37c-.4-.4-.92-.59-1.43-.59-.52 0-1.04.2-1.43.59L10.3 9.45l-7.72 7.72c-.78.78-.78 2.05 0 2.83L4 21.41c.39.39.9.59 1.41.59.51 0 1.02-.2 1.41-.59l7.78-7.78 2.81-2.81c.8-.78.8-2.07 0-2.86zM5.41 20L4 18.59l7.72-7.72 1.47 1.35L5.41 20z\"/>\n",
              "  </svg>\n",
              "      </button>\n",
              "      \n",
              "  <style>\n",
              "    .colab-df-container {\n",
              "      display:flex;\n",
              "      flex-wrap:wrap;\n",
              "      gap: 12px;\n",
              "    }\n",
              "\n",
              "    .colab-df-convert {\n",
              "      background-color: #E8F0FE;\n",
              "      border: none;\n",
              "      border-radius: 50%;\n",
              "      cursor: pointer;\n",
              "      display: none;\n",
              "      fill: #1967D2;\n",
              "      height: 32px;\n",
              "      padding: 0 0 0 0;\n",
              "      width: 32px;\n",
              "    }\n",
              "\n",
              "    .colab-df-convert:hover {\n",
              "      background-color: #E2EBFA;\n",
              "      box-shadow: 0px 1px 2px rgba(60, 64, 67, 0.3), 0px 1px 3px 1px rgba(60, 64, 67, 0.15);\n",
              "      fill: #174EA6;\n",
              "    }\n",
              "\n",
              "    [theme=dark] .colab-df-convert {\n",
              "      background-color: #3B4455;\n",
              "      fill: #D2E3FC;\n",
              "    }\n",
              "\n",
              "    [theme=dark] .colab-df-convert:hover {\n",
              "      background-color: #434B5C;\n",
              "      box-shadow: 0px 1px 3px 1px rgba(0, 0, 0, 0.15);\n",
              "      filter: drop-shadow(0px 1px 2px rgba(0, 0, 0, 0.3));\n",
              "      fill: #FFFFFF;\n",
              "    }\n",
              "  </style>\n",
              "\n",
              "      <script>\n",
              "        const buttonEl =\n",
              "          document.querySelector('#df-994be10a-2028-4bcc-ac05-618a5688d871 button.colab-df-convert');\n",
              "        buttonEl.style.display =\n",
              "          google.colab.kernel.accessAllowed ? 'block' : 'none';\n",
              "\n",
              "        async function convertToInteractive(key) {\n",
              "          const element = document.querySelector('#df-994be10a-2028-4bcc-ac05-618a5688d871');\n",
              "          const dataTable =\n",
              "            await google.colab.kernel.invokeFunction('convertToInteractive',\n",
              "                                                     [key], {});\n",
              "          if (!dataTable) return;\n",
              "\n",
              "          const docLinkHtml = 'Like what you see? Visit the ' +\n",
              "            '<a target=\"_blank\" href=https://colab.research.google.com/notebooks/data_table.ipynb>data table notebook</a>'\n",
              "            + ' to learn more about interactive tables.';\n",
              "          element.innerHTML = '';\n",
              "          dataTable['output_type'] = 'display_data';\n",
              "          await google.colab.output.renderOutput(dataTable, element);\n",
              "          const docLink = document.createElement('div');\n",
              "          docLink.innerHTML = docLinkHtml;\n",
              "          element.appendChild(docLink);\n",
              "        }\n",
              "      </script>\n",
              "    </div>\n",
              "  </div>\n",
              "  "
            ],
            "text/plain": [
              "                     Donation_ID target\n",
              "0  ID_1961_hdl_cholesterol_human     ok\n",
              "1  ID_2067_hdl_cholesterol_human     ok\n",
              "2  ID_2155_hdl_cholesterol_human     ok\n",
              "3  ID_2211_hdl_cholesterol_human     ok\n",
              "4  ID_2327_hdl_cholesterol_human     ok"
            ]
          },
          "metadata": {},
          "execution_count": 62
        }
      ],
      "source": [
        "submission.head()"
      ]
    },
    {
      "cell_type": "code",
      "execution_count": 63,
      "id": "8e3011aa",
      "metadata": {
        "id": "8e3011aa"
      },
      "outputs": [],
      "source": [
        "submission.to_csv(\"./submission19.csv\", index=False)"
      ]
    },
    {
      "cell_type": "markdown",
      "id": "a60da64a",
      "metadata": {
        "id": "a60da64a"
      },
      "source": [
        "#### To do\n",
        " - Bagging with random undersampling\n",
        " - Use boosting algorithms (AdaBoost etc)\n",
        " - Read up SMOTE for imbalanced classification"
      ]
    },
    {
      "cell_type": "markdown",
      "id": "d24dc5b7",
      "metadata": {
        "id": "d24dc5b7"
      },
      "source": [
        ""
      ]
    }
  ],
  "metadata": {
    "colab": {
      "name": "Data Preparation- Blood Spectroscopy (ML Models).ipynb",
      "provenance": [],
      "include_colab_link": true
    },
    "kernelspec": {
      "display_name": "Python 3 (ipykernel)",
      "language": "python",
      "name": "python3"
    },
    "language_info": {
      "codemirror_mode": {
        "name": "ipython",
        "version": 3
      },
      "file_extension": ".py",
      "mimetype": "text/x-python",
      "name": "python",
      "nbconvert_exporter": "python",
      "pygments_lexer": "ipython3",
      "version": "3.10.1"
    },
    "accelerator": "GPU",
    "widgets": {
      "application/vnd.jupyter.widget-state+json": {
        "7f20c5377e8846ce85e29de977b810af": {
          "model_module": "@jupyter-widgets/controls",
          "model_name": "HBoxModel",
          "model_module_version": "1.5.0",
          "state": {
            "_view_name": "HBoxView",
            "_dom_classes": [],
            "_model_name": "HBoxModel",
            "_view_module": "@jupyter-widgets/controls",
            "_model_module_version": "1.5.0",
            "_view_count": null,
            "_view_module_version": "1.5.0",
            "box_style": "",
            "layout": "IPY_MODEL_c3aeb5be7e7345f995dd0045487dd519",
            "_model_module": "@jupyter-widgets/controls",
            "children": [
              "IPY_MODEL_d25f97013a4f45808f42563674d6d7c8",
              "IPY_MODEL_7b526544567948c8a97799f47a411248",
              "IPY_MODEL_d23d1f2cc7af4bd4b47abc69d5840c6b"
            ]
          }
        },
        "c3aeb5be7e7345f995dd0045487dd519": {
          "model_module": "@jupyter-widgets/base",
          "model_name": "LayoutModel",
          "model_module_version": "1.2.0",
          "state": {
            "_view_name": "LayoutView",
            "grid_template_rows": null,
            "right": null,
            "justify_content": null,
            "_view_module": "@jupyter-widgets/base",
            "overflow": null,
            "_model_module_version": "1.2.0",
            "_view_count": null,
            "flex_flow": null,
            "width": null,
            "min_width": null,
            "border": null,
            "align_items": null,
            "bottom": null,
            "_model_module": "@jupyter-widgets/base",
            "top": null,
            "grid_column": null,
            "overflow_y": null,
            "overflow_x": null,
            "grid_auto_flow": null,
            "grid_area": null,
            "grid_template_columns": null,
            "flex": null,
            "_model_name": "LayoutModel",
            "justify_items": null,
            "grid_row": null,
            "max_height": null,
            "align_content": null,
            "visibility": null,
            "align_self": null,
            "height": null,
            "min_height": null,
            "padding": null,
            "grid_auto_rows": null,
            "grid_gap": null,
            "max_width": null,
            "order": null,
            "_view_module_version": "1.2.0",
            "grid_template_areas": null,
            "object_position": null,
            "object_fit": null,
            "grid_auto_columns": null,
            "margin": null,
            "display": null,
            "left": null
          }
        },
        "d25f97013a4f45808f42563674d6d7c8": {
          "model_module": "@jupyter-widgets/controls",
          "model_name": "HTMLModel",
          "model_module_version": "1.5.0",
          "state": {
            "_view_name": "HTMLView",
            "style": "IPY_MODEL_e337919dba6d46d4a5b3505ac416dbda",
            "_dom_classes": [],
            "description": "",
            "_model_name": "HTMLModel",
            "placeholder": "​",
            "_view_module": "@jupyter-widgets/controls",
            "_model_module_version": "1.5.0",
            "value": "100%",
            "_view_count": null,
            "_view_module_version": "1.5.0",
            "description_tooltip": null,
            "_model_module": "@jupyter-widgets/controls",
            "layout": "IPY_MODEL_93b304efded848afad3fbdae154f9cc8"
          }
        },
        "7b526544567948c8a97799f47a411248": {
          "model_module": "@jupyter-widgets/controls",
          "model_name": "FloatProgressModel",
          "model_module_version": "1.5.0",
          "state": {
            "_view_name": "ProgressView",
            "style": "IPY_MODEL_01a05b0cf74a415f8e8775d052bca305",
            "_dom_classes": [],
            "description": "",
            "_model_name": "FloatProgressModel",
            "bar_style": "success",
            "max": 61,
            "_view_module": "@jupyter-widgets/controls",
            "_model_module_version": "1.5.0",
            "value": 61,
            "_view_count": null,
            "_view_module_version": "1.5.0",
            "orientation": "horizontal",
            "min": 0,
            "description_tooltip": null,
            "_model_module": "@jupyter-widgets/controls",
            "layout": "IPY_MODEL_3264b795736147d480dfd7e694852ac9"
          }
        },
        "d23d1f2cc7af4bd4b47abc69d5840c6b": {
          "model_module": "@jupyter-widgets/controls",
          "model_name": "HTMLModel",
          "model_module_version": "1.5.0",
          "state": {
            "_view_name": "HTMLView",
            "style": "IPY_MODEL_a0afa3f5f2ba4d7085135372e8fba13e",
            "_dom_classes": [],
            "description": "",
            "_model_name": "HTMLModel",
            "placeholder": "​",
            "_view_module": "@jupyter-widgets/controls",
            "_model_module_version": "1.5.0",
            "value": " 61/61 [00:00&lt;00:00, 443.83it/s]",
            "_view_count": null,
            "_view_module_version": "1.5.0",
            "description_tooltip": null,
            "_model_module": "@jupyter-widgets/controls",
            "layout": "IPY_MODEL_6b98b283ee0249e397efa1f5a05fa32c"
          }
        },
        "e337919dba6d46d4a5b3505ac416dbda": {
          "model_module": "@jupyter-widgets/controls",
          "model_name": "DescriptionStyleModel",
          "model_module_version": "1.5.0",
          "state": {
            "_view_name": "StyleView",
            "_model_name": "DescriptionStyleModel",
            "description_width": "",
            "_view_module": "@jupyter-widgets/base",
            "_model_module_version": "1.5.0",
            "_view_count": null,
            "_view_module_version": "1.2.0",
            "_model_module": "@jupyter-widgets/controls"
          }
        },
        "93b304efded848afad3fbdae154f9cc8": {
          "model_module": "@jupyter-widgets/base",
          "model_name": "LayoutModel",
          "model_module_version": "1.2.0",
          "state": {
            "_view_name": "LayoutView",
            "grid_template_rows": null,
            "right": null,
            "justify_content": null,
            "_view_module": "@jupyter-widgets/base",
            "overflow": null,
            "_model_module_version": "1.2.0",
            "_view_count": null,
            "flex_flow": null,
            "width": null,
            "min_width": null,
            "border": null,
            "align_items": null,
            "bottom": null,
            "_model_module": "@jupyter-widgets/base",
            "top": null,
            "grid_column": null,
            "overflow_y": null,
            "overflow_x": null,
            "grid_auto_flow": null,
            "grid_area": null,
            "grid_template_columns": null,
            "flex": null,
            "_model_name": "LayoutModel",
            "justify_items": null,
            "grid_row": null,
            "max_height": null,
            "align_content": null,
            "visibility": null,
            "align_self": null,
            "height": null,
            "min_height": null,
            "padding": null,
            "grid_auto_rows": null,
            "grid_gap": null,
            "max_width": null,
            "order": null,
            "_view_module_version": "1.2.0",
            "grid_template_areas": null,
            "object_position": null,
            "object_fit": null,
            "grid_auto_columns": null,
            "margin": null,
            "display": null,
            "left": null
          }
        },
        "01a05b0cf74a415f8e8775d052bca305": {
          "model_module": "@jupyter-widgets/controls",
          "model_name": "ProgressStyleModel",
          "model_module_version": "1.5.0",
          "state": {
            "_view_name": "StyleView",
            "_model_name": "ProgressStyleModel",
            "description_width": "",
            "_view_module": "@jupyter-widgets/base",
            "_model_module_version": "1.5.0",
            "_view_count": null,
            "_view_module_version": "1.2.0",
            "bar_color": null,
            "_model_module": "@jupyter-widgets/controls"
          }
        },
        "3264b795736147d480dfd7e694852ac9": {
          "model_module": "@jupyter-widgets/base",
          "model_name": "LayoutModel",
          "model_module_version": "1.2.0",
          "state": {
            "_view_name": "LayoutView",
            "grid_template_rows": null,
            "right": null,
            "justify_content": null,
            "_view_module": "@jupyter-widgets/base",
            "overflow": null,
            "_model_module_version": "1.2.0",
            "_view_count": null,
            "flex_flow": null,
            "width": null,
            "min_width": null,
            "border": null,
            "align_items": null,
            "bottom": null,
            "_model_module": "@jupyter-widgets/base",
            "top": null,
            "grid_column": null,
            "overflow_y": null,
            "overflow_x": null,
            "grid_auto_flow": null,
            "grid_area": null,
            "grid_template_columns": null,
            "flex": null,
            "_model_name": "LayoutModel",
            "justify_items": null,
            "grid_row": null,
            "max_height": null,
            "align_content": null,
            "visibility": null,
            "align_self": null,
            "height": null,
            "min_height": null,
            "padding": null,
            "grid_auto_rows": null,
            "grid_gap": null,
            "max_width": null,
            "order": null,
            "_view_module_version": "1.2.0",
            "grid_template_areas": null,
            "object_position": null,
            "object_fit": null,
            "grid_auto_columns": null,
            "margin": null,
            "display": null,
            "left": null
          }
        },
        "a0afa3f5f2ba4d7085135372e8fba13e": {
          "model_module": "@jupyter-widgets/controls",
          "model_name": "DescriptionStyleModel",
          "model_module_version": "1.5.0",
          "state": {
            "_view_name": "StyleView",
            "_model_name": "DescriptionStyleModel",
            "description_width": "",
            "_view_module": "@jupyter-widgets/base",
            "_model_module_version": "1.5.0",
            "_view_count": null,
            "_view_module_version": "1.2.0",
            "_model_module": "@jupyter-widgets/controls"
          }
        },
        "6b98b283ee0249e397efa1f5a05fa32c": {
          "model_module": "@jupyter-widgets/base",
          "model_name": "LayoutModel",
          "model_module_version": "1.2.0",
          "state": {
            "_view_name": "LayoutView",
            "grid_template_rows": null,
            "right": null,
            "justify_content": null,
            "_view_module": "@jupyter-widgets/base",
            "overflow": null,
            "_model_module_version": "1.2.0",
            "_view_count": null,
            "flex_flow": null,
            "width": null,
            "min_width": null,
            "border": null,
            "align_items": null,
            "bottom": null,
            "_model_module": "@jupyter-widgets/base",
            "top": null,
            "grid_column": null,
            "overflow_y": null,
            "overflow_x": null,
            "grid_auto_flow": null,
            "grid_area": null,
            "grid_template_columns": null,
            "flex": null,
            "_model_name": "LayoutModel",
            "justify_items": null,
            "grid_row": null,
            "max_height": null,
            "align_content": null,
            "visibility": null,
            "align_self": null,
            "height": null,
            "min_height": null,
            "padding": null,
            "grid_auto_rows": null,
            "grid_gap": null,
            "max_width": null,
            "order": null,
            "_view_module_version": "1.2.0",
            "grid_template_areas": null,
            "object_position": null,
            "object_fit": null,
            "grid_auto_columns": null,
            "margin": null,
            "display": null,
            "left": null
          }
        },
        "af78d12a584441b285a8cc3534888ebd": {
          "model_module": "@jupyter-widgets/controls",
          "model_name": "HBoxModel",
          "model_module_version": "1.5.0",
          "state": {
            "_view_name": "HBoxView",
            "_dom_classes": [],
            "_model_name": "HBoxModel",
            "_view_module": "@jupyter-widgets/controls",
            "_model_module_version": "1.5.0",
            "_view_count": null,
            "_view_module_version": "1.5.0",
            "box_style": "",
            "layout": "IPY_MODEL_8b845f3f11ca42c9bdf5c57cd0fde330",
            "_model_module": "@jupyter-widgets/controls",
            "children": [
              "IPY_MODEL_b9f03119d18a4e79a2a51c2cc86d9875",
              "IPY_MODEL_771315c7ca8d4953b84ec1c7e31cd669",
              "IPY_MODEL_f09dc77ff6b84740ab5cccc06ac7c53f"
            ]
          }
        },
        "8b845f3f11ca42c9bdf5c57cd0fde330": {
          "model_module": "@jupyter-widgets/base",
          "model_name": "LayoutModel",
          "model_module_version": "1.2.0",
          "state": {
            "_view_name": "LayoutView",
            "grid_template_rows": null,
            "right": null,
            "justify_content": null,
            "_view_module": "@jupyter-widgets/base",
            "overflow": null,
            "_model_module_version": "1.2.0",
            "_view_count": null,
            "flex_flow": null,
            "width": null,
            "min_width": null,
            "border": null,
            "align_items": null,
            "bottom": null,
            "_model_module": "@jupyter-widgets/base",
            "top": null,
            "grid_column": null,
            "overflow_y": null,
            "overflow_x": null,
            "grid_auto_flow": null,
            "grid_area": null,
            "grid_template_columns": null,
            "flex": null,
            "_model_name": "LayoutModel",
            "justify_items": null,
            "grid_row": null,
            "max_height": null,
            "align_content": null,
            "visibility": null,
            "align_self": null,
            "height": null,
            "min_height": null,
            "padding": null,
            "grid_auto_rows": null,
            "grid_gap": null,
            "max_width": null,
            "order": null,
            "_view_module_version": "1.2.0",
            "grid_template_areas": null,
            "object_position": null,
            "object_fit": null,
            "grid_auto_columns": null,
            "margin": null,
            "display": null,
            "left": null
          }
        },
        "b9f03119d18a4e79a2a51c2cc86d9875": {
          "model_module": "@jupyter-widgets/controls",
          "model_name": "HTMLModel",
          "model_module_version": "1.5.0",
          "state": {
            "_view_name": "HTMLView",
            "style": "IPY_MODEL_6690b660e62e42ee8990515baf86a4da",
            "_dom_classes": [],
            "description": "",
            "_model_name": "HTMLModel",
            "placeholder": "​",
            "_view_module": "@jupyter-widgets/controls",
            "_model_module_version": "1.5.0",
            "value": "100%",
            "_view_count": null,
            "_view_module_version": "1.5.0",
            "description_tooltip": null,
            "_model_module": "@jupyter-widgets/controls",
            "layout": "IPY_MODEL_34d8f48297bc49a4aba5a572a4795a0a"
          }
        },
        "771315c7ca8d4953b84ec1c7e31cd669": {
          "model_module": "@jupyter-widgets/controls",
          "model_name": "FloatProgressModel",
          "model_module_version": "1.5.0",
          "state": {
            "_view_name": "ProgressView",
            "style": "IPY_MODEL_2afdb2af2710426eb54c9b72a2dc59c4",
            "_dom_classes": [],
            "description": "",
            "_model_name": "FloatProgressModel",
            "bar_style": "success",
            "max": 61,
            "_view_module": "@jupyter-widgets/controls",
            "_model_module_version": "1.5.0",
            "value": 61,
            "_view_count": null,
            "_view_module_version": "1.5.0",
            "orientation": "horizontal",
            "min": 0,
            "description_tooltip": null,
            "_model_module": "@jupyter-widgets/controls",
            "layout": "IPY_MODEL_5781a4d6e681424aa99f564809887131"
          }
        },
        "f09dc77ff6b84740ab5cccc06ac7c53f": {
          "model_module": "@jupyter-widgets/controls",
          "model_name": "HTMLModel",
          "model_module_version": "1.5.0",
          "state": {
            "_view_name": "HTMLView",
            "style": "IPY_MODEL_2d187c1efbc8499cbcc7dfbd7fd3871a",
            "_dom_classes": [],
            "description": "",
            "_model_name": "HTMLModel",
            "placeholder": "​",
            "_view_module": "@jupyter-widgets/controls",
            "_model_module_version": "1.5.0",
            "value": " 61/61 [00:00&lt;00:00, 667.90it/s]",
            "_view_count": null,
            "_view_module_version": "1.5.0",
            "description_tooltip": null,
            "_model_module": "@jupyter-widgets/controls",
            "layout": "IPY_MODEL_a4985dd9ac5347b6819f6f131c97b051"
          }
        },
        "6690b660e62e42ee8990515baf86a4da": {
          "model_module": "@jupyter-widgets/controls",
          "model_name": "DescriptionStyleModel",
          "model_module_version": "1.5.0",
          "state": {
            "_view_name": "StyleView",
            "_model_name": "DescriptionStyleModel",
            "description_width": "",
            "_view_module": "@jupyter-widgets/base",
            "_model_module_version": "1.5.0",
            "_view_count": null,
            "_view_module_version": "1.2.0",
            "_model_module": "@jupyter-widgets/controls"
          }
        },
        "34d8f48297bc49a4aba5a572a4795a0a": {
          "model_module": "@jupyter-widgets/base",
          "model_name": "LayoutModel",
          "model_module_version": "1.2.0",
          "state": {
            "_view_name": "LayoutView",
            "grid_template_rows": null,
            "right": null,
            "justify_content": null,
            "_view_module": "@jupyter-widgets/base",
            "overflow": null,
            "_model_module_version": "1.2.0",
            "_view_count": null,
            "flex_flow": null,
            "width": null,
            "min_width": null,
            "border": null,
            "align_items": null,
            "bottom": null,
            "_model_module": "@jupyter-widgets/base",
            "top": null,
            "grid_column": null,
            "overflow_y": null,
            "overflow_x": null,
            "grid_auto_flow": null,
            "grid_area": null,
            "grid_template_columns": null,
            "flex": null,
            "_model_name": "LayoutModel",
            "justify_items": null,
            "grid_row": null,
            "max_height": null,
            "align_content": null,
            "visibility": null,
            "align_self": null,
            "height": null,
            "min_height": null,
            "padding": null,
            "grid_auto_rows": null,
            "grid_gap": null,
            "max_width": null,
            "order": null,
            "_view_module_version": "1.2.0",
            "grid_template_areas": null,
            "object_position": null,
            "object_fit": null,
            "grid_auto_columns": null,
            "margin": null,
            "display": null,
            "left": null
          }
        },
        "2afdb2af2710426eb54c9b72a2dc59c4": {
          "model_module": "@jupyter-widgets/controls",
          "model_name": "ProgressStyleModel",
          "model_module_version": "1.5.0",
          "state": {
            "_view_name": "StyleView",
            "_model_name": "ProgressStyleModel",
            "description_width": "",
            "_view_module": "@jupyter-widgets/base",
            "_model_module_version": "1.5.0",
            "_view_count": null,
            "_view_module_version": "1.2.0",
            "bar_color": null,
            "_model_module": "@jupyter-widgets/controls"
          }
        },
        "5781a4d6e681424aa99f564809887131": {
          "model_module": "@jupyter-widgets/base",
          "model_name": "LayoutModel",
          "model_module_version": "1.2.0",
          "state": {
            "_view_name": "LayoutView",
            "grid_template_rows": null,
            "right": null,
            "justify_content": null,
            "_view_module": "@jupyter-widgets/base",
            "overflow": null,
            "_model_module_version": "1.2.0",
            "_view_count": null,
            "flex_flow": null,
            "width": null,
            "min_width": null,
            "border": null,
            "align_items": null,
            "bottom": null,
            "_model_module": "@jupyter-widgets/base",
            "top": null,
            "grid_column": null,
            "overflow_y": null,
            "overflow_x": null,
            "grid_auto_flow": null,
            "grid_area": null,
            "grid_template_columns": null,
            "flex": null,
            "_model_name": "LayoutModel",
            "justify_items": null,
            "grid_row": null,
            "max_height": null,
            "align_content": null,
            "visibility": null,
            "align_self": null,
            "height": null,
            "min_height": null,
            "padding": null,
            "grid_auto_rows": null,
            "grid_gap": null,
            "max_width": null,
            "order": null,
            "_view_module_version": "1.2.0",
            "grid_template_areas": null,
            "object_position": null,
            "object_fit": null,
            "grid_auto_columns": null,
            "margin": null,
            "display": null,
            "left": null
          }
        },
        "2d187c1efbc8499cbcc7dfbd7fd3871a": {
          "model_module": "@jupyter-widgets/controls",
          "model_name": "DescriptionStyleModel",
          "model_module_version": "1.5.0",
          "state": {
            "_view_name": "StyleView",
            "_model_name": "DescriptionStyleModel",
            "description_width": "",
            "_view_module": "@jupyter-widgets/base",
            "_model_module_version": "1.5.0",
            "_view_count": null,
            "_view_module_version": "1.2.0",
            "_model_module": "@jupyter-widgets/controls"
          }
        },
        "a4985dd9ac5347b6819f6f131c97b051": {
          "model_module": "@jupyter-widgets/base",
          "model_name": "LayoutModel",
          "model_module_version": "1.2.0",
          "state": {
            "_view_name": "LayoutView",
            "grid_template_rows": null,
            "right": null,
            "justify_content": null,
            "_view_module": "@jupyter-widgets/base",
            "overflow": null,
            "_model_module_version": "1.2.0",
            "_view_count": null,
            "flex_flow": null,
            "width": null,
            "min_width": null,
            "border": null,
            "align_items": null,
            "bottom": null,
            "_model_module": "@jupyter-widgets/base",
            "top": null,
            "grid_column": null,
            "overflow_y": null,
            "overflow_x": null,
            "grid_auto_flow": null,
            "grid_area": null,
            "grid_template_columns": null,
            "flex": null,
            "_model_name": "LayoutModel",
            "justify_items": null,
            "grid_row": null,
            "max_height": null,
            "align_content": null,
            "visibility": null,
            "align_self": null,
            "height": null,
            "min_height": null,
            "padding": null,
            "grid_auto_rows": null,
            "grid_gap": null,
            "max_width": null,
            "order": null,
            "_view_module_version": "1.2.0",
            "grid_template_areas": null,
            "object_position": null,
            "object_fit": null,
            "grid_auto_columns": null,
            "margin": null,
            "display": null,
            "left": null
          }
        },
        "814c4496b37e4bf7893acce2f1e87710": {
          "model_module": "@jupyter-widgets/controls",
          "model_name": "HBoxModel",
          "model_module_version": "1.5.0",
          "state": {
            "_view_name": "HBoxView",
            "_dom_classes": [],
            "_model_name": "HBoxModel",
            "_view_module": "@jupyter-widgets/controls",
            "_model_module_version": "1.5.0",
            "_view_count": null,
            "_view_module_version": "1.5.0",
            "box_style": "",
            "layout": "IPY_MODEL_5cd048f7302c4e819929c816e02ef1ec",
            "_model_module": "@jupyter-widgets/controls",
            "children": [
              "IPY_MODEL_8b5c9bf60e094120916360b2b975fdbc",
              "IPY_MODEL_2e852731be6946909e77b253866c875c",
              "IPY_MODEL_fa3bf1abab8b4fbdaef8e01635d5acc6"
            ]
          }
        },
        "5cd048f7302c4e819929c816e02ef1ec": {
          "model_module": "@jupyter-widgets/base",
          "model_name": "LayoutModel",
          "model_module_version": "1.2.0",
          "state": {
            "_view_name": "LayoutView",
            "grid_template_rows": null,
            "right": null,
            "justify_content": null,
            "_view_module": "@jupyter-widgets/base",
            "overflow": null,
            "_model_module_version": "1.2.0",
            "_view_count": null,
            "flex_flow": null,
            "width": null,
            "min_width": null,
            "border": null,
            "align_items": null,
            "bottom": null,
            "_model_module": "@jupyter-widgets/base",
            "top": null,
            "grid_column": null,
            "overflow_y": null,
            "overflow_x": null,
            "grid_auto_flow": null,
            "grid_area": null,
            "grid_template_columns": null,
            "flex": null,
            "_model_name": "LayoutModel",
            "justify_items": null,
            "grid_row": null,
            "max_height": null,
            "align_content": null,
            "visibility": null,
            "align_self": null,
            "height": null,
            "min_height": null,
            "padding": null,
            "grid_auto_rows": null,
            "grid_gap": null,
            "max_width": null,
            "order": null,
            "_view_module_version": "1.2.0",
            "grid_template_areas": null,
            "object_position": null,
            "object_fit": null,
            "grid_auto_columns": null,
            "margin": null,
            "display": null,
            "left": null
          }
        },
        "8b5c9bf60e094120916360b2b975fdbc": {
          "model_module": "@jupyter-widgets/controls",
          "model_name": "HTMLModel",
          "model_module_version": "1.5.0",
          "state": {
            "_view_name": "HTMLView",
            "style": "IPY_MODEL_92a31236f20243bba54db7e36ead584e",
            "_dom_classes": [],
            "description": "",
            "_model_name": "HTMLModel",
            "placeholder": "​",
            "_view_module": "@jupyter-widgets/controls",
            "_model_module_version": "1.5.0",
            "value": "100%",
            "_view_count": null,
            "_view_module_version": "1.5.0",
            "description_tooltip": null,
            "_model_module": "@jupyter-widgets/controls",
            "layout": "IPY_MODEL_aa295ed7f8494ae787c1f8484877cc7e"
          }
        },
        "2e852731be6946909e77b253866c875c": {
          "model_module": "@jupyter-widgets/controls",
          "model_name": "FloatProgressModel",
          "model_module_version": "1.5.0",
          "state": {
            "_view_name": "ProgressView",
            "style": "IPY_MODEL_22a274b482e842659f3821bd58cfccfe",
            "_dom_classes": [],
            "description": "",
            "_model_name": "FloatProgressModel",
            "bar_style": "success",
            "max": 61,
            "_view_module": "@jupyter-widgets/controls",
            "_model_module_version": "1.5.0",
            "value": 61,
            "_view_count": null,
            "_view_module_version": "1.5.0",
            "orientation": "horizontal",
            "min": 0,
            "description_tooltip": null,
            "_model_module": "@jupyter-widgets/controls",
            "layout": "IPY_MODEL_39aaf3bcc7ea4a3ba501032d51b6618f"
          }
        },
        "fa3bf1abab8b4fbdaef8e01635d5acc6": {
          "model_module": "@jupyter-widgets/controls",
          "model_name": "HTMLModel",
          "model_module_version": "1.5.0",
          "state": {
            "_view_name": "HTMLView",
            "style": "IPY_MODEL_3a04051cddf242de86a28711f599a966",
            "_dom_classes": [],
            "description": "",
            "_model_name": "HTMLModel",
            "placeholder": "​",
            "_view_module": "@jupyter-widgets/controls",
            "_model_module_version": "1.5.0",
            "value": " 61/61 [00:00&lt;00:00, 825.52it/s]",
            "_view_count": null,
            "_view_module_version": "1.5.0",
            "description_tooltip": null,
            "_model_module": "@jupyter-widgets/controls",
            "layout": "IPY_MODEL_5bb37c73524b4ed89a41c2b3f9c5eb00"
          }
        },
        "92a31236f20243bba54db7e36ead584e": {
          "model_module": "@jupyter-widgets/controls",
          "model_name": "DescriptionStyleModel",
          "model_module_version": "1.5.0",
          "state": {
            "_view_name": "StyleView",
            "_model_name": "DescriptionStyleModel",
            "description_width": "",
            "_view_module": "@jupyter-widgets/base",
            "_model_module_version": "1.5.0",
            "_view_count": null,
            "_view_module_version": "1.2.0",
            "_model_module": "@jupyter-widgets/controls"
          }
        },
        "aa295ed7f8494ae787c1f8484877cc7e": {
          "model_module": "@jupyter-widgets/base",
          "model_name": "LayoutModel",
          "model_module_version": "1.2.0",
          "state": {
            "_view_name": "LayoutView",
            "grid_template_rows": null,
            "right": null,
            "justify_content": null,
            "_view_module": "@jupyter-widgets/base",
            "overflow": null,
            "_model_module_version": "1.2.0",
            "_view_count": null,
            "flex_flow": null,
            "width": null,
            "min_width": null,
            "border": null,
            "align_items": null,
            "bottom": null,
            "_model_module": "@jupyter-widgets/base",
            "top": null,
            "grid_column": null,
            "overflow_y": null,
            "overflow_x": null,
            "grid_auto_flow": null,
            "grid_area": null,
            "grid_template_columns": null,
            "flex": null,
            "_model_name": "LayoutModel",
            "justify_items": null,
            "grid_row": null,
            "max_height": null,
            "align_content": null,
            "visibility": null,
            "align_self": null,
            "height": null,
            "min_height": null,
            "padding": null,
            "grid_auto_rows": null,
            "grid_gap": null,
            "max_width": null,
            "order": null,
            "_view_module_version": "1.2.0",
            "grid_template_areas": null,
            "object_position": null,
            "object_fit": null,
            "grid_auto_columns": null,
            "margin": null,
            "display": null,
            "left": null
          }
        },
        "22a274b482e842659f3821bd58cfccfe": {
          "model_module": "@jupyter-widgets/controls",
          "model_name": "ProgressStyleModel",
          "model_module_version": "1.5.0",
          "state": {
            "_view_name": "StyleView",
            "_model_name": "ProgressStyleModel",
            "description_width": "",
            "_view_module": "@jupyter-widgets/base",
            "_model_module_version": "1.5.0",
            "_view_count": null,
            "_view_module_version": "1.2.0",
            "bar_color": null,
            "_model_module": "@jupyter-widgets/controls"
          }
        },
        "39aaf3bcc7ea4a3ba501032d51b6618f": {
          "model_module": "@jupyter-widgets/base",
          "model_name": "LayoutModel",
          "model_module_version": "1.2.0",
          "state": {
            "_view_name": "LayoutView",
            "grid_template_rows": null,
            "right": null,
            "justify_content": null,
            "_view_module": "@jupyter-widgets/base",
            "overflow": null,
            "_model_module_version": "1.2.0",
            "_view_count": null,
            "flex_flow": null,
            "width": null,
            "min_width": null,
            "border": null,
            "align_items": null,
            "bottom": null,
            "_model_module": "@jupyter-widgets/base",
            "top": null,
            "grid_column": null,
            "overflow_y": null,
            "overflow_x": null,
            "grid_auto_flow": null,
            "grid_area": null,
            "grid_template_columns": null,
            "flex": null,
            "_model_name": "LayoutModel",
            "justify_items": null,
            "grid_row": null,
            "max_height": null,
            "align_content": null,
            "visibility": null,
            "align_self": null,
            "height": null,
            "min_height": null,
            "padding": null,
            "grid_auto_rows": null,
            "grid_gap": null,
            "max_width": null,
            "order": null,
            "_view_module_version": "1.2.0",
            "grid_template_areas": null,
            "object_position": null,
            "object_fit": null,
            "grid_auto_columns": null,
            "margin": null,
            "display": null,
            "left": null
          }
        },
        "3a04051cddf242de86a28711f599a966": {
          "model_module": "@jupyter-widgets/controls",
          "model_name": "DescriptionStyleModel",
          "model_module_version": "1.5.0",
          "state": {
            "_view_name": "StyleView",
            "_model_name": "DescriptionStyleModel",
            "description_width": "",
            "_view_module": "@jupyter-widgets/base",
            "_model_module_version": "1.5.0",
            "_view_count": null,
            "_view_module_version": "1.2.0",
            "_model_module": "@jupyter-widgets/controls"
          }
        },
        "5bb37c73524b4ed89a41c2b3f9c5eb00": {
          "model_module": "@jupyter-widgets/base",
          "model_name": "LayoutModel",
          "model_module_version": "1.2.0",
          "state": {
            "_view_name": "LayoutView",
            "grid_template_rows": null,
            "right": null,
            "justify_content": null,
            "_view_module": "@jupyter-widgets/base",
            "overflow": null,
            "_model_module_version": "1.2.0",
            "_view_count": null,
            "flex_flow": null,
            "width": null,
            "min_width": null,
            "border": null,
            "align_items": null,
            "bottom": null,
            "_model_module": "@jupyter-widgets/base",
            "top": null,
            "grid_column": null,
            "overflow_y": null,
            "overflow_x": null,
            "grid_auto_flow": null,
            "grid_area": null,
            "grid_template_columns": null,
            "flex": null,
            "_model_name": "LayoutModel",
            "justify_items": null,
            "grid_row": null,
            "max_height": null,
            "align_content": null,
            "visibility": null,
            "align_self": null,
            "height": null,
            "min_height": null,
            "padding": null,
            "grid_auto_rows": null,
            "grid_gap": null,
            "max_width": null,
            "order": null,
            "_view_module_version": "1.2.0",
            "grid_template_areas": null,
            "object_position": null,
            "object_fit": null,
            "grid_auto_columns": null,
            "margin": null,
            "display": null,
            "left": null
          }
        }
      }
    }
  },
  "nbformat": 4,
  "nbformat_minor": 5
}