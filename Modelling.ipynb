{
  "cells": [
    {
      "cell_type": "markdown",
      "metadata": {
        "id": "view-in-github",
        "colab_type": "text"
      },
      "source": [
        "<a href=\"https://colab.research.google.com/github/Abimbola-ai/Blood-Spectorscopy/blob/main/Modelling.ipynb\" target=\"_parent\"><img src=\"https://colab.research.google.com/assets/colab-badge.svg\" alt=\"Open In Colab\"/></a>"
      ]
    },
    {
      "cell_type": "code",
      "execution_count": 1,
      "id": "4f273843",
      "metadata": {
        "id": "4f273843",
        "colab": {
          "base_uri": "https://localhost:8080/"
        },
        "outputId": "03a21666-9d91-406f-d65d-1e09c63f97e0"
      },
      "outputs": [
        {
          "output_type": "stream",
          "name": "stderr",
          "text": [
            "/usr/local/lib/python3.7/dist-packages/ipykernel_launcher.py:4: FutureWarning: pandas.util.testing is deprecated. Use the functions in the public API at pandas.testing instead.\n",
            "  after removing the cwd from sys.path.\n"
          ]
        }
      ],
      "source": [
        "import matplotlib.pyplot as plt\n",
        "import numpy as np\n",
        "import pandas as pd\n",
        "import pandas.util.testing as tm\n",
        "import seaborn as sns\n",
        "from sklearn.preprocessing import MinMaxScaler\n",
        "from sklearn.linear_model import LogisticRegression\n",
        "from sklearn.model_selection import GridSearchCV, RepeatedStratifiedKFold, cross_val_score\n",
        "from sklearn.ensemble import RandomForestClassifier\n",
        "from sklearn.svm import SVC\n",
        "from prettytable import PrettyTable\n",
        "from tqdm import tqdm\n",
        "tqdm.pandas()\n",
        "import tqdm\n",
        "import warnings\n",
        "\n",
        "%matplotlib inline\n",
        "warnings.filterwarnings('ignore')\n",
        "seed = 42"
      ]
    },
    {
      "cell_type": "code",
      "execution_count": 2,
      "id": "280df801",
      "metadata": {
        "id": "280df801"
      },
      "outputs": [],
      "source": [
        "# train = pd.read_csv(\"Data/clean_train.csv\",index_col=[0])\n",
        "# test = pd.read_csv(\"Data/clean_test.csv\",index_col=[0])\n",
        "train = pd.read_csv(\"clean_train.csv\",index_col=[0])\n",
        "test = pd.read_csv(\"clean_test.csv\",index_col=[0])"
      ]
    },
    {
      "cell_type": "code",
      "execution_count": 3,
      "id": "ee3cb742",
      "metadata": {
        "id": "ee3cb742"
      },
      "outputs": [],
      "source": [
        "scaled_features_train = train.copy()\n",
        "scaled_features_test = test.copy()\n",
        "\n",
        "def scale_data(df):\n",
        "    col_names = ['absorbance0', 'absorbance1', 'absorbance2',\n",
        "       'absorbance3', 'absorbance4', 'absorbance5', 'absorbance6',\n",
        "       'absorbance7', 'absorbance8', 'absorbance9', 'absorbance10',\n",
        "       'absorbance11', 'absorbance12', 'absorbance13', 'absorbance14',\n",
        "       'absorbance15', 'absorbance16', 'absorbance17', 'absorbance18',\n",
        "       'absorbance19', 'absorbance20', 'absorbance21', 'absorbance22',\n",
        "       'absorbance23', 'absorbance24', 'absorbance25', 'absorbance26',\n",
        "       'absorbance27', 'absorbance28', 'absorbance29', 'absorbance30',\n",
        "       'absorbance31', 'absorbance32', 'absorbance33', 'absorbance34',\n",
        "       'absorbance35', 'absorbance36', 'absorbance37', 'absorbance38',\n",
        "       'absorbance39', 'absorbance40', 'absorbance41', 'absorbance42',\n",
        "       'absorbance43', 'absorbance44', 'absorbance45', 'absorbance46',\n",
        "       'absorbance47', 'absorbance48',\n",
        "       'absorbance49', 'absorbance50', 'absorbance51', 'absorbance52',\n",
        "       'absorbance53', 'absorbance54', 'absorbance55', 'absorbance56',\n",
        "       'absorbance57', 'absorbance58', 'absorbance59', 'absorbance60',\n",
        "       'absorbance61', 'absorbance62', 'absorbance63', 'absorbance64',\n",
        "       'absorbance65', 'absorbance66', 'absorbance67', 'absorbance68',\n",
        "       'absorbance69', 'absorbance70', 'absorbance71', 'absorbance72',\n",
        "       'absorbance73', 'absorbance74', 'absorbance75', 'absorbance76',\n",
        "       'absorbance77', 'absorbance78', 'absorbance79', 'absorbance80',\n",
        "       'absorbance81', 'absorbance82', 'absorbance83', 'absorbance84',\n",
        "       'absorbance85', 'absorbance86', 'absorbance87', 'absorbance88',\n",
        "       'absorbance89', 'absorbance90', 'absorbance91', 'absorbance92',\n",
        "       'absorbance93', 'absorbance94', 'absorbance95', 'absorbance96',\n",
        "       'absorbance97', 'absorbance98',\n",
        "       'absorbance99', 'absorbance100', 'absorbance101', 'absorbance102',\n",
        "       'absorbance103', 'absorbance104', 'absorbance105', 'absorbance106',\n",
        "       'absorbance107', 'absorbance108', 'absorbance109', 'absorbance110',\n",
        "       'absorbance111', 'absorbance112', 'absorbance113', 'absorbance114',\n",
        "       'absorbance115', 'absorbance116', 'absorbance117', 'absorbance118',\n",
        "       'absorbance119', 'absorbance120', 'absorbance121', 'absorbance122',\n",
        "       'absorbance123', 'absorbance124', 'absorbance125', 'absorbance126',\n",
        "       'absorbance127', 'absorbance128', 'absorbance129', 'absorbance130',\n",
        "       'absorbance131', 'absorbance132', 'absorbance133', 'absorbance134',\n",
        "       'absorbance135', 'absorbance136', 'absorbance137', 'absorbance138',\n",
        "       'absorbance139', 'absorbance140', 'absorbance141', 'absorbance142',\n",
        "       'absorbance143', 'absorbance144', 'absorbance145', 'absorbance146',\n",
        "       'absorbance147', 'absorbance148', 'absorbance149', 'absorbance150',\n",
        "       'absorbance151', 'absorbance152', 'absorbance153', 'absorbance154',\n",
        "       'absorbance155', 'absorbance156', 'absorbance157', 'absorbance158',\n",
        "       'absorbance159', 'absorbance160', 'absorbance161', 'absorbance162',\n",
        "       'absorbance163', 'absorbance164', 'absorbance165', 'absorbance166',\n",
        "       'absorbance167', 'absorbance168', 'absorbance169', 'temperature',\n",
        "       'humidity','std', 'low_abs', 'high_abs', 'med_abs',\n",
        "       'mean_abs', 'std_abs', 'sum_abs']\n",
        "    features = df[col_names]\n",
        "    scaler = MinMaxScaler().fit(features.values)\n",
        "    features = scaler.transform(features.values)\n",
        "    df[col_names] = features\n",
        "    return df"
      ]
    },
    {
      "cell_type": "code",
      "execution_count": 4,
      "id": "a5c58a6b",
      "metadata": {
        "id": "a5c58a6b"
      },
      "outputs": [],
      "source": [
        "train_scaled = scale_data(scaled_features_train)\n",
        "test_scaled = scale_data(scaled_features_test)"
      ]
    },
    {
      "cell_type": "code",
      "execution_count": 5,
      "id": "0f46bff5",
      "metadata": {
        "id": "0f46bff5",
        "colab": {
          "base_uri": "https://localhost:8080/",
          "height": 300
        },
        "outputId": "f42a7cf3-2b67-41ab-834a-e3dff23edbdd"
      },
      "outputs": [
        {
          "output_type": "execute_result",
          "data": {
            "text/html": [
              "\n",
              "  <div id=\"df-8c5b5813-7cf5-4339-83ae-25d1fa8151a1\">\n",
              "    <div class=\"colab-df-container\">\n",
              "      <div>\n",
              "<style scoped>\n",
              "    .dataframe tbody tr th:only-of-type {\n",
              "        vertical-align: middle;\n",
              "    }\n",
              "\n",
              "    .dataframe tbody tr th {\n",
              "        vertical-align: top;\n",
              "    }\n",
              "\n",
              "    .dataframe thead th {\n",
              "        text-align: right;\n",
              "    }\n",
              "</style>\n",
              "<table border=\"1\" class=\"dataframe\">\n",
              "  <thead>\n",
              "    <tr style=\"text-align: right;\">\n",
              "      <th></th>\n",
              "      <th>donation_id</th>\n",
              "      <th>absorbance0</th>\n",
              "      <th>absorbance1</th>\n",
              "      <th>absorbance2</th>\n",
              "      <th>absorbance3</th>\n",
              "      <th>absorbance4</th>\n",
              "      <th>absorbance5</th>\n",
              "      <th>absorbance6</th>\n",
              "      <th>absorbance7</th>\n",
              "      <th>absorbance8</th>\n",
              "      <th>...</th>\n",
              "      <th>hdl_cholesterol_human</th>\n",
              "      <th>hemoglobin(hgb)_human</th>\n",
              "      <th>cholesterol_ldl_human</th>\n",
              "      <th>std</th>\n",
              "      <th>low_abs</th>\n",
              "      <th>high_abs</th>\n",
              "      <th>med_abs</th>\n",
              "      <th>mean_abs</th>\n",
              "      <th>std_abs</th>\n",
              "      <th>sum_abs</th>\n",
              "    </tr>\n",
              "  </thead>\n",
              "  <tbody>\n",
              "    <tr>\n",
              "      <th>0</th>\n",
              "      <td>1975</td>\n",
              "      <td>0.652042</td>\n",
              "      <td>0.642710</td>\n",
              "      <td>0.633364</td>\n",
              "      <td>0.623264</td>\n",
              "      <td>0.622399</td>\n",
              "      <td>0.609421</td>\n",
              "      <td>0.592866</td>\n",
              "      <td>0.584126</td>\n",
              "      <td>0.577179</td>\n",
              "      <td>...</td>\n",
              "      <td>0</td>\n",
              "      <td>1</td>\n",
              "      <td>1</td>\n",
              "      <td>0.790323</td>\n",
              "      <td>0.654070</td>\n",
              "      <td>0.817091</td>\n",
              "      <td>0.633388</td>\n",
              "      <td>0.781237</td>\n",
              "      <td>0.805277</td>\n",
              "      <td>0.781237</td>\n",
              "    </tr>\n",
              "    <tr>\n",
              "      <th>1</th>\n",
              "      <td>1982</td>\n",
              "      <td>0.698607</td>\n",
              "      <td>0.687373</td>\n",
              "      <td>0.673512</td>\n",
              "      <td>0.669837</td>\n",
              "      <td>0.664034</td>\n",
              "      <td>0.648212</td>\n",
              "      <td>0.627822</td>\n",
              "      <td>0.618668</td>\n",
              "      <td>0.610307</td>\n",
              "      <td>...</td>\n",
              "      <td>0</td>\n",
              "      <td>1</td>\n",
              "      <td>2</td>\n",
              "      <td>0.306452</td>\n",
              "      <td>0.700665</td>\n",
              "      <td>0.516564</td>\n",
              "      <td>0.479843</td>\n",
              "      <td>0.519043</td>\n",
              "      <td>0.472824</td>\n",
              "      <td>0.519043</td>\n",
              "    </tr>\n",
              "    <tr>\n",
              "      <th>2</th>\n",
              "      <td>1989</td>\n",
              "      <td>0.680759</td>\n",
              "      <td>0.676126</td>\n",
              "      <td>0.666238</td>\n",
              "      <td>0.668406</td>\n",
              "      <td>0.669962</td>\n",
              "      <td>0.662563</td>\n",
              "      <td>0.643781</td>\n",
              "      <td>0.629202</td>\n",
              "      <td>0.610788</td>\n",
              "      <td>...</td>\n",
              "      <td>0</td>\n",
              "      <td>1</td>\n",
              "      <td>2</td>\n",
              "      <td>0.354839</td>\n",
              "      <td>0.682876</td>\n",
              "      <td>0.750031</td>\n",
              "      <td>0.512484</td>\n",
              "      <td>0.612633</td>\n",
              "      <td>0.653710</td>\n",
              "      <td>0.612633</td>\n",
              "    </tr>\n",
              "    <tr>\n",
              "      <th>3</th>\n",
              "      <td>2018</td>\n",
              "      <td>0.674998</td>\n",
              "      <td>0.668067</td>\n",
              "      <td>0.660314</td>\n",
              "      <td>0.658546</td>\n",
              "      <td>0.652947</td>\n",
              "      <td>0.650522</td>\n",
              "      <td>0.640554</td>\n",
              "      <td>0.632638</td>\n",
              "      <td>0.623293</td>\n",
              "      <td>...</td>\n",
              "      <td>2</td>\n",
              "      <td>1</td>\n",
              "      <td>1</td>\n",
              "      <td>0.935484</td>\n",
              "      <td>0.677097</td>\n",
              "      <td>0.724927</td>\n",
              "      <td>0.572940</td>\n",
              "      <td>0.705100</td>\n",
              "      <td>0.685085</td>\n",
              "      <td>0.705100</td>\n",
              "    </tr>\n",
              "    <tr>\n",
              "      <th>4</th>\n",
              "      <td>2045</td>\n",
              "      <td>0.568017</td>\n",
              "      <td>0.557618</td>\n",
              "      <td>0.541519</td>\n",
              "      <td>0.530828</td>\n",
              "      <td>0.526682</td>\n",
              "      <td>0.510204</td>\n",
              "      <td>0.493224</td>\n",
              "      <td>0.482760</td>\n",
              "      <td>0.467903</td>\n",
              "      <td>...</td>\n",
              "      <td>1</td>\n",
              "      <td>1</td>\n",
              "      <td>1</td>\n",
              "      <td>0.435484</td>\n",
              "      <td>0.569784</td>\n",
              "      <td>0.800377</td>\n",
              "      <td>0.341514</td>\n",
              "      <td>0.570974</td>\n",
              "      <td>0.789363</td>\n",
              "      <td>0.570974</td>\n",
              "    </tr>\n",
              "  </tbody>\n",
              "</table>\n",
              "<p>5 rows × 183 columns</p>\n",
              "</div>\n",
              "      <button class=\"colab-df-convert\" onclick=\"convertToInteractive('df-8c5b5813-7cf5-4339-83ae-25d1fa8151a1')\"\n",
              "              title=\"Convert this dataframe to an interactive table.\"\n",
              "              style=\"display:none;\">\n",
              "        \n",
              "  <svg xmlns=\"http://www.w3.org/2000/svg\" height=\"24px\"viewBox=\"0 0 24 24\"\n",
              "       width=\"24px\">\n",
              "    <path d=\"M0 0h24v24H0V0z\" fill=\"none\"/>\n",
              "    <path d=\"M18.56 5.44l.94 2.06.94-2.06 2.06-.94-2.06-.94-.94-2.06-.94 2.06-2.06.94zm-11 1L8.5 8.5l.94-2.06 2.06-.94-2.06-.94L8.5 2.5l-.94 2.06-2.06.94zm10 10l.94 2.06.94-2.06 2.06-.94-2.06-.94-.94-2.06-.94 2.06-2.06.94z\"/><path d=\"M17.41 7.96l-1.37-1.37c-.4-.4-.92-.59-1.43-.59-.52 0-1.04.2-1.43.59L10.3 9.45l-7.72 7.72c-.78.78-.78 2.05 0 2.83L4 21.41c.39.39.9.59 1.41.59.51 0 1.02-.2 1.41-.59l7.78-7.78 2.81-2.81c.8-.78.8-2.07 0-2.86zM5.41 20L4 18.59l7.72-7.72 1.47 1.35L5.41 20z\"/>\n",
              "  </svg>\n",
              "      </button>\n",
              "      \n",
              "  <style>\n",
              "    .colab-df-container {\n",
              "      display:flex;\n",
              "      flex-wrap:wrap;\n",
              "      gap: 12px;\n",
              "    }\n",
              "\n",
              "    .colab-df-convert {\n",
              "      background-color: #E8F0FE;\n",
              "      border: none;\n",
              "      border-radius: 50%;\n",
              "      cursor: pointer;\n",
              "      display: none;\n",
              "      fill: #1967D2;\n",
              "      height: 32px;\n",
              "      padding: 0 0 0 0;\n",
              "      width: 32px;\n",
              "    }\n",
              "\n",
              "    .colab-df-convert:hover {\n",
              "      background-color: #E2EBFA;\n",
              "      box-shadow: 0px 1px 2px rgba(60, 64, 67, 0.3), 0px 1px 3px 1px rgba(60, 64, 67, 0.15);\n",
              "      fill: #174EA6;\n",
              "    }\n",
              "\n",
              "    [theme=dark] .colab-df-convert {\n",
              "      background-color: #3B4455;\n",
              "      fill: #D2E3FC;\n",
              "    }\n",
              "\n",
              "    [theme=dark] .colab-df-convert:hover {\n",
              "      background-color: #434B5C;\n",
              "      box-shadow: 0px 1px 3px 1px rgba(0, 0, 0, 0.15);\n",
              "      filter: drop-shadow(0px 1px 2px rgba(0, 0, 0, 0.3));\n",
              "      fill: #FFFFFF;\n",
              "    }\n",
              "  </style>\n",
              "\n",
              "      <script>\n",
              "        const buttonEl =\n",
              "          document.querySelector('#df-8c5b5813-7cf5-4339-83ae-25d1fa8151a1 button.colab-df-convert');\n",
              "        buttonEl.style.display =\n",
              "          google.colab.kernel.accessAllowed ? 'block' : 'none';\n",
              "\n",
              "        async function convertToInteractive(key) {\n",
              "          const element = document.querySelector('#df-8c5b5813-7cf5-4339-83ae-25d1fa8151a1');\n",
              "          const dataTable =\n",
              "            await google.colab.kernel.invokeFunction('convertToInteractive',\n",
              "                                                     [key], {});\n",
              "          if (!dataTable) return;\n",
              "\n",
              "          const docLinkHtml = 'Like what you see? Visit the ' +\n",
              "            '<a target=\"_blank\" href=https://colab.research.google.com/notebooks/data_table.ipynb>data table notebook</a>'\n",
              "            + ' to learn more about interactive tables.';\n",
              "          element.innerHTML = '';\n",
              "          dataTable['output_type'] = 'display_data';\n",
              "          await google.colab.output.renderOutput(dataTable, element);\n",
              "          const docLink = document.createElement('div');\n",
              "          docLink.innerHTML = docLinkHtml;\n",
              "          element.appendChild(docLink);\n",
              "        }\n",
              "      </script>\n",
              "    </div>\n",
              "  </div>\n",
              "  "
            ],
            "text/plain": [
              "   donation_id  absorbance0  absorbance1  absorbance2  absorbance3  \\\n",
              "0         1975     0.652042     0.642710     0.633364     0.623264   \n",
              "1         1982     0.698607     0.687373     0.673512     0.669837   \n",
              "2         1989     0.680759     0.676126     0.666238     0.668406   \n",
              "3         2018     0.674998     0.668067     0.660314     0.658546   \n",
              "4         2045     0.568017     0.557618     0.541519     0.530828   \n",
              "\n",
              "   absorbance4  absorbance5  absorbance6  absorbance7  absorbance8  ...  \\\n",
              "0     0.622399     0.609421     0.592866     0.584126     0.577179  ...   \n",
              "1     0.664034     0.648212     0.627822     0.618668     0.610307  ...   \n",
              "2     0.669962     0.662563     0.643781     0.629202     0.610788  ...   \n",
              "3     0.652947     0.650522     0.640554     0.632638     0.623293  ...   \n",
              "4     0.526682     0.510204     0.493224     0.482760     0.467903  ...   \n",
              "\n",
              "   hdl_cholesterol_human  hemoglobin(hgb)_human  cholesterol_ldl_human  \\\n",
              "0                      0                      1                      1   \n",
              "1                      0                      1                      2   \n",
              "2                      0                      1                      2   \n",
              "3                      2                      1                      1   \n",
              "4                      1                      1                      1   \n",
              "\n",
              "        std   low_abs  high_abs   med_abs  mean_abs   std_abs   sum_abs  \n",
              "0  0.790323  0.654070  0.817091  0.633388  0.781237  0.805277  0.781237  \n",
              "1  0.306452  0.700665  0.516564  0.479843  0.519043  0.472824  0.519043  \n",
              "2  0.354839  0.682876  0.750031  0.512484  0.612633  0.653710  0.612633  \n",
              "3  0.935484  0.677097  0.724927  0.572940  0.705100  0.685085  0.705100  \n",
              "4  0.435484  0.569784  0.800377  0.341514  0.570974  0.789363  0.570974  \n",
              "\n",
              "[5 rows x 183 columns]"
            ]
          },
          "metadata": {},
          "execution_count": 5
        }
      ],
      "source": [
        "train_scaled.head()"
      ]
    },
    {
      "cell_type": "code",
      "execution_count": 6,
      "id": "bb47a52b",
      "metadata": {
        "id": "bb47a52b",
        "colab": {
          "base_uri": "https://localhost:8080/",
          "height": 300
        },
        "outputId": "80aadde3-d1cc-44ac-f3f0-7ace8eec536c"
      },
      "outputs": [
        {
          "output_type": "execute_result",
          "data": {
            "text/html": [
              "\n",
              "  <div id=\"df-c9641a01-1be0-4243-8782-752525c605fa\">\n",
              "    <div class=\"colab-df-container\">\n",
              "      <div>\n",
              "<style scoped>\n",
              "    .dataframe tbody tr th:only-of-type {\n",
              "        vertical-align: middle;\n",
              "    }\n",
              "\n",
              "    .dataframe tbody tr th {\n",
              "        vertical-align: top;\n",
              "    }\n",
              "\n",
              "    .dataframe thead th {\n",
              "        text-align: right;\n",
              "    }\n",
              "</style>\n",
              "<table border=\"1\" class=\"dataframe\">\n",
              "  <thead>\n",
              "    <tr style=\"text-align: right;\">\n",
              "      <th></th>\n",
              "      <th>donation_id</th>\n",
              "      <th>absorbance0</th>\n",
              "      <th>absorbance1</th>\n",
              "      <th>absorbance2</th>\n",
              "      <th>absorbance3</th>\n",
              "      <th>absorbance4</th>\n",
              "      <th>absorbance5</th>\n",
              "      <th>absorbance6</th>\n",
              "      <th>absorbance7</th>\n",
              "      <th>absorbance8</th>\n",
              "      <th>...</th>\n",
              "      <th>hdl_cholesterol_human</th>\n",
              "      <th>hemoglobin(hgb)_human</th>\n",
              "      <th>cholesterol_ldl_human</th>\n",
              "      <th>std</th>\n",
              "      <th>low_abs</th>\n",
              "      <th>high_abs</th>\n",
              "      <th>med_abs</th>\n",
              "      <th>mean_abs</th>\n",
              "      <th>std_abs</th>\n",
              "      <th>sum_abs</th>\n",
              "    </tr>\n",
              "  </thead>\n",
              "  <tbody>\n",
              "    <tr>\n",
              "      <th>0</th>\n",
              "      <td>1975</td>\n",
              "      <td>0.505055</td>\n",
              "      <td>0.506570</td>\n",
              "      <td>0.511544</td>\n",
              "      <td>0.516300</td>\n",
              "      <td>0.524067</td>\n",
              "      <td>0.530191</td>\n",
              "      <td>0.536138</td>\n",
              "      <td>0.542317</td>\n",
              "      <td>0.551118</td>\n",
              "      <td>...</td>\n",
              "      <td>0</td>\n",
              "      <td>1</td>\n",
              "      <td>1</td>\n",
              "      <td>0.0073</td>\n",
              "      <td>0.505055</td>\n",
              "      <td>1.927817</td>\n",
              "      <td>0.958842</td>\n",
              "      <td>1.135224</td>\n",
              "      <td>0.497048</td>\n",
              "      <td>192.988096</td>\n",
              "    </tr>\n",
              "    <tr>\n",
              "      <th>1</th>\n",
              "      <td>1982</td>\n",
              "      <td>0.523531</td>\n",
              "      <td>0.523485</td>\n",
              "      <td>0.526291</td>\n",
              "      <td>0.532875</td>\n",
              "      <td>0.538397</td>\n",
              "      <td>0.543180</td>\n",
              "      <td>0.547520</td>\n",
              "      <td>0.553433</td>\n",
              "      <td>0.561674</td>\n",
              "      <td>...</td>\n",
              "      <td>0</td>\n",
              "      <td>1</td>\n",
              "      <td>2</td>\n",
              "      <td>0.0043</td>\n",
              "      <td>0.523485</td>\n",
              "      <td>1.734845</td>\n",
              "      <td>0.916559</td>\n",
              "      <td>1.061186</td>\n",
              "      <td>0.421130</td>\n",
              "      <td>180.401567</td>\n",
              "    </tr>\n",
              "    <tr>\n",
              "      <th>2</th>\n",
              "      <td>1989</td>\n",
              "      <td>0.516449</td>\n",
              "      <td>0.519226</td>\n",
              "      <td>0.523619</td>\n",
              "      <td>0.532366</td>\n",
              "      <td>0.540438</td>\n",
              "      <td>0.547985</td>\n",
              "      <td>0.552716</td>\n",
              "      <td>0.556823</td>\n",
              "      <td>0.561827</td>\n",
              "      <td>...</td>\n",
              "      <td>0</td>\n",
              "      <td>1</td>\n",
              "      <td>2</td>\n",
              "      <td>0.0046</td>\n",
              "      <td>0.516449</td>\n",
              "      <td>1.884757</td>\n",
              "      <td>0.925547</td>\n",
              "      <td>1.087614</td>\n",
              "      <td>0.462437</td>\n",
              "      <td>184.894345</td>\n",
              "    </tr>\n",
              "    <tr>\n",
              "      <th>3</th>\n",
              "      <td>2018</td>\n",
              "      <td>0.514163</td>\n",
              "      <td>0.516174</td>\n",
              "      <td>0.521443</td>\n",
              "      <td>0.528857</td>\n",
              "      <td>0.534581</td>\n",
              "      <td>0.543953</td>\n",
              "      <td>0.551666</td>\n",
              "      <td>0.557929</td>\n",
              "      <td>0.565811</td>\n",
              "      <td>...</td>\n",
              "      <td>2</td>\n",
              "      <td>1</td>\n",
              "      <td>1</td>\n",
              "      <td>0.0082</td>\n",
              "      <td>0.514163</td>\n",
              "      <td>1.868637</td>\n",
              "      <td>0.942196</td>\n",
              "      <td>1.113725</td>\n",
              "      <td>0.469601</td>\n",
              "      <td>189.333202</td>\n",
              "    </tr>\n",
              "    <tr>\n",
              "      <th>4</th>\n",
              "      <td>2045</td>\n",
              "      <td>0.471717</td>\n",
              "      <td>0.474344</td>\n",
              "      <td>0.477808</td>\n",
              "      <td>0.483401</td>\n",
              "      <td>0.491121</td>\n",
              "      <td>0.496970</td>\n",
              "      <td>0.503694</td>\n",
              "      <td>0.509696</td>\n",
              "      <td>0.516301</td>\n",
              "      <td>...</td>\n",
              "      <td>1</td>\n",
              "      <td>1</td>\n",
              "      <td>1</td>\n",
              "      <td>0.0051</td>\n",
              "      <td>0.471717</td>\n",
              "      <td>1.917085</td>\n",
              "      <td>0.878465</td>\n",
              "      <td>1.075850</td>\n",
              "      <td>0.493414</td>\n",
              "      <td>182.894524</td>\n",
              "    </tr>\n",
              "  </tbody>\n",
              "</table>\n",
              "<p>5 rows × 183 columns</p>\n",
              "</div>\n",
              "      <button class=\"colab-df-convert\" onclick=\"convertToInteractive('df-c9641a01-1be0-4243-8782-752525c605fa')\"\n",
              "              title=\"Convert this dataframe to an interactive table.\"\n",
              "              style=\"display:none;\">\n",
              "        \n",
              "  <svg xmlns=\"http://www.w3.org/2000/svg\" height=\"24px\"viewBox=\"0 0 24 24\"\n",
              "       width=\"24px\">\n",
              "    <path d=\"M0 0h24v24H0V0z\" fill=\"none\"/>\n",
              "    <path d=\"M18.56 5.44l.94 2.06.94-2.06 2.06-.94-2.06-.94-.94-2.06-.94 2.06-2.06.94zm-11 1L8.5 8.5l.94-2.06 2.06-.94-2.06-.94L8.5 2.5l-.94 2.06-2.06.94zm10 10l.94 2.06.94-2.06 2.06-.94-2.06-.94-.94-2.06-.94 2.06-2.06.94z\"/><path d=\"M17.41 7.96l-1.37-1.37c-.4-.4-.92-.59-1.43-.59-.52 0-1.04.2-1.43.59L10.3 9.45l-7.72 7.72c-.78.78-.78 2.05 0 2.83L4 21.41c.39.39.9.59 1.41.59.51 0 1.02-.2 1.41-.59l7.78-7.78 2.81-2.81c.8-.78.8-2.07 0-2.86zM5.41 20L4 18.59l7.72-7.72 1.47 1.35L5.41 20z\"/>\n",
              "  </svg>\n",
              "      </button>\n",
              "      \n",
              "  <style>\n",
              "    .colab-df-container {\n",
              "      display:flex;\n",
              "      flex-wrap:wrap;\n",
              "      gap: 12px;\n",
              "    }\n",
              "\n",
              "    .colab-df-convert {\n",
              "      background-color: #E8F0FE;\n",
              "      border: none;\n",
              "      border-radius: 50%;\n",
              "      cursor: pointer;\n",
              "      display: none;\n",
              "      fill: #1967D2;\n",
              "      height: 32px;\n",
              "      padding: 0 0 0 0;\n",
              "      width: 32px;\n",
              "    }\n",
              "\n",
              "    .colab-df-convert:hover {\n",
              "      background-color: #E2EBFA;\n",
              "      box-shadow: 0px 1px 2px rgba(60, 64, 67, 0.3), 0px 1px 3px 1px rgba(60, 64, 67, 0.15);\n",
              "      fill: #174EA6;\n",
              "    }\n",
              "\n",
              "    [theme=dark] .colab-df-convert {\n",
              "      background-color: #3B4455;\n",
              "      fill: #D2E3FC;\n",
              "    }\n",
              "\n",
              "    [theme=dark] .colab-df-convert:hover {\n",
              "      background-color: #434B5C;\n",
              "      box-shadow: 0px 1px 3px 1px rgba(0, 0, 0, 0.15);\n",
              "      filter: drop-shadow(0px 1px 2px rgba(0, 0, 0, 0.3));\n",
              "      fill: #FFFFFF;\n",
              "    }\n",
              "  </style>\n",
              "\n",
              "      <script>\n",
              "        const buttonEl =\n",
              "          document.querySelector('#df-c9641a01-1be0-4243-8782-752525c605fa button.colab-df-convert');\n",
              "        buttonEl.style.display =\n",
              "          google.colab.kernel.accessAllowed ? 'block' : 'none';\n",
              "\n",
              "        async function convertToInteractive(key) {\n",
              "          const element = document.querySelector('#df-c9641a01-1be0-4243-8782-752525c605fa');\n",
              "          const dataTable =\n",
              "            await google.colab.kernel.invokeFunction('convertToInteractive',\n",
              "                                                     [key], {});\n",
              "          if (!dataTable) return;\n",
              "\n",
              "          const docLinkHtml = 'Like what you see? Visit the ' +\n",
              "            '<a target=\"_blank\" href=https://colab.research.google.com/notebooks/data_table.ipynb>data table notebook</a>'\n",
              "            + ' to learn more about interactive tables.';\n",
              "          element.innerHTML = '';\n",
              "          dataTable['output_type'] = 'display_data';\n",
              "          await google.colab.output.renderOutput(dataTable, element);\n",
              "          const docLink = document.createElement('div');\n",
              "          docLink.innerHTML = docLinkHtml;\n",
              "          element.appendChild(docLink);\n",
              "        }\n",
              "      </script>\n",
              "    </div>\n",
              "  </div>\n",
              "  "
            ],
            "text/plain": [
              "   donation_id  absorbance0  absorbance1  absorbance2  absorbance3  \\\n",
              "0         1975     0.505055     0.506570     0.511544     0.516300   \n",
              "1         1982     0.523531     0.523485     0.526291     0.532875   \n",
              "2         1989     0.516449     0.519226     0.523619     0.532366   \n",
              "3         2018     0.514163     0.516174     0.521443     0.528857   \n",
              "4         2045     0.471717     0.474344     0.477808     0.483401   \n",
              "\n",
              "   absorbance4  absorbance5  absorbance6  absorbance7  absorbance8  ...  \\\n",
              "0     0.524067     0.530191     0.536138     0.542317     0.551118  ...   \n",
              "1     0.538397     0.543180     0.547520     0.553433     0.561674  ...   \n",
              "2     0.540438     0.547985     0.552716     0.556823     0.561827  ...   \n",
              "3     0.534581     0.543953     0.551666     0.557929     0.565811  ...   \n",
              "4     0.491121     0.496970     0.503694     0.509696     0.516301  ...   \n",
              "\n",
              "   hdl_cholesterol_human  hemoglobin(hgb)_human  cholesterol_ldl_human  \\\n",
              "0                      0                      1                      1   \n",
              "1                      0                      1                      2   \n",
              "2                      0                      1                      2   \n",
              "3                      2                      1                      1   \n",
              "4                      1                      1                      1   \n",
              "\n",
              "      std   low_abs  high_abs   med_abs  mean_abs   std_abs     sum_abs  \n",
              "0  0.0073  0.505055  1.927817  0.958842  1.135224  0.497048  192.988096  \n",
              "1  0.0043  0.523485  1.734845  0.916559  1.061186  0.421130  180.401567  \n",
              "2  0.0046  0.516449  1.884757  0.925547  1.087614  0.462437  184.894345  \n",
              "3  0.0082  0.514163  1.868637  0.942196  1.113725  0.469601  189.333202  \n",
              "4  0.0051  0.471717  1.917085  0.878465  1.075850  0.493414  182.894524  \n",
              "\n",
              "[5 rows x 183 columns]"
            ]
          },
          "metadata": {},
          "execution_count": 6
        }
      ],
      "source": [
        "train.head()"
      ]
    },
    {
      "cell_type": "code",
      "execution_count": 7,
      "id": "d0ea15d0",
      "metadata": {
        "id": "d0ea15d0",
        "colab": {
          "base_uri": "https://localhost:8080/"
        },
        "outputId": "6c3b6a19-34e3-4b7a-9d45-fb98610db74c"
      },
      "outputs": [
        {
          "output_type": "stream",
          "name": "stdout",
          "text": [
            "(355, 179)\n",
            "(355,)\n",
            "(355,)\n",
            "(355,)\n"
          ]
        }
      ],
      "source": [
        "# Raw Data\n",
        "y_hdl_cholesterol_human = train_scaled['hdl_cholesterol_human']\n",
        "y_hemoglobin_hgb_human = train_scaled['hemoglobin(hgb)_human']\n",
        "y_cholesterol_ldl_human = train_scaled[\"cholesterol_ldl_human\"]\n",
        "train_unscaled = train.drop(['donation_id', 'hdl_cholesterol_human', 'hemoglobin(hgb)_human',\n",
        "       'cholesterol_ldl_human'], axis=1)\n",
        "train_scaled_drop = train_scaled.drop(['donation_id', 'hdl_cholesterol_human', 'hemoglobin(hgb)_human',\n",
        "       'cholesterol_ldl_human'], axis=1)\n",
        "\n",
        "df_train = train_scaled_drop.copy()\n",
        "df_trainu = train_unscaled.copy() #Unscaled data\n",
        "print(df_train.shape)\n",
        "print(y_hdl_cholesterol_human.shape)\n",
        "print(y_hemoglobin_hgb_human.shape)\n",
        "print(y_cholesterol_ldl_human.shape)"
      ]
    },
    {
      "cell_type": "code",
      "execution_count": 8,
      "id": "0742220d",
      "metadata": {
        "id": "0742220d"
      },
      "outputs": [],
      "source": [
        "X_cols = list(df_train.columns)\n",
        "X_test = test_scaled[X_cols] # Scaled test data\n",
        "X_testu = test[X_cols] # Unscaled test data"
      ]
    },
    {
      "cell_type": "code",
      "execution_count": 9,
      "id": "bf63ca07",
      "metadata": {
        "id": "bf63ca07"
      },
      "outputs": [],
      "source": [
        "def hyperparameter_model(models, params, x_train, y_train):\n",
        "    '''\n",
        "    Hyperparameter tuning with RepeatedStratifiedKFold follow by GridSearchCV\n",
        "    \n",
        "    Parameters:\n",
        "    models: Instance of the model\n",
        "    params: list of parameters with value for tuning (dict)\n",
        "    \n",
        "    Return:\n",
        "    grid_clf: return gridsearch model    \n",
        "    '''\n",
        "    str_cv = RepeatedStratifiedKFold(n_splits=10, n_repeats=5, random_state=seed)\n",
        "    grid_clf = GridSearchCV(models, params, cv=str_cv, return_train_score=True, scoring='roc_auc')\n",
        "    grid_clf.fit(x_train, y_train)\n",
        "    return grid_clf\n",
        "\n",
        "def forward_selection_model(x_train, y_train,model, top_n=10):\n",
        "    top_column = []\n",
        "    exist_score = 0\n",
        "    for n in range(top_n):\n",
        "        print('for {} feature'.format(n+1))\n",
        "        flag = 0\n",
        "        for i in tqdm.tqdm_notebook(range(X_test.shape[1])):\n",
        "            if len(top_column) == 0:\n",
        "                str_cv = RepeatedStratifiedKFold(n_splits=10, n_repeats=5, random_state=42)\n",
        "                score = cross_val_score(model,x_train[:,[i]],y_train,cv=str_cv,scoring='roc_auc')\n",
        "                if exist_score < np.mean(score):\n",
        "                    top_current = i\n",
        "                    exist_score = np.mean(score)\n",
        "                    flag = 1\n",
        "            elif i not in top_column:\n",
        "                str_cv = RepeatedStratifiedKFold(n_splits=10, n_repeats=5, random_state=42)\n",
        "                score = cross_val_score(model,x_train[:,np.concatenate((top_column,[i]))],y_train,cv=str_cv,scoring='roc_auc')\n",
        "                if exist_score < np.mean(score):\n",
        "                    top_current = i\n",
        "                    exist_score = np.mean(score)\n",
        "                    flag = 1\n",
        "        \n",
        "        if flag == 1:\n",
        "            print('Current top feature {} and score: {}'.format(top_current,exist_score))\n",
        "            print('Appended to top column')\n",
        "            top_column.append(top_current)\n",
        "            print(top_column)\n",
        "        else:\n",
        "            break\n",
        "    return top_column\n",
        "\n",
        "\n",
        "def plot_feature_importance(model, model_name, top_n = 10):\n",
        "    '''  \n",
        "    Parameters:\n",
        "    model: model \n",
        "    model_name: name of the model\n",
        "  \n",
        "    Return:\n",
        "    Top 10 features of the dataset  \n",
        "    '''       \n",
        "    column_name = train.drop(['id','target'], axis=1).columns\n",
        "    if model_name == 'log_model':\n",
        "        feat_imp_coef = model.coef_.ravel()\n",
        "    else:\n",
        "        feat_imp_coef = model.feature_importances_\n",
        "    temp = pd.DataFrame(data=np.column_stack((column_name, feat_imp_coef)), columns=['col_name','coef'])\n",
        "    temp = temp.sort_values(by='coef', ascending=False).reset_index()\n",
        "    df = temp\n",
        "    temp = temp[:top_n]\n",
        "    return temp"
      ]
    },
    {
      "cell_type": "code",
      "execution_count": 10,
      "id": "ca1bbc59",
      "metadata": {
        "id": "ca1bbc59"
      },
      "outputs": [],
      "source": [
        "reverse_mapping = {'0' : 'low', '1' : 'ok', '2' : 'high'}"
      ]
    },
    {
      "cell_type": "markdown",
      "id": "c1c14154",
      "metadata": {
        "id": "c1c14154"
      },
      "source": [
        "#### Build each model individually"
      ]
    },
    {
      "cell_type": "markdown",
      "id": "ef9eef7f",
      "metadata": {
        "id": "ef9eef7f"
      },
      "source": [
        "##### A. Baseline Model - Logistic Regression"
      ]
    },
    {
      "cell_type": "markdown",
      "id": "3608f936",
      "metadata": {
        "id": "3608f936"
      },
      "source": [
        "- hdl cholesterol human"
      ]
    },
    {
      "cell_type": "code",
      "execution_count": 11,
      "id": "fc93343b",
      "metadata": {
        "id": "fc93343b"
      },
      "outputs": [],
      "source": [
        "# log_reg = LogisticRegression(random_state=seed)\n",
        "# log_reg.fit(df_train,y_hdl_cholesterol_human)\n",
        "# hdl_cholesterol_human = log_reg.predict(X_test)\n",
        "# test['hdl_cholesterol_human'] = hdl_cholesterol_human.astype(str)\n",
        "# test['hdl_cholesterol_human'] = test['hdl_cholesterol_human'].replace(reverse_mapping)\n",
        "# test['hdl_cholesterol_human'].value_counts()"
      ]
    },
    {
      "cell_type": "markdown",
      "id": "1adb2ae6",
      "metadata": {
        "id": "1adb2ae6"
      },
      "source": [
        "- ldl cholesterol human"
      ]
    },
    {
      "cell_type": "code",
      "execution_count": 12,
      "id": "f864d20a",
      "metadata": {
        "id": "f864d20a"
      },
      "outputs": [],
      "source": [
        "# log_reg2 = LogisticRegression(random_state=seed)\n",
        "# log_reg2.fit(df_train,y_cholesterol_ldl_human)\n",
        "# cholesterol_ldl_human = log_reg2.predict(X_test)\n",
        "# test['cholesterol_ldl_human'] = cholesterol_ldl_human.astype(str)\n",
        "# test['cholesterol_ldl_human'] = test['cholesterol_ldl_human'].replace(reverse_mapping)\n",
        "# test['cholesterol_ldl_human'].value_counts()"
      ]
    },
    {
      "cell_type": "markdown",
      "id": "4323c8b9",
      "metadata": {
        "id": "4323c8b9"
      },
      "source": [
        "- hemoglobin human"
      ]
    },
    {
      "cell_type": "code",
      "execution_count": 13,
      "id": "e756da6f",
      "metadata": {
        "id": "e756da6f"
      },
      "outputs": [],
      "source": [
        "# log_reg3 = LogisticRegression(random_state=seed)\n",
        "# log_reg3.fit(df_train,y_hemoglobin_hgb_human)\n",
        "\n",
        "# hemoglobin_hgb_human = log_reg3.predict(X_test)\n",
        "# test['hemoglobin_hgb_human'] = hemoglobin_hgb_human.astype(str)\n",
        "# test['hemoglobin_hgb_human'] = test['hemoglobin_hgb_human'].replace(reverse_mapping)\n",
        "# test['hemoglobin_hgb_human'].value_counts()"
      ]
    },
    {
      "cell_type": "markdown",
      "id": "b59581f5",
      "metadata": {
        "id": "b59581f5"
      },
      "source": [
        "Leaderboard score with logistic regression is 0.5821917808219178"
      ]
    },
    {
      "cell_type": "markdown",
      "id": "cd295805",
      "metadata": {
        "id": "cd295805"
      },
      "source": [
        "##### B. Logistic Regression with optimization"
      ]
    },
    {
      "cell_type": "markdown",
      "id": "78f99f0c",
      "metadata": {
        "id": "78f99f0c"
      },
      "source": [
        "- hdl cholesterol human"
      ]
    },
    {
      "cell_type": "code",
      "execution_count": 14,
      "id": "013950dd",
      "metadata": {
        "id": "013950dd"
      },
      "outputs": [],
      "source": [
        "# params = {'penalty':['l1', 'l2', 'elasticnet'], 'C':[10**i for i in range(-4,5)], 'solver':['liblinear','sag']}\n",
        "# log_model_hdl = LogisticRegression(random_state=42, class_weight='balanced')\n",
        "# log_clf_hdl = hyperparameter_model(log_model_hdl, params, df_train,y_hdl_cholesterol_human)\n",
        "# print(log_clf_hdl.best_params_)\n",
        "\n",
        "# log_model_hdl = LogisticRegression(**log_clf_hdl.best_params_, class_weight='balanced', random_state=42)\n",
        "# log_model_hdl.fit(df_train,y_hdl_cholesterol_human)\n",
        "\n",
        "# hdl_cholesterol_human = log_model_hdl.predict(X_test)\n",
        "# test['hdl_cholesterol_human'] = hdl_cholesterol_human.astype(str)\n",
        "# test['hdl_cholesterol_human'] = test['hdl_cholesterol_human'].replace(reverse_mapping)\n",
        "# test['hdl_cholesterol_human'].value_counts()"
      ]
    },
    {
      "cell_type": "markdown",
      "id": "e2ada154",
      "metadata": {
        "id": "e2ada154"
      },
      "source": [
        "- ldl cholesterol human"
      ]
    },
    {
      "cell_type": "code",
      "execution_count": 15,
      "id": "ceef4540",
      "metadata": {
        "id": "ceef4540"
      },
      "outputs": [],
      "source": [
        "# params = {'penalty':['l1', 'l2', 'elasticnet'], 'C':[10**i for i in range(-4,5)], 'solver':['liblinear','sag']}\n",
        "# log_model_ldl = LogisticRegression(random_state=42, class_weight='balanced')\n",
        "# log_clf_ldl = hyperparameter_model(log_model_ldl, params, df_train,y_cholesterol_ldl_human)\n",
        "# print(log_clf_ldl.best_params_)\n",
        "\n",
        "# log_model_ldl = LogisticRegression(**log_clf_ldl.best_params_, class_weight='balanced', random_state=seed)\n",
        "# log_model_ldl.fit(df_train,y_cholesterol_ldl_human)\n",
        "\n",
        "# cholesterol_ldl_human = log_model_ldl.predict(X_test)\n",
        "# test['cholesterol_ldl_human'] = cholesterol_ldl_human.astype(str)\n",
        "# test['cholesterol_ldl_human'] = test['cholesterol_ldl_human'].replace(reverse_mapping)\n",
        "# test['cholesterol_ldl_human'].value_counts()"
      ]
    },
    {
      "cell_type": "markdown",
      "id": "08e3e15a",
      "metadata": {
        "id": "08e3e15a"
      },
      "source": [
        "- hemoglobin human"
      ]
    },
    {
      "cell_type": "code",
      "execution_count": 16,
      "id": "9afb952b",
      "metadata": {
        "id": "9afb952b"
      },
      "outputs": [],
      "source": [
        "# params = {'penalty':['l1', 'l2', 'elasticnet'], 'C':[10**i for i in range(-4,5)], 'solver':['liblinear','sag']}\n",
        "# log_model_hgb = LogisticRegression(random_state=42, class_weight='balanced')\n",
        "# log_clf_hgb = hyperparameter_model(log_model_hgb, params, df_train,y_hemoglobin_hgb_human)\n",
        "# print(log_clf_hgb.best_params_)\n",
        "\n",
        "# log_model_hgb = LogisticRegression(**log_clf_hgb.best_params_, class_weight='balanced', random_state=seed)\n",
        "# log_model_hgb.fit(df_train,y_hemoglobin_hgb_human)\n",
        "\n",
        "# hemoglobin_hgb_human = log_model_hgb.predict(X_test)\n",
        "# test['hemoglobin_hgb_human'] = hemoglobin_hgb_human.astype(str)\n",
        "# test['hemoglobin_hgb_human'] = test['hemoglobin_hgb_human'].replace(reverse_mapping)\n",
        "# test['hemoglobin_hgb_human'].value_counts()"
      ]
    },
    {
      "cell_type": "markdown",
      "id": "204f15c8",
      "metadata": {
        "id": "204f15c8"
      },
      "source": [
        "Submission score dropped to 0.5753424657534246 "
      ]
    },
    {
      "cell_type": "markdown",
      "id": "b3e08265",
      "metadata": {
        "id": "b3e08265"
      },
      "source": [
        "#### C. PCA & Logistic Regression"
      ]
    },
    {
      "cell_type": "code",
      "execution_count": 17,
      "id": "deb4ba34",
      "metadata": {
        "id": "deb4ba34"
      },
      "outputs": [],
      "source": [
        "# # # https://scikit-learn.org/stable/auto_examples/compose/plot_digits_pipe.html\n",
        "# # # https://machinelearningmastery.com/multinomial-logistic-regression-with-python/\n",
        "\n",
        "# from sklearn.decomposition import PCA\n",
        "# from sklearn.pipeline import Pipeline\n",
        "# def pca_lr(x_train, y_train):\n",
        "#     pca = PCA()\n",
        "\n",
        "#     logistic = LogisticRegression(random_state = 42,solver='liblinear',max_iter=10000, tol=0.1)\n",
        "#     pipe = Pipeline(steps=[('pca', pca), ('logistic', logistic)])\n",
        "\n",
        "\n",
        "# # Parameters of pipelines can be set using ‘__’ separated parameter names:\n",
        "#     param_grid = {\n",
        "#     'pca__n_components': np.arange(170),\n",
        "#     'logistic__C': np.logspace(-4, 4, 4),\n",
        "#     }\n",
        "#     search = GridSearchCV(pipe, param_grid, n_jobs=-1)\n",
        "#     search.fit(x_train, y_train)\n",
        "#     print('Best parameter (CV score=%0.3f):' % search.best_score_)\n",
        "#     print(search.best_params_)\n",
        "\n",
        "#     # Plot the PCA spectrum\n",
        "#     pca.fit(x_train)\n",
        "\n",
        "#     fig, (ax0, ax1) = plt.subplots(nrows=2, sharex=True, figsize=(6, 6))\n",
        "#     ax0.plot(np.arange(1, pca.n_components_ + 1),\n",
        "#          np.cumsum(pca.explained_variance_ratio_), '+', linewidth=2)\n",
        "#     ax0.set_ylabel('PCA cummulative explained variance ratio')\n",
        "\n",
        "#     ax0.axvline(search.best_estimator_.named_steps['pca'].n_components,\n",
        "#             linestyle=':', label='n_components chosen')\n",
        "#     ax0.legend(prop=dict(size=12))\n",
        "\n",
        "#     # For each number of components, find the best classifier results\n",
        "#     results = pd.DataFrame(search.cv_results_)\n",
        "#     components_col = 'param_pca__n_components'\n",
        "#     best_clfs = results.groupby(components_col).apply(\n",
        "#     lambda g: g.nlargest(1, 'mean_test_score'))\n",
        "\n",
        "#     best_clfs.plot(x=components_col, y='mean_test_score', yerr='std_test_score',\n",
        "#                legend=False, ax=ax1)\n",
        "#     ax1.set_ylabel('Classification accuracy (val)')\n",
        "#     ax1.set_xlabel('n_components')\n",
        "\n",
        "#     plt.xlim(-1, 70)\n",
        "#     plt.tight_layout()\n",
        "#     plt.show()\n",
        "\n",
        "#     #print(f'Cummulative explained variance ratio:',np.cumsum(pca.explained_variance_ratio_))\n"
      ]
    },
    {
      "cell_type": "markdown",
      "id": "685a983d",
      "metadata": {
        "id": "685a983d"
      },
      "source": [
        "- hdl cholesterol human"
      ]
    },
    {
      "cell_type": "code",
      "execution_count": 18,
      "id": "09b96b73",
      "metadata": {
        "id": "09b96b73"
      },
      "outputs": [],
      "source": [
        "# pca_lr(df_train,y_hdl_cholesterol_human)\n",
        "# hdl_cholesterol_human = search.predict(X_test)\n",
        "# test['hdl_cholesterol_human'] = hdl_cholesterol_human.astype(str)\n",
        "# test['hdl_cholesterol_human'] = test['hdl_cholesterol_human'].replace(reverse_mapping)\n",
        "# test['hdl_cholesterol_human'].value_counts()"
      ]
    },
    {
      "cell_type": "code",
      "execution_count": 19,
      "id": "d6ae9735",
      "metadata": {
        "id": "d6ae9735"
      },
      "outputs": [],
      "source": [
        "# pca_lr(df_train,y_cholesterol_ldl_human)\n",
        "# cholesterol_ldl_human = search.predict(X_test)\n",
        "# test['cholesterol_ldl_human'] = cholesterol_ldl_human.astype(str)\n",
        "# test['cholesterol_ldl_human'] = test['cholesterol_ldl_human'].replace(reverse_mapping)\n",
        "# test['cholesterol_ldl_human'].value_counts()"
      ]
    },
    {
      "cell_type": "code",
      "execution_count": 20,
      "id": "74789929",
      "metadata": {
        "id": "74789929"
      },
      "outputs": [],
      "source": [
        "# pca_lr(df_train,y_hemoglobin_hgb_human)\n",
        "# hemoglobin_hgb_human = search.predict(X_test)\n",
        "# test['hemoglobin_hgb_human'] = hemoglobin_hgb_human.astype(str)\n",
        "# test['hemoglobin_hgb_human'] = test['hemoglobin_hgb_human'].replace(reverse_mapping)\n",
        "# test['hemoglobin_hgb_human'].value_counts()"
      ]
    },
    {
      "cell_type": "markdown",
      "id": "64bdf4aa",
      "metadata": {
        "id": "64bdf4aa"
      },
      "source": [
        "Score with PCA is 0.56 "
      ]
    },
    {
      "cell_type": "markdown",
      "id": "07db0430",
      "metadata": {
        "id": "07db0430"
      },
      "source": [
        "#### D. Random Forest Classifier"
      ]
    },
    {
      "cell_type": "code",
      "execution_count": 21,
      "id": "8b6f2072",
      "metadata": {
        "id": "8b6f2072"
      },
      "outputs": [],
      "source": [
        "# from sklearn.ensemble import RandomForestClassifier\n",
        "\n",
        "# rf_hdl = RandomForestClassifier(random_state=seed)\n",
        "# rf_hdl.fit(df_train,y_hdl_cholesterol_human)\n",
        "# print(\"Random forest trained on unscaled data\")\n",
        "\n",
        "# hdl_cholesterol_human = rf_hdl.predict(X_test)\n",
        "# test['hdl_cholesterol_human'] = hdl_cholesterol_human.astype(str)\n",
        "# test['hdl_cholesterol_human'] = test['hdl_cholesterol_human'].replace(reverse_mapping)\n",
        "# test['hdl_cholesterol_human'].value_counts()\n"
      ]
    },
    {
      "cell_type": "code",
      "execution_count": 22,
      "id": "3598f7ae",
      "metadata": {
        "id": "3598f7ae"
      },
      "outputs": [],
      "source": [
        "# rf_ldl = RandomForestClassifier(random_state=seed)\n",
        "# rf_ldl.fit(df_train,y_cholesterol_ldl_human)\n",
        "# print(\"Random forest trained on unscaled data\")\n",
        "\n",
        "# cholesterol_ldl_human = rf_ldl.predict(X_test)\n",
        "# test['cholesterol_ldl_human'] = cholesterol_ldl_human.astype(str)\n",
        "# test['cholesterol_ldl_human'] = test['cholesterol_ldl_human'].replace(reverse_mapping)\n",
        "# test['cholesterol_ldl_human'].value_counts()"
      ]
    },
    {
      "cell_type": "code",
      "execution_count": 23,
      "id": "19b501dd",
      "metadata": {
        "id": "19b501dd"
      },
      "outputs": [],
      "source": [
        "# rf_hgb = RandomForestClassifier(random_state=seed)\n",
        "# rf_hgb.fit(df_train,y_hemoglobin_hgb_human)\n",
        "# print(\"Random forest trained on unscaled data\")\n",
        "\n",
        "# hemoglobin_hgb_human = rf_hgb.predict(X_test)\n",
        "# test['hemoglobin_hgb_human'] = hemoglobin_hgb_human.astype(str)\n",
        "# test['hemoglobin_hgb_human'] = test['hemoglobin_hgb_human'].replace(reverse_mapping)\n",
        "# test['hemoglobin_hgb_human'].value_counts()"
      ]
    },
    {
      "cell_type": "markdown",
      "id": "6d392920",
      "metadata": {
        "id": "6d392920"
      },
      "source": [
        "RF without optimization gave a score of 0.541 with unscaled data. and 0.51 with scaled data."
      ]
    },
    {
      "cell_type": "markdown",
      "id": "966b4767",
      "metadata": {
        "id": "966b4767"
      },
      "source": [
        "#### E. Random Forest Classifier with optimization"
      ]
    },
    {
      "cell_type": "code",
      "execution_count": 24,
      "id": "e4fc394c",
      "metadata": {
        "id": "e4fc394c"
      },
      "outputs": [],
      "source": [
        "# params = {'n_estimators':[10,20,30,40,50,100,200,300,400],'max_depth':[2,3,5,7]}\n",
        "# rf_model_ldl = RandomForestClassifier(random_state=seed)\n",
        "# rf_clf_ldl = hyperparameter_model(rf_model_ldl, params,df_train,y_cholesterol_ldl_human)\n",
        "# print(rf_clf_ldl.best_params_)\n",
        "# rf_clf_ldl = RandomForestClassifier(**rf_clf_ldl.best_params_,random_state=seed)\n",
        "# rf_clf_ldl.fit(df_trainu,y_cholesterol_ldl_human)\n",
        "\n",
        "# cholesterol_ldl_human = rf_clf_ldl.predict(X_test)\n",
        "# test['cholesterol_ldl_human'] = cholesterol_ldl_human.astype(str)\n",
        "# test['cholesterol_ldl_human'] = test['cholesterol_ldl_human'].replace(reverse_mapping)\n",
        "# test['cholesterol_ldl_human'].value_counts()"
      ]
    },
    {
      "cell_type": "code",
      "execution_count": 25,
      "id": "69490a8a",
      "metadata": {
        "id": "69490a8a"
      },
      "outputs": [],
      "source": [
        "# params = {'n_estimators':[10,20,30,40,50,100,200,300,400],'max_depth':[2,3,5,7]}\n",
        "# rf_model_hdl = RandomForestClassifier(random_state=seed)\n",
        "# rf_clf_hdl = hyperparameter_model(rf_model_hdl, params,df_train,y_hdl_cholesterol_human)\n",
        "# print(rf_clf_hdl.best_params_)\n",
        "# rf_clf_hdl = RandomForestClassifier(**rf_clf_hdl.best_params_,random_state=seed)\n",
        "# rf_clf_hdl.fit(df_trainu,y_hdl_cholesterol_human)\n",
        "\n",
        "# hdl_cholesterol_human = rf_clf_hdl.predict(X_test)\n",
        "# test['hdl_cholesterol_human'] = hdl_cholesterol_human.astype(str)\n",
        "# test['hdl_cholesterol_human'] = test['hdl_cholesterol_human'].replace(reverse_mapping)\n",
        "# test['hdl_cholesterol_human'].value_counts()"
      ]
    },
    {
      "cell_type": "code",
      "execution_count": 26,
      "id": "fd43d94b",
      "metadata": {
        "id": "fd43d94b"
      },
      "outputs": [],
      "source": [
        "# params = {'n_estimators':[10,20,30,40,50,100,200,300,400],'max_depth':[2,3,5,7]}\n",
        "# rf_model_hgb = RandomForestClassifier(random_state=seed)\n",
        "# rf_clf_hgb = hyperparameter_model(rf_model_hgb, params,df_train,y_hemoglobin_hgb_human)\n",
        "# print(rf_clf_hgb.best_params_)\n",
        "# rf_clf_hgb = RandomForestClassifier(**rf_clf_hgb.best_params_,random_state=seed)\n",
        "# rf_clf_hgb.fit(df_trainu,y_hemoglobin_hgb_human)\n",
        "\n",
        "# hemoglobin_hgb_human = rf_clf_hgb.predict(X_test)\n",
        "# test['hemoglobin_hgb_human'] = hemoglobin_hgb_human.astype(str)\n",
        "# test['hemoglobin_hgb_human'] = test['hemoglobin_hgb_human'].replace(reverse_mapping)\n",
        "# test['hemoglobin_hgb_human'].value_counts()"
      ]
    },
    {
      "cell_type": "markdown",
      "id": "00394cd5",
      "metadata": {
        "id": "00394cd5"
      },
      "source": [
        "Rf with optimization on unscaled data gives 0.582 score, with scaled data gies 0.554"
      ]
    },
    {
      "cell_type": "markdown",
      "id": "46c1ebef",
      "metadata": {
        "id": "46c1ebef"
      },
      "source": [
        "#### F. SVC Classifier "
      ]
    },
    {
      "cell_type": "code",
      "execution_count": 27,
      "id": "263ea86b",
      "metadata": {
        "id": "263ea86b"
      },
      "outputs": [],
      "source": [
        "# params = {'C':[10**i for i in range(-4,5)], 'kernel':['linear','poly','sigmoid','rbf']}\n",
        "# svc_model_ldl = SVC(class_weight='balanced', random_state=seed, probability=True)\n",
        "# svc_clf_ldl = hyperparameter_model(svc_model_ldl, params,df_train,y_cholesterol_ldl_human)\n",
        "# print(svc_clf_ldl.best_params_)\n",
        "# svc_clf_ldl = SVC(**svc_clf_ldl.best_params_,random_state=seed,probability=True)\n",
        "# svc_clf_ldl.fit(df_trainu,y_cholesterol_ldl_human)\n",
        "\n",
        "# cholesterol_ldl_human = rf_clf_ldl.predict(X_test)\n",
        "# test['cholesterol_ldl_human'] = cholesterol_ldl_human.astype(str)\n",
        "# test['cholesterol_ldl_human'] = test['cholesterol_ldl_human'].replace(reverse_mapping)\n",
        "# test['cholesterol_ldl_human'].value_counts()"
      ]
    },
    {
      "cell_type": "code",
      "execution_count": 28,
      "id": "dda32088",
      "metadata": {
        "id": "dda32088"
      },
      "outputs": [],
      "source": [
        "# params = {'C':[10**i for i in range(-4,5)], 'kernel':['linear','poly','sigmoid','rbf']}\n",
        "# svc_model_hdl = SVC(class_weight='balanced', random_state=seed, probability=True)\n",
        "# svc_clf_hdl = hyperparameter_model(svc_model_hdl, params,df_train,y_hdl_cholesterol_human)\n",
        "# print(svc_clf_hdl.best_params_)\n",
        "# svc_clf_hdl = SVC(**svc_clf_hdl.best_params_,random_state=seed,probability=True)\n",
        "# svc_clf_hdl.fit(df_trainu,y_hdl_cholesterol_human)\n",
        "\n",
        "# hdl_cholesterol_human = rf_clf_hdl.predict(X_test)\n",
        "# test['hdl_cholesterol_human'] = hdl_cholesterol_human.astype(str)\n",
        "# test['hdl_cholesterol_human'] = test['hdl_cholesterol_human'].replace(reverse_mapping)\n",
        "# test['hdl_cholesterol_human'].value_counts()"
      ]
    },
    {
      "cell_type": "code",
      "execution_count": 29,
      "id": "65a1e543",
      "metadata": {
        "id": "65a1e543"
      },
      "outputs": [],
      "source": [
        "# params = {'C':[10**i for i in range(-4,5)], 'kernel':['linear','poly','sigmoid','rbf']}\n",
        "# svc_model_hgb = SVC(class_weight='balanced', random_state=seed, probability=True)\n",
        "# svc_clf_hgb = hyperparameter_model(svc_model_hgb, params,df_train,y_hemoglobin_hgb_human)\n",
        "# print(svc_clf_hgb.best_params_)\n",
        "# svc_clf_hgb = SVC(**svc_clf_hgb.best_params_,random_state=seed,probability=True)\n",
        "# svc_clf_hgb.fit(df_trainu,y_hemoglobin_hgb_human)\n",
        "\n",
        "# hemoglobin_hgb_human = svc_clf_hgb.predict(X_test)\n",
        "# test['hemoglobin_hgb_human'] = hemoglobin_hgb_human.astype(str)\n",
        "# test['hemoglobin_hgb_human'] = test['hemoglobin_hgb_human'].replace(reverse_mapping)\n",
        "# test['hemoglobin_hgb_human'].value_counts()"
      ]
    },
    {
      "cell_type": "markdown",
      "id": "5799eb98",
      "metadata": {
        "id": "5799eb98"
      },
      "source": [
        "With unscaled data gave a score of 0.5829"
      ]
    },
    {
      "cell_type": "markdown",
      "id": "d31b9477",
      "metadata": {
        "id": "d31b9477"
      },
      "source": [
        "##### G. Catboost Algorithm\n",
        "https://journalofbigdata.springeropen.com/articles/10.1186/s40537-020-00349-y"
      ]
    },
    {
      "cell_type": "markdown",
      "id": "33594c50",
      "metadata": {
        "id": "33594c50"
      },
      "source": [
        "- hdl cholesterol human"
      ]
    },
    {
      "cell_type": "code",
      "source": [
        "!pip install catboost"
      ],
      "metadata": {
        "id": "j6iMvWiQuOTQ",
        "colab": {
          "base_uri": "https://localhost:8080/"
        },
        "outputId": "d41efd0d-02c6-4d58-9c96-7d7461ac5805"
      },
      "id": "j6iMvWiQuOTQ",
      "execution_count": 30,
      "outputs": [
        {
          "output_type": "stream",
          "name": "stdout",
          "text": [
            "Requirement already satisfied: catboost in /usr/local/lib/python3.7/dist-packages (1.0.4)\n",
            "Requirement already satisfied: graphviz in /usr/local/lib/python3.7/dist-packages (from catboost) (0.10.1)\n",
            "Requirement already satisfied: plotly in /usr/local/lib/python3.7/dist-packages (from catboost) (5.5.0)\n",
            "Requirement already satisfied: pandas>=0.24.0 in /usr/local/lib/python3.7/dist-packages (from catboost) (1.3.3)\n",
            "Requirement already satisfied: numpy>=1.16.0 in /usr/local/lib/python3.7/dist-packages (from catboost) (1.21.2)\n",
            "Requirement already satisfied: matplotlib in /usr/local/lib/python3.7/dist-packages (from catboost) (3.4.3)\n",
            "Requirement already satisfied: scipy in /usr/local/lib/python3.7/dist-packages (from catboost) (1.4.1)\n",
            "Requirement already satisfied: six in /usr/local/lib/python3.7/dist-packages (from catboost) (1.15.0)\n",
            "Requirement already satisfied: pytz>=2017.3 in /usr/local/lib/python3.7/dist-packages (from pandas>=0.24.0->catboost) (2018.9)\n",
            "Requirement already satisfied: python-dateutil>=2.7.3 in /usr/local/lib/python3.7/dist-packages (from pandas>=0.24.0->catboost) (2.8.2)\n",
            "Requirement already satisfied: pillow>=6.2.0 in /usr/local/lib/python3.7/dist-packages (from matplotlib->catboost) (7.1.2)\n",
            "Requirement already satisfied: kiwisolver>=1.0.1 in /usr/local/lib/python3.7/dist-packages (from matplotlib->catboost) (1.3.2)\n",
            "Requirement already satisfied: pyparsing>=2.2.1 in /usr/local/lib/python3.7/dist-packages (from matplotlib->catboost) (3.0.7)\n",
            "Requirement already satisfied: cycler>=0.10 in /usr/local/lib/python3.7/dist-packages (from matplotlib->catboost) (0.11.0)\n",
            "Requirement already satisfied: tenacity>=6.2.0 in /usr/local/lib/python3.7/dist-packages (from plotly->catboost) (8.0.1)\n"
          ]
        }
      ]
    },
    {
      "cell_type": "code",
      "source": [
        "# !pip install optuna\n"
      ],
      "metadata": {
        "id": "Una8Jf6k1gTJ"
      },
      "id": "Una8Jf6k1gTJ",
      "execution_count": 31,
      "outputs": []
    },
    {
      "cell_type": "code",
      "source": [
        "from catboost import CatBoostClassifier\n",
        "from sklearn.model_selection import train_test_split\n",
        "from sklearn.metrics import accuracy_score\n",
        "import optuna\n",
        "\n",
        "def objective(trial):\n",
        "    X_train, X_test, y_train, y_test = train_test_split(X, y, test_size=0.3)\n",
        "    param = {\n",
        "        \"loss_function\": trial.suggest_categorical(\"loss_function\", [\"MultiClass\",\"MultiClassOneVsAll\"]),\n",
        "        \"learning_rate\": trial.suggest_loguniform(\"learning_rate\", 1e-5, 1e0),\n",
        "        \"l2_leaf_reg\": trial.suggest_loguniform(\"l2_leaf_reg\", 1e-2, 1e0),\n",
        "        \"colsample_bylevel\": trial.suggest_float(\"colsample_bylevel\", 0.01, 0.1),\n",
        "        \"depth\": trial.suggest_int(\"depth\", 1, 10),\n",
        "        \"boosting_type\": trial.suggest_categorical(\"boosting_type\", [\"Ordered\", \"Plain\"]),\n",
        "        \"bootstrap_type\": trial.suggest_categorical(\"bootstrap_type\", [\"Bayesian\", \"Bernoulli\", \"MVS\"]),\n",
        "        \"min_data_in_leaf\": trial.suggest_int(\"min_data_in_leaf\", 2, 20),\n",
        "        \"one_hot_max_size\": trial.suggest_int(\"one_hot_max_size\", 2, 20),  \n",
        "    }\n",
        "    # Conditional Hyper-Parameters\n",
        "    if param[\"bootstrap_type\"] == \"Bayesian\":\n",
        "        param[\"bagging_temperature\"] = trial.suggest_float(\"bagging_temperature\", 0, 10)\n",
        "    elif param[\"bootstrap_type\"] == \"Bernoulli\":\n",
        "        param[\"subsample\"] = trial.suggest_float(\"subsample\", 0.1, 1)\n",
        "\n",
        "    reg = CatBoostClassifier(**param)\n",
        "    reg.fit(X_train, y_train, eval_set=[(X_test, y_test)], verbose=0, early_stopping_rounds=100)\n",
        "    y_pred = reg.predict(X_test)\n",
        "    score = accuracy_score(y_test, y_pred,normalize=False)\n",
        "    return score"
      ],
      "metadata": {
        "id": "AC2GoOUxt033"
      },
      "id": "AC2GoOUxt033",
      "execution_count": 32,
      "outputs": []
    },
    {
      "cell_type": "code",
      "source": [
        "# \"Logloss\", \"CrossEntropy\", \"MultiClassOneVsAll\","
      ],
      "metadata": {
        "id": "98LhDvUuOeEv"
      },
      "id": "98LhDvUuOeEv",
      "execution_count": 33,
      "outputs": []
    },
    {
      "cell_type": "code",
      "source": [
        "# #LDL\n",
        "# from optuna.samplers import TPESampler\n",
        "\n",
        "# X = df_trainu\n",
        "# y = y_cholesterol_ldl_human\n",
        "\n",
        "# study = optuna.create_study(sampler=TPESampler(), direction=\"maximize\")\n",
        "# study.optimize(objective, n_trials=10, timeout=600) # Run for 10 minutes\n",
        "# print(\"Number of completed trials: {}\".format(len(study.trials)))\n",
        "# print(\"Best trial:\")\n",
        "# trial = study.best_trial\n",
        "\n",
        "# print(\"\\tBest Score: {}\".format(trial.value))\n",
        "# print(\"\\tBest Params: \")\n",
        "# for key, value in trial.params.items():\n",
        "#     print(\"    {}: {}\".format(key, value))"
      ],
      "metadata": {
        "id": "eAEgNMNI2_X1"
      },
      "id": "eAEgNMNI2_X1",
      "execution_count": 34,
      "outputs": []
    },
    {
      "cell_type": "code",
      "source": [
        "# cat_model_ldl = CatBoostClassifier(loss_function = 'MultiClass',\n",
        "#                                    learning_rate = 6.447911714090859e-05,\n",
        "#                                    l2_leaf_reg = 0.02120959816527062,colsample_bylevel = 0.02345568909821258,depth = 3,\n",
        "#                                    boosting_type = \"Plain\",bootstrap_type = \"Bayesian\",min_data_in_leaf = 3,\n",
        "#                                    one_hot_max_size = 11,bagging_temperature = 3.8517108825279402,)"
      ],
      "metadata": {
        "id": "p69-n6BSYCx6"
      },
      "id": "p69-n6BSYCx6",
      "execution_count": 35,
      "outputs": []
    },
    {
      "cell_type": "code",
      "source": [
        "# study.best_trial.params"
      ],
      "metadata": {
        "id": "6qTVivlTZbqy"
      },
      "id": "6qTVivlTZbqy",
      "execution_count": 36,
      "outputs": []
    },
    {
      "cell_type": "code",
      "source": [
        "# cat_model_ldl = CatBoostClassifier(**study.best_trial.params)"
      ],
      "metadata": {
        "id": "HG3Rio6ha5sx"
      },
      "id": "HG3Rio6ha5sx",
      "execution_count": 37,
      "outputs": []
    },
    {
      "cell_type": "code",
      "source": [
        "# cat_model_ldl = CatBoostClassifier(loss_function = 'MultiClassOneVsAll',\n",
        "#                                    learning_rate = 0.0005082181545580776,\n",
        "#                                    l2_leaf_reg = 0.02434332224091455,colsample_bylevel = 0.07695581371024932,depth = 5,\n",
        "#                                    boosting_type = \"Plain\",bootstrap_type = \"MVS\",min_data_in_leaf = 15,\n",
        "#                                    one_hot_max_size = 7)"
      ],
      "metadata": {
        "id": "hehYj8pInKPa"
      },
      "id": "hehYj8pInKPa",
      "execution_count": 38,
      "outputs": []
    },
    {
      "cell_type": "code",
      "execution_count": 39,
      "id": "e0ba8dfa",
      "metadata": {
        "id": "e0ba8dfa"
      },
      "outputs": [],
      "source": [
        "# # Cholesterol ldl\n",
        "# # cat_ldf = cat_model_boost(df_train,y_cholesterol_ldl_human)\n",
        "# cat_ldl = cat_model_ldl.fit(df_trainu,y_cholesterol_ldl_human)\n",
        "# cholesterol_ldl_human = cat_ldl.predict(X_testu)\n",
        "# test['cholesterol_ldl_human'] = cholesterol_ldl_human.astype(str)\n",
        "# test['cholesterol_ldl_human'] = test['cholesterol_ldl_human'].replace(reverse_mapping)\n",
        "# test['cholesterol_ldl_human'].value_counts()"
      ]
    },
    {
      "cell_type": "code",
      "source": [
        "# # HDL Cholesterol\n",
        "# X = df_trainu\n",
        "# y = y_hdl_cholesterol_human\n",
        "\n",
        "# study = optuna.create_study(sampler=TPESampler(), direction=\"maximize\")\n",
        "# study.optimize(objective, n_trials=10, timeout=600) # Run for 10 minutes\n",
        "# print(\"Number of completed trials: {}\".format(len(study.trials)))\n",
        "# print(\"Best trial:\")\n",
        "# trial = study.best_trial\n",
        "\n",
        "# print(\"\\tBest Score: {}\".format(trial.value))\n",
        "# print(\"\\tBest Params: \")\n",
        "# for key, value in trial.params.items():\n",
        "#     print(\"    {}: {}\".format(key, value))"
      ],
      "metadata": {
        "id": "ot1JJOh8Z79B"
      },
      "id": "ot1JJOh8Z79B",
      "execution_count": 40,
      "outputs": []
    },
    {
      "cell_type": "code",
      "source": [
        "# cat_model_hdl = CatBoostClassifier(**study.best_trial.params)"
      ],
      "metadata": {
        "id": "yN9M3KnUZ0cl"
      },
      "id": "yN9M3KnUZ0cl",
      "execution_count": 41,
      "outputs": []
    },
    {
      "cell_type": "code",
      "source": [
        "# # Cholesterol hdl\n",
        "# cat_hdl = cat_model_hdl.fit(df_trainu,y_hdl_cholesterol_human)\n",
        "# hdl_cholesterol_human = cat_hdl.predict(X_testu)\n",
        "# test['hdl_cholesterol_human'] = hdl_cholesterol_human.astype(str)\n",
        "# test['hdl_cholesterol_human'] = test['hdl_cholesterol_human'].replace(reverse_mapping)\n",
        "# test['hdl_cholesterol_human'].value_counts()"
      ],
      "metadata": {
        "id": "4NoyJaT2fF4-"
      },
      "id": "4NoyJaT2fF4-",
      "execution_count": 42,
      "outputs": []
    },
    {
      "cell_type": "code",
      "source": [
        "# # Heamoglobin\n",
        "# X = df_trainu\n",
        "# y = y_hemoglobin_hgb_human\n",
        "\n",
        "# study = optuna.create_study(sampler=TPESampler(), direction=\"maximize\")\n",
        "# study.optimize(objective, n_trials=10, timeout=600) # Run for 10 minutes\n",
        "# print(\"Number of completed trials: {}\".format(len(study.trials)))\n",
        "# print(\"Best trial:\")\n",
        "# trial = study.best_trial\n",
        "\n",
        "# print(\"\\tBest Score: {}\".format(trial.value))\n",
        "# print(\"\\tBest Params: \")\n",
        "# for key, value in trial.params.items():\n",
        "#     print(\"    {}: {}\".format(key, value))"
      ],
      "metadata": {
        "id": "toxfsy-LirbD"
      },
      "id": "toxfsy-LirbD",
      "execution_count": 43,
      "outputs": []
    },
    {
      "cell_type": "code",
      "source": [
        "# cat_model_hgb = CatBoostClassifier(**study.best_trial.params)"
      ],
      "metadata": {
        "id": "cqIKpkHKjiDr"
      },
      "id": "cqIKpkHKjiDr",
      "execution_count": 44,
      "outputs": []
    },
    {
      "cell_type": "code",
      "source": [
        "# # # Heamoglobin\n",
        "# cat_hgb = cat_model_hgb.fit(df_trainu,y_hemoglobin_hgb_human)\n",
        "# hemoglobin_hgb_human = cat_hgb.predict(X_testu)\n",
        "# test['hemoglobin_hgb_human'] = hemoglobin_hgb_human.astype(str)\n",
        "# test['hemoglobin_hgb_human'] = test['hemoglobin_hgb_human'].replace(reverse_mapping)\n",
        "# test['hemoglobin_hgb_human'].value_counts()"
      ],
      "metadata": {
        "id": "c9Iy5xyui0Vm"
      },
      "id": "c9Iy5xyui0Vm",
      "execution_count": 45,
      "outputs": []
    },
    {
      "cell_type": "code",
      "execution_count": 46,
      "id": "8b48cef7",
      "metadata": {
        "id": "8b48cef7"
      },
      "outputs": [],
      "source": [
        "# from catboost import CatBoostClassifier, Pool\n",
        "# def cat_model_boost(x_train,y_train):\n",
        "#     cat_model = CatBoostClassifier(\n",
        "#     iterations=1000,\n",
        "#     loss_function='MultiClass',\n",
        "#     bootstrap_type='Bayesian',\n",
        "#     eval_metric='MultiClass',\n",
        "#     leaf_estimation_iterations=100,\n",
        "#     random_strength=0.5,\n",
        "#     depth=7,\n",
        "#     l2_leaf_reg=5,\n",
        "#     learning_rate=0.01,\n",
        "#     bagging_temperature=0.5,\n",
        "#     task_type=None,\n",
        "# )\n",
        "#     # cross validation function to find the best parameters\n",
        "#     scores = []\n",
        "#     for i in range(10):\n",
        "#         scores.append(cross_val_score(cat_model,x_train,y_train,cv=5))\n",
        "#     print(scores)\n",
        "#     print(\"The 10 times 10 fold accuracy of the catboost classifier is: \",np.average(scores))   \n",
        "#     return cat_model\n"
      ]
    },
    {
      "cell_type": "code",
      "execution_count": 47,
      "id": "d5016aca",
      "metadata": {
        "id": "d5016aca"
      },
      "outputs": [],
      "source": [
        "# Cholesterol hdl\n",
        "# cat_hdl = cat_model_boost(df_train,y_hdl_cholesterol_human)\n",
        "# hdl_cholesterol_human = cat_hdl.predict(X_test)\n",
        "# test['hdl_cholesterol_human'] = hdl_cholesterol_human.astype(str)\n",
        "# test['hdl_cholesterol_human'] = test['hdl_cholesterol_human'].replace(reverse_mapping)\n",
        "# test['hdl_cholesterol_human'].value_counts()"
      ]
    },
    {
      "cell_type": "code",
      "execution_count": 48,
      "id": "1450ed16",
      "metadata": {
        "id": "1450ed16"
      },
      "outputs": [],
      "source": [
        "# # Heamoglobin\n",
        "# cat_hgb = cat_model_boost(df_train,y_hdl_cholesterol_human)\n",
        "# hemoglobin_hgb_human = cat_hgb.predict(X_test)\n",
        "# test['hemoglobin_hgb_human'] = hemoglobin_hgb_human.astype(str)\n",
        "# test['hemoglobin_hgb_human'] = test['hemoglobin_hgb_human'].replace(reverse_mapping)\n",
        "# test['hemoglobin_hgb_human'].value_counts()"
      ]
    },
    {
      "cell_type": "markdown",
      "id": "5e1ca23a",
      "metadata": {
        "id": "5e1ca23a"
      },
      "source": [
        "Catboost with scaled data gave a score of 0.46, with a learning rat of 0.01, it improved the score to 0.49. Maximum gotten with catboost on scaled data is 0.55. Catboost with unscaled data:0.547945"
      ]
    },
    {
      "cell_type": "markdown",
      "source": [
        "#### XBNET"
      ],
      "metadata": {
        "id": "WVqMh08yi0qC"
      },
      "id": "WVqMh08yi0qC"
    },
    {
      "cell_type": "code",
      "source": [
        "!pip install --upgrade git+https://github.com/tusharsarkar3/XBNet.git"
      ],
      "metadata": {
        "colab": {
          "base_uri": "https://localhost:8080/"
        },
        "id": "pn2ga-QUi4VV",
        "outputId": "e78e4146-5ace-4615-98e5-73cab973d202"
      },
      "id": "pn2ga-QUi4VV",
      "execution_count": 49,
      "outputs": [
        {
          "output_type": "stream",
          "name": "stdout",
          "text": [
            "Collecting git+https://github.com/tusharsarkar3/XBNet.git\n",
            "  Cloning https://github.com/tusharsarkar3/XBNet.git to /tmp/pip-req-build-o2k2zxnp\n",
            "  Running command git clone -q https://github.com/tusharsarkar3/XBNet.git /tmp/pip-req-build-o2k2zxnp\n",
            "Requirement already satisfied: sklearn==0.0 in /usr/local/lib/python3.7/dist-packages (from XBNet==1.4.6) (0.0)\n",
            "Requirement already satisfied: numpy==1.21.2 in /usr/local/lib/python3.7/dist-packages (from XBNet==1.4.6) (1.21.2)\n",
            "Requirement already satisfied: pandas==1.3.3 in /usr/local/lib/python3.7/dist-packages (from XBNet==1.4.6) (1.3.3)\n",
            "Requirement already satisfied: matplotlib==3.4.3 in /usr/local/lib/python3.7/dist-packages (from XBNet==1.4.6) (3.4.3)\n",
            "Requirement already satisfied: torch==1.9.0 in /usr/local/lib/python3.7/dist-packages (from XBNet==1.4.6) (1.9.0)\n",
            "Requirement already satisfied: xgboost==1.4.2 in /usr/local/lib/python3.7/dist-packages (from XBNet==1.4.6) (1.4.2)\n",
            "Requirement already satisfied: tqdm==4.62.2 in /usr/local/lib/python3.7/dist-packages (from XBNet==1.4.6) (4.62.2)\n",
            "Requirement already satisfied: python-dateutil>=2.7 in /usr/local/lib/python3.7/dist-packages (from matplotlib==3.4.3->XBNet==1.4.6) (2.8.2)\n",
            "Requirement already satisfied: kiwisolver>=1.0.1 in /usr/local/lib/python3.7/dist-packages (from matplotlib==3.4.3->XBNet==1.4.6) (1.3.2)\n",
            "Requirement already satisfied: pillow>=6.2.0 in /usr/local/lib/python3.7/dist-packages (from matplotlib==3.4.3->XBNet==1.4.6) (7.1.2)\n",
            "Requirement already satisfied: pyparsing>=2.2.1 in /usr/local/lib/python3.7/dist-packages (from matplotlib==3.4.3->XBNet==1.4.6) (3.0.7)\n",
            "Requirement already satisfied: cycler>=0.10 in /usr/local/lib/python3.7/dist-packages (from matplotlib==3.4.3->XBNet==1.4.6) (0.11.0)\n",
            "Requirement already satisfied: pytz>=2017.3 in /usr/local/lib/python3.7/dist-packages (from pandas==1.3.3->XBNet==1.4.6) (2018.9)\n",
            "Requirement already satisfied: scikit-learn in /usr/local/lib/python3.7/dist-packages (from sklearn==0.0->XBNet==1.4.6) (1.0.2)\n",
            "Requirement already satisfied: typing-extensions in /usr/local/lib/python3.7/dist-packages (from torch==1.9.0->XBNet==1.4.6) (3.10.0.2)\n",
            "Requirement already satisfied: scipy in /usr/local/lib/python3.7/dist-packages (from xgboost==1.4.2->XBNet==1.4.6) (1.4.1)\n",
            "Requirement already satisfied: six>=1.5 in /usr/local/lib/python3.7/dist-packages (from python-dateutil>=2.7->matplotlib==3.4.3->XBNet==1.4.6) (1.15.0)\n",
            "Requirement already satisfied: joblib>=0.11 in /usr/local/lib/python3.7/dist-packages (from scikit-learn->sklearn==0.0->XBNet==1.4.6) (1.1.0)\n",
            "Requirement already satisfied: threadpoolctl>=2.0.0 in /usr/local/lib/python3.7/dist-packages (from scikit-learn->sklearn==0.0->XBNet==1.4.6) (3.1.0)\n"
          ]
        }
      ]
    },
    {
      "cell_type": "code",
      "source": [
        "import torch\n",
        "from XBNet.training_utils import training,predict\n",
        "from XBNet.models import XBNETClassifier\n",
        "from XBNet.run import run_XBNET\n",
        "from sklearn.model_selection import train_test_split\n",
        "from imblearn.over_sampling import SMOTE"
      ],
      "metadata": {
        "id": "3Za6N_sdi7CT"
      },
      "id": "3Za6N_sdi7CT",
      "execution_count": 87,
      "outputs": []
    },
    {
      "cell_type": "code",
      "source": [
        "def xbnet_model(X,y,num_layers,lr):\n",
        "  x_train,x_test,y_train,y_test = train_test_split(X,y,test_size= 0.3, random_state= True)\n",
        "  model = XBNETClassifier(x_train,y_train, num_layers=2)\n",
        "  criterion = torch.nn.CrossEntropyLoss()\n",
        "  optimizer = torch.optim.Adam(model.parameters(), lr=0.01)\n",
        "  m,acc, lo, val_ac, val_lo = run_XBNET(x_train.values,x_test.values,y_train.values,y_test.values,model,criterion,optimizer,epochs=100,batch_size=32)\n",
        "  return m\n"
      ],
      "metadata": {
        "id": "qJKPXeDq6oLg"
      },
      "id": "qJKPXeDq6oLg",
      "execution_count": 88,
      "outputs": []
    },
    {
      "cell_type": "code",
      "source": [
        "# LDL\n",
        "m_ldl = xbnet_model(df_trainu,y_cholesterol_ldl_human,2,0.01)\n",
        "# Cholesterol ldl\n",
        "cholesterol_ldl_human = predict(m_ldl,X_testu.to_numpy())\n",
        "test['cholesterol_ldl_human'] = cholesterol_ldl_human.astype(str)\n",
        "test['cholesterol_ldl_human'] = test['cholesterol_ldl_human'].replace(reverse_mapping)\n",
        "test['cholesterol_ldl_human'].value_counts()"
      ],
      "metadata": {
        "colab": {
          "base_uri": "https://localhost:8080/",
          "height": 1000
        },
        "id": "OqvIOz-gjBy0",
        "outputId": "70b508ca-7102-4f2f-ac55-76aaa52e04ae"
      },
      "id": "OqvIOz-gjBy0",
      "execution_count": 89,
      "outputs": [
        {
          "name": "stdout",
          "output_type": "stream",
          "text": [
            "Enter dimensions of linear layers: \n",
            "Enter input dimensions of layer 1: 10\n",
            "Enter output dimensions of layer 1: 10\n",
            "Set bias as True or False: False\n",
            "Enter input dimensions of layer 2: 10\n",
            "Enter output dimensions of layer 2: 10\n",
            "Set bias as True or False: False\n",
            "Enter your last layer \n",
            "1. Sigmoid \n",
            "2. Softmax \n",
            "3. None \n",
            "3\n"
          ]
        },
        {
          "output_type": "stream",
          "name": "stderr",
          "text": [
            "\rPercentage training completed:   0%|          | 0/100 [00:00<?, ?it/s]"
          ]
        },
        {
          "output_type": "stream",
          "name": "stdout",
          "text": [
            "[16:18:48] WARNING: ../src/learner.cc:573: \n",
            "Parameters: { \"scale_pos_weight\" } might not be used.\n",
            "\n",
            "  This may not be accurate due to some parameters are only used in language bindings but\n",
            "  passed down to XGBoost core.  Or some parameters are not used but slip through this\n",
            "  verification. Please open an issue if you find above cases.\n",
            "\n",
            "\n"
          ]
        },
        {
          "output_type": "stream",
          "name": "stderr",
          "text": [
            "\rPercentage training completed:   1%|          | 1/100 [00:00<00:59,  1.68it/s]"
          ]
        },
        {
          "output_type": "stream",
          "name": "stdout",
          "text": [
            "Training Loss after epoch 1 is 2.068521812558174 and Accuracy is 50.0\n",
            "Validation Loss after epoch 1 is 1.0100823640823364 and Accuracy is 51.401869158878505\n"
          ]
        },
        {
          "output_type": "stream",
          "name": "stderr",
          "text": [
            "\rPercentage training completed:   2%|▏         | 2/100 [00:01<00:55,  1.76it/s]"
          ]
        },
        {
          "output_type": "stream",
          "name": "stdout",
          "text": [
            "Training Loss after epoch 2 is 1.2371638715267181 and Accuracy is 54.03225806451613\n",
            "Validation Loss after epoch 2 is 0.8012718558311462 and Accuracy is 51.401869158878505\n"
          ]
        },
        {
          "output_type": "stream",
          "name": "stderr",
          "text": [
            "\rPercentage training completed:   3%|▎         | 3/100 [00:01<00:54,  1.77it/s]"
          ]
        },
        {
          "output_type": "stream",
          "name": "stdout",
          "text": [
            "Training Loss after epoch 3 is 1.0347154214978218 and Accuracy is 54.03225806451613\n",
            "Validation Loss after epoch 3 is 0.7833407521247864 and Accuracy is 51.401869158878505\n"
          ]
        },
        {
          "output_type": "stream",
          "name": "stderr",
          "text": [
            "\rPercentage training completed:   4%|▍         | 4/100 [00:02<00:52,  1.81it/s]"
          ]
        },
        {
          "output_type": "stream",
          "name": "stdout",
          "text": [
            "Training Loss after epoch 4 is 0.8975458890199661 and Accuracy is 56.45161290322581\n",
            "Validation Loss after epoch 4 is 0.8928855657577515 and Accuracy is 51.401869158878505\n"
          ]
        },
        {
          "output_type": "stream",
          "name": "stderr",
          "text": [
            "\rPercentage training completed:   5%|▌         | 5/100 [00:02<00:51,  1.84it/s]"
          ]
        },
        {
          "output_type": "stream",
          "name": "stdout",
          "text": [
            "Training Loss after epoch 5 is 0.939266599714756 and Accuracy is 57.66129032258065\n",
            "Validation Loss after epoch 5 is 0.771880030632019 and Accuracy is 51.401869158878505\n"
          ]
        },
        {
          "output_type": "stream",
          "name": "stderr",
          "text": [
            "\rPercentage training completed:   6%|▌         | 6/100 [00:03<00:50,  1.88it/s]"
          ]
        },
        {
          "output_type": "stream",
          "name": "stdout",
          "text": [
            "Training Loss after epoch 6 is 0.8554546907544136 and Accuracy is 55.24193548387097\n",
            "Validation Loss after epoch 6 is 0.8776611089706421 and Accuracy is 51.401869158878505\n"
          ]
        },
        {
          "output_type": "stream",
          "name": "stderr",
          "text": [
            "\rPercentage training completed:   7%|▋         | 7/100 [00:03<00:49,  1.88it/s]"
          ]
        },
        {
          "output_type": "stream",
          "name": "stdout",
          "text": [
            "Training Loss after epoch 7 is 0.907430924475193 and Accuracy is 58.46774193548387\n",
            "Validation Loss after epoch 7 is 0.7710525393486023 and Accuracy is 51.401869158878505\n"
          ]
        },
        {
          "output_type": "stream",
          "name": "stderr",
          "text": [
            "\rPercentage training completed:   8%|▊         | 8/100 [00:05<01:11,  1.29it/s]"
          ]
        },
        {
          "output_type": "stream",
          "name": "stdout",
          "text": [
            "Training Loss after epoch 8 is 0.8515268415212631 and Accuracy is 57.25806451612903\n",
            "Validation Loss after epoch 8 is 0.8320487141609192 and Accuracy is 51.401869158878505\n"
          ]
        },
        {
          "output_type": "stream",
          "name": "stderr",
          "text": [
            "\rPercentage training completed:   9%|▉         | 9/100 [00:05<01:03,  1.44it/s]"
          ]
        },
        {
          "output_type": "stream",
          "name": "stdout",
          "text": [
            "Training Loss after epoch 9 is 0.885643370449543 and Accuracy is 56.854838709677416\n",
            "Validation Loss after epoch 9 is 0.7697948813438416 and Accuracy is 51.401869158878505\n"
          ]
        },
        {
          "output_type": "stream",
          "name": "stderr",
          "text": [
            "\rPercentage training completed:  10%|█         | 10/100 [00:06<00:57,  1.55it/s]"
          ]
        },
        {
          "output_type": "stream",
          "name": "stdout",
          "text": [
            "Training Loss after epoch 10 is 0.8547000512480736 and Accuracy is 56.45161290322581\n",
            "Validation Loss after epoch 10 is 0.7996747493743896 and Accuracy is 51.401869158878505\n"
          ]
        },
        {
          "output_type": "stream",
          "name": "stderr",
          "text": [
            "\rPercentage training completed:  11%|█         | 11/100 [00:06<00:53,  1.66it/s]"
          ]
        },
        {
          "output_type": "stream",
          "name": "stdout",
          "text": [
            "Training Loss after epoch 11 is 0.8698028326034546 and Accuracy is 57.66129032258065\n",
            "Validation Loss after epoch 11 is 0.7780576944351196 and Accuracy is 51.401869158878505\n"
          ]
        },
        {
          "output_type": "stream",
          "name": "stderr",
          "text": [
            "\rPercentage training completed:  12%|█▏        | 12/100 [00:07<00:50,  1.73it/s]"
          ]
        },
        {
          "output_type": "stream",
          "name": "stdout",
          "text": [
            "Training Loss after epoch 12 is 0.8608500957489014 and Accuracy is 57.66129032258065\n",
            "Validation Loss after epoch 12 is 0.7840126752853394 and Accuracy is 51.401869158878505\n"
          ]
        },
        {
          "output_type": "stream",
          "name": "stderr",
          "text": [
            "\rPercentage training completed:  13%|█▎        | 13/100 [00:07<00:48,  1.80it/s]"
          ]
        },
        {
          "output_type": "stream",
          "name": "stdout",
          "text": [
            "Training Loss after epoch 13 is 0.8623284250497818 and Accuracy is 58.46774193548387\n",
            "Validation Loss after epoch 13 is 0.7844436168670654 and Accuracy is 51.401869158878505\n"
          ]
        },
        {
          "output_type": "stream",
          "name": "stderr",
          "text": [
            "\rPercentage training completed:  14%|█▍        | 14/100 [00:08<00:47,  1.82it/s]"
          ]
        },
        {
          "output_type": "stream",
          "name": "stdout",
          "text": [
            "Training Loss after epoch 14 is 0.864056296646595 and Accuracy is 58.064516129032256\n",
            "Validation Loss after epoch 14 is 0.7794836163520813 and Accuracy is 51.401869158878505\n"
          ]
        },
        {
          "output_type": "stream",
          "name": "stderr",
          "text": [
            "\rPercentage training completed:  15%|█▌        | 15/100 [00:08<00:45,  1.88it/s]"
          ]
        },
        {
          "output_type": "stream",
          "name": "stdout",
          "text": [
            "Training Loss after epoch 15 is 0.8611037656664848 and Accuracy is 58.46774193548387\n",
            "Validation Loss after epoch 15 is 0.7837383151054382 and Accuracy is 51.401869158878505\n"
          ]
        },
        {
          "output_type": "stream",
          "name": "stderr",
          "text": [
            "\rPercentage training completed:  16%|█▌        | 16/100 [00:09<00:43,  1.92it/s]"
          ]
        },
        {
          "output_type": "stream",
          "name": "stdout",
          "text": [
            "Training Loss after epoch 16 is 0.8635987043380737 and Accuracy is 59.274193548387096\n",
            "Validation Loss after epoch 16 is 0.7795826196670532 and Accuracy is 51.401869158878505\n"
          ]
        },
        {
          "output_type": "stream",
          "name": "stderr",
          "text": [
            "\rPercentage training completed:  17%|█▋        | 17/100 [00:09<00:42,  1.97it/s]"
          ]
        },
        {
          "output_type": "stream",
          "name": "stdout",
          "text": [
            "Training Loss after epoch 17 is 0.8619239032268524 and Accuracy is 58.87096774193548\n",
            "Validation Loss after epoch 17 is 0.7808976173400879 and Accuracy is 52.33644859813084\n"
          ]
        },
        {
          "output_type": "stream",
          "name": "stderr",
          "text": [
            "\rPercentage training completed:  18%|█▊        | 18/100 [00:10<00:41,  1.98it/s]"
          ]
        },
        {
          "output_type": "stream",
          "name": "stdout",
          "text": [
            "Training Loss after epoch 18 is 0.8623856604099274 and Accuracy is 58.87096774193548\n",
            "Validation Loss after epoch 18 is 0.7799116969108582 and Accuracy is 52.33644859813084\n"
          ]
        },
        {
          "output_type": "stream",
          "name": "stderr",
          "text": [
            "\rPercentage training completed:  19%|█▉        | 19/100 [00:10<00:41,  1.97it/s]"
          ]
        },
        {
          "output_type": "stream",
          "name": "stdout",
          "text": [
            "Training Loss after epoch 19 is 0.8622810021042824 and Accuracy is 58.87096774193548\n",
            "Validation Loss after epoch 19 is 0.779181957244873 and Accuracy is 52.33644859813084\n"
          ]
        },
        {
          "output_type": "stream",
          "name": "stderr",
          "text": [
            "\rPercentage training completed:  20%|██        | 20/100 [00:11<00:40,  1.99it/s]"
          ]
        },
        {
          "output_type": "stream",
          "name": "stdout",
          "text": [
            "Training Loss after epoch 20 is 0.861785277724266 and Accuracy is 58.87096774193548\n",
            "Validation Loss after epoch 20 is 0.7792215943336487 and Accuracy is 52.33644859813084\n"
          ]
        },
        {
          "output_type": "stream",
          "name": "stderr",
          "text": [
            "\rPercentage training completed:  21%|██        | 21/100 [00:11<00:39,  2.01it/s]"
          ]
        },
        {
          "output_type": "stream",
          "name": "stdout",
          "text": [
            "Training Loss after epoch 21 is 0.8618891313672066 and Accuracy is 58.87096774193548\n",
            "Validation Loss after epoch 21 is 0.7784318923950195 and Accuracy is 52.33644859813084\n"
          ]
        },
        {
          "output_type": "stream",
          "name": "stderr",
          "text": [
            "\rPercentage training completed:  22%|██▏       | 22/100 [00:12<00:39,  1.96it/s]"
          ]
        },
        {
          "output_type": "stream",
          "name": "stdout",
          "text": [
            "Training Loss after epoch 22 is 0.8614734262228012 and Accuracy is 59.274193548387096\n",
            "Validation Loss after epoch 22 is 0.7782418131828308 and Accuracy is 52.33644859813084\n"
          ]
        },
        {
          "output_type": "stream",
          "name": "stderr",
          "text": [
            "\rPercentage training completed:  23%|██▎       | 23/100 [00:12<00:38,  2.00it/s]"
          ]
        },
        {
          "output_type": "stream",
          "name": "stdout",
          "text": [
            "Training Loss after epoch 23 is 0.8612943515181541 and Accuracy is 58.87096774193548\n",
            "Validation Loss after epoch 23 is 0.7778631448745728 and Accuracy is 52.33644859813084\n"
          ]
        },
        {
          "output_type": "stream",
          "name": "stderr",
          "text": [
            "\rPercentage training completed:  24%|██▍       | 24/100 [00:13<00:37,  2.01it/s]"
          ]
        },
        {
          "output_type": "stream",
          "name": "stdout",
          "text": [
            "Training Loss after epoch 24 is 0.8610504865646362 and Accuracy is 59.274193548387096\n",
            "Validation Loss after epoch 24 is 0.7774965763092041 and Accuracy is 52.33644859813084\n"
          ]
        },
        {
          "output_type": "stream",
          "name": "stderr",
          "text": [
            "\rPercentage training completed:  25%|██▌       | 25/100 [00:13<00:36,  2.04it/s]"
          ]
        },
        {
          "output_type": "stream",
          "name": "stdout",
          "text": [
            "Training Loss after epoch 25 is 0.860740602016449 and Accuracy is 58.87096774193548\n",
            "Validation Loss after epoch 25 is 0.7772725224494934 and Accuracy is 53.271028037383175\n"
          ]
        },
        {
          "output_type": "stream",
          "name": "stderr",
          "text": [
            "\rPercentage training completed:  26%|██▌       | 26/100 [00:14<00:36,  2.03it/s]"
          ]
        },
        {
          "output_type": "stream",
          "name": "stdout",
          "text": [
            "Training Loss after epoch 26 is 0.8604997545480728 and Accuracy is 58.87096774193548\n",
            "Validation Loss after epoch 26 is 0.7769719362258911 and Accuracy is 54.205607476635514\n"
          ]
        },
        {
          "output_type": "stream",
          "name": "stderr",
          "text": [
            "\rPercentage training completed:  27%|██▋       | 27/100 [00:14<00:35,  2.06it/s]"
          ]
        },
        {
          "output_type": "stream",
          "name": "stdout",
          "text": [
            "Training Loss after epoch 27 is 0.860197439789772 and Accuracy is 58.87096774193548\n",
            "Validation Loss after epoch 27 is 0.776763379573822 and Accuracy is 54.205607476635514\n"
          ]
        },
        {
          "output_type": "stream",
          "name": "stderr",
          "text": [
            "\rPercentage training completed:  28%|██▊       | 28/100 [00:15<00:35,  2.04it/s]"
          ]
        },
        {
          "output_type": "stream",
          "name": "stdout",
          "text": [
            "Training Loss after epoch 28 is 0.8599159568548203 and Accuracy is 58.87096774193548\n",
            "Validation Loss after epoch 28 is 0.7765704989433289 and Accuracy is 54.205607476635514\n"
          ]
        },
        {
          "output_type": "stream",
          "name": "stderr",
          "text": [
            "\rPercentage training completed:  29%|██▉       | 29/100 [00:15<00:34,  2.04it/s]"
          ]
        },
        {
          "output_type": "stream",
          "name": "stdout",
          "text": [
            "Training Loss after epoch 29 is 0.8596335351467133 and Accuracy is 58.87096774193548\n",
            "Validation Loss after epoch 29 is 0.7763984203338623 and Accuracy is 54.205607476635514\n"
          ]
        },
        {
          "output_type": "stream",
          "name": "stderr",
          "text": [
            "\rPercentage training completed:  30%|███       | 30/100 [00:16<00:34,  2.01it/s]"
          ]
        },
        {
          "output_type": "stream",
          "name": "stdout",
          "text": [
            "Training Loss after epoch 30 is 0.8593426123261452 and Accuracy is 58.87096774193548\n",
            "Validation Loss after epoch 30 is 0.7762804627418518 and Accuracy is 54.205607476635514\n"
          ]
        },
        {
          "output_type": "stream",
          "name": "stderr",
          "text": [
            "\rPercentage training completed:  31%|███       | 31/100 [00:16<00:33,  2.03it/s]"
          ]
        },
        {
          "output_type": "stream",
          "name": "stdout",
          "text": [
            "Training Loss after epoch 31 is 0.8590675219893456 and Accuracy is 58.87096774193548\n",
            "Validation Loss after epoch 31 is 0.7761806845664978 and Accuracy is 54.205607476635514\n"
          ]
        },
        {
          "output_type": "stream",
          "name": "stderr",
          "text": [
            "\rPercentage training completed:  32%|███▏      | 32/100 [00:17<00:33,  2.04it/s]"
          ]
        },
        {
          "output_type": "stream",
          "name": "stdout",
          "text": [
            "Training Loss after epoch 32 is 0.8587911799550056 and Accuracy is 58.87096774193548\n",
            "Validation Loss after epoch 32 is 0.7761296033859253 and Accuracy is 54.205607476635514\n"
          ]
        },
        {
          "output_type": "stream",
          "name": "stderr",
          "text": [
            "\rPercentage training completed:  33%|███▎      | 33/100 [00:17<00:32,  2.05it/s]"
          ]
        },
        {
          "output_type": "stream",
          "name": "stdout",
          "text": [
            "Training Loss after epoch 33 is 0.8585284426808357 and Accuracy is 58.87096774193548\n",
            "Validation Loss after epoch 33 is 0.7761167287826538 and Accuracy is 54.205607476635514\n"
          ]
        },
        {
          "output_type": "stream",
          "name": "stderr",
          "text": [
            "\rPercentage training completed:  34%|███▍      | 34/100 [00:18<00:32,  2.06it/s]"
          ]
        },
        {
          "output_type": "stream",
          "name": "stdout",
          "text": [
            "Training Loss after epoch 34 is 0.8582779690623283 and Accuracy is 58.87096774193548\n",
            "Validation Loss after epoch 34 is 0.7761502861976624 and Accuracy is 54.205607476635514\n"
          ]
        },
        {
          "output_type": "stream",
          "name": "stderr",
          "text": [
            "\rPercentage training completed:  35%|███▌      | 35/100 [00:18<00:31,  2.06it/s]"
          ]
        },
        {
          "output_type": "stream",
          "name": "stdout",
          "text": [
            "Training Loss after epoch 35 is 0.8580429404973984 and Accuracy is 59.274193548387096\n",
            "Validation Loss after epoch 35 is 0.7762393951416016 and Accuracy is 54.205607476635514\n"
          ]
        },
        {
          "output_type": "stream",
          "name": "stderr",
          "text": [
            "\rPercentage training completed:  36%|███▌      | 36/100 [00:19<00:31,  2.06it/s]"
          ]
        },
        {
          "output_type": "stream",
          "name": "stdout",
          "text": [
            "Training Loss after epoch 36 is 0.8578303381800652 and Accuracy is 59.67741935483871\n",
            "Validation Loss after epoch 36 is 0.7763894200325012 and Accuracy is 54.205607476635514\n"
          ]
        },
        {
          "output_type": "stream",
          "name": "stderr",
          "text": [
            "\rPercentage training completed:  37%|███▋      | 37/100 [00:19<00:30,  2.08it/s]"
          ]
        },
        {
          "output_type": "stream",
          "name": "stdout",
          "text": [
            "Training Loss after epoch 37 is 0.8576433956623077 and Accuracy is 58.87096774193548\n",
            "Validation Loss after epoch 37 is 0.7766168713569641 and Accuracy is 54.205607476635514\n"
          ]
        },
        {
          "output_type": "stream",
          "name": "stderr",
          "text": [
            "\rPercentage training completed:  38%|███▊      | 38/100 [00:19<00:29,  2.07it/s]"
          ]
        },
        {
          "output_type": "stream",
          "name": "stdout",
          "text": [
            "Training Loss after epoch 38 is 0.8574915379285812 and Accuracy is 58.46774193548387\n",
            "Validation Loss after epoch 38 is 0.7769386768341064 and Accuracy is 54.205607476635514\n"
          ]
        },
        {
          "output_type": "stream",
          "name": "stderr",
          "text": [
            "\rPercentage training completed:  39%|███▉      | 39/100 [00:20<00:29,  2.06it/s]"
          ]
        },
        {
          "output_type": "stream",
          "name": "stdout",
          "text": [
            "Training Loss after epoch 39 is 0.8573845699429512 and Accuracy is 58.46774193548387\n",
            "Validation Loss after epoch 39 is 0.777383029460907 and Accuracy is 54.205607476635514\n"
          ]
        },
        {
          "output_type": "stream",
          "name": "stderr",
          "text": [
            "\rPercentage training completed:  40%|████      | 40/100 [00:20<00:29,  2.06it/s]"
          ]
        },
        {
          "output_type": "stream",
          "name": "stdout",
          "text": [
            "Training Loss after epoch 40 is 0.8573379591107368 and Accuracy is 58.46774193548387\n",
            "Validation Loss after epoch 40 is 0.7779926657676697 and Accuracy is 54.205607476635514\n"
          ]
        },
        {
          "output_type": "stream",
          "name": "stderr",
          "text": [
            "\rPercentage training completed:  41%|████      | 41/100 [00:21<00:29,  2.02it/s]"
          ]
        },
        {
          "output_type": "stream",
          "name": "stdout",
          "text": [
            "Training Loss after epoch 41 is 0.8573745265603065 and Accuracy is 57.66129032258065\n",
            "Validation Loss after epoch 41 is 0.778834342956543 and Accuracy is 54.205607476635514\n"
          ]
        },
        {
          "output_type": "stream",
          "name": "stderr",
          "text": [
            "\rPercentage training completed:  42%|████▏     | 42/100 [00:21<00:28,  2.03it/s]"
          ]
        },
        {
          "output_type": "stream",
          "name": "stdout",
          "text": [
            "Training Loss after epoch 42 is 0.8575296998023987 and Accuracy is 56.854838709677416\n",
            "Validation Loss after epoch 42 is 0.7800207734107971 and Accuracy is 53.271028037383175\n"
          ]
        },
        {
          "output_type": "stream",
          "name": "stderr",
          "text": [
            "\rPercentage training completed:  43%|████▎     | 43/100 [00:22<00:28,  2.01it/s]"
          ]
        },
        {
          "output_type": "stream",
          "name": "stdout",
          "text": [
            "Training Loss after epoch 43 is 0.8578609451651573 and Accuracy is 57.25806451612903\n",
            "Validation Loss after epoch 43 is 0.7817509174346924 and Accuracy is 52.33644859813084\n"
          ]
        },
        {
          "output_type": "stream",
          "name": "stderr",
          "text": [
            "\rPercentage training completed:  44%|████▍     | 44/100 [00:22<00:27,  2.03it/s]"
          ]
        },
        {
          "output_type": "stream",
          "name": "stdout",
          "text": [
            "Training Loss after epoch 44 is 0.8584659993648529 and Accuracy is 56.45161290322581\n",
            "Validation Loss after epoch 44 is 0.7844051122665405 and Accuracy is 52.33644859813084\n"
          ]
        },
        {
          "output_type": "stream",
          "name": "stderr",
          "text": [
            "\rPercentage training completed:  45%|████▌     | 45/100 [00:23<00:27,  2.03it/s]"
          ]
        },
        {
          "output_type": "stream",
          "name": "stdout",
          "text": [
            "Training Loss after epoch 45 is 0.8595204576849937 and Accuracy is 56.854838709677416\n",
            "Validation Loss after epoch 45 is 0.7887714505195618 and Accuracy is 52.33644859813084\n"
          ]
        },
        {
          "output_type": "stream",
          "name": "stderr",
          "text": [
            "\rPercentage training completed:  46%|████▌     | 46/100 [00:23<00:26,  2.04it/s]"
          ]
        },
        {
          "output_type": "stream",
          "name": "stdout",
          "text": [
            "Training Loss after epoch 46 is 0.8613538891077042 and Accuracy is 57.25806451612903\n",
            "Validation Loss after epoch 46 is 0.7966464757919312 and Accuracy is 51.401869158878505\n"
          ]
        },
        {
          "output_type": "stream",
          "name": "stderr",
          "text": [
            "\rPercentage training completed:  47%|████▋     | 47/100 [00:24<00:26,  2.01it/s]"
          ]
        },
        {
          "output_type": "stream",
          "name": "stdout",
          "text": [
            "Training Loss after epoch 47 is 0.8646036684513092 and Accuracy is 58.064516129032256\n",
            "Validation Loss after epoch 47 is 0.8124816417694092 and Accuracy is 51.401869158878505\n"
          ]
        },
        {
          "output_type": "stream",
          "name": "stderr",
          "text": [
            "\rPercentage training completed:  48%|████▊     | 48/100 [00:24<00:25,  2.04it/s]"
          ]
        },
        {
          "output_type": "stream",
          "name": "stdout",
          "text": [
            "Training Loss after epoch 48 is 0.870447039604187 and Accuracy is 54.435483870967744\n",
            "Validation Loss after epoch 48 is 0.8473273515701294 and Accuracy is 51.401869158878505\n"
          ]
        },
        {
          "output_type": "stream",
          "name": "stderr",
          "text": [
            "\rPercentage training completed:  49%|████▉     | 49/100 [00:25<00:24,  2.06it/s]"
          ]
        },
        {
          "output_type": "stream",
          "name": "stdout",
          "text": [
            "Training Loss after epoch 49 is 0.880665548145771 and Accuracy is 52.82258064516129\n",
            "Validation Loss after epoch 49 is 0.9188298583030701 and Accuracy is 51.401869158878505\n"
          ]
        },
        {
          "output_type": "stream",
          "name": "stderr",
          "text": [
            "\rPercentage training completed:  50%|█████     | 50/100 [00:25<00:24,  2.07it/s]"
          ]
        },
        {
          "output_type": "stream",
          "name": "stdout",
          "text": [
            "Training Loss after epoch 50 is 0.898970827460289 and Accuracy is 51.61290322580645\n",
            "Validation Loss after epoch 50 is 0.9794409275054932 and Accuracy is 51.401869158878505\n"
          ]
        },
        {
          "output_type": "stream",
          "name": "stderr",
          "text": [
            "\rPercentage training completed:  51%|█████     | 51/100 [00:26<00:23,  2.05it/s]"
          ]
        },
        {
          "output_type": "stream",
          "name": "stdout",
          "text": [
            "Training Loss after epoch 51 is 0.9355078414082527 and Accuracy is 50.0\n",
            "Validation Loss after epoch 51 is 0.8215649724006653 and Accuracy is 51.401869158878505\n"
          ]
        },
        {
          "output_type": "stream",
          "name": "stderr",
          "text": [
            "\rPercentage training completed:  52%|█████▏    | 52/100 [00:26<00:23,  2.04it/s]"
          ]
        },
        {
          "output_type": "stream",
          "name": "stdout",
          "text": [
            "Training Loss after epoch 52 is 0.8945779800415039 and Accuracy is 54.435483870967744\n",
            "Validation Loss after epoch 52 is 0.7774776816368103 and Accuracy is 50.467289719626166\n"
          ]
        },
        {
          "output_type": "stream",
          "name": "stderr",
          "text": [
            "\rPercentage training completed:  53%|█████▎    | 53/100 [00:27<00:23,  2.03it/s]"
          ]
        },
        {
          "output_type": "stream",
          "name": "stdout",
          "text": [
            "Training Loss after epoch 53 is 0.8498330339789391 and Accuracy is 57.25806451612903\n",
            "Validation Loss after epoch 53 is 0.799530029296875 and Accuracy is 51.401869158878505\n"
          ]
        },
        {
          "output_type": "stream",
          "name": "stderr",
          "text": [
            "\rPercentage training completed:  54%|█████▍    | 54/100 [00:27<00:22,  2.05it/s]"
          ]
        },
        {
          "output_type": "stream",
          "name": "stdout",
          "text": [
            "Training Loss after epoch 54 is 0.862474262714386 and Accuracy is 56.45161290322581\n",
            "Validation Loss after epoch 54 is 0.7737454771995544 and Accuracy is 51.401869158878505\n"
          ]
        },
        {
          "output_type": "stream",
          "name": "stderr",
          "text": [
            "\rPercentage training completed:  55%|█████▌    | 55/100 [00:28<00:22,  2.04it/s]"
          ]
        },
        {
          "output_type": "stream",
          "name": "stdout",
          "text": [
            "Training Loss after epoch 55 is 0.8469672799110413 and Accuracy is 56.45161290322581\n",
            "Validation Loss after epoch 55 is 0.7920698523521423 and Accuracy is 51.401869158878505\n"
          ]
        },
        {
          "output_type": "stream",
          "name": "stderr",
          "text": [
            "\rPercentage training completed:  56%|█████▌    | 56/100 [00:28<00:21,  2.05it/s]"
          ]
        },
        {
          "output_type": "stream",
          "name": "stdout",
          "text": [
            "Training Loss after epoch 56 is 0.8554908409714699 and Accuracy is 56.45161290322581\n",
            "Validation Loss after epoch 56 is 0.7773110866546631 and Accuracy is 51.401869158878505\n"
          ]
        },
        {
          "output_type": "stream",
          "name": "stderr",
          "text": [
            "\rPercentage training completed:  57%|█████▋    | 57/100 [00:29<00:21,  2.04it/s]"
          ]
        },
        {
          "output_type": "stream",
          "name": "stdout",
          "text": [
            "Training Loss after epoch 57 is 0.8488892689347267 and Accuracy is 56.45161290322581\n",
            "Validation Loss after epoch 57 is 0.7866427898406982 and Accuracy is 51.401869158878505\n"
          ]
        },
        {
          "output_type": "stream",
          "name": "stderr",
          "text": [
            "\rPercentage training completed:  58%|█████▊    | 58/100 [00:29<00:20,  2.05it/s]"
          ]
        },
        {
          "output_type": "stream",
          "name": "stdout",
          "text": [
            "Training Loss after epoch 58 is 0.8525143265724182 and Accuracy is 56.45161290322581\n",
            "Validation Loss after epoch 58 is 0.779910147190094 and Accuracy is 51.401869158878505\n"
          ]
        },
        {
          "output_type": "stream",
          "name": "stderr",
          "text": [
            "\rPercentage training completed:  59%|█████▉    | 59/100 [00:30<00:20,  2.03it/s]"
          ]
        },
        {
          "output_type": "stream",
          "name": "stdout",
          "text": [
            "Training Loss after epoch 59 is 0.8496115803718567 and Accuracy is 56.45161290322581\n",
            "Validation Loss after epoch 59 is 0.7834840416908264 and Accuracy is 51.401869158878505\n"
          ]
        },
        {
          "output_type": "stream",
          "name": "stderr",
          "text": [
            "\rPercentage training completed:  60%|██████    | 60/100 [00:30<00:19,  2.07it/s]"
          ]
        },
        {
          "output_type": "stream",
          "name": "stdout",
          "text": [
            "Training Loss after epoch 60 is 0.8512746244668961 and Accuracy is 56.45161290322581\n",
            "Validation Loss after epoch 60 is 0.7808949947357178 and Accuracy is 51.401869158878505\n"
          ]
        },
        {
          "output_type": "stream",
          "name": "stderr",
          "text": [
            "\rPercentage training completed:  61%|██████    | 61/100 [00:31<00:18,  2.06it/s]"
          ]
        },
        {
          "output_type": "stream",
          "name": "stdout",
          "text": [
            "Training Loss after epoch 61 is 0.8499208018183708 and Accuracy is 56.45161290322581\n",
            "Validation Loss after epoch 61 is 0.7822290658950806 and Accuracy is 51.401869158878505\n"
          ]
        },
        {
          "output_type": "stream",
          "name": "stderr",
          "text": [
            "\rPercentage training completed:  62%|██████▏   | 62/100 [00:31<00:18,  2.08it/s]"
          ]
        },
        {
          "output_type": "stream",
          "name": "stdout",
          "text": [
            "Training Loss after epoch 62 is 0.8505790308117867 and Accuracy is 56.45161290322581\n",
            "Validation Loss after epoch 62 is 0.7808891534805298 and Accuracy is 51.401869158878505\n"
          ]
        },
        {
          "output_type": "stream",
          "name": "stderr",
          "text": [
            "\rPercentage training completed:  63%|██████▎   | 63/100 [00:32<00:18,  2.04it/s]"
          ]
        },
        {
          "output_type": "stream",
          "name": "stdout",
          "text": [
            "Training Loss after epoch 63 is 0.8499622792005539 and Accuracy is 56.45161290322581\n",
            "Validation Loss after epoch 63 is 0.7815855145454407 and Accuracy is 51.401869158878505\n"
          ]
        },
        {
          "output_type": "stream",
          "name": "stderr",
          "text": [
            "\rPercentage training completed:  64%|██████▍   | 64/100 [00:32<00:17,  2.08it/s]"
          ]
        },
        {
          "output_type": "stream",
          "name": "stdout",
          "text": [
            "Training Loss after epoch 64 is 0.8502476587891579 and Accuracy is 56.45161290322581\n",
            "Validation Loss after epoch 64 is 0.7807999849319458 and Accuracy is 51.401869158878505\n"
          ]
        },
        {
          "output_type": "stream",
          "name": "stderr",
          "text": [
            "\rPercentage training completed:  65%|██████▌   | 65/100 [00:33<00:16,  2.08it/s]"
          ]
        },
        {
          "output_type": "stream",
          "name": "stdout",
          "text": [
            "Training Loss after epoch 65 is 0.8498930037021637 and Accuracy is 56.45161290322581\n",
            "Validation Loss after epoch 65 is 0.7810013294219971 and Accuracy is 51.401869158878505\n"
          ]
        },
        {
          "output_type": "stream",
          "name": "stderr",
          "text": [
            "\rPercentage training completed:  66%|██████▌   | 66/100 [00:33<00:16,  2.07it/s]"
          ]
        },
        {
          "output_type": "stream",
          "name": "stdout",
          "text": [
            "Training Loss after epoch 66 is 0.8499928936362267 and Accuracy is 56.45161290322581\n",
            "Validation Loss after epoch 66 is 0.7806479930877686 and Accuracy is 51.401869158878505\n"
          ]
        },
        {
          "output_type": "stream",
          "name": "stderr",
          "text": [
            "\rPercentage training completed:  67%|██████▋   | 67/100 [00:34<00:16,  2.02it/s]"
          ]
        },
        {
          "output_type": "stream",
          "name": "stdout",
          "text": [
            "Training Loss after epoch 67 is 0.8498278707265854 and Accuracy is 56.04838709677419\n",
            "Validation Loss after epoch 67 is 0.7806380987167358 and Accuracy is 51.401869158878505\n"
          ]
        },
        {
          "output_type": "stream",
          "name": "stderr",
          "text": [
            "\rPercentage training completed:  68%|██████▊   | 68/100 [00:34<00:16,  1.98it/s]"
          ]
        },
        {
          "output_type": "stream",
          "name": "stdout",
          "text": [
            "Training Loss after epoch 68 is 0.8498300537467003 and Accuracy is 56.04838709677419\n",
            "Validation Loss after epoch 68 is 0.7803924083709717 and Accuracy is 51.401869158878505\n"
          ]
        },
        {
          "output_type": "stream",
          "name": "stderr",
          "text": [
            "\rPercentage training completed:  69%|██████▉   | 69/100 [00:35<00:15,  2.05it/s]"
          ]
        },
        {
          "output_type": "stream",
          "name": "stdout",
          "text": [
            "Training Loss after epoch 69 is 0.8497271314263344 and Accuracy is 56.04838709677419\n",
            "Validation Loss after epoch 69 is 0.7803432941436768 and Accuracy is 51.401869158878505\n"
          ]
        },
        {
          "output_type": "stream",
          "name": "stderr",
          "text": [
            "\rPercentage training completed:  70%|███████   | 70/100 [00:35<00:14,  2.03it/s]"
          ]
        },
        {
          "output_type": "stream",
          "name": "stdout",
          "text": [
            "Training Loss after epoch 70 is 0.8497133031487465 and Accuracy is 56.04838709677419\n",
            "Validation Loss after epoch 70 is 0.7801743745803833 and Accuracy is 51.401869158878505\n"
          ]
        },
        {
          "output_type": "stream",
          "name": "stderr",
          "text": [
            "\rPercentage training completed:  71%|███████   | 71/100 [00:36<00:14,  2.04it/s]"
          ]
        },
        {
          "output_type": "stream",
          "name": "stdout",
          "text": [
            "Training Loss after epoch 71 is 0.84964669495821 and Accuracy is 56.04838709677419\n",
            "Validation Loss after epoch 71 is 0.7800775170326233 and Accuracy is 51.401869158878505\n"
          ]
        },
        {
          "output_type": "stream",
          "name": "stderr",
          "text": [
            "\rPercentage training completed:  72%|███████▏  | 72/100 [00:36<00:13,  2.05it/s]"
          ]
        },
        {
          "output_type": "stream",
          "name": "stdout",
          "text": [
            "Training Loss after epoch 72 is 0.8496140986680984 and Accuracy is 56.04838709677419\n",
            "Validation Loss after epoch 72 is 0.7799488306045532 and Accuracy is 51.401869158878505\n"
          ]
        },
        {
          "output_type": "stream",
          "name": "stderr",
          "text": [
            "\rPercentage training completed:  73%|███████▎  | 73/100 [00:37<00:12,  2.08it/s]"
          ]
        },
        {
          "output_type": "stream",
          "name": "stdout",
          "text": [
            "Training Loss after epoch 73 is 0.8495676964521408 and Accuracy is 56.04838709677419\n",
            "Validation Loss after epoch 73 is 0.7798506021499634 and Accuracy is 51.401869158878505\n"
          ]
        },
        {
          "output_type": "stream",
          "name": "stderr",
          "text": [
            "\rPercentage training completed:  74%|███████▍  | 74/100 [00:37<00:12,  2.08it/s]"
          ]
        },
        {
          "output_type": "stream",
          "name": "stdout",
          "text": [
            "Training Loss after epoch 74 is 0.8495352044701576 and Accuracy is 56.04838709677419\n",
            "Validation Loss after epoch 74 is 0.7797353267669678 and Accuracy is 51.401869158878505\n"
          ]
        },
        {
          "output_type": "stream",
          "name": "stderr",
          "text": [
            "\rPercentage training completed:  75%|███████▌  | 75/100 [00:38<00:11,  2.10it/s]"
          ]
        },
        {
          "output_type": "stream",
          "name": "stdout",
          "text": [
            "Training Loss after epoch 75 is 0.8494953736662865 and Accuracy is 56.04838709677419\n",
            "Validation Loss after epoch 75 is 0.7796329855918884 and Accuracy is 51.401869158878505\n"
          ]
        },
        {
          "output_type": "stream",
          "name": "stderr",
          "text": [
            "\rPercentage training completed:  76%|███████▌  | 76/100 [00:38<00:11,  2.09it/s]"
          ]
        },
        {
          "output_type": "stream",
          "name": "stdout",
          "text": [
            "Training Loss after epoch 76 is 0.84946109354496 and Accuracy is 56.04838709677419\n",
            "Validation Loss after epoch 76 is 0.7795284986495972 and Accuracy is 51.401869158878505\n"
          ]
        },
        {
          "output_type": "stream",
          "name": "stderr",
          "text": [
            "\rPercentage training completed:  77%|███████▋  | 77/100 [00:39<00:11,  2.08it/s]"
          ]
        },
        {
          "output_type": "stream",
          "name": "stdout",
          "text": [
            "Training Loss after epoch 77 is 0.8494258970022202 and Accuracy is 56.45161290322581\n",
            "Validation Loss after epoch 77 is 0.7794275879859924 and Accuracy is 51.401869158878505\n"
          ]
        },
        {
          "output_type": "stream",
          "name": "stderr",
          "text": [
            "\rPercentage training completed:  78%|███████▊  | 78/100 [00:39<00:10,  2.06it/s]"
          ]
        },
        {
          "output_type": "stream",
          "name": "stdout",
          "text": [
            "Training Loss after epoch 78 is 0.8493916317820549 and Accuracy is 56.45161290322581\n",
            "Validation Loss after epoch 78 is 0.7793257832527161 and Accuracy is 51.401869158878505\n"
          ]
        },
        {
          "output_type": "stream",
          "name": "stderr",
          "text": [
            "\rPercentage training completed:  79%|███████▉  | 79/100 [00:39<00:10,  2.08it/s]"
          ]
        },
        {
          "output_type": "stream",
          "name": "stdout",
          "text": [
            "Training Loss after epoch 79 is 0.8493565917015076 and Accuracy is 56.45161290322581\n",
            "Validation Loss after epoch 79 is 0.7792251706123352 and Accuracy is 51.401869158878505\n"
          ]
        },
        {
          "output_type": "stream",
          "name": "stderr",
          "text": [
            "\rPercentage training completed:  80%|████████  | 80/100 [00:40<00:09,  2.09it/s]"
          ]
        },
        {
          "output_type": "stream",
          "name": "stdout",
          "text": [
            "Training Loss after epoch 80 is 0.8493214249610901 and Accuracy is 56.45161290322581\n",
            "Validation Loss after epoch 80 is 0.7791251540184021 and Accuracy is 51.401869158878505\n"
          ]
        },
        {
          "output_type": "stream",
          "name": "stderr",
          "text": [
            "\rPercentage training completed:  81%|████████  | 81/100 [00:40<00:09,  2.09it/s]"
          ]
        },
        {
          "output_type": "stream",
          "name": "stdout",
          "text": [
            "Training Loss after epoch 81 is 0.8492859676480293 and Accuracy is 56.45161290322581\n",
            "Validation Loss after epoch 81 is 0.7790247797966003 and Accuracy is 51.401869158878505\n"
          ]
        },
        {
          "output_type": "stream",
          "name": "stderr",
          "text": [
            "\rPercentage training completed:  82%|████████▏ | 82/100 [00:41<00:08,  2.09it/s]"
          ]
        },
        {
          "output_type": "stream",
          "name": "stdout",
          "text": [
            "Training Loss after epoch 82 is 0.8492495715618134 and Accuracy is 56.45161290322581\n",
            "Validation Loss after epoch 82 is 0.7789245247840881 and Accuracy is 51.401869158878505\n"
          ]
        },
        {
          "output_type": "stream",
          "name": "stderr",
          "text": [
            "\rPercentage training completed:  83%|████████▎ | 83/100 [00:41<00:08,  2.08it/s]"
          ]
        },
        {
          "output_type": "stream",
          "name": "stdout",
          "text": [
            "Training Loss after epoch 83 is 0.8492126315832138 and Accuracy is 56.45161290322581\n",
            "Validation Loss after epoch 83 is 0.778823971748352 and Accuracy is 51.401869158878505\n"
          ]
        },
        {
          "output_type": "stream",
          "name": "stderr",
          "text": [
            "\rPercentage training completed:  84%|████████▍ | 84/100 [00:42<00:07,  2.09it/s]"
          ]
        },
        {
          "output_type": "stream",
          "name": "stdout",
          "text": [
            "Training Loss after epoch 84 is 0.8491747453808784 and Accuracy is 56.04838709677419\n",
            "Validation Loss after epoch 84 is 0.7787232398986816 and Accuracy is 51.401869158878505\n"
          ]
        },
        {
          "output_type": "stream",
          "name": "stderr",
          "text": [
            "\rPercentage training completed:  85%|████████▌ | 85/100 [00:42<00:07,  2.05it/s]"
          ]
        },
        {
          "output_type": "stream",
          "name": "stdout",
          "text": [
            "Training Loss after epoch 85 is 0.8491362258791924 and Accuracy is 56.04838709677419\n",
            "Validation Loss after epoch 85 is 0.7786220908164978 and Accuracy is 51.401869158878505\n"
          ]
        },
        {
          "output_type": "stream",
          "name": "stderr",
          "text": [
            "\rPercentage training completed:  86%|████████▌ | 86/100 [00:43<00:06,  2.08it/s]"
          ]
        },
        {
          "output_type": "stream",
          "name": "stdout",
          "text": [
            "Training Loss after epoch 86 is 0.8490967974066734 and Accuracy is 56.04838709677419\n",
            "Validation Loss after epoch 86 is 0.7785210609436035 and Accuracy is 52.33644859813084\n"
          ]
        },
        {
          "output_type": "stream",
          "name": "stderr",
          "text": [
            "\rPercentage training completed:  87%|████████▋ | 87/100 [00:43<00:06,  2.09it/s]"
          ]
        },
        {
          "output_type": "stream",
          "name": "stdout",
          "text": [
            "Training Loss after epoch 87 is 0.8490567579865456 and Accuracy is 56.04838709677419\n",
            "Validation Loss after epoch 87 is 0.7784194946289062 and Accuracy is 52.33644859813084\n"
          ]
        },
        {
          "output_type": "stream",
          "name": "stderr",
          "text": [
            "\rPercentage training completed:  88%|████████▊ | 88/100 [00:44<00:05,  2.09it/s]"
          ]
        },
        {
          "output_type": "stream",
          "name": "stdout",
          "text": [
            "Training Loss after epoch 88 is 0.8490160629153252 and Accuracy is 56.04838709677419\n",
            "Validation Loss after epoch 88 is 0.7783180475234985 and Accuracy is 52.33644859813084\n"
          ]
        },
        {
          "output_type": "stream",
          "name": "stderr",
          "text": [
            "\rPercentage training completed:  89%|████████▉ | 89/100 [00:44<00:05,  2.08it/s]"
          ]
        },
        {
          "output_type": "stream",
          "name": "stdout",
          "text": [
            "Training Loss after epoch 89 is 0.8489748239517212 and Accuracy is 56.04838709677419\n",
            "Validation Loss after epoch 89 is 0.7782166600227356 and Accuracy is 52.33644859813084\n"
          ]
        },
        {
          "output_type": "stream",
          "name": "stderr",
          "text": [
            "\rPercentage training completed:  90%|█████████ | 90/100 [00:45<00:04,  2.09it/s]"
          ]
        },
        {
          "output_type": "stream",
          "name": "stdout",
          "text": [
            "Training Loss after epoch 90 is 0.8489330932497978 and Accuracy is 56.04838709677419\n",
            "Validation Loss after epoch 90 is 0.7781151533126831 and Accuracy is 52.33644859813084\n"
          ]
        },
        {
          "output_type": "stream",
          "name": "stderr",
          "text": [
            "\rPercentage training completed:  91%|█████████ | 91/100 [00:45<00:04,  2.07it/s]"
          ]
        },
        {
          "output_type": "stream",
          "name": "stdout",
          "text": [
            "Training Loss after epoch 91 is 0.8488909900188446 and Accuracy is 56.04838709677419\n",
            "Validation Loss after epoch 91 is 0.7780139446258545 and Accuracy is 52.33644859813084\n"
          ]
        },
        {
          "output_type": "stream",
          "name": "stderr",
          "text": [
            "\rPercentage training completed:  92%|█████████▏| 92/100 [00:46<00:03,  2.08it/s]"
          ]
        },
        {
          "output_type": "stream",
          "name": "stdout",
          "text": [
            "Training Loss after epoch 92 is 0.8488486036658287 and Accuracy is 56.04838709677419\n",
            "Validation Loss after epoch 92 is 0.777912974357605 and Accuracy is 52.33644859813084\n"
          ]
        },
        {
          "output_type": "stream",
          "name": "stderr",
          "text": [
            "\rPercentage training completed:  93%|█████████▎| 93/100 [00:46<00:03,  2.07it/s]"
          ]
        },
        {
          "output_type": "stream",
          "name": "stdout",
          "text": [
            "Training Loss after epoch 93 is 0.8488060086965561 and Accuracy is 56.04838709677419\n",
            "Validation Loss after epoch 93 is 0.7778125405311584 and Accuracy is 52.33644859813084\n"
          ]
        },
        {
          "output_type": "stream",
          "name": "stderr",
          "text": [
            "\rPercentage training completed:  94%|█████████▍| 94/100 [00:47<00:02,  2.08it/s]"
          ]
        },
        {
          "output_type": "stream",
          "name": "stdout",
          "text": [
            "Training Loss after epoch 94 is 0.8487632274627686 and Accuracy is 56.04838709677419\n",
            "Validation Loss after epoch 94 is 0.7777125835418701 and Accuracy is 52.33644859813084\n"
          ]
        },
        {
          "output_type": "stream",
          "name": "stderr",
          "text": [
            "\rPercentage training completed:  95%|█████████▌| 95/100 [00:47<00:02,  2.05it/s]"
          ]
        },
        {
          "output_type": "stream",
          "name": "stdout",
          "text": [
            "Training Loss after epoch 95 is 0.848720483481884 and Accuracy is 56.04838709677419\n",
            "Validation Loss after epoch 95 is 0.7776130437850952 and Accuracy is 52.33644859813084\n"
          ]
        },
        {
          "output_type": "stream",
          "name": "stderr",
          "text": [
            "\rPercentage training completed:  96%|█████████▌| 96/100 [00:48<00:01,  2.06it/s]"
          ]
        },
        {
          "output_type": "stream",
          "name": "stdout",
          "text": [
            "Training Loss after epoch 96 is 0.848677784204483 and Accuracy is 56.04838709677419\n",
            "Validation Loss after epoch 96 is 0.7775141000747681 and Accuracy is 52.33644859813084\n"
          ]
        },
        {
          "output_type": "stream",
          "name": "stderr",
          "text": [
            "\rPercentage training completed:  97%|█████████▋| 97/100 [00:48<00:01,  2.07it/s]"
          ]
        },
        {
          "output_type": "stream",
          "name": "stdout",
          "text": [
            "Training Loss after epoch 97 is 0.848635122179985 and Accuracy is 56.04838709677419\n",
            "Validation Loss after epoch 97 is 0.7774162292480469 and Accuracy is 52.33644859813084\n"
          ]
        },
        {
          "output_type": "stream",
          "name": "stderr",
          "text": [
            "\rPercentage training completed:  98%|█████████▊| 98/100 [00:49<00:00,  2.08it/s]"
          ]
        },
        {
          "output_type": "stream",
          "name": "stdout",
          "text": [
            "Training Loss after epoch 98 is 0.8485926613211632 and Accuracy is 56.45161290322581\n",
            "Validation Loss after epoch 98 is 0.7773188352584839 and Accuracy is 52.33644859813084\n"
          ]
        },
        {
          "output_type": "stream",
          "name": "stderr",
          "text": [
            "\rPercentage training completed:  99%|█████████▉| 99/100 [00:49<00:00,  2.09it/s]"
          ]
        },
        {
          "output_type": "stream",
          "name": "stdout",
          "text": [
            "Training Loss after epoch 99 is 0.8485503569245338 and Accuracy is 56.45161290322581\n",
            "Validation Loss after epoch 99 is 0.7772223353385925 and Accuracy is 52.33644859813084\n"
          ]
        },
        {
          "output_type": "stream",
          "name": "stderr",
          "text": [
            "Percentage training completed: 100%|██████████| 100/100 [00:50<00:00,  2.00it/s]"
          ]
        },
        {
          "output_type": "stream",
          "name": "stdout",
          "text": [
            "Training Loss after epoch 100 is 0.8485083281993866 and Accuracy is 56.45161290322581\n",
            "Validation Loss after epoch 100 is 0.7771267890930176 and Accuracy is 52.33644859813084\n",
            "              precision    recall  f1-score   support\n",
            "\n",
            "           0       0.00      0.00      0.00        13\n",
            "           1       0.57      0.99      0.72       140\n",
            "           2       0.50      0.02      0.04        95\n",
            "\n",
            "    accuracy                           0.56       248\n",
            "   macro avg       0.36      0.34      0.25       248\n",
            "weighted avg       0.51      0.56      0.42       248\n",
            "\n",
            "              precision    recall  f1-score   support\n",
            "\n",
            "           0       0.00      0.00      0.00         2\n",
            "           1       0.52      1.00      0.68        55\n",
            "           2       1.00      0.02      0.04        50\n",
            "\n",
            "    accuracy                           0.52       107\n",
            "   macro avg       0.51      0.34      0.24       107\n",
            "weighted avg       0.73      0.52      0.37       107\n",
            "\n",
            "Validation Loss after epoch 100 is 0.7771267890930176 and Accuracy is 52.33644859813084\n"
          ]
        },
        {
          "output_type": "stream",
          "name": "stderr",
          "text": [
            "\n"
          ]
        },
        {
          "output_type": "display_data",
          "data": {
            "image/png": "[encoded data removed]",
            "text/plain": [
              "<Figure size 432x288 with 2 Axes>"
            ]
          },
          "metadata": {
            "needs_background": "light"
          }
        },
        {
          "output_type": "execute_result",
          "data": {
            "text/plain": [
              "ok    61\n",
              "Name: cholesterol_ldl_human, dtype: int64"
            ]
          },
          "metadata": {},
          "execution_count": 89
        }
      ]
    },
    {
      "cell_type": "code",
      "source": [
        "# HDL\n",
        "m_hdl = xbnet_model(df_trainu,y_hdl_cholesterol_human,2,0.01)\n",
        "# Cholesterol hdl\n",
        "hdl_cholesterol_human = predict(m_hdl,X_testu.to_numpy())\n",
        "test['hdl_cholesterol_human'] = hdl_cholesterol_human.astype(str)\n",
        "test['hdl_cholesterol_human'] = test['hdl_cholesterol_human'].replace(reverse_mapping)\n",
        "test['hdl_cholesterol_human'].value_counts()"
      ],
      "metadata": {
        "id": "Oy-z8S0w6fbX",
        "outputId": "a815d548-da3a-4262-9e6c-96e417cd6387",
        "colab": {
          "base_uri": "https://localhost:8080/",
          "height": 1000
        }
      },
      "id": "Oy-z8S0w6fbX",
      "execution_count": 90,
      "outputs": [
        {
          "name": "stdout",
          "output_type": "stream",
          "text": [
            "Enter dimensions of linear layers: \n",
            "Enter input dimensions of layer 1: 10\n",
            "Enter output dimensions of layer 1: 10\n",
            "Set bias as True or False: False\n",
            "Enter input dimensions of layer 2: 10\n",
            "Enter output dimensions of layer 2: 10\n",
            "Set bias as True or False: False\n",
            "Enter your last layer \n",
            "1. Sigmoid \n",
            "2. Softmax \n",
            "3. None \n",
            "3\n"
          ]
        },
        {
          "output_type": "stream",
          "name": "stderr",
          "text": [
            "Percentage training completed:   1%|          | 1/100 [00:00<01:00,  1.63it/s]"
          ]
        },
        {
          "output_type": "stream",
          "name": "stdout",
          "text": [
            "Training Loss after epoch 1 is 2.444442167878151 and Accuracy is 42.74193548387097\n",
            "Validation Loss after epoch 1 is 1.7559454441070557 and Accuracy is 21.49532710280374\n"
          ]
        },
        {
          "output_type": "stream",
          "name": "stderr",
          "text": [
            "\rPercentage training completed:   2%|▏         | 2/100 [00:01<01:00,  1.63it/s]"
          ]
        },
        {
          "output_type": "stream",
          "name": "stdout",
          "text": [
            "Training Loss after epoch 2 is 1.545370802283287 and Accuracy is 53.62903225806452\n",
            "Validation Loss after epoch 2 is 1.0833117961883545 and Accuracy is 53.271028037383175\n"
          ]
        },
        {
          "output_type": "stream",
          "name": "stderr",
          "text": [
            "\rPercentage training completed:   3%|▎         | 3/100 [00:01<01:00,  1.61it/s]"
          ]
        },
        {
          "output_type": "stream",
          "name": "stdout",
          "text": [
            "Training Loss after epoch 3 is 1.2351338118314743 and Accuracy is 37.903225806451616\n",
            "Validation Loss after epoch 3 is 1.1517856121063232 and Accuracy is 25.233644859813083\n"
          ]
        },
        {
          "output_type": "stream",
          "name": "stderr",
          "text": [
            "\rPercentage training completed:   4%|▍         | 4/100 [00:02<00:59,  1.62it/s]"
          ]
        },
        {
          "output_type": "stream",
          "name": "stdout",
          "text": [
            "Training Loss after epoch 4 is 1.2924076840281487 and Accuracy is 46.774193548387096\n",
            "Validation Loss after epoch 4 is 1.2594196796417236 and Accuracy is 25.233644859813083\n"
          ]
        },
        {
          "output_type": "stream",
          "name": "stderr",
          "text": [
            "\rPercentage training completed:   5%|▌         | 5/100 [00:03<00:57,  1.64it/s]"
          ]
        },
        {
          "output_type": "stream",
          "name": "stdout",
          "text": [
            "Training Loss after epoch 5 is 1.4057562202215195 and Accuracy is 43.54838709677419\n",
            "Validation Loss after epoch 5 is 1.2673276662826538 and Accuracy is 28.037383177570092\n"
          ]
        },
        {
          "output_type": "stream",
          "name": "stderr",
          "text": [
            "\rPercentage training completed:   6%|▌         | 6/100 [00:03<00:56,  1.68it/s]"
          ]
        },
        {
          "output_type": "stream",
          "name": "stdout",
          "text": [
            "Training Loss after epoch 6 is 1.3882042169570923 and Accuracy is 41.12903225806452\n",
            "Validation Loss after epoch 6 is 1.0629032850265503 and Accuracy is 35.51401869158879\n"
          ]
        },
        {
          "output_type": "stream",
          "name": "stderr",
          "text": [
            "\rPercentage training completed:   7%|▋         | 7/100 [00:04<00:54,  1.69it/s]"
          ]
        },
        {
          "output_type": "stream",
          "name": "stdout",
          "text": [
            "Training Loss after epoch 7 is 1.2560288906097412 and Accuracy is 43.145161290322584\n",
            "Validation Loss after epoch 7 is 1.0682978630065918 and Accuracy is 53.271028037383175\n"
          ]
        },
        {
          "output_type": "stream",
          "name": "stderr",
          "text": [
            "\rPercentage training completed:   8%|▊         | 8/100 [00:04<00:53,  1.72it/s]"
          ]
        },
        {
          "output_type": "stream",
          "name": "stdout",
          "text": [
            "Training Loss after epoch 8 is 1.0865633636713028 and Accuracy is 48.79032258064516\n",
            "Validation Loss after epoch 8 is 1.0101468563079834 and Accuracy is 53.271028037383175\n"
          ]
        },
        {
          "output_type": "stream",
          "name": "stderr",
          "text": [
            "\rPercentage training completed:   9%|▉         | 9/100 [00:05<00:53,  1.71it/s]"
          ]
        },
        {
          "output_type": "stream",
          "name": "stdout",
          "text": [
            "Training Loss after epoch 9 is 1.0588307455182076 and Accuracy is 54.03225806451613\n",
            "Validation Loss after epoch 9 is 1.047711968421936 and Accuracy is 52.33644859813084\n"
          ]
        },
        {
          "output_type": "stream",
          "name": "stderr",
          "text": [
            "\rPercentage training completed:  10%|█         | 10/100 [00:05<00:51,  1.74it/s]"
          ]
        },
        {
          "output_type": "stream",
          "name": "stdout",
          "text": [
            "Training Loss after epoch 10 is 1.0941782742738724 and Accuracy is 53.225806451612904\n",
            "Validation Loss after epoch 10 is 1.030924677848816 and Accuracy is 53.271028037383175\n"
          ]
        },
        {
          "output_type": "stream",
          "name": "stderr",
          "text": [
            "\rPercentage training completed:  11%|█         | 11/100 [00:06<00:51,  1.73it/s]"
          ]
        },
        {
          "output_type": "stream",
          "name": "stdout",
          "text": [
            "Training Loss after epoch 11 is 1.1026362925767899 and Accuracy is 48.79032258064516\n",
            "Validation Loss after epoch 11 is 1.0239828824996948 and Accuracy is 53.271028037383175\n"
          ]
        },
        {
          "output_type": "stream",
          "name": "stderr",
          "text": [
            "\rPercentage training completed:  12%|█▏        | 12/100 [00:07<00:50,  1.74it/s]"
          ]
        },
        {
          "output_type": "stream",
          "name": "stdout",
          "text": [
            "Training Loss after epoch 12 is 1.0780430361628532 and Accuracy is 53.62903225806452\n",
            "Validation Loss after epoch 12 is 1.0141054391860962 and Accuracy is 53.271028037383175\n"
          ]
        },
        {
          "output_type": "stream",
          "name": "stderr",
          "text": [
            "\rPercentage training completed:  13%|█▎        | 13/100 [00:07<00:50,  1.73it/s]"
          ]
        },
        {
          "output_type": "stream",
          "name": "stdout",
          "text": [
            "Training Loss after epoch 13 is 1.0592823773622513 and Accuracy is 54.03225806451613\n",
            "Validation Loss after epoch 13 is 1.0173832178115845 and Accuracy is 53.271028037383175\n"
          ]
        },
        {
          "output_type": "stream",
          "name": "stderr",
          "text": [
            "\rPercentage training completed:  14%|█▍        | 14/100 [00:08<00:49,  1.73it/s]"
          ]
        },
        {
          "output_type": "stream",
          "name": "stdout",
          "text": [
            "Training Loss after epoch 14 is 1.0599519908428192 and Accuracy is 54.03225806451613\n",
            "Validation Loss after epoch 14 is 1.014394760131836 and Accuracy is 53.271028037383175\n"
          ]
        },
        {
          "output_type": "stream",
          "name": "stderr",
          "text": [
            "\rPercentage training completed:  15%|█▌        | 15/100 [00:08<00:48,  1.74it/s]"
          ]
        },
        {
          "output_type": "stream",
          "name": "stdout",
          "text": [
            "Training Loss after epoch 15 is 1.0593891739845276 and Accuracy is 54.03225806451613\n",
            "Validation Loss after epoch 15 is 1.012977957725525 and Accuracy is 53.271028037383175\n"
          ]
        },
        {
          "output_type": "stream",
          "name": "stderr",
          "text": [
            "\rPercentage training completed:  16%|█▌        | 16/100 [00:09<00:48,  1.74it/s]"
          ]
        },
        {
          "output_type": "stream",
          "name": "stdout",
          "text": [
            "Training Loss after epoch 16 is 1.0528402552008629 and Accuracy is 54.03225806451613\n",
            "Validation Loss after epoch 16 is 1.0112344026565552 and Accuracy is 53.271028037383175\n"
          ]
        },
        {
          "output_type": "stream",
          "name": "stderr",
          "text": [
            "\rPercentage training completed:  17%|█▋        | 17/100 [00:09<00:47,  1.75it/s]"
          ]
        },
        {
          "output_type": "stream",
          "name": "stdout",
          "text": [
            "Training Loss after epoch 17 is 1.0466167628765106 and Accuracy is 54.03225806451613\n",
            "Validation Loss after epoch 17 is 1.0101834535598755 and Accuracy is 53.271028037383175\n"
          ]
        },
        {
          "output_type": "stream",
          "name": "stderr",
          "text": [
            "\rPercentage training completed:  18%|█▊        | 18/100 [00:10<00:46,  1.76it/s]"
          ]
        },
        {
          "output_type": "stream",
          "name": "stdout",
          "text": [
            "Training Loss after epoch 18 is 1.0441068708896637 and Accuracy is 54.03225806451613\n",
            "Validation Loss after epoch 18 is 1.009261965751648 and Accuracy is 53.271028037383175\n"
          ]
        },
        {
          "output_type": "stream",
          "name": "stderr",
          "text": [
            "\rPercentage training completed:  19%|█▉        | 19/100 [00:11<00:46,  1.76it/s]"
          ]
        },
        {
          "output_type": "stream",
          "name": "stdout",
          "text": [
            "Training Loss after epoch 19 is 1.0415721833705902 and Accuracy is 54.03225806451613\n",
            "Validation Loss after epoch 19 is 1.0082192420959473 and Accuracy is 53.271028037383175\n"
          ]
        },
        {
          "output_type": "stream",
          "name": "stderr",
          "text": [
            "\rPercentage training completed:  20%|██        | 20/100 [00:11<00:45,  1.76it/s]"
          ]
        },
        {
          "output_type": "stream",
          "name": "stdout",
          "text": [
            "Training Loss after epoch 20 is 1.0380118861794472 and Accuracy is 54.03225806451613\n",
            "Validation Loss after epoch 20 is 1.0075953006744385 and Accuracy is 53.271028037383175\n"
          ]
        },
        {
          "output_type": "stream",
          "name": "stderr",
          "text": [
            "\rPercentage training completed:  21%|██        | 21/100 [00:12<00:44,  1.77it/s]"
          ]
        },
        {
          "output_type": "stream",
          "name": "stdout",
          "text": [
            "Training Loss after epoch 21 is 1.0352091118693352 and Accuracy is 54.03225806451613\n",
            "Validation Loss after epoch 21 is 1.0066591501235962 and Accuracy is 53.271028037383175\n"
          ]
        },
        {
          "output_type": "stream",
          "name": "stderr",
          "text": [
            "\rPercentage training completed:  22%|██▏       | 22/100 [00:12<00:44,  1.75it/s]"
          ]
        },
        {
          "output_type": "stream",
          "name": "stdout",
          "text": [
            "Training Loss after epoch 22 is 1.0329528898000717 and Accuracy is 54.03225806451613\n",
            "Validation Loss after epoch 22 is 1.0060734748840332 and Accuracy is 53.271028037383175\n"
          ]
        },
        {
          "output_type": "stream",
          "name": "stderr",
          "text": [
            "\rPercentage training completed:  23%|██▎       | 23/100 [00:13<00:43,  1.77it/s]"
          ]
        },
        {
          "output_type": "stream",
          "name": "stdout",
          "text": [
            "Training Loss after epoch 23 is 1.0307808443903923 and Accuracy is 54.03225806451613\n",
            "Validation Loss after epoch 23 is 1.0054258108139038 and Accuracy is 53.271028037383175\n"
          ]
        },
        {
          "output_type": "stream",
          "name": "stderr",
          "text": [
            "\rPercentage training completed:  24%|██▍       | 24/100 [00:13<00:42,  1.77it/s]"
          ]
        },
        {
          "output_type": "stream",
          "name": "stdout",
          "text": [
            "Training Loss after epoch 24 is 1.0285747200250626 and Accuracy is 54.03225806451613\n",
            "Validation Loss after epoch 24 is 1.0048538446426392 and Accuracy is 53.271028037383175\n"
          ]
        },
        {
          "output_type": "stream",
          "name": "stderr",
          "text": [
            "\rPercentage training completed:  25%|██▌       | 25/100 [00:14<00:42,  1.76it/s]"
          ]
        },
        {
          "output_type": "stream",
          "name": "stdout",
          "text": [
            "Training Loss after epoch 25 is 1.0267318710684776 and Accuracy is 54.03225806451613\n",
            "Validation Loss after epoch 25 is 1.0042767524719238 and Accuracy is 53.271028037383175\n"
          ]
        },
        {
          "output_type": "stream",
          "name": "stderr",
          "text": [
            "\rPercentage training completed:  26%|██▌       | 26/100 [00:15<00:41,  1.78it/s]"
          ]
        },
        {
          "output_type": "stream",
          "name": "stdout",
          "text": [
            "Training Loss after epoch 26 is 1.0249985605478287 and Accuracy is 54.03225806451613\n",
            "Validation Loss after epoch 26 is 1.0037776231765747 and Accuracy is 53.271028037383175\n"
          ]
        },
        {
          "output_type": "stream",
          "name": "stderr",
          "text": [
            "\rPercentage training completed:  27%|██▋       | 27/100 [00:15<00:40,  1.79it/s]"
          ]
        },
        {
          "output_type": "stream",
          "name": "stdout",
          "text": [
            "Training Loss after epoch 27 is 1.0233631059527397 and Accuracy is 54.03225806451613\n",
            "Validation Loss after epoch 27 is 1.0032984018325806 and Accuracy is 53.271028037383175\n"
          ]
        },
        {
          "output_type": "stream",
          "name": "stderr",
          "text": [
            "\rPercentage training completed:  28%|██▊       | 28/100 [00:16<00:40,  1.80it/s]"
          ]
        },
        {
          "output_type": "stream",
          "name": "stdout",
          "text": [
            "Training Loss after epoch 28 is 1.0218449607491493 and Accuracy is 54.03225806451613\n",
            "Validation Loss after epoch 28 is 1.0028283596038818 and Accuracy is 53.271028037383175\n"
          ]
        },
        {
          "output_type": "stream",
          "name": "stderr",
          "text": [
            "\rPercentage training completed:  29%|██▉       | 29/100 [00:16<00:39,  1.78it/s]"
          ]
        },
        {
          "output_type": "stream",
          "name": "stdout",
          "text": [
            "Training Loss after epoch 29 is 1.0204462632536888 and Accuracy is 54.03225806451613\n",
            "Validation Loss after epoch 29 is 1.0023959875106812 and Accuracy is 53.271028037383175\n"
          ]
        },
        {
          "output_type": "stream",
          "name": "stderr",
          "text": [
            "\rPercentage training completed:  30%|███       | 30/100 [00:17<00:39,  1.78it/s]"
          ]
        },
        {
          "output_type": "stream",
          "name": "stdout",
          "text": [
            "Training Loss after epoch 30 is 1.0191362798213959 and Accuracy is 54.03225806451613\n",
            "Validation Loss after epoch 30 is 1.0019856691360474 and Accuracy is 53.271028037383175\n"
          ]
        },
        {
          "output_type": "stream",
          "name": "stderr",
          "text": [
            "\rPercentage training completed:  31%|███       | 31/100 [00:17<00:38,  1.79it/s]"
          ]
        },
        {
          "output_type": "stream",
          "name": "stdout",
          "text": [
            "Training Loss after epoch 31 is 1.0179001241922379 and Accuracy is 54.03225806451613\n",
            "Validation Loss after epoch 31 is 1.0015937089920044 and Accuracy is 53.271028037383175\n"
          ]
        },
        {
          "output_type": "stream",
          "name": "stderr",
          "text": [
            "\rPercentage training completed:  32%|███▏      | 32/100 [00:18<00:38,  1.78it/s]"
          ]
        },
        {
          "output_type": "stream",
          "name": "stdout",
          "text": [
            "Training Loss after epoch 32 is 1.0167476758360863 and Accuracy is 54.03225806451613\n",
            "Validation Loss after epoch 32 is 1.0012187957763672 and Accuracy is 53.271028037383175\n"
          ]
        },
        {
          "output_type": "stream",
          "name": "stderr",
          "text": [
            "\rPercentage training completed:  33%|███▎      | 33/100 [00:18<00:37,  1.79it/s]"
          ]
        },
        {
          "output_type": "stream",
          "name": "stdout",
          "text": [
            "Training Loss after epoch 33 is 1.0156617164611816 and Accuracy is 54.03225806451613\n",
            "Validation Loss after epoch 33 is 1.00086510181427 and Accuracy is 53.271028037383175\n"
          ]
        },
        {
          "output_type": "stream",
          "name": "stderr",
          "text": [
            "\rPercentage training completed:  34%|███▍      | 34/100 [00:19<00:37,  1.77it/s]"
          ]
        },
        {
          "output_type": "stream",
          "name": "stdout",
          "text": [
            "Training Loss after epoch 34 is 1.0146387070417404 and Accuracy is 54.03225806451613\n",
            "Validation Loss after epoch 34 is 1.0005277395248413 and Accuracy is 53.271028037383175\n"
          ]
        },
        {
          "output_type": "stream",
          "name": "stderr",
          "text": [
            "\rPercentage training completed:  35%|███▌      | 35/100 [00:20<00:36,  1.80it/s]"
          ]
        },
        {
          "output_type": "stream",
          "name": "stdout",
          "text": [
            "Training Loss after epoch 35 is 1.0136710703372955 and Accuracy is 54.03225806451613\n",
            "Validation Loss after epoch 35 is 1.000205397605896 and Accuracy is 53.271028037383175\n"
          ]
        },
        {
          "output_type": "stream",
          "name": "stderr",
          "text": [
            "\rPercentage training completed:  36%|███▌      | 36/100 [00:20<00:35,  1.80it/s]"
          ]
        },
        {
          "output_type": "stream",
          "name": "stdout",
          "text": [
            "Training Loss after epoch 36 is 1.0127567425370216 and Accuracy is 54.03225806451613\n",
            "Validation Loss after epoch 36 is 0.9998979568481445 and Accuracy is 53.271028037383175\n"
          ]
        },
        {
          "output_type": "stream",
          "name": "stderr",
          "text": [
            "\rPercentage training completed:  37%|███▋      | 37/100 [00:21<00:34,  1.80it/s]"
          ]
        },
        {
          "output_type": "stream",
          "name": "stdout",
          "text": [
            "Training Loss after epoch 37 is 1.0118900462985039 and Accuracy is 54.03225806451613\n",
            "Validation Loss after epoch 37 is 0.999604344367981 and Accuracy is 53.271028037383175\n"
          ]
        },
        {
          "output_type": "stream",
          "name": "stderr",
          "text": [
            "\rPercentage training completed:  38%|███▊      | 38/100 [00:21<00:34,  1.78it/s]"
          ]
        },
        {
          "output_type": "stream",
          "name": "stdout",
          "text": [
            "Training Loss after epoch 38 is 1.0110671892762184 and Accuracy is 54.03225806451613\n",
            "Validation Loss after epoch 38 is 0.9993235468864441 and Accuracy is 53.271028037383175\n"
          ]
        },
        {
          "output_type": "stream",
          "name": "stderr",
          "text": [
            "\rPercentage training completed:  39%|███▉      | 39/100 [00:22<00:34,  1.79it/s]"
          ]
        },
        {
          "output_type": "stream",
          "name": "stdout",
          "text": [
            "Training Loss after epoch 39 is 1.0102849379181862 and Accuracy is 54.03225806451613\n",
            "Validation Loss after epoch 39 is 0.9990540742874146 and Accuracy is 53.271028037383175\n"
          ]
        },
        {
          "output_type": "stream",
          "name": "stderr",
          "text": [
            "\rPercentage training completed:  40%|████      | 40/100 [00:22<00:33,  1.80it/s]"
          ]
        },
        {
          "output_type": "stream",
          "name": "stdout",
          "text": [
            "Training Loss after epoch 40 is 1.0095403864979744 and Accuracy is 54.03225806451613\n",
            "Validation Loss after epoch 40 is 0.9987950921058655 and Accuracy is 53.271028037383175\n"
          ]
        },
        {
          "output_type": "stream",
          "name": "stderr",
          "text": [
            "\rPercentage training completed:  41%|████      | 41/100 [00:23<00:32,  1.80it/s]"
          ]
        },
        {
          "output_type": "stream",
          "name": "stdout",
          "text": [
            "Training Loss after epoch 41 is 1.0088309571146965 and Accuracy is 54.03225806451613\n",
            "Validation Loss after epoch 41 is 0.9985455274581909 and Accuracy is 53.271028037383175\n"
          ]
        },
        {
          "output_type": "stream",
          "name": "stderr",
          "text": [
            "\rPercentage training completed:  42%|████▏     | 42/100 [00:23<00:32,  1.79it/s]"
          ]
        },
        {
          "output_type": "stream",
          "name": "stdout",
          "text": [
            "Training Loss after epoch 42 is 1.0081541240215302 and Accuracy is 54.03225806451613\n",
            "Validation Loss after epoch 42 is 0.9983044266700745 and Accuracy is 53.271028037383175\n"
          ]
        },
        {
          "output_type": "stream",
          "name": "stderr",
          "text": [
            "\rPercentage training completed:  43%|████▎     | 43/100 [00:24<00:31,  1.79it/s]"
          ]
        },
        {
          "output_type": "stream",
          "name": "stdout",
          "text": [
            "Training Loss after epoch 43 is 1.0075079426169395 and Accuracy is 54.03225806451613\n",
            "Validation Loss after epoch 43 is 0.9980706572532654 and Accuracy is 53.271028037383175\n"
          ]
        },
        {
          "output_type": "stream",
          "name": "stderr",
          "text": [
            "\rPercentage training completed:  44%|████▍     | 44/100 [00:25<00:31,  1.78it/s]"
          ]
        },
        {
          "output_type": "stream",
          "name": "stdout",
          "text": [
            "Training Loss after epoch 44 is 1.00689048320055 and Accuracy is 54.03225806451613\n",
            "Validation Loss after epoch 44 is 0.9978429079055786 and Accuracy is 53.271028037383175\n"
          ]
        },
        {
          "output_type": "stream",
          "name": "stderr",
          "text": [
            "\rPercentage training completed:  45%|████▌     | 45/100 [00:25<00:31,  1.77it/s]"
          ]
        },
        {
          "output_type": "stream",
          "name": "stdout",
          "text": [
            "Training Loss after epoch 45 is 1.0063002705574036 and Accuracy is 54.03225806451613\n",
            "Validation Loss after epoch 45 is 0.9976205825805664 and Accuracy is 53.271028037383175\n"
          ]
        },
        {
          "output_type": "stream",
          "name": "stderr",
          "text": [
            "\rPercentage training completed:  46%|████▌     | 46/100 [00:26<00:30,  1.77it/s]"
          ]
        },
        {
          "output_type": "stream",
          "name": "stdout",
          "text": [
            "Training Loss after epoch 46 is 1.0057356804609299 and Accuracy is 54.03225806451613\n",
            "Validation Loss after epoch 46 is 0.997402548789978 and Accuracy is 53.271028037383175\n"
          ]
        },
        {
          "output_type": "stream",
          "name": "stderr",
          "text": [
            "\rPercentage training completed:  47%|████▋     | 47/100 [00:26<00:29,  1.77it/s]"
          ]
        },
        {
          "output_type": "stream",
          "name": "stdout",
          "text": [
            "Training Loss after epoch 47 is 1.0051954686641693 and Accuracy is 54.03225806451613\n",
            "Validation Loss after epoch 47 is 0.9971877932548523 and Accuracy is 53.271028037383175\n"
          ]
        },
        {
          "output_type": "stream",
          "name": "stderr",
          "text": [
            "\rPercentage training completed:  48%|████▊     | 48/100 [00:27<00:29,  1.79it/s]"
          ]
        },
        {
          "output_type": "stream",
          "name": "stdout",
          "text": [
            "Training Loss after epoch 48 is 1.0046785026788712 and Accuracy is 54.03225806451613\n",
            "Validation Loss after epoch 48 is 0.9969757199287415 and Accuracy is 53.271028037383175\n"
          ]
        },
        {
          "output_type": "stream",
          "name": "stderr",
          "text": [
            "\rPercentage training completed:  49%|████▉     | 49/100 [00:28<00:37,  1.36it/s]"
          ]
        },
        {
          "output_type": "stream",
          "name": "stdout",
          "text": [
            "Training Loss after epoch 49 is 1.0041836649179459 and Accuracy is 54.03225806451613\n",
            "Validation Loss after epoch 49 is 0.9967655539512634 and Accuracy is 53.271028037383175\n"
          ]
        },
        {
          "output_type": "stream",
          "name": "stderr",
          "text": [
            "\rPercentage training completed:  50%|█████     | 50/100 [00:29<00:34,  1.46it/s]"
          ]
        },
        {
          "output_type": "stream",
          "name": "stdout",
          "text": [
            "Training Loss after epoch 50 is 1.003709964454174 and Accuracy is 54.03225806451613\n",
            "Validation Loss after epoch 50 is 0.9965568780899048 and Accuracy is 53.271028037383175\n"
          ]
        },
        {
          "output_type": "stream",
          "name": "stderr",
          "text": [
            "\rPercentage training completed:  51%|█████     | 51/100 [00:29<00:31,  1.57it/s]"
          ]
        },
        {
          "output_type": "stream",
          "name": "stdout",
          "text": [
            "Training Loss after epoch 51 is 1.0032566264271736 and Accuracy is 54.03225806451613\n",
            "Validation Loss after epoch 51 is 0.9963490962982178 and Accuracy is 53.271028037383175\n"
          ]
        },
        {
          "output_type": "stream",
          "name": "stderr",
          "text": [
            "\rPercentage training completed:  52%|█████▏    | 52/100 [00:30<00:29,  1.63it/s]"
          ]
        },
        {
          "output_type": "stream",
          "name": "stdout",
          "text": [
            "Training Loss after epoch 52 is 1.0028225854039192 and Accuracy is 54.03225806451613\n",
            "Validation Loss after epoch 52 is 0.9961422681808472 and Accuracy is 53.271028037383175\n"
          ]
        },
        {
          "output_type": "stream",
          "name": "stderr",
          "text": [
            "\rPercentage training completed:  53%|█████▎    | 53/100 [00:30<00:28,  1.68it/s]"
          ]
        },
        {
          "output_type": "stream",
          "name": "stdout",
          "text": [
            "Training Loss after epoch 53 is 1.0024072900414467 and Accuracy is 54.435483870967744\n",
            "Validation Loss after epoch 53 is 0.9959362745285034 and Accuracy is 53.271028037383175\n"
          ]
        },
        {
          "output_type": "stream",
          "name": "stderr",
          "text": [
            "\rPercentage training completed:  54%|█████▍    | 54/100 [00:31<00:26,  1.72it/s]"
          ]
        },
        {
          "output_type": "stream",
          "name": "stdout",
          "text": [
            "Training Loss after epoch 54 is 1.002010017633438 and Accuracy is 54.435483870967744\n",
            "Validation Loss after epoch 54 is 0.9957314729690552 and Accuracy is 53.271028037383175\n"
          ]
        },
        {
          "output_type": "stream",
          "name": "stderr",
          "text": [
            "\rPercentage training completed:  55%|█████▌    | 55/100 [00:31<00:25,  1.74it/s]"
          ]
        },
        {
          "output_type": "stream",
          "name": "stdout",
          "text": [
            "Training Loss after epoch 55 is 1.00163022428751 and Accuracy is 54.435483870967744\n",
            "Validation Loss after epoch 55 is 0.9955284595489502 and Accuracy is 53.271028037383175\n"
          ]
        },
        {
          "output_type": "stream",
          "name": "stderr",
          "text": [
            "\rPercentage training completed:  56%|█████▌    | 56/100 [00:32<00:25,  1.76it/s]"
          ]
        },
        {
          "output_type": "stream",
          "name": "stdout",
          "text": [
            "Training Loss after epoch 56 is 1.0012675896286964 and Accuracy is 54.435483870967744\n",
            "Validation Loss after epoch 56 is 0.995327889919281 and Accuracy is 53.271028037383175\n"
          ]
        },
        {
          "output_type": "stream",
          "name": "stderr",
          "text": [
            "\rPercentage training completed:  57%|█████▋    | 57/100 [00:32<00:24,  1.77it/s]"
          ]
        },
        {
          "output_type": "stream",
          "name": "stdout",
          "text": [
            "Training Loss after epoch 57 is 1.000921718776226 and Accuracy is 54.435483870967744\n",
            "Validation Loss after epoch 57 is 0.9951306581497192 and Accuracy is 53.271028037383175\n"
          ]
        },
        {
          "output_type": "stream",
          "name": "stderr",
          "text": [
            "\rPercentage training completed:  58%|█████▊    | 58/100 [00:33<00:23,  1.79it/s]"
          ]
        },
        {
          "output_type": "stream",
          "name": "stdout",
          "text": [
            "Training Loss after epoch 58 is 1.0005928725004196 and Accuracy is 54.435483870967744\n",
            "Validation Loss after epoch 58 is 0.9949377775192261 and Accuracy is 53.271028037383175\n"
          ]
        },
        {
          "output_type": "stream",
          "name": "stderr",
          "text": [
            "\rPercentage training completed:  59%|█████▉    | 59/100 [00:33<00:22,  1.79it/s]"
          ]
        },
        {
          "output_type": "stream",
          "name": "stdout",
          "text": [
            "Training Loss after epoch 59 is 1.0002814680337906 and Accuracy is 54.435483870967744\n",
            "Validation Loss after epoch 59 is 0.994750440120697 and Accuracy is 53.271028037383175\n"
          ]
        },
        {
          "output_type": "stream",
          "name": "stderr",
          "text": [
            "\rPercentage training completed:  60%|██████    | 60/100 [00:34<00:22,  1.80it/s]"
          ]
        },
        {
          "output_type": "stream",
          "name": "stdout",
          "text": [
            "Training Loss after epoch 60 is 0.9999884217977524 and Accuracy is 54.435483870967744\n",
            "Validation Loss after epoch 60 is 0.9945694208145142 and Accuracy is 53.271028037383175\n"
          ]
        },
        {
          "output_type": "stream",
          "name": "stderr",
          "text": [
            "\rPercentage training completed:  61%|██████    | 61/100 [00:35<00:21,  1.78it/s]"
          ]
        },
        {
          "output_type": "stream",
          "name": "stdout",
          "text": [
            "Training Loss after epoch 61 is 0.9997153729200363 and Accuracy is 54.435483870967744\n",
            "Validation Loss after epoch 61 is 0.9943956732749939 and Accuracy is 53.271028037383175\n"
          ]
        },
        {
          "output_type": "stream",
          "name": "stderr",
          "text": [
            "\rPercentage training completed:  62%|██████▏   | 62/100 [00:35<00:21,  1.79it/s]"
          ]
        },
        {
          "output_type": "stream",
          "name": "stdout",
          "text": [
            "Training Loss after epoch 62 is 0.9994645267724991 and Accuracy is 54.03225806451613\n",
            "Validation Loss after epoch 62 is 0.9942295551300049 and Accuracy is 53.271028037383175\n"
          ]
        },
        {
          "output_type": "stream",
          "name": "stderr",
          "text": [
            "\rPercentage training completed:  63%|██████▎   | 63/100 [00:36<00:20,  1.79it/s]"
          ]
        },
        {
          "output_type": "stream",
          "name": "stdout",
          "text": [
            "Training Loss after epoch 63 is 0.999238908290863 and Accuracy is 54.03225806451613\n",
            "Validation Loss after epoch 63 is 0.994071364402771 and Accuracy is 53.271028037383175\n"
          ]
        },
        {
          "output_type": "stream",
          "name": "stderr",
          "text": [
            "\rPercentage training completed:  64%|██████▍   | 64/100 [00:36<00:19,  1.80it/s]"
          ]
        },
        {
          "output_type": "stream",
          "name": "stdout",
          "text": [
            "Training Loss after epoch 64 is 0.9990419894456863 and Accuracy is 54.03225806451613\n",
            "Validation Loss after epoch 64 is 0.9939213991165161 and Accuracy is 53.271028037383175\n"
          ]
        },
        {
          "output_type": "stream",
          "name": "stderr",
          "text": [
            "\rPercentage training completed:  65%|██████▌   | 65/100 [00:37<00:19,  1.81it/s]"
          ]
        },
        {
          "output_type": "stream",
          "name": "stdout",
          "text": [
            "Training Loss after epoch 65 is 0.9988777711987495 and Accuracy is 54.03225806451613\n",
            "Validation Loss after epoch 65 is 0.9937797784805298 and Accuracy is 53.271028037383175\n"
          ]
        },
        {
          "output_type": "stream",
          "name": "stderr",
          "text": [
            "\rPercentage training completed:  66%|██████▌   | 66/100 [00:37<00:18,  1.80it/s]"
          ]
        },
        {
          "output_type": "stream",
          "name": "stdout",
          "text": [
            "Training Loss after epoch 66 is 0.9987500905990601 and Accuracy is 54.03225806451613\n",
            "Validation Loss after epoch 66 is 0.9936475157737732 and Accuracy is 53.271028037383175\n"
          ]
        },
        {
          "output_type": "stream",
          "name": "stderr",
          "text": [
            "\rPercentage training completed:  67%|██████▋   | 67/100 [00:38<00:18,  1.82it/s]"
          ]
        },
        {
          "output_type": "stream",
          "name": "stdout",
          "text": [
            "Training Loss after epoch 67 is 0.9986620023846626 and Accuracy is 53.62903225806452\n",
            "Validation Loss after epoch 67 is 0.9935263991355896 and Accuracy is 53.271028037383175\n"
          ]
        },
        {
          "output_type": "stream",
          "name": "stderr",
          "text": [
            "\rPercentage training completed:  68%|██████▊   | 68/100 [00:38<00:17,  1.83it/s]"
          ]
        },
        {
          "output_type": "stream",
          "name": "stdout",
          "text": [
            "Training Loss after epoch 68 is 0.998614676296711 and Accuracy is 53.62903225806452\n",
            "Validation Loss after epoch 68 is 0.9934203028678894 and Accuracy is 53.271028037383175\n"
          ]
        },
        {
          "output_type": "stream",
          "name": "stderr",
          "text": [
            "\rPercentage training completed:  69%|██████▉   | 69/100 [00:39<00:16,  1.84it/s]"
          ]
        },
        {
          "output_type": "stream",
          "name": "stdout",
          "text": [
            "Training Loss after epoch 69 is 0.9986055120825768 and Accuracy is 53.225806451612904\n",
            "Validation Loss after epoch 69 is 0.9933345913887024 and Accuracy is 53.271028037383175\n"
          ]
        },
        {
          "output_type": "stream",
          "name": "stderr",
          "text": [
            "\rPercentage training completed:  70%|███████   | 70/100 [00:40<00:16,  1.85it/s]"
          ]
        },
        {
          "output_type": "stream",
          "name": "stdout",
          "text": [
            "Training Loss after epoch 70 is 0.9986272752285004 and Accuracy is 53.225806451612904\n",
            "Validation Loss after epoch 70 is 0.9932767748832703 and Accuracy is 53.271028037383175\n"
          ]
        },
        {
          "output_type": "stream",
          "name": "stderr",
          "text": [
            "\rPercentage training completed:  71%|███████   | 71/100 [00:40<00:15,  1.82it/s]"
          ]
        },
        {
          "output_type": "stream",
          "name": "stdout",
          "text": [
            "Training Loss after epoch 71 is 0.9986655488610268 and Accuracy is 53.225806451612904\n",
            "Validation Loss after epoch 71 is 0.9932548403739929 and Accuracy is 53.271028037383175\n"
          ]
        },
        {
          "output_type": "stream",
          "name": "stderr",
          "text": [
            "\rPercentage training completed:  72%|███████▏  | 72/100 [00:41<00:16,  1.72it/s]"
          ]
        },
        {
          "output_type": "stream",
          "name": "stdout",
          "text": [
            "Training Loss after epoch 72 is 0.9986988008022308 and Accuracy is 53.225806451612904\n",
            "Validation Loss after epoch 72 is 0.9932770729064941 and Accuracy is 53.271028037383175\n"
          ]
        },
        {
          "output_type": "stream",
          "name": "stderr",
          "text": [
            "\rPercentage training completed:  73%|███████▎  | 73/100 [00:41<00:15,  1.76it/s]"
          ]
        },
        {
          "output_type": "stream",
          "name": "stdout",
          "text": [
            "Training Loss after epoch 73 is 0.9986979812383652 and Accuracy is 53.225806451612904\n",
            "Validation Loss after epoch 73 is 0.9933517575263977 and Accuracy is 53.271028037383175\n"
          ]
        },
        {
          "output_type": "stream",
          "name": "stderr",
          "text": [
            "\rPercentage training completed:  74%|███████▍  | 74/100 [00:42<00:14,  1.76it/s]"
          ]
        },
        {
          "output_type": "stream",
          "name": "stdout",
          "text": [
            "Training Loss after epoch 74 is 0.9986298978328705 and Accuracy is 53.225806451612904\n",
            "Validation Loss after epoch 74 is 0.9934879541397095 and Accuracy is 53.271028037383175\n"
          ]
        },
        {
          "output_type": "stream",
          "name": "stderr",
          "text": [
            "\rPercentage training completed:  75%|███████▌  | 75/100 [00:42<00:14,  1.76it/s]"
          ]
        },
        {
          "output_type": "stream",
          "name": "stdout",
          "text": [
            "Training Loss after epoch 75 is 0.9984636008739471 and Accuracy is 53.225806451612904\n",
            "Validation Loss after epoch 75 is 0.9936966896057129 and Accuracy is 53.271028037383175\n"
          ]
        },
        {
          "output_type": "stream",
          "name": "stderr",
          "text": [
            "\rPercentage training completed:  76%|███████▌  | 76/100 [00:43<00:13,  1.80it/s]"
          ]
        },
        {
          "output_type": "stream",
          "name": "stdout",
          "text": [
            "Training Loss after epoch 76 is 0.9981786385178566 and Accuracy is 53.225806451612904\n",
            "Validation Loss after epoch 76 is 0.9939875602722168 and Accuracy is 53.271028037383175\n"
          ]
        },
        {
          "output_type": "stream",
          "name": "stderr",
          "text": [
            "\rPercentage training completed:  77%|███████▋  | 77/100 [00:44<00:12,  1.80it/s]"
          ]
        },
        {
          "output_type": "stream",
          "name": "stdout",
          "text": [
            "Training Loss after epoch 77 is 0.9977744668722153 and Accuracy is 53.225806451612904\n",
            "Validation Loss after epoch 77 is 0.9943609237670898 and Accuracy is 53.271028037383175\n"
          ]
        },
        {
          "output_type": "stream",
          "name": "stderr",
          "text": [
            "\rPercentage training completed:  78%|███████▊  | 78/100 [00:44<00:12,  1.82it/s]"
          ]
        },
        {
          "output_type": "stream",
          "name": "stdout",
          "text": [
            "Training Loss after epoch 78 is 0.9972743391990662 and Accuracy is 53.225806451612904\n",
            "Validation Loss after epoch 78 is 0.9947969913482666 and Accuracy is 53.271028037383175\n"
          ]
        },
        {
          "output_type": "stream",
          "name": "stderr",
          "text": [
            "\rPercentage training completed:  79%|███████▉  | 79/100 [00:45<00:11,  1.82it/s]"
          ]
        },
        {
          "output_type": "stream",
          "name": "stdout",
          "text": [
            "Training Loss after epoch 79 is 0.9967222735285759 and Accuracy is 54.03225806451613\n",
            "Validation Loss after epoch 79 is 0.9952523708343506 and Accuracy is 53.271028037383175\n"
          ]
        },
        {
          "output_type": "stream",
          "name": "stderr",
          "text": [
            "\rPercentage training completed:  80%|████████  | 80/100 [00:45<00:10,  1.84it/s]"
          ]
        },
        {
          "output_type": "stream",
          "name": "stdout",
          "text": [
            "Training Loss after epoch 80 is 0.9961714819073677 and Accuracy is 54.03225806451613\n",
            "Validation Loss after epoch 80 is 0.9956693053245544 and Accuracy is 53.271028037383175\n"
          ]
        },
        {
          "output_type": "stream",
          "name": "stderr",
          "text": [
            "\rPercentage training completed:  81%|████████  | 81/100 [00:46<00:10,  1.83it/s]"
          ]
        },
        {
          "output_type": "stream",
          "name": "stdout",
          "text": [
            "Training Loss after epoch 81 is 0.995670273900032 and Accuracy is 53.62903225806452\n",
            "Validation Loss after epoch 81 is 0.9959940910339355 and Accuracy is 53.271028037383175\n"
          ]
        },
        {
          "output_type": "stream",
          "name": "stderr",
          "text": [
            "\rPercentage training completed:  82%|████████▏ | 82/100 [00:46<00:09,  1.85it/s]"
          ]
        },
        {
          "output_type": "stream",
          "name": "stdout",
          "text": [
            "Training Loss after epoch 82 is 0.9952529892325401 and Accuracy is 53.225806451612904\n",
            "Validation Loss after epoch 82 is 0.9961938261985779 and Accuracy is 53.271028037383175\n"
          ]
        },
        {
          "output_type": "stream",
          "name": "stderr",
          "text": [
            "\rPercentage training completed:  83%|████████▎ | 83/100 [00:47<00:09,  1.84it/s]"
          ]
        },
        {
          "output_type": "stream",
          "name": "stdout",
          "text": [
            "Training Loss after epoch 83 is 0.9949383288621902 and Accuracy is 53.62903225806452\n",
            "Validation Loss after epoch 83 is 0.9962623119354248 and Accuracy is 53.271028037383175\n"
          ]
        },
        {
          "output_type": "stream",
          "name": "stderr",
          "text": [
            "\rPercentage training completed:  84%|████████▍ | 84/100 [00:47<00:08,  1.85it/s]"
          ]
        },
        {
          "output_type": "stream",
          "name": "stdout",
          "text": [
            "Training Loss after epoch 84 is 0.9947337061166763 and Accuracy is 53.62903225806452\n",
            "Validation Loss after epoch 84 is 0.9962146878242493 and Accuracy is 53.271028037383175\n"
          ]
        },
        {
          "output_type": "stream",
          "name": "stderr",
          "text": [
            "\rPercentage training completed:  85%|████████▌ | 85/100 [00:48<00:08,  1.86it/s]"
          ]
        },
        {
          "output_type": "stream",
          "name": "stdout",
          "text": [
            "Training Loss after epoch 85 is 0.9946403056383133 and Accuracy is 53.225806451612904\n",
            "Validation Loss after epoch 85 is 0.9960778951644897 and Accuracy is 53.271028037383175\n"
          ]
        },
        {
          "output_type": "stream",
          "name": "stderr",
          "text": [
            "\rPercentage training completed:  86%|████████▌ | 86/100 [00:48<00:07,  1.85it/s]"
          ]
        },
        {
          "output_type": "stream",
          "name": "stdout",
          "text": [
            "Training Loss after epoch 86 is 0.9946579113602638 and Accuracy is 53.225806451612904\n",
            "Validation Loss after epoch 86 is 0.9958810806274414 and Accuracy is 53.271028037383175\n"
          ]
        },
        {
          "output_type": "stream",
          "name": "stderr",
          "text": [
            "\rPercentage training completed:  87%|████████▋ | 87/100 [00:49<00:07,  1.84it/s]"
          ]
        },
        {
          "output_type": "stream",
          "name": "stdout",
          "text": [
            "Training Loss after epoch 87 is 0.9947874397039413 and Accuracy is 53.225806451612904\n",
            "Validation Loss after epoch 87 is 0.9956511855125427 and Accuracy is 53.271028037383175\n"
          ]
        },
        {
          "output_type": "stream",
          "name": "stderr",
          "text": [
            "\rPercentage training completed:  88%|████████▊ | 88/100 [00:49<00:06,  1.83it/s]"
          ]
        },
        {
          "output_type": "stream",
          "name": "stdout",
          "text": [
            "Training Loss after epoch 88 is 0.9950304329395294 and Accuracy is 53.225806451612904\n",
            "Validation Loss after epoch 88 is 0.9954131841659546 and Accuracy is 53.271028037383175\n"
          ]
        },
        {
          "output_type": "stream",
          "name": "stderr",
          "text": [
            "\rPercentage training completed:  89%|████████▉ | 89/100 [00:50<00:06,  1.83it/s]"
          ]
        },
        {
          "output_type": "stream",
          "name": "stdout",
          "text": [
            "Training Loss after epoch 89 is 0.9953862056136131 and Accuracy is 53.225806451612904\n",
            "Validation Loss after epoch 89 is 0.9951943159103394 and Accuracy is 53.271028037383175\n"
          ]
        },
        {
          "output_type": "stream",
          "name": "stderr",
          "text": [
            "\rPercentage training completed:  90%|█████████ | 90/100 [00:51<00:05,  1.80it/s]"
          ]
        },
        {
          "output_type": "stream",
          "name": "stdout",
          "text": [
            "Training Loss after epoch 90 is 0.9958437457680702 and Accuracy is 53.225806451612904\n",
            "Validation Loss after epoch 90 is 0.9950248599052429 and Accuracy is 53.271028037383175\n"
          ]
        },
        {
          "output_type": "stream",
          "name": "stderr",
          "text": [
            "\rPercentage training completed:  91%|█████████ | 91/100 [00:51<00:04,  1.81it/s]"
          ]
        },
        {
          "output_type": "stream",
          "name": "stdout",
          "text": [
            "Training Loss after epoch 91 is 0.9963691234588623 and Accuracy is 52.82258064516129\n",
            "Validation Loss after epoch 91 is 0.9949319958686829 and Accuracy is 53.271028037383175\n"
          ]
        },
        {
          "output_type": "stream",
          "name": "stderr",
          "text": [
            "\rPercentage training completed:  92%|█████████▏| 92/100 [00:52<00:04,  1.79it/s]"
          ]
        },
        {
          "output_type": "stream",
          "name": "stdout",
          "text": [
            "Training Loss after epoch 92 is 0.9968905970454216 and Accuracy is 52.82258064516129\n",
            "Validation Loss after epoch 92 is 0.9949259161949158 and Accuracy is 53.271028037383175\n"
          ]
        },
        {
          "output_type": "stream",
          "name": "stderr",
          "text": [
            "\rPercentage training completed:  93%|█████████▎| 93/100 [00:52<00:03,  1.79it/s]"
          ]
        },
        {
          "output_type": "stream",
          "name": "stdout",
          "text": [
            "Training Loss after epoch 93 is 0.9972858503460884 and Accuracy is 52.82258064516129\n",
            "Validation Loss after epoch 93 is 0.9950087070465088 and Accuracy is 53.271028037383175\n"
          ]
        },
        {
          "output_type": "stream",
          "name": "stderr",
          "text": [
            "\rPercentage training completed:  94%|█████████▍| 94/100 [00:53<00:03,  1.76it/s]"
          ]
        },
        {
          "output_type": "stream",
          "name": "stdout",
          "text": [
            "Training Loss after epoch 94 is 0.9973876029253006 and Accuracy is 52.82258064516129\n",
            "Validation Loss after epoch 94 is 0.9952355623245239 and Accuracy is 53.271028037383175\n"
          ]
        },
        {
          "output_type": "stream",
          "name": "stderr",
          "text": [
            "\rPercentage training completed:  95%|█████████▌| 95/100 [00:53<00:02,  1.78it/s]"
          ]
        },
        {
          "output_type": "stream",
          "name": "stdout",
          "text": [
            "Training Loss after epoch 95 is 0.9970306977629662 and Accuracy is 52.82258064516129\n",
            "Validation Loss after epoch 95 is 0.9957829713821411 and Accuracy is 53.271028037383175\n"
          ]
        },
        {
          "output_type": "stream",
          "name": "stderr",
          "text": [
            "\rPercentage training completed:  96%|█████████▌| 96/100 [00:54<00:02,  1.78it/s]"
          ]
        },
        {
          "output_type": "stream",
          "name": "stdout",
          "text": [
            "Training Loss after epoch 96 is 0.996156170964241 and Accuracy is 52.82258064516129\n",
            "Validation Loss after epoch 96 is 0.9968502521514893 and Accuracy is 53.271028037383175\n"
          ]
        },
        {
          "output_type": "stream",
          "name": "stderr",
          "text": [
            "\rPercentage training completed:  97%|█████████▋| 97/100 [00:55<00:01,  1.79it/s]"
          ]
        },
        {
          "output_type": "stream",
          "name": "stdout",
          "text": [
            "Training Loss after epoch 97 is 0.9949138164520264 and Accuracy is 53.62903225806452\n",
            "Validation Loss after epoch 97 is 0.9983695149421692 and Accuracy is 52.33644859813084\n"
          ]
        },
        {
          "output_type": "stream",
          "name": "stderr",
          "text": [
            "\rPercentage training completed:  98%|█████████▊| 98/100 [00:55<00:01,  1.79it/s]"
          ]
        },
        {
          "output_type": "stream",
          "name": "stdout",
          "text": [
            "Training Loss after epoch 98 is 0.9936211630702019 and Accuracy is 53.62903225806452\n",
            "Validation Loss after epoch 98 is 0.9998986721038818 and Accuracy is 52.33644859813084\n"
          ]
        },
        {
          "output_type": "stream",
          "name": "stderr",
          "text": [
            "\rPercentage training completed:  99%|█████████▉| 99/100 [00:56<00:00,  1.80it/s]"
          ]
        },
        {
          "output_type": "stream",
          "name": "stdout",
          "text": [
            "Training Loss after epoch 99 is 0.9925646707415581 and Accuracy is 53.62903225806452\n",
            "Validation Loss after epoch 99 is 1.0009419918060303 and Accuracy is 52.33644859813084\n"
          ]
        },
        {
          "output_type": "stream",
          "name": "stderr",
          "text": [
            "Percentage training completed: 100%|██████████| 100/100 [00:56<00:00,  1.76it/s]"
          ]
        },
        {
          "output_type": "stream",
          "name": "stdout",
          "text": [
            "Training Loss after epoch 100 is 0.9918549433350563 and Accuracy is 53.62903225806452\n",
            "Validation Loss after epoch 100 is 1.0012935400009155 and Accuracy is 52.33644859813084\n",
            "              precision    recall  f1-score   support\n",
            "\n",
            "           0       0.33      0.02      0.03        66\n",
            "           1       0.54      0.99      0.70       134\n",
            "           2       0.00      0.00      0.00        48\n",
            "\n",
            "    accuracy                           0.54       248\n",
            "   macro avg       0.29      0.33      0.24       248\n",
            "weighted avg       0.38      0.54      0.38       248\n",
            "\n",
            "              precision    recall  f1-score   support\n",
            "\n",
            "           0       0.00      0.00      0.00        23\n",
            "           1       0.53      0.98      0.69        57\n",
            "           2       0.00      0.00      0.00        27\n",
            "\n",
            "    accuracy                           0.52       107\n",
            "   macro avg       0.18      0.33      0.23       107\n",
            "weighted avg       0.28      0.52      0.37       107\n",
            "\n",
            "Validation Loss after epoch 100 is 1.0012935400009155 and Accuracy is 52.33644859813084\n"
          ]
        },
        {
          "output_type": "stream",
          "name": "stderr",
          "text": [
            "\n"
          ]
        },
        {
          "output_type": "display_data",
          "data": {
            "image/png": "[encoded data removed]",
            "text/plain": [
              "<Figure size 432x288 with 2 Axes>"
            ]
          },
          "metadata": {
            "needs_background": "light"
          }
        },
        {
          "output_type": "execute_result",
          "data": {
            "text/plain": [
              "ok    61\n",
              "Name: hdl_cholesterol_human, dtype: int64"
            ]
          },
          "metadata": {},
          "execution_count": 90
        }
      ]
    },
    {
      "cell_type": "code",
      "source": [
        "# HDL\n",
        "m_hgb = xbnet_model(df_trainu,y_hemoglobin_hgb_human,2,0.01)\n",
        "# Cholesterol hdl\n",
        "hemoglobin_hgb_human = predict(m_hgb,X_testu.to_numpy())\n",
        "test['hemoglobin_hgb_human'] = hemoglobin_hgb_human.astype(str)\n",
        "test['hemoglobin_hgb_human'] = test['hemoglobin_hgb_human'].replace(reverse_mapping)\n",
        "test['hemoglobin_hgb_human'].value_counts()"
      ],
      "metadata": {
        "id": "fKkQAD5C8Bjl",
        "outputId": "bc15e961-9347-45d9-fedb-6abfcf7dc609",
        "colab": {
          "base_uri": "https://localhost:8080/",
          "height": 1000
        }
      },
      "id": "fKkQAD5C8Bjl",
      "execution_count": 91,
      "outputs": [
        {
          "name": "stdout",
          "output_type": "stream",
          "text": [
            "Enter dimensions of linear layers: \n",
            "Enter input dimensions of layer 1: 10\n",
            "Enter output dimensions of layer 1: 10\n",
            "Set bias as True or False: False\n",
            "Enter input dimensions of layer 2: 10\n",
            "Enter output dimensions of layer 2: 10\n",
            "Set bias as True or False: False\n",
            "Enter your last layer \n",
            "1. Sigmoid \n",
            "2. Softmax \n",
            "3. None \n",
            "3\n"
          ]
        },
        {
          "output_type": "stream",
          "name": "stderr",
          "text": [
            "Percentage training completed:   1%|          | 1/100 [00:00<00:41,  2.38it/s]"
          ]
        },
        {
          "output_type": "stream",
          "name": "stdout",
          "text": [
            "Training Loss after epoch 1 is 1.207161145284772 and Accuracy is 88.30645161290323\n",
            "Validation Loss after epoch 1 is 0.6726456880569458 and Accuracy is 85.04672897196262\n"
          ]
        },
        {
          "output_type": "stream",
          "name": "stderr",
          "text": [
            "\rPercentage training completed:   2%|▏         | 2/100 [00:00<00:39,  2.49it/s]"
          ]
        },
        {
          "output_type": "stream",
          "name": "stdout",
          "text": [
            "Training Loss after epoch 2 is 0.7838617172092199 and Accuracy is 77.8225806451613\n",
            "Validation Loss after epoch 2 is 1.3318895101547241 and Accuracy is 85.04672897196262\n"
          ]
        },
        {
          "output_type": "stream",
          "name": "stderr",
          "text": [
            "\rPercentage training completed:   3%|▎         | 3/100 [00:01<00:38,  2.54it/s]"
          ]
        },
        {
          "output_type": "stream",
          "name": "stdout",
          "text": [
            "Training Loss after epoch 3 is 0.6310552358627319 and Accuracy is 88.30645161290323\n",
            "Validation Loss after epoch 3 is 0.7992247343063354 and Accuracy is 85.04672897196262\n"
          ]
        },
        {
          "output_type": "stream",
          "name": "stderr",
          "text": [
            "\rPercentage training completed:   4%|▍         | 4/100 [00:01<00:37,  2.55it/s]"
          ]
        },
        {
          "output_type": "stream",
          "name": "stdout",
          "text": [
            "Training Loss after epoch 4 is 0.4942841921001673 and Accuracy is 88.30645161290323\n",
            "Validation Loss after epoch 4 is 0.6057398915290833 and Accuracy is 85.04672897196262\n"
          ]
        },
        {
          "output_type": "stream",
          "name": "stderr",
          "text": [
            "\rPercentage training completed:   5%|▌         | 5/100 [00:01<00:36,  2.58it/s]"
          ]
        },
        {
          "output_type": "stream",
          "name": "stdout",
          "text": [
            "Training Loss after epoch 5 is 0.5194759927690029 and Accuracy is 88.30645161290323\n",
            "Validation Loss after epoch 5 is 0.8084056973457336 and Accuracy is 85.04672897196262\n"
          ]
        },
        {
          "output_type": "stream",
          "name": "stderr",
          "text": [
            "\rPercentage training completed:   6%|▌         | 6/100 [00:02<00:35,  2.62it/s]"
          ]
        },
        {
          "output_type": "stream",
          "name": "stdout",
          "text": [
            "Training Loss after epoch 6 is 0.5254668071866035 and Accuracy is 88.30645161290323\n",
            "Validation Loss after epoch 6 is 0.6720377802848816 and Accuracy is 85.04672897196262\n"
          ]
        },
        {
          "output_type": "stream",
          "name": "stderr",
          "text": [
            "\rPercentage training completed:   7%|▋         | 7/100 [00:02<00:35,  2.63it/s]"
          ]
        },
        {
          "output_type": "stream",
          "name": "stdout",
          "text": [
            "Training Loss after epoch 7 is 0.4820129480212927 and Accuracy is 88.30645161290323\n",
            "Validation Loss after epoch 7 is 0.6323729753494263 and Accuracy is 85.04672897196262\n"
          ]
        },
        {
          "output_type": "stream",
          "name": "stderr",
          "text": [
            "\rPercentage training completed:   8%|▊         | 8/100 [00:03<00:34,  2.68it/s]"
          ]
        },
        {
          "output_type": "stream",
          "name": "stdout",
          "text": [
            "Training Loss after epoch 8 is 0.47496000304818153 and Accuracy is 88.30645161290323\n",
            "Validation Loss after epoch 8 is 0.6805064678192139 and Accuracy is 85.04672897196262\n"
          ]
        },
        {
          "output_type": "stream",
          "name": "stderr",
          "text": [
            "\rPercentage training completed:   9%|▉         | 9/100 [00:03<00:33,  2.72it/s]"
          ]
        },
        {
          "output_type": "stream",
          "name": "stdout",
          "text": [
            "Training Loss after epoch 9 is 0.4895128346979618 and Accuracy is 88.30645161290323\n",
            "Validation Loss after epoch 9 is 0.6643444895744324 and Accuracy is 85.04672897196262\n"
          ]
        },
        {
          "output_type": "stream",
          "name": "stderr",
          "text": [
            "\rPercentage training completed:  10%|█         | 10/100 [00:03<00:32,  2.75it/s]"
          ]
        },
        {
          "output_type": "stream",
          "name": "stdout",
          "text": [
            "Training Loss after epoch 10 is 0.4856055788695812 and Accuracy is 88.30645161290323\n",
            "Validation Loss after epoch 10 is 0.6466415524482727 and Accuracy is 85.04672897196262\n"
          ]
        },
        {
          "output_type": "stream",
          "name": "stderr",
          "text": [
            "\rPercentage training completed:  11%|█         | 11/100 [00:04<00:32,  2.77it/s]"
          ]
        },
        {
          "output_type": "stream",
          "name": "stdout",
          "text": [
            "Training Loss after epoch 11 is 0.4773418828845024 and Accuracy is 88.30645161290323\n",
            "Validation Loss after epoch 11 is 0.6565594673156738 and Accuracy is 85.04672897196262\n"
          ]
        },
        {
          "output_type": "stream",
          "name": "stderr",
          "text": [
            "\rPercentage training completed:  12%|█▏        | 12/100 [00:04<00:31,  2.80it/s]"
          ]
        },
        {
          "output_type": "stream",
          "name": "stdout",
          "text": [
            "Training Loss after epoch 12 is 0.4770474638789892 and Accuracy is 88.30645161290323\n",
            "Validation Loss after epoch 12 is 0.6582862138748169 and Accuracy is 85.04672897196262\n"
          ]
        },
        {
          "output_type": "stream",
          "name": "stderr",
          "text": [
            "\rPercentage training completed:  13%|█▎        | 13/100 [00:04<00:31,  2.78it/s]"
          ]
        },
        {
          "output_type": "stream",
          "name": "stdout",
          "text": [
            "Training Loss after epoch 13 is 0.4773345198482275 and Accuracy is 88.30645161290323\n",
            "Validation Loss after epoch 13 is 0.6510912179946899 and Accuracy is 85.04672897196262\n"
          ]
        },
        {
          "output_type": "stream",
          "name": "stderr",
          "text": [
            "\rPercentage training completed:  14%|█▍        | 14/100 [00:05<00:30,  2.81it/s]"
          ]
        },
        {
          "output_type": "stream",
          "name": "stdout",
          "text": [
            "Training Loss after epoch 14 is 0.4746889341622591 and Accuracy is 88.30645161290323\n",
            "Validation Loss after epoch 14 is 0.6494995355606079 and Accuracy is 85.04672897196262\n"
          ]
        },
        {
          "output_type": "stream",
          "name": "stderr",
          "text": [
            "\rPercentage training completed:  15%|█▌        | 15/100 [00:05<00:30,  2.83it/s]"
          ]
        },
        {
          "output_type": "stream",
          "name": "stdout",
          "text": [
            "Training Loss after epoch 15 is 0.4722521938383579 and Accuracy is 88.30645161290323\n",
            "Validation Loss after epoch 15 is 0.651557445526123 and Accuracy is 85.04672897196262\n"
          ]
        },
        {
          "output_type": "stream",
          "name": "stderr",
          "text": [
            "\rPercentage training completed:  16%|█▌        | 16/100 [00:05<00:29,  2.80it/s]"
          ]
        },
        {
          "output_type": "stream",
          "name": "stdout",
          "text": [
            "Training Loss after epoch 16 is 0.4709637984633446 and Accuracy is 88.30645161290323\n",
            "Validation Loss after epoch 16 is 0.6511214971542358 and Accuracy is 85.04672897196262\n"
          ]
        },
        {
          "output_type": "stream",
          "name": "stderr",
          "text": [
            "\rPercentage training completed:  17%|█▋        | 17/100 [00:06<00:29,  2.84it/s]"
          ]
        },
        {
          "output_type": "stream",
          "name": "stdout",
          "text": [
            "Training Loss after epoch 17 is 0.46968033351004124 and Accuracy is 88.30645161290323\n",
            "Validation Loss after epoch 17 is 0.6491948366165161 and Accuracy is 85.04672897196262\n"
          ]
        },
        {
          "output_type": "stream",
          "name": "stderr",
          "text": [
            "\rPercentage training completed:  18%|█▊        | 18/100 [00:06<00:28,  2.87it/s]"
          ]
        },
        {
          "output_type": "stream",
          "name": "stdout",
          "text": [
            "Training Loss after epoch 18 is 0.46818277798593044 and Accuracy is 88.30645161290323\n",
            "Validation Loss after epoch 18 is 0.6484671831130981 and Accuracy is 85.04672897196262\n"
          ]
        },
        {
          "output_type": "stream",
          "name": "stderr",
          "text": [
            "\rPercentage training completed:  19%|█▉        | 19/100 [00:06<00:28,  2.83it/s]"
          ]
        },
        {
          "output_type": "stream",
          "name": "stdout",
          "text": [
            "Training Loss after epoch 19 is 0.46683243848383427 and Accuracy is 88.30645161290323\n",
            "Validation Loss after epoch 19 is 0.648623526096344 and Accuracy is 85.04672897196262\n"
          ]
        },
        {
          "output_type": "stream",
          "name": "stderr",
          "text": [
            "\rPercentage training completed:  20%|██        | 20/100 [00:07<00:28,  2.84it/s]"
          ]
        },
        {
          "output_type": "stream",
          "name": "stdout",
          "text": [
            "Training Loss after epoch 20 is 0.46566407941281796 and Accuracy is 88.30645161290323\n",
            "Validation Loss after epoch 20 is 0.6484915018081665 and Accuracy is 85.04672897196262\n"
          ]
        },
        {
          "output_type": "stream",
          "name": "stderr",
          "text": [
            "\rPercentage training completed:  21%|██        | 21/100 [00:07<00:27,  2.85it/s]"
          ]
        },
        {
          "output_type": "stream",
          "name": "stdout",
          "text": [
            "Training Loss after epoch 21 is 0.46460009552538395 and Accuracy is 88.30645161290323\n",
            "Validation Loss after epoch 21 is 0.6480324268341064 and Accuracy is 85.04672897196262\n"
          ]
        },
        {
          "output_type": "stream",
          "name": "stderr",
          "text": [
            "\rPercentage training completed:  22%|██▏       | 22/100 [00:08<00:27,  2.85it/s]"
          ]
        },
        {
          "output_type": "stream",
          "name": "stdout",
          "text": [
            "Training Loss after epoch 22 is 0.4636117573827505 and Accuracy is 88.30645161290323\n",
            "Validation Loss after epoch 22 is 0.6476470828056335 and Accuracy is 85.04672897196262\n"
          ]
        },
        {
          "output_type": "stream",
          "name": "stderr",
          "text": [
            "\rPercentage training completed:  23%|██▎       | 23/100 [00:08<00:27,  2.84it/s]"
          ]
        },
        {
          "output_type": "stream",
          "name": "stdout",
          "text": [
            "Training Loss after epoch 23 is 0.46267714351415634 and Accuracy is 88.30645161290323\n",
            "Validation Loss after epoch 23 is 0.6474318504333496 and Accuracy is 85.04672897196262\n"
          ]
        },
        {
          "output_type": "stream",
          "name": "stderr",
          "text": [
            "\rPercentage training completed:  24%|██▍       | 24/100 [00:08<00:26,  2.83it/s]"
          ]
        },
        {
          "output_type": "stream",
          "name": "stdout",
          "text": [
            "Training Loss after epoch 24 is 0.4618098046630621 and Accuracy is 88.30645161290323\n",
            "Validation Loss after epoch 24 is 0.6472848057746887 and Accuracy is 85.04672897196262\n"
          ]
        },
        {
          "output_type": "stream",
          "name": "stderr",
          "text": [
            "\rPercentage training completed:  25%|██▌       | 25/100 [00:09<00:26,  2.85it/s]"
          ]
        },
        {
          "output_type": "stream",
          "name": "stdout",
          "text": [
            "Training Loss after epoch 25 is 0.4610189162194729 and Accuracy is 88.30645161290323\n",
            "Validation Loss after epoch 25 is 0.6471104621887207 and Accuracy is 85.04672897196262\n"
          ]
        },
        {
          "output_type": "stream",
          "name": "stderr",
          "text": [
            "\rPercentage training completed:  26%|██▌       | 26/100 [00:09<00:25,  2.85it/s]"
          ]
        },
        {
          "output_type": "stream",
          "name": "stdout",
          "text": [
            "Training Loss after epoch 26 is 0.4602843690663576 and Accuracy is 88.30645161290323\n",
            "Validation Loss after epoch 26 is 0.6468981504440308 and Accuracy is 85.04672897196262\n"
          ]
        },
        {
          "output_type": "stream",
          "name": "stderr",
          "text": [
            "\rPercentage training completed:  27%|██▋       | 27/100 [00:09<00:25,  2.84it/s]"
          ]
        },
        {
          "output_type": "stream",
          "name": "stdout",
          "text": [
            "Training Loss after epoch 27 is 0.45959522761404514 and Accuracy is 88.30645161290323\n",
            "Validation Loss after epoch 27 is 0.6466884613037109 and Accuracy is 85.04672897196262\n"
          ]
        },
        {
          "output_type": "stream",
          "name": "stderr",
          "text": [
            "\rPercentage training completed:  28%|██▊       | 28/100 [00:10<00:26,  2.77it/s]"
          ]
        },
        {
          "output_type": "stream",
          "name": "stdout",
          "text": [
            "Training Loss after epoch 28 is 0.458950400352478 and Accuracy is 88.30645161290323\n",
            "Validation Loss after epoch 28 is 0.6464983820915222 and Accuracy is 85.04672897196262\n"
          ]
        },
        {
          "output_type": "stream",
          "name": "stderr",
          "text": [
            "\rPercentage training completed:  29%|██▉       | 29/100 [00:10<00:25,  2.79it/s]"
          ]
        },
        {
          "output_type": "stream",
          "name": "stdout",
          "text": [
            "Training Loss after epoch 29 is 0.45834533870220184 and Accuracy is 88.30645161290323\n",
            "Validation Loss after epoch 29 is 0.6463173627853394 and Accuracy is 85.04672897196262\n"
          ]
        },
        {
          "output_type": "stream",
          "name": "stderr",
          "text": [
            "\rPercentage training completed:  30%|███       | 30/100 [00:10<00:25,  2.76it/s]"
          ]
        },
        {
          "output_type": "stream",
          "name": "stdout",
          "text": [
            "Training Loss after epoch 30 is 0.4577774088829756 and Accuracy is 88.30645161290323\n",
            "Validation Loss after epoch 30 is 0.6461364030838013 and Accuracy is 85.04672897196262\n"
          ]
        },
        {
          "output_type": "stream",
          "name": "stderr",
          "text": [
            "\rPercentage training completed:  31%|███       | 31/100 [00:11<00:24,  2.79it/s]"
          ]
        },
        {
          "output_type": "stream",
          "name": "stdout",
          "text": [
            "Training Loss after epoch 31 is 0.457243075594306 and Accuracy is 88.30645161290323\n",
            "Validation Loss after epoch 31 is 0.6459524631500244 and Accuracy is 85.04672897196262\n"
          ]
        },
        {
          "output_type": "stream",
          "name": "stderr",
          "text": [
            "\rPercentage training completed:  32%|███▏      | 32/100 [00:11<00:24,  2.78it/s]"
          ]
        },
        {
          "output_type": "stream",
          "name": "stdout",
          "text": [
            "Training Loss after epoch 32 is 0.4567381050437689 and Accuracy is 88.30645161290323\n",
            "Validation Loss after epoch 32 is 0.6457687616348267 and Accuracy is 85.04672897196262\n"
          ]
        },
        {
          "output_type": "stream",
          "name": "stderr",
          "text": [
            "\rPercentage training completed:  33%|███▎      | 33/100 [00:11<00:24,  2.72it/s]"
          ]
        },
        {
          "output_type": "stream",
          "name": "stdout",
          "text": [
            "Training Loss after epoch 33 is 0.4562600292265415 and Accuracy is 88.30645161290323\n",
            "Validation Loss after epoch 33 is 0.6455889940261841 and Accuracy is 85.04672897196262\n"
          ]
        },
        {
          "output_type": "stream",
          "name": "stderr",
          "text": [
            "\rPercentage training completed:  34%|███▍      | 34/100 [00:12<00:23,  2.77it/s]"
          ]
        },
        {
          "output_type": "stream",
          "name": "stdout",
          "text": [
            "Training Loss after epoch 34 is 0.4558065067976713 and Accuracy is 88.30645161290323\n",
            "Validation Loss after epoch 34 is 0.6454145908355713 and Accuracy is 85.04672897196262\n"
          ]
        },
        {
          "output_type": "stream",
          "name": "stderr",
          "text": [
            "\rPercentage training completed:  35%|███▌      | 35/100 [00:12<00:23,  2.79it/s]"
          ]
        },
        {
          "output_type": "stream",
          "name": "stdout",
          "text": [
            "Training Loss after epoch 35 is 0.4553756471723318 and Accuracy is 88.30645161290323\n",
            "Validation Loss after epoch 35 is 0.6452456712722778 and Accuracy is 85.04672897196262\n"
          ]
        },
        {
          "output_type": "stream",
          "name": "stderr",
          "text": [
            "\rPercentage training completed:  36%|███▌      | 36/100 [00:13<00:23,  2.72it/s]"
          ]
        },
        {
          "output_type": "stream",
          "name": "stdout",
          "text": [
            "Training Loss after epoch 36 is 0.454965703189373 and Accuracy is 88.30645161290323\n",
            "Validation Loss after epoch 36 is 0.6450823545455933 and Accuracy is 85.04672897196262\n"
          ]
        },
        {
          "output_type": "stream",
          "name": "stderr",
          "text": [
            "\rPercentage training completed:  37%|███▋      | 37/100 [00:13<00:22,  2.76it/s]"
          ]
        },
        {
          "output_type": "stream",
          "name": "stdout",
          "text": [
            "Training Loss after epoch 37 is 0.45457497611641884 and Accuracy is 88.30645161290323\n",
            "Validation Loss after epoch 37 is 0.6449248790740967 and Accuracy is 85.04672897196262\n"
          ]
        },
        {
          "output_type": "stream",
          "name": "stderr",
          "text": [
            "\rPercentage training completed:  38%|███▊      | 38/100 [00:13<00:22,  2.78it/s]"
          ]
        },
        {
          "output_type": "stream",
          "name": "stdout",
          "text": [
            "Training Loss after epoch 38 is 0.45420211367309093 and Accuracy is 88.30645161290323\n",
            "Validation Loss after epoch 38 is 0.6447739601135254 and Accuracy is 85.04672897196262\n"
          ]
        },
        {
          "output_type": "stream",
          "name": "stderr",
          "text": [
            "\rPercentage training completed:  39%|███▉      | 39/100 [00:14<00:22,  2.74it/s]"
          ]
        },
        {
          "output_type": "stream",
          "name": "stdout",
          "text": [
            "Training Loss after epoch 39 is 0.4538457989692688 and Accuracy is 88.30645161290323\n",
            "Validation Loss after epoch 39 is 0.6446301937103271 and Accuracy is 85.04672897196262\n"
          ]
        },
        {
          "output_type": "stream",
          "name": "stderr",
          "text": [
            "\rPercentage training completed:  40%|████      | 40/100 [00:14<00:21,  2.78it/s]"
          ]
        },
        {
          "output_type": "stream",
          "name": "stdout",
          "text": [
            "Training Loss after epoch 40 is 0.45350496284663677 and Accuracy is 88.30645161290323\n",
            "Validation Loss after epoch 40 is 0.6444941163063049 and Accuracy is 85.04672897196262\n"
          ]
        },
        {
          "output_type": "stream",
          "name": "stderr",
          "text": [
            "\rPercentage training completed:  41%|████      | 41/100 [00:14<00:21,  2.74it/s]"
          ]
        },
        {
          "output_type": "stream",
          "name": "stdout",
          "text": [
            "Training Loss after epoch 41 is 0.4531787019222975 and Accuracy is 88.30645161290323\n",
            "Validation Loss after epoch 41 is 0.6443657875061035 and Accuracy is 85.04672897196262\n"
          ]
        },
        {
          "output_type": "stream",
          "name": "stderr",
          "text": [
            "\rPercentage training completed:  42%|████▏     | 42/100 [00:15<00:21,  2.74it/s]"
          ]
        },
        {
          "output_type": "stream",
          "name": "stdout",
          "text": [
            "Training Loss after epoch 42 is 0.4528660885989666 and Accuracy is 88.30645161290323\n",
            "Validation Loss after epoch 42 is 0.644244909286499 and Accuracy is 85.04672897196262\n"
          ]
        },
        {
          "output_type": "stream",
          "name": "stderr",
          "text": [
            "\rPercentage training completed:  43%|████▎     | 43/100 [00:15<00:20,  2.76it/s]"
          ]
        },
        {
          "output_type": "stream",
          "name": "stdout",
          "text": [
            "Training Loss after epoch 43 is 0.45256636664271355 and Accuracy is 88.30645161290323\n",
            "Validation Loss after epoch 43 is 0.6441316604614258 and Accuracy is 85.04672897196262\n"
          ]
        },
        {
          "output_type": "stream",
          "name": "stderr",
          "text": [
            "\rPercentage training completed:  44%|████▍     | 44/100 [00:15<00:20,  2.71it/s]"
          ]
        },
        {
          "output_type": "stream",
          "name": "stdout",
          "text": [
            "Training Loss after epoch 44 is 0.4522786997258663 and Accuracy is 88.30645161290323\n",
            "Validation Loss after epoch 44 is 0.6440261602401733 and Accuracy is 85.04672897196262\n"
          ]
        },
        {
          "output_type": "stream",
          "name": "stderr",
          "text": [
            "\rPercentage training completed:  45%|████▌     | 45/100 [00:16<00:20,  2.73it/s]"
          ]
        },
        {
          "output_type": "stream",
          "name": "stdout",
          "text": [
            "Training Loss after epoch 45 is 0.4520025085657835 and Accuracy is 88.30645161290323\n",
            "Validation Loss after epoch 45 is 0.643927812576294 and Accuracy is 85.04672897196262\n"
          ]
        },
        {
          "output_type": "stream",
          "name": "stderr",
          "text": [
            "\rPercentage training completed:  46%|████▌     | 46/100 [00:16<00:19,  2.79it/s]"
          ]
        },
        {
          "output_type": "stream",
          "name": "stdout",
          "text": [
            "Training Loss after epoch 46 is 0.4517372138798237 and Accuracy is 88.30645161290323\n",
            "Validation Loss after epoch 46 is 0.6438370943069458 and Accuracy is 85.04672897196262\n"
          ]
        },
        {
          "output_type": "stream",
          "name": "stderr",
          "text": [
            "\rPercentage training completed:  47%|████▋     | 47/100 [00:17<00:19,  2.77it/s]"
          ]
        },
        {
          "output_type": "stream",
          "name": "stdout",
          "text": [
            "Training Loss after epoch 47 is 0.4514821209013462 and Accuracy is 88.30645161290323\n",
            "Validation Loss after epoch 47 is 0.6437532901763916 and Accuracy is 85.04672897196262\n"
          ]
        },
        {
          "output_type": "stream",
          "name": "stderr",
          "text": [
            "\rPercentage training completed:  48%|████▊     | 48/100 [00:17<00:18,  2.78it/s]"
          ]
        },
        {
          "output_type": "stream",
          "name": "stdout",
          "text": [
            "Training Loss after epoch 48 is 0.45123687013983727 and Accuracy is 88.30645161290323\n",
            "Validation Loss after epoch 48 is 0.6436765193939209 and Accuracy is 85.04672897196262\n"
          ]
        },
        {
          "output_type": "stream",
          "name": "stderr",
          "text": [
            "\rPercentage training completed:  49%|████▉     | 49/100 [00:17<00:18,  2.82it/s]"
          ]
        },
        {
          "output_type": "stream",
          "name": "stdout",
          "text": [
            "Training Loss after epoch 49 is 0.4510009214282036 and Accuracy is 88.30645161290323\n",
            "Validation Loss after epoch 49 is 0.6436061859130859 and Accuracy is 85.04672897196262\n"
          ]
        },
        {
          "output_type": "stream",
          "name": "stderr",
          "text": [
            "\rPercentage training completed:  50%|█████     | 50/100 [00:18<00:18,  2.77it/s]"
          ]
        },
        {
          "output_type": "stream",
          "name": "stdout",
          "text": [
            "Training Loss after epoch 50 is 0.45077373273670673 and Accuracy is 88.30645161290323\n",
            "Validation Loss after epoch 50 is 0.6435425281524658 and Accuracy is 85.04672897196262\n"
          ]
        },
        {
          "output_type": "stream",
          "name": "stderr",
          "text": [
            "\rPercentage training completed:  51%|█████     | 51/100 [00:18<00:17,  2.77it/s]"
          ]
        },
        {
          "output_type": "stream",
          "name": "stdout",
          "text": [
            "Training Loss after epoch 51 is 0.450555007904768 and Accuracy is 88.30645161290323\n",
            "Validation Loss after epoch 51 is 0.6434851884841919 and Accuracy is 85.04672897196262\n"
          ]
        },
        {
          "output_type": "stream",
          "name": "stderr",
          "text": [
            "\rPercentage training completed:  52%|█████▏    | 52/100 [00:18<00:17,  2.80it/s]"
          ]
        },
        {
          "output_type": "stream",
          "name": "stdout",
          "text": [
            "Training Loss after epoch 52 is 0.45034433901309967 and Accuracy is 88.30645161290323\n",
            "Validation Loss after epoch 52 is 0.6434339284896851 and Accuracy is 85.04672897196262\n"
          ]
        },
        {
          "output_type": "stream",
          "name": "stderr",
          "text": [
            "\rPercentage training completed:  53%|█████▎    | 53/100 [00:19<00:16,  2.82it/s]"
          ]
        },
        {
          "output_type": "stream",
          "name": "stdout",
          "text": [
            "Training Loss after epoch 53 is 0.4501413144171238 and Accuracy is 88.30645161290323\n",
            "Validation Loss after epoch 53 is 0.6433887481689453 and Accuracy is 85.04672897196262\n"
          ]
        },
        {
          "output_type": "stream",
          "name": "stderr",
          "text": [
            "\rPercentage training completed:  54%|█████▍    | 54/100 [00:19<00:16,  2.85it/s]"
          ]
        },
        {
          "output_type": "stream",
          "name": "stdout",
          "text": [
            "Training Loss after epoch 54 is 0.4499457012861967 and Accuracy is 88.30645161290323\n",
            "Validation Loss after epoch 54 is 0.6433491706848145 and Accuracy is 85.04672897196262\n"
          ]
        },
        {
          "output_type": "stream",
          "name": "stderr",
          "text": [
            "\rPercentage training completed:  55%|█████▌    | 55/100 [00:19<00:15,  2.86it/s]"
          ]
        },
        {
          "output_type": "stream",
          "name": "stdout",
          "text": [
            "Training Loss after epoch 55 is 0.44975703954696655 and Accuracy is 88.30645161290323\n",
            "Validation Loss after epoch 55 is 0.6433150172233582 and Accuracy is 85.04672897196262\n"
          ]
        },
        {
          "output_type": "stream",
          "name": "stderr",
          "text": [
            "\rPercentage training completed:  56%|█████▌    | 56/100 [00:20<00:15,  2.81it/s]"
          ]
        },
        {
          "output_type": "stream",
          "name": "stdout",
          "text": [
            "Training Loss after epoch 56 is 0.44957514479756355 and Accuracy is 88.30645161290323\n",
            "Validation Loss after epoch 56 is 0.6432863473892212 and Accuracy is 85.04672897196262\n"
          ]
        },
        {
          "output_type": "stream",
          "name": "stderr",
          "text": [
            "\rPercentage training completed:  57%|█████▋    | 57/100 [00:20<00:15,  2.85it/s]"
          ]
        },
        {
          "output_type": "stream",
          "name": "stdout",
          "text": [
            "Training Loss after epoch 57 is 0.44939967431128025 and Accuracy is 88.30645161290323\n",
            "Validation Loss after epoch 57 is 0.6432627439498901 and Accuracy is 85.04672897196262\n"
          ]
        },
        {
          "output_type": "stream",
          "name": "stderr",
          "text": [
            "\rPercentage training completed:  58%|█████▊    | 58/100 [00:20<00:14,  2.81it/s]"
          ]
        },
        {
          "output_type": "stream",
          "name": "stdout",
          "text": [
            "Training Loss after epoch 58 is 0.44923042319715023 and Accuracy is 88.30645161290323\n",
            "Validation Loss after epoch 58 is 0.6432441473007202 and Accuracy is 85.04672897196262\n"
          ]
        },
        {
          "output_type": "stream",
          "name": "stderr",
          "text": [
            "\rPercentage training completed:  59%|█████▉    | 59/100 [00:21<00:14,  2.81it/s]"
          ]
        },
        {
          "output_type": "stream",
          "name": "stdout",
          "text": [
            "Training Loss after epoch 59 is 0.4490671157836914 and Accuracy is 88.30645161290323\n",
            "Validation Loss after epoch 59 is 0.6432303190231323 and Accuracy is 85.04672897196262\n"
          ]
        },
        {
          "output_type": "stream",
          "name": "stderr",
          "text": [
            "\rPercentage training completed:  60%|██████    | 60/100 [00:21<00:14,  2.82it/s]"
          ]
        },
        {
          "output_type": "stream",
          "name": "stdout",
          "text": [
            "Training Loss after epoch 60 is 0.44890942238271236 and Accuracy is 88.30645161290323\n",
            "Validation Loss after epoch 60 is 0.6432209014892578 and Accuracy is 85.04672897196262\n"
          ]
        },
        {
          "output_type": "stream",
          "name": "stderr",
          "text": [
            "\rPercentage training completed:  61%|██████    | 61/100 [00:22<00:14,  2.76it/s]"
          ]
        },
        {
          "output_type": "stream",
          "name": "stdout",
          "text": [
            "Training Loss after epoch 61 is 0.4487573243677616 and Accuracy is 88.30645161290323\n",
            "Validation Loss after epoch 61 is 0.6432156562805176 and Accuracy is 85.04672897196262\n"
          ]
        },
        {
          "output_type": "stream",
          "name": "stderr",
          "text": [
            "\rPercentage training completed:  62%|██████▏   | 62/100 [00:22<00:13,  2.76it/s]"
          ]
        },
        {
          "output_type": "stream",
          "name": "stdout",
          "text": [
            "Training Loss after epoch 62 is 0.4486103989183903 and Accuracy is 88.30645161290323\n",
            "Validation Loss after epoch 62 is 0.6432148218154907 and Accuracy is 85.04672897196262\n"
          ]
        },
        {
          "output_type": "stream",
          "name": "stderr",
          "text": [
            "\rPercentage training completed:  63%|██████▎   | 63/100 [00:22<00:13,  2.80it/s]"
          ]
        },
        {
          "output_type": "stream",
          "name": "stdout",
          "text": [
            "Training Loss after epoch 63 is 0.44846859760582447 and Accuracy is 88.30645161290323\n",
            "Validation Loss after epoch 63 is 0.6432178020477295 and Accuracy is 85.04672897196262\n"
          ]
        },
        {
          "output_type": "stream",
          "name": "stderr",
          "text": [
            "\rPercentage training completed:  64%|██████▍   | 64/100 [00:23<00:13,  2.76it/s]"
          ]
        },
        {
          "output_type": "stream",
          "name": "stdout",
          "text": [
            "Training Loss after epoch 64 is 0.44833155162632465 and Accuracy is 88.30645161290323\n",
            "Validation Loss after epoch 64 is 0.6432245373725891 and Accuracy is 85.04672897196262\n"
          ]
        },
        {
          "output_type": "stream",
          "name": "stderr",
          "text": [
            "\rPercentage training completed:  65%|██████▌   | 65/100 [00:23<00:12,  2.80it/s]"
          ]
        },
        {
          "output_type": "stream",
          "name": "stdout",
          "text": [
            "Training Loss after epoch 65 is 0.448199313133955 and Accuracy is 88.30645161290323\n",
            "Validation Loss after epoch 65 is 0.6432347297668457 and Accuracy is 85.04672897196262\n"
          ]
        },
        {
          "output_type": "stream",
          "name": "stderr",
          "text": [
            "\rPercentage training completed:  66%|██████▌   | 66/100 [00:23<00:12,  2.83it/s]"
          ]
        },
        {
          "output_type": "stream",
          "name": "stdout",
          "text": [
            "Training Loss after epoch 66 is 0.4480714686214924 and Accuracy is 88.30645161290323\n",
            "Validation Loss after epoch 66 is 0.643248438835144 and Accuracy is 85.04672897196262\n"
          ]
        },
        {
          "output_type": "stream",
          "name": "stderr",
          "text": [
            "\rPercentage training completed:  67%|██████▋   | 67/100 [00:24<00:11,  2.81it/s]"
          ]
        },
        {
          "output_type": "stream",
          "name": "stdout",
          "text": [
            "Training Loss after epoch 67 is 0.44794799387454987 and Accuracy is 88.30645161290323\n",
            "Validation Loss after epoch 67 is 0.6432651281356812 and Accuracy is 85.04672897196262\n"
          ]
        },
        {
          "output_type": "stream",
          "name": "stderr",
          "text": [
            "\rPercentage training completed:  68%|██████▊   | 68/100 [00:24<00:11,  2.83it/s]"
          ]
        },
        {
          "output_type": "stream",
          "name": "stdout",
          "text": [
            "Training Loss after epoch 68 is 0.4478286746889353 and Accuracy is 88.30645161290323\n",
            "Validation Loss after epoch 68 is 0.6432848572731018 and Accuracy is 85.04672897196262\n"
          ]
        },
        {
          "output_type": "stream",
          "name": "stderr",
          "text": [
            "\rPercentage training completed:  69%|██████▉   | 69/100 [00:24<00:10,  2.86it/s]"
          ]
        },
        {
          "output_type": "stream",
          "name": "stdout",
          "text": [
            "Training Loss after epoch 69 is 0.4477133136242628 and Accuracy is 88.30645161290323\n",
            "Validation Loss after epoch 69 is 0.643307626247406 and Accuracy is 85.04672897196262\n"
          ]
        },
        {
          "output_type": "stream",
          "name": "stderr",
          "text": [
            "\rPercentage training completed:  70%|███████   | 70/100 [00:25<00:10,  2.82it/s]"
          ]
        },
        {
          "output_type": "stream",
          "name": "stdout",
          "text": [
            "Training Loss after epoch 70 is 0.44760181941092014 and Accuracy is 88.30645161290323\n",
            "Validation Loss after epoch 70 is 0.643332839012146 and Accuracy is 85.04672897196262\n"
          ]
        },
        {
          "output_type": "stream",
          "name": "stderr",
          "text": [
            "\rPercentage training completed:  71%|███████   | 71/100 [00:25<00:10,  2.86it/s]"
          ]
        },
        {
          "output_type": "stream",
          "name": "stdout",
          "text": [
            "Training Loss after epoch 71 is 0.44749402068555355 and Accuracy is 88.30645161290323\n",
            "Validation Loss after epoch 71 is 0.6433604955673218 and Accuracy is 85.04672897196262\n"
          ]
        },
        {
          "output_type": "stream",
          "name": "stderr",
          "text": [
            "\rPercentage training completed:  72%|███████▏  | 72/100 [00:25<00:09,  2.87it/s]"
          ]
        },
        {
          "output_type": "stream",
          "name": "stdout",
          "text": [
            "Training Loss after epoch 72 is 0.4473897647112608 and Accuracy is 88.30645161290323\n",
            "Validation Loss after epoch 72 is 0.6433904767036438 and Accuracy is 85.04672897196262\n"
          ]
        },
        {
          "output_type": "stream",
          "name": "stderr",
          "text": [
            "\rPercentage training completed:  73%|███████▎  | 73/100 [00:26<00:09,  2.82it/s]"
          ]
        },
        {
          "output_type": "stream",
          "name": "stdout",
          "text": [
            "Training Loss after epoch 73 is 0.44728892482817173 and Accuracy is 88.30645161290323\n",
            "Validation Loss after epoch 73 is 0.643422544002533 and Accuracy is 85.04672897196262\n"
          ]
        },
        {
          "output_type": "stream",
          "name": "stderr",
          "text": [
            "\rPercentage training completed:  74%|███████▍  | 74/100 [00:26<00:09,  2.81it/s]"
          ]
        },
        {
          "output_type": "stream",
          "name": "stdout",
          "text": [
            "Training Loss after epoch 74 is 0.4471913371235132 and Accuracy is 88.30645161290323\n",
            "Validation Loss after epoch 74 is 0.6434566974639893 and Accuracy is 85.04672897196262\n"
          ]
        },
        {
          "output_type": "stream",
          "name": "stderr",
          "text": [
            "\rPercentage training completed:  75%|███████▌  | 75/100 [00:26<00:08,  2.80it/s]"
          ]
        },
        {
          "output_type": "stream",
          "name": "stdout",
          "text": [
            "Training Loss after epoch 75 is 0.44709691777825356 and Accuracy is 88.30645161290323\n",
            "Validation Loss after epoch 75 is 0.6434928178787231 and Accuracy is 85.04672897196262\n"
          ]
        },
        {
          "output_type": "stream",
          "name": "stderr",
          "text": [
            "\rPercentage training completed:  76%|███████▌  | 76/100 [00:27<00:08,  2.79it/s]"
          ]
        },
        {
          "output_type": "stream",
          "name": "stdout",
          "text": [
            "Training Loss after epoch 76 is 0.4470055103302002 and Accuracy is 88.30645161290323\n",
            "Validation Loss after epoch 76 is 0.6435303092002869 and Accuracy is 85.04672897196262\n"
          ]
        },
        {
          "output_type": "stream",
          "name": "stderr",
          "text": [
            "\rPercentage training completed:  77%|███████▋  | 77/100 [00:27<00:08,  2.83it/s]"
          ]
        },
        {
          "output_type": "stream",
          "name": "stdout",
          "text": [
            "Training Loss after epoch 77 is 0.44691700488328934 and Accuracy is 88.30645161290323\n",
            "Validation Loss after epoch 77 is 0.6435694098472595 and Accuracy is 85.04672897196262\n"
          ]
        },
        {
          "output_type": "stream",
          "name": "stderr",
          "text": [
            "\rPercentage training completed:  78%|███████▊  | 78/100 [00:28<00:07,  2.82it/s]"
          ]
        },
        {
          "output_type": "stream",
          "name": "stdout",
          "text": [
            "Training Loss after epoch 78 is 0.44683130271732807 and Accuracy is 88.30645161290323\n",
            "Validation Loss after epoch 78 is 0.6436101198196411 and Accuracy is 85.04672897196262\n"
          ]
        },
        {
          "output_type": "stream",
          "name": "stderr",
          "text": [
            "\rPercentage training completed:  79%|███████▉  | 79/100 [00:28<00:07,  2.79it/s]"
          ]
        },
        {
          "output_type": "stream",
          "name": "stdout",
          "text": [
            "Training Loss after epoch 79 is 0.44674826599657536 and Accuracy is 88.30645161290323\n",
            "Validation Loss after epoch 79 is 0.643652081489563 and Accuracy is 85.04672897196262\n"
          ]
        },
        {
          "output_type": "stream",
          "name": "stderr",
          "text": [
            "\rPercentage training completed:  80%|████████  | 80/100 [00:28<00:07,  2.82it/s]"
          ]
        },
        {
          "output_type": "stream",
          "name": "stdout",
          "text": [
            "Training Loss after epoch 80 is 0.4466677773743868 and Accuracy is 88.30645161290323\n",
            "Validation Loss after epoch 80 is 0.6436951160430908 and Accuracy is 85.04672897196262\n"
          ]
        },
        {
          "output_type": "stream",
          "name": "stderr",
          "text": [
            "\rPercentage training completed:  81%|████████  | 81/100 [00:29<00:06,  2.80it/s]"
          ]
        },
        {
          "output_type": "stream",
          "name": "stdout",
          "text": [
            "Training Loss after epoch 81 is 0.4465898126363754 and Accuracy is 88.30645161290323\n",
            "Validation Loss after epoch 81 is 0.6437393426895142 and Accuracy is 85.04672897196262\n"
          ]
        },
        {
          "output_type": "stream",
          "name": "stderr",
          "text": [
            "\rPercentage training completed:  82%|████████▏ | 82/100 [00:29<00:06,  2.83it/s]"
          ]
        },
        {
          "output_type": "stream",
          "name": "stdout",
          "text": [
            "Training Loss after epoch 82 is 0.44651417806744576 and Accuracy is 88.30645161290323\n",
            "Validation Loss after epoch 82 is 0.6437844038009644 and Accuracy is 85.04672897196262\n"
          ]
        },
        {
          "output_type": "stream",
          "name": "stderr",
          "text": [
            "\rPercentage training completed:  83%|████████▎ | 83/100 [00:29<00:06,  2.82it/s]"
          ]
        },
        {
          "output_type": "stream",
          "name": "stdout",
          "text": [
            "Training Loss after epoch 83 is 0.44644083082675934 and Accuracy is 88.30645161290323\n",
            "Validation Loss after epoch 83 is 0.6438303589820862 and Accuracy is 85.04672897196262\n"
          ]
        },
        {
          "output_type": "stream",
          "name": "stderr",
          "text": [
            "\rPercentage training completed:  84%|████████▍ | 84/100 [00:30<00:05,  2.77it/s]"
          ]
        },
        {
          "output_type": "stream",
          "name": "stdout",
          "text": [
            "Training Loss after epoch 84 is 0.44636967591941357 and Accuracy is 88.30645161290323\n",
            "Validation Loss after epoch 84 is 0.6438771486282349 and Accuracy is 85.04672897196262\n"
          ]
        },
        {
          "output_type": "stream",
          "name": "stderr",
          "text": [
            "\rPercentage training completed:  85%|████████▌ | 85/100 [00:30<00:05,  2.78it/s]"
          ]
        },
        {
          "output_type": "stream",
          "name": "stdout",
          "text": [
            "Training Loss after epoch 85 is 0.4463006481528282 and Accuracy is 88.30645161290323\n",
            "Validation Loss after epoch 85 is 0.6439246535301208 and Accuracy is 85.04672897196262\n"
          ]
        },
        {
          "output_type": "stream",
          "name": "stderr",
          "text": [
            "\rPercentage training completed:  86%|████████▌ | 86/100 [00:30<00:05,  2.78it/s]"
          ]
        },
        {
          "output_type": "stream",
          "name": "stdout",
          "text": [
            "Training Loss after epoch 86 is 0.446233581751585 and Accuracy is 88.30645161290323\n",
            "Validation Loss after epoch 86 is 0.643972635269165 and Accuracy is 85.04672897196262\n"
          ]
        },
        {
          "output_type": "stream",
          "name": "stderr",
          "text": [
            "\rPercentage training completed:  87%|████████▋ | 87/100 [00:31<00:04,  2.72it/s]"
          ]
        },
        {
          "output_type": "stream",
          "name": "stdout",
          "text": [
            "Training Loss after epoch 87 is 0.44616852328181267 and Accuracy is 88.30645161290323\n",
            "Validation Loss after epoch 87 is 0.6440210342407227 and Accuracy is 85.04672897196262\n"
          ]
        },
        {
          "output_type": "stream",
          "name": "stderr",
          "text": [
            "\rPercentage training completed:  88%|████████▊ | 88/100 [00:31<00:04,  2.74it/s]"
          ]
        },
        {
          "output_type": "stream",
          "name": "stdout",
          "text": [
            "Training Loss after epoch 88 is 0.44610530138015747 and Accuracy is 88.30645161290323\n",
            "Validation Loss after epoch 88 is 0.6440700888633728 and Accuracy is 85.04672897196262\n"
          ]
        },
        {
          "output_type": "stream",
          "name": "stderr",
          "text": [
            "\rPercentage training completed:  89%|████████▉ | 89/100 [00:32<00:04,  2.75it/s]"
          ]
        },
        {
          "output_type": "stream",
          "name": "stdout",
          "text": [
            "Training Loss after epoch 89 is 0.4460439048707485 and Accuracy is 88.30645161290323\n",
            "Validation Loss after epoch 89 is 0.644119381904602 and Accuracy is 85.04672897196262\n"
          ]
        },
        {
          "output_type": "stream",
          "name": "stderr",
          "text": [
            "\rPercentage training completed:  90%|█████████ | 90/100 [00:32<00:03,  2.74it/s]"
          ]
        },
        {
          "output_type": "stream",
          "name": "stdout",
          "text": [
            "Training Loss after epoch 90 is 0.4459841940551996 and Accuracy is 88.30645161290323\n",
            "Validation Loss after epoch 90 is 0.6441689133644104 and Accuracy is 85.04672897196262\n"
          ]
        },
        {
          "output_type": "stream",
          "name": "stderr",
          "text": [
            "\rPercentage training completed:  91%|█████████ | 91/100 [00:32<00:03,  2.75it/s]"
          ]
        },
        {
          "output_type": "stream",
          "name": "stdout",
          "text": [
            "Training Loss after epoch 91 is 0.44592615216970444 and Accuracy is 88.30645161290323\n",
            "Validation Loss after epoch 91 is 0.6442186832427979 and Accuracy is 85.04672897196262\n"
          ]
        },
        {
          "output_type": "stream",
          "name": "stderr",
          "text": [
            "\rPercentage training completed:  92%|█████████▏| 92/100 [00:33<00:02,  2.75it/s]"
          ]
        },
        {
          "output_type": "stream",
          "name": "stdout",
          "text": [
            "Training Loss after epoch 92 is 0.44586972147226334 and Accuracy is 88.30645161290323\n",
            "Validation Loss after epoch 92 is 0.6442684531211853 and Accuracy is 85.04672897196262\n"
          ]
        },
        {
          "output_type": "stream",
          "name": "stderr",
          "text": [
            "\rPercentage training completed:  93%|█████████▎| 93/100 [00:33<00:02,  2.75it/s]"
          ]
        },
        {
          "output_type": "stream",
          "name": "stdout",
          "text": [
            "Training Loss after epoch 93 is 0.4458148181438446 and Accuracy is 88.30645161290323\n",
            "Validation Loss after epoch 93 is 0.6443184614181519 and Accuracy is 85.04672897196262\n"
          ]
        },
        {
          "output_type": "stream",
          "name": "stderr",
          "text": [
            "\rPercentage training completed:  94%|█████████▍| 94/100 [00:33<00:02,  2.74it/s]"
          ]
        },
        {
          "output_type": "stream",
          "name": "stdout",
          "text": [
            "Training Loss after epoch 94 is 0.4457613956183195 and Accuracy is 88.30645161290323\n",
            "Validation Loss after epoch 94 is 0.6443685293197632 and Accuracy is 85.04672897196262\n"
          ]
        },
        {
          "output_type": "stream",
          "name": "stderr",
          "text": [
            "\rPercentage training completed:  95%|█████████▌| 95/100 [00:34<00:01,  2.76it/s]"
          ]
        },
        {
          "output_type": "stream",
          "name": "stdout",
          "text": [
            "Training Loss after epoch 95 is 0.4457093644887209 and Accuracy is 88.30645161290323\n",
            "Validation Loss after epoch 95 is 0.644418478012085 and Accuracy is 85.04672897196262\n"
          ]
        },
        {
          "output_type": "stream",
          "name": "stderr",
          "text": [
            "\rPercentage training completed:  96%|█████████▌| 96/100 [00:34<00:01,  2.79it/s]"
          ]
        },
        {
          "output_type": "stream",
          "name": "stdout",
          "text": [
            "Training Loss after epoch 96 is 0.44565873593091965 and Accuracy is 88.30645161290323\n",
            "Validation Loss after epoch 96 is 0.6444683074951172 and Accuracy is 85.04672897196262\n"
          ]
        },
        {
          "output_type": "stream",
          "name": "stderr",
          "text": [
            "\rPercentage training completed:  97%|█████████▋| 97/100 [00:34<00:01,  2.76it/s]"
          ]
        },
        {
          "output_type": "stream",
          "name": "stdout",
          "text": [
            "Training Loss after epoch 97 is 0.44560942240059376 and Accuracy is 88.30645161290323\n",
            "Validation Loss after epoch 97 is 0.6445179581642151 and Accuracy is 85.04672897196262\n"
          ]
        },
        {
          "output_type": "stream",
          "name": "stderr",
          "text": [
            "\rPercentage training completed:  98%|█████████▊| 98/100 [00:35<00:00,  2.72it/s]"
          ]
        },
        {
          "output_type": "stream",
          "name": "stdout",
          "text": [
            "Training Loss after epoch 98 is 0.4455612860620022 and Accuracy is 88.30645161290323\n",
            "Validation Loss after epoch 98 is 0.6445674896240234 and Accuracy is 85.04672897196262\n"
          ]
        },
        {
          "output_type": "stream",
          "name": "stderr",
          "text": [
            "\rPercentage training completed:  99%|█████████▉| 99/100 [00:35<00:00,  2.77it/s]"
          ]
        },
        {
          "output_type": "stream",
          "name": "stdout",
          "text": [
            "Training Loss after epoch 99 is 0.44551445730030537 and Accuracy is 88.30645161290323\n",
            "Validation Loss after epoch 99 is 0.6446168422698975 and Accuracy is 85.04672897196262\n"
          ]
        },
        {
          "output_type": "stream",
          "name": "stderr",
          "text": [
            "Percentage training completed: 100%|██████████| 100/100 [00:36<00:00,  2.78it/s]"
          ]
        },
        {
          "output_type": "stream",
          "name": "stdout",
          "text": [
            "Training Loss after epoch 100 is 0.44546876288950443 and Accuracy is 88.30645161290323\n",
            "Validation Loss after epoch 100 is 0.6446658968925476 and Accuracy is 85.04672897196262\n",
            "              precision    recall  f1-score   support\n",
            "\n",
            "           0       0.00      0.00      0.00        12\n",
            "           1       0.88      1.00      0.94       219\n",
            "           2       0.00      0.00      0.00        17\n",
            "\n",
            "    accuracy                           0.88       248\n",
            "   macro avg       0.29      0.33      0.31       248\n",
            "weighted avg       0.78      0.88      0.83       248\n",
            "\n",
            "              precision    recall  f1-score   support\n",
            "\n",
            "           0       0.00      0.00      0.00         9\n",
            "           1       0.85      1.00      0.92        91\n",
            "           2       0.00      0.00      0.00         7\n",
            "\n",
            "    accuracy                           0.85       107\n",
            "   macro avg       0.28      0.33      0.31       107\n",
            "weighted avg       0.72      0.85      0.78       107\n",
            "\n",
            "Validation Loss after epoch 100 is 0.6446658968925476 and Accuracy is 85.04672897196262\n"
          ]
        },
        {
          "output_type": "stream",
          "name": "stderr",
          "text": [
            "\n"
          ]
        },
        {
          "output_type": "display_data",
          "data": {
            "image/png": "[encoded data removed]",
            "text/plain": [
              "<Figure size 432x288 with 2 Axes>"
            ]
          },
          "metadata": {
            "needs_background": "light"
          }
        },
        {
          "output_type": "execute_result",
          "data": {
            "text/plain": [
              "ok    61\n",
              "Name: hemoglobin_hgb_human, dtype: int64"
            ]
          },
          "metadata": {},
          "execution_count": 91
        }
      ]
    },
    {
      "cell_type": "markdown",
      "id": "9df14ac8",
      "metadata": {
        "id": "9df14ac8"
      },
      "source": [
        "#### Submission"
      ]
    },
    {
      "cell_type": "code",
      "execution_count": 92,
      "id": "aec899d1",
      "metadata": {
        "id": "aec899d1"
      },
      "outputs": [],
      "source": [
        "#maindir = \"/Users/Abimbola/Documents/MSc Computer Science/Semester 2/Computer science project/Blood-Spectorscopy/Data\" # Directory with your files\n",
        "maindir = \"/content\"\n",
        "ss =  maindir+\"/Updated_Sample_Submission.csv\"\n",
        "ss = pd.read_csv(ss)\n",
        "ss.head()\n",
        "\n",
        "ss = ss.drop(['Unnamed: 0'], axis= 1)"
      ]
    },
    {
      "cell_type": "code",
      "execution_count": 93,
      "id": "ed786f08",
      "metadata": {
        "id": "ed786f08"
      },
      "outputs": [],
      "source": [
        "def transform_c_hdl(row):\n",
        "    return pd.Series([str(row[\"donation_id\"]) + \"_hdl_cholesterol_human\", row['hdl_cholesterol_human']])"
      ]
    },
    {
      "cell_type": "code",
      "execution_count": 94,
      "id": "a62288fe",
      "metadata": {
        "id": "a62288fe"
      },
      "outputs": [],
      "source": [
        "sample_c_hdl = pd.DataFrame(columns = ss.columns)"
      ]
    },
    {
      "cell_type": "code",
      "execution_count": 95,
      "id": "a621649b",
      "metadata": {
        "id": "a621649b",
        "outputId": "311d0faf-027c-4379-d648-5f8d3502cf9d",
        "colab": {
          "base_uri": "https://localhost:8080/",
          "height": 49,
          "referenced_widgets": [
            "5680fd594ff24b99afe82dda12b1e493",
            "1c29ded0e247484597293909d54d6d1a",
            "c277e04fc6e044edaae0e5ae1884eba3",
            "38bdbb590acc419888a3292d39258071",
            "23b5fff79cda49108a4e98d47646cd4e",
            "d609dcec17bb46a6bdee760029b46420",
            "82777001be9a44bd8c4823f7934067f7",
            "d6c3952a8d3b4f78bd7fcb1eada1770d",
            "8ad1d55f0ec84a26ae58806864e21317",
            "141cdbbf3f92432d9319404da0f95e0a",
            "3e88df28f87e40bfaf638735cd61bd59"
          ]
        }
      },
      "outputs": [
        {
          "output_type": "display_data",
          "data": {
            "application/vnd.jupyter.widget-view+json": {
              "model_id": "5680fd594ff24b99afe82dda12b1e493",
              "version_minor": 0,
              "version_major": 2
            },
            "text/plain": [
              "  0%|          | 0/61 [00:00<?, ?it/s]"
            ]
          },
          "metadata": {}
        }
      ],
      "source": [
        "from tqdm.notebook import tqdm\n",
        "\n",
        "tqdm.pandas()\n",
        "sample_c_hdl[['Donation_ID', 'target']] = test.progress_apply(transform_c_hdl, axis = 1)"
      ]
    },
    {
      "cell_type": "code",
      "execution_count": 96,
      "id": "65da8fe1",
      "metadata": {
        "id": "65da8fe1"
      },
      "outputs": [],
      "source": [
        "def transform_hemo(row):\n",
        "    return pd.Series([str(row[\"donation_id\"]) + \"_hemoglobin(hgb)_human\", row[\"hemoglobin_hgb_human\"]])"
      ]
    },
    {
      "cell_type": "code",
      "execution_count": 97,
      "id": "d33b0c81",
      "metadata": {
        "id": "d33b0c81"
      },
      "outputs": [],
      "source": [
        "sample_hemo = pd.DataFrame(columns = ss.columns)"
      ]
    },
    {
      "cell_type": "code",
      "execution_count": 98,
      "id": "2e9a405c",
      "metadata": {
        "id": "2e9a405c",
        "outputId": "c5906459-d660-4194-a921-eaec468cc70c",
        "colab": {
          "base_uri": "https://localhost:8080/",
          "height": 49,
          "referenced_widgets": [
            "d2a8c1ef869442aea85655ed8fdcd748",
            "49c4bb357f284b93b48763f827aa08cb",
            "51e96565f0fe482a81dbfcab31d4b0c5",
            "bccc039e58944f7aad5c7e5945d33e0c",
            "a9fb1b4e1aa647adbbe5475f0434600b",
            "177955a9b22e4ff88465af22a79e462b",
            "98d74e539cc443e3b5fe07a816788a44",
            "ae78811255a14423b8dbb26ce89192b7",
            "edd10a0effe147e19959defd0177a831",
            "963fcd53b05a42f09f0a1478e96f4659",
            "8623a96d3a8e471391eef11ea152906d"
          ]
        }
      },
      "outputs": [
        {
          "output_type": "display_data",
          "data": {
            "application/vnd.jupyter.widget-view+json": {
              "model_id": "d2a8c1ef869442aea85655ed8fdcd748",
              "version_minor": 0,
              "version_major": 2
            },
            "text/plain": [
              "  0%|          | 0/61 [00:00<?, ?it/s]"
            ]
          },
          "metadata": {}
        }
      ],
      "source": [
        "sample_hemo[['Donation_ID', 'target']] = test.progress_apply(transform_hemo, axis = 1)"
      ]
    },
    {
      "cell_type": "code",
      "execution_count": 99,
      "id": "b1cc42ba",
      "metadata": {
        "id": "b1cc42ba",
        "outputId": "4c9283d2-abfe-4edf-af64-e4dcaa80579c",
        "colab": {
          "base_uri": "https://localhost:8080/",
          "height": 424
        }
      },
      "outputs": [
        {
          "output_type": "execute_result",
          "data": {
            "text/html": [
              "\n",
              "  <div id=\"df-dba70717-c0cb-475f-bdad-c8f97f2828e2\">\n",
              "    <div class=\"colab-df-container\">\n",
              "      <div>\n",
              "<style scoped>\n",
              "    .dataframe tbody tr th:only-of-type {\n",
              "        vertical-align: middle;\n",
              "    }\n",
              "\n",
              "    .dataframe tbody tr th {\n",
              "        vertical-align: top;\n",
              "    }\n",
              "\n",
              "    .dataframe thead th {\n",
              "        text-align: right;\n",
              "    }\n",
              "</style>\n",
              "<table border=\"1\" class=\"dataframe\">\n",
              "  <thead>\n",
              "    <tr style=\"text-align: right;\">\n",
              "      <th></th>\n",
              "      <th>Donation_ID</th>\n",
              "      <th>target</th>\n",
              "    </tr>\n",
              "  </thead>\n",
              "  <tbody>\n",
              "    <tr>\n",
              "      <th>355</th>\n",
              "      <td>ID_1961_hdl_cholesterol_human</td>\n",
              "      <td>ok</td>\n",
              "    </tr>\n",
              "    <tr>\n",
              "      <th>356</th>\n",
              "      <td>ID_2067_hdl_cholesterol_human</td>\n",
              "      <td>ok</td>\n",
              "    </tr>\n",
              "    <tr>\n",
              "      <th>357</th>\n",
              "      <td>ID_2155_hdl_cholesterol_human</td>\n",
              "      <td>ok</td>\n",
              "    </tr>\n",
              "    <tr>\n",
              "      <th>358</th>\n",
              "      <td>ID_2211_hdl_cholesterol_human</td>\n",
              "      <td>ok</td>\n",
              "    </tr>\n",
              "    <tr>\n",
              "      <th>359</th>\n",
              "      <td>ID_2327_hdl_cholesterol_human</td>\n",
              "      <td>ok</td>\n",
              "    </tr>\n",
              "    <tr>\n",
              "      <th>...</th>\n",
              "      <td>...</td>\n",
              "      <td>...</td>\n",
              "    </tr>\n",
              "    <tr>\n",
              "      <th>411</th>\n",
              "      <td>ID_6373_hdl_cholesterol_human</td>\n",
              "      <td>ok</td>\n",
              "    </tr>\n",
              "    <tr>\n",
              "      <th>412</th>\n",
              "      <td>ID_6381_hdl_cholesterol_human</td>\n",
              "      <td>ok</td>\n",
              "    </tr>\n",
              "    <tr>\n",
              "      <th>413</th>\n",
              "      <td>ID_6391_hdl_cholesterol_human</td>\n",
              "      <td>ok</td>\n",
              "    </tr>\n",
              "    <tr>\n",
              "      <th>414</th>\n",
              "      <td>ID_7755_hdl_cholesterol_human</td>\n",
              "      <td>ok</td>\n",
              "    </tr>\n",
              "    <tr>\n",
              "      <th>415</th>\n",
              "      <td>ID_7821_hdl_cholesterol_human</td>\n",
              "      <td>ok</td>\n",
              "    </tr>\n",
              "  </tbody>\n",
              "</table>\n",
              "<p>61 rows × 2 columns</p>\n",
              "</div>\n",
              "      <button class=\"colab-df-convert\" onclick=\"convertToInteractive('df-dba70717-c0cb-475f-bdad-c8f97f2828e2')\"\n",
              "              title=\"Convert this dataframe to an interactive table.\"\n",
              "              style=\"display:none;\">\n",
              "        \n",
              "  <svg xmlns=\"http://www.w3.org/2000/svg\" height=\"24px\"viewBox=\"0 0 24 24\"\n",
              "       width=\"24px\">\n",
              "    <path d=\"M0 0h24v24H0V0z\" fill=\"none\"/>\n",
              "    <path d=\"M18.56 5.44l.94 2.06.94-2.06 2.06-.94-2.06-.94-.94-2.06-.94 2.06-2.06.94zm-11 1L8.5 8.5l.94-2.06 2.06-.94-2.06-.94L8.5 2.5l-.94 2.06-2.06.94zm10 10l.94 2.06.94-2.06 2.06-.94-2.06-.94-.94-2.06-.94 2.06-2.06.94z\"/><path d=\"M17.41 7.96l-1.37-1.37c-.4-.4-.92-.59-1.43-.59-.52 0-1.04.2-1.43.59L10.3 9.45l-7.72 7.72c-.78.78-.78 2.05 0 2.83L4 21.41c.39.39.9.59 1.41.59.51 0 1.02-.2 1.41-.59l7.78-7.78 2.81-2.81c.8-.78.8-2.07 0-2.86zM5.41 20L4 18.59l7.72-7.72 1.47 1.35L5.41 20z\"/>\n",
              "  </svg>\n",
              "      </button>\n",
              "      \n",
              "  <style>\n",
              "    .colab-df-container {\n",
              "      display:flex;\n",
              "      flex-wrap:wrap;\n",
              "      gap: 12px;\n",
              "    }\n",
              "\n",
              "    .colab-df-convert {\n",
              "      background-color: #E8F0FE;\n",
              "      border: none;\n",
              "      border-radius: 50%;\n",
              "      cursor: pointer;\n",
              "      display: none;\n",
              "      fill: #1967D2;\n",
              "      height: 32px;\n",
              "      padding: 0 0 0 0;\n",
              "      width: 32px;\n",
              "    }\n",
              "\n",
              "    .colab-df-convert:hover {\n",
              "      background-color: #E2EBFA;\n",
              "      box-shadow: 0px 1px 2px rgba(60, 64, 67, 0.3), 0px 1px 3px 1px rgba(60, 64, 67, 0.15);\n",
              "      fill: #174EA6;\n",
              "    }\n",
              "\n",
              "    [theme=dark] .colab-df-convert {\n",
              "      background-color: #3B4455;\n",
              "      fill: #D2E3FC;\n",
              "    }\n",
              "\n",
              "    [theme=dark] .colab-df-convert:hover {\n",
              "      background-color: #434B5C;\n",
              "      box-shadow: 0px 1px 3px 1px rgba(0, 0, 0, 0.15);\n",
              "      filter: drop-shadow(0px 1px 2px rgba(0, 0, 0, 0.3));\n",
              "      fill: #FFFFFF;\n",
              "    }\n",
              "  </style>\n",
              "\n",
              "      <script>\n",
              "        const buttonEl =\n",
              "          document.querySelector('#df-dba70717-c0cb-475f-bdad-c8f97f2828e2 button.colab-df-convert');\n",
              "        buttonEl.style.display =\n",
              "          google.colab.kernel.accessAllowed ? 'block' : 'none';\n",
              "\n",
              "        async function convertToInteractive(key) {\n",
              "          const element = document.querySelector('#df-dba70717-c0cb-475f-bdad-c8f97f2828e2');\n",
              "          const dataTable =\n",
              "            await google.colab.kernel.invokeFunction('convertToInteractive',\n",
              "                                                     [key], {});\n",
              "          if (!dataTable) return;\n",
              "\n",
              "          const docLinkHtml = 'Like what you see? Visit the ' +\n",
              "            '<a target=\"_blank\" href=https://colab.research.google.com/notebooks/data_table.ipynb>data table notebook</a>'\n",
              "            + ' to learn more about interactive tables.';\n",
              "          element.innerHTML = '';\n",
              "          dataTable['output_type'] = 'display_data';\n",
              "          await google.colab.output.renderOutput(dataTable, element);\n",
              "          const docLink = document.createElement('div');\n",
              "          docLink.innerHTML = docLinkHtml;\n",
              "          element.appendChild(docLink);\n",
              "        }\n",
              "      </script>\n",
              "    </div>\n",
              "  </div>\n",
              "  "
            ],
            "text/plain": [
              "                       Donation_ID target\n",
              "355  ID_1961_hdl_cholesterol_human     ok\n",
              "356  ID_2067_hdl_cholesterol_human     ok\n",
              "357  ID_2155_hdl_cholesterol_human     ok\n",
              "358  ID_2211_hdl_cholesterol_human     ok\n",
              "359  ID_2327_hdl_cholesterol_human     ok\n",
              "..                             ...    ...\n",
              "411  ID_6373_hdl_cholesterol_human     ok\n",
              "412  ID_6381_hdl_cholesterol_human     ok\n",
              "413  ID_6391_hdl_cholesterol_human     ok\n",
              "414  ID_7755_hdl_cholesterol_human     ok\n",
              "415  ID_7821_hdl_cholesterol_human     ok\n",
              "\n",
              "[61 rows x 2 columns]"
            ]
          },
          "metadata": {},
          "execution_count": 99
        }
      ],
      "source": [
        "sample_c_hdl"
      ]
    },
    {
      "cell_type": "code",
      "execution_count": 100,
      "id": "15d50fa3",
      "metadata": {
        "id": "15d50fa3"
      },
      "outputs": [],
      "source": [
        "def transform_c_ldl(row):\n",
        "    return pd.Series([str(row[\"donation_id\"]) + \"_cholesterol_ldl_human\", row[\"cholesterol_ldl_human\"]])"
      ]
    },
    {
      "cell_type": "code",
      "execution_count": 101,
      "id": "914e2660",
      "metadata": {
        "id": "914e2660"
      },
      "outputs": [],
      "source": [
        "sample_c_ldl = pd.DataFrame(columns = ss.columns)"
      ]
    },
    {
      "cell_type": "code",
      "execution_count": 102,
      "id": "9bdf1faf",
      "metadata": {
        "id": "9bdf1faf",
        "outputId": "f3ba4711-90ca-40c7-9e0b-846cf10f76c3",
        "colab": {
          "base_uri": "https://localhost:8080/",
          "height": 49,
          "referenced_widgets": [
            "fbc20b0262684ef9b34ef16ae4615957",
            "30e25acd636348dfa5f5434f55b2315f",
            "b5f54fef2a4944939a741b7842586a09",
            "13ae137d9f184f94b819e080195bc710",
            "060e6237f8cd4139a5b2fba16e876a2c",
            "4c4215b13a7f4305b7c7767e97965890",
            "2ce4002acf3a4af0b5498951e052ea7f",
            "af39a9186f5845369dbe64430e54df0b",
            "487886e05e214f70909091c6acfffda6",
            "a24388db409a471ebb6585e0159ebaf0",
            "2b8011749dde4b34920de4de8847dba2"
          ]
        }
      },
      "outputs": [
        {
          "output_type": "display_data",
          "data": {
            "application/vnd.jupyter.widget-view+json": {
              "model_id": "fbc20b0262684ef9b34ef16ae4615957",
              "version_minor": 0,
              "version_major": 2
            },
            "text/plain": [
              "  0%|          | 0/61 [00:00<?, ?it/s]"
            ]
          },
          "metadata": {}
        }
      ],
      "source": [
        "sample_c_ldl[['Donation_ID', 'target']] = test.progress_apply(transform_c_ldl, axis = 1)"
      ]
    },
    {
      "cell_type": "code",
      "execution_count": 103,
      "id": "efadf250",
      "metadata": {
        "id": "efadf250"
      },
      "outputs": [],
      "source": [
        "submission = pd.concat([sample_c_hdl, sample_hemo, sample_c_ldl]).reset_index(drop=True)"
      ]
    },
    {
      "cell_type": "code",
      "execution_count": 104,
      "id": "3763ff98",
      "metadata": {
        "id": "3763ff98"
      },
      "outputs": [],
      "source": [
        "submission = submission.loc[:, ~submission.columns.str.contains('^Unnamed')]"
      ]
    },
    {
      "cell_type": "code",
      "execution_count": 105,
      "id": "0a70529b",
      "metadata": {
        "id": "0a70529b",
        "outputId": "b6530c73-f7f9-4d97-cd61-4a309868390b",
        "colab": {
          "base_uri": "https://localhost:8080/",
          "height": 206
        }
      },
      "outputs": [
        {
          "output_type": "execute_result",
          "data": {
            "text/html": [
              "\n",
              "  <div id=\"df-79e857d3-ff86-4d04-baa6-1956a5af8c41\">\n",
              "    <div class=\"colab-df-container\">\n",
              "      <div>\n",
              "<style scoped>\n",
              "    .dataframe tbody tr th:only-of-type {\n",
              "        vertical-align: middle;\n",
              "    }\n",
              "\n",
              "    .dataframe tbody tr th {\n",
              "        vertical-align: top;\n",
              "    }\n",
              "\n",
              "    .dataframe thead th {\n",
              "        text-align: right;\n",
              "    }\n",
              "</style>\n",
              "<table border=\"1\" class=\"dataframe\">\n",
              "  <thead>\n",
              "    <tr style=\"text-align: right;\">\n",
              "      <th></th>\n",
              "      <th>Donation_ID</th>\n",
              "      <th>target</th>\n",
              "    </tr>\n",
              "  </thead>\n",
              "  <tbody>\n",
              "    <tr>\n",
              "      <th>0</th>\n",
              "      <td>ID_1961_hdl_cholesterol_human</td>\n",
              "      <td>ok</td>\n",
              "    </tr>\n",
              "    <tr>\n",
              "      <th>1</th>\n",
              "      <td>ID_2067_hdl_cholesterol_human</td>\n",
              "      <td>ok</td>\n",
              "    </tr>\n",
              "    <tr>\n",
              "      <th>2</th>\n",
              "      <td>ID_2155_hdl_cholesterol_human</td>\n",
              "      <td>ok</td>\n",
              "    </tr>\n",
              "    <tr>\n",
              "      <th>3</th>\n",
              "      <td>ID_2211_hdl_cholesterol_human</td>\n",
              "      <td>ok</td>\n",
              "    </tr>\n",
              "    <tr>\n",
              "      <th>4</th>\n",
              "      <td>ID_2327_hdl_cholesterol_human</td>\n",
              "      <td>ok</td>\n",
              "    </tr>\n",
              "  </tbody>\n",
              "</table>\n",
              "</div>\n",
              "      <button class=\"colab-df-convert\" onclick=\"convertToInteractive('df-79e857d3-ff86-4d04-baa6-1956a5af8c41')\"\n",
              "              title=\"Convert this dataframe to an interactive table.\"\n",
              "              style=\"display:none;\">\n",
              "        \n",
              "  <svg xmlns=\"http://www.w3.org/2000/svg\" height=\"24px\"viewBox=\"0 0 24 24\"\n",
              "       width=\"24px\">\n",
              "    <path d=\"M0 0h24v24H0V0z\" fill=\"none\"/>\n",
              "    <path d=\"M18.56 5.44l.94 2.06.94-2.06 2.06-.94-2.06-.94-.94-2.06-.94 2.06-2.06.94zm-11 1L8.5 8.5l.94-2.06 2.06-.94-2.06-.94L8.5 2.5l-.94 2.06-2.06.94zm10 10l.94 2.06.94-2.06 2.06-.94-2.06-.94-.94-2.06-.94 2.06-2.06.94z\"/><path d=\"M17.41 7.96l-1.37-1.37c-.4-.4-.92-.59-1.43-.59-.52 0-1.04.2-1.43.59L10.3 9.45l-7.72 7.72c-.78.78-.78 2.05 0 2.83L4 21.41c.39.39.9.59 1.41.59.51 0 1.02-.2 1.41-.59l7.78-7.78 2.81-2.81c.8-.78.8-2.07 0-2.86zM5.41 20L4 18.59l7.72-7.72 1.47 1.35L5.41 20z\"/>\n",
              "  </svg>\n",
              "      </button>\n",
              "      \n",
              "  <style>\n",
              "    .colab-df-container {\n",
              "      display:flex;\n",
              "      flex-wrap:wrap;\n",
              "      gap: 12px;\n",
              "    }\n",
              "\n",
              "    .colab-df-convert {\n",
              "      background-color: #E8F0FE;\n",
              "      border: none;\n",
              "      border-radius: 50%;\n",
              "      cursor: pointer;\n",
              "      display: none;\n",
              "      fill: #1967D2;\n",
              "      height: 32px;\n",
              "      padding: 0 0 0 0;\n",
              "      width: 32px;\n",
              "    }\n",
              "\n",
              "    .colab-df-convert:hover {\n",
              "      background-color: #E2EBFA;\n",
              "      box-shadow: 0px 1px 2px rgba(60, 64, 67, 0.3), 0px 1px 3px 1px rgba(60, 64, 67, 0.15);\n",
              "      fill: #174EA6;\n",
              "    }\n",
              "\n",
              "    [theme=dark] .colab-df-convert {\n",
              "      background-color: #3B4455;\n",
              "      fill: #D2E3FC;\n",
              "    }\n",
              "\n",
              "    [theme=dark] .colab-df-convert:hover {\n",
              "      background-color: #434B5C;\n",
              "      box-shadow: 0px 1px 3px 1px rgba(0, 0, 0, 0.15);\n",
              "      filter: drop-shadow(0px 1px 2px rgba(0, 0, 0, 0.3));\n",
              "      fill: #FFFFFF;\n",
              "    }\n",
              "  </style>\n",
              "\n",
              "      <script>\n",
              "        const buttonEl =\n",
              "          document.querySelector('#df-79e857d3-ff86-4d04-baa6-1956a5af8c41 button.colab-df-convert');\n",
              "        buttonEl.style.display =\n",
              "          google.colab.kernel.accessAllowed ? 'block' : 'none';\n",
              "\n",
              "        async function convertToInteractive(key) {\n",
              "          const element = document.querySelector('#df-79e857d3-ff86-4d04-baa6-1956a5af8c41');\n",
              "          const dataTable =\n",
              "            await google.colab.kernel.invokeFunction('convertToInteractive',\n",
              "                                                     [key], {});\n",
              "          if (!dataTable) return;\n",
              "\n",
              "          const docLinkHtml = 'Like what you see? Visit the ' +\n",
              "            '<a target=\"_blank\" href=https://colab.research.google.com/notebooks/data_table.ipynb>data table notebook</a>'\n",
              "            + ' to learn more about interactive tables.';\n",
              "          element.innerHTML = '';\n",
              "          dataTable['output_type'] = 'display_data';\n",
              "          await google.colab.output.renderOutput(dataTable, element);\n",
              "          const docLink = document.createElement('div');\n",
              "          docLink.innerHTML = docLinkHtml;\n",
              "          element.appendChild(docLink);\n",
              "        }\n",
              "      </script>\n",
              "    </div>\n",
              "  </div>\n",
              "  "
            ],
            "text/plain": [
              "                     Donation_ID target\n",
              "0  ID_1961_hdl_cholesterol_human     ok\n",
              "1  ID_2067_hdl_cholesterol_human     ok\n",
              "2  ID_2155_hdl_cholesterol_human     ok\n",
              "3  ID_2211_hdl_cholesterol_human     ok\n",
              "4  ID_2327_hdl_cholesterol_human     ok"
            ]
          },
          "metadata": {},
          "execution_count": 105
        }
      ],
      "source": [
        "submission.head()"
      ]
    },
    {
      "cell_type": "code",
      "execution_count": 106,
      "id": "8e3011aa",
      "metadata": {
        "id": "8e3011aa"
      },
      "outputs": [],
      "source": [
        "submission.to_csv(\"./submission21.csv\", index=False)"
      ]
    },
    {
      "cell_type": "markdown",
      "id": "a60da64a",
      "metadata": {
        "id": "a60da64a"
      },
      "source": [
        "#### To do\n",
        " - Bagging with random undersampling\n",
        " - Use boosting algorithms (AdaBoost etc)\n",
        " - Read up SMOTE for imbalanced classification"
      ]
    },
    {
      "cell_type": "markdown",
      "id": "d24dc5b7",
      "metadata": {
        "id": "d24dc5b7"
      },
      "source": [
        ""
      ]
    }
  ],
  "metadata": {
    "colab": {
      "name": "Data Preparation- Blood Spectroscopy (ML Models).ipynb",
      "provenance": [],
      "include_colab_link": true
    },
    "kernelspec": {
      "display_name": "Python 3 (ipykernel)",
      "language": "python",
      "name": "python3"
    },
    "language_info": {
      "codemirror_mode": {
        "name": "ipython",
        "version": 3
      },
      "file_extension": ".py",
      "mimetype": "text/x-python",
      "name": "python",
      "nbconvert_exporter": "python",
      "pygments_lexer": "ipython3",
      "version": "3.10.1"
    },
    "accelerator": "GPU",
    "widgets": {
      "application/vnd.jupyter.widget-state+json": {
        "5680fd594ff24b99afe82dda12b1e493": {
          "model_module": "@jupyter-widgets/controls",
          "model_name": "HBoxModel",
          "model_module_version": "1.5.0",
          "state": {
            "_view_name": "HBoxView",
            "_dom_classes": [],
            "_model_name": "HBoxModel",
            "_view_module": "@jupyter-widgets/controls",
            "_model_module_version": "1.5.0",
            "_view_count": null,
            "_view_module_version": "1.5.0",
            "box_style": "",
            "layout": "IPY_MODEL_1c29ded0e247484597293909d54d6d1a",
            "_model_module": "@jupyter-widgets/controls",
            "children": [
              "IPY_MODEL_c277e04fc6e044edaae0e5ae1884eba3",
              "IPY_MODEL_38bdbb590acc419888a3292d39258071",
              "IPY_MODEL_23b5fff79cda49108a4e98d47646cd4e"
            ]
          }
        },
        "1c29ded0e247484597293909d54d6d1a": {
          "model_module": "@jupyter-widgets/base",
          "model_name": "LayoutModel",
          "model_module_version": "1.2.0",
          "state": {
            "_view_name": "LayoutView",
            "grid_template_rows": null,
            "right": null,
            "justify_content": null,
            "_view_module": "@jupyter-widgets/base",
            "overflow": null,
            "_model_module_version": "1.2.0",
            "_view_count": null,
            "flex_flow": null,
            "width": null,
            "min_width": null,
            "border": null,
            "align_items": null,
            "bottom": null,
            "_model_module": "@jupyter-widgets/base",
            "top": null,
            "grid_column": null,
            "overflow_y": null,
            "overflow_x": null,
            "grid_auto_flow": null,
            "grid_area": null,
            "grid_template_columns": null,
            "flex": null,
            "_model_name": "LayoutModel",
            "justify_items": null,
            "grid_row": null,
            "max_height": null,
            "align_content": null,
            "visibility": null,
            "align_self": null,
            "height": null,
            "min_height": null,
            "padding": null,
            "grid_auto_rows": null,
            "grid_gap": null,
            "max_width": null,
            "order": null,
            "_view_module_version": "1.2.0",
            "grid_template_areas": null,
            "object_position": null,
            "object_fit": null,
            "grid_auto_columns": null,
            "margin": null,
            "display": null,
            "left": null
          }
        },
        "c277e04fc6e044edaae0e5ae1884eba3": {
          "model_module": "@jupyter-widgets/controls",
          "model_name": "HTMLModel",
          "model_module_version": "1.5.0",
          "state": {
            "_view_name": "HTMLView",
            "style": "IPY_MODEL_d609dcec17bb46a6bdee760029b46420",
            "_dom_classes": [],
            "description": "",
            "_model_name": "HTMLModel",
            "placeholder": "​",
            "_view_module": "@jupyter-widgets/controls",
            "_model_module_version": "1.5.0",
            "value": "100%",
            "_view_count": null,
            "_view_module_version": "1.5.0",
            "description_tooltip": null,
            "_model_module": "@jupyter-widgets/controls",
            "layout": "IPY_MODEL_82777001be9a44bd8c4823f7934067f7"
          }
        },
        "38bdbb590acc419888a3292d39258071": {
          "model_module": "@jupyter-widgets/controls",
          "model_name": "FloatProgressModel",
          "model_module_version": "1.5.0",
          "state": {
            "_view_name": "ProgressView",
            "style": "IPY_MODEL_d6c3952a8d3b4f78bd7fcb1eada1770d",
            "_dom_classes": [],
            "description": "",
            "_model_name": "FloatProgressModel",
            "bar_style": "success",
            "max": 61,
            "_view_module": "@jupyter-widgets/controls",
            "_model_module_version": "1.5.0",
            "value": 61,
            "_view_count": null,
            "_view_module_version": "1.5.0",
            "orientation": "horizontal",
            "min": 0,
            "description_tooltip": null,
            "_model_module": "@jupyter-widgets/controls",
            "layout": "IPY_MODEL_8ad1d55f0ec84a26ae58806864e21317"
          }
        },
        "23b5fff79cda49108a4e98d47646cd4e": {
          "model_module": "@jupyter-widgets/controls",
          "model_name": "HTMLModel",
          "model_module_version": "1.5.0",
          "state": {
            "_view_name": "HTMLView",
            "style": "IPY_MODEL_141cdbbf3f92432d9319404da0f95e0a",
            "_dom_classes": [],
            "description": "",
            "_model_name": "HTMLModel",
            "placeholder": "​",
            "_view_module": "@jupyter-widgets/controls",
            "_model_module_version": "1.5.0",
            "value": " 61/61 [00:00&lt;00:00, 800.21it/s]",
            "_view_count": null,
            "_view_module_version": "1.5.0",
            "description_tooltip": null,
            "_model_module": "@jupyter-widgets/controls",
            "layout": "IPY_MODEL_3e88df28f87e40bfaf638735cd61bd59"
          }
        },
        "d609dcec17bb46a6bdee760029b46420": {
          "model_module": "@jupyter-widgets/controls",
          "model_name": "DescriptionStyleModel",
          "model_module_version": "1.5.0",
          "state": {
            "_view_name": "StyleView",
            "_model_name": "DescriptionStyleModel",
            "description_width": "",
            "_view_module": "@jupyter-widgets/base",
            "_model_module_version": "1.5.0",
            "_view_count": null,
            "_view_module_version": "1.2.0",
            "_model_module": "@jupyter-widgets/controls"
          }
        },
        "82777001be9a44bd8c4823f7934067f7": {
          "model_module": "@jupyter-widgets/base",
          "model_name": "LayoutModel",
          "model_module_version": "1.2.0",
          "state": {
            "_view_name": "LayoutView",
            "grid_template_rows": null,
            "right": null,
            "justify_content": null,
            "_view_module": "@jupyter-widgets/base",
            "overflow": null,
            "_model_module_version": "1.2.0",
            "_view_count": null,
            "flex_flow": null,
            "width": null,
            "min_width": null,
            "border": null,
            "align_items": null,
            "bottom": null,
            "_model_module": "@jupyter-widgets/base",
            "top": null,
            "grid_column": null,
            "overflow_y": null,
            "overflow_x": null,
            "grid_auto_flow": null,
            "grid_area": null,
            "grid_template_columns": null,
            "flex": null,
            "_model_name": "LayoutModel",
            "justify_items": null,
            "grid_row": null,
            "max_height": null,
            "align_content": null,
            "visibility": null,
            "align_self": null,
            "height": null,
            "min_height": null,
            "padding": null,
            "grid_auto_rows": null,
            "grid_gap": null,
            "max_width": null,
            "order": null,
            "_view_module_version": "1.2.0",
            "grid_template_areas": null,
            "object_position": null,
            "object_fit": null,
            "grid_auto_columns": null,
            "margin": null,
            "display": null,
            "left": null
          }
        },
        "d6c3952a8d3b4f78bd7fcb1eada1770d": {
          "model_module": "@jupyter-widgets/controls",
          "model_name": "ProgressStyleModel",
          "model_module_version": "1.5.0",
          "state": {
            "_view_name": "StyleView",
            "_model_name": "ProgressStyleModel",
            "description_width": "",
            "_view_module": "@jupyter-widgets/base",
            "_model_module_version": "1.5.0",
            "_view_count": null,
            "_view_module_version": "1.2.0",
            "bar_color": null,
            "_model_module": "@jupyter-widgets/controls"
          }
        },
        "8ad1d55f0ec84a26ae58806864e21317": {
          "model_module": "@jupyter-widgets/base",
          "model_name": "LayoutModel",
          "model_module_version": "1.2.0",
          "state": {
            "_view_name": "LayoutView",
            "grid_template_rows": null,
            "right": null,
            "justify_content": null,
            "_view_module": "@jupyter-widgets/base",
            "overflow": null,
            "_model_module_version": "1.2.0",
            "_view_count": null,
            "flex_flow": null,
            "width": null,
            "min_width": null,
            "border": null,
            "align_items": null,
            "bottom": null,
            "_model_module": "@jupyter-widgets/base",
            "top": null,
            "grid_column": null,
            "overflow_y": null,
            "overflow_x": null,
            "grid_auto_flow": null,
            "grid_area": null,
            "grid_template_columns": null,
            "flex": null,
            "_model_name": "LayoutModel",
            "justify_items": null,
            "grid_row": null,
            "max_height": null,
            "align_content": null,
            "visibility": null,
            "align_self": null,
            "height": null,
            "min_height": null,
            "padding": null,
            "grid_auto_rows": null,
            "grid_gap": null,
            "max_width": null,
            "order": null,
            "_view_module_version": "1.2.0",
            "grid_template_areas": null,
            "object_position": null,
            "object_fit": null,
            "grid_auto_columns": null,
            "margin": null,
            "display": null,
            "left": null
          }
        },
        "141cdbbf3f92432d9319404da0f95e0a": {
          "model_module": "@jupyter-widgets/controls",
          "model_name": "DescriptionStyleModel",
          "model_module_version": "1.5.0",
          "state": {
            "_view_name": "StyleView",
            "_model_name": "DescriptionStyleModel",
            "description_width": "",
            "_view_module": "@jupyter-widgets/base",
            "_model_module_version": "1.5.0",
            "_view_count": null,
            "_view_module_version": "1.2.0",
            "_model_module": "@jupyter-widgets/controls"
          }
        },
        "3e88df28f87e40bfaf638735cd61bd59": {
          "model_module": "@jupyter-widgets/base",
          "model_name": "LayoutModel",
          "model_module_version": "1.2.0",
          "state": {
            "_view_name": "LayoutView",
            "grid_template_rows": null,
            "right": null,
            "justify_content": null,
            "_view_module": "@jupyter-widgets/base",
            "overflow": null,
            "_model_module_version": "1.2.0",
            "_view_count": null,
            "flex_flow": null,
            "width": null,
            "min_width": null,
            "border": null,
            "align_items": null,
            "bottom": null,
            "_model_module": "@jupyter-widgets/base",
            "top": null,
            "grid_column": null,
            "overflow_y": null,
            "overflow_x": null,
            "grid_auto_flow": null,
            "grid_area": null,
            "grid_template_columns": null,
            "flex": null,
            "_model_name": "LayoutModel",
            "justify_items": null,
            "grid_row": null,
            "max_height": null,
            "align_content": null,
            "visibility": null,
            "align_self": null,
            "height": null,
            "min_height": null,
            "padding": null,
            "grid_auto_rows": null,
            "grid_gap": null,
            "max_width": null,
            "order": null,
            "_view_module_version": "1.2.0",
            "grid_template_areas": null,
            "object_position": null,
            "object_fit": null,
            "grid_auto_columns": null,
            "margin": null,
            "display": null,
            "left": null
          }
        },
        "d2a8c1ef869442aea85655ed8fdcd748": {
          "model_module": "@jupyter-widgets/controls",
          "model_name": "HBoxModel",
          "model_module_version": "1.5.0",
          "state": {
            "_view_name": "HBoxView",
            "_dom_classes": [],
            "_model_name": "HBoxModel",
            "_view_module": "@jupyter-widgets/controls",
            "_model_module_version": "1.5.0",
            "_view_count": null,
            "_view_module_version": "1.5.0",
            "box_style": "",
            "layout": "IPY_MODEL_49c4bb357f284b93b48763f827aa08cb",
            "_model_module": "@jupyter-widgets/controls",
            "children": [
              "IPY_MODEL_51e96565f0fe482a81dbfcab31d4b0c5",
              "IPY_MODEL_bccc039e58944f7aad5c7e5945d33e0c",
              "IPY_MODEL_a9fb1b4e1aa647adbbe5475f0434600b"
            ]
          }
        },
        "49c4bb357f284b93b48763f827aa08cb": {
          "model_module": "@jupyter-widgets/base",
          "model_name": "LayoutModel",
          "model_module_version": "1.2.0",
          "state": {
            "_view_name": "LayoutView",
            "grid_template_rows": null,
            "right": null,
            "justify_content": null,
            "_view_module": "@jupyter-widgets/base",
            "overflow": null,
            "_model_module_version": "1.2.0",
            "_view_count": null,
            "flex_flow": null,
            "width": null,
            "min_width": null,
            "border": null,
            "align_items": null,
            "bottom": null,
            "_model_module": "@jupyter-widgets/base",
            "top": null,
            "grid_column": null,
            "overflow_y": null,
            "overflow_x": null,
            "grid_auto_flow": null,
            "grid_area": null,
            "grid_template_columns": null,
            "flex": null,
            "_model_name": "LayoutModel",
            "justify_items": null,
            "grid_row": null,
            "max_height": null,
            "align_content": null,
            "visibility": null,
            "align_self": null,
            "height": null,
            "min_height": null,
            "padding": null,
            "grid_auto_rows": null,
            "grid_gap": null,
            "max_width": null,
            "order": null,
            "_view_module_version": "1.2.0",
            "grid_template_areas": null,
            "object_position": null,
            "object_fit": null,
            "grid_auto_columns": null,
            "margin": null,
            "display": null,
            "left": null
          }
        },
        "51e96565f0fe482a81dbfcab31d4b0c5": {
          "model_module": "@jupyter-widgets/controls",
          "model_name": "HTMLModel",
          "model_module_version": "1.5.0",
          "state": {
            "_view_name": "HTMLView",
            "style": "IPY_MODEL_177955a9b22e4ff88465af22a79e462b",
            "_dom_classes": [],
            "description": "",
            "_model_name": "HTMLModel",
            "placeholder": "​",
            "_view_module": "@jupyter-widgets/controls",
            "_model_module_version": "1.5.0",
            "value": "100%",
            "_view_count": null,
            "_view_module_version": "1.5.0",
            "description_tooltip": null,
            "_model_module": "@jupyter-widgets/controls",
            "layout": "IPY_MODEL_98d74e539cc443e3b5fe07a816788a44"
          }
        },
        "bccc039e58944f7aad5c7e5945d33e0c": {
          "model_module": "@jupyter-widgets/controls",
          "model_name": "FloatProgressModel",
          "model_module_version": "1.5.0",
          "state": {
            "_view_name": "ProgressView",
            "style": "IPY_MODEL_ae78811255a14423b8dbb26ce89192b7",
            "_dom_classes": [],
            "description": "",
            "_model_name": "FloatProgressModel",
            "bar_style": "success",
            "max": 61,
            "_view_module": "@jupyter-widgets/controls",
            "_model_module_version": "1.5.0",
            "value": 61,
            "_view_count": null,
            "_view_module_version": "1.5.0",
            "orientation": "horizontal",
            "min": 0,
            "description_tooltip": null,
            "_model_module": "@jupyter-widgets/controls",
            "layout": "IPY_MODEL_edd10a0effe147e19959defd0177a831"
          }
        },
        "a9fb1b4e1aa647adbbe5475f0434600b": {
          "model_module": "@jupyter-widgets/controls",
          "model_name": "HTMLModel",
          "model_module_version": "1.5.0",
          "state": {
            "_view_name": "HTMLView",
            "style": "IPY_MODEL_963fcd53b05a42f09f0a1478e96f4659",
            "_dom_classes": [],
            "description": "",
            "_model_name": "HTMLModel",
            "placeholder": "​",
            "_view_module": "@jupyter-widgets/controls",
            "_model_module_version": "1.5.0",
            "value": " 61/61 [00:00&lt;00:00, 610.00it/s]",
            "_view_count": null,
            "_view_module_version": "1.5.0",
            "description_tooltip": null,
            "_model_module": "@jupyter-widgets/controls",
            "layout": "IPY_MODEL_8623a96d3a8e471391eef11ea152906d"
          }
        },
        "177955a9b22e4ff88465af22a79e462b": {
          "model_module": "@jupyter-widgets/controls",
          "model_name": "DescriptionStyleModel",
          "model_module_version": "1.5.0",
          "state": {
            "_view_name": "StyleView",
            "_model_name": "DescriptionStyleModel",
            "description_width": "",
            "_view_module": "@jupyter-widgets/base",
            "_model_module_version": "1.5.0",
            "_view_count": null,
            "_view_module_version": "1.2.0",
            "_model_module": "@jupyter-widgets/controls"
          }
        },
        "98d74e539cc443e3b5fe07a816788a44": {
          "model_module": "@jupyter-widgets/base",
          "model_name": "LayoutModel",
          "model_module_version": "1.2.0",
          "state": {
            "_view_name": "LayoutView",
            "grid_template_rows": null,
            "right": null,
            "justify_content": null,
            "_view_module": "@jupyter-widgets/base",
            "overflow": null,
            "_model_module_version": "1.2.0",
            "_view_count": null,
            "flex_flow": null,
            "width": null,
            "min_width": null,
            "border": null,
            "align_items": null,
            "bottom": null,
            "_model_module": "@jupyter-widgets/base",
            "top": null,
            "grid_column": null,
            "overflow_y": null,
            "overflow_x": null,
            "grid_auto_flow": null,
            "grid_area": null,
            "grid_template_columns": null,
            "flex": null,
            "_model_name": "LayoutModel",
            "justify_items": null,
            "grid_row": null,
            "max_height": null,
            "align_content": null,
            "visibility": null,
            "align_self": null,
            "height": null,
            "min_height": null,
            "padding": null,
            "grid_auto_rows": null,
            "grid_gap": null,
            "max_width": null,
            "order": null,
            "_view_module_version": "1.2.0",
            "grid_template_areas": null,
            "object_position": null,
            "object_fit": null,
            "grid_auto_columns": null,
            "margin": null,
            "display": null,
            "left": null
          }
        },
        "ae78811255a14423b8dbb26ce89192b7": {
          "model_module": "@jupyter-widgets/controls",
          "model_name": "ProgressStyleModel",
          "model_module_version": "1.5.0",
          "state": {
            "_view_name": "StyleView",
            "_model_name": "ProgressStyleModel",
            "description_width": "",
            "_view_module": "@jupyter-widgets/base",
            "_model_module_version": "1.5.0",
            "_view_count": null,
            "_view_module_version": "1.2.0",
            "bar_color": null,
            "_model_module": "@jupyter-widgets/controls"
          }
        },
        "edd10a0effe147e19959defd0177a831": {
          "model_module": "@jupyter-widgets/base",
          "model_name": "LayoutModel",
          "model_module_version": "1.2.0",
          "state": {
            "_view_name": "LayoutView",
            "grid_template_rows": null,
            "right": null,
            "justify_content": null,
            "_view_module": "@jupyter-widgets/base",
            "overflow": null,
            "_model_module_version": "1.2.0",
            "_view_count": null,
            "flex_flow": null,
            "width": null,
            "min_width": null,
            "border": null,
            "align_items": null,
            "bottom": null,
            "_model_module": "@jupyter-widgets/base",
            "top": null,
            "grid_column": null,
            "overflow_y": null,
            "overflow_x": null,
            "grid_auto_flow": null,
            "grid_area": null,
            "grid_template_columns": null,
            "flex": null,
            "_model_name": "LayoutModel",
            "justify_items": null,
            "grid_row": null,
            "max_height": null,
            "align_content": null,
            "visibility": null,
            "align_self": null,
            "height": null,
            "min_height": null,
            "padding": null,
            "grid_auto_rows": null,
            "grid_gap": null,
            "max_width": null,
            "order": null,
            "_view_module_version": "1.2.0",
            "grid_template_areas": null,
            "object_position": null,
            "object_fit": null,
            "grid_auto_columns": null,
            "margin": null,
            "display": null,
            "left": null
          }
        },
        "963fcd53b05a42f09f0a1478e96f4659": {
          "model_module": "@jupyter-widgets/controls",
          "model_name": "DescriptionStyleModel",
          "model_module_version": "1.5.0",
          "state": {
            "_view_name": "StyleView",
            "_model_name": "DescriptionStyleModel",
            "description_width": "",
            "_view_module": "@jupyter-widgets/base",
            "_model_module_version": "1.5.0",
            "_view_count": null,
            "_view_module_version": "1.2.0",
            "_model_module": "@jupyter-widgets/controls"
          }
        },
        "8623a96d3a8e471391eef11ea152906d": {
          "model_module": "@jupyter-widgets/base",
          "model_name": "LayoutModel",
          "model_module_version": "1.2.0",
          "state": {
            "_view_name": "LayoutView",
            "grid_template_rows": null,
            "right": null,
            "justify_content": null,
            "_view_module": "@jupyter-widgets/base",
            "overflow": null,
            "_model_module_version": "1.2.0",
            "_view_count": null,
            "flex_flow": null,
            "width": null,
            "min_width": null,
            "border": null,
            "align_items": null,
            "bottom": null,
            "_model_module": "@jupyter-widgets/base",
            "top": null,
            "grid_column": null,
            "overflow_y": null,
            "overflow_x": null,
            "grid_auto_flow": null,
            "grid_area": null,
            "grid_template_columns": null,
            "flex": null,
            "_model_name": "LayoutModel",
            "justify_items": null,
            "grid_row": null,
            "max_height": null,
            "align_content": null,
            "visibility": null,
            "align_self": null,
            "height": null,
            "min_height": null,
            "padding": null,
            "grid_auto_rows": null,
            "grid_gap": null,
            "max_width": null,
            "order": null,
            "_view_module_version": "1.2.0",
            "grid_template_areas": null,
            "object_position": null,
            "object_fit": null,
            "grid_auto_columns": null,
            "margin": null,
            "display": null,
            "left": null
          }
        },
        "fbc20b0262684ef9b34ef16ae4615957": {
          "model_module": "@jupyter-widgets/controls",
          "model_name": "HBoxModel",
          "model_module_version": "1.5.0",
          "state": {
            "_view_name": "HBoxView",
            "_dom_classes": [],
            "_model_name": "HBoxModel",
            "_view_module": "@jupyter-widgets/controls",
            "_model_module_version": "1.5.0",
            "_view_count": null,
            "_view_module_version": "1.5.0",
            "box_style": "",
            "layout": "IPY_MODEL_30e25acd636348dfa5f5434f55b2315f",
            "_model_module": "@jupyter-widgets/controls",
            "children": [
              "IPY_MODEL_b5f54fef2a4944939a741b7842586a09",
              "IPY_MODEL_13ae137d9f184f94b819e080195bc710",
              "IPY_MODEL_060e6237f8cd4139a5b2fba16e876a2c"
            ]
          }
        },
        "30e25acd636348dfa5f5434f55b2315f": {
          "model_module": "@jupyter-widgets/base",
          "model_name": "LayoutModel",
          "model_module_version": "1.2.0",
          "state": {
            "_view_name": "LayoutView",
            "grid_template_rows": null,
            "right": null,
            "justify_content": null,
            "_view_module": "@jupyter-widgets/base",
            "overflow": null,
            "_model_module_version": "1.2.0",
            "_view_count": null,
            "flex_flow": null,
            "width": null,
            "min_width": null,
            "border": null,
            "align_items": null,
            "bottom": null,
            "_model_module": "@jupyter-widgets/base",
            "top": null,
            "grid_column": null,
            "overflow_y": null,
            "overflow_x": null,
            "grid_auto_flow": null,
            "grid_area": null,
            "grid_template_columns": null,
            "flex": null,
            "_model_name": "LayoutModel",
            "justify_items": null,
            "grid_row": null,
            "max_height": null,
            "align_content": null,
            "visibility": null,
            "align_self": null,
            "height": null,
            "min_height": null,
            "padding": null,
            "grid_auto_rows": null,
            "grid_gap": null,
            "max_width": null,
            "order": null,
            "_view_module_version": "1.2.0",
            "grid_template_areas": null,
            "object_position": null,
            "object_fit": null,
            "grid_auto_columns": null,
            "margin": null,
            "display": null,
            "left": null
          }
        },
        "b5f54fef2a4944939a741b7842586a09": {
          "model_module": "@jupyter-widgets/controls",
          "model_name": "HTMLModel",
          "model_module_version": "1.5.0",
          "state": {
            "_view_name": "HTMLView",
            "style": "IPY_MODEL_4c4215b13a7f4305b7c7767e97965890",
            "_dom_classes": [],
            "description": "",
            "_model_name": "HTMLModel",
            "placeholder": "​",
            "_view_module": "@jupyter-widgets/controls",
            "_model_module_version": "1.5.0",
            "value": "100%",
            "_view_count": null,
            "_view_module_version": "1.5.0",
            "description_tooltip": null,
            "_model_module": "@jupyter-widgets/controls",
            "layout": "IPY_MODEL_2ce4002acf3a4af0b5498951e052ea7f"
          }
        },
        "13ae137d9f184f94b819e080195bc710": {
          "model_module": "@jupyter-widgets/controls",
          "model_name": "FloatProgressModel",
          "model_module_version": "1.5.0",
          "state": {
            "_view_name": "ProgressView",
            "style": "IPY_MODEL_af39a9186f5845369dbe64430e54df0b",
            "_dom_classes": [],
            "description": "",
            "_model_name": "FloatProgressModel",
            "bar_style": "success",
            "max": 61,
            "_view_module": "@jupyter-widgets/controls",
            "_model_module_version": "1.5.0",
            "value": 61,
            "_view_count": null,
            "_view_module_version": "1.5.0",
            "orientation": "horizontal",
            "min": 0,
            "description_tooltip": null,
            "_model_module": "@jupyter-widgets/controls",
            "layout": "IPY_MODEL_487886e05e214f70909091c6acfffda6"
          }
        },
        "060e6237f8cd4139a5b2fba16e876a2c": {
          "model_module": "@jupyter-widgets/controls",
          "model_name": "HTMLModel",
          "model_module_version": "1.5.0",
          "state": {
            "_view_name": "HTMLView",
            "style": "IPY_MODEL_a24388db409a471ebb6585e0159ebaf0",
            "_dom_classes": [],
            "description": "",
            "_model_name": "HTMLModel",
            "placeholder": "​",
            "_view_module": "@jupyter-widgets/controls",
            "_model_module_version": "1.5.0",
            "value": " 61/61 [00:00&lt;00:00, 644.24it/s]",
            "_view_count": null,
            "_view_module_version": "1.5.0",
            "description_tooltip": null,
            "_model_module": "@jupyter-widgets/controls",
            "layout": "IPY_MODEL_2b8011749dde4b34920de4de8847dba2"
          }
        },
        "4c4215b13a7f4305b7c7767e97965890": {
          "model_module": "@jupyter-widgets/controls",
          "model_name": "DescriptionStyleModel",
          "model_module_version": "1.5.0",
          "state": {
            "_view_name": "StyleView",
            "_model_name": "DescriptionStyleModel",
            "description_width": "",
            "_view_module": "@jupyter-widgets/base",
            "_model_module_version": "1.5.0",
            "_view_count": null,
            "_view_module_version": "1.2.0",
            "_model_module": "@jupyter-widgets/controls"
          }
        },
        "2ce4002acf3a4af0b5498951e052ea7f": {
          "model_module": "@jupyter-widgets/base",
          "model_name": "LayoutModel",
          "model_module_version": "1.2.0",
          "state": {
            "_view_name": "LayoutView",
            "grid_template_rows": null,
            "right": null,
            "justify_content": null,
            "_view_module": "@jupyter-widgets/base",
            "overflow": null,
            "_model_module_version": "1.2.0",
            "_view_count": null,
            "flex_flow": null,
            "width": null,
            "min_width": null,
            "border": null,
            "align_items": null,
            "bottom": null,
            "_model_module": "@jupyter-widgets/base",
            "top": null,
            "grid_column": null,
            "overflow_y": null,
            "overflow_x": null,
            "grid_auto_flow": null,
            "grid_area": null,
            "grid_template_columns": null,
            "flex": null,
            "_model_name": "LayoutModel",
            "justify_items": null,
            "grid_row": null,
            "max_height": null,
            "align_content": null,
            "visibility": null,
            "align_self": null,
            "height": null,
            "min_height": null,
            "padding": null,
            "grid_auto_rows": null,
            "grid_gap": null,
            "max_width": null,
            "order": null,
            "_view_module_version": "1.2.0",
            "grid_template_areas": null,
            "object_position": null,
            "object_fit": null,
            "grid_auto_columns": null,
            "margin": null,
            "display": null,
            "left": null
          }
        },
        "af39a9186f5845369dbe64430e54df0b": {
          "model_module": "@jupyter-widgets/controls",
          "model_name": "ProgressStyleModel",
          "model_module_version": "1.5.0",
          "state": {
            "_view_name": "StyleView",
            "_model_name": "ProgressStyleModel",
            "description_width": "",
            "_view_module": "@jupyter-widgets/base",
            "_model_module_version": "1.5.0",
            "_view_count": null,
            "_view_module_version": "1.2.0",
            "bar_color": null,
            "_model_module": "@jupyter-widgets/controls"
          }
        },
        "487886e05e214f70909091c6acfffda6": {
          "model_module": "@jupyter-widgets/base",
          "model_name": "LayoutModel",
          "model_module_version": "1.2.0",
          "state": {
            "_view_name": "LayoutView",
            "grid_template_rows": null,
            "right": null,
            "justify_content": null,
            "_view_module": "@jupyter-widgets/base",
            "overflow": null,
            "_model_module_version": "1.2.0",
            "_view_count": null,
            "flex_flow": null,
            "width": null,
            "min_width": null,
            "border": null,
            "align_items": null,
            "bottom": null,
            "_model_module": "@jupyter-widgets/base",
            "top": null,
            "grid_column": null,
            "overflow_y": null,
            "overflow_x": null,
            "grid_auto_flow": null,
            "grid_area": null,
            "grid_template_columns": null,
            "flex": null,
            "_model_name": "LayoutModel",
            "justify_items": null,
            "grid_row": null,
            "max_height": null,
            "align_content": null,
            "visibility": null,
            "align_self": null,
            "height": null,
            "min_height": null,
            "padding": null,
            "grid_auto_rows": null,
            "grid_gap": null,
            "max_width": null,
            "order": null,
            "_view_module_version": "1.2.0",
            "grid_template_areas": null,
            "object_position": null,
            "object_fit": null,
            "grid_auto_columns": null,
            "margin": null,
            "display": null,
            "left": null
          }
        },
        "a24388db409a471ebb6585e0159ebaf0": {
          "model_module": "@jupyter-widgets/controls",
          "model_name": "DescriptionStyleModel",
          "model_module_version": "1.5.0",
          "state": {
            "_view_name": "StyleView",
            "_model_name": "DescriptionStyleModel",
            "description_width": "",
            "_view_module": "@jupyter-widgets/base",
            "_model_module_version": "1.5.0",
            "_view_count": null,
            "_view_module_version": "1.2.0",
            "_model_module": "@jupyter-widgets/controls"
          }
        },
        "2b8011749dde4b34920de4de8847dba2": {
          "model_module": "@jupyter-widgets/base",
          "model_name": "LayoutModel",
          "model_module_version": "1.2.0",
          "state": {
            "_view_name": "LayoutView",
            "grid_template_rows": null,
            "right": null,
            "justify_content": null,
            "_view_module": "@jupyter-widgets/base",
            "overflow": null,
            "_model_module_version": "1.2.0",
            "_view_count": null,
            "flex_flow": null,
            "width": null,
            "min_width": null,
            "border": null,
            "align_items": null,
            "bottom": null,
            "_model_module": "@jupyter-widgets/base",
            "top": null,
            "grid_column": null,
            "overflow_y": null,
            "overflow_x": null,
            "grid_auto_flow": null,
            "grid_area": null,
            "grid_template_columns": null,
            "flex": null,
            "_model_name": "LayoutModel",
            "justify_items": null,
            "grid_row": null,
            "max_height": null,
            "align_content": null,
            "visibility": null,
            "align_self": null,
            "height": null,
            "min_height": null,
            "padding": null,
            "grid_auto_rows": null,
            "grid_gap": null,
            "max_width": null,
            "order": null,
            "_view_module_version": "1.2.0",
            "grid_template_areas": null,
            "object_position": null,
            "object_fit": null,
            "grid_auto_columns": null,
            "margin": null,
            "display": null,
            "left": null
          }
        }
      }
    }
  },
  "nbformat": 4,
  "nbformat_minor": 5
}